{
 "cells": [
  {
   "cell_type": "code",
   "execution_count": 1,
   "id": "c65e2a13",
   "metadata": {},
   "outputs": [],
   "source": [
    "import os\n",
    "import pandas as pd\n",
    "import numpy as np\n",
    "import matplotlib.pyplot as plt\n",
    "import seaborn as sns\n",
    "import plotly.express as px\n",
    "import plotly.graph_objects as go "
   ]
  },
  {
   "cell_type": "code",
   "execution_count": 2,
   "id": "28f2117f",
   "metadata": {},
   "outputs": [],
   "source": [
    "# Dataset laden\n",
    "\n",
    "config_path = os.path.join(\"..\", \"data\", \"dogs-ranking-dataset.csv\")\n",
    "data = pd.read_csv(config_path)"
   ]
  },
  {
   "cell_type": "code",
   "execution_count": null,
   "id": "7c7cc2d1",
   "metadata": {},
   "outputs": [],
   "source": []
  }
 ],
 "metadata": {
  "kernelspec": {
   "display_name": "Python 3",
   "language": "python",
   "name": "python3"
  },
  "language_info": {
   "codemirror_mode": {
    "name": "ipython",
    "version": 3
   },
   "file_extension": ".py",
   "mimetype": "text/x-python",
   "name": "python",
   "nbconvert_exporter": "python",
   "pygments_lexer": "ipython3",
   "version": "3.13.2"
  }
 },
 "nbformat": 4,
 "nbformat_minor": 5
}
