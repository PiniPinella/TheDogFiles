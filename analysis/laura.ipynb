{
 "cells": [
  {
   "cell_type": "code",
   "execution_count": 72,
   "id": "4e5000d0",
   "metadata": {},
   "outputs": [],
   "source": [
    "import os\n",
    "import pandas as pd\n",
    "import numpy as np\n",
    "import matplotlib.pyplot as plt\n",
    "import seaborn as sns\n",
    "import plotly.express as px\n",
    "import plotly.graph_objects as go \n",
    "from IPython.display import HTML"
   ]
  },
  {
   "cell_type": "code",
   "execution_count": 73,
   "id": "9366ef35",
   "metadata": {},
   "outputs": [],
   "source": [
    "# Dataset laden\n",
    "\n",
    "config_path = os.path.join(\"..\", \"data\", \"final_dataset.csv\")\n",
    "data = pd.read_csv(config_path)"
   ]
  },
  {
   "cell_type": "code",
   "execution_count": 74,
   "id": "5fd11991",
   "metadata": {},
   "outputs": [
    {
     "data": {
      "text/html": [
       "<div>\n",
       "<style scoped>\n",
       "    .dataframe tbody tr th:only-of-type {\n",
       "        vertical-align: middle;\n",
       "    }\n",
       "\n",
       "    .dataframe tbody tr th {\n",
       "        vertical-align: top;\n",
       "    }\n",
       "\n",
       "    .dataframe thead th {\n",
       "        text-align: right;\n",
       "    }\n",
       "</style>\n",
       "<table border=\"1\" class=\"dataframe\">\n",
       "  <thead>\n",
       "    <tr style=\"text-align: right;\">\n",
       "      <th></th>\n",
       "      <th>Breed</th>\n",
       "      <th>type</th>\n",
       "      <th>score</th>\n",
       "      <th>popularity ranking</th>\n",
       "      <th>size</th>\n",
       "      <th>intelligence</th>\n",
       "      <th>congential ailments</th>\n",
       "      <th>score for kids</th>\n",
       "      <th>size.1</th>\n",
       "      <th>$LIFETIME COST</th>\n",
       "      <th>...</th>\n",
       "      <th>LONGEVITY(YEARS)</th>\n",
       "      <th>NUMBER OF GENETIC AILMENTS</th>\n",
       "      <th>GENETIC AILMENTS</th>\n",
       "      <th>PURCHASE PRICE</th>\n",
       "      <th>FOOD COSTS PER YEAR</th>\n",
       "      <th>GROOMING FREQUNCY</th>\n",
       "      <th>SUITABILITY FOR CHILDREN</th>\n",
       "      <th>origin_de</th>\n",
       "      <th>Breed_de</th>\n",
       "      <th>type_de</th>\n",
       "    </tr>\n",
       "  </thead>\n",
       "  <tbody>\n",
       "    <tr>\n",
       "      <th>0</th>\n",
       "      <td>Border Terrier</td>\n",
       "      <td>terrier</td>\n",
       "      <td>3.61</td>\n",
       "      <td>61</td>\n",
       "      <td>1</td>\n",
       "      <td>Above average</td>\n",
       "      <td>none</td>\n",
       "      <td>4.99</td>\n",
       "      <td>small</td>\n",
       "      <td>22638.0</td>\n",
       "      <td>...</td>\n",
       "      <td>14.00</td>\n",
       "      <td>0</td>\n",
       "      <td>none</td>\n",
       "      <td>833.0</td>\n",
       "      <td>324.0</td>\n",
       "      <td>Once a week</td>\n",
       "      <td>1</td>\n",
       "      <td>Vereinigtes Königreich</td>\n",
       "      <td>Border Terrier</td>\n",
       "      <td>Terrier</td>\n",
       "    </tr>\n",
       "    <tr>\n",
       "      <th>1</th>\n",
       "      <td>Cairn Terrier</td>\n",
       "      <td>terrier</td>\n",
       "      <td>3.53</td>\n",
       "      <td>48</td>\n",
       "      <td>1</td>\n",
       "      <td>Above average</td>\n",
       "      <td>'lion jaw', heart problems</td>\n",
       "      <td>4.91</td>\n",
       "      <td>small</td>\n",
       "      <td>21992.0</td>\n",
       "      <td>...</td>\n",
       "      <td>13.84</td>\n",
       "      <td>2</td>\n",
       "      <td>'lion jaw', heart problems</td>\n",
       "      <td>435.0</td>\n",
       "      <td>324.0</td>\n",
       "      <td>Once a week</td>\n",
       "      <td>1</td>\n",
       "      <td>Schottland</td>\n",
       "      <td>Cairn Terrier</td>\n",
       "      <td>Terrier</td>\n",
       "    </tr>\n",
       "    <tr>\n",
       "      <th>2</th>\n",
       "      <td>Siberian Husky</td>\n",
       "      <td>working</td>\n",
       "      <td>3.22</td>\n",
       "      <td>16</td>\n",
       "      <td>2</td>\n",
       "      <td>Average</td>\n",
       "      <td>none</td>\n",
       "      <td>4.72</td>\n",
       "      <td>medium</td>\n",
       "      <td>22049.0</td>\n",
       "      <td>...</td>\n",
       "      <td>12.58</td>\n",
       "      <td>0</td>\n",
       "      <td>none</td>\n",
       "      <td>650.0</td>\n",
       "      <td>466.0</td>\n",
       "      <td>Once in a few weeks</td>\n",
       "      <td>1</td>\n",
       "      <td>Sibirien</td>\n",
       "      <td>Sibirischer Husky</td>\n",
       "      <td>Gebrauchshund</td>\n",
       "    </tr>\n",
       "    <tr>\n",
       "      <th>3</th>\n",
       "      <td>Welsh Springer Spaniel</td>\n",
       "      <td>sporting</td>\n",
       "      <td>3.34</td>\n",
       "      <td>81</td>\n",
       "      <td>2</td>\n",
       "      <td>Above average</td>\n",
       "      <td>hip problems</td>\n",
       "      <td>4.71</td>\n",
       "      <td>medium</td>\n",
       "      <td>20224.0</td>\n",
       "      <td>...</td>\n",
       "      <td>12.49</td>\n",
       "      <td>1</td>\n",
       "      <td>hip problems</td>\n",
       "      <td>750.0</td>\n",
       "      <td>324.0</td>\n",
       "      <td>Once a week</td>\n",
       "      <td>1</td>\n",
       "      <td>Wales</td>\n",
       "      <td>Walisischer Springer Spaniel</td>\n",
       "      <td>Jagdhund</td>\n",
       "    </tr>\n",
       "    <tr>\n",
       "      <th>4</th>\n",
       "      <td>English Cocker Spaniel</td>\n",
       "      <td>sporting</td>\n",
       "      <td>3.33</td>\n",
       "      <td>51</td>\n",
       "      <td>2</td>\n",
       "      <td>Excellent</td>\n",
       "      <td>none</td>\n",
       "      <td>4.70</td>\n",
       "      <td>medium</td>\n",
       "      <td>18993.0</td>\n",
       "      <td>...</td>\n",
       "      <td>11.66</td>\n",
       "      <td>0</td>\n",
       "      <td>none</td>\n",
       "      <td>800.0</td>\n",
       "      <td>324.0</td>\n",
       "      <td>Once a week</td>\n",
       "      <td>1</td>\n",
       "      <td>England</td>\n",
       "      <td>Englischer Cocker Spaniel</td>\n",
       "      <td>Jagdhund</td>\n",
       "    </tr>\n",
       "  </tbody>\n",
       "</table>\n",
       "<p>5 rows × 22 columns</p>\n",
       "</div>"
      ],
      "text/plain": [
       "                    Breed      type  score  popularity ranking  size  \\\n",
       "0          Border Terrier   terrier   3.61                  61     1   \n",
       "1           Cairn Terrier   terrier   3.53                  48     1   \n",
       "2          Siberian Husky   working   3.22                  16     2   \n",
       "3  Welsh Springer Spaniel  sporting   3.34                  81     2   \n",
       "4  English Cocker Spaniel  sporting   3.33                  51     2   \n",
       "\n",
       "    intelligence           congential ailments  score for kids  size.1  \\\n",
       "0  Above average                          none            4.99   small   \n",
       "1  Above average  'lion jaw', heart problems              4.91   small   \n",
       "2        Average                          none            4.72  medium   \n",
       "3  Above average                  hip problems            4.71  medium   \n",
       "4      Excellent                          none            4.70  medium   \n",
       "\n",
       "   $LIFETIME COST  ...  LONGEVITY(YEARS) NUMBER OF GENETIC AILMENTS  \\\n",
       "0         22638.0  ...             14.00                          0   \n",
       "1         21992.0  ...             13.84                          2   \n",
       "2         22049.0  ...             12.58                          0   \n",
       "3         20224.0  ...             12.49                          1   \n",
       "4         18993.0  ...             11.66                          0   \n",
       "\n",
       "               GENETIC AILMENTS  PURCHASE PRICE FOOD COSTS PER YEAR  \\\n",
       "0                          none           833.0               324.0   \n",
       "1  'lion jaw', heart problems             435.0               324.0   \n",
       "2                          none           650.0               466.0   \n",
       "3                  hip problems           750.0               324.0   \n",
       "4                          none           800.0               324.0   \n",
       "\n",
       "     GROOMING FREQUNCY  SUITABILITY FOR CHILDREN               origin_de  \\\n",
       "0          Once a week                         1  Vereinigtes Königreich   \n",
       "1          Once a week                         1              Schottland   \n",
       "2  Once in a few weeks                         1                Sibirien   \n",
       "3          Once a week                         1                   Wales   \n",
       "4          Once a week                         1                 England   \n",
       "\n",
       "                       Breed_de        type_de  \n",
       "0                Border Terrier        Terrier  \n",
       "1                 Cairn Terrier        Terrier  \n",
       "2             Sibirischer Husky  Gebrauchshund  \n",
       "3  Walisischer Springer Spaniel       Jagdhund  \n",
       "4     Englischer Cocker Spaniel       Jagdhund  \n",
       "\n",
       "[5 rows x 22 columns]"
      ]
     },
     "execution_count": 74,
     "metadata": {},
     "output_type": "execute_result"
    }
   ],
   "source": [
    "data.head()"
   ]
  },
  {
   "cell_type": "markdown",
   "id": "ecc983a5",
   "metadata": {},
   "source": [
    "# Lebenserwartung vs Popularität"
   ]
  },
  {
   "cell_type": "code",
   "execution_count": 75,
   "id": "e5fb4c27",
   "metadata": {},
   "outputs": [
    {
     "name": "stdout",
     "output_type": "stream",
     "text": [
      "Korrelation: 0.060, Bestimmtheitsmaß 0.003575555568841845\n"
     ]
    }
   ],
   "source": [
    "correlation = data['LONGEVITY(YEARS)'].corr(data['popularity ranking'])\n",
    "bestimmtheit = correlation**2\n",
    "print(f\"Korrelation: {correlation:.3f}, Bestimmtheitsmaß {bestimmtheit}\")"
   ]
  },
  {
   "cell_type": "code",
   "execution_count": 76,
   "id": "62e19848",
   "metadata": {},
   "outputs": [
    {
     "data": {
      "application/vnd.plotly.v1+json": {
       "config": {
        "plotlyServerURL": "https://plot.ly"
       },
       "data": [
        {
         "hovertemplate": "<b>%{hovertext}</b><br><br>Lebenserwartung (Jahre)=%{x}<br>Popularitäts-Ranking (Platz 1-87)=%{marker.color}<extra></extra>",
         "hovertext": [
          "Border Terrier",
          "Cairn Terrier",
          "Sibirischer Husky",
          "Walisischer Springer Spaniel",
          "Englischer Cocker Spaniel",
          "Cocker Spaniel",
          "Lhasa Apso",
          "Englischer Springer Spaniel",
          "Shetland Sheepdog",
          "West Highland White Terrier",
          "Epagneul Breton",
          "Deutsch Kurzhaar",
          "Pointer",
          "Tibetspaniel",
          "Labrador Retriever",
          "Bichon Frisé",
          "Irischer Setter",
          "Samojede",
          "Shih Tzu",
          "Golden Retriever",
          "Chesapeake Bay Retriever",
          "Papillon",
          "Gordon Setter",
          "Englischer Setter",
          "Mops",
          "Affenpinscher",
          "Zwergschnauzer",
          "Beagle",
          "Border Collie",
          "Australischer Terrier",
          "Whippet",
          "Boston Terrier",
          "Briard",
          "Bedlington Terrier",
          "Cavalier King Charles Spaniel",
          "Dalmatiner",
          "Flat-Coated Retriever",
          "Belgischer Schäferhund (Tervueren)",
          "Basset Hound",
          "Pudel",
          "Staffordshire Bullterrier",
          "Flandrischer Treibhund",
          "Pembroke Welsh Corgi",
          "Clumber Spaniel",
          "Zwergspitz (Pomeranian)",
          "Australian Shepherd",
          "Pharaonenhund",
          "Dandie Dinmont Terrier",
          "Greyhound",
          "Saluki",
          "Australischer Treibhund",
          "Tibet Terrier",
          "Norfolk Terrier",
          "Dackel (Teckel)",
          "Chihuahua",
          "Dobermann",
          "Englischer Toy Spaniel",
          "Neufundländer",
          "Basenji",
          "Afghanischer Windhund",
          "Bobtail",
          "Französische Bulldogge",
          "Berner Sennenhund",
          "Boxer",
          "Brüsseler Griffon",
          "Malteser",
          "Riesenschnauzer",
          "Rottweiler",
          "Yorkshire Terrier",
          "Irischer Wolfshund",
          "Scottish Terrier",
          "Bullmastiff",
          "Deutscher Schäferhund",
          "Mastiff",
          "Deutsche Dogge",
          "Kerry Blue Terrier",
          "Italienisches Windspiel",
          "Pekinese",
          "Rhodesian Ridgeback",
          "Bullterrier",
          "Bernhardiner",
          "Russischer Windhund (Borzoi)",
          "Alaskan Malamute",
          "Bluthund",
          "Chow-Chow",
          "Akita",
          "Englische Bulldogge"
         ],
         "legendgroup": "",
         "marker": {
          "color": {
           "bdata": "PTAQUTMbMh0UIB4PSkkBIjg3CwQoIUVBGlQMAydNLhZPUxU5Q0gkCDo+GVIRGFZXVUsxQEwJDg1QJURCPxIfBzsXRgoFPC0jAhwTTjU0JiwrRy8qNikG",
           "dtype": "i1"
          },
          "coloraxis": "coloraxis",
          "line": {
           "color": "white",
           "width": 1
          },
          "size": 10,
          "symbol": "circle"
         },
         "mode": "markers",
         "name": "",
         "orientation": "v",
         "showlegend": false,
         "type": "scatter",
         "x": {
          "bdata": "AAAAAAAALECuR+F6FK4rQClcj8L1KClAexSuR+H6KEBSuB6F61EnQAAAAAAAAClA16NwPQrXK0AUrkfhehQpQI/C9ShcDylAmpmZmZmZKUDXo3A9CtcpQOxRuB6F6yZA16NwPQrXKEDXo3A9CtcsQBSuR+F6FChA7FG4HoVrKEDD9Shcj0InQOF6FK5H4ShAZmZmZmZmKkAUrkfhehQoQPYoXI/C9SJAAAAAAAAAKkAzMzMzMzMmQKRwPQrXIydAAAAAAAAAJkDXo3A9CtcmQB+F61G4nidAmpmZmZmZKEAK16NwPQopQJqZmZmZGSZAPQrXo3C9KUDXo3A9CtclQNejcD0KVyZAhetRuB4FK0AUrkfhepQmQArXo3A9iiZACtejcD0KIkAzMzMzMzMlQFyPwvUo3CZAZmZmZmbmJ0CamZmZmRkoQK5H4XoUriRAAAAAAACAKEAAAAAAAAAkQNejcD0KVyNAj8L1KFyPKEApXI/C9agnQNejcD0KVyhAuB6F61G4IkAAAAAAAAAoQNejcD0KVydAH4XrUbieKECkcD0K1yMqQMP1KFyPQilAAAAAAACAMEApXI/C9agkQDMzMzMzMyRApHA9CtejIkApXI/C9SgrQNejcD0K1ydA4XoUrkdhJkAAAAAAAAAiQD0K16NwPR5AH4XrUbieIUAAAAAAAAAoQAAAAAAAgChAAAAAAAAAJEC4HoXrUTgiQDMzMzMzMylAw/UoXI/CG0DhehSuR2ElQEjhehSuRx5A9ihcj8J1I0AAAAAAAAAaQNejcD0K1xtAzczMzMzMIkAK16NwPQokQB+F61G4HidAMzMzMzMzIkDsUbgehWskQB+F61G4Hh9AKVyPwvUoIkDXo3A9ClclQAAAAAAAABtAhetRuB4FIkBSuB6F61EkQClcj8L1KBlA",
          "dtype": "f8"
         },
         "xaxis": "x",
         "y": {
          "bdata": "PTAQUTMbMh0UIB4PSkkBIjg3CwQoIUVBGlQMAydNLhZPUxU5Q0gkCDo+GVIRGFZXVUsxQEwJDg1QJURCPxIfBzsXRgoFPC0jAhwTTjU0JiwrRy8qNikG",
          "dtype": "i1"
         },
         "yaxis": "y"
        }
       ],
       "layout": {
        "annotations": [
         {
          "align": "right",
          "bgcolor": "rgba(255,255,255,0.8)",
          "bordercolor": "#2c3272",
          "borderwidth": 1,
          "font": {
           "color": "#2c3272",
           "family": "Trebuchet MS",
           "size": 14
          },
          "showarrow": false,
          "text": "Korrelation: 0.0598<br>Bestimmtheitsmaß: 0.0036",
          "x": 1,
          "xanchor": "right",
          "xref": "paper",
          "y": 0.02,
          "yanchor": "bottom",
          "yref": "paper"
         }
        ],
        "coloraxis": {
         "colorbar": {
          "title": {
           "text": "Popularitäts-Ranking (Platz 1-87)"
          }
         },
         "colorscale": [
          [
           0,
           "#0d0887"
          ],
          [
           0.1111111111111111,
           "#46039f"
          ],
          [
           0.2222222222222222,
           "#7201a8"
          ],
          [
           0.3333333333333333,
           "#9c179e"
          ],
          [
           0.4444444444444444,
           "#bd3786"
          ],
          [
           0.5555555555555556,
           "#d8576b"
          ],
          [
           0.6666666666666666,
           "#ed7953"
          ],
          [
           0.7777777777777778,
           "#fb9f3a"
          ],
          [
           0.8888888888888888,
           "#fdca26"
          ],
          [
           1,
           "#f0f921"
          ]
         ],
         "showscale": false
        },
        "legend": {
         "tracegroupgap": 0
        },
        "template": {
         "data": {
          "bar": [
           {
            "error_x": {
             "color": "#f2f5fa"
            },
            "error_y": {
             "color": "#f2f5fa"
            },
            "marker": {
             "line": {
              "color": "rgb(17,17,17)",
              "width": 0.5
             },
             "pattern": {
              "fillmode": "overlay",
              "size": 10,
              "solidity": 0.2
             }
            },
            "type": "bar"
           }
          ],
          "barpolar": [
           {
            "marker": {
             "line": {
              "color": "rgb(17,17,17)",
              "width": 0.5
             },
             "pattern": {
              "fillmode": "overlay",
              "size": 10,
              "solidity": 0.2
             }
            },
            "type": "barpolar"
           }
          ],
          "carpet": [
           {
            "aaxis": {
             "endlinecolor": "#A2B1C6",
             "gridcolor": "#506784",
             "linecolor": "#506784",
             "minorgridcolor": "#506784",
             "startlinecolor": "#A2B1C6"
            },
            "baxis": {
             "endlinecolor": "#A2B1C6",
             "gridcolor": "#506784",
             "linecolor": "#506784",
             "minorgridcolor": "#506784",
             "startlinecolor": "#A2B1C6"
            },
            "type": "carpet"
           }
          ],
          "choropleth": [
           {
            "colorbar": {
             "outlinewidth": 0,
             "ticks": ""
            },
            "type": "choropleth"
           }
          ],
          "contour": [
           {
            "colorbar": {
             "outlinewidth": 0,
             "ticks": ""
            },
            "colorscale": [
             [
              0,
              "#0d0887"
             ],
             [
              0.1111111111111111,
              "#46039f"
             ],
             [
              0.2222222222222222,
              "#7201a8"
             ],
             [
              0.3333333333333333,
              "#9c179e"
             ],
             [
              0.4444444444444444,
              "#bd3786"
             ],
             [
              0.5555555555555556,
              "#d8576b"
             ],
             [
              0.6666666666666666,
              "#ed7953"
             ],
             [
              0.7777777777777778,
              "#fb9f3a"
             ],
             [
              0.8888888888888888,
              "#fdca26"
             ],
             [
              1,
              "#f0f921"
             ]
            ],
            "type": "contour"
           }
          ],
          "contourcarpet": [
           {
            "colorbar": {
             "outlinewidth": 0,
             "ticks": ""
            },
            "type": "contourcarpet"
           }
          ],
          "heatmap": [
           {
            "colorbar": {
             "outlinewidth": 0,
             "ticks": ""
            },
            "colorscale": [
             [
              0,
              "#0d0887"
             ],
             [
              0.1111111111111111,
              "#46039f"
             ],
             [
              0.2222222222222222,
              "#7201a8"
             ],
             [
              0.3333333333333333,
              "#9c179e"
             ],
             [
              0.4444444444444444,
              "#bd3786"
             ],
             [
              0.5555555555555556,
              "#d8576b"
             ],
             [
              0.6666666666666666,
              "#ed7953"
             ],
             [
              0.7777777777777778,
              "#fb9f3a"
             ],
             [
              0.8888888888888888,
              "#fdca26"
             ],
             [
              1,
              "#f0f921"
             ]
            ],
            "type": "heatmap"
           }
          ],
          "histogram": [
           {
            "marker": {
             "pattern": {
              "fillmode": "overlay",
              "size": 10,
              "solidity": 0.2
             }
            },
            "type": "histogram"
           }
          ],
          "histogram2d": [
           {
            "colorbar": {
             "outlinewidth": 0,
             "ticks": ""
            },
            "colorscale": [
             [
              0,
              "#0d0887"
             ],
             [
              0.1111111111111111,
              "#46039f"
             ],
             [
              0.2222222222222222,
              "#7201a8"
             ],
             [
              0.3333333333333333,
              "#9c179e"
             ],
             [
              0.4444444444444444,
              "#bd3786"
             ],
             [
              0.5555555555555556,
              "#d8576b"
             ],
             [
              0.6666666666666666,
              "#ed7953"
             ],
             [
              0.7777777777777778,
              "#fb9f3a"
             ],
             [
              0.8888888888888888,
              "#fdca26"
             ],
             [
              1,
              "#f0f921"
             ]
            ],
            "type": "histogram2d"
           }
          ],
          "histogram2dcontour": [
           {
            "colorbar": {
             "outlinewidth": 0,
             "ticks": ""
            },
            "colorscale": [
             [
              0,
              "#0d0887"
             ],
             [
              0.1111111111111111,
              "#46039f"
             ],
             [
              0.2222222222222222,
              "#7201a8"
             ],
             [
              0.3333333333333333,
              "#9c179e"
             ],
             [
              0.4444444444444444,
              "#bd3786"
             ],
             [
              0.5555555555555556,
              "#d8576b"
             ],
             [
              0.6666666666666666,
              "#ed7953"
             ],
             [
              0.7777777777777778,
              "#fb9f3a"
             ],
             [
              0.8888888888888888,
              "#fdca26"
             ],
             [
              1,
              "#f0f921"
             ]
            ],
            "type": "histogram2dcontour"
           }
          ],
          "mesh3d": [
           {
            "colorbar": {
             "outlinewidth": 0,
             "ticks": ""
            },
            "type": "mesh3d"
           }
          ],
          "parcoords": [
           {
            "line": {
             "colorbar": {
              "outlinewidth": 0,
              "ticks": ""
             }
            },
            "type": "parcoords"
           }
          ],
          "pie": [
           {
            "automargin": true,
            "type": "pie"
           }
          ],
          "scatter": [
           {
            "marker": {
             "line": {
              "color": "#283442"
             }
            },
            "type": "scatter"
           }
          ],
          "scatter3d": [
           {
            "line": {
             "colorbar": {
              "outlinewidth": 0,
              "ticks": ""
             }
            },
            "marker": {
             "colorbar": {
              "outlinewidth": 0,
              "ticks": ""
             }
            },
            "type": "scatter3d"
           }
          ],
          "scattercarpet": [
           {
            "marker": {
             "colorbar": {
              "outlinewidth": 0,
              "ticks": ""
             }
            },
            "type": "scattercarpet"
           }
          ],
          "scattergeo": [
           {
            "marker": {
             "colorbar": {
              "outlinewidth": 0,
              "ticks": ""
             }
            },
            "type": "scattergeo"
           }
          ],
          "scattergl": [
           {
            "marker": {
             "line": {
              "color": "#283442"
             }
            },
            "type": "scattergl"
           }
          ],
          "scattermap": [
           {
            "marker": {
             "colorbar": {
              "outlinewidth": 0,
              "ticks": ""
             }
            },
            "type": "scattermap"
           }
          ],
          "scattermapbox": [
           {
            "marker": {
             "colorbar": {
              "outlinewidth": 0,
              "ticks": ""
             }
            },
            "type": "scattermapbox"
           }
          ],
          "scatterpolar": [
           {
            "marker": {
             "colorbar": {
              "outlinewidth": 0,
              "ticks": ""
             }
            },
            "type": "scatterpolar"
           }
          ],
          "scatterpolargl": [
           {
            "marker": {
             "colorbar": {
              "outlinewidth": 0,
              "ticks": ""
             }
            },
            "type": "scatterpolargl"
           }
          ],
          "scatterternary": [
           {
            "marker": {
             "colorbar": {
              "outlinewidth": 0,
              "ticks": ""
             }
            },
            "type": "scatterternary"
           }
          ],
          "surface": [
           {
            "colorbar": {
             "outlinewidth": 0,
             "ticks": ""
            },
            "colorscale": [
             [
              0,
              "#0d0887"
             ],
             [
              0.1111111111111111,
              "#46039f"
             ],
             [
              0.2222222222222222,
              "#7201a8"
             ],
             [
              0.3333333333333333,
              "#9c179e"
             ],
             [
              0.4444444444444444,
              "#bd3786"
             ],
             [
              0.5555555555555556,
              "#d8576b"
             ],
             [
              0.6666666666666666,
              "#ed7953"
             ],
             [
              0.7777777777777778,
              "#fb9f3a"
             ],
             [
              0.8888888888888888,
              "#fdca26"
             ],
             [
              1,
              "#f0f921"
             ]
            ],
            "type": "surface"
           }
          ],
          "table": [
           {
            "cells": {
             "fill": {
              "color": "#506784"
             },
             "line": {
              "color": "rgb(17,17,17)"
             }
            },
            "header": {
             "fill": {
              "color": "#2a3f5f"
             },
             "line": {
              "color": "rgb(17,17,17)"
             }
            },
            "type": "table"
           }
          ]
         },
         "layout": {
          "annotationdefaults": {
           "arrowcolor": "#f2f5fa",
           "arrowhead": 0,
           "arrowwidth": 1
          },
          "autotypenumbers": "strict",
          "coloraxis": {
           "colorbar": {
            "outlinewidth": 0,
            "ticks": ""
           }
          },
          "colorscale": {
           "diverging": [
            [
             0,
             "#8e0152"
            ],
            [
             0.1,
             "#c51b7d"
            ],
            [
             0.2,
             "#de77ae"
            ],
            [
             0.3,
             "#f1b6da"
            ],
            [
             0.4,
             "#fde0ef"
            ],
            [
             0.5,
             "#f7f7f7"
            ],
            [
             0.6,
             "#e6f5d0"
            ],
            [
             0.7,
             "#b8e186"
            ],
            [
             0.8,
             "#7fbc41"
            ],
            [
             0.9,
             "#4d9221"
            ],
            [
             1,
             "#276419"
            ]
           ],
           "sequential": [
            [
             0,
             "#0d0887"
            ],
            [
             0.1111111111111111,
             "#46039f"
            ],
            [
             0.2222222222222222,
             "#7201a8"
            ],
            [
             0.3333333333333333,
             "#9c179e"
            ],
            [
             0.4444444444444444,
             "#bd3786"
            ],
            [
             0.5555555555555556,
             "#d8576b"
            ],
            [
             0.6666666666666666,
             "#ed7953"
            ],
            [
             0.7777777777777778,
             "#fb9f3a"
            ],
            [
             0.8888888888888888,
             "#fdca26"
            ],
            [
             1,
             "#f0f921"
            ]
           ],
           "sequentialminus": [
            [
             0,
             "#0d0887"
            ],
            [
             0.1111111111111111,
             "#46039f"
            ],
            [
             0.2222222222222222,
             "#7201a8"
            ],
            [
             0.3333333333333333,
             "#9c179e"
            ],
            [
             0.4444444444444444,
             "#bd3786"
            ],
            [
             0.5555555555555556,
             "#d8576b"
            ],
            [
             0.6666666666666666,
             "#ed7953"
            ],
            [
             0.7777777777777778,
             "#fb9f3a"
            ],
            [
             0.8888888888888888,
             "#fdca26"
            ],
            [
             1,
             "#f0f921"
            ]
           ]
          },
          "colorway": [
           "#636efa",
           "#EF553B",
           "#00cc96",
           "#ab63fa",
           "#FFA15A",
           "#19d3f3",
           "#FF6692",
           "#B6E880",
           "#FF97FF",
           "#FECB52"
          ],
          "font": {
           "color": "#f2f5fa"
          },
          "geo": {
           "bgcolor": "rgb(17,17,17)",
           "lakecolor": "rgb(17,17,17)",
           "landcolor": "rgb(17,17,17)",
           "showlakes": true,
           "showland": true,
           "subunitcolor": "#506784"
          },
          "hoverlabel": {
           "align": "left"
          },
          "hovermode": "closest",
          "mapbox": {
           "style": "dark"
          },
          "paper_bgcolor": "rgb(17,17,17)",
          "plot_bgcolor": "rgb(17,17,17)",
          "polar": {
           "angularaxis": {
            "gridcolor": "#506784",
            "linecolor": "#506784",
            "ticks": ""
           },
           "bgcolor": "rgb(17,17,17)",
           "radialaxis": {
            "gridcolor": "#506784",
            "linecolor": "#506784",
            "ticks": ""
           }
          },
          "scene": {
           "xaxis": {
            "backgroundcolor": "rgb(17,17,17)",
            "gridcolor": "#506784",
            "gridwidth": 2,
            "linecolor": "#506784",
            "showbackground": true,
            "ticks": "",
            "zerolinecolor": "#C8D4E3"
           },
           "yaxis": {
            "backgroundcolor": "rgb(17,17,17)",
            "gridcolor": "#506784",
            "gridwidth": 2,
            "linecolor": "#506784",
            "showbackground": true,
            "ticks": "",
            "zerolinecolor": "#C8D4E3"
           },
           "zaxis": {
            "backgroundcolor": "rgb(17,17,17)",
            "gridcolor": "#506784",
            "gridwidth": 2,
            "linecolor": "#506784",
            "showbackground": true,
            "ticks": "",
            "zerolinecolor": "#C8D4E3"
           }
          },
          "shapedefaults": {
           "line": {
            "color": "#f2f5fa"
           }
          },
          "sliderdefaults": {
           "bgcolor": "#C8D4E3",
           "bordercolor": "rgb(17,17,17)",
           "borderwidth": 1,
           "tickwidth": 0
          },
          "ternary": {
           "aaxis": {
            "gridcolor": "#506784",
            "linecolor": "#506784",
            "ticks": ""
           },
           "baxis": {
            "gridcolor": "#506784",
            "linecolor": "#506784",
            "ticks": ""
           },
           "bgcolor": "rgb(17,17,17)",
           "caxis": {
            "gridcolor": "#506784",
            "linecolor": "#506784",
            "ticks": ""
           }
          },
          "title": {
           "x": 0.05
          },
          "updatemenudefaults": {
           "bgcolor": "#506784",
           "borderwidth": 0
          },
          "xaxis": {
           "automargin": true,
           "gridcolor": "#283442",
           "linecolor": "#506784",
           "ticks": "",
           "title": {
            "standoff": 15
           },
           "zerolinecolor": "#283442",
           "zerolinewidth": 2
          },
          "yaxis": {
           "automargin": true,
           "gridcolor": "#283442",
           "linecolor": "#506784",
           "ticks": "",
           "title": {
            "standoff": 15
           },
           "zerolinecolor": "#283442",
           "zerolinewidth": 2
          }
         }
        },
        "title": {
         "font": {
          "size": 24
         },
         "text": "Zusammenhang von Lebenserwartung und Popularität",
         "x": 0.5,
         "xanchor": "center"
        },
        "xaxis": {
         "anchor": "y",
         "domain": [
          0,
          1
         ],
         "dtick": 1,
         "range": [
          5,
          17
         ],
         "tickmode": "linear",
         "title": {
          "text": "Lebenserwartung (Jahre)"
         }
        },
        "yaxis": {
         "anchor": "x",
         "autorange": "reversed",
         "domain": [
          0,
          1
         ],
         "dtick": 10,
         "tickmode": "array",
         "tickvals": [
          1,
          10,
          20,
          30,
          40,
          50,
          60,
          70,
          80
         ],
         "title": {
          "text": "Popularitäts-Ranking (Platz 1-87)"
         }
        }
       }
      }
     },
     "metadata": {},
     "output_type": "display_data"
    }
   ],
   "source": [
    "fig = px.scatter(\n",
    "    data,\n",
    "    x='LONGEVITY(YEARS)',\n",
    "    y='popularity ranking',\n",
    "    hover_name='Breed_de',\n",
    "    labels={\"LONGEVITY(YEARS)\": \"Lebenserwartung (Jahre)\", \"popularity ranking\": \"Popularitäts-Ranking (Platz 1-87)\"},\n",
    "    title='Zusammenhang von Lebenserwartung und Popularität',\n",
    "    color='popularity ranking',\n",
    "    template=\"plotly_dark\",\n",
    ")\n",
    "\n",
    "fig.update_layout(\n",
    "    title_x=0.5,\n",
    "    title_xanchor='center',\n",
    "    title_font_size=24 \n",
    ")\n",
    "\n",
    "# Weiße Umrandung um die Marker\n",
    "fig.update_traces(\n",
    "    marker=dict(\n",
    "        size = 10,\n",
    "        line=dict(\n",
    "            width=1, \n",
    "            color= 'white'\n",
    "        )\n",
    "    )\n",
    ")\n",
    "\n",
    "\n",
    "fig.update_xaxes(\n",
    "    tickmode=\"linear\",\n",
    "    dtick=1,\n",
    "    range=[int(data[\"LONGEVITY(YEARS)\"].min()) - 1, int(data[\"LONGEVITY(YEARS)\"].max()) + 1],\n",
    ")\n",
    "\n",
    "fig.update_yaxes(\n",
    "    autorange='reversed',\n",
    "    tickmode='array',\n",
    "    dtick=10,\n",
    "    tickvals=[1, 10, 20, 30, 40, 50, 60, 70, 80]\n",
    ")\n",
    "\n",
    "fig.update_coloraxes(showscale=False)\n",
    "\n",
    "fig.add_annotation(\n",
    "    text=f\"Korrelation: {correlation:.4f}<br>Bestimmtheitsmaß: {bestimmtheit:.4f}\",\n",
    "    x=1.0,  # Position relativ zur Plot-Breite (0-1)\n",
    "    y=0.02,  # Position relativ zur Plot-Höhe (0-1)\n",
    "    xref=\"paper\",\n",
    "    yref=\"paper\",\n",
    "    showarrow=False,\n",
    "    font=dict(\n",
    "        family=\"Trebuchet MS\",\n",
    "        size=14,\n",
    "        color=\"#2c3272\"\n",
    "    ),\n",
    "    bgcolor=\"rgba(255,255,255,0.8)\",  # Halbtransparenter weißer Hintergrund\n",
    "    bordercolor=\"#2c3272\",\n",
    "    borderwidth=1,\n",
    "    align=\"right\",\n",
    "    xanchor=\"right\",  # Textbox wird rechts verankert\n",
    "    yanchor=\"bottom\"  # Textbox wird unten verankert\n",
    ")\n",
    "\n",
    "fig.show()\n",
    "\n",
    "#fig.write_html('age_ranking.html')"
   ]
  },
  {
   "cell_type": "markdown",
   "id": "470a1ca1",
   "metadata": {},
   "source": [
    "Lebenserwartung und Beliebtheit statistisch in einem schwachen Zusammenhang miteinander (±0.1-0.3 = schwacher Zusammenhang\n",
    "±0.3-0.5 = mittlerer Zusammenhang)"
   ]
  },
  {
   "cell_type": "markdown",
   "id": "7e5defa5",
   "metadata": {},
   "source": [
    "# Hundegruppe vs Popularität"
   ]
  },
  {
   "cell_type": "code",
   "execution_count": 77,
   "id": "ad54b674",
   "metadata": {},
   "outputs": [
    {
     "data": {
      "application/vnd.plotly.v1+json": {
       "config": {
        "plotlyServerURL": "https://plot.ly"
       },
       "data": [
        {
         "hovertemplate": "<b>%{hovertext}</b><br><br>Hundegruppe=%{x}<br>Popularitäts-Ranking (Platz 1-87)=%{marker.color}<extra></extra>",
         "hovertext": [
          "Border Terrier",
          "Cairn Terrier",
          "Sibirischer Husky",
          "Walisischer Springer Spaniel",
          "Englischer Cocker Spaniel",
          "Cocker Spaniel",
          "Lhasa Apso",
          "Englischer Springer Spaniel",
          "Shetland Sheepdog",
          "West Highland White Terrier",
          "Epagneul Breton",
          "Deutsch Kurzhaar",
          "Pointer",
          "Tibetspaniel",
          "Labrador Retriever",
          "Bichon Frisé",
          "Irischer Setter",
          "Samojede",
          "Shih Tzu",
          "Golden Retriever",
          "Chesapeake Bay Retriever",
          "Papillon",
          "Gordon Setter",
          "Englischer Setter",
          "Mops",
          "Affenpinscher",
          "Zwergschnauzer",
          "Beagle",
          "Border Collie",
          "Australischer Terrier",
          "Whippet",
          "Boston Terrier",
          "Briard",
          "Bedlington Terrier",
          "Cavalier King Charles Spaniel",
          "Dalmatiner",
          "Flat-Coated Retriever",
          "Belgischer Schäferhund (Tervueren)",
          "Basset Hound",
          "Pudel",
          "Staffordshire Bullterrier",
          "Flandrischer Treibhund",
          "Pembroke Welsh Corgi",
          "Clumber Spaniel",
          "Zwergspitz (Pomeranian)",
          "Australian Shepherd",
          "Pharaonenhund",
          "Dandie Dinmont Terrier",
          "Greyhound",
          "Saluki",
          "Australischer Treibhund",
          "Tibet Terrier",
          "Norfolk Terrier",
          "Dackel (Teckel)",
          "Chihuahua",
          "Dobermann",
          "Englischer Toy Spaniel",
          "Neufundländer",
          "Basenji",
          "Afghanischer Windhund",
          "Bobtail",
          "Französische Bulldogge",
          "Berner Sennenhund",
          "Boxer",
          "Brüsseler Griffon",
          "Malteser",
          "Riesenschnauzer",
          "Rottweiler",
          "Yorkshire Terrier",
          "Irischer Wolfshund",
          "Scottish Terrier",
          "Bullmastiff",
          "Deutscher Schäferhund",
          "Mastiff",
          "Deutsche Dogge",
          "Kerry Blue Terrier",
          "Italienisches Windspiel",
          "Pekinese",
          "Rhodesian Ridgeback",
          "Bullterrier",
          "Bernhardiner",
          "Russischer Windhund (Borzoi)",
          "Alaskan Malamute",
          "Bluthund",
          "Chow-Chow",
          "Akita",
          "Englische Bulldogge"
         ],
         "legendgroup": "",
         "marker": {
          "color": {
           "bdata": "PTAQUTMbMh0UIB4PSkkBIjg3CwQoIUVBGlQMAydNLhZPUxU5Q0gkCDo+GVIRGFZXVUsxQEwJDg1QJURCPxIfBzsXRgoFPC0jAhwTTjU0JiwrRy8qNikG",
           "dtype": "i1"
          },
          "coloraxis": "coloraxis",
          "line": {
           "color": "white",
           "width": 1
          },
          "size": 10,
          "symbol": "circle"
         },
         "mode": "markers",
         "name": "",
         "orientation": "v",
         "showlegend": false,
         "type": "scatter",
         "x": [
          "Terrier",
          "Terrier",
          "Gebrauchshund",
          "Jagdhund",
          "Jagdhund",
          "Jagdhund",
          "Begleithund",
          "Jagdhund",
          "Hütehund",
          "Terrier",
          "Jagdhund",
          "Jagdhund",
          "Jagdhund",
          "Begleithund",
          "Jagdhund",
          "Begleithund",
          "Jagdhund",
          "Gebrauchshund",
          "Zwerghund",
          "Jagdhund",
          "Jagdhund",
          "Zwerghund",
          "Jagdhund",
          "Jagdhund",
          "Zwerghund",
          "Zwerghund",
          "Terrier",
          "Laufhund",
          "Hütehund",
          "Terrier",
          "Laufhund",
          "Begleithund",
          "Hütehund",
          "Terrier",
          "Zwerghund",
          "Begleithund",
          "Jagdhund",
          "Hütehund",
          "Laufhund",
          "Begleithund",
          "Terrier",
          "Hütehund",
          "Hütehund",
          "Jagdhund",
          "Zwerghund",
          "Hütehund",
          "Laufhund",
          "Terrier",
          "Laufhund",
          "Laufhund",
          "Hütehund",
          "Begleithund",
          "Terrier",
          "Laufhund",
          "Zwerghund",
          "Gebrauchshund",
          "Zwerghund",
          "Gebrauchshund",
          "Laufhund",
          "Laufhund",
          "Hütehund",
          "Begleithund",
          "Gebrauchshund",
          "Gebrauchshund",
          "Zwerghund",
          "Zwerghund",
          "Gebrauchshund",
          "Gebrauchshund",
          "Zwerghund",
          "Laufhund",
          "Terrier",
          "Gebrauchshund",
          "Hütehund",
          "Gebrauchshund",
          "Gebrauchshund",
          "Terrier",
          "Zwerghund",
          "Zwerghund",
          "Laufhund",
          "Terrier",
          "Gebrauchshund",
          "Laufhund",
          "Gebrauchshund",
          "Laufhund",
          "Begleithund",
          "Gebrauchshund",
          "Begleithund"
         ],
         "xaxis": "x",
         "y": {
          "bdata": "PTAQUTMbMh0UIB4PSkkBIjg3CwQoIUVBGlQMAydNLhZPUxU5Q0gkCDo+GVIRGFZXVUsxQEwJDg1QJURCPxIfBzsXRgoFPC0jAhwTTjU0JiwrRy8qNikG",
          "dtype": "i1"
         },
         "yaxis": "y"
        }
       ],
       "layout": {
        "coloraxis": {
         "colorbar": {
          "title": {
           "text": "Popularitäts-Ranking (Platz 1-87)"
          }
         },
         "colorscale": [
          [
           0,
           "#0d0887"
          ],
          [
           0.1111111111111111,
           "#46039f"
          ],
          [
           0.2222222222222222,
           "#7201a8"
          ],
          [
           0.3333333333333333,
           "#9c179e"
          ],
          [
           0.4444444444444444,
           "#bd3786"
          ],
          [
           0.5555555555555556,
           "#d8576b"
          ],
          [
           0.6666666666666666,
           "#ed7953"
          ],
          [
           0.7777777777777778,
           "#fb9f3a"
          ],
          [
           0.8888888888888888,
           "#fdca26"
          ],
          [
           1,
           "#f0f921"
          ]
         ],
         "showscale": false
        },
        "legend": {
         "tracegroupgap": 0
        },
        "template": {
         "data": {
          "bar": [
           {
            "error_x": {
             "color": "#f2f5fa"
            },
            "error_y": {
             "color": "#f2f5fa"
            },
            "marker": {
             "line": {
              "color": "rgb(17,17,17)",
              "width": 0.5
             },
             "pattern": {
              "fillmode": "overlay",
              "size": 10,
              "solidity": 0.2
             }
            },
            "type": "bar"
           }
          ],
          "barpolar": [
           {
            "marker": {
             "line": {
              "color": "rgb(17,17,17)",
              "width": 0.5
             },
             "pattern": {
              "fillmode": "overlay",
              "size": 10,
              "solidity": 0.2
             }
            },
            "type": "barpolar"
           }
          ],
          "carpet": [
           {
            "aaxis": {
             "endlinecolor": "#A2B1C6",
             "gridcolor": "#506784",
             "linecolor": "#506784",
             "minorgridcolor": "#506784",
             "startlinecolor": "#A2B1C6"
            },
            "baxis": {
             "endlinecolor": "#A2B1C6",
             "gridcolor": "#506784",
             "linecolor": "#506784",
             "minorgridcolor": "#506784",
             "startlinecolor": "#A2B1C6"
            },
            "type": "carpet"
           }
          ],
          "choropleth": [
           {
            "colorbar": {
             "outlinewidth": 0,
             "ticks": ""
            },
            "type": "choropleth"
           }
          ],
          "contour": [
           {
            "colorbar": {
             "outlinewidth": 0,
             "ticks": ""
            },
            "colorscale": [
             [
              0,
              "#0d0887"
             ],
             [
              0.1111111111111111,
              "#46039f"
             ],
             [
              0.2222222222222222,
              "#7201a8"
             ],
             [
              0.3333333333333333,
              "#9c179e"
             ],
             [
              0.4444444444444444,
              "#bd3786"
             ],
             [
              0.5555555555555556,
              "#d8576b"
             ],
             [
              0.6666666666666666,
              "#ed7953"
             ],
             [
              0.7777777777777778,
              "#fb9f3a"
             ],
             [
              0.8888888888888888,
              "#fdca26"
             ],
             [
              1,
              "#f0f921"
             ]
            ],
            "type": "contour"
           }
          ],
          "contourcarpet": [
           {
            "colorbar": {
             "outlinewidth": 0,
             "ticks": ""
            },
            "type": "contourcarpet"
           }
          ],
          "heatmap": [
           {
            "colorbar": {
             "outlinewidth": 0,
             "ticks": ""
            },
            "colorscale": [
             [
              0,
              "#0d0887"
             ],
             [
              0.1111111111111111,
              "#46039f"
             ],
             [
              0.2222222222222222,
              "#7201a8"
             ],
             [
              0.3333333333333333,
              "#9c179e"
             ],
             [
              0.4444444444444444,
              "#bd3786"
             ],
             [
              0.5555555555555556,
              "#d8576b"
             ],
             [
              0.6666666666666666,
              "#ed7953"
             ],
             [
              0.7777777777777778,
              "#fb9f3a"
             ],
             [
              0.8888888888888888,
              "#fdca26"
             ],
             [
              1,
              "#f0f921"
             ]
            ],
            "type": "heatmap"
           }
          ],
          "histogram": [
           {
            "marker": {
             "pattern": {
              "fillmode": "overlay",
              "size": 10,
              "solidity": 0.2
             }
            },
            "type": "histogram"
           }
          ],
          "histogram2d": [
           {
            "colorbar": {
             "outlinewidth": 0,
             "ticks": ""
            },
            "colorscale": [
             [
              0,
              "#0d0887"
             ],
             [
              0.1111111111111111,
              "#46039f"
             ],
             [
              0.2222222222222222,
              "#7201a8"
             ],
             [
              0.3333333333333333,
              "#9c179e"
             ],
             [
              0.4444444444444444,
              "#bd3786"
             ],
             [
              0.5555555555555556,
              "#d8576b"
             ],
             [
              0.6666666666666666,
              "#ed7953"
             ],
             [
              0.7777777777777778,
              "#fb9f3a"
             ],
             [
              0.8888888888888888,
              "#fdca26"
             ],
             [
              1,
              "#f0f921"
             ]
            ],
            "type": "histogram2d"
           }
          ],
          "histogram2dcontour": [
           {
            "colorbar": {
             "outlinewidth": 0,
             "ticks": ""
            },
            "colorscale": [
             [
              0,
              "#0d0887"
             ],
             [
              0.1111111111111111,
              "#46039f"
             ],
             [
              0.2222222222222222,
              "#7201a8"
             ],
             [
              0.3333333333333333,
              "#9c179e"
             ],
             [
              0.4444444444444444,
              "#bd3786"
             ],
             [
              0.5555555555555556,
              "#d8576b"
             ],
             [
              0.6666666666666666,
              "#ed7953"
             ],
             [
              0.7777777777777778,
              "#fb9f3a"
             ],
             [
              0.8888888888888888,
              "#fdca26"
             ],
             [
              1,
              "#f0f921"
             ]
            ],
            "type": "histogram2dcontour"
           }
          ],
          "mesh3d": [
           {
            "colorbar": {
             "outlinewidth": 0,
             "ticks": ""
            },
            "type": "mesh3d"
           }
          ],
          "parcoords": [
           {
            "line": {
             "colorbar": {
              "outlinewidth": 0,
              "ticks": ""
             }
            },
            "type": "parcoords"
           }
          ],
          "pie": [
           {
            "automargin": true,
            "type": "pie"
           }
          ],
          "scatter": [
           {
            "marker": {
             "line": {
              "color": "#283442"
             }
            },
            "type": "scatter"
           }
          ],
          "scatter3d": [
           {
            "line": {
             "colorbar": {
              "outlinewidth": 0,
              "ticks": ""
             }
            },
            "marker": {
             "colorbar": {
              "outlinewidth": 0,
              "ticks": ""
             }
            },
            "type": "scatter3d"
           }
          ],
          "scattercarpet": [
           {
            "marker": {
             "colorbar": {
              "outlinewidth": 0,
              "ticks": ""
             }
            },
            "type": "scattercarpet"
           }
          ],
          "scattergeo": [
           {
            "marker": {
             "colorbar": {
              "outlinewidth": 0,
              "ticks": ""
             }
            },
            "type": "scattergeo"
           }
          ],
          "scattergl": [
           {
            "marker": {
             "line": {
              "color": "#283442"
             }
            },
            "type": "scattergl"
           }
          ],
          "scattermap": [
           {
            "marker": {
             "colorbar": {
              "outlinewidth": 0,
              "ticks": ""
             }
            },
            "type": "scattermap"
           }
          ],
          "scattermapbox": [
           {
            "marker": {
             "colorbar": {
              "outlinewidth": 0,
              "ticks": ""
             }
            },
            "type": "scattermapbox"
           }
          ],
          "scatterpolar": [
           {
            "marker": {
             "colorbar": {
              "outlinewidth": 0,
              "ticks": ""
             }
            },
            "type": "scatterpolar"
           }
          ],
          "scatterpolargl": [
           {
            "marker": {
             "colorbar": {
              "outlinewidth": 0,
              "ticks": ""
             }
            },
            "type": "scatterpolargl"
           }
          ],
          "scatterternary": [
           {
            "marker": {
             "colorbar": {
              "outlinewidth": 0,
              "ticks": ""
             }
            },
            "type": "scatterternary"
           }
          ],
          "surface": [
           {
            "colorbar": {
             "outlinewidth": 0,
             "ticks": ""
            },
            "colorscale": [
             [
              0,
              "#0d0887"
             ],
             [
              0.1111111111111111,
              "#46039f"
             ],
             [
              0.2222222222222222,
              "#7201a8"
             ],
             [
              0.3333333333333333,
              "#9c179e"
             ],
             [
              0.4444444444444444,
              "#bd3786"
             ],
             [
              0.5555555555555556,
              "#d8576b"
             ],
             [
              0.6666666666666666,
              "#ed7953"
             ],
             [
              0.7777777777777778,
              "#fb9f3a"
             ],
             [
              0.8888888888888888,
              "#fdca26"
             ],
             [
              1,
              "#f0f921"
             ]
            ],
            "type": "surface"
           }
          ],
          "table": [
           {
            "cells": {
             "fill": {
              "color": "#506784"
             },
             "line": {
              "color": "rgb(17,17,17)"
             }
            },
            "header": {
             "fill": {
              "color": "#2a3f5f"
             },
             "line": {
              "color": "rgb(17,17,17)"
             }
            },
            "type": "table"
           }
          ]
         },
         "layout": {
          "annotationdefaults": {
           "arrowcolor": "#f2f5fa",
           "arrowhead": 0,
           "arrowwidth": 1
          },
          "autotypenumbers": "strict",
          "coloraxis": {
           "colorbar": {
            "outlinewidth": 0,
            "ticks": ""
           }
          },
          "colorscale": {
           "diverging": [
            [
             0,
             "#8e0152"
            ],
            [
             0.1,
             "#c51b7d"
            ],
            [
             0.2,
             "#de77ae"
            ],
            [
             0.3,
             "#f1b6da"
            ],
            [
             0.4,
             "#fde0ef"
            ],
            [
             0.5,
             "#f7f7f7"
            ],
            [
             0.6,
             "#e6f5d0"
            ],
            [
             0.7,
             "#b8e186"
            ],
            [
             0.8,
             "#7fbc41"
            ],
            [
             0.9,
             "#4d9221"
            ],
            [
             1,
             "#276419"
            ]
           ],
           "sequential": [
            [
             0,
             "#0d0887"
            ],
            [
             0.1111111111111111,
             "#46039f"
            ],
            [
             0.2222222222222222,
             "#7201a8"
            ],
            [
             0.3333333333333333,
             "#9c179e"
            ],
            [
             0.4444444444444444,
             "#bd3786"
            ],
            [
             0.5555555555555556,
             "#d8576b"
            ],
            [
             0.6666666666666666,
             "#ed7953"
            ],
            [
             0.7777777777777778,
             "#fb9f3a"
            ],
            [
             0.8888888888888888,
             "#fdca26"
            ],
            [
             1,
             "#f0f921"
            ]
           ],
           "sequentialminus": [
            [
             0,
             "#0d0887"
            ],
            [
             0.1111111111111111,
             "#46039f"
            ],
            [
             0.2222222222222222,
             "#7201a8"
            ],
            [
             0.3333333333333333,
             "#9c179e"
            ],
            [
             0.4444444444444444,
             "#bd3786"
            ],
            [
             0.5555555555555556,
             "#d8576b"
            ],
            [
             0.6666666666666666,
             "#ed7953"
            ],
            [
             0.7777777777777778,
             "#fb9f3a"
            ],
            [
             0.8888888888888888,
             "#fdca26"
            ],
            [
             1,
             "#f0f921"
            ]
           ]
          },
          "colorway": [
           "#636efa",
           "#EF553B",
           "#00cc96",
           "#ab63fa",
           "#FFA15A",
           "#19d3f3",
           "#FF6692",
           "#B6E880",
           "#FF97FF",
           "#FECB52"
          ],
          "font": {
           "color": "#f2f5fa"
          },
          "geo": {
           "bgcolor": "rgb(17,17,17)",
           "lakecolor": "rgb(17,17,17)",
           "landcolor": "rgb(17,17,17)",
           "showlakes": true,
           "showland": true,
           "subunitcolor": "#506784"
          },
          "hoverlabel": {
           "align": "left"
          },
          "hovermode": "closest",
          "mapbox": {
           "style": "dark"
          },
          "paper_bgcolor": "rgb(17,17,17)",
          "plot_bgcolor": "rgb(17,17,17)",
          "polar": {
           "angularaxis": {
            "gridcolor": "#506784",
            "linecolor": "#506784",
            "ticks": ""
           },
           "bgcolor": "rgb(17,17,17)",
           "radialaxis": {
            "gridcolor": "#506784",
            "linecolor": "#506784",
            "ticks": ""
           }
          },
          "scene": {
           "xaxis": {
            "backgroundcolor": "rgb(17,17,17)",
            "gridcolor": "#506784",
            "gridwidth": 2,
            "linecolor": "#506784",
            "showbackground": true,
            "ticks": "",
            "zerolinecolor": "#C8D4E3"
           },
           "yaxis": {
            "backgroundcolor": "rgb(17,17,17)",
            "gridcolor": "#506784",
            "gridwidth": 2,
            "linecolor": "#506784",
            "showbackground": true,
            "ticks": "",
            "zerolinecolor": "#C8D4E3"
           },
           "zaxis": {
            "backgroundcolor": "rgb(17,17,17)",
            "gridcolor": "#506784",
            "gridwidth": 2,
            "linecolor": "#506784",
            "showbackground": true,
            "ticks": "",
            "zerolinecolor": "#C8D4E3"
           }
          },
          "shapedefaults": {
           "line": {
            "color": "#f2f5fa"
           }
          },
          "sliderdefaults": {
           "bgcolor": "#C8D4E3",
           "bordercolor": "rgb(17,17,17)",
           "borderwidth": 1,
           "tickwidth": 0
          },
          "ternary": {
           "aaxis": {
            "gridcolor": "#506784",
            "linecolor": "#506784",
            "ticks": ""
           },
           "baxis": {
            "gridcolor": "#506784",
            "linecolor": "#506784",
            "ticks": ""
           },
           "bgcolor": "rgb(17,17,17)",
           "caxis": {
            "gridcolor": "#506784",
            "linecolor": "#506784",
            "ticks": ""
           }
          },
          "title": {
           "x": 0.05
          },
          "updatemenudefaults": {
           "bgcolor": "#506784",
           "borderwidth": 0
          },
          "xaxis": {
           "automargin": true,
           "gridcolor": "#283442",
           "linecolor": "#506784",
           "ticks": "",
           "title": {
            "standoff": 15
           },
           "zerolinecolor": "#283442",
           "zerolinewidth": 2
          },
          "yaxis": {
           "automargin": true,
           "gridcolor": "#283442",
           "linecolor": "#506784",
           "ticks": "",
           "title": {
            "standoff": 15
           },
           "zerolinecolor": "#283442",
           "zerolinewidth": 2
          }
         }
        },
        "title": {
         "font": {
          "size": 24
         },
         "text": "Zusammenhang von Hundegruppe und Popularität",
         "x": 0.5,
         "xanchor": "center"
        },
        "xaxis": {
         "anchor": "y",
         "domain": [
          0,
          1
         ],
         "title": {
          "text": "Hundegruppe"
         }
        },
        "yaxis": {
         "anchor": "x",
         "autorange": "reversed",
         "domain": [
          0,
          1
         ],
         "dtick": 10,
         "tickmode": "array",
         "tickvals": [
          1,
          10,
          20,
          30,
          40,
          50,
          60,
          70,
          80
         ],
         "title": {
          "text": "Popularitäts-Ranking (Platz 1-87)"
         }
        }
       }
      }
     },
     "metadata": {},
     "output_type": "display_data"
    }
   ],
   "source": [
    "fig = px.scatter(\n",
    "    data,\n",
    "    x='type_de',\n",
    "    y='popularity ranking',\n",
    "    hover_name='Breed_de',\n",
    "    labels={\"type_de\": \"Hundegruppe\", \"popularity ranking\": \"Popularitäts-Ranking (Platz 1-87)\"},\n",
    "    title='Zusammenhang von Hundegruppe und Popularität',\n",
    "    color='popularity ranking',\n",
    "    template=\"plotly_dark\",\n",
    ")\n",
    "\n",
    "fig.update_layout(\n",
    "    title_x=0.5,\n",
    "    title_xanchor='center',\n",
    "    title_font_size=24 \n",
    "    \n",
    ")\n",
    "\n",
    "# Weiße Umrandung um die Marker\n",
    "fig.update_traces(\n",
    "    marker=dict(\n",
    "        size = 10,\n",
    "        line=dict(\n",
    "            width=1,\n",
    "            color = 'white'\n",
    "\n",
    "        )\n",
    "    )\n",
    ")\n",
    "\n",
    "\n",
    "fig.update_yaxes(\n",
    "    autorange='reversed',\n",
    "    tickmode='array',\n",
    "    dtick=10,\n",
    "    tickvals=[1, 10, 20, 30, 40, 50, 60, 70, 80]\n",
    ")\n",
    "\n",
    "fig.update_coloraxes(showscale=False)\n",
    "\n",
    "\n",
    "fig.show()\n",
    "\n",
    "#fig.write_html('type_ranking.html')"
   ]
  },
  {
   "cell_type": "markdown",
   "id": "16715943",
   "metadata": {},
   "source": [
    "An dieser Karte mit Hover-Funktion kann man ablesen, welche Rassen in der jeweiligen Gruppe wie beliebt sind. So ist z.B. der German Shepherd"
   ]
  },
  {
   "cell_type": "markdown",
   "id": "644ee876",
   "metadata": {},
   "source": [
    "# Krankheiten"
   ]
  },
  {
   "cell_type": "code",
   "execution_count": 78,
   "id": "bac0c955",
   "metadata": {},
   "outputs": [],
   "source": [
    "# krankheiten in hover\n",
    "\n",
    "# vielleicht ein dropdown für je eine hundeart und dann als darstellung die krankheit als print?"
   ]
  },
  {
   "cell_type": "code",
   "execution_count": 79,
   "id": "534bf503",
   "metadata": {},
   "outputs": [
    {
     "data": {
      "text/plain": [
       "array(['none', \"'lion jaw', heart problems  \", 'hip problems',\n",
       "       'eye, skin problems', 'dry eye',\n",
       "       'hip, eye, skin problems; enzyme deficiency',\n",
       "       'eye problems, deafness, skin + heart problems, blood clotting disorders',\n",
       "       \"'lion jaw', 'dry eye', skin problems\", 'elbows, hips, eyes',\n",
       "       'hip, eye problems', 'eye problems', 'elbows, hips, eyes, heart ',\n",
       "       'cataracts, hair loss, heart, eye, blood clotting disorders',\n",
       "       'no data', 'deafness, hip problems', \"'dry eye'\",\n",
       "       'liver, sinus problems', 'heart problems',\n",
       "       'eye problems, deafness', 'breathing problems',\n",
       "       'liver, eye problems', 'heart, spinal problems',\n",
       "       'deafness, urinary stones', 'epilepsy, eye problems',\n",
       "       'blood, skin disorders', 'fatal stomach bloat, skin disorder',\n",
       "       'cataracts + other eye problems, connective tissue, nerves, kidneys, spine, blood clotting disorders',\n",
       "       'blood vessel disorders', 'skin, spinal problems', 'knee problems',\n",
       "       'heart, spine, blood clotting disorders',\n",
       "       'hip problems, heart defects', 'kidney, eye problems, anaemia',\n",
       "       'meningitis, elbow + hip problems, complex immune disorder',\n",
       "       'eye, nerve, heart problems', 'heart problem',\n",
       "       'heart, elbow, hip problems',\n",
       "       'knee, liver, trachea, eye disorders', 'heart, liver, hips',\n",
       "       'blood clotting disorder', 'eye, hip problems',\n",
       "       'nerves, pancreas, blood (hemophilia), hip joints',\n",
       "       'hip, heart problems',\n",
       "       'heart, spinal, hip problems, fatal stomach bloat',\n",
       "       'birth defects, hip problems',\n",
       "       'heart problems, zinc metabolism disorder',\n",
       "       'heart, hip disorders, fatal stomach bloat',\n",
       "       'hip problems, dwarfism', 'fatal stomach bloat, skin problems',\n",
       "       \"breathing, hip, heart problems, 'dry eye'\"], dtype=object)"
      ]
     },
     "execution_count": 79,
     "metadata": {},
     "output_type": "execute_result"
    }
   ],
   "source": [
    "data['GENETIC AILMENTS'].unique()"
   ]
  },
  {
   "cell_type": "code",
   "execution_count": 80,
   "id": "834b2545",
   "metadata": {},
   "outputs": [
    {
     "name": "stdout",
     "output_type": "stream",
     "text": [
      "Simplified_Ailments\n",
      "Hüftprobleme       24\n",
      "Keine/Unbekannt    23\n",
      "Augenprobleme      21\n",
      "Herzprobleme        8\n",
      "Andere              7\n",
      "Hautprobleme        4\n",
      "Name: count, dtype: int64\n"
     ]
    }
   ],
   "source": [
    "def simplify_ailments(ailment_string):\n",
    "    if ailment_string in ['none', 'no data']:\n",
    "        return 'Keine/Unbekannt'\n",
    "    elif 'eye' in ailment_string.lower():\n",
    "        return 'Augenprobleme'\n",
    "    elif 'hip' in ailment_string.lower():\n",
    "        return 'Hüftprobleme'\n",
    "    elif 'heart' in ailment_string.lower():\n",
    "        return 'Herzprobleme'\n",
    "    elif 'skin' in ailment_string.lower():\n",
    "        return 'Hautprobleme'\n",
    "    else:\n",
    "        return 'Andere'\n",
    "\n",
    "data['Simplified_Ailments'] = data['GENETIC AILMENTS'].apply(simplify_ailments)\n",
    "\n",
    "# Verteilung anzeigen\n",
    "print(data['Simplified_Ailments'].value_counts())"
   ]
  },
  {
   "cell_type": "code",
   "execution_count": 81,
   "id": "65bbc430",
   "metadata": {},
   "outputs": [
    {
     "data": {
      "application/vnd.plotly.v1+json": {
       "config": {
        "plotlyServerURL": "https://plot.ly"
       },
       "data": [
        {
         "domain": {
          "x": [
           0,
           1
          ],
          "y": [
           0,
           1
          ]
         },
         "hovertemplate": "<b>%{label}</b><br>Anzahl: %{value}<br>Anteil: %{percent}<br><extra></extra>",
         "labels": [
          "Hüftprobleme",
          "Keine/Unbekannt",
          "Augenprobleme",
          "Herzprobleme",
          "Andere",
          "Hautprobleme"
         ],
         "legendgroup": "",
         "marker": {
          "line": {
           "color": "white",
           "width": 2
          }
         },
         "name": "",
         "showlegend": true,
         "textinfo": "percent+label",
         "textposition": "inside",
         "type": "pie",
         "values": {
          "bdata": "GBcVCAcE",
          "dtype": "i1"
         }
        }
       ],
       "layout": {
        "font": {
         "color": "white",
         "family": "Verdana",
         "size": 14
        },
        "legend": {
         "tracegroupgap": 0
        },
        "template": {
         "data": {
          "bar": [
           {
            "error_x": {
             "color": "#f2f5fa"
            },
            "error_y": {
             "color": "#f2f5fa"
            },
            "marker": {
             "line": {
              "color": "rgb(17,17,17)",
              "width": 0.5
             },
             "pattern": {
              "fillmode": "overlay",
              "size": 10,
              "solidity": 0.2
             }
            },
            "type": "bar"
           }
          ],
          "barpolar": [
           {
            "marker": {
             "line": {
              "color": "rgb(17,17,17)",
              "width": 0.5
             },
             "pattern": {
              "fillmode": "overlay",
              "size": 10,
              "solidity": 0.2
             }
            },
            "type": "barpolar"
           }
          ],
          "carpet": [
           {
            "aaxis": {
             "endlinecolor": "#A2B1C6",
             "gridcolor": "#506784",
             "linecolor": "#506784",
             "minorgridcolor": "#506784",
             "startlinecolor": "#A2B1C6"
            },
            "baxis": {
             "endlinecolor": "#A2B1C6",
             "gridcolor": "#506784",
             "linecolor": "#506784",
             "minorgridcolor": "#506784",
             "startlinecolor": "#A2B1C6"
            },
            "type": "carpet"
           }
          ],
          "choropleth": [
           {
            "colorbar": {
             "outlinewidth": 0,
             "ticks": ""
            },
            "type": "choropleth"
           }
          ],
          "contour": [
           {
            "colorbar": {
             "outlinewidth": 0,
             "ticks": ""
            },
            "colorscale": [
             [
              0,
              "#0d0887"
             ],
             [
              0.1111111111111111,
              "#46039f"
             ],
             [
              0.2222222222222222,
              "#7201a8"
             ],
             [
              0.3333333333333333,
              "#9c179e"
             ],
             [
              0.4444444444444444,
              "#bd3786"
             ],
             [
              0.5555555555555556,
              "#d8576b"
             ],
             [
              0.6666666666666666,
              "#ed7953"
             ],
             [
              0.7777777777777778,
              "#fb9f3a"
             ],
             [
              0.8888888888888888,
              "#fdca26"
             ],
             [
              1,
              "#f0f921"
             ]
            ],
            "type": "contour"
           }
          ],
          "contourcarpet": [
           {
            "colorbar": {
             "outlinewidth": 0,
             "ticks": ""
            },
            "type": "contourcarpet"
           }
          ],
          "heatmap": [
           {
            "colorbar": {
             "outlinewidth": 0,
             "ticks": ""
            },
            "colorscale": [
             [
              0,
              "#0d0887"
             ],
             [
              0.1111111111111111,
              "#46039f"
             ],
             [
              0.2222222222222222,
              "#7201a8"
             ],
             [
              0.3333333333333333,
              "#9c179e"
             ],
             [
              0.4444444444444444,
              "#bd3786"
             ],
             [
              0.5555555555555556,
              "#d8576b"
             ],
             [
              0.6666666666666666,
              "#ed7953"
             ],
             [
              0.7777777777777778,
              "#fb9f3a"
             ],
             [
              0.8888888888888888,
              "#fdca26"
             ],
             [
              1,
              "#f0f921"
             ]
            ],
            "type": "heatmap"
           }
          ],
          "histogram": [
           {
            "marker": {
             "pattern": {
              "fillmode": "overlay",
              "size": 10,
              "solidity": 0.2
             }
            },
            "type": "histogram"
           }
          ],
          "histogram2d": [
           {
            "colorbar": {
             "outlinewidth": 0,
             "ticks": ""
            },
            "colorscale": [
             [
              0,
              "#0d0887"
             ],
             [
              0.1111111111111111,
              "#46039f"
             ],
             [
              0.2222222222222222,
              "#7201a8"
             ],
             [
              0.3333333333333333,
              "#9c179e"
             ],
             [
              0.4444444444444444,
              "#bd3786"
             ],
             [
              0.5555555555555556,
              "#d8576b"
             ],
             [
              0.6666666666666666,
              "#ed7953"
             ],
             [
              0.7777777777777778,
              "#fb9f3a"
             ],
             [
              0.8888888888888888,
              "#fdca26"
             ],
             [
              1,
              "#f0f921"
             ]
            ],
            "type": "histogram2d"
           }
          ],
          "histogram2dcontour": [
           {
            "colorbar": {
             "outlinewidth": 0,
             "ticks": ""
            },
            "colorscale": [
             [
              0,
              "#0d0887"
             ],
             [
              0.1111111111111111,
              "#46039f"
             ],
             [
              0.2222222222222222,
              "#7201a8"
             ],
             [
              0.3333333333333333,
              "#9c179e"
             ],
             [
              0.4444444444444444,
              "#bd3786"
             ],
             [
              0.5555555555555556,
              "#d8576b"
             ],
             [
              0.6666666666666666,
              "#ed7953"
             ],
             [
              0.7777777777777778,
              "#fb9f3a"
             ],
             [
              0.8888888888888888,
              "#fdca26"
             ],
             [
              1,
              "#f0f921"
             ]
            ],
            "type": "histogram2dcontour"
           }
          ],
          "mesh3d": [
           {
            "colorbar": {
             "outlinewidth": 0,
             "ticks": ""
            },
            "type": "mesh3d"
           }
          ],
          "parcoords": [
           {
            "line": {
             "colorbar": {
              "outlinewidth": 0,
              "ticks": ""
             }
            },
            "type": "parcoords"
           }
          ],
          "pie": [
           {
            "automargin": true,
            "type": "pie"
           }
          ],
          "scatter": [
           {
            "marker": {
             "line": {
              "color": "#283442"
             }
            },
            "type": "scatter"
           }
          ],
          "scatter3d": [
           {
            "line": {
             "colorbar": {
              "outlinewidth": 0,
              "ticks": ""
             }
            },
            "marker": {
             "colorbar": {
              "outlinewidth": 0,
              "ticks": ""
             }
            },
            "type": "scatter3d"
           }
          ],
          "scattercarpet": [
           {
            "marker": {
             "colorbar": {
              "outlinewidth": 0,
              "ticks": ""
             }
            },
            "type": "scattercarpet"
           }
          ],
          "scattergeo": [
           {
            "marker": {
             "colorbar": {
              "outlinewidth": 0,
              "ticks": ""
             }
            },
            "type": "scattergeo"
           }
          ],
          "scattergl": [
           {
            "marker": {
             "line": {
              "color": "#283442"
             }
            },
            "type": "scattergl"
           }
          ],
          "scattermap": [
           {
            "marker": {
             "colorbar": {
              "outlinewidth": 0,
              "ticks": ""
             }
            },
            "type": "scattermap"
           }
          ],
          "scattermapbox": [
           {
            "marker": {
             "colorbar": {
              "outlinewidth": 0,
              "ticks": ""
             }
            },
            "type": "scattermapbox"
           }
          ],
          "scatterpolar": [
           {
            "marker": {
             "colorbar": {
              "outlinewidth": 0,
              "ticks": ""
             }
            },
            "type": "scatterpolar"
           }
          ],
          "scatterpolargl": [
           {
            "marker": {
             "colorbar": {
              "outlinewidth": 0,
              "ticks": ""
             }
            },
            "type": "scatterpolargl"
           }
          ],
          "scatterternary": [
           {
            "marker": {
             "colorbar": {
              "outlinewidth": 0,
              "ticks": ""
             }
            },
            "type": "scatterternary"
           }
          ],
          "surface": [
           {
            "colorbar": {
             "outlinewidth": 0,
             "ticks": ""
            },
            "colorscale": [
             [
              0,
              "#0d0887"
             ],
             [
              0.1111111111111111,
              "#46039f"
             ],
             [
              0.2222222222222222,
              "#7201a8"
             ],
             [
              0.3333333333333333,
              "#9c179e"
             ],
             [
              0.4444444444444444,
              "#bd3786"
             ],
             [
              0.5555555555555556,
              "#d8576b"
             ],
             [
              0.6666666666666666,
              "#ed7953"
             ],
             [
              0.7777777777777778,
              "#fb9f3a"
             ],
             [
              0.8888888888888888,
              "#fdca26"
             ],
             [
              1,
              "#f0f921"
             ]
            ],
            "type": "surface"
           }
          ],
          "table": [
           {
            "cells": {
             "fill": {
              "color": "#506784"
             },
             "line": {
              "color": "rgb(17,17,17)"
             }
            },
            "header": {
             "fill": {
              "color": "#2a3f5f"
             },
             "line": {
              "color": "rgb(17,17,17)"
             }
            },
            "type": "table"
           }
          ]
         },
         "layout": {
          "annotationdefaults": {
           "arrowcolor": "#f2f5fa",
           "arrowhead": 0,
           "arrowwidth": 1
          },
          "autotypenumbers": "strict",
          "coloraxis": {
           "colorbar": {
            "outlinewidth": 0,
            "ticks": ""
           }
          },
          "colorscale": {
           "diverging": [
            [
             0,
             "#8e0152"
            ],
            [
             0.1,
             "#c51b7d"
            ],
            [
             0.2,
             "#de77ae"
            ],
            [
             0.3,
             "#f1b6da"
            ],
            [
             0.4,
             "#fde0ef"
            ],
            [
             0.5,
             "#f7f7f7"
            ],
            [
             0.6,
             "#e6f5d0"
            ],
            [
             0.7,
             "#b8e186"
            ],
            [
             0.8,
             "#7fbc41"
            ],
            [
             0.9,
             "#4d9221"
            ],
            [
             1,
             "#276419"
            ]
           ],
           "sequential": [
            [
             0,
             "#0d0887"
            ],
            [
             0.1111111111111111,
             "#46039f"
            ],
            [
             0.2222222222222222,
             "#7201a8"
            ],
            [
             0.3333333333333333,
             "#9c179e"
            ],
            [
             0.4444444444444444,
             "#bd3786"
            ],
            [
             0.5555555555555556,
             "#d8576b"
            ],
            [
             0.6666666666666666,
             "#ed7953"
            ],
            [
             0.7777777777777778,
             "#fb9f3a"
            ],
            [
             0.8888888888888888,
             "#fdca26"
            ],
            [
             1,
             "#f0f921"
            ]
           ],
           "sequentialminus": [
            [
             0,
             "#0d0887"
            ],
            [
             0.1111111111111111,
             "#46039f"
            ],
            [
             0.2222222222222222,
             "#7201a8"
            ],
            [
             0.3333333333333333,
             "#9c179e"
            ],
            [
             0.4444444444444444,
             "#bd3786"
            ],
            [
             0.5555555555555556,
             "#d8576b"
            ],
            [
             0.6666666666666666,
             "#ed7953"
            ],
            [
             0.7777777777777778,
             "#fb9f3a"
            ],
            [
             0.8888888888888888,
             "#fdca26"
            ],
            [
             1,
             "#f0f921"
            ]
           ]
          },
          "colorway": [
           "#636efa",
           "#EF553B",
           "#00cc96",
           "#ab63fa",
           "#FFA15A",
           "#19d3f3",
           "#FF6692",
           "#B6E880",
           "#FF97FF",
           "#FECB52"
          ],
          "font": {
           "color": "#f2f5fa"
          },
          "geo": {
           "bgcolor": "rgb(17,17,17)",
           "lakecolor": "rgb(17,17,17)",
           "landcolor": "rgb(17,17,17)",
           "showlakes": true,
           "showland": true,
           "subunitcolor": "#506784"
          },
          "hoverlabel": {
           "align": "left"
          },
          "hovermode": "closest",
          "mapbox": {
           "style": "dark"
          },
          "paper_bgcolor": "rgb(17,17,17)",
          "plot_bgcolor": "rgb(17,17,17)",
          "polar": {
           "angularaxis": {
            "gridcolor": "#506784",
            "linecolor": "#506784",
            "ticks": ""
           },
           "bgcolor": "rgb(17,17,17)",
           "radialaxis": {
            "gridcolor": "#506784",
            "linecolor": "#506784",
            "ticks": ""
           }
          },
          "scene": {
           "xaxis": {
            "backgroundcolor": "rgb(17,17,17)",
            "gridcolor": "#506784",
            "gridwidth": 2,
            "linecolor": "#506784",
            "showbackground": true,
            "ticks": "",
            "zerolinecolor": "#C8D4E3"
           },
           "yaxis": {
            "backgroundcolor": "rgb(17,17,17)",
            "gridcolor": "#506784",
            "gridwidth": 2,
            "linecolor": "#506784",
            "showbackground": true,
            "ticks": "",
            "zerolinecolor": "#C8D4E3"
           },
           "zaxis": {
            "backgroundcolor": "rgb(17,17,17)",
            "gridcolor": "#506784",
            "gridwidth": 2,
            "linecolor": "#506784",
            "showbackground": true,
            "ticks": "",
            "zerolinecolor": "#C8D4E3"
           }
          },
          "shapedefaults": {
           "line": {
            "color": "#f2f5fa"
           }
          },
          "sliderdefaults": {
           "bgcolor": "#C8D4E3",
           "bordercolor": "rgb(17,17,17)",
           "borderwidth": 1,
           "tickwidth": 0
          },
          "ternary": {
           "aaxis": {
            "gridcolor": "#506784",
            "linecolor": "#506784",
            "ticks": ""
           },
           "baxis": {
            "gridcolor": "#506784",
            "linecolor": "#506784",
            "ticks": ""
           },
           "bgcolor": "rgb(17,17,17)",
           "caxis": {
            "gridcolor": "#506784",
            "linecolor": "#506784",
            "ticks": ""
           }
          },
          "title": {
           "x": 0.05
          },
          "updatemenudefaults": {
           "bgcolor": "#506784",
           "borderwidth": 0
          },
          "xaxis": {
           "automargin": true,
           "gridcolor": "#283442",
           "linecolor": "#506784",
           "ticks": "",
           "title": {
            "standoff": 15
           },
           "zerolinecolor": "#283442",
           "zerolinewidth": 2
          },
          "yaxis": {
           "automargin": true,
           "gridcolor": "#283442",
           "linecolor": "#506784",
           "ticks": "",
           "title": {
            "standoff": 15
           },
           "zerolinecolor": "#283442",
           "zerolinewidth": 2
          }
         }
        },
        "title": {
         "font": {
          "color": "white",
          "family": "Verdana",
          "size": 20
         },
         "text": "Verteilung der genetischen Krankheiten bei Hunderassen",
         "x": 0.5,
         "xanchor": "center"
        }
       }
      }
     },
     "metadata": {},
     "output_type": "display_data"
    }
   ],
   "source": [
    "# Häufigkeiten zählen\n",
    "ailment_counts = data['Simplified_Ailments'].value_counts()\n",
    "\n",
    "# Pie Chart erstellen\n",
    "fig = px.pie(\n",
    "    values=ailment_counts.values,\n",
    "    names=ailment_counts.index,\n",
    "    title='Verteilung der genetischen Krankheiten bei Hunderassen',\n",
    "    template='plotly_dark'\n",
    ")\n",
    "\n",
    "# Styling anpassen\n",
    "fig.update_layout(\n",
    "    font=dict(\n",
    "        family=\"Verdana\",\n",
    "        size=14,\n",
    "        color=\"white\"\n",
    "    ),\n",
    "    title_font=dict(\n",
    "        family=\"Verdana\",\n",
    "        size=20,\n",
    "        color=\"white\"\n",
    "    ),\n",
    "    title_x=0.5,\n",
    "    title_xanchor='center'\n",
    ")\n",
    "\n",
    "# Prozentwerte und Anzahl anzeigen\n",
    "fig.update_traces(\n",
    "    textposition='inside',\n",
    "    textinfo='percent+label',\n",
    "    hovertemplate='<b>%{label}</b><br>' +\n",
    "                  'Anzahl: %{value}<br>' +\n",
    "                  'Anteil: %{percent}<br>' +\n",
    "                  '<extra></extra>',\n",
    "    marker=dict(\n",
    "        line=dict(color='white', width=2)\n",
    "    )\n",
    ")\n",
    "\n",
    "fig.show()"
   ]
  },
  {
   "cell_type": "code",
   "execution_count": 82,
   "id": "f0ac0467",
   "metadata": {},
   "outputs": [
    {
     "data": {
      "application/vnd.plotly.v1+json": {
       "config": {
        "plotlyServerURL": "https://plot.ly"
       },
       "data": [
        {
         "customdata": [
          27.586206896551722,
          26.436781609195403,
          24.137931034482758,
          9.195402298850574,
          8.045977011494253,
          4.597701149425287
         ],
         "hovertemplate": "<b>%{x}</b><br>Anzahl: %{y} Rassen<br>Anteil: %{customdata:.1f}%<br><extra></extra>",
         "legendgroup": "",
         "marker": {
          "color": {
           "bdata": "GBcVCAcE",
           "dtype": "i1"
          },
          "coloraxis": "coloraxis",
          "line": {
           "color": "white",
           "width": 1
          },
          "pattern": {
           "shape": ""
          }
         },
         "name": "",
         "orientation": "v",
         "showlegend": false,
         "textposition": "auto",
         "type": "bar",
         "x": [
          "Hüftprobleme",
          "Keine/Unbekannt",
          "Augenprobleme",
          "Herzprobleme",
          "Andere",
          "Hautprobleme"
         ],
         "xaxis": "x",
         "y": {
          "bdata": "GBcVCAcE",
          "dtype": "i1"
         },
         "yaxis": "y"
        }
       ],
       "layout": {
        "barmode": "relative",
        "coloraxis": {
         "colorbar": {
          "title": {
           "text": "color"
          }
         },
         "colorscale": [
          [
           0,
           "#0d0887"
          ],
          [
           0.1111111111111111,
           "#46039f"
          ],
          [
           0.2222222222222222,
           "#7201a8"
          ],
          [
           0.3333333333333333,
           "#9c179e"
          ],
          [
           0.4444444444444444,
           "#bd3786"
          ],
          [
           0.5555555555555556,
           "#d8576b"
          ],
          [
           0.6666666666666666,
           "#ed7953"
          ],
          [
           0.7777777777777778,
           "#fb9f3a"
          ],
          [
           0.8888888888888888,
           "#fdca26"
          ],
          [
           1,
           "#f0f921"
          ]
         ],
         "showscale": false
        },
        "legend": {
         "tracegroupgap": 0
        },
        "showlegend": false,
        "template": {
         "data": {
          "bar": [
           {
            "error_x": {
             "color": "#f2f5fa"
            },
            "error_y": {
             "color": "#f2f5fa"
            },
            "marker": {
             "line": {
              "color": "rgb(17,17,17)",
              "width": 0.5
             },
             "pattern": {
              "fillmode": "overlay",
              "size": 10,
              "solidity": 0.2
             }
            },
            "type": "bar"
           }
          ],
          "barpolar": [
           {
            "marker": {
             "line": {
              "color": "rgb(17,17,17)",
              "width": 0.5
             },
             "pattern": {
              "fillmode": "overlay",
              "size": 10,
              "solidity": 0.2
             }
            },
            "type": "barpolar"
           }
          ],
          "carpet": [
           {
            "aaxis": {
             "endlinecolor": "#A2B1C6",
             "gridcolor": "#506784",
             "linecolor": "#506784",
             "minorgridcolor": "#506784",
             "startlinecolor": "#A2B1C6"
            },
            "baxis": {
             "endlinecolor": "#A2B1C6",
             "gridcolor": "#506784",
             "linecolor": "#506784",
             "minorgridcolor": "#506784",
             "startlinecolor": "#A2B1C6"
            },
            "type": "carpet"
           }
          ],
          "choropleth": [
           {
            "colorbar": {
             "outlinewidth": 0,
             "ticks": ""
            },
            "type": "choropleth"
           }
          ],
          "contour": [
           {
            "colorbar": {
             "outlinewidth": 0,
             "ticks": ""
            },
            "colorscale": [
             [
              0,
              "#0d0887"
             ],
             [
              0.1111111111111111,
              "#46039f"
             ],
             [
              0.2222222222222222,
              "#7201a8"
             ],
             [
              0.3333333333333333,
              "#9c179e"
             ],
             [
              0.4444444444444444,
              "#bd3786"
             ],
             [
              0.5555555555555556,
              "#d8576b"
             ],
             [
              0.6666666666666666,
              "#ed7953"
             ],
             [
              0.7777777777777778,
              "#fb9f3a"
             ],
             [
              0.8888888888888888,
              "#fdca26"
             ],
             [
              1,
              "#f0f921"
             ]
            ],
            "type": "contour"
           }
          ],
          "contourcarpet": [
           {
            "colorbar": {
             "outlinewidth": 0,
             "ticks": ""
            },
            "type": "contourcarpet"
           }
          ],
          "heatmap": [
           {
            "colorbar": {
             "outlinewidth": 0,
             "ticks": ""
            },
            "colorscale": [
             [
              0,
              "#0d0887"
             ],
             [
              0.1111111111111111,
              "#46039f"
             ],
             [
              0.2222222222222222,
              "#7201a8"
             ],
             [
              0.3333333333333333,
              "#9c179e"
             ],
             [
              0.4444444444444444,
              "#bd3786"
             ],
             [
              0.5555555555555556,
              "#d8576b"
             ],
             [
              0.6666666666666666,
              "#ed7953"
             ],
             [
              0.7777777777777778,
              "#fb9f3a"
             ],
             [
              0.8888888888888888,
              "#fdca26"
             ],
             [
              1,
              "#f0f921"
             ]
            ],
            "type": "heatmap"
           }
          ],
          "histogram": [
           {
            "marker": {
             "pattern": {
              "fillmode": "overlay",
              "size": 10,
              "solidity": 0.2
             }
            },
            "type": "histogram"
           }
          ],
          "histogram2d": [
           {
            "colorbar": {
             "outlinewidth": 0,
             "ticks": ""
            },
            "colorscale": [
             [
              0,
              "#0d0887"
             ],
             [
              0.1111111111111111,
              "#46039f"
             ],
             [
              0.2222222222222222,
              "#7201a8"
             ],
             [
              0.3333333333333333,
              "#9c179e"
             ],
             [
              0.4444444444444444,
              "#bd3786"
             ],
             [
              0.5555555555555556,
              "#d8576b"
             ],
             [
              0.6666666666666666,
              "#ed7953"
             ],
             [
              0.7777777777777778,
              "#fb9f3a"
             ],
             [
              0.8888888888888888,
              "#fdca26"
             ],
             [
              1,
              "#f0f921"
             ]
            ],
            "type": "histogram2d"
           }
          ],
          "histogram2dcontour": [
           {
            "colorbar": {
             "outlinewidth": 0,
             "ticks": ""
            },
            "colorscale": [
             [
              0,
              "#0d0887"
             ],
             [
              0.1111111111111111,
              "#46039f"
             ],
             [
              0.2222222222222222,
              "#7201a8"
             ],
             [
              0.3333333333333333,
              "#9c179e"
             ],
             [
              0.4444444444444444,
              "#bd3786"
             ],
             [
              0.5555555555555556,
              "#d8576b"
             ],
             [
              0.6666666666666666,
              "#ed7953"
             ],
             [
              0.7777777777777778,
              "#fb9f3a"
             ],
             [
              0.8888888888888888,
              "#fdca26"
             ],
             [
              1,
              "#f0f921"
             ]
            ],
            "type": "histogram2dcontour"
           }
          ],
          "mesh3d": [
           {
            "colorbar": {
             "outlinewidth": 0,
             "ticks": ""
            },
            "type": "mesh3d"
           }
          ],
          "parcoords": [
           {
            "line": {
             "colorbar": {
              "outlinewidth": 0,
              "ticks": ""
             }
            },
            "type": "parcoords"
           }
          ],
          "pie": [
           {
            "automargin": true,
            "type": "pie"
           }
          ],
          "scatter": [
           {
            "marker": {
             "line": {
              "color": "#283442"
             }
            },
            "type": "scatter"
           }
          ],
          "scatter3d": [
           {
            "line": {
             "colorbar": {
              "outlinewidth": 0,
              "ticks": ""
             }
            },
            "marker": {
             "colorbar": {
              "outlinewidth": 0,
              "ticks": ""
             }
            },
            "type": "scatter3d"
           }
          ],
          "scattercarpet": [
           {
            "marker": {
             "colorbar": {
              "outlinewidth": 0,
              "ticks": ""
             }
            },
            "type": "scattercarpet"
           }
          ],
          "scattergeo": [
           {
            "marker": {
             "colorbar": {
              "outlinewidth": 0,
              "ticks": ""
             }
            },
            "type": "scattergeo"
           }
          ],
          "scattergl": [
           {
            "marker": {
             "line": {
              "color": "#283442"
             }
            },
            "type": "scattergl"
           }
          ],
          "scattermap": [
           {
            "marker": {
             "colorbar": {
              "outlinewidth": 0,
              "ticks": ""
             }
            },
            "type": "scattermap"
           }
          ],
          "scattermapbox": [
           {
            "marker": {
             "colorbar": {
              "outlinewidth": 0,
              "ticks": ""
             }
            },
            "type": "scattermapbox"
           }
          ],
          "scatterpolar": [
           {
            "marker": {
             "colorbar": {
              "outlinewidth": 0,
              "ticks": ""
             }
            },
            "type": "scatterpolar"
           }
          ],
          "scatterpolargl": [
           {
            "marker": {
             "colorbar": {
              "outlinewidth": 0,
              "ticks": ""
             }
            },
            "type": "scatterpolargl"
           }
          ],
          "scatterternary": [
           {
            "marker": {
             "colorbar": {
              "outlinewidth": 0,
              "ticks": ""
             }
            },
            "type": "scatterternary"
           }
          ],
          "surface": [
           {
            "colorbar": {
             "outlinewidth": 0,
             "ticks": ""
            },
            "colorscale": [
             [
              0,
              "#0d0887"
             ],
             [
              0.1111111111111111,
              "#46039f"
             ],
             [
              0.2222222222222222,
              "#7201a8"
             ],
             [
              0.3333333333333333,
              "#9c179e"
             ],
             [
              0.4444444444444444,
              "#bd3786"
             ],
             [
              0.5555555555555556,
              "#d8576b"
             ],
             [
              0.6666666666666666,
              "#ed7953"
             ],
             [
              0.7777777777777778,
              "#fb9f3a"
             ],
             [
              0.8888888888888888,
              "#fdca26"
             ],
             [
              1,
              "#f0f921"
             ]
            ],
            "type": "surface"
           }
          ],
          "table": [
           {
            "cells": {
             "fill": {
              "color": "#506784"
             },
             "line": {
              "color": "rgb(17,17,17)"
             }
            },
            "header": {
             "fill": {
              "color": "#2a3f5f"
             },
             "line": {
              "color": "rgb(17,17,17)"
             }
            },
            "type": "table"
           }
          ]
         },
         "layout": {
          "annotationdefaults": {
           "arrowcolor": "#f2f5fa",
           "arrowhead": 0,
           "arrowwidth": 1
          },
          "autotypenumbers": "strict",
          "coloraxis": {
           "colorbar": {
            "outlinewidth": 0,
            "ticks": ""
           }
          },
          "colorscale": {
           "diverging": [
            [
             0,
             "#8e0152"
            ],
            [
             0.1,
             "#c51b7d"
            ],
            [
             0.2,
             "#de77ae"
            ],
            [
             0.3,
             "#f1b6da"
            ],
            [
             0.4,
             "#fde0ef"
            ],
            [
             0.5,
             "#f7f7f7"
            ],
            [
             0.6,
             "#e6f5d0"
            ],
            [
             0.7,
             "#b8e186"
            ],
            [
             0.8,
             "#7fbc41"
            ],
            [
             0.9,
             "#4d9221"
            ],
            [
             1,
             "#276419"
            ]
           ],
           "sequential": [
            [
             0,
             "#0d0887"
            ],
            [
             0.1111111111111111,
             "#46039f"
            ],
            [
             0.2222222222222222,
             "#7201a8"
            ],
            [
             0.3333333333333333,
             "#9c179e"
            ],
            [
             0.4444444444444444,
             "#bd3786"
            ],
            [
             0.5555555555555556,
             "#d8576b"
            ],
            [
             0.6666666666666666,
             "#ed7953"
            ],
            [
             0.7777777777777778,
             "#fb9f3a"
            ],
            [
             0.8888888888888888,
             "#fdca26"
            ],
            [
             1,
             "#f0f921"
            ]
           ],
           "sequentialminus": [
            [
             0,
             "#0d0887"
            ],
            [
             0.1111111111111111,
             "#46039f"
            ],
            [
             0.2222222222222222,
             "#7201a8"
            ],
            [
             0.3333333333333333,
             "#9c179e"
            ],
            [
             0.4444444444444444,
             "#bd3786"
            ],
            [
             0.5555555555555556,
             "#d8576b"
            ],
            [
             0.6666666666666666,
             "#ed7953"
            ],
            [
             0.7777777777777778,
             "#fb9f3a"
            ],
            [
             0.8888888888888888,
             "#fdca26"
            ],
            [
             1,
             "#f0f921"
            ]
           ]
          },
          "colorway": [
           "#636efa",
           "#EF553B",
           "#00cc96",
           "#ab63fa",
           "#FFA15A",
           "#19d3f3",
           "#FF6692",
           "#B6E880",
           "#FF97FF",
           "#FECB52"
          ],
          "font": {
           "color": "#f2f5fa"
          },
          "geo": {
           "bgcolor": "rgb(17,17,17)",
           "lakecolor": "rgb(17,17,17)",
           "landcolor": "rgb(17,17,17)",
           "showlakes": true,
           "showland": true,
           "subunitcolor": "#506784"
          },
          "hoverlabel": {
           "align": "left"
          },
          "hovermode": "closest",
          "mapbox": {
           "style": "dark"
          },
          "paper_bgcolor": "rgb(17,17,17)",
          "plot_bgcolor": "rgb(17,17,17)",
          "polar": {
           "angularaxis": {
            "gridcolor": "#506784",
            "linecolor": "#506784",
            "ticks": ""
           },
           "bgcolor": "rgb(17,17,17)",
           "radialaxis": {
            "gridcolor": "#506784",
            "linecolor": "#506784",
            "ticks": ""
           }
          },
          "scene": {
           "xaxis": {
            "backgroundcolor": "rgb(17,17,17)",
            "gridcolor": "#506784",
            "gridwidth": 2,
            "linecolor": "#506784",
            "showbackground": true,
            "ticks": "",
            "zerolinecolor": "#C8D4E3"
           },
           "yaxis": {
            "backgroundcolor": "rgb(17,17,17)",
            "gridcolor": "#506784",
            "gridwidth": 2,
            "linecolor": "#506784",
            "showbackground": true,
            "ticks": "",
            "zerolinecolor": "#C8D4E3"
           },
           "zaxis": {
            "backgroundcolor": "rgb(17,17,17)",
            "gridcolor": "#506784",
            "gridwidth": 2,
            "linecolor": "#506784",
            "showbackground": true,
            "ticks": "",
            "zerolinecolor": "#C8D4E3"
           }
          },
          "shapedefaults": {
           "line": {
            "color": "#f2f5fa"
           }
          },
          "sliderdefaults": {
           "bgcolor": "#C8D4E3",
           "bordercolor": "rgb(17,17,17)",
           "borderwidth": 1,
           "tickwidth": 0
          },
          "ternary": {
           "aaxis": {
            "gridcolor": "#506784",
            "linecolor": "#506784",
            "ticks": ""
           },
           "baxis": {
            "gridcolor": "#506784",
            "linecolor": "#506784",
            "ticks": ""
           },
           "bgcolor": "rgb(17,17,17)",
           "caxis": {
            "gridcolor": "#506784",
            "linecolor": "#506784",
            "ticks": ""
           }
          },
          "title": {
           "x": 0.05
          },
          "updatemenudefaults": {
           "bgcolor": "#506784",
           "borderwidth": 0
          },
          "xaxis": {
           "automargin": true,
           "gridcolor": "#283442",
           "linecolor": "#506784",
           "ticks": "",
           "title": {
            "standoff": 15
           },
           "zerolinecolor": "#283442",
           "zerolinewidth": 2
          },
          "yaxis": {
           "automargin": true,
           "gridcolor": "#283442",
           "linecolor": "#506784",
           "ticks": "",
           "title": {
            "standoff": 15
           },
           "zerolinecolor": "#283442",
           "zerolinewidth": 2
          }
         }
        },
        "title": {
         "font": {
          "size": 24
         },
         "text": "Verteilung der genetischen Krankheiten bei Hunderassen",
         "x": 0.5,
         "xanchor": "center"
        },
        "xaxis": {
         "anchor": "y",
         "domain": [
          0,
          1
         ],
         "tickangle": 45,
         "tickfont": {
          "color": "white",
          "size": 12
         },
         "title": {
          "font": {
           "color": "white",
           "size": 16
          },
          "text": "Krankheitskategorie"
         }
        },
        "yaxis": {
         "anchor": "x",
         "domain": [
          0,
          1
         ],
         "tickfont": {
          "color": "white",
          "size": 12
         },
         "title": {
          "font": {
           "color": "white",
           "size": 16
          },
          "text": "Anzahl Rassen"
         }
        }
       }
      }
     },
     "metadata": {},
     "output_type": "display_data"
    }
   ],
   "source": [
    "# Häufigkeiten zählen und nach Häufigkeit sortieren\n",
    "ailment_counts = data['Simplified_Ailments'].value_counts()\n",
    "\n",
    "# Bar Chart erstellen\n",
    "fig = px.bar(\n",
    "    x=ailment_counts.index,\n",
    "    y=ailment_counts.values,\n",
    "    title='Verteilung der genetischen Krankheiten bei Hunderassen',\n",
    "    labels={'x': 'Krankheitskategorie', 'y': 'Anzahl Rassen'},\n",
    "    template='plotly_dark',\n",
    "    color=ailment_counts.values\n",
    ")\n",
    "\n",
    "# Styling anpassen\n",
    "fig.update_layout(\n",
    "    title_x=0.5,\n",
    "    title_xanchor='center',\n",
    "    showlegend=False,\n",
    "    title_font_size = 24\n",
    ")\n",
    "\n",
    "# Balken mit weißer Umrandung\n",
    "fig.update_traces(\n",
    "    marker=dict(\n",
    "        line=dict(color='white', width=1)\n",
    "    ),\n",
    "    # Hover-Informationen\n",
    "    hovertemplate='<b>%{x}</b><br>' +\n",
    "                  'Anzahl: %{y} Rassen<br>' +\n",
    "                  'Anteil: %{customdata:.1f}%<br>' +\n",
    "                  '<extra></extra>',\n",
    "    customdata=[(count / len(data)) * 100 for count in ailment_counts.values]\n",
    ")\n",
    "\n",
    "# Achsen anpassen\n",
    "fig.update_xaxes(\n",
    "    tickangle=45,\n",
    "    title_font=dict(size=16, color=\"white\"),\n",
    "    tickfont=dict(size=12, color=\"white\")\n",
    ")\n",
    "\n",
    "fig.update_yaxes(\n",
    "    title_font=dict(size=16, color=\"white\"),\n",
    "    tickfont=dict(size=12, color=\"white\")\n",
    ")\n",
    "\n",
    "# Farbskala ausblenden\n",
    "fig.update_coloraxes(showscale=False)\n",
    "\n",
    "fig.show()\n",
    "\n",
    "#fig.write_html('count_ailments.html')\n",
    "\n"
   ]
  },
  {
   "cell_type": "code",
   "execution_count": 83,
   "id": "809a71de",
   "metadata": {},
   "outputs": [
    {
     "data": {
      "application/vnd.plotly.v1+json": {
       "config": {
        "plotlyServerURL": "https://plot.ly"
       },
       "data": [
        {
         "hovertemplate": "<b>%{hovertext}</b><br><br>Häufige Krankheiten=%{x}<br>Popularitäts-Ranking (1 = beliebtester)=%{marker.color}<extra></extra>",
         "hovertext": [
          "Border Terrier",
          "Cairn Terrier",
          "Siberian Husky",
          "Welsh Springer Spaniel",
          "English Cocker Spaniel",
          "Cocker Spaniel",
          "Lhasa Apso",
          "English Springer Spaniel",
          "Shetland Sheepdog",
          "West Highland White Terrier",
          "Brittany",
          "German Shorthaired Pointer",
          "Pointer",
          "Tibetan Spaniel",
          "Labrador Retriever",
          "Bichon Frise",
          "Irish Setter",
          "Samoyed",
          "Shih Tzu",
          "Golden Retriever",
          "Chesapeake Bay Retriever",
          "Papillon",
          "Gordon Setter",
          "English Setter",
          "Pug",
          "Affenpinscher",
          "Miniature Schnauzer",
          "Beagle",
          "Border Collie",
          "Australian Terrier",
          "Whippet",
          "Boston Terrier",
          "Briard",
          "Bedlington Terrier",
          "Cavalier King Charles Spaniel",
          "Dalmatian",
          "Flat-Coated Retriever",
          "Belgian Tervuren",
          "Basset Hound",
          "Poodle",
          "Staffordshire Bull Terrier",
          "Bouvier des Flandres",
          "Pembroke Welsh Corgi",
          "Clumber Spaniel",
          "Pomeranian",
          "Australian Shepherd",
          "Pharaoh Hound",
          "Dandie Dinmont Terrier",
          "Greyhound",
          "Saluki",
          "Australian Cattle Dog",
          "Tibetan Terrier",
          "Norfolk Terrier",
          "Dachshund",
          "Chihuahua",
          "Doberman Pinscher",
          "English Toy Spaniel",
          "Newfoundland",
          "Basenji",
          "Afghan Hound",
          "Old English Sheepdog",
          "French Bulldog",
          "Bernese Mountain Dog",
          "Boxer",
          "Brussels Griffon",
          "Maltese",
          "Giant Schnauzer",
          "Rottweiler",
          "Yorkshire Terrier",
          "Irish Wolfhound",
          "Scottish Terrier",
          "Bullmastiff",
          "German Shepherd",
          "Mastiff",
          "Great Dane",
          "Kerry Blue Terrier",
          "Italian Greyhound",
          "Pekingese",
          "Rhodesian Ridgeback",
          "Bull Terrier",
          "Saint Bernard",
          "Borzoi",
          "Alaskan Malamute",
          "Bloodhound",
          "Chow Chow",
          "Akita",
          "Bulldog"
         ],
         "legendgroup": "",
         "marker": {
          "color": {
           "bdata": "PTAQUTMbMh0UIB4PSkkBIjg3CwQoIUVBGlQMAydNLhZPUxU5Q0gkCDo+GVIRGFZXVUsxQEwJDg1QJURCPxIfBzsXRgoFPC0jAhwTTjU0JiwrRy8qNikG",
           "dtype": "i1"
          },
          "coloraxis": "coloraxis",
          "line": {
           "color": "DarkSlateGrey",
           "width": 1
          },
          "opacity": 0.7,
          "size": 12,
          "symbol": "circle"
         },
         "mode": "markers",
         "name": "",
         "orientation": "v",
         "showlegend": false,
         "type": "scatter",
         "x": [
          "Keine/Unbekannt",
          "Herzprobleme",
          "Keine/Unbekannt",
          "Hüftprobleme",
          "Keine/Unbekannt",
          "Augenprobleme",
          "Augenprobleme",
          "Augenprobleme",
          "Augenprobleme",
          "Augenprobleme",
          "Keine/Unbekannt",
          "Hüftprobleme",
          "Hüftprobleme",
          "Keine/Unbekannt",
          "Augenprobleme",
          "Keine/Unbekannt",
          "Augenprobleme",
          "Hüftprobleme",
          "Augenprobleme",
          "Augenprobleme",
          "Hüftprobleme",
          "Augenprobleme",
          "Keine/Unbekannt",
          "Hüftprobleme",
          "Augenprobleme",
          "Keine/Unbekannt",
          "Andere",
          "Herzprobleme",
          "Augenprobleme",
          "Keine/Unbekannt",
          "Keine/Unbekannt",
          "Andere",
          "Hüftprobleme",
          "Augenprobleme",
          "Herzprobleme",
          "Andere",
          "Keine/Unbekannt",
          "Augenprobleme",
          "Hautprobleme",
          "Hautprobleme",
          "Hüftprobleme",
          "Hüftprobleme",
          "Augenprobleme",
          "Keine/Unbekannt",
          "Herzprobleme",
          "Hüftprobleme",
          "Keine/Unbekannt",
          "Keine/Unbekannt",
          "Andere",
          "Keine/Unbekannt",
          "Hüftprobleme",
          "Keine/Unbekannt",
          "Keine/Unbekannt",
          "Hautprobleme",
          "Andere",
          "Herzprobleme",
          "Keine/Unbekannt",
          "Hüftprobleme",
          "Augenprobleme",
          "Keine/Unbekannt",
          "Hüftprobleme",
          "Keine/Unbekannt",
          "Hüftprobleme",
          "Augenprobleme",
          "Keine/Unbekannt",
          "Herzprobleme",
          "Hüftprobleme",
          "Hüftprobleme",
          "Augenprobleme",
          "Hüftprobleme",
          "Andere",
          "Augenprobleme",
          "Hüftprobleme",
          "Hüftprobleme",
          "Hüftprobleme",
          "Herzprobleme",
          "Keine/Unbekannt",
          "Andere",
          "Hüftprobleme",
          "Herzprobleme",
          "Hüftprobleme",
          "Keine/Unbekannt",
          "Hüftprobleme",
          "Hautprobleme",
          "Augenprobleme",
          "Hüftprobleme",
          "Augenprobleme"
         ],
         "xaxis": "x",
         "y": {
          "bdata": "PTAQUTMbMh0UIB4PSkkBIjg3CwQoIUVBGlQMAydNLhZPUxU5Q0gkCDo+GVIRGFZXVUsxQEwJDg1QJURCPxIfBzsXRgoFPC0jAhwTTjU0JiwrRy8qNikG",
          "dtype": "i1"
         },
         "yaxis": "y"
        }
       ],
       "layout": {
        "coloraxis": {
         "colorbar": {
          "title": {
           "text": "Popularitäts-Ranking (1 = beliebtester)"
          }
         },
         "colorscale": [
          [
           0,
           "#0d0887"
          ],
          [
           0.1111111111111111,
           "#46039f"
          ],
          [
           0.2222222222222222,
           "#7201a8"
          ],
          [
           0.3333333333333333,
           "#9c179e"
          ],
          [
           0.4444444444444444,
           "#bd3786"
          ],
          [
           0.5555555555555556,
           "#d8576b"
          ],
          [
           0.6666666666666666,
           "#ed7953"
          ],
          [
           0.7777777777777778,
           "#fb9f3a"
          ],
          [
           0.8888888888888888,
           "#fdca26"
          ],
          [
           1,
           "#f0f921"
          ]
         ]
        },
        "font": {
         "color": "#2c3272",
         "family": "Trebuchet MS",
         "size": 12
        },
        "legend": {
         "title": {
          "text": "Krankheitskategorie"
         },
         "tracegroupgap": 0
        },
        "showlegend": true,
        "template": {
         "data": {
          "bar": [
           {
            "error_x": {
             "color": "#2a3f5f"
            },
            "error_y": {
             "color": "#2a3f5f"
            },
            "marker": {
             "line": {
              "color": "#E5ECF6",
              "width": 0.5
             },
             "pattern": {
              "fillmode": "overlay",
              "size": 10,
              "solidity": 0.2
             }
            },
            "type": "bar"
           }
          ],
          "barpolar": [
           {
            "marker": {
             "line": {
              "color": "#E5ECF6",
              "width": 0.5
             },
             "pattern": {
              "fillmode": "overlay",
              "size": 10,
              "solidity": 0.2
             }
            },
            "type": "barpolar"
           }
          ],
          "carpet": [
           {
            "aaxis": {
             "endlinecolor": "#2a3f5f",
             "gridcolor": "white",
             "linecolor": "white",
             "minorgridcolor": "white",
             "startlinecolor": "#2a3f5f"
            },
            "baxis": {
             "endlinecolor": "#2a3f5f",
             "gridcolor": "white",
             "linecolor": "white",
             "minorgridcolor": "white",
             "startlinecolor": "#2a3f5f"
            },
            "type": "carpet"
           }
          ],
          "choropleth": [
           {
            "colorbar": {
             "outlinewidth": 0,
             "ticks": ""
            },
            "type": "choropleth"
           }
          ],
          "contour": [
           {
            "colorbar": {
             "outlinewidth": 0,
             "ticks": ""
            },
            "colorscale": [
             [
              0,
              "#0d0887"
             ],
             [
              0.1111111111111111,
              "#46039f"
             ],
             [
              0.2222222222222222,
              "#7201a8"
             ],
             [
              0.3333333333333333,
              "#9c179e"
             ],
             [
              0.4444444444444444,
              "#bd3786"
             ],
             [
              0.5555555555555556,
              "#d8576b"
             ],
             [
              0.6666666666666666,
              "#ed7953"
             ],
             [
              0.7777777777777778,
              "#fb9f3a"
             ],
             [
              0.8888888888888888,
              "#fdca26"
             ],
             [
              1,
              "#f0f921"
             ]
            ],
            "type": "contour"
           }
          ],
          "contourcarpet": [
           {
            "colorbar": {
             "outlinewidth": 0,
             "ticks": ""
            },
            "type": "contourcarpet"
           }
          ],
          "heatmap": [
           {
            "colorbar": {
             "outlinewidth": 0,
             "ticks": ""
            },
            "colorscale": [
             [
              0,
              "#0d0887"
             ],
             [
              0.1111111111111111,
              "#46039f"
             ],
             [
              0.2222222222222222,
              "#7201a8"
             ],
             [
              0.3333333333333333,
              "#9c179e"
             ],
             [
              0.4444444444444444,
              "#bd3786"
             ],
             [
              0.5555555555555556,
              "#d8576b"
             ],
             [
              0.6666666666666666,
              "#ed7953"
             ],
             [
              0.7777777777777778,
              "#fb9f3a"
             ],
             [
              0.8888888888888888,
              "#fdca26"
             ],
             [
              1,
              "#f0f921"
             ]
            ],
            "type": "heatmap"
           }
          ],
          "histogram": [
           {
            "marker": {
             "pattern": {
              "fillmode": "overlay",
              "size": 10,
              "solidity": 0.2
             }
            },
            "type": "histogram"
           }
          ],
          "histogram2d": [
           {
            "colorbar": {
             "outlinewidth": 0,
             "ticks": ""
            },
            "colorscale": [
             [
              0,
              "#0d0887"
             ],
             [
              0.1111111111111111,
              "#46039f"
             ],
             [
              0.2222222222222222,
              "#7201a8"
             ],
             [
              0.3333333333333333,
              "#9c179e"
             ],
             [
              0.4444444444444444,
              "#bd3786"
             ],
             [
              0.5555555555555556,
              "#d8576b"
             ],
             [
              0.6666666666666666,
              "#ed7953"
             ],
             [
              0.7777777777777778,
              "#fb9f3a"
             ],
             [
              0.8888888888888888,
              "#fdca26"
             ],
             [
              1,
              "#f0f921"
             ]
            ],
            "type": "histogram2d"
           }
          ],
          "histogram2dcontour": [
           {
            "colorbar": {
             "outlinewidth": 0,
             "ticks": ""
            },
            "colorscale": [
             [
              0,
              "#0d0887"
             ],
             [
              0.1111111111111111,
              "#46039f"
             ],
             [
              0.2222222222222222,
              "#7201a8"
             ],
             [
              0.3333333333333333,
              "#9c179e"
             ],
             [
              0.4444444444444444,
              "#bd3786"
             ],
             [
              0.5555555555555556,
              "#d8576b"
             ],
             [
              0.6666666666666666,
              "#ed7953"
             ],
             [
              0.7777777777777778,
              "#fb9f3a"
             ],
             [
              0.8888888888888888,
              "#fdca26"
             ],
             [
              1,
              "#f0f921"
             ]
            ],
            "type": "histogram2dcontour"
           }
          ],
          "mesh3d": [
           {
            "colorbar": {
             "outlinewidth": 0,
             "ticks": ""
            },
            "type": "mesh3d"
           }
          ],
          "parcoords": [
           {
            "line": {
             "colorbar": {
              "outlinewidth": 0,
              "ticks": ""
             }
            },
            "type": "parcoords"
           }
          ],
          "pie": [
           {
            "automargin": true,
            "type": "pie"
           }
          ],
          "scatter": [
           {
            "fillpattern": {
             "fillmode": "overlay",
             "size": 10,
             "solidity": 0.2
            },
            "type": "scatter"
           }
          ],
          "scatter3d": [
           {
            "line": {
             "colorbar": {
              "outlinewidth": 0,
              "ticks": ""
             }
            },
            "marker": {
             "colorbar": {
              "outlinewidth": 0,
              "ticks": ""
             }
            },
            "type": "scatter3d"
           }
          ],
          "scattercarpet": [
           {
            "marker": {
             "colorbar": {
              "outlinewidth": 0,
              "ticks": ""
             }
            },
            "type": "scattercarpet"
           }
          ],
          "scattergeo": [
           {
            "marker": {
             "colorbar": {
              "outlinewidth": 0,
              "ticks": ""
             }
            },
            "type": "scattergeo"
           }
          ],
          "scattergl": [
           {
            "marker": {
             "colorbar": {
              "outlinewidth": 0,
              "ticks": ""
             }
            },
            "type": "scattergl"
           }
          ],
          "scattermap": [
           {
            "marker": {
             "colorbar": {
              "outlinewidth": 0,
              "ticks": ""
             }
            },
            "type": "scattermap"
           }
          ],
          "scattermapbox": [
           {
            "marker": {
             "colorbar": {
              "outlinewidth": 0,
              "ticks": ""
             }
            },
            "type": "scattermapbox"
           }
          ],
          "scatterpolar": [
           {
            "marker": {
             "colorbar": {
              "outlinewidth": 0,
              "ticks": ""
             }
            },
            "type": "scatterpolar"
           }
          ],
          "scatterpolargl": [
           {
            "marker": {
             "colorbar": {
              "outlinewidth": 0,
              "ticks": ""
             }
            },
            "type": "scatterpolargl"
           }
          ],
          "scatterternary": [
           {
            "marker": {
             "colorbar": {
              "outlinewidth": 0,
              "ticks": ""
             }
            },
            "type": "scatterternary"
           }
          ],
          "surface": [
           {
            "colorbar": {
             "outlinewidth": 0,
             "ticks": ""
            },
            "colorscale": [
             [
              0,
              "#0d0887"
             ],
             [
              0.1111111111111111,
              "#46039f"
             ],
             [
              0.2222222222222222,
              "#7201a8"
             ],
             [
              0.3333333333333333,
              "#9c179e"
             ],
             [
              0.4444444444444444,
              "#bd3786"
             ],
             [
              0.5555555555555556,
              "#d8576b"
             ],
             [
              0.6666666666666666,
              "#ed7953"
             ],
             [
              0.7777777777777778,
              "#fb9f3a"
             ],
             [
              0.8888888888888888,
              "#fdca26"
             ],
             [
              1,
              "#f0f921"
             ]
            ],
            "type": "surface"
           }
          ],
          "table": [
           {
            "cells": {
             "fill": {
              "color": "#EBF0F8"
             },
             "line": {
              "color": "white"
             }
            },
            "header": {
             "fill": {
              "color": "#C8D4E3"
             },
             "line": {
              "color": "white"
             }
            },
            "type": "table"
           }
          ]
         },
         "layout": {
          "annotationdefaults": {
           "arrowcolor": "#2a3f5f",
           "arrowhead": 0,
           "arrowwidth": 1
          },
          "autotypenumbers": "strict",
          "coloraxis": {
           "colorbar": {
            "outlinewidth": 0,
            "ticks": ""
           }
          },
          "colorscale": {
           "diverging": [
            [
             0,
             "#8e0152"
            ],
            [
             0.1,
             "#c51b7d"
            ],
            [
             0.2,
             "#de77ae"
            ],
            [
             0.3,
             "#f1b6da"
            ],
            [
             0.4,
             "#fde0ef"
            ],
            [
             0.5,
             "#f7f7f7"
            ],
            [
             0.6,
             "#e6f5d0"
            ],
            [
             0.7,
             "#b8e186"
            ],
            [
             0.8,
             "#7fbc41"
            ],
            [
             0.9,
             "#4d9221"
            ],
            [
             1,
             "#276419"
            ]
           ],
           "sequential": [
            [
             0,
             "#0d0887"
            ],
            [
             0.1111111111111111,
             "#46039f"
            ],
            [
             0.2222222222222222,
             "#7201a8"
            ],
            [
             0.3333333333333333,
             "#9c179e"
            ],
            [
             0.4444444444444444,
             "#bd3786"
            ],
            [
             0.5555555555555556,
             "#d8576b"
            ],
            [
             0.6666666666666666,
             "#ed7953"
            ],
            [
             0.7777777777777778,
             "#fb9f3a"
            ],
            [
             0.8888888888888888,
             "#fdca26"
            ],
            [
             1,
             "#f0f921"
            ]
           ],
           "sequentialminus": [
            [
             0,
             "#0d0887"
            ],
            [
             0.1111111111111111,
             "#46039f"
            ],
            [
             0.2222222222222222,
             "#7201a8"
            ],
            [
             0.3333333333333333,
             "#9c179e"
            ],
            [
             0.4444444444444444,
             "#bd3786"
            ],
            [
             0.5555555555555556,
             "#d8576b"
            ],
            [
             0.6666666666666666,
             "#ed7953"
            ],
            [
             0.7777777777777778,
             "#fb9f3a"
            ],
            [
             0.8888888888888888,
             "#fdca26"
            ],
            [
             1,
             "#f0f921"
            ]
           ]
          },
          "colorway": [
           "#636efa",
           "#EF553B",
           "#00cc96",
           "#ab63fa",
           "#FFA15A",
           "#19d3f3",
           "#FF6692",
           "#B6E880",
           "#FF97FF",
           "#FECB52"
          ],
          "font": {
           "color": "#2a3f5f"
          },
          "geo": {
           "bgcolor": "white",
           "lakecolor": "white",
           "landcolor": "#E5ECF6",
           "showlakes": true,
           "showland": true,
           "subunitcolor": "white"
          },
          "hoverlabel": {
           "align": "left"
          },
          "hovermode": "closest",
          "mapbox": {
           "style": "light"
          },
          "paper_bgcolor": "white",
          "plot_bgcolor": "#E5ECF6",
          "polar": {
           "angularaxis": {
            "gridcolor": "white",
            "linecolor": "white",
            "ticks": ""
           },
           "bgcolor": "#E5ECF6",
           "radialaxis": {
            "gridcolor": "white",
            "linecolor": "white",
            "ticks": ""
           }
          },
          "scene": {
           "xaxis": {
            "backgroundcolor": "#E5ECF6",
            "gridcolor": "white",
            "gridwidth": 2,
            "linecolor": "white",
            "showbackground": true,
            "ticks": "",
            "zerolinecolor": "white"
           },
           "yaxis": {
            "backgroundcolor": "#E5ECF6",
            "gridcolor": "white",
            "gridwidth": 2,
            "linecolor": "white",
            "showbackground": true,
            "ticks": "",
            "zerolinecolor": "white"
           },
           "zaxis": {
            "backgroundcolor": "#E5ECF6",
            "gridcolor": "white",
            "gridwidth": 2,
            "linecolor": "white",
            "showbackground": true,
            "ticks": "",
            "zerolinecolor": "white"
           }
          },
          "shapedefaults": {
           "line": {
            "color": "#2a3f5f"
           }
          },
          "ternary": {
           "aaxis": {
            "gridcolor": "white",
            "linecolor": "white",
            "ticks": ""
           },
           "baxis": {
            "gridcolor": "white",
            "linecolor": "white",
            "ticks": ""
           },
           "bgcolor": "#E5ECF6",
           "caxis": {
            "gridcolor": "white",
            "linecolor": "white",
            "ticks": ""
           }
          },
          "title": {
           "x": 0.05
          },
          "xaxis": {
           "automargin": true,
           "gridcolor": "white",
           "linecolor": "white",
           "ticks": "",
           "title": {
            "standoff": 15
           },
           "zerolinecolor": "white",
           "zerolinewidth": 2
          },
          "yaxis": {
           "automargin": true,
           "gridcolor": "white",
           "linecolor": "white",
           "ticks": "",
           "title": {
            "standoff": 15
           },
           "zerolinecolor": "white",
           "zerolinewidth": 2
          }
         }
        },
        "title": {
         "font": {
          "color": "#2c3272",
          "family": "Trebuchet MS",
          "size": 20
         },
         "text": "Zusammenhang zwischen Hundekrankheiten und Rassenpopularität",
         "x": 0.5
        },
        "xaxis": {
         "anchor": "y",
         "categoryarray": [
          "Keine/Unbekannt",
          "Augenprobleme",
          "Hüftprobleme",
          "Herzprobleme",
          "Hautprobleme",
          "Andere"
         ],
         "categoryorder": "array",
         "domain": [
          0,
          1
         ],
         "title": {
          "text": "Krankheitskategorie"
         }
        },
        "yaxis": {
         "anchor": "x",
         "autorange": "reversed",
         "domain": [
          0,
          1
         ],
         "tickmode": "array",
         "tickvals": [
          1,
          6,
          11,
          16,
          21,
          26,
          31,
          36,
          41,
          46,
          51,
          56,
          61,
          66,
          71,
          76,
          81,
          86
         ],
         "title": {
          "text": "Popularitäts-Ranking (1-87)"
         }
        }
       }
      }
     },
     "metadata": {},
     "output_type": "display_data"
    }
   ],
   "source": [
    "# Vorbereitung der Daten\n",
    "data['Simplified_Ailments'] = data['GENETIC AILMENTS'].apply(simplify_ailments)\n",
    "\n",
    "# Erstellen des Scatter-Plots\n",
    "fig = px.scatter(\n",
    "    data,\n",
    "    x='Simplified_Ailments',  # Verwenden Sie die kategorisierten Krankheiten\n",
    "    y='popularity ranking',\n",
    "    hover_name='Breed',\n",
    "    labels={\n",
    "        \"Simplified_Ailments\": \"Häufige Krankheiten\", \n",
    "        \"popularity ranking\": \"Popularitäts-Ranking (1 = beliebtester)\"\n",
    "    },\n",
    "    title='Zusammenhang zwischen Hundekrankheiten und Rassenpopularität',\n",
    "    color='popularity ranking',  # Farbe nach Krankheitskategorie\n",
    "    category_orders={\"Simplified_Ailments\": [\"Keine/Unbekannt\", \"Augenprobleme\", \"Hüftprobleme\", \n",
    "                                           \"Herzprobleme\", \"Hautprobleme\", \"Andere\"]}\n",
    ")\n",
    "\n",
    "# Layout-Anpassungen\n",
    "fig.update_layout(\n",
    "    font=dict(\n",
    "        family=\"Trebuchet MS\",\n",
    "        size=12,\n",
    "        color=\"#2c3272\",\n",
    "    ),\n",
    "    title_font=dict(\n",
    "        family=\"Trebuchet MS\",\n",
    "        size=20,\n",
    "        color=\"#2c3272\" \n",
    "    ),\n",
    "    title_x=0.5,\n",
    "    xaxis_title=\"Krankheitskategorie\",\n",
    "    yaxis_title=\"Popularitäts-Ranking (1-87)\",\n",
    "    showlegend=True,\n",
    "    legend_title_text=\"Krankheitskategorie\"\n",
    ")\n",
    "\n",
    "# Y-Achse anpassen (höhere Zahlen = weniger populär)\n",
    "fig.update_yaxes(\n",
    "    autorange='reversed',\n",
    "    tickmode='array',\n",
    "    tickvals=list(range(1, 88, 5))\n",
    ")\n",
    "\n",
    "# Marker anpassen\n",
    "fig.update_traces(\n",
    "    marker=dict(\n",
    "        size=12,\n",
    "        opacity=0.7,\n",
    "        line=dict(width=1, color='DarkSlateGrey')\n",
    "    )\n",
    ")\n",
    "\n",
    "fig.show()"
   ]
  },
  {
   "cell_type": "code",
   "execution_count": null,
   "id": "8f1f296b",
   "metadata": {},
   "outputs": [
    {
     "data": {
      "application/vnd.plotly.v1+json": {
       "config": {
        "plotlyServerURL": "https://plot.ly"
       },
       "data": [
        {
         "alignmentgroup": "True",
         "hovertemplate": "Simplified_Ailments=%{x}<br>popularity ranking=%{y}<extra></extra>",
         "legendgroup": "Keine/Unbekannt",
         "marker": {
          "color": "#636efa"
         },
         "name": "Keine/Unbekannt",
         "notched": false,
         "offsetgroup": "Keine/Unbekannt",
         "orientation": "v",
         "showlegend": true,
         "type": "box",
         "x": [
          "Keine/Unbekannt",
          "Keine/Unbekannt",
          "Keine/Unbekannt",
          "Keine/Unbekannt",
          "Keine/Unbekannt",
          "Keine/Unbekannt",
          "Keine/Unbekannt",
          "Keine/Unbekannt",
          "Keine/Unbekannt",
          "Keine/Unbekannt",
          "Keine/Unbekannt",
          "Keine/Unbekannt",
          "Keine/Unbekannt",
          "Keine/Unbekannt",
          "Keine/Unbekannt",
          "Keine/Unbekannt",
          "Keine/Unbekannt",
          "Keine/Unbekannt",
          "Keine/Unbekannt",
          "Keine/Unbekannt",
          "Keine/Unbekannt",
          "Keine/Unbekannt",
          "Keine/Unbekannt"
         ],
         "x0": " ",
         "xaxis": "x",
         "y": {
          "bdata": "PRAzHkkiRVRNLkNSVldLQExQQhI7NUc=",
          "dtype": "i1"
         },
         "y0": " ",
         "yaxis": "y"
        },
        {
         "alignmentgroup": "True",
         "hovertemplate": "Simplified_Ailments=%{x}<br>popularity ranking=%{y}<extra></extra>",
         "legendgroup": "Herzprobleme",
         "marker": {
          "color": "#EF553B"
         },
         "name": "Herzprobleme",
         "notched": false,
         "offsetgroup": "Herzprobleme",
         "orientation": "v",
         "showlegend": true,
         "type": "box",
         "x": [
          "Herzprobleme",
          "Herzprobleme",
          "Herzprobleme",
          "Herzprobleme",
          "Herzprobleme",
          "Herzprobleme",
          "Herzprobleme",
          "Herzprobleme"
         ],
         "x0": " ",
         "xaxis": "x",
         "y": {
          "bdata": "MAMVEQ0XTiw=",
          "dtype": "i1"
         },
         "y0": " ",
         "yaxis": "y"
        },
        {
         "alignmentgroup": "True",
         "hovertemplate": "Simplified_Ailments=%{x}<br>popularity ranking=%{y}<extra></extra>",
         "legendgroup": "Hüftprobleme",
         "marker": {
          "color": "#00cc96"
         },
         "name": "Hüftprobleme",
         "notched": false,
         "offsetgroup": "Hüftprobleme",
         "orientation": "v",
         "showlegend": true,
         "type": "box",
         "x": [
          "Hüftprobleme",
          "Hüftprobleme",
          "Hüftprobleme",
          "Hüftprobleme",
          "Hüftprobleme",
          "Hüftprobleme",
          "Hüftprobleme",
          "Hüftprobleme",
          "Hüftprobleme",
          "Hüftprobleme",
          "Hüftprobleme",
          "Hüftprobleme",
          "Hüftprobleme",
          "Hüftprobleme",
          "Hüftprobleme",
          "Hüftprobleme",
          "Hüftprobleme",
          "Hüftprobleme",
          "Hüftprobleme",
          "Hüftprobleme",
          "Hüftprobleme",
          "Hüftprobleme",
          "Hüftprobleme",
          "Hüftprobleme"
         ],
         "x0": " ",
         "xaxis": "x",
         "y": {
          "bdata": "UQ9KNyhBTzo+GDElPx9GCjwCHBMmKy8p",
          "dtype": "i1"
         },
         "y0": " ",
         "yaxis": "y"
        },
        {
         "alignmentgroup": "True",
         "hovertemplate": "Simplified_Ailments=%{x}<br>popularity ranking=%{y}<extra></extra>",
         "legendgroup": "Augenprobleme",
         "marker": {
          "color": "#ab63fa"
         },
         "name": "Augenprobleme",
         "notched": false,
         "offsetgroup": "Augenprobleme",
         "orientation": "v",
         "showlegend": true,
         "type": "box",
         "x": [
          "Augenprobleme",
          "Augenprobleme",
          "Augenprobleme",
          "Augenprobleme",
          "Augenprobleme",
          "Augenprobleme",
          "Augenprobleme",
          "Augenprobleme",
          "Augenprobleme",
          "Augenprobleme",
          "Augenprobleme",
          "Augenprobleme",
          "Augenprobleme",
          "Augenprobleme",
          "Augenprobleme",
          "Augenprobleme",
          "Augenprobleme",
          "Augenprobleme",
          "Augenprobleme",
          "Augenprobleme",
          "Augenprobleme"
         ],
         "x0": " ",
         "xaxis": "x",
         "y": {
          "bdata": "GzIdFCABOAsEIRonU0gZRAcFIzYG",
          "dtype": "i1"
         },
         "y0": " ",
         "yaxis": "y"
        },
        {
         "alignmentgroup": "True",
         "hovertemplate": "Simplified_Ailments=%{x}<br>popularity ranking=%{y}<extra></extra>",
         "legendgroup": "Andere",
         "marker": {
          "color": "#FFA15A"
         },
         "name": "Andere",
         "notched": false,
         "offsetgroup": "Andere",
         "orientation": "v",
         "showlegend": true,
         "type": "box",
         "x": [
          "Andere",
          "Andere",
          "Andere",
          "Andere",
          "Andere",
          "Andere",
          "Andere"
         ],
         "x0": " ",
         "xaxis": "x",
         "y": {
          "bdata": "DBY5VQ4tNA==",
          "dtype": "i1"
         },
         "y0": " ",
         "yaxis": "y"
        },
        {
         "alignmentgroup": "True",
         "hovertemplate": "Simplified_Ailments=%{x}<br>popularity ranking=%{y}<extra></extra>",
         "legendgroup": "Hautprobleme",
         "marker": {
          "color": "#19d3f3"
         },
         "name": "Hautprobleme",
         "notched": false,
         "offsetgroup": "Hautprobleme",
         "orientation": "v",
         "showlegend": true,
         "type": "box",
         "x": [
          "Hautprobleme",
          "Hautprobleme",
          "Hautprobleme",
          "Hautprobleme"
         ],
         "x0": " ",
         "xaxis": "x",
         "y": {
          "bdata": "JAgJKg==",
          "dtype": "i1"
         },
         "y0": " ",
         "yaxis": "y"
        }
       ],
       "layout": {
        "boxmode": "overlay",
        "legend": {
         "title": {
          "text": "Simplified_Ailments"
         },
         "tracegroupgap": 0
        },
        "showlegend": false,
        "template": {
         "data": {
          "bar": [
           {
            "error_x": {
             "color": "#f2f5fa"
            },
            "error_y": {
             "color": "#f2f5fa"
            },
            "marker": {
             "line": {
              "color": "rgb(17,17,17)",
              "width": 0.5
             },
             "pattern": {
              "fillmode": "overlay",
              "size": 10,
              "solidity": 0.2
             }
            },
            "type": "bar"
           }
          ],
          "barpolar": [
           {
            "marker": {
             "line": {
              "color": "rgb(17,17,17)",
              "width": 0.5
             },
             "pattern": {
              "fillmode": "overlay",
              "size": 10,
              "solidity": 0.2
             }
            },
            "type": "barpolar"
           }
          ],
          "carpet": [
           {
            "aaxis": {
             "endlinecolor": "#A2B1C6",
             "gridcolor": "#506784",
             "linecolor": "#506784",
             "minorgridcolor": "#506784",
             "startlinecolor": "#A2B1C6"
            },
            "baxis": {
             "endlinecolor": "#A2B1C6",
             "gridcolor": "#506784",
             "linecolor": "#506784",
             "minorgridcolor": "#506784",
             "startlinecolor": "#A2B1C6"
            },
            "type": "carpet"
           }
          ],
          "choropleth": [
           {
            "colorbar": {
             "outlinewidth": 0,
             "ticks": ""
            },
            "type": "choropleth"
           }
          ],
          "contour": [
           {
            "colorbar": {
             "outlinewidth": 0,
             "ticks": ""
            },
            "colorscale": [
             [
              0,
              "#0d0887"
             ],
             [
              0.1111111111111111,
              "#46039f"
             ],
             [
              0.2222222222222222,
              "#7201a8"
             ],
             [
              0.3333333333333333,
              "#9c179e"
             ],
             [
              0.4444444444444444,
              "#bd3786"
             ],
             [
              0.5555555555555556,
              "#d8576b"
             ],
             [
              0.6666666666666666,
              "#ed7953"
             ],
             [
              0.7777777777777778,
              "#fb9f3a"
             ],
             [
              0.8888888888888888,
              "#fdca26"
             ],
             [
              1,
              "#f0f921"
             ]
            ],
            "type": "contour"
           }
          ],
          "contourcarpet": [
           {
            "colorbar": {
             "outlinewidth": 0,
             "ticks": ""
            },
            "type": "contourcarpet"
           }
          ],
          "heatmap": [
           {
            "colorbar": {
             "outlinewidth": 0,
             "ticks": ""
            },
            "colorscale": [
             [
              0,
              "#0d0887"
             ],
             [
              0.1111111111111111,
              "#46039f"
             ],
             [
              0.2222222222222222,
              "#7201a8"
             ],
             [
              0.3333333333333333,
              "#9c179e"
             ],
             [
              0.4444444444444444,
              "#bd3786"
             ],
             [
              0.5555555555555556,
              "#d8576b"
             ],
             [
              0.6666666666666666,
              "#ed7953"
             ],
             [
              0.7777777777777778,
              "#fb9f3a"
             ],
             [
              0.8888888888888888,
              "#fdca26"
             ],
             [
              1,
              "#f0f921"
             ]
            ],
            "type": "heatmap"
           }
          ],
          "histogram": [
           {
            "marker": {
             "pattern": {
              "fillmode": "overlay",
              "size": 10,
              "solidity": 0.2
             }
            },
            "type": "histogram"
           }
          ],
          "histogram2d": [
           {
            "colorbar": {
             "outlinewidth": 0,
             "ticks": ""
            },
            "colorscale": [
             [
              0,
              "#0d0887"
             ],
             [
              0.1111111111111111,
              "#46039f"
             ],
             [
              0.2222222222222222,
              "#7201a8"
             ],
             [
              0.3333333333333333,
              "#9c179e"
             ],
             [
              0.4444444444444444,
              "#bd3786"
             ],
             [
              0.5555555555555556,
              "#d8576b"
             ],
             [
              0.6666666666666666,
              "#ed7953"
             ],
             [
              0.7777777777777778,
              "#fb9f3a"
             ],
             [
              0.8888888888888888,
              "#fdca26"
             ],
             [
              1,
              "#f0f921"
             ]
            ],
            "type": "histogram2d"
           }
          ],
          "histogram2dcontour": [
           {
            "colorbar": {
             "outlinewidth": 0,
             "ticks": ""
            },
            "colorscale": [
             [
              0,
              "#0d0887"
             ],
             [
              0.1111111111111111,
              "#46039f"
             ],
             [
              0.2222222222222222,
              "#7201a8"
             ],
             [
              0.3333333333333333,
              "#9c179e"
             ],
             [
              0.4444444444444444,
              "#bd3786"
             ],
             [
              0.5555555555555556,
              "#d8576b"
             ],
             [
              0.6666666666666666,
              "#ed7953"
             ],
             [
              0.7777777777777778,
              "#fb9f3a"
             ],
             [
              0.8888888888888888,
              "#fdca26"
             ],
             [
              1,
              "#f0f921"
             ]
            ],
            "type": "histogram2dcontour"
           }
          ],
          "mesh3d": [
           {
            "colorbar": {
             "outlinewidth": 0,
             "ticks": ""
            },
            "type": "mesh3d"
           }
          ],
          "parcoords": [
           {
            "line": {
             "colorbar": {
              "outlinewidth": 0,
              "ticks": ""
             }
            },
            "type": "parcoords"
           }
          ],
          "pie": [
           {
            "automargin": true,
            "type": "pie"
           }
          ],
          "scatter": [
           {
            "marker": {
             "line": {
              "color": "#283442"
             }
            },
            "type": "scatter"
           }
          ],
          "scatter3d": [
           {
            "line": {
             "colorbar": {
              "outlinewidth": 0,
              "ticks": ""
             }
            },
            "marker": {
             "colorbar": {
              "outlinewidth": 0,
              "ticks": ""
             }
            },
            "type": "scatter3d"
           }
          ],
          "scattercarpet": [
           {
            "marker": {
             "colorbar": {
              "outlinewidth": 0,
              "ticks": ""
             }
            },
            "type": "scattercarpet"
           }
          ],
          "scattergeo": [
           {
            "marker": {
             "colorbar": {
              "outlinewidth": 0,
              "ticks": ""
             }
            },
            "type": "scattergeo"
           }
          ],
          "scattergl": [
           {
            "marker": {
             "line": {
              "color": "#283442"
             }
            },
            "type": "scattergl"
           }
          ],
          "scattermap": [
           {
            "marker": {
             "colorbar": {
              "outlinewidth": 0,
              "ticks": ""
             }
            },
            "type": "scattermap"
           }
          ],
          "scattermapbox": [
           {
            "marker": {
             "colorbar": {
              "outlinewidth": 0,
              "ticks": ""
             }
            },
            "type": "scattermapbox"
           }
          ],
          "scatterpolar": [
           {
            "marker": {
             "colorbar": {
              "outlinewidth": 0,
              "ticks": ""
             }
            },
            "type": "scatterpolar"
           }
          ],
          "scatterpolargl": [
           {
            "marker": {
             "colorbar": {
              "outlinewidth": 0,
              "ticks": ""
             }
            },
            "type": "scatterpolargl"
           }
          ],
          "scatterternary": [
           {
            "marker": {
             "colorbar": {
              "outlinewidth": 0,
              "ticks": ""
             }
            },
            "type": "scatterternary"
           }
          ],
          "surface": [
           {
            "colorbar": {
             "outlinewidth": 0,
             "ticks": ""
            },
            "colorscale": [
             [
              0,
              "#0d0887"
             ],
             [
              0.1111111111111111,
              "#46039f"
             ],
             [
              0.2222222222222222,
              "#7201a8"
             ],
             [
              0.3333333333333333,
              "#9c179e"
             ],
             [
              0.4444444444444444,
              "#bd3786"
             ],
             [
              0.5555555555555556,
              "#d8576b"
             ],
             [
              0.6666666666666666,
              "#ed7953"
             ],
             [
              0.7777777777777778,
              "#fb9f3a"
             ],
             [
              0.8888888888888888,
              "#fdca26"
             ],
             [
              1,
              "#f0f921"
             ]
            ],
            "type": "surface"
           }
          ],
          "table": [
           {
            "cells": {
             "fill": {
              "color": "#506784"
             },
             "line": {
              "color": "rgb(17,17,17)"
             }
            },
            "header": {
             "fill": {
              "color": "#2a3f5f"
             },
             "line": {
              "color": "rgb(17,17,17)"
             }
            },
            "type": "table"
           }
          ]
         },
         "layout": {
          "annotationdefaults": {
           "arrowcolor": "#f2f5fa",
           "arrowhead": 0,
           "arrowwidth": 1
          },
          "autotypenumbers": "strict",
          "coloraxis": {
           "colorbar": {
            "outlinewidth": 0,
            "ticks": ""
           }
          },
          "colorscale": {
           "diverging": [
            [
             0,
             "#8e0152"
            ],
            [
             0.1,
             "#c51b7d"
            ],
            [
             0.2,
             "#de77ae"
            ],
            [
             0.3,
             "#f1b6da"
            ],
            [
             0.4,
             "#fde0ef"
            ],
            [
             0.5,
             "#f7f7f7"
            ],
            [
             0.6,
             "#e6f5d0"
            ],
            [
             0.7,
             "#b8e186"
            ],
            [
             0.8,
             "#7fbc41"
            ],
            [
             0.9,
             "#4d9221"
            ],
            [
             1,
             "#276419"
            ]
           ],
           "sequential": [
            [
             0,
             "#0d0887"
            ],
            [
             0.1111111111111111,
             "#46039f"
            ],
            [
             0.2222222222222222,
             "#7201a8"
            ],
            [
             0.3333333333333333,
             "#9c179e"
            ],
            [
             0.4444444444444444,
             "#bd3786"
            ],
            [
             0.5555555555555556,
             "#d8576b"
            ],
            [
             0.6666666666666666,
             "#ed7953"
            ],
            [
             0.7777777777777778,
             "#fb9f3a"
            ],
            [
             0.8888888888888888,
             "#fdca26"
            ],
            [
             1,
             "#f0f921"
            ]
           ],
           "sequentialminus": [
            [
             0,
             "#0d0887"
            ],
            [
             0.1111111111111111,
             "#46039f"
            ],
            [
             0.2222222222222222,
             "#7201a8"
            ],
            [
             0.3333333333333333,
             "#9c179e"
            ],
            [
             0.4444444444444444,
             "#bd3786"
            ],
            [
             0.5555555555555556,
             "#d8576b"
            ],
            [
             0.6666666666666666,
             "#ed7953"
            ],
            [
             0.7777777777777778,
             "#fb9f3a"
            ],
            [
             0.8888888888888888,
             "#fdca26"
            ],
            [
             1,
             "#f0f921"
            ]
           ]
          },
          "colorway": [
           "#636efa",
           "#EF553B",
           "#00cc96",
           "#ab63fa",
           "#FFA15A",
           "#19d3f3",
           "#FF6692",
           "#B6E880",
           "#FF97FF",
           "#FECB52"
          ],
          "font": {
           "color": "#f2f5fa"
          },
          "geo": {
           "bgcolor": "rgb(17,17,17)",
           "lakecolor": "rgb(17,17,17)",
           "landcolor": "rgb(17,17,17)",
           "showlakes": true,
           "showland": true,
           "subunitcolor": "#506784"
          },
          "hoverlabel": {
           "align": "left"
          },
          "hovermode": "closest",
          "mapbox": {
           "style": "dark"
          },
          "paper_bgcolor": "rgb(17,17,17)",
          "plot_bgcolor": "rgb(17,17,17)",
          "polar": {
           "angularaxis": {
            "gridcolor": "#506784",
            "linecolor": "#506784",
            "ticks": ""
           },
           "bgcolor": "rgb(17,17,17)",
           "radialaxis": {
            "gridcolor": "#506784",
            "linecolor": "#506784",
            "ticks": ""
           }
          },
          "scene": {
           "xaxis": {
            "backgroundcolor": "rgb(17,17,17)",
            "gridcolor": "#506784",
            "gridwidth": 2,
            "linecolor": "#506784",
            "showbackground": true,
            "ticks": "",
            "zerolinecolor": "#C8D4E3"
           },
           "yaxis": {
            "backgroundcolor": "rgb(17,17,17)",
            "gridcolor": "#506784",
            "gridwidth": 2,
            "linecolor": "#506784",
            "showbackground": true,
            "ticks": "",
            "zerolinecolor": "#C8D4E3"
           },
           "zaxis": {
            "backgroundcolor": "rgb(17,17,17)",
            "gridcolor": "#506784",
            "gridwidth": 2,
            "linecolor": "#506784",
            "showbackground": true,
            "ticks": "",
            "zerolinecolor": "#C8D4E3"
           }
          },
          "shapedefaults": {
           "line": {
            "color": "#f2f5fa"
           }
          },
          "sliderdefaults": {
           "bgcolor": "#C8D4E3",
           "bordercolor": "rgb(17,17,17)",
           "borderwidth": 1,
           "tickwidth": 0
          },
          "ternary": {
           "aaxis": {
            "gridcolor": "#506784",
            "linecolor": "#506784",
            "ticks": ""
           },
           "baxis": {
            "gridcolor": "#506784",
            "linecolor": "#506784",
            "ticks": ""
           },
           "bgcolor": "rgb(17,17,17)",
           "caxis": {
            "gridcolor": "#506784",
            "linecolor": "#506784",
            "ticks": ""
           }
          },
          "title": {
           "x": 0.05
          },
          "updatemenudefaults": {
           "bgcolor": "#506784",
           "borderwidth": 0
          },
          "xaxis": {
           "automargin": true,
           "gridcolor": "#283442",
           "linecolor": "#506784",
           "ticks": "",
           "title": {
            "standoff": 15
           },
           "zerolinecolor": "#283442",
           "zerolinewidth": 2
          },
          "yaxis": {
           "automargin": true,
           "gridcolor": "#283442",
           "linecolor": "#506784",
           "ticks": "",
           "title": {
            "standoff": 15
           },
           "zerolinecolor": "#283442",
           "zerolinewidth": 2
          }
         }
        },
        "title": {
         "font": {
          "size": 24
         },
         "text": "Popularitäts-Ranking nach Krankheitskategorie",
         "x": 0.5,
         "xanchor": "center"
        },
        "xaxis": {
         "anchor": "y",
         "categoryarray": [
          "Keine/Unbekannt",
          "Herzprobleme",
          "Hüftprobleme",
          "Augenprobleme",
          "Andere",
          "Hautprobleme"
         ],
         "categoryorder": "array",
         "domain": [
          0,
          1
         ],
         "title": {
          "text": "Krankheitskategorie"
         }
        },
        "yaxis": {
         "anchor": "x",
         "autorange": "reversed",
         "domain": [
          0,
          1
         ],
         "dtick": 10,
         "tickmode": "array",
         "tickvals": [
          1,
          10,
          20,
          30,
          40,
          50,
          60,
          70,
          80
         ],
         "title": {
          "text": "Popularität"
         }
        }
       }
      }
     },
     "metadata": {},
     "output_type": "display_data"
    }
   ],
   "source": [
    "fig = px.box(\n",
    "    data,\n",
    "    x='Simplified_Ailments',\n",
    "    y='popularity ranking',\n",
    "    color='Simplified_Ailments',\n",
    "    title='Popularitäts-Ranking nach Krankheitskategorie',\n",
    "    template = 'plotly_dark'\n",
    ")\n",
    "fig.update_yaxes(\n",
    "    autorange='reversed', \n",
    "    title = 'Popularität',\n",
    "    tickmode='array',\n",
    "    dtick=10,\n",
    "    tickvals=[1, 10, 20, 30, 40, 50, 60, 70, 80]\n",
    ")\n",
    "fig.update_xaxes(\n",
    "    title = 'Krankheitskategorie'\n",
    " )\n",
    "\n",
    "fig.update_layout(\n",
    "    title_x=0.5,\n",
    "    title_xanchor='center',\n",
    "    showlegend=False,\n",
    "    title_font_size = 24\n",
    ")\n",
    "\n",
    "#fig.write_html('ranking_ailments.html')"
   ]
  },
  {
   "cell_type": "markdown",
   "id": "249f0545",
   "metadata": {},
   "source": [
    "Die Grafik zeigt, dass Rassen mit Hautproblemen eine relativ gleichmäßige Beliebtheit aufweisen (geringe Streuung der Datenpunkte). Im Gegensatz dazu variiert die Beliebtheit von Rassen mit Augenproblemen deutlich stärker – einige sind sehr beliebt, andere weniger."
   ]
  },
  {
   "cell_type": "code",
   "execution_count": 85,
   "id": "2ad39bb8",
   "metadata": {},
   "outputs": [
    {
     "data": {
      "application/vnd.plotly.v1+json": {
       "config": {
        "plotlyServerURL": "https://plot.ly"
       },
       "data": [
        {
         "alignmentgroup": "True",
         "box": {
          "visible": true
         },
         "hovertemplate": "Simplified_Ailments=%{x}<br>popularity ranking=%{y}<extra></extra>",
         "legendgroup": "Keine/Unbekannt",
         "marker": {
          "color": "#636efa"
         },
         "name": "Keine/Unbekannt",
         "offsetgroup": "Keine/Unbekannt",
         "orientation": "v",
         "scalegroup": "True",
         "showlegend": true,
         "type": "violin",
         "x": [
          "Keine/Unbekannt",
          "Keine/Unbekannt",
          "Keine/Unbekannt",
          "Keine/Unbekannt",
          "Keine/Unbekannt",
          "Keine/Unbekannt",
          "Keine/Unbekannt",
          "Keine/Unbekannt",
          "Keine/Unbekannt",
          "Keine/Unbekannt",
          "Keine/Unbekannt",
          "Keine/Unbekannt",
          "Keine/Unbekannt",
          "Keine/Unbekannt",
          "Keine/Unbekannt",
          "Keine/Unbekannt",
          "Keine/Unbekannt",
          "Keine/Unbekannt",
          "Keine/Unbekannt",
          "Keine/Unbekannt",
          "Keine/Unbekannt",
          "Keine/Unbekannt",
          "Keine/Unbekannt"
         ],
         "x0": " ",
         "xaxis": "x",
         "y": {
          "bdata": "PRAzHkkiRVRNLkNSVldLQExQQhI7NUc=",
          "dtype": "i1"
         },
         "y0": " ",
         "yaxis": "y"
        },
        {
         "alignmentgroup": "True",
         "box": {
          "visible": true
         },
         "hovertemplate": "Simplified_Ailments=%{x}<br>popularity ranking=%{y}<extra></extra>",
         "legendgroup": "Herzprobleme",
         "marker": {
          "color": "#EF553B"
         },
         "name": "Herzprobleme",
         "offsetgroup": "Herzprobleme",
         "orientation": "v",
         "scalegroup": "True",
         "showlegend": true,
         "type": "violin",
         "x": [
          "Herzprobleme",
          "Herzprobleme",
          "Herzprobleme",
          "Herzprobleme",
          "Herzprobleme",
          "Herzprobleme",
          "Herzprobleme",
          "Herzprobleme"
         ],
         "x0": " ",
         "xaxis": "x",
         "y": {
          "bdata": "MAMVEQ0XTiw=",
          "dtype": "i1"
         },
         "y0": " ",
         "yaxis": "y"
        },
        {
         "alignmentgroup": "True",
         "box": {
          "visible": true
         },
         "hovertemplate": "Simplified_Ailments=%{x}<br>popularity ranking=%{y}<extra></extra>",
         "legendgroup": "Hüftprobleme",
         "marker": {
          "color": "#00cc96"
         },
         "name": "Hüftprobleme",
         "offsetgroup": "Hüftprobleme",
         "orientation": "v",
         "scalegroup": "True",
         "showlegend": true,
         "type": "violin",
         "x": [
          "Hüftprobleme",
          "Hüftprobleme",
          "Hüftprobleme",
          "Hüftprobleme",
          "Hüftprobleme",
          "Hüftprobleme",
          "Hüftprobleme",
          "Hüftprobleme",
          "Hüftprobleme",
          "Hüftprobleme",
          "Hüftprobleme",
          "Hüftprobleme",
          "Hüftprobleme",
          "Hüftprobleme",
          "Hüftprobleme",
          "Hüftprobleme",
          "Hüftprobleme",
          "Hüftprobleme",
          "Hüftprobleme",
          "Hüftprobleme",
          "Hüftprobleme",
          "Hüftprobleme",
          "Hüftprobleme",
          "Hüftprobleme"
         ],
         "x0": " ",
         "xaxis": "x",
         "y": {
          "bdata": "UQ9KNyhBTzo+GDElPx9GCjwCHBMmKy8p",
          "dtype": "i1"
         },
         "y0": " ",
         "yaxis": "y"
        },
        {
         "alignmentgroup": "True",
         "box": {
          "visible": true
         },
         "hovertemplate": "Simplified_Ailments=%{x}<br>popularity ranking=%{y}<extra></extra>",
         "legendgroup": "Augenprobleme",
         "marker": {
          "color": "#ab63fa"
         },
         "name": "Augenprobleme",
         "offsetgroup": "Augenprobleme",
         "orientation": "v",
         "scalegroup": "True",
         "showlegend": true,
         "type": "violin",
         "x": [
          "Augenprobleme",
          "Augenprobleme",
          "Augenprobleme",
          "Augenprobleme",
          "Augenprobleme",
          "Augenprobleme",
          "Augenprobleme",
          "Augenprobleme",
          "Augenprobleme",
          "Augenprobleme",
          "Augenprobleme",
          "Augenprobleme",
          "Augenprobleme",
          "Augenprobleme",
          "Augenprobleme",
          "Augenprobleme",
          "Augenprobleme",
          "Augenprobleme",
          "Augenprobleme",
          "Augenprobleme",
          "Augenprobleme"
         ],
         "x0": " ",
         "xaxis": "x",
         "y": {
          "bdata": "GzIdFCABOAsEIRonU0gZRAcFIzYG",
          "dtype": "i1"
         },
         "y0": " ",
         "yaxis": "y"
        },
        {
         "alignmentgroup": "True",
         "box": {
          "visible": true
         },
         "hovertemplate": "Simplified_Ailments=%{x}<br>popularity ranking=%{y}<extra></extra>",
         "legendgroup": "Andere",
         "marker": {
          "color": "#FFA15A"
         },
         "name": "Andere",
         "offsetgroup": "Andere",
         "orientation": "v",
         "scalegroup": "True",
         "showlegend": true,
         "type": "violin",
         "x": [
          "Andere",
          "Andere",
          "Andere",
          "Andere",
          "Andere",
          "Andere",
          "Andere"
         ],
         "x0": " ",
         "xaxis": "x",
         "y": {
          "bdata": "DBY5VQ4tNA==",
          "dtype": "i1"
         },
         "y0": " ",
         "yaxis": "y"
        },
        {
         "alignmentgroup": "True",
         "box": {
          "visible": true
         },
         "hovertemplate": "Simplified_Ailments=%{x}<br>popularity ranking=%{y}<extra></extra>",
         "legendgroup": "Hautprobleme",
         "marker": {
          "color": "#19d3f3"
         },
         "name": "Hautprobleme",
         "offsetgroup": "Hautprobleme",
         "orientation": "v",
         "scalegroup": "True",
         "showlegend": true,
         "type": "violin",
         "x": [
          "Hautprobleme",
          "Hautprobleme",
          "Hautprobleme",
          "Hautprobleme"
         ],
         "x0": " ",
         "xaxis": "x",
         "y": {
          "bdata": "JAgJKg==",
          "dtype": "i1"
         },
         "y0": " ",
         "yaxis": "y"
        }
       ],
       "layout": {
        "legend": {
         "title": {
          "text": "Simplified_Ailments"
         },
         "tracegroupgap": 0
        },
        "showlegend": false,
        "template": {
         "data": {
          "bar": [
           {
            "error_x": {
             "color": "#f2f5fa"
            },
            "error_y": {
             "color": "#f2f5fa"
            },
            "marker": {
             "line": {
              "color": "rgb(17,17,17)",
              "width": 0.5
             },
             "pattern": {
              "fillmode": "overlay",
              "size": 10,
              "solidity": 0.2
             }
            },
            "type": "bar"
           }
          ],
          "barpolar": [
           {
            "marker": {
             "line": {
              "color": "rgb(17,17,17)",
              "width": 0.5
             },
             "pattern": {
              "fillmode": "overlay",
              "size": 10,
              "solidity": 0.2
             }
            },
            "type": "barpolar"
           }
          ],
          "carpet": [
           {
            "aaxis": {
             "endlinecolor": "#A2B1C6",
             "gridcolor": "#506784",
             "linecolor": "#506784",
             "minorgridcolor": "#506784",
             "startlinecolor": "#A2B1C6"
            },
            "baxis": {
             "endlinecolor": "#A2B1C6",
             "gridcolor": "#506784",
             "linecolor": "#506784",
             "minorgridcolor": "#506784",
             "startlinecolor": "#A2B1C6"
            },
            "type": "carpet"
           }
          ],
          "choropleth": [
           {
            "colorbar": {
             "outlinewidth": 0,
             "ticks": ""
            },
            "type": "choropleth"
           }
          ],
          "contour": [
           {
            "colorbar": {
             "outlinewidth": 0,
             "ticks": ""
            },
            "colorscale": [
             [
              0,
              "#0d0887"
             ],
             [
              0.1111111111111111,
              "#46039f"
             ],
             [
              0.2222222222222222,
              "#7201a8"
             ],
             [
              0.3333333333333333,
              "#9c179e"
             ],
             [
              0.4444444444444444,
              "#bd3786"
             ],
             [
              0.5555555555555556,
              "#d8576b"
             ],
             [
              0.6666666666666666,
              "#ed7953"
             ],
             [
              0.7777777777777778,
              "#fb9f3a"
             ],
             [
              0.8888888888888888,
              "#fdca26"
             ],
             [
              1,
              "#f0f921"
             ]
            ],
            "type": "contour"
           }
          ],
          "contourcarpet": [
           {
            "colorbar": {
             "outlinewidth": 0,
             "ticks": ""
            },
            "type": "contourcarpet"
           }
          ],
          "heatmap": [
           {
            "colorbar": {
             "outlinewidth": 0,
             "ticks": ""
            },
            "colorscale": [
             [
              0,
              "#0d0887"
             ],
             [
              0.1111111111111111,
              "#46039f"
             ],
             [
              0.2222222222222222,
              "#7201a8"
             ],
             [
              0.3333333333333333,
              "#9c179e"
             ],
             [
              0.4444444444444444,
              "#bd3786"
             ],
             [
              0.5555555555555556,
              "#d8576b"
             ],
             [
              0.6666666666666666,
              "#ed7953"
             ],
             [
              0.7777777777777778,
              "#fb9f3a"
             ],
             [
              0.8888888888888888,
              "#fdca26"
             ],
             [
              1,
              "#f0f921"
             ]
            ],
            "type": "heatmap"
           }
          ],
          "histogram": [
           {
            "marker": {
             "pattern": {
              "fillmode": "overlay",
              "size": 10,
              "solidity": 0.2
             }
            },
            "type": "histogram"
           }
          ],
          "histogram2d": [
           {
            "colorbar": {
             "outlinewidth": 0,
             "ticks": ""
            },
            "colorscale": [
             [
              0,
              "#0d0887"
             ],
             [
              0.1111111111111111,
              "#46039f"
             ],
             [
              0.2222222222222222,
              "#7201a8"
             ],
             [
              0.3333333333333333,
              "#9c179e"
             ],
             [
              0.4444444444444444,
              "#bd3786"
             ],
             [
              0.5555555555555556,
              "#d8576b"
             ],
             [
              0.6666666666666666,
              "#ed7953"
             ],
             [
              0.7777777777777778,
              "#fb9f3a"
             ],
             [
              0.8888888888888888,
              "#fdca26"
             ],
             [
              1,
              "#f0f921"
             ]
            ],
            "type": "histogram2d"
           }
          ],
          "histogram2dcontour": [
           {
            "colorbar": {
             "outlinewidth": 0,
             "ticks": ""
            },
            "colorscale": [
             [
              0,
              "#0d0887"
             ],
             [
              0.1111111111111111,
              "#46039f"
             ],
             [
              0.2222222222222222,
              "#7201a8"
             ],
             [
              0.3333333333333333,
              "#9c179e"
             ],
             [
              0.4444444444444444,
              "#bd3786"
             ],
             [
              0.5555555555555556,
              "#d8576b"
             ],
             [
              0.6666666666666666,
              "#ed7953"
             ],
             [
              0.7777777777777778,
              "#fb9f3a"
             ],
             [
              0.8888888888888888,
              "#fdca26"
             ],
             [
              1,
              "#f0f921"
             ]
            ],
            "type": "histogram2dcontour"
           }
          ],
          "mesh3d": [
           {
            "colorbar": {
             "outlinewidth": 0,
             "ticks": ""
            },
            "type": "mesh3d"
           }
          ],
          "parcoords": [
           {
            "line": {
             "colorbar": {
              "outlinewidth": 0,
              "ticks": ""
             }
            },
            "type": "parcoords"
           }
          ],
          "pie": [
           {
            "automargin": true,
            "type": "pie"
           }
          ],
          "scatter": [
           {
            "marker": {
             "line": {
              "color": "#283442"
             }
            },
            "type": "scatter"
           }
          ],
          "scatter3d": [
           {
            "line": {
             "colorbar": {
              "outlinewidth": 0,
              "ticks": ""
             }
            },
            "marker": {
             "colorbar": {
              "outlinewidth": 0,
              "ticks": ""
             }
            },
            "type": "scatter3d"
           }
          ],
          "scattercarpet": [
           {
            "marker": {
             "colorbar": {
              "outlinewidth": 0,
              "ticks": ""
             }
            },
            "type": "scattercarpet"
           }
          ],
          "scattergeo": [
           {
            "marker": {
             "colorbar": {
              "outlinewidth": 0,
              "ticks": ""
             }
            },
            "type": "scattergeo"
           }
          ],
          "scattergl": [
           {
            "marker": {
             "line": {
              "color": "#283442"
             }
            },
            "type": "scattergl"
           }
          ],
          "scattermap": [
           {
            "marker": {
             "colorbar": {
              "outlinewidth": 0,
              "ticks": ""
             }
            },
            "type": "scattermap"
           }
          ],
          "scattermapbox": [
           {
            "marker": {
             "colorbar": {
              "outlinewidth": 0,
              "ticks": ""
             }
            },
            "type": "scattermapbox"
           }
          ],
          "scatterpolar": [
           {
            "marker": {
             "colorbar": {
              "outlinewidth": 0,
              "ticks": ""
             }
            },
            "type": "scatterpolar"
           }
          ],
          "scatterpolargl": [
           {
            "marker": {
             "colorbar": {
              "outlinewidth": 0,
              "ticks": ""
             }
            },
            "type": "scatterpolargl"
           }
          ],
          "scatterternary": [
           {
            "marker": {
             "colorbar": {
              "outlinewidth": 0,
              "ticks": ""
             }
            },
            "type": "scatterternary"
           }
          ],
          "surface": [
           {
            "colorbar": {
             "outlinewidth": 0,
             "ticks": ""
            },
            "colorscale": [
             [
              0,
              "#0d0887"
             ],
             [
              0.1111111111111111,
              "#46039f"
             ],
             [
              0.2222222222222222,
              "#7201a8"
             ],
             [
              0.3333333333333333,
              "#9c179e"
             ],
             [
              0.4444444444444444,
              "#bd3786"
             ],
             [
              0.5555555555555556,
              "#d8576b"
             ],
             [
              0.6666666666666666,
              "#ed7953"
             ],
             [
              0.7777777777777778,
              "#fb9f3a"
             ],
             [
              0.8888888888888888,
              "#fdca26"
             ],
             [
              1,
              "#f0f921"
             ]
            ],
            "type": "surface"
           }
          ],
          "table": [
           {
            "cells": {
             "fill": {
              "color": "#506784"
             },
             "line": {
              "color": "rgb(17,17,17)"
             }
            },
            "header": {
             "fill": {
              "color": "#2a3f5f"
             },
             "line": {
              "color": "rgb(17,17,17)"
             }
            },
            "type": "table"
           }
          ]
         },
         "layout": {
          "annotationdefaults": {
           "arrowcolor": "#f2f5fa",
           "arrowhead": 0,
           "arrowwidth": 1
          },
          "autotypenumbers": "strict",
          "coloraxis": {
           "colorbar": {
            "outlinewidth": 0,
            "ticks": ""
           }
          },
          "colorscale": {
           "diverging": [
            [
             0,
             "#8e0152"
            ],
            [
             0.1,
             "#c51b7d"
            ],
            [
             0.2,
             "#de77ae"
            ],
            [
             0.3,
             "#f1b6da"
            ],
            [
             0.4,
             "#fde0ef"
            ],
            [
             0.5,
             "#f7f7f7"
            ],
            [
             0.6,
             "#e6f5d0"
            ],
            [
             0.7,
             "#b8e186"
            ],
            [
             0.8,
             "#7fbc41"
            ],
            [
             0.9,
             "#4d9221"
            ],
            [
             1,
             "#276419"
            ]
           ],
           "sequential": [
            [
             0,
             "#0d0887"
            ],
            [
             0.1111111111111111,
             "#46039f"
            ],
            [
             0.2222222222222222,
             "#7201a8"
            ],
            [
             0.3333333333333333,
             "#9c179e"
            ],
            [
             0.4444444444444444,
             "#bd3786"
            ],
            [
             0.5555555555555556,
             "#d8576b"
            ],
            [
             0.6666666666666666,
             "#ed7953"
            ],
            [
             0.7777777777777778,
             "#fb9f3a"
            ],
            [
             0.8888888888888888,
             "#fdca26"
            ],
            [
             1,
             "#f0f921"
            ]
           ],
           "sequentialminus": [
            [
             0,
             "#0d0887"
            ],
            [
             0.1111111111111111,
             "#46039f"
            ],
            [
             0.2222222222222222,
             "#7201a8"
            ],
            [
             0.3333333333333333,
             "#9c179e"
            ],
            [
             0.4444444444444444,
             "#bd3786"
            ],
            [
             0.5555555555555556,
             "#d8576b"
            ],
            [
             0.6666666666666666,
             "#ed7953"
            ],
            [
             0.7777777777777778,
             "#fb9f3a"
            ],
            [
             0.8888888888888888,
             "#fdca26"
            ],
            [
             1,
             "#f0f921"
            ]
           ]
          },
          "colorway": [
           "#636efa",
           "#EF553B",
           "#00cc96",
           "#ab63fa",
           "#FFA15A",
           "#19d3f3",
           "#FF6692",
           "#B6E880",
           "#FF97FF",
           "#FECB52"
          ],
          "font": {
           "color": "#f2f5fa"
          },
          "geo": {
           "bgcolor": "rgb(17,17,17)",
           "lakecolor": "rgb(17,17,17)",
           "landcolor": "rgb(17,17,17)",
           "showlakes": true,
           "showland": true,
           "subunitcolor": "#506784"
          },
          "hoverlabel": {
           "align": "left"
          },
          "hovermode": "closest",
          "mapbox": {
           "style": "dark"
          },
          "paper_bgcolor": "rgb(17,17,17)",
          "plot_bgcolor": "rgb(17,17,17)",
          "polar": {
           "angularaxis": {
            "gridcolor": "#506784",
            "linecolor": "#506784",
            "ticks": ""
           },
           "bgcolor": "rgb(17,17,17)",
           "radialaxis": {
            "gridcolor": "#506784",
            "linecolor": "#506784",
            "ticks": ""
           }
          },
          "scene": {
           "xaxis": {
            "backgroundcolor": "rgb(17,17,17)",
            "gridcolor": "#506784",
            "gridwidth": 2,
            "linecolor": "#506784",
            "showbackground": true,
            "ticks": "",
            "zerolinecolor": "#C8D4E3"
           },
           "yaxis": {
            "backgroundcolor": "rgb(17,17,17)",
            "gridcolor": "#506784",
            "gridwidth": 2,
            "linecolor": "#506784",
            "showbackground": true,
            "ticks": "",
            "zerolinecolor": "#C8D4E3"
           },
           "zaxis": {
            "backgroundcolor": "rgb(17,17,17)",
            "gridcolor": "#506784",
            "gridwidth": 2,
            "linecolor": "#506784",
            "showbackground": true,
            "ticks": "",
            "zerolinecolor": "#C8D4E3"
           }
          },
          "shapedefaults": {
           "line": {
            "color": "#f2f5fa"
           }
          },
          "sliderdefaults": {
           "bgcolor": "#C8D4E3",
           "bordercolor": "rgb(17,17,17)",
           "borderwidth": 1,
           "tickwidth": 0
          },
          "ternary": {
           "aaxis": {
            "gridcolor": "#506784",
            "linecolor": "#506784",
            "ticks": ""
           },
           "baxis": {
            "gridcolor": "#506784",
            "linecolor": "#506784",
            "ticks": ""
           },
           "bgcolor": "rgb(17,17,17)",
           "caxis": {
            "gridcolor": "#506784",
            "linecolor": "#506784",
            "ticks": ""
           }
          },
          "title": {
           "x": 0.05
          },
          "updatemenudefaults": {
           "bgcolor": "#506784",
           "borderwidth": 0
          },
          "xaxis": {
           "automargin": true,
           "gridcolor": "#283442",
           "linecolor": "#506784",
           "ticks": "",
           "title": {
            "standoff": 15
           },
           "zerolinecolor": "#283442",
           "zerolinewidth": 2
          },
          "yaxis": {
           "automargin": true,
           "gridcolor": "#283442",
           "linecolor": "#506784",
           "ticks": "",
           "title": {
            "standoff": 15
           },
           "zerolinecolor": "#283442",
           "zerolinewidth": 2
          }
         }
        },
        "title": {
         "font": {
          "size": 24
         },
         "text": "Verteilung der Popularität nach Krankheitskategorie",
         "x": 0.5,
         "xanchor": "center"
        },
        "violinmode": "overlay",
        "xaxis": {
         "anchor": "y",
         "autorange": "reversed",
         "categoryarray": [
          "Keine/Unbekannt",
          "Herzprobleme",
          "Hüftprobleme",
          "Augenprobleme",
          "Andere",
          "Hautprobleme"
         ],
         "categoryorder": "array",
         "domain": [
          0,
          1
         ],
         "title": {
          "text": "Krankheitskategorie"
         }
        },
        "yaxis": {
         "anchor": "x",
         "autorange": "reversed",
         "domain": [
          0,
          1
         ],
         "dtick": 10,
         "tickmode": "array",
         "tickvals": [
          1,
          10,
          20,
          30,
          40,
          50,
          60,
          70,
          80
         ],
         "title": {
          "text": "Popularität"
         }
        }
       }
      }
     },
     "metadata": {},
     "output_type": "display_data"
    }
   ],
   "source": [
    "fig = px.violin(\n",
    "    data,\n",
    "    x='Simplified_Ailments',\n",
    "    y='popularity ranking',\n",
    "    color='Simplified_Ailments',\n",
    "    box=True,\n",
    "    title='Verteilung der Popularität nach Krankheitskategorie',\n",
    "    template = 'plotly_dark'\n",
    ")\n",
    "fig.update_xaxes(\n",
    "    autorange='reversed', \n",
    "    title = 'Krankheitskategorie')\n",
    "\n",
    "fig.update_yaxes(\n",
    "    autorange='reversed', \n",
    "    title = 'Popularität',\n",
    "    tickmode='array',\n",
    "    dtick=10,\n",
    "    tickvals=[1, 10, 20, 30, 40, 50, 60, 70, 80]\n",
    ")\n",
    "fig.update_layout(\n",
    "    title_x=0.5,\n",
    "    title_xanchor='center',\n",
    "    showlegend=False,\n",
    "    title_font_size = 24\n",
    ")\n",
    "\n",
    "\n",
    "#fig.write_html('ranking_ailments_violin.html')"
   ]
  },
  {
   "cell_type": "code",
   "execution_count": 86,
   "id": "0b21f677",
   "metadata": {},
   "outputs": [
    {
     "data": {
      "text/html": [
       "<div>\n",
       "<style scoped>\n",
       "    .dataframe tbody tr th:only-of-type {\n",
       "        vertical-align: middle;\n",
       "    }\n",
       "\n",
       "    .dataframe tbody tr th {\n",
       "        vertical-align: top;\n",
       "    }\n",
       "\n",
       "    .dataframe thead th {\n",
       "        text-align: right;\n",
       "    }\n",
       "</style>\n",
       "<table border=\"1\" class=\"dataframe\">\n",
       "  <thead>\n",
       "    <tr style=\"text-align: right;\">\n",
       "      <th></th>\n",
       "      <th>Breed</th>\n",
       "      <th>type</th>\n",
       "      <th>score</th>\n",
       "      <th>popularity ranking</th>\n",
       "      <th>size</th>\n",
       "      <th>intelligence</th>\n",
       "      <th>congential ailments</th>\n",
       "      <th>score for kids</th>\n",
       "      <th>size.1</th>\n",
       "      <th>$LIFETIME COST</th>\n",
       "      <th>...</th>\n",
       "      <th>NUMBER OF GENETIC AILMENTS</th>\n",
       "      <th>GENETIC AILMENTS</th>\n",
       "      <th>PURCHASE PRICE</th>\n",
       "      <th>FOOD COSTS PER YEAR</th>\n",
       "      <th>GROOMING FREQUNCY</th>\n",
       "      <th>SUITABILITY FOR CHILDREN</th>\n",
       "      <th>origin_de</th>\n",
       "      <th>Breed_de</th>\n",
       "      <th>type_de</th>\n",
       "      <th>Simplified_Ailments</th>\n",
       "    </tr>\n",
       "  </thead>\n",
       "  <tbody>\n",
       "    <tr>\n",
       "      <th>0</th>\n",
       "      <td>Border Terrier</td>\n",
       "      <td>terrier</td>\n",
       "      <td>3.61</td>\n",
       "      <td>61</td>\n",
       "      <td>1</td>\n",
       "      <td>Above average</td>\n",
       "      <td>none</td>\n",
       "      <td>4.99</td>\n",
       "      <td>small</td>\n",
       "      <td>22638.0</td>\n",
       "      <td>...</td>\n",
       "      <td>0</td>\n",
       "      <td>none</td>\n",
       "      <td>833.0</td>\n",
       "      <td>324.0</td>\n",
       "      <td>Once a week</td>\n",
       "      <td>1</td>\n",
       "      <td>Vereinigtes Königreich</td>\n",
       "      <td>Border Terrier</td>\n",
       "      <td>Terrier</td>\n",
       "      <td>Keine/Unbekannt</td>\n",
       "    </tr>\n",
       "    <tr>\n",
       "      <th>2</th>\n",
       "      <td>Siberian Husky</td>\n",
       "      <td>working</td>\n",
       "      <td>3.22</td>\n",
       "      <td>16</td>\n",
       "      <td>2</td>\n",
       "      <td>Average</td>\n",
       "      <td>none</td>\n",
       "      <td>4.72</td>\n",
       "      <td>medium</td>\n",
       "      <td>22049.0</td>\n",
       "      <td>...</td>\n",
       "      <td>0</td>\n",
       "      <td>none</td>\n",
       "      <td>650.0</td>\n",
       "      <td>466.0</td>\n",
       "      <td>Once in a few weeks</td>\n",
       "      <td>1</td>\n",
       "      <td>Sibirien</td>\n",
       "      <td>Sibirischer Husky</td>\n",
       "      <td>Gebrauchshund</td>\n",
       "      <td>Keine/Unbekannt</td>\n",
       "    </tr>\n",
       "    <tr>\n",
       "      <th>4</th>\n",
       "      <td>English Cocker Spaniel</td>\n",
       "      <td>sporting</td>\n",
       "      <td>3.33</td>\n",
       "      <td>51</td>\n",
       "      <td>2</td>\n",
       "      <td>Excellent</td>\n",
       "      <td>none</td>\n",
       "      <td>4.70</td>\n",
       "      <td>medium</td>\n",
       "      <td>18993.0</td>\n",
       "      <td>...</td>\n",
       "      <td>0</td>\n",
       "      <td>none</td>\n",
       "      <td>800.0</td>\n",
       "      <td>324.0</td>\n",
       "      <td>Once a week</td>\n",
       "      <td>1</td>\n",
       "      <td>England</td>\n",
       "      <td>Englischer Cocker Spaniel</td>\n",
       "      <td>Jagdhund</td>\n",
       "      <td>Keine/Unbekannt</td>\n",
       "    </tr>\n",
       "    <tr>\n",
       "      <th>10</th>\n",
       "      <td>Brittany</td>\n",
       "      <td>sporting</td>\n",
       "      <td>3.54</td>\n",
       "      <td>30</td>\n",
       "      <td>2</td>\n",
       "      <td>Excellent</td>\n",
       "      <td>none</td>\n",
       "      <td>4.42</td>\n",
       "      <td>medium</td>\n",
       "      <td>22589.0</td>\n",
       "      <td>...</td>\n",
       "      <td>0</td>\n",
       "      <td>none</td>\n",
       "      <td>618.0</td>\n",
       "      <td>466.0</td>\n",
       "      <td>Once a week</td>\n",
       "      <td>2</td>\n",
       "      <td>Frankreich</td>\n",
       "      <td>Epagneul Breton</td>\n",
       "      <td>Jagdhund</td>\n",
       "      <td>Keine/Unbekannt</td>\n",
       "    </tr>\n",
       "    <tr>\n",
       "      <th>13</th>\n",
       "      <td>Tibetan Spaniel</td>\n",
       "      <td>non-sporting</td>\n",
       "      <td>3.02</td>\n",
       "      <td>73</td>\n",
       "      <td>1</td>\n",
       "      <td>Average</td>\n",
       "      <td>none</td>\n",
       "      <td>4.40</td>\n",
       "      <td>small</td>\n",
       "      <td>25549.0</td>\n",
       "      <td>...</td>\n",
       "      <td>0</td>\n",
       "      <td>none</td>\n",
       "      <td>1050.0</td>\n",
       "      <td>466.0</td>\n",
       "      <td>Once a week</td>\n",
       "      <td>1</td>\n",
       "      <td>Tibet</td>\n",
       "      <td>Tibetspaniel</td>\n",
       "      <td>Begleithund</td>\n",
       "      <td>Keine/Unbekannt</td>\n",
       "    </tr>\n",
       "  </tbody>\n",
       "</table>\n",
       "<p>5 rows × 23 columns</p>\n",
       "</div>"
      ],
      "text/plain": [
       "                     Breed          type  score  popularity ranking  size  \\\n",
       "0           Border Terrier       terrier   3.61                  61     1   \n",
       "2           Siberian Husky       working   3.22                  16     2   \n",
       "4   English Cocker Spaniel      sporting   3.33                  51     2   \n",
       "10                Brittany      sporting   3.54                  30     2   \n",
       "13         Tibetan Spaniel  non-sporting   3.02                  73     1   \n",
       "\n",
       "     intelligence congential ailments  score for kids  size.1  $LIFETIME COST  \\\n",
       "0   Above average                none            4.99   small         22638.0   \n",
       "2         Average                none            4.72  medium         22049.0   \n",
       "4       Excellent                none            4.70  medium         18993.0   \n",
       "10      Excellent                none            4.42  medium         22589.0   \n",
       "13        Average                none            4.40   small         25549.0   \n",
       "\n",
       "    ...  NUMBER OF GENETIC AILMENTS GENETIC AILMENTS  PURCHASE PRICE  \\\n",
       "0   ...                           0             none           833.0   \n",
       "2   ...                           0             none           650.0   \n",
       "4   ...                           0             none           800.0   \n",
       "10  ...                           0             none           618.0   \n",
       "13  ...                           0             none          1050.0   \n",
       "\n",
       "    FOOD COSTS PER YEAR    GROOMING FREQUNCY  SUITABILITY FOR CHILDREN  \\\n",
       "0                 324.0          Once a week                         1   \n",
       "2                 466.0  Once in a few weeks                         1   \n",
       "4                 324.0          Once a week                         1   \n",
       "10                466.0          Once a week                         2   \n",
       "13                466.0          Once a week                         1   \n",
       "\n",
       "                 origin_de                   Breed_de        type_de  \\\n",
       "0   Vereinigtes Königreich             Border Terrier        Terrier   \n",
       "2                 Sibirien          Sibirischer Husky  Gebrauchshund   \n",
       "4                  England  Englischer Cocker Spaniel       Jagdhund   \n",
       "10              Frankreich            Epagneul Breton       Jagdhund   \n",
       "13                   Tibet               Tibetspaniel    Begleithund   \n",
       "\n",
       "   Simplified_Ailments  \n",
       "0      Keine/Unbekannt  \n",
       "2      Keine/Unbekannt  \n",
       "4      Keine/Unbekannt  \n",
       "10     Keine/Unbekannt  \n",
       "13     Keine/Unbekannt  \n",
       "\n",
       "[5 rows x 23 columns]"
      ]
     },
     "execution_count": 86,
     "metadata": {},
     "output_type": "execute_result"
    }
   ],
   "source": [
    "#woher kommen die gesündesten Hunde\n",
    "\n",
    "healthiest_breed_origins = data[data['GENETIC AILMENTS'] == 'none']\n",
    "healthiest_breed_origins.head()\n"
   ]
  },
  {
   "cell_type": "code",
   "execution_count": 92,
   "id": "021dfa81",
   "metadata": {},
   "outputs": [
    {
     "data": {
      "application/vnd.plotly.v1+json": {
       "config": {
        "plotlyServerURL": "https://plot.ly"
       },
       "data": [
        {
         "hovertemplate": "Herkunftsland=%{x}<br>Anzahl gesunder Rassen=%{y}<extra></extra>",
         "legendgroup": "Afghanistan",
         "marker": {
          "color": "#636efa",
          "pattern": {
           "shape": ""
          }
         },
         "name": "Afghanistan",
         "orientation": "v",
         "showlegend": true,
         "textposition": "auto",
         "type": "bar",
         "x": [
          "Afghanistan"
         ],
         "xaxis": "x",
         "y": {
          "bdata": "AQ==",
          "dtype": "i1"
         },
         "yaxis": "y"
        },
        {
         "hovertemplate": "Herkunftsland=%{x}<br>Anzahl gesunder Rassen=%{y}<extra></extra>",
         "legendgroup": "Arabische Halbinsel",
         "marker": {
          "color": "#EF553B",
          "pattern": {
           "shape": ""
          }
         },
         "name": "Arabische Halbinsel",
         "orientation": "v",
         "showlegend": true,
         "textposition": "auto",
         "type": "bar",
         "x": [
          "Arabische Halbinsel"
         ],
         "xaxis": "x",
         "y": {
          "bdata": "AQ==",
          "dtype": "i1"
         },
         "yaxis": "y"
        },
        {
         "hovertemplate": "Herkunftsland=%{x}<br>Anzahl gesunder Rassen=%{y}<extra></extra>",
         "legendgroup": "Australien",
         "marker": {
          "color": "#00cc96",
          "pattern": {
           "shape": ""
          }
         },
         "name": "Australien",
         "orientation": "v",
         "showlegend": true,
         "textposition": "auto",
         "type": "bar",
         "x": [
          "Australien"
         ],
         "xaxis": "x",
         "y": {
          "bdata": "AQ==",
          "dtype": "i1"
         },
         "yaxis": "y"
        },
        {
         "hovertemplate": "Herkunftsland=%{x}<br>Anzahl gesunder Rassen=%{y}<extra></extra>",
         "legendgroup": "Belgien",
         "marker": {
          "color": "#ab63fa",
          "pattern": {
           "shape": ""
          }
         },
         "name": "Belgien",
         "orientation": "v",
         "showlegend": true,
         "textposition": "auto",
         "type": "bar",
         "x": [
          "Belgien"
         ],
         "xaxis": "x",
         "y": {
          "bdata": "AQ==",
          "dtype": "i1"
         },
         "yaxis": "y"
        },
        {
         "hovertemplate": "Herkunftsland=%{x}<br>Anzahl gesunder Rassen=%{y}<extra></extra>",
         "legendgroup": "Belgien/Frankreich",
         "marker": {
          "color": "#FFA15A",
          "pattern": {
           "shape": ""
          }
         },
         "name": "Belgien/Frankreich",
         "orientation": "v",
         "showlegend": true,
         "textposition": "auto",
         "type": "bar",
         "x": [
          "Belgien/Frankreich"
         ],
         "xaxis": "x",
         "y": {
          "bdata": "AQ==",
          "dtype": "i1"
         },
         "yaxis": "y"
        },
        {
         "hovertemplate": "Herkunftsland=%{x}<br>Anzahl gesunder Rassen=%{y}<extra></extra>",
         "legendgroup": "Deutschland",
         "marker": {
          "color": "#19d3f3",
          "pattern": {
           "shape": ""
          }
         },
         "name": "Deutschland",
         "orientation": "v",
         "showlegend": true,
         "textposition": "auto",
         "type": "bar",
         "x": [
          "Deutschland"
         ],
         "xaxis": "x",
         "y": {
          "bdata": "AQ==",
          "dtype": "i1"
         },
         "yaxis": "y"
        },
        {
         "hovertemplate": "Herkunftsland=%{x}<br>Anzahl gesunder Rassen=%{y}<extra></extra>",
         "legendgroup": "England",
         "marker": {
          "color": "#FF6692",
          "pattern": {
           "shape": ""
          }
         },
         "name": "England",
         "orientation": "v",
         "showlegend": true,
         "textposition": "auto",
         "type": "bar",
         "x": [
          "England"
         ],
         "xaxis": "x",
         "y": {
          "bdata": "BA==",
          "dtype": "i1"
         },
         "yaxis": "y"
        },
        {
         "hovertemplate": "Herkunftsland=%{x}<br>Anzahl gesunder Rassen=%{y}<extra></extra>",
         "legendgroup": "Frankreich",
         "marker": {
          "color": "#B6E880",
          "pattern": {
           "shape": ""
          }
         },
         "name": "Frankreich",
         "orientation": "v",
         "showlegend": true,
         "textposition": "auto",
         "type": "bar",
         "x": [
          "Frankreich"
         ],
         "xaxis": "x",
         "y": {
          "bdata": "Ag==",
          "dtype": "i1"
         },
         "yaxis": "y"
        },
        {
         "hovertemplate": "Herkunftsland=%{x}<br>Anzahl gesunder Rassen=%{y}<extra></extra>",
         "legendgroup": "Italien",
         "marker": {
          "color": "#FF97FF",
          "pattern": {
           "shape": ""
          }
         },
         "name": "Italien",
         "orientation": "v",
         "showlegend": true,
         "textposition": "auto",
         "type": "bar",
         "x": [
          "Italien"
         ],
         "xaxis": "x",
         "y": {
          "bdata": "AQ==",
          "dtype": "i1"
         },
         "yaxis": "y"
        },
        {
         "hovertemplate": "Herkunftsland=%{x}<br>Anzahl gesunder Rassen=%{y}<extra></extra>",
         "legendgroup": "Russland",
         "marker": {
          "color": "#FECB52",
          "pattern": {
           "shape": ""
          }
         },
         "name": "Russland",
         "orientation": "v",
         "showlegend": true,
         "textposition": "auto",
         "type": "bar",
         "x": [
          "Russland"
         ],
         "xaxis": "x",
         "y": {
          "bdata": "AQ==",
          "dtype": "i1"
         },
         "yaxis": "y"
        },
        {
         "hovertemplate": "Herkunftsland=%{x}<br>Anzahl gesunder Rassen=%{y}<extra></extra>",
         "legendgroup": "Schottland",
         "marker": {
          "color": "#636efa",
          "pattern": {
           "shape": ""
          }
         },
         "name": "Schottland",
         "orientation": "v",
         "showlegend": true,
         "textposition": "auto",
         "type": "bar",
         "x": [
          "Schottland"
         ],
         "xaxis": "x",
         "y": {
          "bdata": "AQ==",
          "dtype": "i1"
         },
         "yaxis": "y"
        },
        {
         "hovertemplate": "Herkunftsland=%{x}<br>Anzahl gesunder Rassen=%{y}<extra></extra>",
         "legendgroup": "Sibirien",
         "marker": {
          "color": "#EF553B",
          "pattern": {
           "shape": ""
          }
         },
         "name": "Sibirien",
         "orientation": "v",
         "showlegend": true,
         "textposition": "auto",
         "type": "bar",
         "x": [
          "Sibirien"
         ],
         "xaxis": "x",
         "y": {
          "bdata": "AQ==",
          "dtype": "i1"
         },
         "yaxis": "y"
        },
        {
         "hovertemplate": "Herkunftsland=%{x}<br>Anzahl gesunder Rassen=%{y}<extra></extra>",
         "legendgroup": "Tibet",
         "marker": {
          "color": "#00cc96",
          "pattern": {
           "shape": ""
          }
         },
         "name": "Tibet",
         "orientation": "v",
         "showlegend": true,
         "textposition": "auto",
         "type": "bar",
         "x": [
          "Tibet"
         ],
         "xaxis": "x",
         "y": {
          "bdata": "Ag==",
          "dtype": "i1"
         },
         "yaxis": "y"
        },
        {
         "hovertemplate": "Herkunftsland=%{x}<br>Anzahl gesunder Rassen=%{y}<extra></extra>",
         "legendgroup": "Vereinigtes Königreich",
         "marker": {
          "color": "#ab63fa",
          "pattern": {
           "shape": ""
          }
         },
         "name": "Vereinigtes Königreich",
         "orientation": "v",
         "showlegend": true,
         "textposition": "auto",
         "type": "bar",
         "x": [
          "Vereinigtes Königreich"
         ],
         "xaxis": "x",
         "y": {
          "bdata": "Aw==",
          "dtype": "i1"
         },
         "yaxis": "y"
        },
        {
         "hovertemplate": "Herkunftsland=%{x}<br>Anzahl gesunder Rassen=%{y}<extra></extra>",
         "legendgroup": "Ägypten",
         "marker": {
          "color": "#FFA15A",
          "pattern": {
           "shape": ""
          }
         },
         "name": "Ägypten",
         "orientation": "v",
         "showlegend": true,
         "textposition": "auto",
         "type": "bar",
         "x": [
          "Ägypten"
         ],
         "xaxis": "x",
         "y": {
          "bdata": "AQ==",
          "dtype": "i1"
         },
         "yaxis": "y"
        }
       ],
       "layout": {
        "barmode": "relative",
        "legend": {
         "title": {
          "text": "Herkunftsland"
         },
         "tracegroupgap": 0
        },
        "showlegend": false,
        "template": {
         "data": {
          "bar": [
           {
            "error_x": {
             "color": "#f2f5fa"
            },
            "error_y": {
             "color": "#f2f5fa"
            },
            "marker": {
             "line": {
              "color": "rgb(17,17,17)",
              "width": 0.5
             },
             "pattern": {
              "fillmode": "overlay",
              "size": 10,
              "solidity": 0.2
             }
            },
            "type": "bar"
           }
          ],
          "barpolar": [
           {
            "marker": {
             "line": {
              "color": "rgb(17,17,17)",
              "width": 0.5
             },
             "pattern": {
              "fillmode": "overlay",
              "size": 10,
              "solidity": 0.2
             }
            },
            "type": "barpolar"
           }
          ],
          "carpet": [
           {
            "aaxis": {
             "endlinecolor": "#A2B1C6",
             "gridcolor": "#506784",
             "linecolor": "#506784",
             "minorgridcolor": "#506784",
             "startlinecolor": "#A2B1C6"
            },
            "baxis": {
             "endlinecolor": "#A2B1C6",
             "gridcolor": "#506784",
             "linecolor": "#506784",
             "minorgridcolor": "#506784",
             "startlinecolor": "#A2B1C6"
            },
            "type": "carpet"
           }
          ],
          "choropleth": [
           {
            "colorbar": {
             "outlinewidth": 0,
             "ticks": ""
            },
            "type": "choropleth"
           }
          ],
          "contour": [
           {
            "colorbar": {
             "outlinewidth": 0,
             "ticks": ""
            },
            "colorscale": [
             [
              0,
              "#0d0887"
             ],
             [
              0.1111111111111111,
              "#46039f"
             ],
             [
              0.2222222222222222,
              "#7201a8"
             ],
             [
              0.3333333333333333,
              "#9c179e"
             ],
             [
              0.4444444444444444,
              "#bd3786"
             ],
             [
              0.5555555555555556,
              "#d8576b"
             ],
             [
              0.6666666666666666,
              "#ed7953"
             ],
             [
              0.7777777777777778,
              "#fb9f3a"
             ],
             [
              0.8888888888888888,
              "#fdca26"
             ],
             [
              1,
              "#f0f921"
             ]
            ],
            "type": "contour"
           }
          ],
          "contourcarpet": [
           {
            "colorbar": {
             "outlinewidth": 0,
             "ticks": ""
            },
            "type": "contourcarpet"
           }
          ],
          "heatmap": [
           {
            "colorbar": {
             "outlinewidth": 0,
             "ticks": ""
            },
            "colorscale": [
             [
              0,
              "#0d0887"
             ],
             [
              0.1111111111111111,
              "#46039f"
             ],
             [
              0.2222222222222222,
              "#7201a8"
             ],
             [
              0.3333333333333333,
              "#9c179e"
             ],
             [
              0.4444444444444444,
              "#bd3786"
             ],
             [
              0.5555555555555556,
              "#d8576b"
             ],
             [
              0.6666666666666666,
              "#ed7953"
             ],
             [
              0.7777777777777778,
              "#fb9f3a"
             ],
             [
              0.8888888888888888,
              "#fdca26"
             ],
             [
              1,
              "#f0f921"
             ]
            ],
            "type": "heatmap"
           }
          ],
          "histogram": [
           {
            "marker": {
             "pattern": {
              "fillmode": "overlay",
              "size": 10,
              "solidity": 0.2
             }
            },
            "type": "histogram"
           }
          ],
          "histogram2d": [
           {
            "colorbar": {
             "outlinewidth": 0,
             "ticks": ""
            },
            "colorscale": [
             [
              0,
              "#0d0887"
             ],
             [
              0.1111111111111111,
              "#46039f"
             ],
             [
              0.2222222222222222,
              "#7201a8"
             ],
             [
              0.3333333333333333,
              "#9c179e"
             ],
             [
              0.4444444444444444,
              "#bd3786"
             ],
             [
              0.5555555555555556,
              "#d8576b"
             ],
             [
              0.6666666666666666,
              "#ed7953"
             ],
             [
              0.7777777777777778,
              "#fb9f3a"
             ],
             [
              0.8888888888888888,
              "#fdca26"
             ],
             [
              1,
              "#f0f921"
             ]
            ],
            "type": "histogram2d"
           }
          ],
          "histogram2dcontour": [
           {
            "colorbar": {
             "outlinewidth": 0,
             "ticks": ""
            },
            "colorscale": [
             [
              0,
              "#0d0887"
             ],
             [
              0.1111111111111111,
              "#46039f"
             ],
             [
              0.2222222222222222,
              "#7201a8"
             ],
             [
              0.3333333333333333,
              "#9c179e"
             ],
             [
              0.4444444444444444,
              "#bd3786"
             ],
             [
              0.5555555555555556,
              "#d8576b"
             ],
             [
              0.6666666666666666,
              "#ed7953"
             ],
             [
              0.7777777777777778,
              "#fb9f3a"
             ],
             [
              0.8888888888888888,
              "#fdca26"
             ],
             [
              1,
              "#f0f921"
             ]
            ],
            "type": "histogram2dcontour"
           }
          ],
          "mesh3d": [
           {
            "colorbar": {
             "outlinewidth": 0,
             "ticks": ""
            },
            "type": "mesh3d"
           }
          ],
          "parcoords": [
           {
            "line": {
             "colorbar": {
              "outlinewidth": 0,
              "ticks": ""
             }
            },
            "type": "parcoords"
           }
          ],
          "pie": [
           {
            "automargin": true,
            "type": "pie"
           }
          ],
          "scatter": [
           {
            "marker": {
             "line": {
              "color": "#283442"
             }
            },
            "type": "scatter"
           }
          ],
          "scatter3d": [
           {
            "line": {
             "colorbar": {
              "outlinewidth": 0,
              "ticks": ""
             }
            },
            "marker": {
             "colorbar": {
              "outlinewidth": 0,
              "ticks": ""
             }
            },
            "type": "scatter3d"
           }
          ],
          "scattercarpet": [
           {
            "marker": {
             "colorbar": {
              "outlinewidth": 0,
              "ticks": ""
             }
            },
            "type": "scattercarpet"
           }
          ],
          "scattergeo": [
           {
            "marker": {
             "colorbar": {
              "outlinewidth": 0,
              "ticks": ""
             }
            },
            "type": "scattergeo"
           }
          ],
          "scattergl": [
           {
            "marker": {
             "line": {
              "color": "#283442"
             }
            },
            "type": "scattergl"
           }
          ],
          "scattermap": [
           {
            "marker": {
             "colorbar": {
              "outlinewidth": 0,
              "ticks": ""
             }
            },
            "type": "scattermap"
           }
          ],
          "scattermapbox": [
           {
            "marker": {
             "colorbar": {
              "outlinewidth": 0,
              "ticks": ""
             }
            },
            "type": "scattermapbox"
           }
          ],
          "scatterpolar": [
           {
            "marker": {
             "colorbar": {
              "outlinewidth": 0,
              "ticks": ""
             }
            },
            "type": "scatterpolar"
           }
          ],
          "scatterpolargl": [
           {
            "marker": {
             "colorbar": {
              "outlinewidth": 0,
              "ticks": ""
             }
            },
            "type": "scatterpolargl"
           }
          ],
          "scatterternary": [
           {
            "marker": {
             "colorbar": {
              "outlinewidth": 0,
              "ticks": ""
             }
            },
            "type": "scatterternary"
           }
          ],
          "surface": [
           {
            "colorbar": {
             "outlinewidth": 0,
             "ticks": ""
            },
            "colorscale": [
             [
              0,
              "#0d0887"
             ],
             [
              0.1111111111111111,
              "#46039f"
             ],
             [
              0.2222222222222222,
              "#7201a8"
             ],
             [
              0.3333333333333333,
              "#9c179e"
             ],
             [
              0.4444444444444444,
              "#bd3786"
             ],
             [
              0.5555555555555556,
              "#d8576b"
             ],
             [
              0.6666666666666666,
              "#ed7953"
             ],
             [
              0.7777777777777778,
              "#fb9f3a"
             ],
             [
              0.8888888888888888,
              "#fdca26"
             ],
             [
              1,
              "#f0f921"
             ]
            ],
            "type": "surface"
           }
          ],
          "table": [
           {
            "cells": {
             "fill": {
              "color": "#506784"
             },
             "line": {
              "color": "rgb(17,17,17)"
             }
            },
            "header": {
             "fill": {
              "color": "#2a3f5f"
             },
             "line": {
              "color": "rgb(17,17,17)"
             }
            },
            "type": "table"
           }
          ]
         },
         "layout": {
          "annotationdefaults": {
           "arrowcolor": "#f2f5fa",
           "arrowhead": 0,
           "arrowwidth": 1
          },
          "autotypenumbers": "strict",
          "coloraxis": {
           "colorbar": {
            "outlinewidth": 0,
            "ticks": ""
           }
          },
          "colorscale": {
           "diverging": [
            [
             0,
             "#8e0152"
            ],
            [
             0.1,
             "#c51b7d"
            ],
            [
             0.2,
             "#de77ae"
            ],
            [
             0.3,
             "#f1b6da"
            ],
            [
             0.4,
             "#fde0ef"
            ],
            [
             0.5,
             "#f7f7f7"
            ],
            [
             0.6,
             "#e6f5d0"
            ],
            [
             0.7,
             "#b8e186"
            ],
            [
             0.8,
             "#7fbc41"
            ],
            [
             0.9,
             "#4d9221"
            ],
            [
             1,
             "#276419"
            ]
           ],
           "sequential": [
            [
             0,
             "#0d0887"
            ],
            [
             0.1111111111111111,
             "#46039f"
            ],
            [
             0.2222222222222222,
             "#7201a8"
            ],
            [
             0.3333333333333333,
             "#9c179e"
            ],
            [
             0.4444444444444444,
             "#bd3786"
            ],
            [
             0.5555555555555556,
             "#d8576b"
            ],
            [
             0.6666666666666666,
             "#ed7953"
            ],
            [
             0.7777777777777778,
             "#fb9f3a"
            ],
            [
             0.8888888888888888,
             "#fdca26"
            ],
            [
             1,
             "#f0f921"
            ]
           ],
           "sequentialminus": [
            [
             0,
             "#0d0887"
            ],
            [
             0.1111111111111111,
             "#46039f"
            ],
            [
             0.2222222222222222,
             "#7201a8"
            ],
            [
             0.3333333333333333,
             "#9c179e"
            ],
            [
             0.4444444444444444,
             "#bd3786"
            ],
            [
             0.5555555555555556,
             "#d8576b"
            ],
            [
             0.6666666666666666,
             "#ed7953"
            ],
            [
             0.7777777777777778,
             "#fb9f3a"
            ],
            [
             0.8888888888888888,
             "#fdca26"
            ],
            [
             1,
             "#f0f921"
            ]
           ]
          },
          "colorway": [
           "#636efa",
           "#EF553B",
           "#00cc96",
           "#ab63fa",
           "#FFA15A",
           "#19d3f3",
           "#FF6692",
           "#B6E880",
           "#FF97FF",
           "#FECB52"
          ],
          "font": {
           "color": "#f2f5fa"
          },
          "geo": {
           "bgcolor": "rgb(17,17,17)",
           "lakecolor": "rgb(17,17,17)",
           "landcolor": "rgb(17,17,17)",
           "showlakes": true,
           "showland": true,
           "subunitcolor": "#506784"
          },
          "hoverlabel": {
           "align": "left"
          },
          "hovermode": "closest",
          "mapbox": {
           "style": "dark"
          },
          "paper_bgcolor": "rgb(17,17,17)",
          "plot_bgcolor": "rgb(17,17,17)",
          "polar": {
           "angularaxis": {
            "gridcolor": "#506784",
            "linecolor": "#506784",
            "ticks": ""
           },
           "bgcolor": "rgb(17,17,17)",
           "radialaxis": {
            "gridcolor": "#506784",
            "linecolor": "#506784",
            "ticks": ""
           }
          },
          "scene": {
           "xaxis": {
            "backgroundcolor": "rgb(17,17,17)",
            "gridcolor": "#506784",
            "gridwidth": 2,
            "linecolor": "#506784",
            "showbackground": true,
            "ticks": "",
            "zerolinecolor": "#C8D4E3"
           },
           "yaxis": {
            "backgroundcolor": "rgb(17,17,17)",
            "gridcolor": "#506784",
            "gridwidth": 2,
            "linecolor": "#506784",
            "showbackground": true,
            "ticks": "",
            "zerolinecolor": "#C8D4E3"
           },
           "zaxis": {
            "backgroundcolor": "rgb(17,17,17)",
            "gridcolor": "#506784",
            "gridwidth": 2,
            "linecolor": "#506784",
            "showbackground": true,
            "ticks": "",
            "zerolinecolor": "#C8D4E3"
           }
          },
          "shapedefaults": {
           "line": {
            "color": "#f2f5fa"
           }
          },
          "sliderdefaults": {
           "bgcolor": "#C8D4E3",
           "bordercolor": "rgb(17,17,17)",
           "borderwidth": 1,
           "tickwidth": 0
          },
          "ternary": {
           "aaxis": {
            "gridcolor": "#506784",
            "linecolor": "#506784",
            "ticks": ""
           },
           "baxis": {
            "gridcolor": "#506784",
            "linecolor": "#506784",
            "ticks": ""
           },
           "bgcolor": "rgb(17,17,17)",
           "caxis": {
            "gridcolor": "#506784",
            "linecolor": "#506784",
            "ticks": ""
           }
          },
          "title": {
           "x": 0.05
          },
          "updatemenudefaults": {
           "bgcolor": "#506784",
           "borderwidth": 0
          },
          "xaxis": {
           "automargin": true,
           "gridcolor": "#283442",
           "linecolor": "#506784",
           "ticks": "",
           "title": {
            "standoff": 15
           },
           "zerolinecolor": "#283442",
           "zerolinewidth": 2
          },
          "yaxis": {
           "automargin": true,
           "gridcolor": "#283442",
           "linecolor": "#506784",
           "ticks": "",
           "title": {
            "standoff": 15
           },
           "zerolinecolor": "#283442",
           "zerolinewidth": 2
          }
         }
        },
        "title": {
         "font": {
          "size": 24
         },
         "text": "Herkunftsländer der gesündesten Hunderassen",
         "x": 0.5,
         "xanchor": "center"
        },
        "xaxis": {
         "anchor": "y",
         "categoryarray": [
          "Afghanistan",
          "Arabische Halbinsel",
          "Australien",
          "Belgien",
          "Belgien/Frankreich",
          "Deutschland",
          "England",
          "Frankreich",
          "Italien",
          "Russland",
          "Schottland",
          "Sibirien",
          "Tibet",
          "Vereinigtes Königreich",
          "Ägypten"
         ],
         "categoryorder": "total descending",
         "domain": [
          0,
          1
         ],
         "title": {
          "text": "Herkunftsland"
         }
        },
        "yaxis": {
         "anchor": "x",
         "domain": [
          0,
          1
         ],
         "title": {
          "text": "Anzahl gesunder Rassen"
         }
        }
       }
      }
     },
     "metadata": {},
     "output_type": "display_data"
    }
   ],
   "source": [
    "health_counts = (\n",
    "    healthiest_breed_origins.groupby('origin_de')\n",
    "    .size()  # Zählt die Anzahl der Einträge pro Gruppe\n",
    "    .reset_index(name='count')  # Umwandeln in DataFrame mit Spalten 'origin_de' und 'count'\n",
    ")\n",
    "\n",
    "fig = px.bar(\n",
    "    health_counts,\n",
    "    x='origin_de',\n",
    "    y='count',\n",
    "    title='Herkunftsländer der gesündesten Hunderassen',\n",
    "    labels={'origin_de': 'Herkunftsland', 'count': 'Anzahl gesunder Rassen'},\n",
    "    color='origin_de', \n",
    "    template='plotly_dark',\n",
    ")\n",
    "\n",
    "fig.update_layout(\n",
    "    title_x=0.5,\n",
    "    title_xanchor='center',\n",
    "    showlegend=False,\n",
    "    title_font_size = 24\n",
    ")\n",
    "\n",
    "fig.update_xaxes(categoryorder='total descending')\n",
    "\n",
    "fig.show()\n",
    "\n",
    "#fig.write_html('origin_healthiest_breeds.html')"
   ]
  },
  {
   "cell_type": "markdown",
   "id": "bc64f7cc",
   "metadata": {},
   "source": [
    "Alle angegebenen Länder haben Hunderassen hervorgebracht, die keinerlei genetische Vorerkrankungen haben. England hat mit 4 die meisten. Hier ist zu beachten, dass England insgesamt mehr Hunderassen hervorgebracht hat als z.B. Ägypten."
   ]
  },
  {
   "cell_type": "markdown",
   "id": "a0a58c9c",
   "metadata": {},
   "source": [
    "durchschnitt der gesunden rassen pro land\n",
    "also wie viele none durch anzahl hunderassen insgesamt\n",
    "\n"
   ]
  },
  {
   "cell_type": "code",
   "execution_count": 88,
   "id": "a3cb3ab2",
   "metadata": {},
   "outputs": [
    {
     "ename": "NameError",
     "evalue": "name 'make_subplots' is not defined",
     "output_type": "error",
     "traceback": [
      "\u001b[1;31m---------------------------------------------------------------------------\u001b[0m",
      "\u001b[1;31mNameError\u001b[0m                                 Traceback (most recent call last)",
      "Cell \u001b[1;32mIn[88], line 26\u001b[0m\n\u001b[0;32m     21\u001b[0m merged_stats[\u001b[38;5;124m'\u001b[39m\u001b[38;5;124mhealth_percentage\u001b[39m\u001b[38;5;124m'\u001b[39m] \u001b[38;5;241m=\u001b[39m (\n\u001b[0;32m     22\u001b[0m     (merged_stats[\u001b[38;5;124m'\u001b[39m\u001b[38;5;124mhealthy_count\u001b[39m\u001b[38;5;124m'\u001b[39m] \u001b[38;5;241m/\u001b[39m merged_stats[\u001b[38;5;124m'\u001b[39m\u001b[38;5;124mtotal_count\u001b[39m\u001b[38;5;124m'\u001b[39m]) \u001b[38;5;241m*\u001b[39m \u001b[38;5;241m100\u001b[39m\n\u001b[0;32m     23\u001b[0m )\u001b[38;5;241m.\u001b[39mround(\u001b[38;5;241m1\u001b[39m)\n\u001b[0;32m     25\u001b[0m \u001b[38;5;66;03m# 2. Subplots erstellen\u001b[39;00m\n\u001b[1;32m---> 26\u001b[0m fig \u001b[38;5;241m=\u001b[39m \u001b[43mmake_subplots\u001b[49m(\n\u001b[0;32m     27\u001b[0m     rows\u001b[38;5;241m=\u001b[39m\u001b[38;5;241m2\u001b[39m, cols\u001b[38;5;241m=\u001b[39m\u001b[38;5;241m1\u001b[39m,\n\u001b[0;32m     28\u001b[0m     subplot_titles\u001b[38;5;241m=\u001b[39m(\n\u001b[0;32m     29\u001b[0m         \u001b[38;5;124m'\u001b[39m\u001b[38;5;124mAbsolute Anzahl gesunder Rassen pro Land\u001b[39m\u001b[38;5;124m'\u001b[39m,\n\u001b[0;32m     30\u001b[0m         \u001b[38;5;124m'\u001b[39m\u001b[38;5;124mAnteil gesunder Rassen (\u001b[39m\u001b[38;5;124m%\u001b[39m\u001b[38;5;124m)\u001b[39m\u001b[38;5;124m'\u001b[39m\n\u001b[0;32m     31\u001b[0m     ),\n\u001b[0;32m     32\u001b[0m     vertical_spacing\u001b[38;5;241m=\u001b[39m\u001b[38;5;241m0.3\u001b[39m\n\u001b[0;32m     33\u001b[0m )\n\u001b[0;32m     35\u001b[0m \u001b[38;5;66;03m# Plot 1: Absolute Anzahl (Balkendiagramm)\u001b[39;00m\n\u001b[0;32m     36\u001b[0m fig\u001b[38;5;241m.\u001b[39madd_trace(\n\u001b[0;32m     37\u001b[0m     go\u001b[38;5;241m.\u001b[39mBar(\n\u001b[0;32m     38\u001b[0m         x\u001b[38;5;241m=\u001b[39mmerged_stats[\u001b[38;5;124m'\u001b[39m\u001b[38;5;124morigin_de\u001b[39m\u001b[38;5;124m'\u001b[39m],\n\u001b[1;32m   (...)\u001b[0m\n\u001b[0;32m     44\u001b[0m     row\u001b[38;5;241m=\u001b[39m\u001b[38;5;241m1\u001b[39m, col\u001b[38;5;241m=\u001b[39m\u001b[38;5;241m1\u001b[39m\n\u001b[0;32m     45\u001b[0m )\n",
      "\u001b[1;31mNameError\u001b[0m: name 'make_subplots' is not defined"
     ]
    }
   ],
   "source": [
    "\n",
    "total_breeds_per_country = (\n",
    "    data['origin_de'].value_counts()\n",
    "    .reset_index(name='total_count')\n",
    "    .rename(columns={'index': 'origin_de'})\n",
    ")\n",
    "\n",
    "healthy_breeds_per_country = (\n",
    "    healthiest_breed_origins['origin_de']\n",
    "    .value_counts()\n",
    "    .reset_index(name='healthy_count')\n",
    "    .rename(columns={'index': 'origin_de'})\n",
    ")\n",
    "\n",
    "merged_stats = pd.merge(\n",
    "    healthy_breeds_per_country,\n",
    "    total_breeds_per_country,\n",
    "    on='origin_de',\n",
    "    how='left'\n",
    ").sort_values('healthy_count', ascending=False)\n",
    "\n",
    "merged_stats['health_percentage'] = (\n",
    "    (merged_stats['healthy_count'] / merged_stats['total_count']) * 100\n",
    ").round(1)\n",
    "\n",
    "# 2. Subplots erstellen\n",
    "fig = make_subplots(\n",
    "    rows=2, cols=1,\n",
    "    subplot_titles=(\n",
    "        'Absolute Anzahl gesunder Rassen pro Land',\n",
    "        'Anteil gesunder Rassen (%)'\n",
    "    ),\n",
    "    vertical_spacing=0.3\n",
    ")\n",
    "\n",
    "# Plot 1: Absolute Anzahl (Balkendiagramm)\n",
    "fig.add_trace(\n",
    "    go.Bar(\n",
    "        x=merged_stats['origin_de'],\n",
    "        y=merged_stats['healthy_count'],\n",
    "        name='Absolute Anzahl',\n",
    "        text=merged_stats['healthy_count'],\n",
    "        textposition='auto'\n",
    "    ),\n",
    "    row=1, col=1\n",
    ")\n",
    "\n",
    "# Plot 2: Prozentualer Anteil (Balkendiagramm)\n",
    "fig.add_trace(\n",
    "    go.Bar(\n",
    "        x=merged_stats['origin_de'],\n",
    "        y=merged_stats['health_percentage'],\n",
    "        name='Anteil (%)',\n",
    "        text=merged_stats['health_percentage'].astype(str) + '%',\n",
    "        textposition='auto'\n",
    "    ),\n",
    "    row=2, col=1\n",
    ")\n",
    "\n",
    "# 3. Layout anpassen\n",
    "fig.update_layout(\n",
    "    height=800,\n",
    "    title_text='Gesunde Hunderassen nach Herkunftsland',\n",
    "    title_x=0.5,\n",
    "    title_font_size=24,\n",
    "    showlegend=False,\n",
    "    template='plotly_dark'\n",
    ")\n",
    "\n",
    "# X-Achsen drehen und Titel anpassen\n",
    "fig.update_xaxes(tickangle=45, row=1, col=1)\n",
    "fig.update_xaxes(tickangle=45, row=2, col=1)\n",
    "fig.update_yaxes(title_text='Anzahl', row=1, col=1)\n",
    "fig.update_yaxes(title_text='Anteil (%)', row=2, col=1)\n",
    "\n",
    "fig.show()\n",
    "fig.write_html('combined_healthy_breeds_plot.html')"
   ]
  },
  {
   "cell_type": "markdown",
   "id": "3734145b",
   "metadata": {},
   "source": [
    "Oben: Alle angegebenen Länder haben Hunderassen hervorgebracht, die keinerlei genetische Vorerkrankungen haben. England hat mit 4 die meisten. Hier ist zu beachten, dass England insgesamt mehr Hunderassen hervorgebracht hat als z.B. Ägypten.\n",
    "\n",
    "Unten: Hier sieht man hingegen den Durchschnitt der gesunden Rassen pro Land. Hier schneidet England deutlich schlechter ab, denn nur 33,3 % der Rassen (4) sind genetisch nicht vorbelastet. \n"
   ]
  },
  {
   "cell_type": "code",
   "execution_count": null,
   "id": "6de0fd61",
   "metadata": {},
   "outputs": [
    {
     "data": {
      "image/png": "[encoded data removed]",
      "text/plain": [
       "<Figure size 1200x1000 with 2 Axes>"
      ]
     },
     "metadata": {},
     "output_type": "display_data"
    }
   ],
   "source": [
    "def plot_correlation_heatmap(df):\n",
    "    # 1. Nur numerische Spalten wählen\n",
    "    numeric_df = df.select_dtypes(include=[np.number])\n",
    "    corr = numeric_df.corr()\n",
    "    # 2. Maske für das obere Dreieck\n",
    "    mask = np.triu(np.ones_like(corr, dtype=bool))\n",
    "    # 3. Plot-Setup\n",
    "    plt.figure(figsize=(12, 10))\n",
    "    sns.heatmap(\n",
    "        corr,\n",
    "        mask=mask,\n",
    "        annot=True,\n",
    "        fmt=\".2f\",\n",
    "        # cmap='viridis',\n",
    "        square=True,\n",
    "        linewidths=0.5,\n",
    "        cbar_kws={\n",
    "            'label': 'Korrelationskoeffizient',\n",
    "            'shrink': .8,\n",
    "            'orientation': 'vertical'\n",
    "        },\n",
    "        annot_kws={'fontsize': 10}  # Schriftgröße der Werte\n",
    "    )\n",
    "    # 4. Titel & Achsenbeschriftungen mit individuellen Fontgrößen\n",
    "    plt.title('Korrelation zwischen numerischen Parametern', fontsize=16, pad=20)\n",
    "    plt.xlabel('Merkmale', fontsize=14, labelpad=10)\n",
    "    plt.ylabel('Merkmale', fontsize=14, labelpad=10)\n",
    "    # 5. Tick-Schriftgrößen anpassen\n",
    "    plt.xticks(rotation=45, ha='right', fontsize=12)\n",
    "    plt.yticks(fontsize=12)\n",
    "    plt.tight_layout()\n",
    "\n",
    "plot_correlation_heatmap(data)"
   ]
  },
  {
   "cell_type": "code",
   "execution_count": null,
   "id": "f967ab30",
   "metadata": {},
   "outputs": [
    {
     "data": {
      "image/png": "[encoded data removed]",
      "text/plain": [
       "<Figure size 1600x1400 with 2 Axes>"
      ]
     },
     "metadata": {},
     "output_type": "display_data"
    },
    {
     "data": {
      "text/plain": [
       "<Figure size 640x480 with 0 Axes>"
      ]
     },
     "metadata": {},
     "output_type": "display_data"
    }
   ],
   "source": [
    "def plot_correlation_heatmap(df):\n",
    "    \"\"\"\n",
    "    Erstellt eine optimierte Korrelations-Heatmap mit modernem dunkelgrauen Design.\n",
    "    \n",
    "    Args:\n",
    "        df (pandas.DataFrame): Der zu analysierende Datensatz\n",
    "        \n",
    "    Returns:\n",
    "        matplotlib.figure.Figure: Die erstellte Figure für weitere Anpassungen\n",
    "    \"\"\"\n",
    "    # 1. Numerische Spalten auswählen und deutsche Namen zuweisen\n",
    "    numeric_df = df.select_dtypes(include=[np.number])\n",
    "    column_mapping = {\n",
    "        'score': 'Score',\n",
    "        'size': 'Größe',\n",
    "        'score for kids': 'Kinderfreundlichkeits-Score',\n",
    "        'INTELLIGENCE RANK': 'Intelligenz-Höhe',\n",
    "        'LONGEVITY(YEARS)': 'Lebenserwartung (Jahre)',\n",
    "        'popularity ranking': 'Popularität',\n",
    "        'PURCHASE PRICE': 'Kaufpreis ($)',\n",
    "        'FOOD COSTS PER YEAR': 'Fütterungskosten pro Jahr',\n",
    "        'SUITABILITY FOR CHILDREN': ' Eignung für Kinder',\n",
    "        'NUMBER OF GENETIC AILMENTS': 'Höhe genetischer Erkrankungen',\n",
    "        '$LIFETIME COST': 'Kosten über gesamte Lebenszeit'\n",
    "    }\n",
    "    numeric_df = numeric_df.rename(columns=column_mapping)\n",
    "    corr = numeric_df.corr()\n",
    "    \n",
    "    # 2. Maske für das obere Dreieck\n",
    "    mask = np.triu(np.ones_like(corr, dtype=bool))\n",
    "    \n",
    "    # 3. Plot-Setup mit dunkelgrauem Hintergrund\n",
    "    plt.style.use('dark_background')\n",
    "    fig = plt.figure(figsize=(16, 14))  # Größere Darstellung\n",
    "    \n",
    "    \n",
    "    # 4. Heatmap erstellen\n",
    "    sns.heatmap(\n",
    "        corr,\n",
    "        mask=mask,\n",
    "        annot=True,\n",
    "        fmt=\".2f\",\n",
    "        cmap='RdYlGn',\n",
    "        square=True,\n",
    "        linewidths=1.0,  # Breitere Trennlinien\n",
    "        cbar_kws={\n",
    "            'label': 'Korrelationskoeffizient',\n",
    "            'shrink': .8,\n",
    "            'orientation': 'vertical',\n",
    "            'pad': 0.05\n",
    "        },\n",
    "        annot_kws={\n",
    "            'fontsize': 14,  # Größere Schrift für Werte\n",
    "            # 'weight': 'bold',\n",
    "            'color': 'black'\n",
    "        }\n",
    "    )\n",
    "    \n",
    "    # 5. Titel und Beschriftungen anpassen\n",
    "    plt.title(\n",
    "        'Korrelationsanalyse der numerischen Parameter\\n',\n",
    "        fontsize=24,  # Größerer Titel\n",
    "        pad=20,\n",
    "        fontweight='bold',\n",
    "        color='white',\n",
    "        ha = 'center'\n",
    "    )\n",
    "    plt.xlabel('\\nParameter', fontsize=20, labelpad=15, color='white')\n",
    "    plt.ylabel('Parameter\\n', fontsize=20, labelpad=15, color='white')\n",
    "    \n",
    "    # 6. Achsenbeschriftungen optimieren\n",
    "    plt.xticks(rotation=45, ha='right', fontsize=16, color='white')\n",
    "    plt.yticks(fontsize=16, color='white')\n",
    "    \n",
    "    # 7. Layout optimieren\n",
    "    plt.tight_layout(pad=2.0)\n",
    "    \n",
    "    # 8. Farbbalken-Beschriftung anpassen\n",
    "    cbar = plt.gcf().axes[-1]\n",
    "    cbar.set_title(\n",
    "        'Stärke der\\nKorrelation', \n",
    "        fontsize=16,  # Größere Schrift\n",
    "        pad=15,\n",
    "        color='white'\n",
    "    )\n",
    "    cbar.tick_params(labelcolor='white', labelsize=14)  # Größere Tick-Labels\n",
    "    \n",
    "    # Hintergrundfarbe der gesamten Figur setzen\n",
    "    fig.patch.set_facecolor('black')\n",
    "    \n",
    "    return fig\n",
    "\n",
    "# Beispielverwendung:\n",
    "fig = plot_correlation_heatmap(data)\n",
    "\n",
    "plt.show()\n",
    "plt.savefig('korrelation_heatmap.png')"
   ]
  },
  {
   "cell_type": "code",
   "execution_count": 91,
   "id": "b1ea27be",
   "metadata": {},
   "outputs": [
    {
     "data": {
      "image/png": "[encoded data removed]",
      "text/plain": [
       "<Figure size 1200x1000 with 2 Axes>"
      ]
     },
     "metadata": {},
     "output_type": "display_data"
    },
    {
     "data": {
      "text/plain": [
       "<Figure size 640x480 with 0 Axes>"
      ]
     },
     "metadata": {},
     "output_type": "display_data"
    }
   ],
   "source": [
    "def plot_correlation_heatmap(df):\n",
    "    \"\"\"\n",
    "    Erstellt eine optimierte Korrelations-Heatmap mit modernem dunkelgrauem Design,\n",
    "    wobei 5 Parameter auf der X-Achse und 6 andere auf der Y-Achse dargestellt werden.\n",
    "    \"\"\"\n",
    "    # 1. Numerische Spalten auswählen und deutsche Namen zuweisen\n",
    "    numeric_df = df.select_dtypes(include=[np.number])\n",
    "    column_mapping = {\n",
    "        'score': 'Score',\n",
    "        'size': 'Größe',\n",
    "        'score for kids': 'Kinderfreundlichkeits-Score',\n",
    "        'INTELLIGENCE RANK': 'Intelligenz-Höhe',\n",
    "        'LONGEVITY(YEARS)': 'Lebenserwartung (Jahre)',\n",
    "        'popularity ranking': 'Popularität',\n",
    "        'PURCHASE PRICE': 'Kaufpreis ($)',\n",
    "        'FOOD COSTS PER YEAR': 'Fütterungskosten pro Jahr',\n",
    "        'SUITABILITY FOR CHILDREN': 'Eignung für Kinder',\n",
    "        'NUMBER OF GENETIC AILMENTS': 'Höhe genetischer Erkrankungen',\n",
    "        '$LIFETIME COST': 'Kosten über gesamte Lebenszeit'\n",
    "    }\n",
    "    numeric_df = numeric_df.rename(columns=column_mapping)\n",
    "    \n",
    "    # Parameter für X- und Y-Achse definieren\n",
    "    x_params = [\n",
    "        'Score',\n",
    "        'Größe',\n",
    "        'Kinderfreundlichkeits-Score',\n",
    "        'Intelligenz-Höhe',\n",
    "        'Lebenserwartung (Jahre)'\n",
    "    ]\n",
    "    \n",
    "    y_params = [\n",
    "        'Popularität',\n",
    "        'Kaufpreis ($)',\n",
    "        'Fütterungskosten pro Jahr',\n",
    "        'Eignung für Kinder',\n",
    "        'Höhe genetischer Erkrankungen',\n",
    "        'Kosten über gesamte Lebenszeit'\n",
    "    ]\n",
    "    \n",
    "    # Sicherstellen, dass alle Spalten vorhanden sind\n",
    "    x_params = [col for col in x_params if col in numeric_df.columns]\n",
    "    y_params = [col for col in y_params if col in numeric_df.columns]\n",
    "    \n",
    "    # Teildatensätze erstellen\n",
    "    x_data = numeric_df[x_params]\n",
    "    y_data = numeric_df[y_params]\n",
    "    \n",
    "    # Korrelationsmatrix berechnen\n",
    "    corr_matrix = pd.DataFrame(index=y_params, columns=x_params)\n",
    "    for y_col in y_params:\n",
    "        for x_col in x_params:\n",
    "            corr_matrix.loc[y_col, x_col] = y_data[y_col].corr(x_data[x_col])\n",
    "    corr_matrix = corr_matrix.astype(float)\n",
    "    \n",
    "    # 2. Plot-Setup mit dunkelgrauem Hintergrund\n",
    "    plt.style.use('dark_background')\n",
    "    fig, ax = plt.subplots(figsize=(12, 10))\n",
    "    \n",
    "    # 3. Heatmap erstellen\n",
    "    sns.heatmap(\n",
    "        corr_matrix,\n",
    "        annot=True,\n",
    "        fmt=\".2f\",\n",
    "        cmap='RdYlGn',\n",
    "        square=True,\n",
    "        linewidths=0.5,\n",
    "        cbar_kws={\n",
    "            'label': 'Korrelationskoeffizient',\n",
    "            'shrink': 0.8\n",
    "        },\n",
    "        annot_kws={'fontsize': 12},\n",
    "        ax=ax\n",
    "    )\n",
    "    \n",
    "    # # 4. Titel und Beschriftungen anpassen\n",
    "    # ax.set_title('Korrelationsanalyse\\n', fontsize=20, pad=20, color='white')\n",
    "    # ax.set_xlabel('\\nX-Achse Parameter', fontsize=14, color='white')\n",
    "    # ax.set_ylabel('Y-Achse Parameter\\n', fontsize=14, color='white')\n",
    "    \n",
    "    # 5. Achsenbeschriftungen\n",
    "    ax.tick_params(axis='x', colors='white', labelsize=12, rotation=45)\n",
    "    ax.tick_params(axis='y', colors='white', labelsize=12, rotation=0)\n",
    "    \n",
    "    # 6. Layout optimieren\n",
    "    plt.tight_layout()\n",
    "    \n",
    "    # Hintergrundfarbe\n",
    "    fig.patch.set_facecolor('#1a1a1a')\n",
    "    \n",
    "    return fig\n",
    "\n",
    "# Beispielverwendung:\n",
    "fig = plot_correlation_heatmap(data)\n",
    "plt.show()\n",
    "plt.savefig('korrelation_heatmap.png', dpi=300, facecolor='#1a1a1a')"
   ]
  },
  {
   "cell_type": "code",
   "execution_count": null,
   "id": "bb427f39",
   "metadata": {},
   "outputs": [],
   "source": []
  }
 ],
 "metadata": {
  "kernelspec": {
   "display_name": "Python 3",
   "language": "python",
   "name": "python3"
  },
  "language_info": {
   "codemirror_mode": {
    "name": "ipython",
    "version": 3
   },
   "file_extension": ".py",
   "mimetype": "text/x-python",
   "name": "python",
   "nbconvert_exporter": "python",
   "pygments_lexer": "ipython3",
   "version": "3.13.2"
  }
 },
 "nbformat": 4,
 "nbformat_minor": 5
}
