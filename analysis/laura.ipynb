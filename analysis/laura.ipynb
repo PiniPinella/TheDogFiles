{
 "cells": [
  {
   "cell_type": "code",
   "execution_count": 119,
   "id": "4e5000d0",
   "metadata": {},
   "outputs": [],
   "source": [
    "import os\n",
    "import pandas as pd\n",
    "import numpy as np\n",
    "import matplotlib.pyplot as plt\n",
    "import seaborn as sns\n",
    "import plotly.express as px\n",
    "import plotly.graph_objects as go "
   ]
  },
  {
   "cell_type": "code",
   "execution_count": 120,
   "id": "9366ef35",
   "metadata": {},
   "outputs": [],
   "source": [
    "# Dataset laden\n",
    "\n",
    "config_path = os.path.join(\"..\", \"data\", \"final_dataset.csv\")\n",
    "data = pd.read_csv(config_path)"
   ]
  },
  {
   "cell_type": "code",
   "execution_count": 121,
   "id": "5fd11991",
   "metadata": {},
   "outputs": [
    {
     "data": {
      "text/html": [
       "<div>\n",
       "<style scoped>\n",
       "    .dataframe tbody tr th:only-of-type {\n",
       "        vertical-align: middle;\n",
       "    }\n",
       "\n",
       "    .dataframe tbody tr th {\n",
       "        vertical-align: top;\n",
       "    }\n",
       "\n",
       "    .dataframe thead th {\n",
       "        text-align: right;\n",
       "    }\n",
       "</style>\n",
       "<table border=\"1\" class=\"dataframe\">\n",
       "  <thead>\n",
       "    <tr style=\"text-align: right;\">\n",
       "      <th></th>\n",
       "      <th>Breed</th>\n",
       "      <th>type</th>\n",
       "      <th>score</th>\n",
       "      <th>popularity ranking</th>\n",
       "      <th>size</th>\n",
       "      <th>intelligence</th>\n",
       "      <th>congential ailments</th>\n",
       "      <th>score for kids</th>\n",
       "      <th>size.1</th>\n",
       "      <th>$LIFETIME COST</th>\n",
       "      <th>...</th>\n",
       "      <th>LONGEVITY(YEARS)</th>\n",
       "      <th>NUMBER OF GENETIC AILMENTS</th>\n",
       "      <th>GENETIC AILMENTS</th>\n",
       "      <th>PURCHASE PRICE</th>\n",
       "      <th>FOOD COSTS PER YEAR</th>\n",
       "      <th>GROOMING FREQUNCY</th>\n",
       "      <th>SUITABILITY FOR CHILDREN</th>\n",
       "      <th>origin_de</th>\n",
       "      <th>Breed_de</th>\n",
       "      <th>type_de</th>\n",
       "    </tr>\n",
       "  </thead>\n",
       "  <tbody>\n",
       "    <tr>\n",
       "      <th>0</th>\n",
       "      <td>Border Terrier</td>\n",
       "      <td>terrier</td>\n",
       "      <td>3.61</td>\n",
       "      <td>61</td>\n",
       "      <td>1</td>\n",
       "      <td>Above average</td>\n",
       "      <td>none</td>\n",
       "      <td>4.99</td>\n",
       "      <td>small</td>\n",
       "      <td>$22,638</td>\n",
       "      <td>...</td>\n",
       "      <td>14.00</td>\n",
       "      <td>0</td>\n",
       "      <td>none</td>\n",
       "      <td>$833</td>\n",
       "      <td>$324</td>\n",
       "      <td>Once a week</td>\n",
       "      <td>1</td>\n",
       "      <td>Vereinigtes Königreich</td>\n",
       "      <td>Border Terrier</td>\n",
       "      <td>Terrier</td>\n",
       "    </tr>\n",
       "    <tr>\n",
       "      <th>1</th>\n",
       "      <td>Cairn Terrier</td>\n",
       "      <td>terrier</td>\n",
       "      <td>3.53</td>\n",
       "      <td>48</td>\n",
       "      <td>1</td>\n",
       "      <td>Above average</td>\n",
       "      <td>'lion jaw', heart problems</td>\n",
       "      <td>4.91</td>\n",
       "      <td>small</td>\n",
       "      <td>$21,992</td>\n",
       "      <td>...</td>\n",
       "      <td>13.84</td>\n",
       "      <td>2</td>\n",
       "      <td>'lion jaw', heart problems</td>\n",
       "      <td>$435</td>\n",
       "      <td>$324</td>\n",
       "      <td>Once a week</td>\n",
       "      <td>1</td>\n",
       "      <td>Schottland</td>\n",
       "      <td>Cairn Terrier</td>\n",
       "      <td>Terrier</td>\n",
       "    </tr>\n",
       "    <tr>\n",
       "      <th>2</th>\n",
       "      <td>Siberian Husky</td>\n",
       "      <td>working</td>\n",
       "      <td>3.22</td>\n",
       "      <td>16</td>\n",
       "      <td>2</td>\n",
       "      <td>Average</td>\n",
       "      <td>none</td>\n",
       "      <td>4.72</td>\n",
       "      <td>medium</td>\n",
       "      <td>$22,049</td>\n",
       "      <td>...</td>\n",
       "      <td>12.58</td>\n",
       "      <td>0</td>\n",
       "      <td>none</td>\n",
       "      <td>$650</td>\n",
       "      <td>$466</td>\n",
       "      <td>Once in a few weeks</td>\n",
       "      <td>1</td>\n",
       "      <td>Sibirien</td>\n",
       "      <td>Sibirischer Husky</td>\n",
       "      <td>Gebrauchshund</td>\n",
       "    </tr>\n",
       "    <tr>\n",
       "      <th>3</th>\n",
       "      <td>Welsh Springer Spaniel</td>\n",
       "      <td>sporting</td>\n",
       "      <td>3.34</td>\n",
       "      <td>81</td>\n",
       "      <td>2</td>\n",
       "      <td>Above average</td>\n",
       "      <td>hip problems</td>\n",
       "      <td>4.71</td>\n",
       "      <td>medium</td>\n",
       "      <td>$20,224</td>\n",
       "      <td>...</td>\n",
       "      <td>12.49</td>\n",
       "      <td>1</td>\n",
       "      <td>hip problems</td>\n",
       "      <td>$750</td>\n",
       "      <td>$324</td>\n",
       "      <td>Once a week</td>\n",
       "      <td>1</td>\n",
       "      <td>Wales</td>\n",
       "      <td>Walisischer Springer Spaniel</td>\n",
       "      <td>Jagdhund</td>\n",
       "    </tr>\n",
       "    <tr>\n",
       "      <th>4</th>\n",
       "      <td>English Cocker Spaniel</td>\n",
       "      <td>sporting</td>\n",
       "      <td>3.33</td>\n",
       "      <td>51</td>\n",
       "      <td>2</td>\n",
       "      <td>Excellent</td>\n",
       "      <td>none</td>\n",
       "      <td>4.70</td>\n",
       "      <td>medium</td>\n",
       "      <td>$18,993</td>\n",
       "      <td>...</td>\n",
       "      <td>11.66</td>\n",
       "      <td>0</td>\n",
       "      <td>none</td>\n",
       "      <td>$800</td>\n",
       "      <td>$324</td>\n",
       "      <td>Once a week</td>\n",
       "      <td>1</td>\n",
       "      <td>England</td>\n",
       "      <td>Englischer Cocker Spaniel</td>\n",
       "      <td>Jagdhund</td>\n",
       "    </tr>\n",
       "  </tbody>\n",
       "</table>\n",
       "<p>5 rows × 22 columns</p>\n",
       "</div>"
      ],
      "text/plain": [
       "                    Breed      type  score  popularity ranking  size  \\\n",
       "0          Border Terrier   terrier   3.61                  61     1   \n",
       "1           Cairn Terrier   terrier   3.53                  48     1   \n",
       "2          Siberian Husky   working   3.22                  16     2   \n",
       "3  Welsh Springer Spaniel  sporting   3.34                  81     2   \n",
       "4  English Cocker Spaniel  sporting   3.33                  51     2   \n",
       "\n",
       "    intelligence           congential ailments  score for kids  size.1  \\\n",
       "0  Above average                          none            4.99   small   \n",
       "1  Above average  'lion jaw', heart problems              4.91   small   \n",
       "2        Average                          none            4.72  medium   \n",
       "3  Above average                  hip problems            4.71  medium   \n",
       "4      Excellent                          none            4.70  medium   \n",
       "\n",
       "  $LIFETIME COST  ...  LONGEVITY(YEARS) NUMBER OF GENETIC AILMENTS  \\\n",
       "0       $22,638   ...             14.00                          0   \n",
       "1       $21,992   ...             13.84                          2   \n",
       "2       $22,049   ...             12.58                          0   \n",
       "3       $20,224   ...             12.49                          1   \n",
       "4       $18,993   ...             11.66                          0   \n",
       "\n",
       "               GENETIC AILMENTS  PURCHASE PRICE FOOD COSTS PER YEAR  \\\n",
       "0                          none           $833                $324    \n",
       "1  'lion jaw', heart problems             $435                $324    \n",
       "2                          none           $650                $466    \n",
       "3                  hip problems           $750                $324    \n",
       "4                          none           $800                $324    \n",
       "\n",
       "     GROOMING FREQUNCY SUITABILITY FOR CHILDREN               origin_de  \\\n",
       "0          Once a week                        1  Vereinigtes Königreich   \n",
       "1          Once a week                        1              Schottland   \n",
       "2  Once in a few weeks                        1                Sibirien   \n",
       "3          Once a week                        1                   Wales   \n",
       "4          Once a week                        1                 England   \n",
       "\n",
       "                       Breed_de        type_de  \n",
       "0                Border Terrier        Terrier  \n",
       "1                 Cairn Terrier        Terrier  \n",
       "2             Sibirischer Husky  Gebrauchshund  \n",
       "3  Walisischer Springer Spaniel       Jagdhund  \n",
       "4     Englischer Cocker Spaniel       Jagdhund  \n",
       "\n",
       "[5 rows x 22 columns]"
      ]
     },
     "execution_count": 121,
     "metadata": {},
     "output_type": "execute_result"
    }
   ],
   "source": [
    "data.head()"
   ]
  },
  {
   "cell_type": "markdown",
   "id": "ecc983a5",
   "metadata": {},
   "source": [
    "# Lebenserwartung vs Popularität"
   ]
  },
  {
   "cell_type": "code",
   "execution_count": 122,
   "id": "e5fb4c27",
   "metadata": {},
   "outputs": [
    {
     "name": "stdout",
     "output_type": "stream",
     "text": [
      "Korrelation: 0.060, Bestimmtheitsmaß 0.003575555568841845\n"
     ]
    }
   ],
   "source": [
    "correlation = data['LONGEVITY(YEARS)'].corr(data['popularity ranking'])\n",
    "bestimmtheit = correlation**2\n",
    "print(f\"Korrelation: {correlation:.3f}, Bestimmtheitsmaß {bestimmtheit}\")"
   ]
  },
  {
   "cell_type": "code",
   "execution_count": 123,
   "id": "62e19848",
   "metadata": {},
   "outputs": [
    {
     "data": {
      "application/vnd.plotly.v1+json": {
       "config": {
        "plotlyServerURL": "https://plot.ly"
       },
       "data": [
        {
         "hovertemplate": "<b>%{hovertext}</b><br><br>Lebenserwartung (Jahre)=%{x}<br>Popularitäts-Ranking (Platz 1-87)=%{marker.color}<extra></extra>",
         "hovertext": [
          "Border Terrier",
          "Cairn Terrier",
          "Siberian Husky",
          "Welsh Springer Spaniel",
          "English Cocker Spaniel",
          "Cocker Spaniel",
          "Lhasa Apso",
          "English Springer Spaniel",
          "Shetland Sheepdog",
          "West Highland White Terrier",
          "Brittany",
          "German Shorthaired Pointer",
          "Pointer",
          "Tibetan Spaniel",
          "Labrador Retriever",
          "Bichon Frise",
          "Irish Setter",
          "Samoyed",
          "Shih Tzu",
          "Golden Retriever",
          "Chesapeake Bay Retriever",
          "Papillon",
          "Gordon Setter",
          "English Setter",
          "Pug",
          "Affenpinscher",
          "Miniature Schnauzer",
          "Beagle",
          "Border Collie",
          "Australian Terrier",
          "Whippet",
          "Boston Terrier",
          "Briard",
          "Bedlington Terrier",
          "Cavalier King Charles Spaniel",
          "Dalmatian",
          "Flat-Coated Retriever",
          "Belgian Tervuren",
          "Basset Hound",
          "Poodle",
          "Staffordshire Bull Terrier",
          "Bouvier des Flandres",
          "Pembroke Welsh Corgi",
          "Clumber Spaniel",
          "Pomeranian",
          "Australian Shepherd",
          "Pharaoh Hound",
          "Dandie Dinmont Terrier",
          "Greyhound",
          "Saluki",
          "Australian Cattle Dog",
          "Tibetan Terrier",
          "Norfolk Terrier",
          "Dachshund",
          "Chihuahua",
          "Doberman Pinscher",
          "English Toy Spaniel",
          "Newfoundland",
          "Basenji",
          "Afghan Hound",
          "Old English Sheepdog",
          "French Bulldog",
          "Bernese Mountain Dog",
          "Boxer",
          "Brussels Griffon",
          "Maltese",
          "Giant Schnauzer",
          "Rottweiler",
          "Yorkshire Terrier",
          "Irish Wolfhound",
          "Scottish Terrier",
          "Bullmastiff",
          "German Shepherd",
          "Mastiff",
          "Great Dane",
          "Kerry Blue Terrier",
          "Italian Greyhound",
          "Pekingese",
          "Rhodesian Ridgeback",
          "Bull Terrier",
          "Saint Bernard",
          "Borzoi",
          "Alaskan Malamute",
          "Bloodhound",
          "Chow Chow",
          "Akita",
          "Bulldog"
         ],
         "legendgroup": "",
         "marker": {
          "color": {
           "bdata": "PTAQUTMbMh0UIB4PSkkBIjg3CwQoIUVBGlQMAydNLhZPUxU5Q0gkCDo+GVIRGFZXVUsxQEwJDg1QJURCPxIfBzsXRgoFPC0jAhwTTjU0JiwrRy8qNikG",
           "dtype": "i1"
          },
          "coloraxis": "coloraxis",
          "line": {
           "width": 1
          },
          "size": 10,
          "symbol": "circle"
         },
         "mode": "markers",
         "name": "",
         "orientation": "v",
         "showlegend": false,
         "type": "scatter",
         "x": {
          "bdata": "AAAAAAAALECuR+F6FK4rQClcj8L1KClAexSuR+H6KEBSuB6F61EnQAAAAAAAAClA16NwPQrXK0AUrkfhehQpQI/C9ShcDylAmpmZmZmZKUDXo3A9CtcpQOxRuB6F6yZA16NwPQrXKEDXo3A9CtcsQBSuR+F6FChA7FG4HoVrKEDD9Shcj0InQOF6FK5H4ShAZmZmZmZmKkAUrkfhehQoQPYoXI/C9SJAAAAAAAAAKkAzMzMzMzMmQKRwPQrXIydAAAAAAAAAJkDXo3A9CtcmQB+F61G4nidAmpmZmZmZKEAK16NwPQopQJqZmZmZGSZAPQrXo3C9KUDXo3A9CtclQNejcD0KVyZAhetRuB4FK0AUrkfhepQmQArXo3A9iiZACtejcD0KIkAzMzMzMzMlQFyPwvUo3CZAZmZmZmbmJ0CamZmZmRkoQK5H4XoUriRAAAAAAACAKEAAAAAAAAAkQNejcD0KVyNAj8L1KFyPKEApXI/C9agnQNejcD0KVyhAuB6F61G4IkAAAAAAAAAoQNejcD0KVydAH4XrUbieKECkcD0K1yMqQMP1KFyPQilAAAAAAACAMEApXI/C9agkQDMzMzMzMyRApHA9CtejIkApXI/C9SgrQNejcD0K1ydA4XoUrkdhJkAAAAAAAAAiQD0K16NwPR5AH4XrUbieIUAAAAAAAAAoQAAAAAAAgChAAAAAAAAAJEC4HoXrUTgiQDMzMzMzMylAw/UoXI/CG0DhehSuR2ElQEjhehSuRx5A9ihcj8J1I0AAAAAAAAAaQNejcD0K1xtAzczMzMzMIkAK16NwPQokQB+F61G4HidAMzMzMzMzIkDsUbgehWskQB+F61G4Hh9AKVyPwvUoIkDXo3A9ClclQAAAAAAAABtAhetRuB4FIkBSuB6F61EkQClcj8L1KBlA",
          "dtype": "f8"
         },
         "xaxis": "x",
         "y": {
          "bdata": "PTAQUTMbMh0UIB4PSkkBIjg3CwQoIUVBGlQMAydNLhZPUxU5Q0gkCDo+GVIRGFZXVUsxQEwJDg1QJURCPxIfBzsXRgoFPC0jAhwTTjU0JiwrRy8qNikG",
          "dtype": "i1"
         },
         "yaxis": "y"
        }
       ],
       "layout": {
        "annotations": [
         {
          "align": "right",
          "bgcolor": "rgba(255,255,255,0.8)",
          "bordercolor": "#2c3272",
          "borderwidth": 1,
          "font": {
           "color": "#2c3272",
           "family": "Trebuchet MS",
           "size": 14
          },
          "showarrow": false,
          "text": "Korrelation: 0.0598<br>Bestimmtheitsmaß: 0.0036",
          "x": 1,
          "xanchor": "right",
          "xref": "paper",
          "y": 0.02,
          "yanchor": "bottom",
          "yref": "paper"
         }
        ],
        "coloraxis": {
         "colorbar": {
          "title": {
           "text": "Popularitäts-Ranking (Platz 1-87)"
          }
         },
         "colorscale": [
          [
           0,
           "#fde725"
          ],
          [
           0.1111111111111111,
           "#b5de2b"
          ],
          [
           0.2222222222222222,
           "#6ece58"
          ],
          [
           0.3333333333333333,
           "#35b779"
          ],
          [
           0.4444444444444444,
           "#1f9e89"
          ],
          [
           0.5555555555555556,
           "#26828e"
          ],
          [
           0.6666666666666666,
           "#31688e"
          ],
          [
           0.7777777777777778,
           "#3e4989"
          ],
          [
           0.8888888888888888,
           "#482878"
          ],
          [
           1,
           "#440154"
          ]
         ],
         "showscale": false
        },
        "font": {
         "color": "#2c3272",
         "family": "Trebuchet MS",
         "size": 15
        },
        "legend": {
         "tracegroupgap": 0
        },
        "template": {
         "data": {
          "bar": [
           {
            "error_x": {
             "color": "#2a3f5f"
            },
            "error_y": {
             "color": "#2a3f5f"
            },
            "marker": {
             "line": {
              "color": "#E5ECF6",
              "width": 0.5
             },
             "pattern": {
              "fillmode": "overlay",
              "size": 10,
              "solidity": 0.2
             }
            },
            "type": "bar"
           }
          ],
          "barpolar": [
           {
            "marker": {
             "line": {
              "color": "#E5ECF6",
              "width": 0.5
             },
             "pattern": {
              "fillmode": "overlay",
              "size": 10,
              "solidity": 0.2
             }
            },
            "type": "barpolar"
           }
          ],
          "carpet": [
           {
            "aaxis": {
             "endlinecolor": "#2a3f5f",
             "gridcolor": "white",
             "linecolor": "white",
             "minorgridcolor": "white",
             "startlinecolor": "#2a3f5f"
            },
            "baxis": {
             "endlinecolor": "#2a3f5f",
             "gridcolor": "white",
             "linecolor": "white",
             "minorgridcolor": "white",
             "startlinecolor": "#2a3f5f"
            },
            "type": "carpet"
           }
          ],
          "choropleth": [
           {
            "colorbar": {
             "outlinewidth": 0,
             "ticks": ""
            },
            "type": "choropleth"
           }
          ],
          "contour": [
           {
            "colorbar": {
             "outlinewidth": 0,
             "ticks": ""
            },
            "colorscale": [
             [
              0,
              "#0d0887"
             ],
             [
              0.1111111111111111,
              "#46039f"
             ],
             [
              0.2222222222222222,
              "#7201a8"
             ],
             [
              0.3333333333333333,
              "#9c179e"
             ],
             [
              0.4444444444444444,
              "#bd3786"
             ],
             [
              0.5555555555555556,
              "#d8576b"
             ],
             [
              0.6666666666666666,
              "#ed7953"
             ],
             [
              0.7777777777777778,
              "#fb9f3a"
             ],
             [
              0.8888888888888888,
              "#fdca26"
             ],
             [
              1,
              "#f0f921"
             ]
            ],
            "type": "contour"
           }
          ],
          "contourcarpet": [
           {
            "colorbar": {
             "outlinewidth": 0,
             "ticks": ""
            },
            "type": "contourcarpet"
           }
          ],
          "heatmap": [
           {
            "colorbar": {
             "outlinewidth": 0,
             "ticks": ""
            },
            "colorscale": [
             [
              0,
              "#0d0887"
             ],
             [
              0.1111111111111111,
              "#46039f"
             ],
             [
              0.2222222222222222,
              "#7201a8"
             ],
             [
              0.3333333333333333,
              "#9c179e"
             ],
             [
              0.4444444444444444,
              "#bd3786"
             ],
             [
              0.5555555555555556,
              "#d8576b"
             ],
             [
              0.6666666666666666,
              "#ed7953"
             ],
             [
              0.7777777777777778,
              "#fb9f3a"
             ],
             [
              0.8888888888888888,
              "#fdca26"
             ],
             [
              1,
              "#f0f921"
             ]
            ],
            "type": "heatmap"
           }
          ],
          "histogram": [
           {
            "marker": {
             "pattern": {
              "fillmode": "overlay",
              "size": 10,
              "solidity": 0.2
             }
            },
            "type": "histogram"
           }
          ],
          "histogram2d": [
           {
            "colorbar": {
             "outlinewidth": 0,
             "ticks": ""
            },
            "colorscale": [
             [
              0,
              "#0d0887"
             ],
             [
              0.1111111111111111,
              "#46039f"
             ],
             [
              0.2222222222222222,
              "#7201a8"
             ],
             [
              0.3333333333333333,
              "#9c179e"
             ],
             [
              0.4444444444444444,
              "#bd3786"
             ],
             [
              0.5555555555555556,
              "#d8576b"
             ],
             [
              0.6666666666666666,
              "#ed7953"
             ],
             [
              0.7777777777777778,
              "#fb9f3a"
             ],
             [
              0.8888888888888888,
              "#fdca26"
             ],
             [
              1,
              "#f0f921"
             ]
            ],
            "type": "histogram2d"
           }
          ],
          "histogram2dcontour": [
           {
            "colorbar": {
             "outlinewidth": 0,
             "ticks": ""
            },
            "colorscale": [
             [
              0,
              "#0d0887"
             ],
             [
              0.1111111111111111,
              "#46039f"
             ],
             [
              0.2222222222222222,
              "#7201a8"
             ],
             [
              0.3333333333333333,
              "#9c179e"
             ],
             [
              0.4444444444444444,
              "#bd3786"
             ],
             [
              0.5555555555555556,
              "#d8576b"
             ],
             [
              0.6666666666666666,
              "#ed7953"
             ],
             [
              0.7777777777777778,
              "#fb9f3a"
             ],
             [
              0.8888888888888888,
              "#fdca26"
             ],
             [
              1,
              "#f0f921"
             ]
            ],
            "type": "histogram2dcontour"
           }
          ],
          "mesh3d": [
           {
            "colorbar": {
             "outlinewidth": 0,
             "ticks": ""
            },
            "type": "mesh3d"
           }
          ],
          "parcoords": [
           {
            "line": {
             "colorbar": {
              "outlinewidth": 0,
              "ticks": ""
             }
            },
            "type": "parcoords"
           }
          ],
          "pie": [
           {
            "automargin": true,
            "type": "pie"
           }
          ],
          "scatter": [
           {
            "fillpattern": {
             "fillmode": "overlay",
             "size": 10,
             "solidity": 0.2
            },
            "type": "scatter"
           }
          ],
          "scatter3d": [
           {
            "line": {
             "colorbar": {
              "outlinewidth": 0,
              "ticks": ""
             }
            },
            "marker": {
             "colorbar": {
              "outlinewidth": 0,
              "ticks": ""
             }
            },
            "type": "scatter3d"
           }
          ],
          "scattercarpet": [
           {
            "marker": {
             "colorbar": {
              "outlinewidth": 0,
              "ticks": ""
             }
            },
            "type": "scattercarpet"
           }
          ],
          "scattergeo": [
           {
            "marker": {
             "colorbar": {
              "outlinewidth": 0,
              "ticks": ""
             }
            },
            "type": "scattergeo"
           }
          ],
          "scattergl": [
           {
            "marker": {
             "colorbar": {
              "outlinewidth": 0,
              "ticks": ""
             }
            },
            "type": "scattergl"
           }
          ],
          "scattermap": [
           {
            "marker": {
             "colorbar": {
              "outlinewidth": 0,
              "ticks": ""
             }
            },
            "type": "scattermap"
           }
          ],
          "scattermapbox": [
           {
            "marker": {
             "colorbar": {
              "outlinewidth": 0,
              "ticks": ""
             }
            },
            "type": "scattermapbox"
           }
          ],
          "scatterpolar": [
           {
            "marker": {
             "colorbar": {
              "outlinewidth": 0,
              "ticks": ""
             }
            },
            "type": "scatterpolar"
           }
          ],
          "scatterpolargl": [
           {
            "marker": {
             "colorbar": {
              "outlinewidth": 0,
              "ticks": ""
             }
            },
            "type": "scatterpolargl"
           }
          ],
          "scatterternary": [
           {
            "marker": {
             "colorbar": {
              "outlinewidth": 0,
              "ticks": ""
             }
            },
            "type": "scatterternary"
           }
          ],
          "surface": [
           {
            "colorbar": {
             "outlinewidth": 0,
             "ticks": ""
            },
            "colorscale": [
             [
              0,
              "#0d0887"
             ],
             [
              0.1111111111111111,
              "#46039f"
             ],
             [
              0.2222222222222222,
              "#7201a8"
             ],
             [
              0.3333333333333333,
              "#9c179e"
             ],
             [
              0.4444444444444444,
              "#bd3786"
             ],
             [
              0.5555555555555556,
              "#d8576b"
             ],
             [
              0.6666666666666666,
              "#ed7953"
             ],
             [
              0.7777777777777778,
              "#fb9f3a"
             ],
             [
              0.8888888888888888,
              "#fdca26"
             ],
             [
              1,
              "#f0f921"
             ]
            ],
            "type": "surface"
           }
          ],
          "table": [
           {
            "cells": {
             "fill": {
              "color": "#EBF0F8"
             },
             "line": {
              "color": "white"
             }
            },
            "header": {
             "fill": {
              "color": "#C8D4E3"
             },
             "line": {
              "color": "white"
             }
            },
            "type": "table"
           }
          ]
         },
         "layout": {
          "annotationdefaults": {
           "arrowcolor": "#2a3f5f",
           "arrowhead": 0,
           "arrowwidth": 1
          },
          "autotypenumbers": "strict",
          "coloraxis": {
           "colorbar": {
            "outlinewidth": 0,
            "ticks": ""
           }
          },
          "colorscale": {
           "diverging": [
            [
             0,
             "#8e0152"
            ],
            [
             0.1,
             "#c51b7d"
            ],
            [
             0.2,
             "#de77ae"
            ],
            [
             0.3,
             "#f1b6da"
            ],
            [
             0.4,
             "#fde0ef"
            ],
            [
             0.5,
             "#f7f7f7"
            ],
            [
             0.6,
             "#e6f5d0"
            ],
            [
             0.7,
             "#b8e186"
            ],
            [
             0.8,
             "#7fbc41"
            ],
            [
             0.9,
             "#4d9221"
            ],
            [
             1,
             "#276419"
            ]
           ],
           "sequential": [
            [
             0,
             "#0d0887"
            ],
            [
             0.1111111111111111,
             "#46039f"
            ],
            [
             0.2222222222222222,
             "#7201a8"
            ],
            [
             0.3333333333333333,
             "#9c179e"
            ],
            [
             0.4444444444444444,
             "#bd3786"
            ],
            [
             0.5555555555555556,
             "#d8576b"
            ],
            [
             0.6666666666666666,
             "#ed7953"
            ],
            [
             0.7777777777777778,
             "#fb9f3a"
            ],
            [
             0.8888888888888888,
             "#fdca26"
            ],
            [
             1,
             "#f0f921"
            ]
           ],
           "sequentialminus": [
            [
             0,
             "#0d0887"
            ],
            [
             0.1111111111111111,
             "#46039f"
            ],
            [
             0.2222222222222222,
             "#7201a8"
            ],
            [
             0.3333333333333333,
             "#9c179e"
            ],
            [
             0.4444444444444444,
             "#bd3786"
            ],
            [
             0.5555555555555556,
             "#d8576b"
            ],
            [
             0.6666666666666666,
             "#ed7953"
            ],
            [
             0.7777777777777778,
             "#fb9f3a"
            ],
            [
             0.8888888888888888,
             "#fdca26"
            ],
            [
             1,
             "#f0f921"
            ]
           ]
          },
          "colorway": [
           "#636efa",
           "#EF553B",
           "#00cc96",
           "#ab63fa",
           "#FFA15A",
           "#19d3f3",
           "#FF6692",
           "#B6E880",
           "#FF97FF",
           "#FECB52"
          ],
          "font": {
           "color": "#2a3f5f"
          },
          "geo": {
           "bgcolor": "white",
           "lakecolor": "white",
           "landcolor": "#E5ECF6",
           "showlakes": true,
           "showland": true,
           "subunitcolor": "white"
          },
          "hoverlabel": {
           "align": "left"
          },
          "hovermode": "closest",
          "mapbox": {
           "style": "light"
          },
          "paper_bgcolor": "white",
          "plot_bgcolor": "#E5ECF6",
          "polar": {
           "angularaxis": {
            "gridcolor": "white",
            "linecolor": "white",
            "ticks": ""
           },
           "bgcolor": "#E5ECF6",
           "radialaxis": {
            "gridcolor": "white",
            "linecolor": "white",
            "ticks": ""
           }
          },
          "scene": {
           "xaxis": {
            "backgroundcolor": "#E5ECF6",
            "gridcolor": "white",
            "gridwidth": 2,
            "linecolor": "white",
            "showbackground": true,
            "ticks": "",
            "zerolinecolor": "white"
           },
           "yaxis": {
            "backgroundcolor": "#E5ECF6",
            "gridcolor": "white",
            "gridwidth": 2,
            "linecolor": "white",
            "showbackground": true,
            "ticks": "",
            "zerolinecolor": "white"
           },
           "zaxis": {
            "backgroundcolor": "#E5ECF6",
            "gridcolor": "white",
            "gridwidth": 2,
            "linecolor": "white",
            "showbackground": true,
            "ticks": "",
            "zerolinecolor": "white"
           }
          },
          "shapedefaults": {
           "line": {
            "color": "#2a3f5f"
           }
          },
          "ternary": {
           "aaxis": {
            "gridcolor": "white",
            "linecolor": "white",
            "ticks": ""
           },
           "baxis": {
            "gridcolor": "white",
            "linecolor": "white",
            "ticks": ""
           },
           "bgcolor": "#E5ECF6",
           "caxis": {
            "gridcolor": "white",
            "linecolor": "white",
            "ticks": ""
           }
          },
          "title": {
           "x": 0.05
          },
          "xaxis": {
           "automargin": true,
           "gridcolor": "white",
           "linecolor": "white",
           "ticks": "",
           "title": {
            "standoff": 15
           },
           "zerolinecolor": "white",
           "zerolinewidth": 2
          },
          "yaxis": {
           "automargin": true,
           "gridcolor": "white",
           "linecolor": "white",
           "ticks": "",
           "title": {
            "standoff": 15
           },
           "zerolinecolor": "white",
           "zerolinewidth": 2
          }
         }
        },
        "title": {
         "font": {
          "color": "#2c3272",
          "family": "Trebuchet MS",
          "size": 25
         },
         "text": "Zusammenhang von Lebenserwartung und Popularität",
         "x": 0.5,
         "xanchor": "center"
        },
        "xaxis": {
         "anchor": "y",
         "domain": [
          0,
          1
         ],
         "dtick": 1,
         "range": [
          5,
          17
         ],
         "tickmode": "linear",
         "title": {
          "text": "Lebenserwartung (Jahre)"
         }
        },
        "yaxis": {
         "anchor": "x",
         "autorange": "reversed",
         "domain": [
          0,
          1
         ],
         "dtick": 10,
         "tickmode": "array",
         "tickvals": [
          1,
          10,
          20,
          30,
          40,
          50,
          60,
          70,
          80
         ],
         "title": {
          "text": "Popularitäts-Ranking (Platz 1-87)"
         }
        }
       }
      }
     },
     "metadata": {},
     "output_type": "display_data"
    }
   ],
   "source": [
    "fig = px.scatter(\n",
    "    data,\n",
    "    x='LONGEVITY(YEARS)',\n",
    "    y='popularity ranking',\n",
    "    hover_name='Breed',\n",
    "    labels={\"LONGEVITY(YEARS)\": \"Lebenserwartung (Jahre)\", \"popularity ranking\": \"Popularitäts-Ranking (Platz 1-87)\"},\n",
    "    title='Zusammenhang von Lebenserwartung und Popularität',\n",
    "    color='popularity ranking',\n",
    "    color_continuous_scale='Viridis_r'\n",
    ")\n",
    "\n",
    "fig.update_layout(\n",
    "    font=dict(\n",
    "        family=\"Trebuchet MS\",\n",
    "        size=15,\n",
    "        color=\"#2c3272\",\n",
    "    ),\n",
    "    title_font=dict(\n",
    "        family=\"Trebuchet MS\",\n",
    "        size=25,\n",
    "        color=\"#2c3272\" \n",
    "    ),\n",
    "    title_x=0.5,\n",
    "    title_xanchor='center'\n",
    ")\n",
    "\n",
    "# Weiße Umrandung um die Marker\n",
    "fig.update_traces(\n",
    "    marker=dict(\n",
    "        size = 10,\n",
    "        line=dict(\n",
    "            width=1  # Breite der Umrandung in Pixeln\n",
    "        )\n",
    "    )\n",
    ")\n",
    "\n",
    "\n",
    "fig.update_xaxes(\n",
    "    tickmode=\"linear\",\n",
    "    dtick=1,\n",
    "    range=[int(data[\"LONGEVITY(YEARS)\"].min()) - 1, int(data[\"LONGEVITY(YEARS)\"].max()) + 1],\n",
    ")\n",
    "\n",
    "fig.update_yaxes(\n",
    "    autorange='reversed',\n",
    "    tickmode='array',\n",
    "    dtick=10,\n",
    "    tickvals=[1, 10, 20, 30, 40, 50, 60, 70, 80]\n",
    ")\n",
    "\n",
    "fig.update_coloraxes(showscale=False)\n",
    "\n",
    "fig.add_annotation(\n",
    "    text=f\"Korrelation: {correlation:.4f}<br>Bestimmtheitsmaß: {bestimmtheit:.4f}\",\n",
    "    x=1.0,  # Position relativ zur Plot-Breite (0-1)\n",
    "    y=0.02,  # Position relativ zur Plot-Höhe (0-1)\n",
    "    xref=\"paper\",\n",
    "    yref=\"paper\",\n",
    "    showarrow=False,\n",
    "    font=dict(\n",
    "        family=\"Trebuchet MS\",\n",
    "        size=14,\n",
    "        color=\"#2c3272\"\n",
    "    ),\n",
    "    bgcolor=\"rgba(255,255,255,0.8)\",  # Halbtransparenter weißer Hintergrund\n",
    "    bordercolor=\"#2c3272\",\n",
    "    borderwidth=1,\n",
    "    align=\"right\",\n",
    "    xanchor=\"right\",  # Textbox wird rechts verankert\n",
    "    yanchor=\"bottom\"  # Textbox wird unten verankert\n",
    ")\n",
    "\n",
    "fig.show()"
   ]
  },
  {
   "cell_type": "markdown",
   "id": "470a1ca1",
   "metadata": {},
   "source": [
    "Lebenserwartung und Beliebtheit statistisch in einem schwachen Zusammenhang miteinander (±0.1-0.3 = schwacher Zusammenhang\n",
    "±0.3-0.5 = mittlerer Zusammenhang)"
   ]
  },
  {
   "cell_type": "markdown",
   "id": "7e5defa5",
   "metadata": {},
   "source": [
    "# Hundegruppe vs Popularität"
   ]
  },
  {
   "cell_type": "code",
   "execution_count": 124,
   "id": "ad54b674",
   "metadata": {},
   "outputs": [
    {
     "data": {
      "application/vnd.plotly.v1+json": {
       "config": {
        "plotlyServerURL": "https://plot.ly"
       },
       "data": [
        {
         "hovertemplate": "<b>%{hovertext}</b><br><br>Hundegruppe=%{x}<br>Popularitäts-Ranking (Platz 1-87)=%{marker.color}<extra></extra>",
         "hovertext": [
          "Border Terrier",
          "Cairn Terrier",
          "Siberian Husky",
          "Welsh Springer Spaniel",
          "English Cocker Spaniel",
          "Cocker Spaniel",
          "Lhasa Apso",
          "English Springer Spaniel",
          "Shetland Sheepdog",
          "West Highland White Terrier",
          "Brittany",
          "German Shorthaired Pointer",
          "Pointer",
          "Tibetan Spaniel",
          "Labrador Retriever",
          "Bichon Frise",
          "Irish Setter",
          "Samoyed",
          "Shih Tzu",
          "Golden Retriever",
          "Chesapeake Bay Retriever",
          "Papillon",
          "Gordon Setter",
          "English Setter",
          "Pug",
          "Affenpinscher",
          "Miniature Schnauzer",
          "Beagle",
          "Border Collie",
          "Australian Terrier",
          "Whippet",
          "Boston Terrier",
          "Briard",
          "Bedlington Terrier",
          "Cavalier King Charles Spaniel",
          "Dalmatian",
          "Flat-Coated Retriever",
          "Belgian Tervuren",
          "Basset Hound",
          "Poodle",
          "Staffordshire Bull Terrier",
          "Bouvier des Flandres",
          "Pembroke Welsh Corgi",
          "Clumber Spaniel",
          "Pomeranian",
          "Australian Shepherd",
          "Pharaoh Hound",
          "Dandie Dinmont Terrier",
          "Greyhound",
          "Saluki",
          "Australian Cattle Dog",
          "Tibetan Terrier",
          "Norfolk Terrier",
          "Dachshund",
          "Chihuahua",
          "Doberman Pinscher",
          "English Toy Spaniel",
          "Newfoundland",
          "Basenji",
          "Afghan Hound",
          "Old English Sheepdog",
          "French Bulldog",
          "Bernese Mountain Dog",
          "Boxer",
          "Brussels Griffon",
          "Maltese",
          "Giant Schnauzer",
          "Rottweiler",
          "Yorkshire Terrier",
          "Irish Wolfhound",
          "Scottish Terrier",
          "Bullmastiff",
          "German Shepherd",
          "Mastiff",
          "Great Dane",
          "Kerry Blue Terrier",
          "Italian Greyhound",
          "Pekingese",
          "Rhodesian Ridgeback",
          "Bull Terrier",
          "Saint Bernard",
          "Borzoi",
          "Alaskan Malamute",
          "Bloodhound",
          "Chow Chow",
          "Akita",
          "Bulldog"
         ],
         "legendgroup": "",
         "marker": {
          "color": {
           "bdata": "PTAQUTMbMh0UIB4PSkkBIjg3CwQoIUVBGlQMAydNLhZPUxU5Q0gkCDo+GVIRGFZXVUsxQEwJDg1QJURCPxIfBzsXRgoFPC0jAhwTTjU0JiwrRy8qNikG",
           "dtype": "i1"
          },
          "coloraxis": "coloraxis",
          "line": {
           "width": 1
          },
          "size": 10,
          "symbol": "circle"
         },
         "mode": "markers",
         "name": "",
         "orientation": "v",
         "showlegend": false,
         "type": "scatter",
         "x": [
          "terrier",
          "terrier",
          "working",
          "sporting",
          "sporting",
          "sporting",
          "non-sporting",
          "sporting",
          "herding",
          "terrier",
          "sporting",
          "sporting",
          "sporting",
          "non-sporting",
          "sporting",
          "non-sporting",
          "sporting",
          "working",
          "toy",
          "sporting",
          "sporting",
          "toy",
          "sporting",
          "sporting",
          "toy",
          "toy",
          "terrier",
          "hound",
          "herding",
          "terrier",
          "hound",
          "non-sporting",
          "herding",
          "terrier",
          "toy",
          "non-sporting",
          "sporting",
          "herding",
          "hound",
          "non-sporting",
          "terrier",
          "herding",
          "herding",
          "sporting",
          "toy",
          "herding",
          "hound",
          "terrier",
          "hound",
          "hound",
          "herding",
          "non-sporting",
          "terrier",
          "hound",
          "toy",
          "working",
          "toy",
          "working",
          "hound",
          "hound",
          "herding",
          "non-sporting",
          "working",
          "working",
          "toy",
          "toy",
          "working",
          "working",
          "toy",
          "hound",
          "terrier",
          "working",
          "herding",
          "working",
          "working",
          "terrier",
          "toy",
          "toy",
          "hound",
          "terrier",
          "working",
          "hound",
          "working",
          "hound",
          "non-sporting",
          "working",
          "non-sporting"
         ],
         "xaxis": "x",
         "y": {
          "bdata": "PTAQUTMbMh0UIB4PSkkBIjg3CwQoIUVBGlQMAydNLhZPUxU5Q0gkCDo+GVIRGFZXVUsxQEwJDg1QJURCPxIfBzsXRgoFPC0jAhwTTjU0JiwrRy8qNikG",
          "dtype": "i1"
         },
         "yaxis": "y"
        }
       ],
       "layout": {
        "coloraxis": {
         "colorbar": {
          "title": {
           "text": "Popularitäts-Ranking (Platz 1-87)"
          }
         },
         "colorscale": [
          [
           0,
           "#fde725"
          ],
          [
           0.1111111111111111,
           "#b5de2b"
          ],
          [
           0.2222222222222222,
           "#6ece58"
          ],
          [
           0.3333333333333333,
           "#35b779"
          ],
          [
           0.4444444444444444,
           "#1f9e89"
          ],
          [
           0.5555555555555556,
           "#26828e"
          ],
          [
           0.6666666666666666,
           "#31688e"
          ],
          [
           0.7777777777777778,
           "#3e4989"
          ],
          [
           0.8888888888888888,
           "#482878"
          ],
          [
           1,
           "#440154"
          ]
         ],
         "showscale": false
        },
        "font": {
         "color": "#2c3272",
         "family": "Trebuchet MS",
         "size": 15
        },
        "legend": {
         "tracegroupgap": 0
        },
        "template": {
         "data": {
          "bar": [
           {
            "error_x": {
             "color": "#2a3f5f"
            },
            "error_y": {
             "color": "#2a3f5f"
            },
            "marker": {
             "line": {
              "color": "#E5ECF6",
              "width": 0.5
             },
             "pattern": {
              "fillmode": "overlay",
              "size": 10,
              "solidity": 0.2
             }
            },
            "type": "bar"
           }
          ],
          "barpolar": [
           {
            "marker": {
             "line": {
              "color": "#E5ECF6",
              "width": 0.5
             },
             "pattern": {
              "fillmode": "overlay",
              "size": 10,
              "solidity": 0.2
             }
            },
            "type": "barpolar"
           }
          ],
          "carpet": [
           {
            "aaxis": {
             "endlinecolor": "#2a3f5f",
             "gridcolor": "white",
             "linecolor": "white",
             "minorgridcolor": "white",
             "startlinecolor": "#2a3f5f"
            },
            "baxis": {
             "endlinecolor": "#2a3f5f",
             "gridcolor": "white",
             "linecolor": "white",
             "minorgridcolor": "white",
             "startlinecolor": "#2a3f5f"
            },
            "type": "carpet"
           }
          ],
          "choropleth": [
           {
            "colorbar": {
             "outlinewidth": 0,
             "ticks": ""
            },
            "type": "choropleth"
           }
          ],
          "contour": [
           {
            "colorbar": {
             "outlinewidth": 0,
             "ticks": ""
            },
            "colorscale": [
             [
              0,
              "#0d0887"
             ],
             [
              0.1111111111111111,
              "#46039f"
             ],
             [
              0.2222222222222222,
              "#7201a8"
             ],
             [
              0.3333333333333333,
              "#9c179e"
             ],
             [
              0.4444444444444444,
              "#bd3786"
             ],
             [
              0.5555555555555556,
              "#d8576b"
             ],
             [
              0.6666666666666666,
              "#ed7953"
             ],
             [
              0.7777777777777778,
              "#fb9f3a"
             ],
             [
              0.8888888888888888,
              "#fdca26"
             ],
             [
              1,
              "#f0f921"
             ]
            ],
            "type": "contour"
           }
          ],
          "contourcarpet": [
           {
            "colorbar": {
             "outlinewidth": 0,
             "ticks": ""
            },
            "type": "contourcarpet"
           }
          ],
          "heatmap": [
           {
            "colorbar": {
             "outlinewidth": 0,
             "ticks": ""
            },
            "colorscale": [
             [
              0,
              "#0d0887"
             ],
             [
              0.1111111111111111,
              "#46039f"
             ],
             [
              0.2222222222222222,
              "#7201a8"
             ],
             [
              0.3333333333333333,
              "#9c179e"
             ],
             [
              0.4444444444444444,
              "#bd3786"
             ],
             [
              0.5555555555555556,
              "#d8576b"
             ],
             [
              0.6666666666666666,
              "#ed7953"
             ],
             [
              0.7777777777777778,
              "#fb9f3a"
             ],
             [
              0.8888888888888888,
              "#fdca26"
             ],
             [
              1,
              "#f0f921"
             ]
            ],
            "type": "heatmap"
           }
          ],
          "histogram": [
           {
            "marker": {
             "pattern": {
              "fillmode": "overlay",
              "size": 10,
              "solidity": 0.2
             }
            },
            "type": "histogram"
           }
          ],
          "histogram2d": [
           {
            "colorbar": {
             "outlinewidth": 0,
             "ticks": ""
            },
            "colorscale": [
             [
              0,
              "#0d0887"
             ],
             [
              0.1111111111111111,
              "#46039f"
             ],
             [
              0.2222222222222222,
              "#7201a8"
             ],
             [
              0.3333333333333333,
              "#9c179e"
             ],
             [
              0.4444444444444444,
              "#bd3786"
             ],
             [
              0.5555555555555556,
              "#d8576b"
             ],
             [
              0.6666666666666666,
              "#ed7953"
             ],
             [
              0.7777777777777778,
              "#fb9f3a"
             ],
             [
              0.8888888888888888,
              "#fdca26"
             ],
             [
              1,
              "#f0f921"
             ]
            ],
            "type": "histogram2d"
           }
          ],
          "histogram2dcontour": [
           {
            "colorbar": {
             "outlinewidth": 0,
             "ticks": ""
            },
            "colorscale": [
             [
              0,
              "#0d0887"
             ],
             [
              0.1111111111111111,
              "#46039f"
             ],
             [
              0.2222222222222222,
              "#7201a8"
             ],
             [
              0.3333333333333333,
              "#9c179e"
             ],
             [
              0.4444444444444444,
              "#bd3786"
             ],
             [
              0.5555555555555556,
              "#d8576b"
             ],
             [
              0.6666666666666666,
              "#ed7953"
             ],
             [
              0.7777777777777778,
              "#fb9f3a"
             ],
             [
              0.8888888888888888,
              "#fdca26"
             ],
             [
              1,
              "#f0f921"
             ]
            ],
            "type": "histogram2dcontour"
           }
          ],
          "mesh3d": [
           {
            "colorbar": {
             "outlinewidth": 0,
             "ticks": ""
            },
            "type": "mesh3d"
           }
          ],
          "parcoords": [
           {
            "line": {
             "colorbar": {
              "outlinewidth": 0,
              "ticks": ""
             }
            },
            "type": "parcoords"
           }
          ],
          "pie": [
           {
            "automargin": true,
            "type": "pie"
           }
          ],
          "scatter": [
           {
            "fillpattern": {
             "fillmode": "overlay",
             "size": 10,
             "solidity": 0.2
            },
            "type": "scatter"
           }
          ],
          "scatter3d": [
           {
            "line": {
             "colorbar": {
              "outlinewidth": 0,
              "ticks": ""
             }
            },
            "marker": {
             "colorbar": {
              "outlinewidth": 0,
              "ticks": ""
             }
            },
            "type": "scatter3d"
           }
          ],
          "scattercarpet": [
           {
            "marker": {
             "colorbar": {
              "outlinewidth": 0,
              "ticks": ""
             }
            },
            "type": "scattercarpet"
           }
          ],
          "scattergeo": [
           {
            "marker": {
             "colorbar": {
              "outlinewidth": 0,
              "ticks": ""
             }
            },
            "type": "scattergeo"
           }
          ],
          "scattergl": [
           {
            "marker": {
             "colorbar": {
              "outlinewidth": 0,
              "ticks": ""
             }
            },
            "type": "scattergl"
           }
          ],
          "scattermap": [
           {
            "marker": {
             "colorbar": {
              "outlinewidth": 0,
              "ticks": ""
             }
            },
            "type": "scattermap"
           }
          ],
          "scattermapbox": [
           {
            "marker": {
             "colorbar": {
              "outlinewidth": 0,
              "ticks": ""
             }
            },
            "type": "scattermapbox"
           }
          ],
          "scatterpolar": [
           {
            "marker": {
             "colorbar": {
              "outlinewidth": 0,
              "ticks": ""
             }
            },
            "type": "scatterpolar"
           }
          ],
          "scatterpolargl": [
           {
            "marker": {
             "colorbar": {
              "outlinewidth": 0,
              "ticks": ""
             }
            },
            "type": "scatterpolargl"
           }
          ],
          "scatterternary": [
           {
            "marker": {
             "colorbar": {
              "outlinewidth": 0,
              "ticks": ""
             }
            },
            "type": "scatterternary"
           }
          ],
          "surface": [
           {
            "colorbar": {
             "outlinewidth": 0,
             "ticks": ""
            },
            "colorscale": [
             [
              0,
              "#0d0887"
             ],
             [
              0.1111111111111111,
              "#46039f"
             ],
             [
              0.2222222222222222,
              "#7201a8"
             ],
             [
              0.3333333333333333,
              "#9c179e"
             ],
             [
              0.4444444444444444,
              "#bd3786"
             ],
             [
              0.5555555555555556,
              "#d8576b"
             ],
             [
              0.6666666666666666,
              "#ed7953"
             ],
             [
              0.7777777777777778,
              "#fb9f3a"
             ],
             [
              0.8888888888888888,
              "#fdca26"
             ],
             [
              1,
              "#f0f921"
             ]
            ],
            "type": "surface"
           }
          ],
          "table": [
           {
            "cells": {
             "fill": {
              "color": "#EBF0F8"
             },
             "line": {
              "color": "white"
             }
            },
            "header": {
             "fill": {
              "color": "#C8D4E3"
             },
             "line": {
              "color": "white"
             }
            },
            "type": "table"
           }
          ]
         },
         "layout": {
          "annotationdefaults": {
           "arrowcolor": "#2a3f5f",
           "arrowhead": 0,
           "arrowwidth": 1
          },
          "autotypenumbers": "strict",
          "coloraxis": {
           "colorbar": {
            "outlinewidth": 0,
            "ticks": ""
           }
          },
          "colorscale": {
           "diverging": [
            [
             0,
             "#8e0152"
            ],
            [
             0.1,
             "#c51b7d"
            ],
            [
             0.2,
             "#de77ae"
            ],
            [
             0.3,
             "#f1b6da"
            ],
            [
             0.4,
             "#fde0ef"
            ],
            [
             0.5,
             "#f7f7f7"
            ],
            [
             0.6,
             "#e6f5d0"
            ],
            [
             0.7,
             "#b8e186"
            ],
            [
             0.8,
             "#7fbc41"
            ],
            [
             0.9,
             "#4d9221"
            ],
            [
             1,
             "#276419"
            ]
           ],
           "sequential": [
            [
             0,
             "#0d0887"
            ],
            [
             0.1111111111111111,
             "#46039f"
            ],
            [
             0.2222222222222222,
             "#7201a8"
            ],
            [
             0.3333333333333333,
             "#9c179e"
            ],
            [
             0.4444444444444444,
             "#bd3786"
            ],
            [
             0.5555555555555556,
             "#d8576b"
            ],
            [
             0.6666666666666666,
             "#ed7953"
            ],
            [
             0.7777777777777778,
             "#fb9f3a"
            ],
            [
             0.8888888888888888,
             "#fdca26"
            ],
            [
             1,
             "#f0f921"
            ]
           ],
           "sequentialminus": [
            [
             0,
             "#0d0887"
            ],
            [
             0.1111111111111111,
             "#46039f"
            ],
            [
             0.2222222222222222,
             "#7201a8"
            ],
            [
             0.3333333333333333,
             "#9c179e"
            ],
            [
             0.4444444444444444,
             "#bd3786"
            ],
            [
             0.5555555555555556,
             "#d8576b"
            ],
            [
             0.6666666666666666,
             "#ed7953"
            ],
            [
             0.7777777777777778,
             "#fb9f3a"
            ],
            [
             0.8888888888888888,
             "#fdca26"
            ],
            [
             1,
             "#f0f921"
            ]
           ]
          },
          "colorway": [
           "#636efa",
           "#EF553B",
           "#00cc96",
           "#ab63fa",
           "#FFA15A",
           "#19d3f3",
           "#FF6692",
           "#B6E880",
           "#FF97FF",
           "#FECB52"
          ],
          "font": {
           "color": "#2a3f5f"
          },
          "geo": {
           "bgcolor": "white",
           "lakecolor": "white",
           "landcolor": "#E5ECF6",
           "showlakes": true,
           "showland": true,
           "subunitcolor": "white"
          },
          "hoverlabel": {
           "align": "left"
          },
          "hovermode": "closest",
          "mapbox": {
           "style": "light"
          },
          "paper_bgcolor": "white",
          "plot_bgcolor": "#E5ECF6",
          "polar": {
           "angularaxis": {
            "gridcolor": "white",
            "linecolor": "white",
            "ticks": ""
           },
           "bgcolor": "#E5ECF6",
           "radialaxis": {
            "gridcolor": "white",
            "linecolor": "white",
            "ticks": ""
           }
          },
          "scene": {
           "xaxis": {
            "backgroundcolor": "#E5ECF6",
            "gridcolor": "white",
            "gridwidth": 2,
            "linecolor": "white",
            "showbackground": true,
            "ticks": "",
            "zerolinecolor": "white"
           },
           "yaxis": {
            "backgroundcolor": "#E5ECF6",
            "gridcolor": "white",
            "gridwidth": 2,
            "linecolor": "white",
            "showbackground": true,
            "ticks": "",
            "zerolinecolor": "white"
           },
           "zaxis": {
            "backgroundcolor": "#E5ECF6",
            "gridcolor": "white",
            "gridwidth": 2,
            "linecolor": "white",
            "showbackground": true,
            "ticks": "",
            "zerolinecolor": "white"
           }
          },
          "shapedefaults": {
           "line": {
            "color": "#2a3f5f"
           }
          },
          "ternary": {
           "aaxis": {
            "gridcolor": "white",
            "linecolor": "white",
            "ticks": ""
           },
           "baxis": {
            "gridcolor": "white",
            "linecolor": "white",
            "ticks": ""
           },
           "bgcolor": "#E5ECF6",
           "caxis": {
            "gridcolor": "white",
            "linecolor": "white",
            "ticks": ""
           }
          },
          "title": {
           "x": 0.05
          },
          "xaxis": {
           "automargin": true,
           "gridcolor": "white",
           "linecolor": "white",
           "ticks": "",
           "title": {
            "standoff": 15
           },
           "zerolinecolor": "white",
           "zerolinewidth": 2
          },
          "yaxis": {
           "automargin": true,
           "gridcolor": "white",
           "linecolor": "white",
           "ticks": "",
           "title": {
            "standoff": 15
           },
           "zerolinecolor": "white",
           "zerolinewidth": 2
          }
         }
        },
        "title": {
         "font": {
          "color": "#2c3272",
          "family": "Trebuchet MS",
          "size": 25
         },
         "text": "Zusammenhang von Hundegruppe und Popularität",
         "x": 0.5,
         "xanchor": "center"
        },
        "xaxis": {
         "anchor": "y",
         "domain": [
          0,
          1
         ],
         "title": {
          "text": "Hundegruppe"
         }
        },
        "yaxis": {
         "anchor": "x",
         "autorange": "reversed",
         "domain": [
          0,
          1
         ],
         "dtick": 10,
         "tickmode": "array",
         "tickvals": [
          1,
          10,
          20,
          30,
          40,
          50,
          60,
          70,
          80
         ],
         "title": {
          "text": "Popularitäts-Ranking (Platz 1-87)"
         }
        }
       }
      }
     },
     "metadata": {},
     "output_type": "display_data"
    }
   ],
   "source": [
    "\n",
    "fig = px.scatter(\n",
    "    data,\n",
    "    x='type',\n",
    "    y='popularity ranking',\n",
    "    hover_name='Breed',\n",
    "    labels={\"type\": \"Hundegruppe\", \"popularity ranking\": \"Popularitäts-Ranking (Platz 1-87)\"},\n",
    "    title='Zusammenhang von Hundegruppe und Popularität',\n",
    "    color='popularity ranking',\n",
    "    color_continuous_scale='Viridis_r'\n",
    ")\n",
    "\n",
    "fig.update_layout(\n",
    "    font=dict(\n",
    "        family=\"Trebuchet MS\",\n",
    "        size=15,\n",
    "        color=\"#2c3272\",\n",
    "    ),\n",
    "    title_font=dict(\n",
    "        family=\"Trebuchet MS\",\n",
    "        size=25,\n",
    "        color=\"#2c3272\" \n",
    "    ),\n",
    "    title_x=0.5,\n",
    "    title_xanchor='center'\n",
    ")\n",
    "\n",
    "# Weiße Umrandung um die Marker\n",
    "fig.update_traces(\n",
    "    marker=dict(\n",
    "        size = 10,\n",
    "        line=dict(\n",
    "            width=1  # Breite der Umrandung in Pixeln\n",
    "        )\n",
    "    )\n",
    ")\n",
    "\n",
    "\n",
    "fig.update_yaxes(\n",
    "    autorange='reversed',\n",
    "    tickmode='array',\n",
    "    dtick=10,\n",
    "    tickvals=[1, 10, 20, 30, 40, 50, 60, 70, 80]\n",
    ")\n",
    "\n",
    "fig.update_coloraxes(showscale=False)\n",
    "\n",
    "\n",
    "fig.show()"
   ]
  },
  {
   "cell_type": "markdown",
   "id": "644ee876",
   "metadata": {},
   "source": [
    "# Krankheiten"
   ]
  },
  {
   "cell_type": "code",
   "execution_count": 125,
   "id": "bac0c955",
   "metadata": {},
   "outputs": [],
   "source": [
    "# krankheiten in hover\n",
    "\n",
    "# vielleicht ein dropdown für je eine hundeart und dann als darstellung die krankheit als print?"
   ]
  },
  {
   "cell_type": "code",
   "execution_count": 126,
   "id": "534bf503",
   "metadata": {},
   "outputs": [
    {
     "data": {
      "text/plain": [
       "array(['none', \"'lion jaw', heart problems  \", 'hip problems',\n",
       "       'eye, skin problems', 'dry eye',\n",
       "       'hip, eye, skin problems; enzyme deficiency',\n",
       "       'eye problems, deafness, skin + heart problems, blood clotting disorders',\n",
       "       \"'lion jaw', 'dry eye', skin problems\", 'elbows, hips, eyes',\n",
       "       'hip, eye problems', 'eye problems', 'elbows, hips, eyes, heart ',\n",
       "       'cataracts, hair loss, heart, eye, blood clotting disorders',\n",
       "       'no data', 'deafness, hip problems', \"'dry eye'\",\n",
       "       'liver, sinus problems', 'heart problems',\n",
       "       'eye problems, deafness', 'breathing problems',\n",
       "       'liver, eye problems', 'heart, spinal problems',\n",
       "       'deafness, urinary stones', 'epilepsy, eye problems',\n",
       "       'blood, skin disorders', 'fatal stomach bloat, skin disorder',\n",
       "       'cataracts + other eye problems, connective tissue, nerves, kidneys, spine, blood clotting disorders',\n",
       "       'blood vessel disorders', 'skin, spinal problems', 'knee problems',\n",
       "       'heart, spine, blood clotting disorders',\n",
       "       'hip problems, heart defects', 'kidney, eye problems, anaemia',\n",
       "       'meningitis, elbow + hip problems, complex immune disorder',\n",
       "       'eye, nerve, heart problems', 'heart problem',\n",
       "       'heart, elbow, hip problems',\n",
       "       'knee, liver, trachea, eye disorders', 'heart, liver, hips',\n",
       "       'blood clotting disorder', 'eye, hip problems',\n",
       "       'nerves, pancreas, blood (hemophilia), hip joints',\n",
       "       'hip, heart problems',\n",
       "       'heart, spinal, hip problems, fatal stomach bloat',\n",
       "       'birth defects, hip problems',\n",
       "       'heart problems, zinc metabolism disorder',\n",
       "       'heart, hip disorders, fatal stomach bloat',\n",
       "       'hip problems, dwarfism', 'fatal stomach bloat, skin problems',\n",
       "       \"breathing, hip, heart problems, 'dry eye'\"], dtype=object)"
      ]
     },
     "execution_count": 126,
     "metadata": {},
     "output_type": "execute_result"
    }
   ],
   "source": [
    "data['GENETIC AILMENTS'].unique()"
   ]
  },
  {
   "cell_type": "code",
   "execution_count": 127,
   "id": "834b2545",
   "metadata": {},
   "outputs": [
    {
     "name": "stdout",
     "output_type": "stream",
     "text": [
      "Simplified_Ailments\n",
      "Hüftprobleme       24\n",
      "Keine/Unbekannt    23\n",
      "Augenprobleme      21\n",
      "Herzprobleme        8\n",
      "Andere              7\n",
      "Hautprobleme        4\n",
      "Name: count, dtype: int64\n"
     ]
    }
   ],
   "source": [
    "def simplify_ailments(ailment_string):\n",
    "    if ailment_string in ['none', 'no data']:\n",
    "        return 'Keine/Unbekannt'\n",
    "    elif 'eye' in ailment_string.lower():\n",
    "        return 'Augenprobleme'\n",
    "    elif 'hip' in ailment_string.lower():\n",
    "        return 'Hüftprobleme'\n",
    "    elif 'heart' in ailment_string.lower():\n",
    "        return 'Herzprobleme'\n",
    "    elif 'skin' in ailment_string.lower():\n",
    "        return 'Hautprobleme'\n",
    "    else:\n",
    "        return 'Andere'\n",
    "\n",
    "data['Simplified_Ailments'] = data['GENETIC AILMENTS'].apply(simplify_ailments)\n",
    "\n",
    "# Verteilung anzeigen\n",
    "print(data['Simplified_Ailments'].value_counts())"
   ]
  },
  {
   "cell_type": "code",
   "execution_count": 128,
   "id": "65bbc430",
   "metadata": {},
   "outputs": [
    {
     "data": {
      "application/vnd.plotly.v1+json": {
       "config": {
        "plotlyServerURL": "https://plot.ly"
       },
       "data": [
        {
         "domain": {
          "x": [
           0,
           1
          ],
          "y": [
           0,
           1
          ]
         },
         "hovertemplate": "<b>%{label}</b><br>Anzahl: %{value}<br>Anteil: %{percent}<br><extra></extra>",
         "labels": [
          "Hüftprobleme",
          "Keine/Unbekannt",
          "Augenprobleme",
          "Herzprobleme",
          "Andere",
          "Hautprobleme"
         ],
         "legendgroup": "",
         "marker": {
          "line": {
           "color": "white",
           "width": 2
          }
         },
         "name": "",
         "showlegend": true,
         "textinfo": "percent+label",
         "textposition": "inside",
         "type": "pie",
         "values": {
          "bdata": "GBcVCAcE",
          "dtype": "i1"
         }
        }
       ],
       "layout": {
        "font": {
         "color": "white",
         "family": "Verdana",
         "size": 14
        },
        "legend": {
         "tracegroupgap": 0
        },
        "template": {
         "data": {
          "bar": [
           {
            "error_x": {
             "color": "#f2f5fa"
            },
            "error_y": {
             "color": "#f2f5fa"
            },
            "marker": {
             "line": {
              "color": "rgb(17,17,17)",
              "width": 0.5
             },
             "pattern": {
              "fillmode": "overlay",
              "size": 10,
              "solidity": 0.2
             }
            },
            "type": "bar"
           }
          ],
          "barpolar": [
           {
            "marker": {
             "line": {
              "color": "rgb(17,17,17)",
              "width": 0.5
             },
             "pattern": {
              "fillmode": "overlay",
              "size": 10,
              "solidity": 0.2
             }
            },
            "type": "barpolar"
           }
          ],
          "carpet": [
           {
            "aaxis": {
             "endlinecolor": "#A2B1C6",
             "gridcolor": "#506784",
             "linecolor": "#506784",
             "minorgridcolor": "#506784",
             "startlinecolor": "#A2B1C6"
            },
            "baxis": {
             "endlinecolor": "#A2B1C6",
             "gridcolor": "#506784",
             "linecolor": "#506784",
             "minorgridcolor": "#506784",
             "startlinecolor": "#A2B1C6"
            },
            "type": "carpet"
           }
          ],
          "choropleth": [
           {
            "colorbar": {
             "outlinewidth": 0,
             "ticks": ""
            },
            "type": "choropleth"
           }
          ],
          "contour": [
           {
            "colorbar": {
             "outlinewidth": 0,
             "ticks": ""
            },
            "colorscale": [
             [
              0,
              "#0d0887"
             ],
             [
              0.1111111111111111,
              "#46039f"
             ],
             [
              0.2222222222222222,
              "#7201a8"
             ],
             [
              0.3333333333333333,
              "#9c179e"
             ],
             [
              0.4444444444444444,
              "#bd3786"
             ],
             [
              0.5555555555555556,
              "#d8576b"
             ],
             [
              0.6666666666666666,
              "#ed7953"
             ],
             [
              0.7777777777777778,
              "#fb9f3a"
             ],
             [
              0.8888888888888888,
              "#fdca26"
             ],
             [
              1,
              "#f0f921"
             ]
            ],
            "type": "contour"
           }
          ],
          "contourcarpet": [
           {
            "colorbar": {
             "outlinewidth": 0,
             "ticks": ""
            },
            "type": "contourcarpet"
           }
          ],
          "heatmap": [
           {
            "colorbar": {
             "outlinewidth": 0,
             "ticks": ""
            },
            "colorscale": [
             [
              0,
              "#0d0887"
             ],
             [
              0.1111111111111111,
              "#46039f"
             ],
             [
              0.2222222222222222,
              "#7201a8"
             ],
             [
              0.3333333333333333,
              "#9c179e"
             ],
             [
              0.4444444444444444,
              "#bd3786"
             ],
             [
              0.5555555555555556,
              "#d8576b"
             ],
             [
              0.6666666666666666,
              "#ed7953"
             ],
             [
              0.7777777777777778,
              "#fb9f3a"
             ],
             [
              0.8888888888888888,
              "#fdca26"
             ],
             [
              1,
              "#f0f921"
             ]
            ],
            "type": "heatmap"
           }
          ],
          "histogram": [
           {
            "marker": {
             "pattern": {
              "fillmode": "overlay",
              "size": 10,
              "solidity": 0.2
             }
            },
            "type": "histogram"
           }
          ],
          "histogram2d": [
           {
            "colorbar": {
             "outlinewidth": 0,
             "ticks": ""
            },
            "colorscale": [
             [
              0,
              "#0d0887"
             ],
             [
              0.1111111111111111,
              "#46039f"
             ],
             [
              0.2222222222222222,
              "#7201a8"
             ],
             [
              0.3333333333333333,
              "#9c179e"
             ],
             [
              0.4444444444444444,
              "#bd3786"
             ],
             [
              0.5555555555555556,
              "#d8576b"
             ],
             [
              0.6666666666666666,
              "#ed7953"
             ],
             [
              0.7777777777777778,
              "#fb9f3a"
             ],
             [
              0.8888888888888888,
              "#fdca26"
             ],
             [
              1,
              "#f0f921"
             ]
            ],
            "type": "histogram2d"
           }
          ],
          "histogram2dcontour": [
           {
            "colorbar": {
             "outlinewidth": 0,
             "ticks": ""
            },
            "colorscale": [
             [
              0,
              "#0d0887"
             ],
             [
              0.1111111111111111,
              "#46039f"
             ],
             [
              0.2222222222222222,
              "#7201a8"
             ],
             [
              0.3333333333333333,
              "#9c179e"
             ],
             [
              0.4444444444444444,
              "#bd3786"
             ],
             [
              0.5555555555555556,
              "#d8576b"
             ],
             [
              0.6666666666666666,
              "#ed7953"
             ],
             [
              0.7777777777777778,
              "#fb9f3a"
             ],
             [
              0.8888888888888888,
              "#fdca26"
             ],
             [
              1,
              "#f0f921"
             ]
            ],
            "type": "histogram2dcontour"
           }
          ],
          "mesh3d": [
           {
            "colorbar": {
             "outlinewidth": 0,
             "ticks": ""
            },
            "type": "mesh3d"
           }
          ],
          "parcoords": [
           {
            "line": {
             "colorbar": {
              "outlinewidth": 0,
              "ticks": ""
             }
            },
            "type": "parcoords"
           }
          ],
          "pie": [
           {
            "automargin": true,
            "type": "pie"
           }
          ],
          "scatter": [
           {
            "marker": {
             "line": {
              "color": "#283442"
             }
            },
            "type": "scatter"
           }
          ],
          "scatter3d": [
           {
            "line": {
             "colorbar": {
              "outlinewidth": 0,
              "ticks": ""
             }
            },
            "marker": {
             "colorbar": {
              "outlinewidth": 0,
              "ticks": ""
             }
            },
            "type": "scatter3d"
           }
          ],
          "scattercarpet": [
           {
            "marker": {
             "colorbar": {
              "outlinewidth": 0,
              "ticks": ""
             }
            },
            "type": "scattercarpet"
           }
          ],
          "scattergeo": [
           {
            "marker": {
             "colorbar": {
              "outlinewidth": 0,
              "ticks": ""
             }
            },
            "type": "scattergeo"
           }
          ],
          "scattergl": [
           {
            "marker": {
             "line": {
              "color": "#283442"
             }
            },
            "type": "scattergl"
           }
          ],
          "scattermap": [
           {
            "marker": {
             "colorbar": {
              "outlinewidth": 0,
              "ticks": ""
             }
            },
            "type": "scattermap"
           }
          ],
          "scattermapbox": [
           {
            "marker": {
             "colorbar": {
              "outlinewidth": 0,
              "ticks": ""
             }
            },
            "type": "scattermapbox"
           }
          ],
          "scatterpolar": [
           {
            "marker": {
             "colorbar": {
              "outlinewidth": 0,
              "ticks": ""
             }
            },
            "type": "scatterpolar"
           }
          ],
          "scatterpolargl": [
           {
            "marker": {
             "colorbar": {
              "outlinewidth": 0,
              "ticks": ""
             }
            },
            "type": "scatterpolargl"
           }
          ],
          "scatterternary": [
           {
            "marker": {
             "colorbar": {
              "outlinewidth": 0,
              "ticks": ""
             }
            },
            "type": "scatterternary"
           }
          ],
          "surface": [
           {
            "colorbar": {
             "outlinewidth": 0,
             "ticks": ""
            },
            "colorscale": [
             [
              0,
              "#0d0887"
             ],
             [
              0.1111111111111111,
              "#46039f"
             ],
             [
              0.2222222222222222,
              "#7201a8"
             ],
             [
              0.3333333333333333,
              "#9c179e"
             ],
             [
              0.4444444444444444,
              "#bd3786"
             ],
             [
              0.5555555555555556,
              "#d8576b"
             ],
             [
              0.6666666666666666,
              "#ed7953"
             ],
             [
              0.7777777777777778,
              "#fb9f3a"
             ],
             [
              0.8888888888888888,
              "#fdca26"
             ],
             [
              1,
              "#f0f921"
             ]
            ],
            "type": "surface"
           }
          ],
          "table": [
           {
            "cells": {
             "fill": {
              "color": "#506784"
             },
             "line": {
              "color": "rgb(17,17,17)"
             }
            },
            "header": {
             "fill": {
              "color": "#2a3f5f"
             },
             "line": {
              "color": "rgb(17,17,17)"
             }
            },
            "type": "table"
           }
          ]
         },
         "layout": {
          "annotationdefaults": {
           "arrowcolor": "#f2f5fa",
           "arrowhead": 0,
           "arrowwidth": 1
          },
          "autotypenumbers": "strict",
          "coloraxis": {
           "colorbar": {
            "outlinewidth": 0,
            "ticks": ""
           }
          },
          "colorscale": {
           "diverging": [
            [
             0,
             "#8e0152"
            ],
            [
             0.1,
             "#c51b7d"
            ],
            [
             0.2,
             "#de77ae"
            ],
            [
             0.3,
             "#f1b6da"
            ],
            [
             0.4,
             "#fde0ef"
            ],
            [
             0.5,
             "#f7f7f7"
            ],
            [
             0.6,
             "#e6f5d0"
            ],
            [
             0.7,
             "#b8e186"
            ],
            [
             0.8,
             "#7fbc41"
            ],
            [
             0.9,
             "#4d9221"
            ],
            [
             1,
             "#276419"
            ]
           ],
           "sequential": [
            [
             0,
             "#0d0887"
            ],
            [
             0.1111111111111111,
             "#46039f"
            ],
            [
             0.2222222222222222,
             "#7201a8"
            ],
            [
             0.3333333333333333,
             "#9c179e"
            ],
            [
             0.4444444444444444,
             "#bd3786"
            ],
            [
             0.5555555555555556,
             "#d8576b"
            ],
            [
             0.6666666666666666,
             "#ed7953"
            ],
            [
             0.7777777777777778,
             "#fb9f3a"
            ],
            [
             0.8888888888888888,
             "#fdca26"
            ],
            [
             1,
             "#f0f921"
            ]
           ],
           "sequentialminus": [
            [
             0,
             "#0d0887"
            ],
            [
             0.1111111111111111,
             "#46039f"
            ],
            [
             0.2222222222222222,
             "#7201a8"
            ],
            [
             0.3333333333333333,
             "#9c179e"
            ],
            [
             0.4444444444444444,
             "#bd3786"
            ],
            [
             0.5555555555555556,
             "#d8576b"
            ],
            [
             0.6666666666666666,
             "#ed7953"
            ],
            [
             0.7777777777777778,
             "#fb9f3a"
            ],
            [
             0.8888888888888888,
             "#fdca26"
            ],
            [
             1,
             "#f0f921"
            ]
           ]
          },
          "colorway": [
           "#636efa",
           "#EF553B",
           "#00cc96",
           "#ab63fa",
           "#FFA15A",
           "#19d3f3",
           "#FF6692",
           "#B6E880",
           "#FF97FF",
           "#FECB52"
          ],
          "font": {
           "color": "#f2f5fa"
          },
          "geo": {
           "bgcolor": "rgb(17,17,17)",
           "lakecolor": "rgb(17,17,17)",
           "landcolor": "rgb(17,17,17)",
           "showlakes": true,
           "showland": true,
           "subunitcolor": "#506784"
          },
          "hoverlabel": {
           "align": "left"
          },
          "hovermode": "closest",
          "mapbox": {
           "style": "dark"
          },
          "paper_bgcolor": "rgb(17,17,17)",
          "plot_bgcolor": "rgb(17,17,17)",
          "polar": {
           "angularaxis": {
            "gridcolor": "#506784",
            "linecolor": "#506784",
            "ticks": ""
           },
           "bgcolor": "rgb(17,17,17)",
           "radialaxis": {
            "gridcolor": "#506784",
            "linecolor": "#506784",
            "ticks": ""
           }
          },
          "scene": {
           "xaxis": {
            "backgroundcolor": "rgb(17,17,17)",
            "gridcolor": "#506784",
            "gridwidth": 2,
            "linecolor": "#506784",
            "showbackground": true,
            "ticks": "",
            "zerolinecolor": "#C8D4E3"
           },
           "yaxis": {
            "backgroundcolor": "rgb(17,17,17)",
            "gridcolor": "#506784",
            "gridwidth": 2,
            "linecolor": "#506784",
            "showbackground": true,
            "ticks": "",
            "zerolinecolor": "#C8D4E3"
           },
           "zaxis": {
            "backgroundcolor": "rgb(17,17,17)",
            "gridcolor": "#506784",
            "gridwidth": 2,
            "linecolor": "#506784",
            "showbackground": true,
            "ticks": "",
            "zerolinecolor": "#C8D4E3"
           }
          },
          "shapedefaults": {
           "line": {
            "color": "#f2f5fa"
           }
          },
          "sliderdefaults": {
           "bgcolor": "#C8D4E3",
           "bordercolor": "rgb(17,17,17)",
           "borderwidth": 1,
           "tickwidth": 0
          },
          "ternary": {
           "aaxis": {
            "gridcolor": "#506784",
            "linecolor": "#506784",
            "ticks": ""
           },
           "baxis": {
            "gridcolor": "#506784",
            "linecolor": "#506784",
            "ticks": ""
           },
           "bgcolor": "rgb(17,17,17)",
           "caxis": {
            "gridcolor": "#506784",
            "linecolor": "#506784",
            "ticks": ""
           }
          },
          "title": {
           "x": 0.05
          },
          "updatemenudefaults": {
           "bgcolor": "#506784",
           "borderwidth": 0
          },
          "xaxis": {
           "automargin": true,
           "gridcolor": "#283442",
           "linecolor": "#506784",
           "ticks": "",
           "title": {
            "standoff": 15
           },
           "zerolinecolor": "#283442",
           "zerolinewidth": 2
          },
          "yaxis": {
           "automargin": true,
           "gridcolor": "#283442",
           "linecolor": "#506784",
           "ticks": "",
           "title": {
            "standoff": 15
           },
           "zerolinecolor": "#283442",
           "zerolinewidth": 2
          }
         }
        },
        "title": {
         "font": {
          "color": "white",
          "family": "Verdana",
          "size": 20
         },
         "text": "Verteilung der genetischen Krankheiten bei Hunderassen",
         "x": 0.5,
         "xanchor": "center"
        }
       }
      }
     },
     "metadata": {},
     "output_type": "display_data"
    }
   ],
   "source": [
    "# Häufigkeiten zählen\n",
    "ailment_counts = data['Simplified_Ailments'].value_counts()\n",
    "\n",
    "# Pie Chart erstellen\n",
    "fig = px.pie(\n",
    "    values=ailment_counts.values,\n",
    "    names=ailment_counts.index,\n",
    "    title='Verteilung der genetischen Krankheiten bei Hunderassen',\n",
    "    template='plotly_dark'\n",
    ")\n",
    "\n",
    "# Styling anpassen\n",
    "fig.update_layout(\n",
    "    font=dict(\n",
    "        family=\"Verdana\",\n",
    "        size=14,\n",
    "        color=\"white\"\n",
    "    ),\n",
    "    title_font=dict(\n",
    "        family=\"Verdana\",\n",
    "        size=20,\n",
    "        color=\"white\"\n",
    "    ),\n",
    "    title_x=0.5,\n",
    "    title_xanchor='center'\n",
    ")\n",
    "\n",
    "# Prozentwerte und Anzahl anzeigen\n",
    "fig.update_traces(\n",
    "    textposition='inside',\n",
    "    textinfo='percent+label',\n",
    "    hovertemplate='<b>%{label}</b><br>' +\n",
    "                  'Anzahl: %{value}<br>' +\n",
    "                  'Anteil: %{percent}<br>' +\n",
    "                  '<extra></extra>',\n",
    "    marker=dict(\n",
    "        line=dict(color='white', width=2)\n",
    "    )\n",
    ")\n",
    "\n",
    "fig.show()"
   ]
  },
  {
   "cell_type": "code",
   "execution_count": 129,
   "id": "f0ac0467",
   "metadata": {},
   "outputs": [
    {
     "data": {
      "application/vnd.plotly.v1+json": {
       "config": {
        "plotlyServerURL": "https://plot.ly"
       },
       "data": [
        {
         "customdata": [
          27.586206896551722,
          26.436781609195403,
          24.137931034482758,
          9.195402298850574,
          8.045977011494253,
          4.597701149425287
         ],
         "hovertemplate": "<b>%{x}</b><br>Anzahl: %{y} Rassen<br>Anteil: %{customdata:.1f}%<br><extra></extra>",
         "legendgroup": "",
         "marker": {
          "color": {
           "bdata": "GBcVCAcE",
           "dtype": "i1"
          },
          "coloraxis": "coloraxis",
          "line": {
           "color": "white",
           "width": 1
          },
          "pattern": {
           "shape": ""
          }
         },
         "name": "",
         "orientation": "v",
         "showlegend": false,
         "textposition": "auto",
         "type": "bar",
         "x": [
          "Hüftprobleme",
          "Keine/Unbekannt",
          "Augenprobleme",
          "Herzprobleme",
          "Andere",
          "Hautprobleme"
         ],
         "xaxis": "x",
         "y": {
          "bdata": "GBcVCAcE",
          "dtype": "i1"
         },
         "yaxis": "y"
        }
       ],
       "layout": {
        "barmode": "relative",
        "coloraxis": {
         "colorbar": {
          "title": {
           "text": "color"
          }
         },
         "colorscale": [
          [
           0,
           "#440154"
          ],
          [
           0.1111111111111111,
           "#482878"
          ],
          [
           0.2222222222222222,
           "#3e4989"
          ],
          [
           0.3333333333333333,
           "#31688e"
          ],
          [
           0.4444444444444444,
           "#26828e"
          ],
          [
           0.5555555555555556,
           "#1f9e89"
          ],
          [
           0.6666666666666666,
           "#35b779"
          ],
          [
           0.7777777777777778,
           "#6ece58"
          ],
          [
           0.8888888888888888,
           "#b5de2b"
          ],
          [
           1,
           "#fde725"
          ]
         ],
         "showscale": false
        },
        "font": {
         "color": "white",
         "family": "Verdana",
         "size": 14
        },
        "legend": {
         "tracegroupgap": 0
        },
        "showlegend": false,
        "template": {
         "data": {
          "bar": [
           {
            "error_x": {
             "color": "#f2f5fa"
            },
            "error_y": {
             "color": "#f2f5fa"
            },
            "marker": {
             "line": {
              "color": "rgb(17,17,17)",
              "width": 0.5
             },
             "pattern": {
              "fillmode": "overlay",
              "size": 10,
              "solidity": 0.2
             }
            },
            "type": "bar"
           }
          ],
          "barpolar": [
           {
            "marker": {
             "line": {
              "color": "rgb(17,17,17)",
              "width": 0.5
             },
             "pattern": {
              "fillmode": "overlay",
              "size": 10,
              "solidity": 0.2
             }
            },
            "type": "barpolar"
           }
          ],
          "carpet": [
           {
            "aaxis": {
             "endlinecolor": "#A2B1C6",
             "gridcolor": "#506784",
             "linecolor": "#506784",
             "minorgridcolor": "#506784",
             "startlinecolor": "#A2B1C6"
            },
            "baxis": {
             "endlinecolor": "#A2B1C6",
             "gridcolor": "#506784",
             "linecolor": "#506784",
             "minorgridcolor": "#506784",
             "startlinecolor": "#A2B1C6"
            },
            "type": "carpet"
           }
          ],
          "choropleth": [
           {
            "colorbar": {
             "outlinewidth": 0,
             "ticks": ""
            },
            "type": "choropleth"
           }
          ],
          "contour": [
           {
            "colorbar": {
             "outlinewidth": 0,
             "ticks": ""
            },
            "colorscale": [
             [
              0,
              "#0d0887"
             ],
             [
              0.1111111111111111,
              "#46039f"
             ],
             [
              0.2222222222222222,
              "#7201a8"
             ],
             [
              0.3333333333333333,
              "#9c179e"
             ],
             [
              0.4444444444444444,
              "#bd3786"
             ],
             [
              0.5555555555555556,
              "#d8576b"
             ],
             [
              0.6666666666666666,
              "#ed7953"
             ],
             [
              0.7777777777777778,
              "#fb9f3a"
             ],
             [
              0.8888888888888888,
              "#fdca26"
             ],
             [
              1,
              "#f0f921"
             ]
            ],
            "type": "contour"
           }
          ],
          "contourcarpet": [
           {
            "colorbar": {
             "outlinewidth": 0,
             "ticks": ""
            },
            "type": "contourcarpet"
           }
          ],
          "heatmap": [
           {
            "colorbar": {
             "outlinewidth": 0,
             "ticks": ""
            },
            "colorscale": [
             [
              0,
              "#0d0887"
             ],
             [
              0.1111111111111111,
              "#46039f"
             ],
             [
              0.2222222222222222,
              "#7201a8"
             ],
             [
              0.3333333333333333,
              "#9c179e"
             ],
             [
              0.4444444444444444,
              "#bd3786"
             ],
             [
              0.5555555555555556,
              "#d8576b"
             ],
             [
              0.6666666666666666,
              "#ed7953"
             ],
             [
              0.7777777777777778,
              "#fb9f3a"
             ],
             [
              0.8888888888888888,
              "#fdca26"
             ],
             [
              1,
              "#f0f921"
             ]
            ],
            "type": "heatmap"
           }
          ],
          "histogram": [
           {
            "marker": {
             "pattern": {
              "fillmode": "overlay",
              "size": 10,
              "solidity": 0.2
             }
            },
            "type": "histogram"
           }
          ],
          "histogram2d": [
           {
            "colorbar": {
             "outlinewidth": 0,
             "ticks": ""
            },
            "colorscale": [
             [
              0,
              "#0d0887"
             ],
             [
              0.1111111111111111,
              "#46039f"
             ],
             [
              0.2222222222222222,
              "#7201a8"
             ],
             [
              0.3333333333333333,
              "#9c179e"
             ],
             [
              0.4444444444444444,
              "#bd3786"
             ],
             [
              0.5555555555555556,
              "#d8576b"
             ],
             [
              0.6666666666666666,
              "#ed7953"
             ],
             [
              0.7777777777777778,
              "#fb9f3a"
             ],
             [
              0.8888888888888888,
              "#fdca26"
             ],
             [
              1,
              "#f0f921"
             ]
            ],
            "type": "histogram2d"
           }
          ],
          "histogram2dcontour": [
           {
            "colorbar": {
             "outlinewidth": 0,
             "ticks": ""
            },
            "colorscale": [
             [
              0,
              "#0d0887"
             ],
             [
              0.1111111111111111,
              "#46039f"
             ],
             [
              0.2222222222222222,
              "#7201a8"
             ],
             [
              0.3333333333333333,
              "#9c179e"
             ],
             [
              0.4444444444444444,
              "#bd3786"
             ],
             [
              0.5555555555555556,
              "#d8576b"
             ],
             [
              0.6666666666666666,
              "#ed7953"
             ],
             [
              0.7777777777777778,
              "#fb9f3a"
             ],
             [
              0.8888888888888888,
              "#fdca26"
             ],
             [
              1,
              "#f0f921"
             ]
            ],
            "type": "histogram2dcontour"
           }
          ],
          "mesh3d": [
           {
            "colorbar": {
             "outlinewidth": 0,
             "ticks": ""
            },
            "type": "mesh3d"
           }
          ],
          "parcoords": [
           {
            "line": {
             "colorbar": {
              "outlinewidth": 0,
              "ticks": ""
             }
            },
            "type": "parcoords"
           }
          ],
          "pie": [
           {
            "automargin": true,
            "type": "pie"
           }
          ],
          "scatter": [
           {
            "marker": {
             "line": {
              "color": "#283442"
             }
            },
            "type": "scatter"
           }
          ],
          "scatter3d": [
           {
            "line": {
             "colorbar": {
              "outlinewidth": 0,
              "ticks": ""
             }
            },
            "marker": {
             "colorbar": {
              "outlinewidth": 0,
              "ticks": ""
             }
            },
            "type": "scatter3d"
           }
          ],
          "scattercarpet": [
           {
            "marker": {
             "colorbar": {
              "outlinewidth": 0,
              "ticks": ""
             }
            },
            "type": "scattercarpet"
           }
          ],
          "scattergeo": [
           {
            "marker": {
             "colorbar": {
              "outlinewidth": 0,
              "ticks": ""
             }
            },
            "type": "scattergeo"
           }
          ],
          "scattergl": [
           {
            "marker": {
             "line": {
              "color": "#283442"
             }
            },
            "type": "scattergl"
           }
          ],
          "scattermap": [
           {
            "marker": {
             "colorbar": {
              "outlinewidth": 0,
              "ticks": ""
             }
            },
            "type": "scattermap"
           }
          ],
          "scattermapbox": [
           {
            "marker": {
             "colorbar": {
              "outlinewidth": 0,
              "ticks": ""
             }
            },
            "type": "scattermapbox"
           }
          ],
          "scatterpolar": [
           {
            "marker": {
             "colorbar": {
              "outlinewidth": 0,
              "ticks": ""
             }
            },
            "type": "scatterpolar"
           }
          ],
          "scatterpolargl": [
           {
            "marker": {
             "colorbar": {
              "outlinewidth": 0,
              "ticks": ""
             }
            },
            "type": "scatterpolargl"
           }
          ],
          "scatterternary": [
           {
            "marker": {
             "colorbar": {
              "outlinewidth": 0,
              "ticks": ""
             }
            },
            "type": "scatterternary"
           }
          ],
          "surface": [
           {
            "colorbar": {
             "outlinewidth": 0,
             "ticks": ""
            },
            "colorscale": [
             [
              0,
              "#0d0887"
             ],
             [
              0.1111111111111111,
              "#46039f"
             ],
             [
              0.2222222222222222,
              "#7201a8"
             ],
             [
              0.3333333333333333,
              "#9c179e"
             ],
             [
              0.4444444444444444,
              "#bd3786"
             ],
             [
              0.5555555555555556,
              "#d8576b"
             ],
             [
              0.6666666666666666,
              "#ed7953"
             ],
             [
              0.7777777777777778,
              "#fb9f3a"
             ],
             [
              0.8888888888888888,
              "#fdca26"
             ],
             [
              1,
              "#f0f921"
             ]
            ],
            "type": "surface"
           }
          ],
          "table": [
           {
            "cells": {
             "fill": {
              "color": "#506784"
             },
             "line": {
              "color": "rgb(17,17,17)"
             }
            },
            "header": {
             "fill": {
              "color": "#2a3f5f"
             },
             "line": {
              "color": "rgb(17,17,17)"
             }
            },
            "type": "table"
           }
          ]
         },
         "layout": {
          "annotationdefaults": {
           "arrowcolor": "#f2f5fa",
           "arrowhead": 0,
           "arrowwidth": 1
          },
          "autotypenumbers": "strict",
          "coloraxis": {
           "colorbar": {
            "outlinewidth": 0,
            "ticks": ""
           }
          },
          "colorscale": {
           "diverging": [
            [
             0,
             "#8e0152"
            ],
            [
             0.1,
             "#c51b7d"
            ],
            [
             0.2,
             "#de77ae"
            ],
            [
             0.3,
             "#f1b6da"
            ],
            [
             0.4,
             "#fde0ef"
            ],
            [
             0.5,
             "#f7f7f7"
            ],
            [
             0.6,
             "#e6f5d0"
            ],
            [
             0.7,
             "#b8e186"
            ],
            [
             0.8,
             "#7fbc41"
            ],
            [
             0.9,
             "#4d9221"
            ],
            [
             1,
             "#276419"
            ]
           ],
           "sequential": [
            [
             0,
             "#0d0887"
            ],
            [
             0.1111111111111111,
             "#46039f"
            ],
            [
             0.2222222222222222,
             "#7201a8"
            ],
            [
             0.3333333333333333,
             "#9c179e"
            ],
            [
             0.4444444444444444,
             "#bd3786"
            ],
            [
             0.5555555555555556,
             "#d8576b"
            ],
            [
             0.6666666666666666,
             "#ed7953"
            ],
            [
             0.7777777777777778,
             "#fb9f3a"
            ],
            [
             0.8888888888888888,
             "#fdca26"
            ],
            [
             1,
             "#f0f921"
            ]
           ],
           "sequentialminus": [
            [
             0,
             "#0d0887"
            ],
            [
             0.1111111111111111,
             "#46039f"
            ],
            [
             0.2222222222222222,
             "#7201a8"
            ],
            [
             0.3333333333333333,
             "#9c179e"
            ],
            [
             0.4444444444444444,
             "#bd3786"
            ],
            [
             0.5555555555555556,
             "#d8576b"
            ],
            [
             0.6666666666666666,
             "#ed7953"
            ],
            [
             0.7777777777777778,
             "#fb9f3a"
            ],
            [
             0.8888888888888888,
             "#fdca26"
            ],
            [
             1,
             "#f0f921"
            ]
           ]
          },
          "colorway": [
           "#636efa",
           "#EF553B",
           "#00cc96",
           "#ab63fa",
           "#FFA15A",
           "#19d3f3",
           "#FF6692",
           "#B6E880",
           "#FF97FF",
           "#FECB52"
          ],
          "font": {
           "color": "#f2f5fa"
          },
          "geo": {
           "bgcolor": "rgb(17,17,17)",
           "lakecolor": "rgb(17,17,17)",
           "landcolor": "rgb(17,17,17)",
           "showlakes": true,
           "showland": true,
           "subunitcolor": "#506784"
          },
          "hoverlabel": {
           "align": "left"
          },
          "hovermode": "closest",
          "mapbox": {
           "style": "dark"
          },
          "paper_bgcolor": "rgb(17,17,17)",
          "plot_bgcolor": "rgb(17,17,17)",
          "polar": {
           "angularaxis": {
            "gridcolor": "#506784",
            "linecolor": "#506784",
            "ticks": ""
           },
           "bgcolor": "rgb(17,17,17)",
           "radialaxis": {
            "gridcolor": "#506784",
            "linecolor": "#506784",
            "ticks": ""
           }
          },
          "scene": {
           "xaxis": {
            "backgroundcolor": "rgb(17,17,17)",
            "gridcolor": "#506784",
            "gridwidth": 2,
            "linecolor": "#506784",
            "showbackground": true,
            "ticks": "",
            "zerolinecolor": "#C8D4E3"
           },
           "yaxis": {
            "backgroundcolor": "rgb(17,17,17)",
            "gridcolor": "#506784",
            "gridwidth": 2,
            "linecolor": "#506784",
            "showbackground": true,
            "ticks": "",
            "zerolinecolor": "#C8D4E3"
           },
           "zaxis": {
            "backgroundcolor": "rgb(17,17,17)",
            "gridcolor": "#506784",
            "gridwidth": 2,
            "linecolor": "#506784",
            "showbackground": true,
            "ticks": "",
            "zerolinecolor": "#C8D4E3"
           }
          },
          "shapedefaults": {
           "line": {
            "color": "#f2f5fa"
           }
          },
          "sliderdefaults": {
           "bgcolor": "#C8D4E3",
           "bordercolor": "rgb(17,17,17)",
           "borderwidth": 1,
           "tickwidth": 0
          },
          "ternary": {
           "aaxis": {
            "gridcolor": "#506784",
            "linecolor": "#506784",
            "ticks": ""
           },
           "baxis": {
            "gridcolor": "#506784",
            "linecolor": "#506784",
            "ticks": ""
           },
           "bgcolor": "rgb(17,17,17)",
           "caxis": {
            "gridcolor": "#506784",
            "linecolor": "#506784",
            "ticks": ""
           }
          },
          "title": {
           "x": 0.05
          },
          "updatemenudefaults": {
           "bgcolor": "#506784",
           "borderwidth": 0
          },
          "xaxis": {
           "automargin": true,
           "gridcolor": "#283442",
           "linecolor": "#506784",
           "ticks": "",
           "title": {
            "standoff": 15
           },
           "zerolinecolor": "#283442",
           "zerolinewidth": 2
          },
          "yaxis": {
           "automargin": true,
           "gridcolor": "#283442",
           "linecolor": "#506784",
           "ticks": "",
           "title": {
            "standoff": 15
           },
           "zerolinecolor": "#283442",
           "zerolinewidth": 2
          }
         }
        },
        "title": {
         "font": {
          "color": "white",
          "family": "Verdana",
          "size": 20
         },
         "text": "Verteilung der genetischen Krankheiten bei Hunderassen",
         "x": 0.5,
         "xanchor": "center"
        },
        "xaxis": {
         "anchor": "y",
         "domain": [
          0,
          1
         ],
         "tickangle": 45,
         "tickfont": {
          "color": "white",
          "size": 12
         },
         "title": {
          "font": {
           "color": "white",
           "size": 16
          },
          "text": "Krankheitskategorie"
         }
        },
        "yaxis": {
         "anchor": "x",
         "domain": [
          0,
          1
         ],
         "tickfont": {
          "color": "white",
          "size": 12
         },
         "title": {
          "font": {
           "color": "white",
           "size": 16
          },
          "text": "Anzahl Rassen"
         }
        }
       }
      }
     },
     "metadata": {},
     "output_type": "display_data"
    },
    {
     "name": "stdout",
     "output_type": "stream",
     "text": [
      "=== VERTEILUNG DER KRANKHEITEN ===\n",
      "Hüftprobleme: 24 Rassen (27.6%)\n",
      "Keine/Unbekannt: 23 Rassen (26.4%)\n",
      "Augenprobleme: 21 Rassen (24.1%)\n",
      "Herzprobleme: 8 Rassen (9.2%)\n",
      "Andere: 7 Rassen (8.0%)\n",
      "Hautprobleme: 4 Rassen (4.6%)\n"
     ]
    }
   ],
   "source": [
    "# Häufigkeiten zählen und nach Häufigkeit sortieren\n",
    "ailment_counts = data['Simplified_Ailments'].value_counts()\n",
    "\n",
    "# Bar Chart erstellen\n",
    "fig = px.bar(\n",
    "    x=ailment_counts.index,\n",
    "    y=ailment_counts.values,\n",
    "    title='Verteilung der genetischen Krankheiten bei Hunderassen',\n",
    "    labels={'x': 'Krankheitskategorie', 'y': 'Anzahl Rassen'},\n",
    "    template='plotly_dark',\n",
    "    color=ailment_counts.values,\n",
    "    color_continuous_scale='Viridis'\n",
    ")\n",
    "\n",
    "# Styling anpassen\n",
    "fig.update_layout(\n",
    "    font=dict(\n",
    "        family=\"Verdana\",\n",
    "        size=14,\n",
    "        color=\"white\"\n",
    "    ),\n",
    "    title_font=dict(\n",
    "        family=\"Verdana\",\n",
    "        size=20,\n",
    "        color=\"white\"\n",
    "    ),\n",
    "    title_x=0.5,\n",
    "    title_xanchor='center',\n",
    "    showlegend=False\n",
    ")\n",
    "\n",
    "# Balken mit weißer Umrandung\n",
    "fig.update_traces(\n",
    "    marker=dict(\n",
    "        line=dict(color='white', width=1)\n",
    "    ),\n",
    "    # Hover-Informationen\n",
    "    hovertemplate='<b>%{x}</b><br>' +\n",
    "                  'Anzahl: %{y} Rassen<br>' +\n",
    "                  'Anteil: %{customdata:.1f}%<br>' +\n",
    "                  '<extra></extra>',\n",
    "    customdata=[(count / len(data)) * 100 for count in ailment_counts.values]\n",
    ")\n",
    "\n",
    "# Achsen anpassen\n",
    "fig.update_xaxes(\n",
    "    tickangle=45,\n",
    "    title_font=dict(size=16, color=\"white\"),\n",
    "    tickfont=dict(size=12, color=\"white\")\n",
    ")\n",
    "\n",
    "fig.update_yaxes(\n",
    "    title_font=dict(size=16, color=\"white\"),\n",
    "    tickfont=dict(size=12, color=\"white\")\n",
    ")\n",
    "\n",
    "# Farbskala ausblenden\n",
    "fig.update_coloraxes(showscale=False)\n",
    "\n",
    "fig.show()\n",
    "\n",
    "# Zusätzliche Statistiken ausgeben\n",
    "print(\"=== VERTEILUNG DER KRANKHEITEN ===\")\n",
    "total = len(data)\n",
    "for category, count in ailment_counts.items():\n",
    "    percentage = (count / total) * 100\n",
    "    print(f\"{category}: {count} Rassen ({percentage:.1f}%)\")"
   ]
  },
  {
   "cell_type": "code",
   "execution_count": 130,
   "id": "809a71de",
   "metadata": {},
   "outputs": [
    {
     "data": {
      "application/vnd.plotly.v1+json": {
       "config": {
        "plotlyServerURL": "https://plot.ly"
       },
       "data": [
        {
         "hovertemplate": "<b>%{hovertext}</b><br><br>Häufige Krankheiten=%{x}<br>Popularitäts-Ranking (1 = beliebtester)=%{marker.color}<extra></extra>",
         "hovertext": [
          "Border Terrier",
          "Cairn Terrier",
          "Siberian Husky",
          "Welsh Springer Spaniel",
          "English Cocker Spaniel",
          "Cocker Spaniel",
          "Lhasa Apso",
          "English Springer Spaniel",
          "Shetland Sheepdog",
          "West Highland White Terrier",
          "Brittany",
          "German Shorthaired Pointer",
          "Pointer",
          "Tibetan Spaniel",
          "Labrador Retriever",
          "Bichon Frise",
          "Irish Setter",
          "Samoyed",
          "Shih Tzu",
          "Golden Retriever",
          "Chesapeake Bay Retriever",
          "Papillon",
          "Gordon Setter",
          "English Setter",
          "Pug",
          "Affenpinscher",
          "Miniature Schnauzer",
          "Beagle",
          "Border Collie",
          "Australian Terrier",
          "Whippet",
          "Boston Terrier",
          "Briard",
          "Bedlington Terrier",
          "Cavalier King Charles Spaniel",
          "Dalmatian",
          "Flat-Coated Retriever",
          "Belgian Tervuren",
          "Basset Hound",
          "Poodle",
          "Staffordshire Bull Terrier",
          "Bouvier des Flandres",
          "Pembroke Welsh Corgi",
          "Clumber Spaniel",
          "Pomeranian",
          "Australian Shepherd",
          "Pharaoh Hound",
          "Dandie Dinmont Terrier",
          "Greyhound",
          "Saluki",
          "Australian Cattle Dog",
          "Tibetan Terrier",
          "Norfolk Terrier",
          "Dachshund",
          "Chihuahua",
          "Doberman Pinscher",
          "English Toy Spaniel",
          "Newfoundland",
          "Basenji",
          "Afghan Hound",
          "Old English Sheepdog",
          "French Bulldog",
          "Bernese Mountain Dog",
          "Boxer",
          "Brussels Griffon",
          "Maltese",
          "Giant Schnauzer",
          "Rottweiler",
          "Yorkshire Terrier",
          "Irish Wolfhound",
          "Scottish Terrier",
          "Bullmastiff",
          "German Shepherd",
          "Mastiff",
          "Great Dane",
          "Kerry Blue Terrier",
          "Italian Greyhound",
          "Pekingese",
          "Rhodesian Ridgeback",
          "Bull Terrier",
          "Saint Bernard",
          "Borzoi",
          "Alaskan Malamute",
          "Bloodhound",
          "Chow Chow",
          "Akita",
          "Bulldog"
         ],
         "legendgroup": "",
         "marker": {
          "color": {
           "bdata": "PTAQUTMbMh0UIB4PSkkBIjg3CwQoIUVBGlQMAydNLhZPUxU5Q0gkCDo+GVIRGFZXVUsxQEwJDg1QJURCPxIfBzsXRgoFPC0jAhwTTjU0JiwrRy8qNikG",
           "dtype": "i1"
          },
          "coloraxis": "coloraxis",
          "line": {
           "color": "DarkSlateGrey",
           "width": 1
          },
          "opacity": 0.7,
          "size": 12,
          "symbol": "circle"
         },
         "mode": "markers",
         "name": "",
         "orientation": "v",
         "showlegend": false,
         "type": "scatter",
         "x": [
          "Keine/Unbekannt",
          "Herzprobleme",
          "Keine/Unbekannt",
          "Hüftprobleme",
          "Keine/Unbekannt",
          "Augenprobleme",
          "Augenprobleme",
          "Augenprobleme",
          "Augenprobleme",
          "Augenprobleme",
          "Keine/Unbekannt",
          "Hüftprobleme",
          "Hüftprobleme",
          "Keine/Unbekannt",
          "Augenprobleme",
          "Keine/Unbekannt",
          "Augenprobleme",
          "Hüftprobleme",
          "Augenprobleme",
          "Augenprobleme",
          "Hüftprobleme",
          "Augenprobleme",
          "Keine/Unbekannt",
          "Hüftprobleme",
          "Augenprobleme",
          "Keine/Unbekannt",
          "Andere",
          "Herzprobleme",
          "Augenprobleme",
          "Keine/Unbekannt",
          "Keine/Unbekannt",
          "Andere",
          "Hüftprobleme",
          "Augenprobleme",
          "Herzprobleme",
          "Andere",
          "Keine/Unbekannt",
          "Augenprobleme",
          "Hautprobleme",
          "Hautprobleme",
          "Hüftprobleme",
          "Hüftprobleme",
          "Augenprobleme",
          "Keine/Unbekannt",
          "Herzprobleme",
          "Hüftprobleme",
          "Keine/Unbekannt",
          "Keine/Unbekannt",
          "Andere",
          "Keine/Unbekannt",
          "Hüftprobleme",
          "Keine/Unbekannt",
          "Keine/Unbekannt",
          "Hautprobleme",
          "Andere",
          "Herzprobleme",
          "Keine/Unbekannt",
          "Hüftprobleme",
          "Augenprobleme",
          "Keine/Unbekannt",
          "Hüftprobleme",
          "Keine/Unbekannt",
          "Hüftprobleme",
          "Augenprobleme",
          "Keine/Unbekannt",
          "Herzprobleme",
          "Hüftprobleme",
          "Hüftprobleme",
          "Augenprobleme",
          "Hüftprobleme",
          "Andere",
          "Augenprobleme",
          "Hüftprobleme",
          "Hüftprobleme",
          "Hüftprobleme",
          "Herzprobleme",
          "Keine/Unbekannt",
          "Andere",
          "Hüftprobleme",
          "Herzprobleme",
          "Hüftprobleme",
          "Keine/Unbekannt",
          "Hüftprobleme",
          "Hautprobleme",
          "Augenprobleme",
          "Hüftprobleme",
          "Augenprobleme"
         ],
         "xaxis": "x",
         "y": {
          "bdata": "PTAQUTMbMh0UIB4PSkkBIjg3CwQoIUVBGlQMAydNLhZPUxU5Q0gkCDo+GVIRGFZXVUsxQEwJDg1QJURCPxIfBzsXRgoFPC0jAhwTTjU0JiwrRy8qNikG",
          "dtype": "i1"
         },
         "yaxis": "y"
        }
       ],
       "layout": {
        "coloraxis": {
         "colorbar": {
          "title": {
           "text": "Popularitäts-Ranking (1 = beliebtester)"
          }
         },
         "colorscale": [
          [
           0,
           "#0d0887"
          ],
          [
           0.1111111111111111,
           "#46039f"
          ],
          [
           0.2222222222222222,
           "#7201a8"
          ],
          [
           0.3333333333333333,
           "#9c179e"
          ],
          [
           0.4444444444444444,
           "#bd3786"
          ],
          [
           0.5555555555555556,
           "#d8576b"
          ],
          [
           0.6666666666666666,
           "#ed7953"
          ],
          [
           0.7777777777777778,
           "#fb9f3a"
          ],
          [
           0.8888888888888888,
           "#fdca26"
          ],
          [
           1,
           "#f0f921"
          ]
         ]
        },
        "font": {
         "color": "#2c3272",
         "family": "Trebuchet MS",
         "size": 12
        },
        "legend": {
         "title": {
          "text": "Krankheitskategorie"
         },
         "tracegroupgap": 0
        },
        "showlegend": true,
        "template": {
         "data": {
          "bar": [
           {
            "error_x": {
             "color": "#2a3f5f"
            },
            "error_y": {
             "color": "#2a3f5f"
            },
            "marker": {
             "line": {
              "color": "#E5ECF6",
              "width": 0.5
             },
             "pattern": {
              "fillmode": "overlay",
              "size": 10,
              "solidity": 0.2
             }
            },
            "type": "bar"
           }
          ],
          "barpolar": [
           {
            "marker": {
             "line": {
              "color": "#E5ECF6",
              "width": 0.5
             },
             "pattern": {
              "fillmode": "overlay",
              "size": 10,
              "solidity": 0.2
             }
            },
            "type": "barpolar"
           }
          ],
          "carpet": [
           {
            "aaxis": {
             "endlinecolor": "#2a3f5f",
             "gridcolor": "white",
             "linecolor": "white",
             "minorgridcolor": "white",
             "startlinecolor": "#2a3f5f"
            },
            "baxis": {
             "endlinecolor": "#2a3f5f",
             "gridcolor": "white",
             "linecolor": "white",
             "minorgridcolor": "white",
             "startlinecolor": "#2a3f5f"
            },
            "type": "carpet"
           }
          ],
          "choropleth": [
           {
            "colorbar": {
             "outlinewidth": 0,
             "ticks": ""
            },
            "type": "choropleth"
           }
          ],
          "contour": [
           {
            "colorbar": {
             "outlinewidth": 0,
             "ticks": ""
            },
            "colorscale": [
             [
              0,
              "#0d0887"
             ],
             [
              0.1111111111111111,
              "#46039f"
             ],
             [
              0.2222222222222222,
              "#7201a8"
             ],
             [
              0.3333333333333333,
              "#9c179e"
             ],
             [
              0.4444444444444444,
              "#bd3786"
             ],
             [
              0.5555555555555556,
              "#d8576b"
             ],
             [
              0.6666666666666666,
              "#ed7953"
             ],
             [
              0.7777777777777778,
              "#fb9f3a"
             ],
             [
              0.8888888888888888,
              "#fdca26"
             ],
             [
              1,
              "#f0f921"
             ]
            ],
            "type": "contour"
           }
          ],
          "contourcarpet": [
           {
            "colorbar": {
             "outlinewidth": 0,
             "ticks": ""
            },
            "type": "contourcarpet"
           }
          ],
          "heatmap": [
           {
            "colorbar": {
             "outlinewidth": 0,
             "ticks": ""
            },
            "colorscale": [
             [
              0,
              "#0d0887"
             ],
             [
              0.1111111111111111,
              "#46039f"
             ],
             [
              0.2222222222222222,
              "#7201a8"
             ],
             [
              0.3333333333333333,
              "#9c179e"
             ],
             [
              0.4444444444444444,
              "#bd3786"
             ],
             [
              0.5555555555555556,
              "#d8576b"
             ],
             [
              0.6666666666666666,
              "#ed7953"
             ],
             [
              0.7777777777777778,
              "#fb9f3a"
             ],
             [
              0.8888888888888888,
              "#fdca26"
             ],
             [
              1,
              "#f0f921"
             ]
            ],
            "type": "heatmap"
           }
          ],
          "histogram": [
           {
            "marker": {
             "pattern": {
              "fillmode": "overlay",
              "size": 10,
              "solidity": 0.2
             }
            },
            "type": "histogram"
           }
          ],
          "histogram2d": [
           {
            "colorbar": {
             "outlinewidth": 0,
             "ticks": ""
            },
            "colorscale": [
             [
              0,
              "#0d0887"
             ],
             [
              0.1111111111111111,
              "#46039f"
             ],
             [
              0.2222222222222222,
              "#7201a8"
             ],
             [
              0.3333333333333333,
              "#9c179e"
             ],
             [
              0.4444444444444444,
              "#bd3786"
             ],
             [
              0.5555555555555556,
              "#d8576b"
             ],
             [
              0.6666666666666666,
              "#ed7953"
             ],
             [
              0.7777777777777778,
              "#fb9f3a"
             ],
             [
              0.8888888888888888,
              "#fdca26"
             ],
             [
              1,
              "#f0f921"
             ]
            ],
            "type": "histogram2d"
           }
          ],
          "histogram2dcontour": [
           {
            "colorbar": {
             "outlinewidth": 0,
             "ticks": ""
            },
            "colorscale": [
             [
              0,
              "#0d0887"
             ],
             [
              0.1111111111111111,
              "#46039f"
             ],
             [
              0.2222222222222222,
              "#7201a8"
             ],
             [
              0.3333333333333333,
              "#9c179e"
             ],
             [
              0.4444444444444444,
              "#bd3786"
             ],
             [
              0.5555555555555556,
              "#d8576b"
             ],
             [
              0.6666666666666666,
              "#ed7953"
             ],
             [
              0.7777777777777778,
              "#fb9f3a"
             ],
             [
              0.8888888888888888,
              "#fdca26"
             ],
             [
              1,
              "#f0f921"
             ]
            ],
            "type": "histogram2dcontour"
           }
          ],
          "mesh3d": [
           {
            "colorbar": {
             "outlinewidth": 0,
             "ticks": ""
            },
            "type": "mesh3d"
           }
          ],
          "parcoords": [
           {
            "line": {
             "colorbar": {
              "outlinewidth": 0,
              "ticks": ""
             }
            },
            "type": "parcoords"
           }
          ],
          "pie": [
           {
            "automargin": true,
            "type": "pie"
           }
          ],
          "scatter": [
           {
            "fillpattern": {
             "fillmode": "overlay",
             "size": 10,
             "solidity": 0.2
            },
            "type": "scatter"
           }
          ],
          "scatter3d": [
           {
            "line": {
             "colorbar": {
              "outlinewidth": 0,
              "ticks": ""
             }
            },
            "marker": {
             "colorbar": {
              "outlinewidth": 0,
              "ticks": ""
             }
            },
            "type": "scatter3d"
           }
          ],
          "scattercarpet": [
           {
            "marker": {
             "colorbar": {
              "outlinewidth": 0,
              "ticks": ""
             }
            },
            "type": "scattercarpet"
           }
          ],
          "scattergeo": [
           {
            "marker": {
             "colorbar": {
              "outlinewidth": 0,
              "ticks": ""
             }
            },
            "type": "scattergeo"
           }
          ],
          "scattergl": [
           {
            "marker": {
             "colorbar": {
              "outlinewidth": 0,
              "ticks": ""
             }
            },
            "type": "scattergl"
           }
          ],
          "scattermap": [
           {
            "marker": {
             "colorbar": {
              "outlinewidth": 0,
              "ticks": ""
             }
            },
            "type": "scattermap"
           }
          ],
          "scattermapbox": [
           {
            "marker": {
             "colorbar": {
              "outlinewidth": 0,
              "ticks": ""
             }
            },
            "type": "scattermapbox"
           }
          ],
          "scatterpolar": [
           {
            "marker": {
             "colorbar": {
              "outlinewidth": 0,
              "ticks": ""
             }
            },
            "type": "scatterpolar"
           }
          ],
          "scatterpolargl": [
           {
            "marker": {
             "colorbar": {
              "outlinewidth": 0,
              "ticks": ""
             }
            },
            "type": "scatterpolargl"
           }
          ],
          "scatterternary": [
           {
            "marker": {
             "colorbar": {
              "outlinewidth": 0,
              "ticks": ""
             }
            },
            "type": "scatterternary"
           }
          ],
          "surface": [
           {
            "colorbar": {
             "outlinewidth": 0,
             "ticks": ""
            },
            "colorscale": [
             [
              0,
              "#0d0887"
             ],
             [
              0.1111111111111111,
              "#46039f"
             ],
             [
              0.2222222222222222,
              "#7201a8"
             ],
             [
              0.3333333333333333,
              "#9c179e"
             ],
             [
              0.4444444444444444,
              "#bd3786"
             ],
             [
              0.5555555555555556,
              "#d8576b"
             ],
             [
              0.6666666666666666,
              "#ed7953"
             ],
             [
              0.7777777777777778,
              "#fb9f3a"
             ],
             [
              0.8888888888888888,
              "#fdca26"
             ],
             [
              1,
              "#f0f921"
             ]
            ],
            "type": "surface"
           }
          ],
          "table": [
           {
            "cells": {
             "fill": {
              "color": "#EBF0F8"
             },
             "line": {
              "color": "white"
             }
            },
            "header": {
             "fill": {
              "color": "#C8D4E3"
             },
             "line": {
              "color": "white"
             }
            },
            "type": "table"
           }
          ]
         },
         "layout": {
          "annotationdefaults": {
           "arrowcolor": "#2a3f5f",
           "arrowhead": 0,
           "arrowwidth": 1
          },
          "autotypenumbers": "strict",
          "coloraxis": {
           "colorbar": {
            "outlinewidth": 0,
            "ticks": ""
           }
          },
          "colorscale": {
           "diverging": [
            [
             0,
             "#8e0152"
            ],
            [
             0.1,
             "#c51b7d"
            ],
            [
             0.2,
             "#de77ae"
            ],
            [
             0.3,
             "#f1b6da"
            ],
            [
             0.4,
             "#fde0ef"
            ],
            [
             0.5,
             "#f7f7f7"
            ],
            [
             0.6,
             "#e6f5d0"
            ],
            [
             0.7,
             "#b8e186"
            ],
            [
             0.8,
             "#7fbc41"
            ],
            [
             0.9,
             "#4d9221"
            ],
            [
             1,
             "#276419"
            ]
           ],
           "sequential": [
            [
             0,
             "#0d0887"
            ],
            [
             0.1111111111111111,
             "#46039f"
            ],
            [
             0.2222222222222222,
             "#7201a8"
            ],
            [
             0.3333333333333333,
             "#9c179e"
            ],
            [
             0.4444444444444444,
             "#bd3786"
            ],
            [
             0.5555555555555556,
             "#d8576b"
            ],
            [
             0.6666666666666666,
             "#ed7953"
            ],
            [
             0.7777777777777778,
             "#fb9f3a"
            ],
            [
             0.8888888888888888,
             "#fdca26"
            ],
            [
             1,
             "#f0f921"
            ]
           ],
           "sequentialminus": [
            [
             0,
             "#0d0887"
            ],
            [
             0.1111111111111111,
             "#46039f"
            ],
            [
             0.2222222222222222,
             "#7201a8"
            ],
            [
             0.3333333333333333,
             "#9c179e"
            ],
            [
             0.4444444444444444,
             "#bd3786"
            ],
            [
             0.5555555555555556,
             "#d8576b"
            ],
            [
             0.6666666666666666,
             "#ed7953"
            ],
            [
             0.7777777777777778,
             "#fb9f3a"
            ],
            [
             0.8888888888888888,
             "#fdca26"
            ],
            [
             1,
             "#f0f921"
            ]
           ]
          },
          "colorway": [
           "#636efa",
           "#EF553B",
           "#00cc96",
           "#ab63fa",
           "#FFA15A",
           "#19d3f3",
           "#FF6692",
           "#B6E880",
           "#FF97FF",
           "#FECB52"
          ],
          "font": {
           "color": "#2a3f5f"
          },
          "geo": {
           "bgcolor": "white",
           "lakecolor": "white",
           "landcolor": "#E5ECF6",
           "showlakes": true,
           "showland": true,
           "subunitcolor": "white"
          },
          "hoverlabel": {
           "align": "left"
          },
          "hovermode": "closest",
          "mapbox": {
           "style": "light"
          },
          "paper_bgcolor": "white",
          "plot_bgcolor": "#E5ECF6",
          "polar": {
           "angularaxis": {
            "gridcolor": "white",
            "linecolor": "white",
            "ticks": ""
           },
           "bgcolor": "#E5ECF6",
           "radialaxis": {
            "gridcolor": "white",
            "linecolor": "white",
            "ticks": ""
           }
          },
          "scene": {
           "xaxis": {
            "backgroundcolor": "#E5ECF6",
            "gridcolor": "white",
            "gridwidth": 2,
            "linecolor": "white",
            "showbackground": true,
            "ticks": "",
            "zerolinecolor": "white"
           },
           "yaxis": {
            "backgroundcolor": "#E5ECF6",
            "gridcolor": "white",
            "gridwidth": 2,
            "linecolor": "white",
            "showbackground": true,
            "ticks": "",
            "zerolinecolor": "white"
           },
           "zaxis": {
            "backgroundcolor": "#E5ECF6",
            "gridcolor": "white",
            "gridwidth": 2,
            "linecolor": "white",
            "showbackground": true,
            "ticks": "",
            "zerolinecolor": "white"
           }
          },
          "shapedefaults": {
           "line": {
            "color": "#2a3f5f"
           }
          },
          "ternary": {
           "aaxis": {
            "gridcolor": "white",
            "linecolor": "white",
            "ticks": ""
           },
           "baxis": {
            "gridcolor": "white",
            "linecolor": "white",
            "ticks": ""
           },
           "bgcolor": "#E5ECF6",
           "caxis": {
            "gridcolor": "white",
            "linecolor": "white",
            "ticks": ""
           }
          },
          "title": {
           "x": 0.05
          },
          "xaxis": {
           "automargin": true,
           "gridcolor": "white",
           "linecolor": "white",
           "ticks": "",
           "title": {
            "standoff": 15
           },
           "zerolinecolor": "white",
           "zerolinewidth": 2
          },
          "yaxis": {
           "automargin": true,
           "gridcolor": "white",
           "linecolor": "white",
           "ticks": "",
           "title": {
            "standoff": 15
           },
           "zerolinecolor": "white",
           "zerolinewidth": 2
          }
         }
        },
        "title": {
         "font": {
          "color": "#2c3272",
          "family": "Trebuchet MS",
          "size": 20
         },
         "text": "Zusammenhang zwischen Hundekrankheiten und Rassenpopularität",
         "x": 0.5
        },
        "xaxis": {
         "anchor": "y",
         "categoryarray": [
          "Keine/Unbekannt",
          "Augenprobleme",
          "Hüftprobleme",
          "Herzprobleme",
          "Hautprobleme",
          "Andere"
         ],
         "categoryorder": "array",
         "domain": [
          0,
          1
         ],
         "title": {
          "text": "Krankheitskategorie"
         }
        },
        "yaxis": {
         "anchor": "x",
         "autorange": "reversed",
         "domain": [
          0,
          1
         ],
         "tickmode": "array",
         "tickvals": [
          1,
          6,
          11,
          16,
          21,
          26,
          31,
          36,
          41,
          46,
          51,
          56,
          61,
          66,
          71,
          76,
          81,
          86
         ],
         "title": {
          "text": "Popularitäts-Ranking (1-87)"
         }
        }
       }
      }
     },
     "metadata": {},
     "output_type": "display_data"
    }
   ],
   "source": [
    "# Vorbereitung der Daten\n",
    "data['Simplified_Ailments'] = data['GENETIC AILMENTS'].apply(simplify_ailments)\n",
    "\n",
    "# Erstellen des Scatter-Plots\n",
    "fig = px.scatter(\n",
    "    data,\n",
    "    x='Simplified_Ailments',  # Verwenden Sie die kategorisierten Krankheiten\n",
    "    y='popularity ranking',\n",
    "    hover_name='Breed',\n",
    "    labels={\n",
    "        \"Simplified_Ailments\": \"Häufige Krankheiten\", \n",
    "        \"popularity ranking\": \"Popularitäts-Ranking (1 = beliebtester)\"\n",
    "    },\n",
    "    title='Zusammenhang zwischen Hundekrankheiten und Rassenpopularität',\n",
    "    color='popularity ranking',  # Farbe nach Krankheitskategorie\n",
    "    category_orders={\"Simplified_Ailments\": [\"Keine/Unbekannt\", \"Augenprobleme\", \"Hüftprobleme\", \n",
    "                                           \"Herzprobleme\", \"Hautprobleme\", \"Andere\"]}\n",
    ")\n",
    "\n",
    "# Layout-Anpassungen\n",
    "fig.update_layout(\n",
    "    font=dict(\n",
    "        family=\"Trebuchet MS\",\n",
    "        size=12,\n",
    "        color=\"#2c3272\",\n",
    "    ),\n",
    "    title_font=dict(\n",
    "        family=\"Trebuchet MS\",\n",
    "        size=20,\n",
    "        color=\"#2c3272\" \n",
    "    ),\n",
    "    title_x=0.5,\n",
    "    xaxis_title=\"Krankheitskategorie\",\n",
    "    yaxis_title=\"Popularitäts-Ranking (1-87)\",\n",
    "    showlegend=True,\n",
    "    legend_title_text=\"Krankheitskategorie\"\n",
    ")\n",
    "\n",
    "# Y-Achse anpassen (höhere Zahlen = weniger populär)\n",
    "fig.update_yaxes(\n",
    "    autorange='reversed',\n",
    "    tickmode='array',\n",
    "    tickvals=list(range(1, 88, 5))\n",
    ")\n",
    "\n",
    "# Marker anpassen\n",
    "fig.update_traces(\n",
    "    marker=dict(\n",
    "        size=12,\n",
    "        opacity=0.7,\n",
    "        line=dict(width=1, color='DarkSlateGrey')\n",
    "    )\n",
    ")\n",
    "\n",
    "fig.show()"
   ]
  },
  {
   "cell_type": "code",
   "execution_count": 131,
   "id": "8f1f296b",
   "metadata": {},
   "outputs": [
    {
     "data": {
      "application/vnd.plotly.v1+json": {
       "config": {
        "plotlyServerURL": "https://plot.ly"
       },
       "data": [
        {
         "alignmentgroup": "True",
         "hovertemplate": "Simplified_Ailments=%{x}<br>popularity ranking=%{y}<extra></extra>",
         "legendgroup": "Keine/Unbekannt",
         "marker": {
          "color": "#636efa"
         },
         "name": "Keine/Unbekannt",
         "notched": false,
         "offsetgroup": "Keine/Unbekannt",
         "orientation": "v",
         "showlegend": true,
         "type": "box",
         "x": [
          "Keine/Unbekannt",
          "Keine/Unbekannt",
          "Keine/Unbekannt",
          "Keine/Unbekannt",
          "Keine/Unbekannt",
          "Keine/Unbekannt",
          "Keine/Unbekannt",
          "Keine/Unbekannt",
          "Keine/Unbekannt",
          "Keine/Unbekannt",
          "Keine/Unbekannt",
          "Keine/Unbekannt",
          "Keine/Unbekannt",
          "Keine/Unbekannt",
          "Keine/Unbekannt",
          "Keine/Unbekannt",
          "Keine/Unbekannt",
          "Keine/Unbekannt",
          "Keine/Unbekannt",
          "Keine/Unbekannt",
          "Keine/Unbekannt",
          "Keine/Unbekannt",
          "Keine/Unbekannt"
         ],
         "x0": " ",
         "xaxis": "x",
         "y": {
          "bdata": "PRAzHkkiRVRNLkNSVldLQExQQhI7NUc=",
          "dtype": "i1"
         },
         "y0": " ",
         "yaxis": "y"
        },
        {
         "alignmentgroup": "True",
         "hovertemplate": "Simplified_Ailments=%{x}<br>popularity ranking=%{y}<extra></extra>",
         "legendgroup": "Herzprobleme",
         "marker": {
          "color": "#EF553B"
         },
         "name": "Herzprobleme",
         "notched": false,
         "offsetgroup": "Herzprobleme",
         "orientation": "v",
         "showlegend": true,
         "type": "box",
         "x": [
          "Herzprobleme",
          "Herzprobleme",
          "Herzprobleme",
          "Herzprobleme",
          "Herzprobleme",
          "Herzprobleme",
          "Herzprobleme",
          "Herzprobleme"
         ],
         "x0": " ",
         "xaxis": "x",
         "y": {
          "bdata": "MAMVEQ0XTiw=",
          "dtype": "i1"
         },
         "y0": " ",
         "yaxis": "y"
        },
        {
         "alignmentgroup": "True",
         "hovertemplate": "Simplified_Ailments=%{x}<br>popularity ranking=%{y}<extra></extra>",
         "legendgroup": "Hüftprobleme",
         "marker": {
          "color": "#00cc96"
         },
         "name": "Hüftprobleme",
         "notched": false,
         "offsetgroup": "Hüftprobleme",
         "orientation": "v",
         "showlegend": true,
         "type": "box",
         "x": [
          "Hüftprobleme",
          "Hüftprobleme",
          "Hüftprobleme",
          "Hüftprobleme",
          "Hüftprobleme",
          "Hüftprobleme",
          "Hüftprobleme",
          "Hüftprobleme",
          "Hüftprobleme",
          "Hüftprobleme",
          "Hüftprobleme",
          "Hüftprobleme",
          "Hüftprobleme",
          "Hüftprobleme",
          "Hüftprobleme",
          "Hüftprobleme",
          "Hüftprobleme",
          "Hüftprobleme",
          "Hüftprobleme",
          "Hüftprobleme",
          "Hüftprobleme",
          "Hüftprobleme",
          "Hüftprobleme",
          "Hüftprobleme"
         ],
         "x0": " ",
         "xaxis": "x",
         "y": {
          "bdata": "UQ9KNyhBTzo+GDElPx9GCjwCHBMmKy8p",
          "dtype": "i1"
         },
         "y0": " ",
         "yaxis": "y"
        },
        {
         "alignmentgroup": "True",
         "hovertemplate": "Simplified_Ailments=%{x}<br>popularity ranking=%{y}<extra></extra>",
         "legendgroup": "Augenprobleme",
         "marker": {
          "color": "#ab63fa"
         },
         "name": "Augenprobleme",
         "notched": false,
         "offsetgroup": "Augenprobleme",
         "orientation": "v",
         "showlegend": true,
         "type": "box",
         "x": [
          "Augenprobleme",
          "Augenprobleme",
          "Augenprobleme",
          "Augenprobleme",
          "Augenprobleme",
          "Augenprobleme",
          "Augenprobleme",
          "Augenprobleme",
          "Augenprobleme",
          "Augenprobleme",
          "Augenprobleme",
          "Augenprobleme",
          "Augenprobleme",
          "Augenprobleme",
          "Augenprobleme",
          "Augenprobleme",
          "Augenprobleme",
          "Augenprobleme",
          "Augenprobleme",
          "Augenprobleme",
          "Augenprobleme"
         ],
         "x0": " ",
         "xaxis": "x",
         "y": {
          "bdata": "GzIdFCABOAsEIRonU0gZRAcFIzYG",
          "dtype": "i1"
         },
         "y0": " ",
         "yaxis": "y"
        },
        {
         "alignmentgroup": "True",
         "hovertemplate": "Simplified_Ailments=%{x}<br>popularity ranking=%{y}<extra></extra>",
         "legendgroup": "Andere",
         "marker": {
          "color": "#FFA15A"
         },
         "name": "Andere",
         "notched": false,
         "offsetgroup": "Andere",
         "orientation": "v",
         "showlegend": true,
         "type": "box",
         "x": [
          "Andere",
          "Andere",
          "Andere",
          "Andere",
          "Andere",
          "Andere",
          "Andere"
         ],
         "x0": " ",
         "xaxis": "x",
         "y": {
          "bdata": "DBY5VQ4tNA==",
          "dtype": "i1"
         },
         "y0": " ",
         "yaxis": "y"
        },
        {
         "alignmentgroup": "True",
         "hovertemplate": "Simplified_Ailments=%{x}<br>popularity ranking=%{y}<extra></extra>",
         "legendgroup": "Hautprobleme",
         "marker": {
          "color": "#19d3f3"
         },
         "name": "Hautprobleme",
         "notched": false,
         "offsetgroup": "Hautprobleme",
         "orientation": "v",
         "showlegend": true,
         "type": "box",
         "x": [
          "Hautprobleme",
          "Hautprobleme",
          "Hautprobleme",
          "Hautprobleme"
         ],
         "x0": " ",
         "xaxis": "x",
         "y": {
          "bdata": "JAgJKg==",
          "dtype": "i1"
         },
         "y0": " ",
         "yaxis": "y"
        }
       ],
       "layout": {
        "boxmode": "overlay",
        "legend": {
         "title": {
          "text": "Simplified_Ailments"
         },
         "tracegroupgap": 0
        },
        "template": {
         "data": {
          "bar": [
           {
            "error_x": {
             "color": "#2a3f5f"
            },
            "error_y": {
             "color": "#2a3f5f"
            },
            "marker": {
             "line": {
              "color": "#E5ECF6",
              "width": 0.5
             },
             "pattern": {
              "fillmode": "overlay",
              "size": 10,
              "solidity": 0.2
             }
            },
            "type": "bar"
           }
          ],
          "barpolar": [
           {
            "marker": {
             "line": {
              "color": "#E5ECF6",
              "width": 0.5
             },
             "pattern": {
              "fillmode": "overlay",
              "size": 10,
              "solidity": 0.2
             }
            },
            "type": "barpolar"
           }
          ],
          "carpet": [
           {
            "aaxis": {
             "endlinecolor": "#2a3f5f",
             "gridcolor": "white",
             "linecolor": "white",
             "minorgridcolor": "white",
             "startlinecolor": "#2a3f5f"
            },
            "baxis": {
             "endlinecolor": "#2a3f5f",
             "gridcolor": "white",
             "linecolor": "white",
             "minorgridcolor": "white",
             "startlinecolor": "#2a3f5f"
            },
            "type": "carpet"
           }
          ],
          "choropleth": [
           {
            "colorbar": {
             "outlinewidth": 0,
             "ticks": ""
            },
            "type": "choropleth"
           }
          ],
          "contour": [
           {
            "colorbar": {
             "outlinewidth": 0,
             "ticks": ""
            },
            "colorscale": [
             [
              0,
              "#0d0887"
             ],
             [
              0.1111111111111111,
              "#46039f"
             ],
             [
              0.2222222222222222,
              "#7201a8"
             ],
             [
              0.3333333333333333,
              "#9c179e"
             ],
             [
              0.4444444444444444,
              "#bd3786"
             ],
             [
              0.5555555555555556,
              "#d8576b"
             ],
             [
              0.6666666666666666,
              "#ed7953"
             ],
             [
              0.7777777777777778,
              "#fb9f3a"
             ],
             [
              0.8888888888888888,
              "#fdca26"
             ],
             [
              1,
              "#f0f921"
             ]
            ],
            "type": "contour"
           }
          ],
          "contourcarpet": [
           {
            "colorbar": {
             "outlinewidth": 0,
             "ticks": ""
            },
            "type": "contourcarpet"
           }
          ],
          "heatmap": [
           {
            "colorbar": {
             "outlinewidth": 0,
             "ticks": ""
            },
            "colorscale": [
             [
              0,
              "#0d0887"
             ],
             [
              0.1111111111111111,
              "#46039f"
             ],
             [
              0.2222222222222222,
              "#7201a8"
             ],
             [
              0.3333333333333333,
              "#9c179e"
             ],
             [
              0.4444444444444444,
              "#bd3786"
             ],
             [
              0.5555555555555556,
              "#d8576b"
             ],
             [
              0.6666666666666666,
              "#ed7953"
             ],
             [
              0.7777777777777778,
              "#fb9f3a"
             ],
             [
              0.8888888888888888,
              "#fdca26"
             ],
             [
              1,
              "#f0f921"
             ]
            ],
            "type": "heatmap"
           }
          ],
          "histogram": [
           {
            "marker": {
             "pattern": {
              "fillmode": "overlay",
              "size": 10,
              "solidity": 0.2
             }
            },
            "type": "histogram"
           }
          ],
          "histogram2d": [
           {
            "colorbar": {
             "outlinewidth": 0,
             "ticks": ""
            },
            "colorscale": [
             [
              0,
              "#0d0887"
             ],
             [
              0.1111111111111111,
              "#46039f"
             ],
             [
              0.2222222222222222,
              "#7201a8"
             ],
             [
              0.3333333333333333,
              "#9c179e"
             ],
             [
              0.4444444444444444,
              "#bd3786"
             ],
             [
              0.5555555555555556,
              "#d8576b"
             ],
             [
              0.6666666666666666,
              "#ed7953"
             ],
             [
              0.7777777777777778,
              "#fb9f3a"
             ],
             [
              0.8888888888888888,
              "#fdca26"
             ],
             [
              1,
              "#f0f921"
             ]
            ],
            "type": "histogram2d"
           }
          ],
          "histogram2dcontour": [
           {
            "colorbar": {
             "outlinewidth": 0,
             "ticks": ""
            },
            "colorscale": [
             [
              0,
              "#0d0887"
             ],
             [
              0.1111111111111111,
              "#46039f"
             ],
             [
              0.2222222222222222,
              "#7201a8"
             ],
             [
              0.3333333333333333,
              "#9c179e"
             ],
             [
              0.4444444444444444,
              "#bd3786"
             ],
             [
              0.5555555555555556,
              "#d8576b"
             ],
             [
              0.6666666666666666,
              "#ed7953"
             ],
             [
              0.7777777777777778,
              "#fb9f3a"
             ],
             [
              0.8888888888888888,
              "#fdca26"
             ],
             [
              1,
              "#f0f921"
             ]
            ],
            "type": "histogram2dcontour"
           }
          ],
          "mesh3d": [
           {
            "colorbar": {
             "outlinewidth": 0,
             "ticks": ""
            },
            "type": "mesh3d"
           }
          ],
          "parcoords": [
           {
            "line": {
             "colorbar": {
              "outlinewidth": 0,
              "ticks": ""
             }
            },
            "type": "parcoords"
           }
          ],
          "pie": [
           {
            "automargin": true,
            "type": "pie"
           }
          ],
          "scatter": [
           {
            "fillpattern": {
             "fillmode": "overlay",
             "size": 10,
             "solidity": 0.2
            },
            "type": "scatter"
           }
          ],
          "scatter3d": [
           {
            "line": {
             "colorbar": {
              "outlinewidth": 0,
              "ticks": ""
             }
            },
            "marker": {
             "colorbar": {
              "outlinewidth": 0,
              "ticks": ""
             }
            },
            "type": "scatter3d"
           }
          ],
          "scattercarpet": [
           {
            "marker": {
             "colorbar": {
              "outlinewidth": 0,
              "ticks": ""
             }
            },
            "type": "scattercarpet"
           }
          ],
          "scattergeo": [
           {
            "marker": {
             "colorbar": {
              "outlinewidth": 0,
              "ticks": ""
             }
            },
            "type": "scattergeo"
           }
          ],
          "scattergl": [
           {
            "marker": {
             "colorbar": {
              "outlinewidth": 0,
              "ticks": ""
             }
            },
            "type": "scattergl"
           }
          ],
          "scattermap": [
           {
            "marker": {
             "colorbar": {
              "outlinewidth": 0,
              "ticks": ""
             }
            },
            "type": "scattermap"
           }
          ],
          "scattermapbox": [
           {
            "marker": {
             "colorbar": {
              "outlinewidth": 0,
              "ticks": ""
             }
            },
            "type": "scattermapbox"
           }
          ],
          "scatterpolar": [
           {
            "marker": {
             "colorbar": {
              "outlinewidth": 0,
              "ticks": ""
             }
            },
            "type": "scatterpolar"
           }
          ],
          "scatterpolargl": [
           {
            "marker": {
             "colorbar": {
              "outlinewidth": 0,
              "ticks": ""
             }
            },
            "type": "scatterpolargl"
           }
          ],
          "scatterternary": [
           {
            "marker": {
             "colorbar": {
              "outlinewidth": 0,
              "ticks": ""
             }
            },
            "type": "scatterternary"
           }
          ],
          "surface": [
           {
            "colorbar": {
             "outlinewidth": 0,
             "ticks": ""
            },
            "colorscale": [
             [
              0,
              "#0d0887"
             ],
             [
              0.1111111111111111,
              "#46039f"
             ],
             [
              0.2222222222222222,
              "#7201a8"
             ],
             [
              0.3333333333333333,
              "#9c179e"
             ],
             [
              0.4444444444444444,
              "#bd3786"
             ],
             [
              0.5555555555555556,
              "#d8576b"
             ],
             [
              0.6666666666666666,
              "#ed7953"
             ],
             [
              0.7777777777777778,
              "#fb9f3a"
             ],
             [
              0.8888888888888888,
              "#fdca26"
             ],
             [
              1,
              "#f0f921"
             ]
            ],
            "type": "surface"
           }
          ],
          "table": [
           {
            "cells": {
             "fill": {
              "color": "#EBF0F8"
             },
             "line": {
              "color": "white"
             }
            },
            "header": {
             "fill": {
              "color": "#C8D4E3"
             },
             "line": {
              "color": "white"
             }
            },
            "type": "table"
           }
          ]
         },
         "layout": {
          "annotationdefaults": {
           "arrowcolor": "#2a3f5f",
           "arrowhead": 0,
           "arrowwidth": 1
          },
          "autotypenumbers": "strict",
          "coloraxis": {
           "colorbar": {
            "outlinewidth": 0,
            "ticks": ""
           }
          },
          "colorscale": {
           "diverging": [
            [
             0,
             "#8e0152"
            ],
            [
             0.1,
             "#c51b7d"
            ],
            [
             0.2,
             "#de77ae"
            ],
            [
             0.3,
             "#f1b6da"
            ],
            [
             0.4,
             "#fde0ef"
            ],
            [
             0.5,
             "#f7f7f7"
            ],
            [
             0.6,
             "#e6f5d0"
            ],
            [
             0.7,
             "#b8e186"
            ],
            [
             0.8,
             "#7fbc41"
            ],
            [
             0.9,
             "#4d9221"
            ],
            [
             1,
             "#276419"
            ]
           ],
           "sequential": [
            [
             0,
             "#0d0887"
            ],
            [
             0.1111111111111111,
             "#46039f"
            ],
            [
             0.2222222222222222,
             "#7201a8"
            ],
            [
             0.3333333333333333,
             "#9c179e"
            ],
            [
             0.4444444444444444,
             "#bd3786"
            ],
            [
             0.5555555555555556,
             "#d8576b"
            ],
            [
             0.6666666666666666,
             "#ed7953"
            ],
            [
             0.7777777777777778,
             "#fb9f3a"
            ],
            [
             0.8888888888888888,
             "#fdca26"
            ],
            [
             1,
             "#f0f921"
            ]
           ],
           "sequentialminus": [
            [
             0,
             "#0d0887"
            ],
            [
             0.1111111111111111,
             "#46039f"
            ],
            [
             0.2222222222222222,
             "#7201a8"
            ],
            [
             0.3333333333333333,
             "#9c179e"
            ],
            [
             0.4444444444444444,
             "#bd3786"
            ],
            [
             0.5555555555555556,
             "#d8576b"
            ],
            [
             0.6666666666666666,
             "#ed7953"
            ],
            [
             0.7777777777777778,
             "#fb9f3a"
            ],
            [
             0.8888888888888888,
             "#fdca26"
            ],
            [
             1,
             "#f0f921"
            ]
           ]
          },
          "colorway": [
           "#636efa",
           "#EF553B",
           "#00cc96",
           "#ab63fa",
           "#FFA15A",
           "#19d3f3",
           "#FF6692",
           "#B6E880",
           "#FF97FF",
           "#FECB52"
          ],
          "font": {
           "color": "#2a3f5f"
          },
          "geo": {
           "bgcolor": "white",
           "lakecolor": "white",
           "landcolor": "#E5ECF6",
           "showlakes": true,
           "showland": true,
           "subunitcolor": "white"
          },
          "hoverlabel": {
           "align": "left"
          },
          "hovermode": "closest",
          "mapbox": {
           "style": "light"
          },
          "paper_bgcolor": "white",
          "plot_bgcolor": "#E5ECF6",
          "polar": {
           "angularaxis": {
            "gridcolor": "white",
            "linecolor": "white",
            "ticks": ""
           },
           "bgcolor": "#E5ECF6",
           "radialaxis": {
            "gridcolor": "white",
            "linecolor": "white",
            "ticks": ""
           }
          },
          "scene": {
           "xaxis": {
            "backgroundcolor": "#E5ECF6",
            "gridcolor": "white",
            "gridwidth": 2,
            "linecolor": "white",
            "showbackground": true,
            "ticks": "",
            "zerolinecolor": "white"
           },
           "yaxis": {
            "backgroundcolor": "#E5ECF6",
            "gridcolor": "white",
            "gridwidth": 2,
            "linecolor": "white",
            "showbackground": true,
            "ticks": "",
            "zerolinecolor": "white"
           },
           "zaxis": {
            "backgroundcolor": "#E5ECF6",
            "gridcolor": "white",
            "gridwidth": 2,
            "linecolor": "white",
            "showbackground": true,
            "ticks": "",
            "zerolinecolor": "white"
           }
          },
          "shapedefaults": {
           "line": {
            "color": "#2a3f5f"
           }
          },
          "ternary": {
           "aaxis": {
            "gridcolor": "white",
            "linecolor": "white",
            "ticks": ""
           },
           "baxis": {
            "gridcolor": "white",
            "linecolor": "white",
            "ticks": ""
           },
           "bgcolor": "#E5ECF6",
           "caxis": {
            "gridcolor": "white",
            "linecolor": "white",
            "ticks": ""
           }
          },
          "title": {
           "x": 0.05
          },
          "xaxis": {
           "automargin": true,
           "gridcolor": "white",
           "linecolor": "white",
           "ticks": "",
           "title": {
            "standoff": 15
           },
           "zerolinecolor": "white",
           "zerolinewidth": 2
          },
          "yaxis": {
           "automargin": true,
           "gridcolor": "white",
           "linecolor": "white",
           "ticks": "",
           "title": {
            "standoff": 15
           },
           "zerolinecolor": "white",
           "zerolinewidth": 2
          }
         }
        },
        "title": {
         "text": "Popularitäts-Ranking nach Krankheitskategorie"
        },
        "xaxis": {
         "anchor": "y",
         "categoryarray": [
          "Keine/Unbekannt",
          "Herzprobleme",
          "Hüftprobleme",
          "Augenprobleme",
          "Andere",
          "Hautprobleme"
         ],
         "categoryorder": "array",
         "domain": [
          0,
          1
         ],
         "title": {
          "text": "Simplified_Ailments"
         }
        },
        "yaxis": {
         "anchor": "x",
         "autorange": "reversed",
         "domain": [
          0,
          1
         ],
         "title": {
          "text": "popularity ranking"
         }
        }
       }
      }
     },
     "metadata": {},
     "output_type": "display_data"
    }
   ],
   "source": [
    "fig = px.box(\n",
    "    data,\n",
    "    x='Simplified_Ailments',\n",
    "    y='popularity ranking',\n",
    "    color='Simplified_Ailments',\n",
    "    title='Popularitäts-Ranking nach Krankheitskategorie'\n",
    ")\n",
    "fig.update_yaxes(autorange='reversed')"
   ]
  },
  {
   "cell_type": "code",
   "execution_count": 132,
   "id": "2ad39bb8",
   "metadata": {},
   "outputs": [
    {
     "data": {
      "application/vnd.plotly.v1+json": {
       "config": {
        "plotlyServerURL": "https://plot.ly"
       },
       "data": [
        {
         "alignmentgroup": "True",
         "box": {
          "visible": true
         },
         "hovertemplate": "Simplified_Ailments=%{x}<br>popularity ranking=%{y}<extra></extra>",
         "legendgroup": "Keine/Unbekannt",
         "marker": {
          "color": "#636efa"
         },
         "name": "Keine/Unbekannt",
         "offsetgroup": "Keine/Unbekannt",
         "orientation": "v",
         "scalegroup": "True",
         "showlegend": true,
         "type": "violin",
         "x": [
          "Keine/Unbekannt",
          "Keine/Unbekannt",
          "Keine/Unbekannt",
          "Keine/Unbekannt",
          "Keine/Unbekannt",
          "Keine/Unbekannt",
          "Keine/Unbekannt",
          "Keine/Unbekannt",
          "Keine/Unbekannt",
          "Keine/Unbekannt",
          "Keine/Unbekannt",
          "Keine/Unbekannt",
          "Keine/Unbekannt",
          "Keine/Unbekannt",
          "Keine/Unbekannt",
          "Keine/Unbekannt",
          "Keine/Unbekannt",
          "Keine/Unbekannt",
          "Keine/Unbekannt",
          "Keine/Unbekannt",
          "Keine/Unbekannt",
          "Keine/Unbekannt",
          "Keine/Unbekannt"
         ],
         "x0": " ",
         "xaxis": "x",
         "y": {
          "bdata": "PRAzHkkiRVRNLkNSVldLQExQQhI7NUc=",
          "dtype": "i1"
         },
         "y0": " ",
         "yaxis": "y"
        },
        {
         "alignmentgroup": "True",
         "box": {
          "visible": true
         },
         "hovertemplate": "Simplified_Ailments=%{x}<br>popularity ranking=%{y}<extra></extra>",
         "legendgroup": "Herzprobleme",
         "marker": {
          "color": "#EF553B"
         },
         "name": "Herzprobleme",
         "offsetgroup": "Herzprobleme",
         "orientation": "v",
         "scalegroup": "True",
         "showlegend": true,
         "type": "violin",
         "x": [
          "Herzprobleme",
          "Herzprobleme",
          "Herzprobleme",
          "Herzprobleme",
          "Herzprobleme",
          "Herzprobleme",
          "Herzprobleme",
          "Herzprobleme"
         ],
         "x0": " ",
         "xaxis": "x",
         "y": {
          "bdata": "MAMVEQ0XTiw=",
          "dtype": "i1"
         },
         "y0": " ",
         "yaxis": "y"
        },
        {
         "alignmentgroup": "True",
         "box": {
          "visible": true
         },
         "hovertemplate": "Simplified_Ailments=%{x}<br>popularity ranking=%{y}<extra></extra>",
         "legendgroup": "Hüftprobleme",
         "marker": {
          "color": "#00cc96"
         },
         "name": "Hüftprobleme",
         "offsetgroup": "Hüftprobleme",
         "orientation": "v",
         "scalegroup": "True",
         "showlegend": true,
         "type": "violin",
         "x": [
          "Hüftprobleme",
          "Hüftprobleme",
          "Hüftprobleme",
          "Hüftprobleme",
          "Hüftprobleme",
          "Hüftprobleme",
          "Hüftprobleme",
          "Hüftprobleme",
          "Hüftprobleme",
          "Hüftprobleme",
          "Hüftprobleme",
          "Hüftprobleme",
          "Hüftprobleme",
          "Hüftprobleme",
          "Hüftprobleme",
          "Hüftprobleme",
          "Hüftprobleme",
          "Hüftprobleme",
          "Hüftprobleme",
          "Hüftprobleme",
          "Hüftprobleme",
          "Hüftprobleme",
          "Hüftprobleme",
          "Hüftprobleme"
         ],
         "x0": " ",
         "xaxis": "x",
         "y": {
          "bdata": "UQ9KNyhBTzo+GDElPx9GCjwCHBMmKy8p",
          "dtype": "i1"
         },
         "y0": " ",
         "yaxis": "y"
        },
        {
         "alignmentgroup": "True",
         "box": {
          "visible": true
         },
         "hovertemplate": "Simplified_Ailments=%{x}<br>popularity ranking=%{y}<extra></extra>",
         "legendgroup": "Augenprobleme",
         "marker": {
          "color": "#ab63fa"
         },
         "name": "Augenprobleme",
         "offsetgroup": "Augenprobleme",
         "orientation": "v",
         "scalegroup": "True",
         "showlegend": true,
         "type": "violin",
         "x": [
          "Augenprobleme",
          "Augenprobleme",
          "Augenprobleme",
          "Augenprobleme",
          "Augenprobleme",
          "Augenprobleme",
          "Augenprobleme",
          "Augenprobleme",
          "Augenprobleme",
          "Augenprobleme",
          "Augenprobleme",
          "Augenprobleme",
          "Augenprobleme",
          "Augenprobleme",
          "Augenprobleme",
          "Augenprobleme",
          "Augenprobleme",
          "Augenprobleme",
          "Augenprobleme",
          "Augenprobleme",
          "Augenprobleme"
         ],
         "x0": " ",
         "xaxis": "x",
         "y": {
          "bdata": "GzIdFCABOAsEIRonU0gZRAcFIzYG",
          "dtype": "i1"
         },
         "y0": " ",
         "yaxis": "y"
        },
        {
         "alignmentgroup": "True",
         "box": {
          "visible": true
         },
         "hovertemplate": "Simplified_Ailments=%{x}<br>popularity ranking=%{y}<extra></extra>",
         "legendgroup": "Andere",
         "marker": {
          "color": "#FFA15A"
         },
         "name": "Andere",
         "offsetgroup": "Andere",
         "orientation": "v",
         "scalegroup": "True",
         "showlegend": true,
         "type": "violin",
         "x": [
          "Andere",
          "Andere",
          "Andere",
          "Andere",
          "Andere",
          "Andere",
          "Andere"
         ],
         "x0": " ",
         "xaxis": "x",
         "y": {
          "bdata": "DBY5VQ4tNA==",
          "dtype": "i1"
         },
         "y0": " ",
         "yaxis": "y"
        },
        {
         "alignmentgroup": "True",
         "box": {
          "visible": true
         },
         "hovertemplate": "Simplified_Ailments=%{x}<br>popularity ranking=%{y}<extra></extra>",
         "legendgroup": "Hautprobleme",
         "marker": {
          "color": "#19d3f3"
         },
         "name": "Hautprobleme",
         "offsetgroup": "Hautprobleme",
         "orientation": "v",
         "scalegroup": "True",
         "showlegend": true,
         "type": "violin",
         "x": [
          "Hautprobleme",
          "Hautprobleme",
          "Hautprobleme",
          "Hautprobleme"
         ],
         "x0": " ",
         "xaxis": "x",
         "y": {
          "bdata": "JAgJKg==",
          "dtype": "i1"
         },
         "y0": " ",
         "yaxis": "y"
        }
       ],
       "layout": {
        "legend": {
         "title": {
          "text": "Simplified_Ailments"
         },
         "tracegroupgap": 0
        },
        "template": {
         "data": {
          "bar": [
           {
            "error_x": {
             "color": "#2a3f5f"
            },
            "error_y": {
             "color": "#2a3f5f"
            },
            "marker": {
             "line": {
              "color": "#E5ECF6",
              "width": 0.5
             },
             "pattern": {
              "fillmode": "overlay",
              "size": 10,
              "solidity": 0.2
             }
            },
            "type": "bar"
           }
          ],
          "barpolar": [
           {
            "marker": {
             "line": {
              "color": "#E5ECF6",
              "width": 0.5
             },
             "pattern": {
              "fillmode": "overlay",
              "size": 10,
              "solidity": 0.2
             }
            },
            "type": "barpolar"
           }
          ],
          "carpet": [
           {
            "aaxis": {
             "endlinecolor": "#2a3f5f",
             "gridcolor": "white",
             "linecolor": "white",
             "minorgridcolor": "white",
             "startlinecolor": "#2a3f5f"
            },
            "baxis": {
             "endlinecolor": "#2a3f5f",
             "gridcolor": "white",
             "linecolor": "white",
             "minorgridcolor": "white",
             "startlinecolor": "#2a3f5f"
            },
            "type": "carpet"
           }
          ],
          "choropleth": [
           {
            "colorbar": {
             "outlinewidth": 0,
             "ticks": ""
            },
            "type": "choropleth"
           }
          ],
          "contour": [
           {
            "colorbar": {
             "outlinewidth": 0,
             "ticks": ""
            },
            "colorscale": [
             [
              0,
              "#0d0887"
             ],
             [
              0.1111111111111111,
              "#46039f"
             ],
             [
              0.2222222222222222,
              "#7201a8"
             ],
             [
              0.3333333333333333,
              "#9c179e"
             ],
             [
              0.4444444444444444,
              "#bd3786"
             ],
             [
              0.5555555555555556,
              "#d8576b"
             ],
             [
              0.6666666666666666,
              "#ed7953"
             ],
             [
              0.7777777777777778,
              "#fb9f3a"
             ],
             [
              0.8888888888888888,
              "#fdca26"
             ],
             [
              1,
              "#f0f921"
             ]
            ],
            "type": "contour"
           }
          ],
          "contourcarpet": [
           {
            "colorbar": {
             "outlinewidth": 0,
             "ticks": ""
            },
            "type": "contourcarpet"
           }
          ],
          "heatmap": [
           {
            "colorbar": {
             "outlinewidth": 0,
             "ticks": ""
            },
            "colorscale": [
             [
              0,
              "#0d0887"
             ],
             [
              0.1111111111111111,
              "#46039f"
             ],
             [
              0.2222222222222222,
              "#7201a8"
             ],
             [
              0.3333333333333333,
              "#9c179e"
             ],
             [
              0.4444444444444444,
              "#bd3786"
             ],
             [
              0.5555555555555556,
              "#d8576b"
             ],
             [
              0.6666666666666666,
              "#ed7953"
             ],
             [
              0.7777777777777778,
              "#fb9f3a"
             ],
             [
              0.8888888888888888,
              "#fdca26"
             ],
             [
              1,
              "#f0f921"
             ]
            ],
            "type": "heatmap"
           }
          ],
          "histogram": [
           {
            "marker": {
             "pattern": {
              "fillmode": "overlay",
              "size": 10,
              "solidity": 0.2
             }
            },
            "type": "histogram"
           }
          ],
          "histogram2d": [
           {
            "colorbar": {
             "outlinewidth": 0,
             "ticks": ""
            },
            "colorscale": [
             [
              0,
              "#0d0887"
             ],
             [
              0.1111111111111111,
              "#46039f"
             ],
             [
              0.2222222222222222,
              "#7201a8"
             ],
             [
              0.3333333333333333,
              "#9c179e"
             ],
             [
              0.4444444444444444,
              "#bd3786"
             ],
             [
              0.5555555555555556,
              "#d8576b"
             ],
             [
              0.6666666666666666,
              "#ed7953"
             ],
             [
              0.7777777777777778,
              "#fb9f3a"
             ],
             [
              0.8888888888888888,
              "#fdca26"
             ],
             [
              1,
              "#f0f921"
             ]
            ],
            "type": "histogram2d"
           }
          ],
          "histogram2dcontour": [
           {
            "colorbar": {
             "outlinewidth": 0,
             "ticks": ""
            },
            "colorscale": [
             [
              0,
              "#0d0887"
             ],
             [
              0.1111111111111111,
              "#46039f"
             ],
             [
              0.2222222222222222,
              "#7201a8"
             ],
             [
              0.3333333333333333,
              "#9c179e"
             ],
             [
              0.4444444444444444,
              "#bd3786"
             ],
             [
              0.5555555555555556,
              "#d8576b"
             ],
             [
              0.6666666666666666,
              "#ed7953"
             ],
             [
              0.7777777777777778,
              "#fb9f3a"
             ],
             [
              0.8888888888888888,
              "#fdca26"
             ],
             [
              1,
              "#f0f921"
             ]
            ],
            "type": "histogram2dcontour"
           }
          ],
          "mesh3d": [
           {
            "colorbar": {
             "outlinewidth": 0,
             "ticks": ""
            },
            "type": "mesh3d"
           }
          ],
          "parcoords": [
           {
            "line": {
             "colorbar": {
              "outlinewidth": 0,
              "ticks": ""
             }
            },
            "type": "parcoords"
           }
          ],
          "pie": [
           {
            "automargin": true,
            "type": "pie"
           }
          ],
          "scatter": [
           {
            "fillpattern": {
             "fillmode": "overlay",
             "size": 10,
             "solidity": 0.2
            },
            "type": "scatter"
           }
          ],
          "scatter3d": [
           {
            "line": {
             "colorbar": {
              "outlinewidth": 0,
              "ticks": ""
             }
            },
            "marker": {
             "colorbar": {
              "outlinewidth": 0,
              "ticks": ""
             }
            },
            "type": "scatter3d"
           }
          ],
          "scattercarpet": [
           {
            "marker": {
             "colorbar": {
              "outlinewidth": 0,
              "ticks": ""
             }
            },
            "type": "scattercarpet"
           }
          ],
          "scattergeo": [
           {
            "marker": {
             "colorbar": {
              "outlinewidth": 0,
              "ticks": ""
             }
            },
            "type": "scattergeo"
           }
          ],
          "scattergl": [
           {
            "marker": {
             "colorbar": {
              "outlinewidth": 0,
              "ticks": ""
             }
            },
            "type": "scattergl"
           }
          ],
          "scattermap": [
           {
            "marker": {
             "colorbar": {
              "outlinewidth": 0,
              "ticks": ""
             }
            },
            "type": "scattermap"
           }
          ],
          "scattermapbox": [
           {
            "marker": {
             "colorbar": {
              "outlinewidth": 0,
              "ticks": ""
             }
            },
            "type": "scattermapbox"
           }
          ],
          "scatterpolar": [
           {
            "marker": {
             "colorbar": {
              "outlinewidth": 0,
              "ticks": ""
             }
            },
            "type": "scatterpolar"
           }
          ],
          "scatterpolargl": [
           {
            "marker": {
             "colorbar": {
              "outlinewidth": 0,
              "ticks": ""
             }
            },
            "type": "scatterpolargl"
           }
          ],
          "scatterternary": [
           {
            "marker": {
             "colorbar": {
              "outlinewidth": 0,
              "ticks": ""
             }
            },
            "type": "scatterternary"
           }
          ],
          "surface": [
           {
            "colorbar": {
             "outlinewidth": 0,
             "ticks": ""
            },
            "colorscale": [
             [
              0,
              "#0d0887"
             ],
             [
              0.1111111111111111,
              "#46039f"
             ],
             [
              0.2222222222222222,
              "#7201a8"
             ],
             [
              0.3333333333333333,
              "#9c179e"
             ],
             [
              0.4444444444444444,
              "#bd3786"
             ],
             [
              0.5555555555555556,
              "#d8576b"
             ],
             [
              0.6666666666666666,
              "#ed7953"
             ],
             [
              0.7777777777777778,
              "#fb9f3a"
             ],
             [
              0.8888888888888888,
              "#fdca26"
             ],
             [
              1,
              "#f0f921"
             ]
            ],
            "type": "surface"
           }
          ],
          "table": [
           {
            "cells": {
             "fill": {
              "color": "#EBF0F8"
             },
             "line": {
              "color": "white"
             }
            },
            "header": {
             "fill": {
              "color": "#C8D4E3"
             },
             "line": {
              "color": "white"
             }
            },
            "type": "table"
           }
          ]
         },
         "layout": {
          "annotationdefaults": {
           "arrowcolor": "#2a3f5f",
           "arrowhead": 0,
           "arrowwidth": 1
          },
          "autotypenumbers": "strict",
          "coloraxis": {
           "colorbar": {
            "outlinewidth": 0,
            "ticks": ""
           }
          },
          "colorscale": {
           "diverging": [
            [
             0,
             "#8e0152"
            ],
            [
             0.1,
             "#c51b7d"
            ],
            [
             0.2,
             "#de77ae"
            ],
            [
             0.3,
             "#f1b6da"
            ],
            [
             0.4,
             "#fde0ef"
            ],
            [
             0.5,
             "#f7f7f7"
            ],
            [
             0.6,
             "#e6f5d0"
            ],
            [
             0.7,
             "#b8e186"
            ],
            [
             0.8,
             "#7fbc41"
            ],
            [
             0.9,
             "#4d9221"
            ],
            [
             1,
             "#276419"
            ]
           ],
           "sequential": [
            [
             0,
             "#0d0887"
            ],
            [
             0.1111111111111111,
             "#46039f"
            ],
            [
             0.2222222222222222,
             "#7201a8"
            ],
            [
             0.3333333333333333,
             "#9c179e"
            ],
            [
             0.4444444444444444,
             "#bd3786"
            ],
            [
             0.5555555555555556,
             "#d8576b"
            ],
            [
             0.6666666666666666,
             "#ed7953"
            ],
            [
             0.7777777777777778,
             "#fb9f3a"
            ],
            [
             0.8888888888888888,
             "#fdca26"
            ],
            [
             1,
             "#f0f921"
            ]
           ],
           "sequentialminus": [
            [
             0,
             "#0d0887"
            ],
            [
             0.1111111111111111,
             "#46039f"
            ],
            [
             0.2222222222222222,
             "#7201a8"
            ],
            [
             0.3333333333333333,
             "#9c179e"
            ],
            [
             0.4444444444444444,
             "#bd3786"
            ],
            [
             0.5555555555555556,
             "#d8576b"
            ],
            [
             0.6666666666666666,
             "#ed7953"
            ],
            [
             0.7777777777777778,
             "#fb9f3a"
            ],
            [
             0.8888888888888888,
             "#fdca26"
            ],
            [
             1,
             "#f0f921"
            ]
           ]
          },
          "colorway": [
           "#636efa",
           "#EF553B",
           "#00cc96",
           "#ab63fa",
           "#FFA15A",
           "#19d3f3",
           "#FF6692",
           "#B6E880",
           "#FF97FF",
           "#FECB52"
          ],
          "font": {
           "color": "#2a3f5f"
          },
          "geo": {
           "bgcolor": "white",
           "lakecolor": "white",
           "landcolor": "#E5ECF6",
           "showlakes": true,
           "showland": true,
           "subunitcolor": "white"
          },
          "hoverlabel": {
           "align": "left"
          },
          "hovermode": "closest",
          "mapbox": {
           "style": "light"
          },
          "paper_bgcolor": "white",
          "plot_bgcolor": "#E5ECF6",
          "polar": {
           "angularaxis": {
            "gridcolor": "white",
            "linecolor": "white",
            "ticks": ""
           },
           "bgcolor": "#E5ECF6",
           "radialaxis": {
            "gridcolor": "white",
            "linecolor": "white",
            "ticks": ""
           }
          },
          "scene": {
           "xaxis": {
            "backgroundcolor": "#E5ECF6",
            "gridcolor": "white",
            "gridwidth": 2,
            "linecolor": "white",
            "showbackground": true,
            "ticks": "",
            "zerolinecolor": "white"
           },
           "yaxis": {
            "backgroundcolor": "#E5ECF6",
            "gridcolor": "white",
            "gridwidth": 2,
            "linecolor": "white",
            "showbackground": true,
            "ticks": "",
            "zerolinecolor": "white"
           },
           "zaxis": {
            "backgroundcolor": "#E5ECF6",
            "gridcolor": "white",
            "gridwidth": 2,
            "linecolor": "white",
            "showbackground": true,
            "ticks": "",
            "zerolinecolor": "white"
           }
          },
          "shapedefaults": {
           "line": {
            "color": "#2a3f5f"
           }
          },
          "ternary": {
           "aaxis": {
            "gridcolor": "white",
            "linecolor": "white",
            "ticks": ""
           },
           "baxis": {
            "gridcolor": "white",
            "linecolor": "white",
            "ticks": ""
           },
           "bgcolor": "#E5ECF6",
           "caxis": {
            "gridcolor": "white",
            "linecolor": "white",
            "ticks": ""
           }
          },
          "title": {
           "x": 0.05
          },
          "xaxis": {
           "automargin": true,
           "gridcolor": "white",
           "linecolor": "white",
           "ticks": "",
           "title": {
            "standoff": 15
           },
           "zerolinecolor": "white",
           "zerolinewidth": 2
          },
          "yaxis": {
           "automargin": true,
           "gridcolor": "white",
           "linecolor": "white",
           "ticks": "",
           "title": {
            "standoff": 15
           },
           "zerolinecolor": "white",
           "zerolinewidth": 2
          }
         }
        },
        "title": {
         "text": "Verteilung der Popularität nach Krankheitskategorie"
        },
        "violinmode": "overlay",
        "xaxis": {
         "anchor": "y",
         "categoryarray": [
          "Keine/Unbekannt",
          "Herzprobleme",
          "Hüftprobleme",
          "Augenprobleme",
          "Andere",
          "Hautprobleme"
         ],
         "categoryorder": "array",
         "domain": [
          0,
          1
         ],
         "title": {
          "text": "Simplified_Ailments"
         }
        },
        "yaxis": {
         "anchor": "x",
         "autorange": "reversed",
         "domain": [
          0,
          1
         ],
         "title": {
          "text": "popularity ranking"
         }
        }
       }
      }
     },
     "metadata": {},
     "output_type": "display_data"
    }
   ],
   "source": [
    "fig = px.violin(\n",
    "    data,\n",
    "    x='Simplified_Ailments',\n",
    "    y='popularity ranking',\n",
    "    color='Simplified_Ailments',\n",
    "    box=True,\n",
    "    title='Verteilung der Popularität nach Krankheitskategorie'\n",
    ")\n",
    "fig.update_yaxes(autorange='reversed')"
   ]
  },
  {
   "cell_type": "code",
   "execution_count": null,
   "id": "fc24df95",
   "metadata": {},
   "outputs": [],
   "source": []
  }
 ],
 "metadata": {
  "kernelspec": {
   "display_name": "Python 3",
   "language": "python",
   "name": "python3"
  },
  "language_info": {
   "codemirror_mode": {
    "name": "ipython",
    "version": 3
   },
   "file_extension": ".py",
   "mimetype": "text/x-python",
   "name": "python",
   "nbconvert_exporter": "python",
   "pygments_lexer": "ipython3",
   "version": "3.13.2"
  }
 },
 "nbformat": 4,
 "nbformat_minor": 5
}
