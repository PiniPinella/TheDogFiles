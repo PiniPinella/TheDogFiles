{
 "cells": [
  {
   "cell_type": "code",
   "execution_count": 1,
   "id": "94add01f",
   "metadata": {},
   "outputs": [],
   "source": [
    "# Imports\n",
    "import os\n",
    "import pandas as pd\n",
    "import numpy as np\n",
    "import matplotlib.pyplot as plt\n",
    "import seaborn as sns\n",
    "import plotly.express as px\n",
    "import plotly.graph_objects as go "
   ]
  },
  {
   "cell_type": "code",
   "execution_count": 2,
   "id": "35524c75",
   "metadata": {},
   "outputs": [
    {
     "name": "stdout",
     "output_type": "stream",
     "text": [
      "dict_keys(['__name__', '__doc__', '__package__', '__loader__', '__spec__', '__file__', '__cached__', '__builtins__', '_swatches', 'swatches', 'Plotly', 'D3', 'G10', 'T10', 'Alphabet', 'Dark24', 'Light24', 'Alphabet_r', 'D3_r', 'Dark24_r', 'G10_r', 'Light24_r', 'Plotly_r', 'T10_r', 'Set1', 'Pastel1', 'Dark2', 'Set2', 'Pastel2', 'Set3', 'Set1_r', 'Pastel1_r', 'Dark2_r', 'Set2_r', 'Pastel2_r', 'Set3_r', 'Antique', 'Bold', 'Pastel', 'Prism', 'Safe', 'Vivid', 'Antique_r', 'Bold_r', 'Pastel_r', 'Prism_r', 'Safe_r', 'Vivid_r', '__all__'])\n"
     ]
    }
   ],
   "source": [
    "print(px.colors.qualitative.__dict__.keys())"
   ]
  },
  {
   "cell_type": "code",
   "execution_count": 3,
   "id": "339bdd69",
   "metadata": {},
   "outputs": [
    {
     "data": {
      "application/vnd.plotly.v1+json": {
       "config": {
        "plotlyServerURL": "https://plot.ly"
       },
       "data": [],
       "layout": {
        "annotations": [
         {
          "font": {
           "color": "white"
          },
          "showarrow": false,
          "text": "Plotly",
          "x": -0.5,
          "xanchor": "right",
          "y": 0.5,
          "yanchor": "middle"
         },
         {
          "font": {
           "color": "white"
          },
          "showarrow": false,
          "text": "D3",
          "x": -0.5,
          "xanchor": "right",
          "y": 1.5,
          "yanchor": "middle"
         },
         {
          "font": {
           "color": "white"
          },
          "showarrow": false,
          "text": "G10",
          "x": -0.5,
          "xanchor": "right",
          "y": 2.5,
          "yanchor": "middle"
         },
         {
          "font": {
           "color": "white"
          },
          "showarrow": false,
          "text": "T10",
          "x": -0.5,
          "xanchor": "right",
          "y": 3.5,
          "yanchor": "middle"
         },
         {
          "font": {
           "color": "white"
          },
          "showarrow": false,
          "text": "Alphabet",
          "x": -0.5,
          "xanchor": "right",
          "y": 4.5,
          "yanchor": "middle"
         },
         {
          "font": {
           "color": "white"
          },
          "showarrow": false,
          "text": "Dark24",
          "x": -0.5,
          "xanchor": "right",
          "y": 5.5,
          "yanchor": "middle"
         },
         {
          "font": {
           "color": "white"
          },
          "showarrow": false,
          "text": "Light24",
          "x": -0.5,
          "xanchor": "right",
          "y": 6.5,
          "yanchor": "middle"
         },
         {
          "font": {
           "color": "white"
          },
          "showarrow": false,
          "text": "Alphabet_r",
          "x": -0.5,
          "xanchor": "right",
          "y": 7.5,
          "yanchor": "middle"
         },
         {
          "font": {
           "color": "white"
          },
          "showarrow": false,
          "text": "D3_r",
          "x": -0.5,
          "xanchor": "right",
          "y": 8.5,
          "yanchor": "middle"
         },
         {
          "font": {
           "color": "white"
          },
          "showarrow": false,
          "text": "Dark24_r",
          "x": -0.5,
          "xanchor": "right",
          "y": 9.5,
          "yanchor": "middle"
         },
         {
          "font": {
           "color": "white"
          },
          "showarrow": false,
          "text": "G10_r",
          "x": -0.5,
          "xanchor": "right",
          "y": 10.5,
          "yanchor": "middle"
         },
         {
          "font": {
           "color": "white"
          },
          "showarrow": false,
          "text": "Light24_r",
          "x": -0.5,
          "xanchor": "right",
          "y": 11.5,
          "yanchor": "middle"
         },
         {
          "font": {
           "color": "white"
          },
          "showarrow": false,
          "text": "Plotly_r",
          "x": -0.5,
          "xanchor": "right",
          "y": 12.5,
          "yanchor": "middle"
         },
         {
          "font": {
           "color": "white"
          },
          "showarrow": false,
          "text": "T10_r",
          "x": -0.5,
          "xanchor": "right",
          "y": 13.5,
          "yanchor": "middle"
         },
         {
          "font": {
           "color": "white"
          },
          "showarrow": false,
          "text": "Set1",
          "x": -0.5,
          "xanchor": "right",
          "y": 14.5,
          "yanchor": "middle"
         },
         {
          "font": {
           "color": "white"
          },
          "showarrow": false,
          "text": "Pastel1",
          "x": -0.5,
          "xanchor": "right",
          "y": 15.5,
          "yanchor": "middle"
         },
         {
          "font": {
           "color": "white"
          },
          "showarrow": false,
          "text": "Dark2",
          "x": -0.5,
          "xanchor": "right",
          "y": 16.5,
          "yanchor": "middle"
         },
         {
          "font": {
           "color": "white"
          },
          "showarrow": false,
          "text": "Set2",
          "x": -0.5,
          "xanchor": "right",
          "y": 17.5,
          "yanchor": "middle"
         },
         {
          "font": {
           "color": "white"
          },
          "showarrow": false,
          "text": "Pastel2",
          "x": -0.5,
          "xanchor": "right",
          "y": 18.5,
          "yanchor": "middle"
         },
         {
          "font": {
           "color": "white"
          },
          "showarrow": false,
          "text": "Set3",
          "x": -0.5,
          "xanchor": "right",
          "y": 19.5,
          "yanchor": "middle"
         },
         {
          "font": {
           "color": "white"
          },
          "showarrow": false,
          "text": "Set1_r",
          "x": -0.5,
          "xanchor": "right",
          "y": 20.5,
          "yanchor": "middle"
         },
         {
          "font": {
           "color": "white"
          },
          "showarrow": false,
          "text": "Pastel1_r",
          "x": -0.5,
          "xanchor": "right",
          "y": 21.5,
          "yanchor": "middle"
         },
         {
          "font": {
           "color": "white"
          },
          "showarrow": false,
          "text": "Dark2_r",
          "x": -0.5,
          "xanchor": "right",
          "y": 22.5,
          "yanchor": "middle"
         },
         {
          "font": {
           "color": "white"
          },
          "showarrow": false,
          "text": "Set2_r",
          "x": -0.5,
          "xanchor": "right",
          "y": 23.5,
          "yanchor": "middle"
         },
         {
          "font": {
           "color": "white"
          },
          "showarrow": false,
          "text": "Pastel2_r",
          "x": -0.5,
          "xanchor": "right",
          "y": 24.5,
          "yanchor": "middle"
         },
         {
          "font": {
           "color": "white"
          },
          "showarrow": false,
          "text": "Set3_r",
          "x": -0.5,
          "xanchor": "right",
          "y": 25.5,
          "yanchor": "middle"
         },
         {
          "font": {
           "color": "white"
          },
          "showarrow": false,
          "text": "Antique",
          "x": -0.5,
          "xanchor": "right",
          "y": 26.5,
          "yanchor": "middle"
         },
         {
          "font": {
           "color": "white"
          },
          "showarrow": false,
          "text": "Bold",
          "x": -0.5,
          "xanchor": "right",
          "y": 27.5,
          "yanchor": "middle"
         },
         {
          "font": {
           "color": "white"
          },
          "showarrow": false,
          "text": "Pastel",
          "x": -0.5,
          "xanchor": "right",
          "y": 28.5,
          "yanchor": "middle"
         },
         {
          "font": {
           "color": "white"
          },
          "showarrow": false,
          "text": "Prism",
          "x": -0.5,
          "xanchor": "right",
          "y": 29.5,
          "yanchor": "middle"
         },
         {
          "font": {
           "color": "white"
          },
          "showarrow": false,
          "text": "Safe",
          "x": -0.5,
          "xanchor": "right",
          "y": 30.5,
          "yanchor": "middle"
         },
         {
          "font": {
           "color": "white"
          },
          "showarrow": false,
          "text": "Vivid",
          "x": -0.5,
          "xanchor": "right",
          "y": 31.5,
          "yanchor": "middle"
         },
         {
          "font": {
           "color": "white"
          },
          "showarrow": false,
          "text": "Antique_r",
          "x": -0.5,
          "xanchor": "right",
          "y": 32.5,
          "yanchor": "middle"
         },
         {
          "font": {
           "color": "white"
          },
          "showarrow": false,
          "text": "Bold_r",
          "x": -0.5,
          "xanchor": "right",
          "y": 33.5,
          "yanchor": "middle"
         },
         {
          "font": {
           "color": "white"
          },
          "showarrow": false,
          "text": "Pastel_r",
          "x": -0.5,
          "xanchor": "right",
          "y": 34.5,
          "yanchor": "middle"
         },
         {
          "font": {
           "color": "white"
          },
          "showarrow": false,
          "text": "Prism_r",
          "x": -0.5,
          "xanchor": "right",
          "y": 35.5,
          "yanchor": "middle"
         },
         {
          "font": {
           "color": "white"
          },
          "showarrow": false,
          "text": "Safe_r",
          "x": -0.5,
          "xanchor": "right",
          "y": 36.5,
          "yanchor": "middle"
         },
         {
          "font": {
           "color": "white"
          },
          "showarrow": false,
          "text": "Vivid_r",
          "x": -0.5,
          "xanchor": "right",
          "y": 37.5,
          "yanchor": "middle"
         }
        ],
        "height": 1520,
        "margin": {
         "l": 100,
         "t": 40
        },
        "paper_bgcolor": "black",
        "plot_bgcolor": "black",
        "shapes": [
         {
          "fillcolor": "#636EFA",
          "line": {
           "width": 0
          },
          "type": "rect",
          "x0": 0,
          "x1": 1,
          "xref": "x",
          "y0": 0,
          "y1": 1,
          "yref": "y"
         },
         {
          "fillcolor": "#EF553B",
          "line": {
           "width": 0
          },
          "type": "rect",
          "x0": 1,
          "x1": 2,
          "xref": "x",
          "y0": 0,
          "y1": 1,
          "yref": "y"
         },
         {
          "fillcolor": "#00CC96",
          "line": {
           "width": 0
          },
          "type": "rect",
          "x0": 2,
          "x1": 3,
          "xref": "x",
          "y0": 0,
          "y1": 1,
          "yref": "y"
         },
         {
          "fillcolor": "#AB63FA",
          "line": {
           "width": 0
          },
          "type": "rect",
          "x0": 3,
          "x1": 4,
          "xref": "x",
          "y0": 0,
          "y1": 1,
          "yref": "y"
         },
         {
          "fillcolor": "#FFA15A",
          "line": {
           "width": 0
          },
          "type": "rect",
          "x0": 4,
          "x1": 5,
          "xref": "x",
          "y0": 0,
          "y1": 1,
          "yref": "y"
         },
         {
          "fillcolor": "#19D3F3",
          "line": {
           "width": 0
          },
          "type": "rect",
          "x0": 5,
          "x1": 6,
          "xref": "x",
          "y0": 0,
          "y1": 1,
          "yref": "y"
         },
         {
          "fillcolor": "#FF6692",
          "line": {
           "width": 0
          },
          "type": "rect",
          "x0": 6,
          "x1": 7,
          "xref": "x",
          "y0": 0,
          "y1": 1,
          "yref": "y"
         },
         {
          "fillcolor": "#B6E880",
          "line": {
           "width": 0
          },
          "type": "rect",
          "x0": 7,
          "x1": 8,
          "xref": "x",
          "y0": 0,
          "y1": 1,
          "yref": "y"
         },
         {
          "fillcolor": "#FF97FF",
          "line": {
           "width": 0
          },
          "type": "rect",
          "x0": 8,
          "x1": 9,
          "xref": "x",
          "y0": 0,
          "y1": 1,
          "yref": "y"
         },
         {
          "fillcolor": "#FECB52",
          "line": {
           "width": 0
          },
          "type": "rect",
          "x0": 9,
          "x1": 10,
          "xref": "x",
          "y0": 0,
          "y1": 1,
          "yref": "y"
         },
         {
          "fillcolor": "#1F77B4",
          "line": {
           "width": 0
          },
          "type": "rect",
          "x0": 0,
          "x1": 1,
          "xref": "x",
          "y0": 1,
          "y1": 2,
          "yref": "y"
         },
         {
          "fillcolor": "#FF7F0E",
          "line": {
           "width": 0
          },
          "type": "rect",
          "x0": 1,
          "x1": 2,
          "xref": "x",
          "y0": 1,
          "y1": 2,
          "yref": "y"
         },
         {
          "fillcolor": "#2CA02C",
          "line": {
           "width": 0
          },
          "type": "rect",
          "x0": 2,
          "x1": 3,
          "xref": "x",
          "y0": 1,
          "y1": 2,
          "yref": "y"
         },
         {
          "fillcolor": "#D62728",
          "line": {
           "width": 0
          },
          "type": "rect",
          "x0": 3,
          "x1": 4,
          "xref": "x",
          "y0": 1,
          "y1": 2,
          "yref": "y"
         },
         {
          "fillcolor": "#9467BD",
          "line": {
           "width": 0
          },
          "type": "rect",
          "x0": 4,
          "x1": 5,
          "xref": "x",
          "y0": 1,
          "y1": 2,
          "yref": "y"
         },
         {
          "fillcolor": "#8C564B",
          "line": {
           "width": 0
          },
          "type": "rect",
          "x0": 5,
          "x1": 6,
          "xref": "x",
          "y0": 1,
          "y1": 2,
          "yref": "y"
         },
         {
          "fillcolor": "#E377C2",
          "line": {
           "width": 0
          },
          "type": "rect",
          "x0": 6,
          "x1": 7,
          "xref": "x",
          "y0": 1,
          "y1": 2,
          "yref": "y"
         },
         {
          "fillcolor": "#7F7F7F",
          "line": {
           "width": 0
          },
          "type": "rect",
          "x0": 7,
          "x1": 8,
          "xref": "x",
          "y0": 1,
          "y1": 2,
          "yref": "y"
         },
         {
          "fillcolor": "#BCBD22",
          "line": {
           "width": 0
          },
          "type": "rect",
          "x0": 8,
          "x1": 9,
          "xref": "x",
          "y0": 1,
          "y1": 2,
          "yref": "y"
         },
         {
          "fillcolor": "#17BECF",
          "line": {
           "width": 0
          },
          "type": "rect",
          "x0": 9,
          "x1": 10,
          "xref": "x",
          "y0": 1,
          "y1": 2,
          "yref": "y"
         },
         {
          "fillcolor": "#3366CC",
          "line": {
           "width": 0
          },
          "type": "rect",
          "x0": 0,
          "x1": 1,
          "xref": "x",
          "y0": 2,
          "y1": 3,
          "yref": "y"
         },
         {
          "fillcolor": "#DC3912",
          "line": {
           "width": 0
          },
          "type": "rect",
          "x0": 1,
          "x1": 2,
          "xref": "x",
          "y0": 2,
          "y1": 3,
          "yref": "y"
         },
         {
          "fillcolor": "#FF9900",
          "line": {
           "width": 0
          },
          "type": "rect",
          "x0": 2,
          "x1": 3,
          "xref": "x",
          "y0": 2,
          "y1": 3,
          "yref": "y"
         },
         {
          "fillcolor": "#109618",
          "line": {
           "width": 0
          },
          "type": "rect",
          "x0": 3,
          "x1": 4,
          "xref": "x",
          "y0": 2,
          "y1": 3,
          "yref": "y"
         },
         {
          "fillcolor": "#990099",
          "line": {
           "width": 0
          },
          "type": "rect",
          "x0": 4,
          "x1": 5,
          "xref": "x",
          "y0": 2,
          "y1": 3,
          "yref": "y"
         },
         {
          "fillcolor": "#0099C6",
          "line": {
           "width": 0
          },
          "type": "rect",
          "x0": 5,
          "x1": 6,
          "xref": "x",
          "y0": 2,
          "y1": 3,
          "yref": "y"
         },
         {
          "fillcolor": "#DD4477",
          "line": {
           "width": 0
          },
          "type": "rect",
          "x0": 6,
          "x1": 7,
          "xref": "x",
          "y0": 2,
          "y1": 3,
          "yref": "y"
         },
         {
          "fillcolor": "#66AA00",
          "line": {
           "width": 0
          },
          "type": "rect",
          "x0": 7,
          "x1": 8,
          "xref": "x",
          "y0": 2,
          "y1": 3,
          "yref": "y"
         },
         {
          "fillcolor": "#B82E2E",
          "line": {
           "width": 0
          },
          "type": "rect",
          "x0": 8,
          "x1": 9,
          "xref": "x",
          "y0": 2,
          "y1": 3,
          "yref": "y"
         },
         {
          "fillcolor": "#316395",
          "line": {
           "width": 0
          },
          "type": "rect",
          "x0": 9,
          "x1": 10,
          "xref": "x",
          "y0": 2,
          "y1": 3,
          "yref": "y"
         },
         {
          "fillcolor": "#4C78A8",
          "line": {
           "width": 0
          },
          "type": "rect",
          "x0": 0,
          "x1": 1,
          "xref": "x",
          "y0": 3,
          "y1": 4,
          "yref": "y"
         },
         {
          "fillcolor": "#F58518",
          "line": {
           "width": 0
          },
          "type": "rect",
          "x0": 1,
          "x1": 2,
          "xref": "x",
          "y0": 3,
          "y1": 4,
          "yref": "y"
         },
         {
          "fillcolor": "#E45756",
          "line": {
           "width": 0
          },
          "type": "rect",
          "x0": 2,
          "x1": 3,
          "xref": "x",
          "y0": 3,
          "y1": 4,
          "yref": "y"
         },
         {
          "fillcolor": "#72B7B2",
          "line": {
           "width": 0
          },
          "type": "rect",
          "x0": 3,
          "x1": 4,
          "xref": "x",
          "y0": 3,
          "y1": 4,
          "yref": "y"
         },
         {
          "fillcolor": "#54A24B",
          "line": {
           "width": 0
          },
          "type": "rect",
          "x0": 4,
          "x1": 5,
          "xref": "x",
          "y0": 3,
          "y1": 4,
          "yref": "y"
         },
         {
          "fillcolor": "#EECA3B",
          "line": {
           "width": 0
          },
          "type": "rect",
          "x0": 5,
          "x1": 6,
          "xref": "x",
          "y0": 3,
          "y1": 4,
          "yref": "y"
         },
         {
          "fillcolor": "#B279A2",
          "line": {
           "width": 0
          },
          "type": "rect",
          "x0": 6,
          "x1": 7,
          "xref": "x",
          "y0": 3,
          "y1": 4,
          "yref": "y"
         },
         {
          "fillcolor": "#FF9DA6",
          "line": {
           "width": 0
          },
          "type": "rect",
          "x0": 7,
          "x1": 8,
          "xref": "x",
          "y0": 3,
          "y1": 4,
          "yref": "y"
         },
         {
          "fillcolor": "#9D755D",
          "line": {
           "width": 0
          },
          "type": "rect",
          "x0": 8,
          "x1": 9,
          "xref": "x",
          "y0": 3,
          "y1": 4,
          "yref": "y"
         },
         {
          "fillcolor": "#BAB0AC",
          "line": {
           "width": 0
          },
          "type": "rect",
          "x0": 9,
          "x1": 10,
          "xref": "x",
          "y0": 3,
          "y1": 4,
          "yref": "y"
         },
         {
          "fillcolor": "#AA0DFE",
          "line": {
           "width": 0
          },
          "type": "rect",
          "x0": 0,
          "x1": 1,
          "xref": "x",
          "y0": 4,
          "y1": 5,
          "yref": "y"
         },
         {
          "fillcolor": "#3283FE",
          "line": {
           "width": 0
          },
          "type": "rect",
          "x0": 1,
          "x1": 2,
          "xref": "x",
          "y0": 4,
          "y1": 5,
          "yref": "y"
         },
         {
          "fillcolor": "#85660D",
          "line": {
           "width": 0
          },
          "type": "rect",
          "x0": 2,
          "x1": 3,
          "xref": "x",
          "y0": 4,
          "y1": 5,
          "yref": "y"
         },
         {
          "fillcolor": "#782AB6",
          "line": {
           "width": 0
          },
          "type": "rect",
          "x0": 3,
          "x1": 4,
          "xref": "x",
          "y0": 4,
          "y1": 5,
          "yref": "y"
         },
         {
          "fillcolor": "#565656",
          "line": {
           "width": 0
          },
          "type": "rect",
          "x0": 4,
          "x1": 5,
          "xref": "x",
          "y0": 4,
          "y1": 5,
          "yref": "y"
         },
         {
          "fillcolor": "#1C8356",
          "line": {
           "width": 0
          },
          "type": "rect",
          "x0": 5,
          "x1": 6,
          "xref": "x",
          "y0": 4,
          "y1": 5,
          "yref": "y"
         },
         {
          "fillcolor": "#16FF32",
          "line": {
           "width": 0
          },
          "type": "rect",
          "x0": 6,
          "x1": 7,
          "xref": "x",
          "y0": 4,
          "y1": 5,
          "yref": "y"
         },
         {
          "fillcolor": "#F7E1A0",
          "line": {
           "width": 0
          },
          "type": "rect",
          "x0": 7,
          "x1": 8,
          "xref": "x",
          "y0": 4,
          "y1": 5,
          "yref": "y"
         },
         {
          "fillcolor": "#E2E2E2",
          "line": {
           "width": 0
          },
          "type": "rect",
          "x0": 8,
          "x1": 9,
          "xref": "x",
          "y0": 4,
          "y1": 5,
          "yref": "y"
         },
         {
          "fillcolor": "#1CBE4F",
          "line": {
           "width": 0
          },
          "type": "rect",
          "x0": 9,
          "x1": 10,
          "xref": "x",
          "y0": 4,
          "y1": 5,
          "yref": "y"
         },
         {
          "fillcolor": "#C4451C",
          "line": {
           "width": 0
          },
          "type": "rect",
          "x0": 10,
          "x1": 11,
          "xref": "x",
          "y0": 4,
          "y1": 5,
          "yref": "y"
         },
         {
          "fillcolor": "#DEA0FD",
          "line": {
           "width": 0
          },
          "type": "rect",
          "x0": 11,
          "x1": 12,
          "xref": "x",
          "y0": 4,
          "y1": 5,
          "yref": "y"
         },
         {
          "fillcolor": "#FE00FA",
          "line": {
           "width": 0
          },
          "type": "rect",
          "x0": 12,
          "x1": 13,
          "xref": "x",
          "y0": 4,
          "y1": 5,
          "yref": "y"
         },
         {
          "fillcolor": "#325A9B",
          "line": {
           "width": 0
          },
          "type": "rect",
          "x0": 13,
          "x1": 14,
          "xref": "x",
          "y0": 4,
          "y1": 5,
          "yref": "y"
         },
         {
          "fillcolor": "#FEAF16",
          "line": {
           "width": 0
          },
          "type": "rect",
          "x0": 14,
          "x1": 15,
          "xref": "x",
          "y0": 4,
          "y1": 5,
          "yref": "y"
         },
         {
          "fillcolor": "#F8A19F",
          "line": {
           "width": 0
          },
          "type": "rect",
          "x0": 15,
          "x1": 16,
          "xref": "x",
          "y0": 4,
          "y1": 5,
          "yref": "y"
         },
         {
          "fillcolor": "#90AD1C",
          "line": {
           "width": 0
          },
          "type": "rect",
          "x0": 16,
          "x1": 17,
          "xref": "x",
          "y0": 4,
          "y1": 5,
          "yref": "y"
         },
         {
          "fillcolor": "#F6222E",
          "line": {
           "width": 0
          },
          "type": "rect",
          "x0": 17,
          "x1": 18,
          "xref": "x",
          "y0": 4,
          "y1": 5,
          "yref": "y"
         },
         {
          "fillcolor": "#1CFFCE",
          "line": {
           "width": 0
          },
          "type": "rect",
          "x0": 18,
          "x1": 19,
          "xref": "x",
          "y0": 4,
          "y1": 5,
          "yref": "y"
         },
         {
          "fillcolor": "#2ED9FF",
          "line": {
           "width": 0
          },
          "type": "rect",
          "x0": 19,
          "x1": 20,
          "xref": "x",
          "y0": 4,
          "y1": 5,
          "yref": "y"
         },
         {
          "fillcolor": "#B10DA1",
          "line": {
           "width": 0
          },
          "type": "rect",
          "x0": 20,
          "x1": 21,
          "xref": "x",
          "y0": 4,
          "y1": 5,
          "yref": "y"
         },
         {
          "fillcolor": "#C075A6",
          "line": {
           "width": 0
          },
          "type": "rect",
          "x0": 21,
          "x1": 22,
          "xref": "x",
          "y0": 4,
          "y1": 5,
          "yref": "y"
         },
         {
          "fillcolor": "#FC1CBF",
          "line": {
           "width": 0
          },
          "type": "rect",
          "x0": 22,
          "x1": 23,
          "xref": "x",
          "y0": 4,
          "y1": 5,
          "yref": "y"
         },
         {
          "fillcolor": "#B00068",
          "line": {
           "width": 0
          },
          "type": "rect",
          "x0": 23,
          "x1": 24,
          "xref": "x",
          "y0": 4,
          "y1": 5,
          "yref": "y"
         },
         {
          "fillcolor": "#FBE426",
          "line": {
           "width": 0
          },
          "type": "rect",
          "x0": 24,
          "x1": 25,
          "xref": "x",
          "y0": 4,
          "y1": 5,
          "yref": "y"
         },
         {
          "fillcolor": "#FA0087",
          "line": {
           "width": 0
          },
          "type": "rect",
          "x0": 25,
          "x1": 26,
          "xref": "x",
          "y0": 4,
          "y1": 5,
          "yref": "y"
         },
         {
          "fillcolor": "#2E91E5",
          "line": {
           "width": 0
          },
          "type": "rect",
          "x0": 0,
          "x1": 1,
          "xref": "x",
          "y0": 5,
          "y1": 6,
          "yref": "y"
         },
         {
          "fillcolor": "#E15F99",
          "line": {
           "width": 0
          },
          "type": "rect",
          "x0": 1,
          "x1": 2,
          "xref": "x",
          "y0": 5,
          "y1": 6,
          "yref": "y"
         },
         {
          "fillcolor": "#1CA71C",
          "line": {
           "width": 0
          },
          "type": "rect",
          "x0": 2,
          "x1": 3,
          "xref": "x",
          "y0": 5,
          "y1": 6,
          "yref": "y"
         },
         {
          "fillcolor": "#FB0D0D",
          "line": {
           "width": 0
          },
          "type": "rect",
          "x0": 3,
          "x1": 4,
          "xref": "x",
          "y0": 5,
          "y1": 6,
          "yref": "y"
         },
         {
          "fillcolor": "#DA16FF",
          "line": {
           "width": 0
          },
          "type": "rect",
          "x0": 4,
          "x1": 5,
          "xref": "x",
          "y0": 5,
          "y1": 6,
          "yref": "y"
         },
         {
          "fillcolor": "#222A2A",
          "line": {
           "width": 0
          },
          "type": "rect",
          "x0": 5,
          "x1": 6,
          "xref": "x",
          "y0": 5,
          "y1": 6,
          "yref": "y"
         },
         {
          "fillcolor": "#B68100",
          "line": {
           "width": 0
          },
          "type": "rect",
          "x0": 6,
          "x1": 7,
          "xref": "x",
          "y0": 5,
          "y1": 6,
          "yref": "y"
         },
         {
          "fillcolor": "#750D86",
          "line": {
           "width": 0
          },
          "type": "rect",
          "x0": 7,
          "x1": 8,
          "xref": "x",
          "y0": 5,
          "y1": 6,
          "yref": "y"
         },
         {
          "fillcolor": "#EB663B",
          "line": {
           "width": 0
          },
          "type": "rect",
          "x0": 8,
          "x1": 9,
          "xref": "x",
          "y0": 5,
          "y1": 6,
          "yref": "y"
         },
         {
          "fillcolor": "#511CFB",
          "line": {
           "width": 0
          },
          "type": "rect",
          "x0": 9,
          "x1": 10,
          "xref": "x",
          "y0": 5,
          "y1": 6,
          "yref": "y"
         },
         {
          "fillcolor": "#00A08B",
          "line": {
           "width": 0
          },
          "type": "rect",
          "x0": 10,
          "x1": 11,
          "xref": "x",
          "y0": 5,
          "y1": 6,
          "yref": "y"
         },
         {
          "fillcolor": "#FB00D1",
          "line": {
           "width": 0
          },
          "type": "rect",
          "x0": 11,
          "x1": 12,
          "xref": "x",
          "y0": 5,
          "y1": 6,
          "yref": "y"
         },
         {
          "fillcolor": "#FC0080",
          "line": {
           "width": 0
          },
          "type": "rect",
          "x0": 12,
          "x1": 13,
          "xref": "x",
          "y0": 5,
          "y1": 6,
          "yref": "y"
         },
         {
          "fillcolor": "#B2828D",
          "line": {
           "width": 0
          },
          "type": "rect",
          "x0": 13,
          "x1": 14,
          "xref": "x",
          "y0": 5,
          "y1": 6,
          "yref": "y"
         },
         {
          "fillcolor": "#6C7C32",
          "line": {
           "width": 0
          },
          "type": "rect",
          "x0": 14,
          "x1": 15,
          "xref": "x",
          "y0": 5,
          "y1": 6,
          "yref": "y"
         },
         {
          "fillcolor": "#778AAE",
          "line": {
           "width": 0
          },
          "type": "rect",
          "x0": 15,
          "x1": 16,
          "xref": "x",
          "y0": 5,
          "y1": 6,
          "yref": "y"
         },
         {
          "fillcolor": "#862A16",
          "line": {
           "width": 0
          },
          "type": "rect",
          "x0": 16,
          "x1": 17,
          "xref": "x",
          "y0": 5,
          "y1": 6,
          "yref": "y"
         },
         {
          "fillcolor": "#A777F1",
          "line": {
           "width": 0
          },
          "type": "rect",
          "x0": 17,
          "x1": 18,
          "xref": "x",
          "y0": 5,
          "y1": 6,
          "yref": "y"
         },
         {
          "fillcolor": "#620042",
          "line": {
           "width": 0
          },
          "type": "rect",
          "x0": 18,
          "x1": 19,
          "xref": "x",
          "y0": 5,
          "y1": 6,
          "yref": "y"
         },
         {
          "fillcolor": "#1616A7",
          "line": {
           "width": 0
          },
          "type": "rect",
          "x0": 19,
          "x1": 20,
          "xref": "x",
          "y0": 5,
          "y1": 6,
          "yref": "y"
         },
         {
          "fillcolor": "#DA60CA",
          "line": {
           "width": 0
          },
          "type": "rect",
          "x0": 20,
          "x1": 21,
          "xref": "x",
          "y0": 5,
          "y1": 6,
          "yref": "y"
         },
         {
          "fillcolor": "#6C4516",
          "line": {
           "width": 0
          },
          "type": "rect",
          "x0": 21,
          "x1": 22,
          "xref": "x",
          "y0": 5,
          "y1": 6,
          "yref": "y"
         },
         {
          "fillcolor": "#0D2A63",
          "line": {
           "width": 0
          },
          "type": "rect",
          "x0": 22,
          "x1": 23,
          "xref": "x",
          "y0": 5,
          "y1": 6,
          "yref": "y"
         },
         {
          "fillcolor": "#AF0038",
          "line": {
           "width": 0
          },
          "type": "rect",
          "x0": 23,
          "x1": 24,
          "xref": "x",
          "y0": 5,
          "y1": 6,
          "yref": "y"
         },
         {
          "fillcolor": "#FD3216",
          "line": {
           "width": 0
          },
          "type": "rect",
          "x0": 0,
          "x1": 1,
          "xref": "x",
          "y0": 6,
          "y1": 7,
          "yref": "y"
         },
         {
          "fillcolor": "#00FE35",
          "line": {
           "width": 0
          },
          "type": "rect",
          "x0": 1,
          "x1": 2,
          "xref": "x",
          "y0": 6,
          "y1": 7,
          "yref": "y"
         },
         {
          "fillcolor": "#6A76FC",
          "line": {
           "width": 0
          },
          "type": "rect",
          "x0": 2,
          "x1": 3,
          "xref": "x",
          "y0": 6,
          "y1": 7,
          "yref": "y"
         },
         {
          "fillcolor": "#FED4C4",
          "line": {
           "width": 0
          },
          "type": "rect",
          "x0": 3,
          "x1": 4,
          "xref": "x",
          "y0": 6,
          "y1": 7,
          "yref": "y"
         },
         {
          "fillcolor": "#FE00CE",
          "line": {
           "width": 0
          },
          "type": "rect",
          "x0": 4,
          "x1": 5,
          "xref": "x",
          "y0": 6,
          "y1": 7,
          "yref": "y"
         },
         {
          "fillcolor": "#0DF9FF",
          "line": {
           "width": 0
          },
          "type": "rect",
          "x0": 5,
          "x1": 6,
          "xref": "x",
          "y0": 6,
          "y1": 7,
          "yref": "y"
         },
         {
          "fillcolor": "#F6F926",
          "line": {
           "width": 0
          },
          "type": "rect",
          "x0": 6,
          "x1": 7,
          "xref": "x",
          "y0": 6,
          "y1": 7,
          "yref": "y"
         },
         {
          "fillcolor": "#FF9616",
          "line": {
           "width": 0
          },
          "type": "rect",
          "x0": 7,
          "x1": 8,
          "xref": "x",
          "y0": 6,
          "y1": 7,
          "yref": "y"
         },
         {
          "fillcolor": "#479B55",
          "line": {
           "width": 0
          },
          "type": "rect",
          "x0": 8,
          "x1": 9,
          "xref": "x",
          "y0": 6,
          "y1": 7,
          "yref": "y"
         },
         {
          "fillcolor": "#EEA6FB",
          "line": {
           "width": 0
          },
          "type": "rect",
          "x0": 9,
          "x1": 10,
          "xref": "x",
          "y0": 6,
          "y1": 7,
          "yref": "y"
         },
         {
          "fillcolor": "#DC587D",
          "line": {
           "width": 0
          },
          "type": "rect",
          "x0": 10,
          "x1": 11,
          "xref": "x",
          "y0": 6,
          "y1": 7,
          "yref": "y"
         },
         {
          "fillcolor": "#D626FF",
          "line": {
           "width": 0
          },
          "type": "rect",
          "x0": 11,
          "x1": 12,
          "xref": "x",
          "y0": 6,
          "y1": 7,
          "yref": "y"
         },
         {
          "fillcolor": "#6E899C",
          "line": {
           "width": 0
          },
          "type": "rect",
          "x0": 12,
          "x1": 13,
          "xref": "x",
          "y0": 6,
          "y1": 7,
          "yref": "y"
         },
         {
          "fillcolor": "#00B5F7",
          "line": {
           "width": 0
          },
          "type": "rect",
          "x0": 13,
          "x1": 14,
          "xref": "x",
          "y0": 6,
          "y1": 7,
          "yref": "y"
         },
         {
          "fillcolor": "#B68E00",
          "line": {
           "width": 0
          },
          "type": "rect",
          "x0": 14,
          "x1": 15,
          "xref": "x",
          "y0": 6,
          "y1": 7,
          "yref": "y"
         },
         {
          "fillcolor": "#C9FBE5",
          "line": {
           "width": 0
          },
          "type": "rect",
          "x0": 15,
          "x1": 16,
          "xref": "x",
          "y0": 6,
          "y1": 7,
          "yref": "y"
         },
         {
          "fillcolor": "#FF0092",
          "line": {
           "width": 0
          },
          "type": "rect",
          "x0": 16,
          "x1": 17,
          "xref": "x",
          "y0": 6,
          "y1": 7,
          "yref": "y"
         },
         {
          "fillcolor": "#22FFA7",
          "line": {
           "width": 0
          },
          "type": "rect",
          "x0": 17,
          "x1": 18,
          "xref": "x",
          "y0": 6,
          "y1": 7,
          "yref": "y"
         },
         {
          "fillcolor": "#E3EE9E",
          "line": {
           "width": 0
          },
          "type": "rect",
          "x0": 18,
          "x1": 19,
          "xref": "x",
          "y0": 6,
          "y1": 7,
          "yref": "y"
         },
         {
          "fillcolor": "#86CE00",
          "line": {
           "width": 0
          },
          "type": "rect",
          "x0": 19,
          "x1": 20,
          "xref": "x",
          "y0": 6,
          "y1": 7,
          "yref": "y"
         },
         {
          "fillcolor": "#BC7196",
          "line": {
           "width": 0
          },
          "type": "rect",
          "x0": 20,
          "x1": 21,
          "xref": "x",
          "y0": 6,
          "y1": 7,
          "yref": "y"
         },
         {
          "fillcolor": "#7E7DCD",
          "line": {
           "width": 0
          },
          "type": "rect",
          "x0": 21,
          "x1": 22,
          "xref": "x",
          "y0": 6,
          "y1": 7,
          "yref": "y"
         },
         {
          "fillcolor": "#FC6955",
          "line": {
           "width": 0
          },
          "type": "rect",
          "x0": 22,
          "x1": 23,
          "xref": "x",
          "y0": 6,
          "y1": 7,
          "yref": "y"
         },
         {
          "fillcolor": "#E48F72",
          "line": {
           "width": 0
          },
          "type": "rect",
          "x0": 23,
          "x1": 24,
          "xref": "x",
          "y0": 6,
          "y1": 7,
          "yref": "y"
         },
         {
          "fillcolor": "#FA0087",
          "line": {
           "width": 0
          },
          "type": "rect",
          "x0": 0,
          "x1": 1,
          "xref": "x",
          "y0": 7,
          "y1": 8,
          "yref": "y"
         },
         {
          "fillcolor": "#FBE426",
          "line": {
           "width": 0
          },
          "type": "rect",
          "x0": 1,
          "x1": 2,
          "xref": "x",
          "y0": 7,
          "y1": 8,
          "yref": "y"
         },
         {
          "fillcolor": "#B00068",
          "line": {
           "width": 0
          },
          "type": "rect",
          "x0": 2,
          "x1": 3,
          "xref": "x",
          "y0": 7,
          "y1": 8,
          "yref": "y"
         },
         {
          "fillcolor": "#FC1CBF",
          "line": {
           "width": 0
          },
          "type": "rect",
          "x0": 3,
          "x1": 4,
          "xref": "x",
          "y0": 7,
          "y1": 8,
          "yref": "y"
         },
         {
          "fillcolor": "#C075A6",
          "line": {
           "width": 0
          },
          "type": "rect",
          "x0": 4,
          "x1": 5,
          "xref": "x",
          "y0": 7,
          "y1": 8,
          "yref": "y"
         },
         {
          "fillcolor": "#B10DA1",
          "line": {
           "width": 0
          },
          "type": "rect",
          "x0": 5,
          "x1": 6,
          "xref": "x",
          "y0": 7,
          "y1": 8,
          "yref": "y"
         },
         {
          "fillcolor": "#2ED9FF",
          "line": {
           "width": 0
          },
          "type": "rect",
          "x0": 6,
          "x1": 7,
          "xref": "x",
          "y0": 7,
          "y1": 8,
          "yref": "y"
         },
         {
          "fillcolor": "#1CFFCE",
          "line": {
           "width": 0
          },
          "type": "rect",
          "x0": 7,
          "x1": 8,
          "xref": "x",
          "y0": 7,
          "y1": 8,
          "yref": "y"
         },
         {
          "fillcolor": "#F6222E",
          "line": {
           "width": 0
          },
          "type": "rect",
          "x0": 8,
          "x1": 9,
          "xref": "x",
          "y0": 7,
          "y1": 8,
          "yref": "y"
         },
         {
          "fillcolor": "#90AD1C",
          "line": {
           "width": 0
          },
          "type": "rect",
          "x0": 9,
          "x1": 10,
          "xref": "x",
          "y0": 7,
          "y1": 8,
          "yref": "y"
         },
         {
          "fillcolor": "#F8A19F",
          "line": {
           "width": 0
          },
          "type": "rect",
          "x0": 10,
          "x1": 11,
          "xref": "x",
          "y0": 7,
          "y1": 8,
          "yref": "y"
         },
         {
          "fillcolor": "#FEAF16",
          "line": {
           "width": 0
          },
          "type": "rect",
          "x0": 11,
          "x1": 12,
          "xref": "x",
          "y0": 7,
          "y1": 8,
          "yref": "y"
         },
         {
          "fillcolor": "#325A9B",
          "line": {
           "width": 0
          },
          "type": "rect",
          "x0": 12,
          "x1": 13,
          "xref": "x",
          "y0": 7,
          "y1": 8,
          "yref": "y"
         },
         {
          "fillcolor": "#FE00FA",
          "line": {
           "width": 0
          },
          "type": "rect",
          "x0": 13,
          "x1": 14,
          "xref": "x",
          "y0": 7,
          "y1": 8,
          "yref": "y"
         },
         {
          "fillcolor": "#DEA0FD",
          "line": {
           "width": 0
          },
          "type": "rect",
          "x0": 14,
          "x1": 15,
          "xref": "x",
          "y0": 7,
          "y1": 8,
          "yref": "y"
         },
         {
          "fillcolor": "#C4451C",
          "line": {
           "width": 0
          },
          "type": "rect",
          "x0": 15,
          "x1": 16,
          "xref": "x",
          "y0": 7,
          "y1": 8,
          "yref": "y"
         },
         {
          "fillcolor": "#1CBE4F",
          "line": {
           "width": 0
          },
          "type": "rect",
          "x0": 16,
          "x1": 17,
          "xref": "x",
          "y0": 7,
          "y1": 8,
          "yref": "y"
         },
         {
          "fillcolor": "#E2E2E2",
          "line": {
           "width": 0
          },
          "type": "rect",
          "x0": 17,
          "x1": 18,
          "xref": "x",
          "y0": 7,
          "y1": 8,
          "yref": "y"
         },
         {
          "fillcolor": "#F7E1A0",
          "line": {
           "width": 0
          },
          "type": "rect",
          "x0": 18,
          "x1": 19,
          "xref": "x",
          "y0": 7,
          "y1": 8,
          "yref": "y"
         },
         {
          "fillcolor": "#16FF32",
          "line": {
           "width": 0
          },
          "type": "rect",
          "x0": 19,
          "x1": 20,
          "xref": "x",
          "y0": 7,
          "y1": 8,
          "yref": "y"
         },
         {
          "fillcolor": "#1C8356",
          "line": {
           "width": 0
          },
          "type": "rect",
          "x0": 20,
          "x1": 21,
          "xref": "x",
          "y0": 7,
          "y1": 8,
          "yref": "y"
         },
         {
          "fillcolor": "#565656",
          "line": {
           "width": 0
          },
          "type": "rect",
          "x0": 21,
          "x1": 22,
          "xref": "x",
          "y0": 7,
          "y1": 8,
          "yref": "y"
         },
         {
          "fillcolor": "#782AB6",
          "line": {
           "width": 0
          },
          "type": "rect",
          "x0": 22,
          "x1": 23,
          "xref": "x",
          "y0": 7,
          "y1": 8,
          "yref": "y"
         },
         {
          "fillcolor": "#85660D",
          "line": {
           "width": 0
          },
          "type": "rect",
          "x0": 23,
          "x1": 24,
          "xref": "x",
          "y0": 7,
          "y1": 8,
          "yref": "y"
         },
         {
          "fillcolor": "#3283FE",
          "line": {
           "width": 0
          },
          "type": "rect",
          "x0": 24,
          "x1": 25,
          "xref": "x",
          "y0": 7,
          "y1": 8,
          "yref": "y"
         },
         {
          "fillcolor": "#AA0DFE",
          "line": {
           "width": 0
          },
          "type": "rect",
          "x0": 25,
          "x1": 26,
          "xref": "x",
          "y0": 7,
          "y1": 8,
          "yref": "y"
         },
         {
          "fillcolor": "#17BECF",
          "line": {
           "width": 0
          },
          "type": "rect",
          "x0": 0,
          "x1": 1,
          "xref": "x",
          "y0": 8,
          "y1": 9,
          "yref": "y"
         },
         {
          "fillcolor": "#BCBD22",
          "line": {
           "width": 0
          },
          "type": "rect",
          "x0": 1,
          "x1": 2,
          "xref": "x",
          "y0": 8,
          "y1": 9,
          "yref": "y"
         },
         {
          "fillcolor": "#7F7F7F",
          "line": {
           "width": 0
          },
          "type": "rect",
          "x0": 2,
          "x1": 3,
          "xref": "x",
          "y0": 8,
          "y1": 9,
          "yref": "y"
         },
         {
          "fillcolor": "#E377C2",
          "line": {
           "width": 0
          },
          "type": "rect",
          "x0": 3,
          "x1": 4,
          "xref": "x",
          "y0": 8,
          "y1": 9,
          "yref": "y"
         },
         {
          "fillcolor": "#8C564B",
          "line": {
           "width": 0
          },
          "type": "rect",
          "x0": 4,
          "x1": 5,
          "xref": "x",
          "y0": 8,
          "y1": 9,
          "yref": "y"
         },
         {
          "fillcolor": "#9467BD",
          "line": {
           "width": 0
          },
          "type": "rect",
          "x0": 5,
          "x1": 6,
          "xref": "x",
          "y0": 8,
          "y1": 9,
          "yref": "y"
         },
         {
          "fillcolor": "#D62728",
          "line": {
           "width": 0
          },
          "type": "rect",
          "x0": 6,
          "x1": 7,
          "xref": "x",
          "y0": 8,
          "y1": 9,
          "yref": "y"
         },
         {
          "fillcolor": "#2CA02C",
          "line": {
           "width": 0
          },
          "type": "rect",
          "x0": 7,
          "x1": 8,
          "xref": "x",
          "y0": 8,
          "y1": 9,
          "yref": "y"
         },
         {
          "fillcolor": "#FF7F0E",
          "line": {
           "width": 0
          },
          "type": "rect",
          "x0": 8,
          "x1": 9,
          "xref": "x",
          "y0": 8,
          "y1": 9,
          "yref": "y"
         },
         {
          "fillcolor": "#1F77B4",
          "line": {
           "width": 0
          },
          "type": "rect",
          "x0": 9,
          "x1": 10,
          "xref": "x",
          "y0": 8,
          "y1": 9,
          "yref": "y"
         },
         {
          "fillcolor": "#AF0038",
          "line": {
           "width": 0
          },
          "type": "rect",
          "x0": 0,
          "x1": 1,
          "xref": "x",
          "y0": 9,
          "y1": 10,
          "yref": "y"
         },
         {
          "fillcolor": "#0D2A63",
          "line": {
           "width": 0
          },
          "type": "rect",
          "x0": 1,
          "x1": 2,
          "xref": "x",
          "y0": 9,
          "y1": 10,
          "yref": "y"
         },
         {
          "fillcolor": "#6C4516",
          "line": {
           "width": 0
          },
          "type": "rect",
          "x0": 2,
          "x1": 3,
          "xref": "x",
          "y0": 9,
          "y1": 10,
          "yref": "y"
         },
         {
          "fillcolor": "#DA60CA",
          "line": {
           "width": 0
          },
          "type": "rect",
          "x0": 3,
          "x1": 4,
          "xref": "x",
          "y0": 9,
          "y1": 10,
          "yref": "y"
         },
         {
          "fillcolor": "#1616A7",
          "line": {
           "width": 0
          },
          "type": "rect",
          "x0": 4,
          "x1": 5,
          "xref": "x",
          "y0": 9,
          "y1": 10,
          "yref": "y"
         },
         {
          "fillcolor": "#620042",
          "line": {
           "width": 0
          },
          "type": "rect",
          "x0": 5,
          "x1": 6,
          "xref": "x",
          "y0": 9,
          "y1": 10,
          "yref": "y"
         },
         {
          "fillcolor": "#A777F1",
          "line": {
           "width": 0
          },
          "type": "rect",
          "x0": 6,
          "x1": 7,
          "xref": "x",
          "y0": 9,
          "y1": 10,
          "yref": "y"
         },
         {
          "fillcolor": "#862A16",
          "line": {
           "width": 0
          },
          "type": "rect",
          "x0": 7,
          "x1": 8,
          "xref": "x",
          "y0": 9,
          "y1": 10,
          "yref": "y"
         },
         {
          "fillcolor": "#778AAE",
          "line": {
           "width": 0
          },
          "type": "rect",
          "x0": 8,
          "x1": 9,
          "xref": "x",
          "y0": 9,
          "y1": 10,
          "yref": "y"
         },
         {
          "fillcolor": "#6C7C32",
          "line": {
           "width": 0
          },
          "type": "rect",
          "x0": 9,
          "x1": 10,
          "xref": "x",
          "y0": 9,
          "y1": 10,
          "yref": "y"
         },
         {
          "fillcolor": "#B2828D",
          "line": {
           "width": 0
          },
          "type": "rect",
          "x0": 10,
          "x1": 11,
          "xref": "x",
          "y0": 9,
          "y1": 10,
          "yref": "y"
         },
         {
          "fillcolor": "#FC0080",
          "line": {
           "width": 0
          },
          "type": "rect",
          "x0": 11,
          "x1": 12,
          "xref": "x",
          "y0": 9,
          "y1": 10,
          "yref": "y"
         },
         {
          "fillcolor": "#FB00D1",
          "line": {
           "width": 0
          },
          "type": "rect",
          "x0": 12,
          "x1": 13,
          "xref": "x",
          "y0": 9,
          "y1": 10,
          "yref": "y"
         },
         {
          "fillcolor": "#00A08B",
          "line": {
           "width": 0
          },
          "type": "rect",
          "x0": 13,
          "x1": 14,
          "xref": "x",
          "y0": 9,
          "y1": 10,
          "yref": "y"
         },
         {
          "fillcolor": "#511CFB",
          "line": {
           "width": 0
          },
          "type": "rect",
          "x0": 14,
          "x1": 15,
          "xref": "x",
          "y0": 9,
          "y1": 10,
          "yref": "y"
         },
         {
          "fillcolor": "#EB663B",
          "line": {
           "width": 0
          },
          "type": "rect",
          "x0": 15,
          "x1": 16,
          "xref": "x",
          "y0": 9,
          "y1": 10,
          "yref": "y"
         },
         {
          "fillcolor": "#750D86",
          "line": {
           "width": 0
          },
          "type": "rect",
          "x0": 16,
          "x1": 17,
          "xref": "x",
          "y0": 9,
          "y1": 10,
          "yref": "y"
         },
         {
          "fillcolor": "#B68100",
          "line": {
           "width": 0
          },
          "type": "rect",
          "x0": 17,
          "x1": 18,
          "xref": "x",
          "y0": 9,
          "y1": 10,
          "yref": "y"
         },
         {
          "fillcolor": "#222A2A",
          "line": {
           "width": 0
          },
          "type": "rect",
          "x0": 18,
          "x1": 19,
          "xref": "x",
          "y0": 9,
          "y1": 10,
          "yref": "y"
         },
         {
          "fillcolor": "#DA16FF",
          "line": {
           "width": 0
          },
          "type": "rect",
          "x0": 19,
          "x1": 20,
          "xref": "x",
          "y0": 9,
          "y1": 10,
          "yref": "y"
         },
         {
          "fillcolor": "#FB0D0D",
          "line": {
           "width": 0
          },
          "type": "rect",
          "x0": 20,
          "x1": 21,
          "xref": "x",
          "y0": 9,
          "y1": 10,
          "yref": "y"
         },
         {
          "fillcolor": "#1CA71C",
          "line": {
           "width": 0
          },
          "type": "rect",
          "x0": 21,
          "x1": 22,
          "xref": "x",
          "y0": 9,
          "y1": 10,
          "yref": "y"
         },
         {
          "fillcolor": "#E15F99",
          "line": {
           "width": 0
          },
          "type": "rect",
          "x0": 22,
          "x1": 23,
          "xref": "x",
          "y0": 9,
          "y1": 10,
          "yref": "y"
         },
         {
          "fillcolor": "#2E91E5",
          "line": {
           "width": 0
          },
          "type": "rect",
          "x0": 23,
          "x1": 24,
          "xref": "x",
          "y0": 9,
          "y1": 10,
          "yref": "y"
         },
         {
          "fillcolor": "#316395",
          "line": {
           "width": 0
          },
          "type": "rect",
          "x0": 0,
          "x1": 1,
          "xref": "x",
          "y0": 10,
          "y1": 11,
          "yref": "y"
         },
         {
          "fillcolor": "#B82E2E",
          "line": {
           "width": 0
          },
          "type": "rect",
          "x0": 1,
          "x1": 2,
          "xref": "x",
          "y0": 10,
          "y1": 11,
          "yref": "y"
         },
         {
          "fillcolor": "#66AA00",
          "line": {
           "width": 0
          },
          "type": "rect",
          "x0": 2,
          "x1": 3,
          "xref": "x",
          "y0": 10,
          "y1": 11,
          "yref": "y"
         },
         {
          "fillcolor": "#DD4477",
          "line": {
           "width": 0
          },
          "type": "rect",
          "x0": 3,
          "x1": 4,
          "xref": "x",
          "y0": 10,
          "y1": 11,
          "yref": "y"
         },
         {
          "fillcolor": "#0099C6",
          "line": {
           "width": 0
          },
          "type": "rect",
          "x0": 4,
          "x1": 5,
          "xref": "x",
          "y0": 10,
          "y1": 11,
          "yref": "y"
         },
         {
          "fillcolor": "#990099",
          "line": {
           "width": 0
          },
          "type": "rect",
          "x0": 5,
          "x1": 6,
          "xref": "x",
          "y0": 10,
          "y1": 11,
          "yref": "y"
         },
         {
          "fillcolor": "#109618",
          "line": {
           "width": 0
          },
          "type": "rect",
          "x0": 6,
          "x1": 7,
          "xref": "x",
          "y0": 10,
          "y1": 11,
          "yref": "y"
         },
         {
          "fillcolor": "#FF9900",
          "line": {
           "width": 0
          },
          "type": "rect",
          "x0": 7,
          "x1": 8,
          "xref": "x",
          "y0": 10,
          "y1": 11,
          "yref": "y"
         },
         {
          "fillcolor": "#DC3912",
          "line": {
           "width": 0
          },
          "type": "rect",
          "x0": 8,
          "x1": 9,
          "xref": "x",
          "y0": 10,
          "y1": 11,
          "yref": "y"
         },
         {
          "fillcolor": "#3366CC",
          "line": {
           "width": 0
          },
          "type": "rect",
          "x0": 9,
          "x1": 10,
          "xref": "x",
          "y0": 10,
          "y1": 11,
          "yref": "y"
         },
         {
          "fillcolor": "#E48F72",
          "line": {
           "width": 0
          },
          "type": "rect",
          "x0": 0,
          "x1": 1,
          "xref": "x",
          "y0": 11,
          "y1": 12,
          "yref": "y"
         },
         {
          "fillcolor": "#FC6955",
          "line": {
           "width": 0
          },
          "type": "rect",
          "x0": 1,
          "x1": 2,
          "xref": "x",
          "y0": 11,
          "y1": 12,
          "yref": "y"
         },
         {
          "fillcolor": "#7E7DCD",
          "line": {
           "width": 0
          },
          "type": "rect",
          "x0": 2,
          "x1": 3,
          "xref": "x",
          "y0": 11,
          "y1": 12,
          "yref": "y"
         },
         {
          "fillcolor": "#BC7196",
          "line": {
           "width": 0
          },
          "type": "rect",
          "x0": 3,
          "x1": 4,
          "xref": "x",
          "y0": 11,
          "y1": 12,
          "yref": "y"
         },
         {
          "fillcolor": "#86CE00",
          "line": {
           "width": 0
          },
          "type": "rect",
          "x0": 4,
          "x1": 5,
          "xref": "x",
          "y0": 11,
          "y1": 12,
          "yref": "y"
         },
         {
          "fillcolor": "#E3EE9E",
          "line": {
           "width": 0
          },
          "type": "rect",
          "x0": 5,
          "x1": 6,
          "xref": "x",
          "y0": 11,
          "y1": 12,
          "yref": "y"
         },
         {
          "fillcolor": "#22FFA7",
          "line": {
           "width": 0
          },
          "type": "rect",
          "x0": 6,
          "x1": 7,
          "xref": "x",
          "y0": 11,
          "y1": 12,
          "yref": "y"
         },
         {
          "fillcolor": "#FF0092",
          "line": {
           "width": 0
          },
          "type": "rect",
          "x0": 7,
          "x1": 8,
          "xref": "x",
          "y0": 11,
          "y1": 12,
          "yref": "y"
         },
         {
          "fillcolor": "#C9FBE5",
          "line": {
           "width": 0
          },
          "type": "rect",
          "x0": 8,
          "x1": 9,
          "xref": "x",
          "y0": 11,
          "y1": 12,
          "yref": "y"
         },
         {
          "fillcolor": "#B68E00",
          "line": {
           "width": 0
          },
          "type": "rect",
          "x0": 9,
          "x1": 10,
          "xref": "x",
          "y0": 11,
          "y1": 12,
          "yref": "y"
         },
         {
          "fillcolor": "#00B5F7",
          "line": {
           "width": 0
          },
          "type": "rect",
          "x0": 10,
          "x1": 11,
          "xref": "x",
          "y0": 11,
          "y1": 12,
          "yref": "y"
         },
         {
          "fillcolor": "#6E899C",
          "line": {
           "width": 0
          },
          "type": "rect",
          "x0": 11,
          "x1": 12,
          "xref": "x",
          "y0": 11,
          "y1": 12,
          "yref": "y"
         },
         {
          "fillcolor": "#D626FF",
          "line": {
           "width": 0
          },
          "type": "rect",
          "x0": 12,
          "x1": 13,
          "xref": "x",
          "y0": 11,
          "y1": 12,
          "yref": "y"
         },
         {
          "fillcolor": "#DC587D",
          "line": {
           "width": 0
          },
          "type": "rect",
          "x0": 13,
          "x1": 14,
          "xref": "x",
          "y0": 11,
          "y1": 12,
          "yref": "y"
         },
         {
          "fillcolor": "#EEA6FB",
          "line": {
           "width": 0
          },
          "type": "rect",
          "x0": 14,
          "x1": 15,
          "xref": "x",
          "y0": 11,
          "y1": 12,
          "yref": "y"
         },
         {
          "fillcolor": "#479B55",
          "line": {
           "width": 0
          },
          "type": "rect",
          "x0": 15,
          "x1": 16,
          "xref": "x",
          "y0": 11,
          "y1": 12,
          "yref": "y"
         },
         {
          "fillcolor": "#FF9616",
          "line": {
           "width": 0
          },
          "type": "rect",
          "x0": 16,
          "x1": 17,
          "xref": "x",
          "y0": 11,
          "y1": 12,
          "yref": "y"
         },
         {
          "fillcolor": "#F6F926",
          "line": {
           "width": 0
          },
          "type": "rect",
          "x0": 17,
          "x1": 18,
          "xref": "x",
          "y0": 11,
          "y1": 12,
          "yref": "y"
         },
         {
          "fillcolor": "#0DF9FF",
          "line": {
           "width": 0
          },
          "type": "rect",
          "x0": 18,
          "x1": 19,
          "xref": "x",
          "y0": 11,
          "y1": 12,
          "yref": "y"
         },
         {
          "fillcolor": "#FE00CE",
          "line": {
           "width": 0
          },
          "type": "rect",
          "x0": 19,
          "x1": 20,
          "xref": "x",
          "y0": 11,
          "y1": 12,
          "yref": "y"
         },
         {
          "fillcolor": "#FED4C4",
          "line": {
           "width": 0
          },
          "type": "rect",
          "x0": 20,
          "x1": 21,
          "xref": "x",
          "y0": 11,
          "y1": 12,
          "yref": "y"
         },
         {
          "fillcolor": "#6A76FC",
          "line": {
           "width": 0
          },
          "type": "rect",
          "x0": 21,
          "x1": 22,
          "xref": "x",
          "y0": 11,
          "y1": 12,
          "yref": "y"
         },
         {
          "fillcolor": "#00FE35",
          "line": {
           "width": 0
          },
          "type": "rect",
          "x0": 22,
          "x1": 23,
          "xref": "x",
          "y0": 11,
          "y1": 12,
          "yref": "y"
         },
         {
          "fillcolor": "#FD3216",
          "line": {
           "width": 0
          },
          "type": "rect",
          "x0": 23,
          "x1": 24,
          "xref": "x",
          "y0": 11,
          "y1": 12,
          "yref": "y"
         },
         {
          "fillcolor": "#FECB52",
          "line": {
           "width": 0
          },
          "type": "rect",
          "x0": 0,
          "x1": 1,
          "xref": "x",
          "y0": 12,
          "y1": 13,
          "yref": "y"
         },
         {
          "fillcolor": "#FF97FF",
          "line": {
           "width": 0
          },
          "type": "rect",
          "x0": 1,
          "x1": 2,
          "xref": "x",
          "y0": 12,
          "y1": 13,
          "yref": "y"
         },
         {
          "fillcolor": "#B6E880",
          "line": {
           "width": 0
          },
          "type": "rect",
          "x0": 2,
          "x1": 3,
          "xref": "x",
          "y0": 12,
          "y1": 13,
          "yref": "y"
         },
         {
          "fillcolor": "#FF6692",
          "line": {
           "width": 0
          },
          "type": "rect",
          "x0": 3,
          "x1": 4,
          "xref": "x",
          "y0": 12,
          "y1": 13,
          "yref": "y"
         },
         {
          "fillcolor": "#19D3F3",
          "line": {
           "width": 0
          },
          "type": "rect",
          "x0": 4,
          "x1": 5,
          "xref": "x",
          "y0": 12,
          "y1": 13,
          "yref": "y"
         },
         {
          "fillcolor": "#FFA15A",
          "line": {
           "width": 0
          },
          "type": "rect",
          "x0": 5,
          "x1": 6,
          "xref": "x",
          "y0": 12,
          "y1": 13,
          "yref": "y"
         },
         {
          "fillcolor": "#AB63FA",
          "line": {
           "width": 0
          },
          "type": "rect",
          "x0": 6,
          "x1": 7,
          "xref": "x",
          "y0": 12,
          "y1": 13,
          "yref": "y"
         },
         {
          "fillcolor": "#00CC96",
          "line": {
           "width": 0
          },
          "type": "rect",
          "x0": 7,
          "x1": 8,
          "xref": "x",
          "y0": 12,
          "y1": 13,
          "yref": "y"
         },
         {
          "fillcolor": "#EF553B",
          "line": {
           "width": 0
          },
          "type": "rect",
          "x0": 8,
          "x1": 9,
          "xref": "x",
          "y0": 12,
          "y1": 13,
          "yref": "y"
         },
         {
          "fillcolor": "#636EFA",
          "line": {
           "width": 0
          },
          "type": "rect",
          "x0": 9,
          "x1": 10,
          "xref": "x",
          "y0": 12,
          "y1": 13,
          "yref": "y"
         },
         {
          "fillcolor": "#BAB0AC",
          "line": {
           "width": 0
          },
          "type": "rect",
          "x0": 0,
          "x1": 1,
          "xref": "x",
          "y0": 13,
          "y1": 14,
          "yref": "y"
         },
         {
          "fillcolor": "#9D755D",
          "line": {
           "width": 0
          },
          "type": "rect",
          "x0": 1,
          "x1": 2,
          "xref": "x",
          "y0": 13,
          "y1": 14,
          "yref": "y"
         },
         {
          "fillcolor": "#FF9DA6",
          "line": {
           "width": 0
          },
          "type": "rect",
          "x0": 2,
          "x1": 3,
          "xref": "x",
          "y0": 13,
          "y1": 14,
          "yref": "y"
         },
         {
          "fillcolor": "#B279A2",
          "line": {
           "width": 0
          },
          "type": "rect",
          "x0": 3,
          "x1": 4,
          "xref": "x",
          "y0": 13,
          "y1": 14,
          "yref": "y"
         },
         {
          "fillcolor": "#EECA3B",
          "line": {
           "width": 0
          },
          "type": "rect",
          "x0": 4,
          "x1": 5,
          "xref": "x",
          "y0": 13,
          "y1": 14,
          "yref": "y"
         },
         {
          "fillcolor": "#54A24B",
          "line": {
           "width": 0
          },
          "type": "rect",
          "x0": 5,
          "x1": 6,
          "xref": "x",
          "y0": 13,
          "y1": 14,
          "yref": "y"
         },
         {
          "fillcolor": "#72B7B2",
          "line": {
           "width": 0
          },
          "type": "rect",
          "x0": 6,
          "x1": 7,
          "xref": "x",
          "y0": 13,
          "y1": 14,
          "yref": "y"
         },
         {
          "fillcolor": "#E45756",
          "line": {
           "width": 0
          },
          "type": "rect",
          "x0": 7,
          "x1": 8,
          "xref": "x",
          "y0": 13,
          "y1": 14,
          "yref": "y"
         },
         {
          "fillcolor": "#F58518",
          "line": {
           "width": 0
          },
          "type": "rect",
          "x0": 8,
          "x1": 9,
          "xref": "x",
          "y0": 13,
          "y1": 14,
          "yref": "y"
         },
         {
          "fillcolor": "#4C78A8",
          "line": {
           "width": 0
          },
          "type": "rect",
          "x0": 9,
          "x1": 10,
          "xref": "x",
          "y0": 13,
          "y1": 14,
          "yref": "y"
         },
         {
          "fillcolor": "rgb(228,26,28)",
          "line": {
           "width": 0
          },
          "type": "rect",
          "x0": 0,
          "x1": 1,
          "xref": "x",
          "y0": 14,
          "y1": 15,
          "yref": "y"
         },
         {
          "fillcolor": "rgb(55,126,184)",
          "line": {
           "width": 0
          },
          "type": "rect",
          "x0": 1,
          "x1": 2,
          "xref": "x",
          "y0": 14,
          "y1": 15,
          "yref": "y"
         },
         {
          "fillcolor": "rgb(77,175,74)",
          "line": {
           "width": 0
          },
          "type": "rect",
          "x0": 2,
          "x1": 3,
          "xref": "x",
          "y0": 14,
          "y1": 15,
          "yref": "y"
         },
         {
          "fillcolor": "rgb(152,78,163)",
          "line": {
           "width": 0
          },
          "type": "rect",
          "x0": 3,
          "x1": 4,
          "xref": "x",
          "y0": 14,
          "y1": 15,
          "yref": "y"
         },
         {
          "fillcolor": "rgb(255,127,0)",
          "line": {
           "width": 0
          },
          "type": "rect",
          "x0": 4,
          "x1": 5,
          "xref": "x",
          "y0": 14,
          "y1": 15,
          "yref": "y"
         },
         {
          "fillcolor": "rgb(255,255,51)",
          "line": {
           "width": 0
          },
          "type": "rect",
          "x0": 5,
          "x1": 6,
          "xref": "x",
          "y0": 14,
          "y1": 15,
          "yref": "y"
         },
         {
          "fillcolor": "rgb(166,86,40)",
          "line": {
           "width": 0
          },
          "type": "rect",
          "x0": 6,
          "x1": 7,
          "xref": "x",
          "y0": 14,
          "y1": 15,
          "yref": "y"
         },
         {
          "fillcolor": "rgb(247,129,191)",
          "line": {
           "width": 0
          },
          "type": "rect",
          "x0": 7,
          "x1": 8,
          "xref": "x",
          "y0": 14,
          "y1": 15,
          "yref": "y"
         },
         {
          "fillcolor": "rgb(153,153,153)",
          "line": {
           "width": 0
          },
          "type": "rect",
          "x0": 8,
          "x1": 9,
          "xref": "x",
          "y0": 14,
          "y1": 15,
          "yref": "y"
         },
         {
          "fillcolor": "rgb(251,180,174)",
          "line": {
           "width": 0
          },
          "type": "rect",
          "x0": 0,
          "x1": 1,
          "xref": "x",
          "y0": 15,
          "y1": 16,
          "yref": "y"
         },
         {
          "fillcolor": "rgb(179,205,227)",
          "line": {
           "width": 0
          },
          "type": "rect",
          "x0": 1,
          "x1": 2,
          "xref": "x",
          "y0": 15,
          "y1": 16,
          "yref": "y"
         },
         {
          "fillcolor": "rgb(204,235,197)",
          "line": {
           "width": 0
          },
          "type": "rect",
          "x0": 2,
          "x1": 3,
          "xref": "x",
          "y0": 15,
          "y1": 16,
          "yref": "y"
         },
         {
          "fillcolor": "rgb(222,203,228)",
          "line": {
           "width": 0
          },
          "type": "rect",
          "x0": 3,
          "x1": 4,
          "xref": "x",
          "y0": 15,
          "y1": 16,
          "yref": "y"
         },
         {
          "fillcolor": "rgb(254,217,166)",
          "line": {
           "width": 0
          },
          "type": "rect",
          "x0": 4,
          "x1": 5,
          "xref": "x",
          "y0": 15,
          "y1": 16,
          "yref": "y"
         },
         {
          "fillcolor": "rgb(255,255,204)",
          "line": {
           "width": 0
          },
          "type": "rect",
          "x0": 5,
          "x1": 6,
          "xref": "x",
          "y0": 15,
          "y1": 16,
          "yref": "y"
         },
         {
          "fillcolor": "rgb(229,216,189)",
          "line": {
           "width": 0
          },
          "type": "rect",
          "x0": 6,
          "x1": 7,
          "xref": "x",
          "y0": 15,
          "y1": 16,
          "yref": "y"
         },
         {
          "fillcolor": "rgb(253,218,236)",
          "line": {
           "width": 0
          },
          "type": "rect",
          "x0": 7,
          "x1": 8,
          "xref": "x",
          "y0": 15,
          "y1": 16,
          "yref": "y"
         },
         {
          "fillcolor": "rgb(242,242,242)",
          "line": {
           "width": 0
          },
          "type": "rect",
          "x0": 8,
          "x1": 9,
          "xref": "x",
          "y0": 15,
          "y1": 16,
          "yref": "y"
         },
         {
          "fillcolor": "rgb(27,158,119)",
          "line": {
           "width": 0
          },
          "type": "rect",
          "x0": 0,
          "x1": 1,
          "xref": "x",
          "y0": 16,
          "y1": 17,
          "yref": "y"
         },
         {
          "fillcolor": "rgb(217,95,2)",
          "line": {
           "width": 0
          },
          "type": "rect",
          "x0": 1,
          "x1": 2,
          "xref": "x",
          "y0": 16,
          "y1": 17,
          "yref": "y"
         },
         {
          "fillcolor": "rgb(117,112,179)",
          "line": {
           "width": 0
          },
          "type": "rect",
          "x0": 2,
          "x1": 3,
          "xref": "x",
          "y0": 16,
          "y1": 17,
          "yref": "y"
         },
         {
          "fillcolor": "rgb(231,41,138)",
          "line": {
           "width": 0
          },
          "type": "rect",
          "x0": 3,
          "x1": 4,
          "xref": "x",
          "y0": 16,
          "y1": 17,
          "yref": "y"
         },
         {
          "fillcolor": "rgb(102,166,30)",
          "line": {
           "width": 0
          },
          "type": "rect",
          "x0": 4,
          "x1": 5,
          "xref": "x",
          "y0": 16,
          "y1": 17,
          "yref": "y"
         },
         {
          "fillcolor": "rgb(230,171,2)",
          "line": {
           "width": 0
          },
          "type": "rect",
          "x0": 5,
          "x1": 6,
          "xref": "x",
          "y0": 16,
          "y1": 17,
          "yref": "y"
         },
         {
          "fillcolor": "rgb(166,118,29)",
          "line": {
           "width": 0
          },
          "type": "rect",
          "x0": 6,
          "x1": 7,
          "xref": "x",
          "y0": 16,
          "y1": 17,
          "yref": "y"
         },
         {
          "fillcolor": "rgb(102,102,102)",
          "line": {
           "width": 0
          },
          "type": "rect",
          "x0": 7,
          "x1": 8,
          "xref": "x",
          "y0": 16,
          "y1": 17,
          "yref": "y"
         },
         {
          "fillcolor": "rgb(102,194,165)",
          "line": {
           "width": 0
          },
          "type": "rect",
          "x0": 0,
          "x1": 1,
          "xref": "x",
          "y0": 17,
          "y1": 18,
          "yref": "y"
         },
         {
          "fillcolor": "rgb(252,141,98)",
          "line": {
           "width": 0
          },
          "type": "rect",
          "x0": 1,
          "x1": 2,
          "xref": "x",
          "y0": 17,
          "y1": 18,
          "yref": "y"
         },
         {
          "fillcolor": "rgb(141,160,203)",
          "line": {
           "width": 0
          },
          "type": "rect",
          "x0": 2,
          "x1": 3,
          "xref": "x",
          "y0": 17,
          "y1": 18,
          "yref": "y"
         },
         {
          "fillcolor": "rgb(231,138,195)",
          "line": {
           "width": 0
          },
          "type": "rect",
          "x0": 3,
          "x1": 4,
          "xref": "x",
          "y0": 17,
          "y1": 18,
          "yref": "y"
         },
         {
          "fillcolor": "rgb(166,216,84)",
          "line": {
           "width": 0
          },
          "type": "rect",
          "x0": 4,
          "x1": 5,
          "xref": "x",
          "y0": 17,
          "y1": 18,
          "yref": "y"
         },
         {
          "fillcolor": "rgb(255,217,47)",
          "line": {
           "width": 0
          },
          "type": "rect",
          "x0": 5,
          "x1": 6,
          "xref": "x",
          "y0": 17,
          "y1": 18,
          "yref": "y"
         },
         {
          "fillcolor": "rgb(229,196,148)",
          "line": {
           "width": 0
          },
          "type": "rect",
          "x0": 6,
          "x1": 7,
          "xref": "x",
          "y0": 17,
          "y1": 18,
          "yref": "y"
         },
         {
          "fillcolor": "rgb(179,179,179)",
          "line": {
           "width": 0
          },
          "type": "rect",
          "x0": 7,
          "x1": 8,
          "xref": "x",
          "y0": 17,
          "y1": 18,
          "yref": "y"
         },
         {
          "fillcolor": "rgb(179,226,205)",
          "line": {
           "width": 0
          },
          "type": "rect",
          "x0": 0,
          "x1": 1,
          "xref": "x",
          "y0": 18,
          "y1": 19,
          "yref": "y"
         },
         {
          "fillcolor": "rgb(253,205,172)",
          "line": {
           "width": 0
          },
          "type": "rect",
          "x0": 1,
          "x1": 2,
          "xref": "x",
          "y0": 18,
          "y1": 19,
          "yref": "y"
         },
         {
          "fillcolor": "rgb(203,213,232)",
          "line": {
           "width": 0
          },
          "type": "rect",
          "x0": 2,
          "x1": 3,
          "xref": "x",
          "y0": 18,
          "y1": 19,
          "yref": "y"
         },
         {
          "fillcolor": "rgb(244,202,228)",
          "line": {
           "width": 0
          },
          "type": "rect",
          "x0": 3,
          "x1": 4,
          "xref": "x",
          "y0": 18,
          "y1": 19,
          "yref": "y"
         },
         {
          "fillcolor": "rgb(230,245,201)",
          "line": {
           "width": 0
          },
          "type": "rect",
          "x0": 4,
          "x1": 5,
          "xref": "x",
          "y0": 18,
          "y1": 19,
          "yref": "y"
         },
         {
          "fillcolor": "rgb(255,242,174)",
          "line": {
           "width": 0
          },
          "type": "rect",
          "x0": 5,
          "x1": 6,
          "xref": "x",
          "y0": 18,
          "y1": 19,
          "yref": "y"
         },
         {
          "fillcolor": "rgb(241,226,204)",
          "line": {
           "width": 0
          },
          "type": "rect",
          "x0": 6,
          "x1": 7,
          "xref": "x",
          "y0": 18,
          "y1": 19,
          "yref": "y"
         },
         {
          "fillcolor": "rgb(204,204,204)",
          "line": {
           "width": 0
          },
          "type": "rect",
          "x0": 7,
          "x1": 8,
          "xref": "x",
          "y0": 18,
          "y1": 19,
          "yref": "y"
         },
         {
          "fillcolor": "rgb(141,211,199)",
          "line": {
           "width": 0
          },
          "type": "rect",
          "x0": 0,
          "x1": 1,
          "xref": "x",
          "y0": 19,
          "y1": 20,
          "yref": "y"
         },
         {
          "fillcolor": "rgb(255,255,179)",
          "line": {
           "width": 0
          },
          "type": "rect",
          "x0": 1,
          "x1": 2,
          "xref": "x",
          "y0": 19,
          "y1": 20,
          "yref": "y"
         },
         {
          "fillcolor": "rgb(190,186,218)",
          "line": {
           "width": 0
          },
          "type": "rect",
          "x0": 2,
          "x1": 3,
          "xref": "x",
          "y0": 19,
          "y1": 20,
          "yref": "y"
         },
         {
          "fillcolor": "rgb(251,128,114)",
          "line": {
           "width": 0
          },
          "type": "rect",
          "x0": 3,
          "x1": 4,
          "xref": "x",
          "y0": 19,
          "y1": 20,
          "yref": "y"
         },
         {
          "fillcolor": "rgb(128,177,211)",
          "line": {
           "width": 0
          },
          "type": "rect",
          "x0": 4,
          "x1": 5,
          "xref": "x",
          "y0": 19,
          "y1": 20,
          "yref": "y"
         },
         {
          "fillcolor": "rgb(253,180,98)",
          "line": {
           "width": 0
          },
          "type": "rect",
          "x0": 5,
          "x1": 6,
          "xref": "x",
          "y0": 19,
          "y1": 20,
          "yref": "y"
         },
         {
          "fillcolor": "rgb(179,222,105)",
          "line": {
           "width": 0
          },
          "type": "rect",
          "x0": 6,
          "x1": 7,
          "xref": "x",
          "y0": 19,
          "y1": 20,
          "yref": "y"
         },
         {
          "fillcolor": "rgb(252,205,229)",
          "line": {
           "width": 0
          },
          "type": "rect",
          "x0": 7,
          "x1": 8,
          "xref": "x",
          "y0": 19,
          "y1": 20,
          "yref": "y"
         },
         {
          "fillcolor": "rgb(217,217,217)",
          "line": {
           "width": 0
          },
          "type": "rect",
          "x0": 8,
          "x1": 9,
          "xref": "x",
          "y0": 19,
          "y1": 20,
          "yref": "y"
         },
         {
          "fillcolor": "rgb(188,128,189)",
          "line": {
           "width": 0
          },
          "type": "rect",
          "x0": 9,
          "x1": 10,
          "xref": "x",
          "y0": 19,
          "y1": 20,
          "yref": "y"
         },
         {
          "fillcolor": "rgb(204,235,197)",
          "line": {
           "width": 0
          },
          "type": "rect",
          "x0": 10,
          "x1": 11,
          "xref": "x",
          "y0": 19,
          "y1": 20,
          "yref": "y"
         },
         {
          "fillcolor": "rgb(255,237,111)",
          "line": {
           "width": 0
          },
          "type": "rect",
          "x0": 11,
          "x1": 12,
          "xref": "x",
          "y0": 19,
          "y1": 20,
          "yref": "y"
         },
         {
          "fillcolor": "rgb(153,153,153)",
          "line": {
           "width": 0
          },
          "type": "rect",
          "x0": 0,
          "x1": 1,
          "xref": "x",
          "y0": 20,
          "y1": 21,
          "yref": "y"
         },
         {
          "fillcolor": "rgb(247,129,191)",
          "line": {
           "width": 0
          },
          "type": "rect",
          "x0": 1,
          "x1": 2,
          "xref": "x",
          "y0": 20,
          "y1": 21,
          "yref": "y"
         },
         {
          "fillcolor": "rgb(166,86,40)",
          "line": {
           "width": 0
          },
          "type": "rect",
          "x0": 2,
          "x1": 3,
          "xref": "x",
          "y0": 20,
          "y1": 21,
          "yref": "y"
         },
         {
          "fillcolor": "rgb(255,255,51)",
          "line": {
           "width": 0
          },
          "type": "rect",
          "x0": 3,
          "x1": 4,
          "xref": "x",
          "y0": 20,
          "y1": 21,
          "yref": "y"
         },
         {
          "fillcolor": "rgb(255,127,0)",
          "line": {
           "width": 0
          },
          "type": "rect",
          "x0": 4,
          "x1": 5,
          "xref": "x",
          "y0": 20,
          "y1": 21,
          "yref": "y"
         },
         {
          "fillcolor": "rgb(152,78,163)",
          "line": {
           "width": 0
          },
          "type": "rect",
          "x0": 5,
          "x1": 6,
          "xref": "x",
          "y0": 20,
          "y1": 21,
          "yref": "y"
         },
         {
          "fillcolor": "rgb(77,175,74)",
          "line": {
           "width": 0
          },
          "type": "rect",
          "x0": 6,
          "x1": 7,
          "xref": "x",
          "y0": 20,
          "y1": 21,
          "yref": "y"
         },
         {
          "fillcolor": "rgb(55,126,184)",
          "line": {
           "width": 0
          },
          "type": "rect",
          "x0": 7,
          "x1": 8,
          "xref": "x",
          "y0": 20,
          "y1": 21,
          "yref": "y"
         },
         {
          "fillcolor": "rgb(228,26,28)",
          "line": {
           "width": 0
          },
          "type": "rect",
          "x0": 8,
          "x1": 9,
          "xref": "x",
          "y0": 20,
          "y1": 21,
          "yref": "y"
         },
         {
          "fillcolor": "rgb(242,242,242)",
          "line": {
           "width": 0
          },
          "type": "rect",
          "x0": 0,
          "x1": 1,
          "xref": "x",
          "y0": 21,
          "y1": 22,
          "yref": "y"
         },
         {
          "fillcolor": "rgb(253,218,236)",
          "line": {
           "width": 0
          },
          "type": "rect",
          "x0": 1,
          "x1": 2,
          "xref": "x",
          "y0": 21,
          "y1": 22,
          "yref": "y"
         },
         {
          "fillcolor": "rgb(229,216,189)",
          "line": {
           "width": 0
          },
          "type": "rect",
          "x0": 2,
          "x1": 3,
          "xref": "x",
          "y0": 21,
          "y1": 22,
          "yref": "y"
         },
         {
          "fillcolor": "rgb(255,255,204)",
          "line": {
           "width": 0
          },
          "type": "rect",
          "x0": 3,
          "x1": 4,
          "xref": "x",
          "y0": 21,
          "y1": 22,
          "yref": "y"
         },
         {
          "fillcolor": "rgb(254,217,166)",
          "line": {
           "width": 0
          },
          "type": "rect",
          "x0": 4,
          "x1": 5,
          "xref": "x",
          "y0": 21,
          "y1": 22,
          "yref": "y"
         },
         {
          "fillcolor": "rgb(222,203,228)",
          "line": {
           "width": 0
          },
          "type": "rect",
          "x0": 5,
          "x1": 6,
          "xref": "x",
          "y0": 21,
          "y1": 22,
          "yref": "y"
         },
         {
          "fillcolor": "rgb(204,235,197)",
          "line": {
           "width": 0
          },
          "type": "rect",
          "x0": 6,
          "x1": 7,
          "xref": "x",
          "y0": 21,
          "y1": 22,
          "yref": "y"
         },
         {
          "fillcolor": "rgb(179,205,227)",
          "line": {
           "width": 0
          },
          "type": "rect",
          "x0": 7,
          "x1": 8,
          "xref": "x",
          "y0": 21,
          "y1": 22,
          "yref": "y"
         },
         {
          "fillcolor": "rgb(251,180,174)",
          "line": {
           "width": 0
          },
          "type": "rect",
          "x0": 8,
          "x1": 9,
          "xref": "x",
          "y0": 21,
          "y1": 22,
          "yref": "y"
         },
         {
          "fillcolor": "rgb(102,102,102)",
          "line": {
           "width": 0
          },
          "type": "rect",
          "x0": 0,
          "x1": 1,
          "xref": "x",
          "y0": 22,
          "y1": 23,
          "yref": "y"
         },
         {
          "fillcolor": "rgb(166,118,29)",
          "line": {
           "width": 0
          },
          "type": "rect",
          "x0": 1,
          "x1": 2,
          "xref": "x",
          "y0": 22,
          "y1": 23,
          "yref": "y"
         },
         {
          "fillcolor": "rgb(230,171,2)",
          "line": {
           "width": 0
          },
          "type": "rect",
          "x0": 2,
          "x1": 3,
          "xref": "x",
          "y0": 22,
          "y1": 23,
          "yref": "y"
         },
         {
          "fillcolor": "rgb(102,166,30)",
          "line": {
           "width": 0
          },
          "type": "rect",
          "x0": 3,
          "x1": 4,
          "xref": "x",
          "y0": 22,
          "y1": 23,
          "yref": "y"
         },
         {
          "fillcolor": "rgb(231,41,138)",
          "line": {
           "width": 0
          },
          "type": "rect",
          "x0": 4,
          "x1": 5,
          "xref": "x",
          "y0": 22,
          "y1": 23,
          "yref": "y"
         },
         {
          "fillcolor": "rgb(117,112,179)",
          "line": {
           "width": 0
          },
          "type": "rect",
          "x0": 5,
          "x1": 6,
          "xref": "x",
          "y0": 22,
          "y1": 23,
          "yref": "y"
         },
         {
          "fillcolor": "rgb(217,95,2)",
          "line": {
           "width": 0
          },
          "type": "rect",
          "x0": 6,
          "x1": 7,
          "xref": "x",
          "y0": 22,
          "y1": 23,
          "yref": "y"
         },
         {
          "fillcolor": "rgb(27,158,119)",
          "line": {
           "width": 0
          },
          "type": "rect",
          "x0": 7,
          "x1": 8,
          "xref": "x",
          "y0": 22,
          "y1": 23,
          "yref": "y"
         },
         {
          "fillcolor": "rgb(179,179,179)",
          "line": {
           "width": 0
          },
          "type": "rect",
          "x0": 0,
          "x1": 1,
          "xref": "x",
          "y0": 23,
          "y1": 24,
          "yref": "y"
         },
         {
          "fillcolor": "rgb(229,196,148)",
          "line": {
           "width": 0
          },
          "type": "rect",
          "x0": 1,
          "x1": 2,
          "xref": "x",
          "y0": 23,
          "y1": 24,
          "yref": "y"
         },
         {
          "fillcolor": "rgb(255,217,47)",
          "line": {
           "width": 0
          },
          "type": "rect",
          "x0": 2,
          "x1": 3,
          "xref": "x",
          "y0": 23,
          "y1": 24,
          "yref": "y"
         },
         {
          "fillcolor": "rgb(166,216,84)",
          "line": {
           "width": 0
          },
          "type": "rect",
          "x0": 3,
          "x1": 4,
          "xref": "x",
          "y0": 23,
          "y1": 24,
          "yref": "y"
         },
         {
          "fillcolor": "rgb(231,138,195)",
          "line": {
           "width": 0
          },
          "type": "rect",
          "x0": 4,
          "x1": 5,
          "xref": "x",
          "y0": 23,
          "y1": 24,
          "yref": "y"
         },
         {
          "fillcolor": "rgb(141,160,203)",
          "line": {
           "width": 0
          },
          "type": "rect",
          "x0": 5,
          "x1": 6,
          "xref": "x",
          "y0": 23,
          "y1": 24,
          "yref": "y"
         },
         {
          "fillcolor": "rgb(252,141,98)",
          "line": {
           "width": 0
          },
          "type": "rect",
          "x0": 6,
          "x1": 7,
          "xref": "x",
          "y0": 23,
          "y1": 24,
          "yref": "y"
         },
         {
          "fillcolor": "rgb(102,194,165)",
          "line": {
           "width": 0
          },
          "type": "rect",
          "x0": 7,
          "x1": 8,
          "xref": "x",
          "y0": 23,
          "y1": 24,
          "yref": "y"
         },
         {
          "fillcolor": "rgb(204,204,204)",
          "line": {
           "width": 0
          },
          "type": "rect",
          "x0": 0,
          "x1": 1,
          "xref": "x",
          "y0": 24,
          "y1": 25,
          "yref": "y"
         },
         {
          "fillcolor": "rgb(241,226,204)",
          "line": {
           "width": 0
          },
          "type": "rect",
          "x0": 1,
          "x1": 2,
          "xref": "x",
          "y0": 24,
          "y1": 25,
          "yref": "y"
         },
         {
          "fillcolor": "rgb(255,242,174)",
          "line": {
           "width": 0
          },
          "type": "rect",
          "x0": 2,
          "x1": 3,
          "xref": "x",
          "y0": 24,
          "y1": 25,
          "yref": "y"
         },
         {
          "fillcolor": "rgb(230,245,201)",
          "line": {
           "width": 0
          },
          "type": "rect",
          "x0": 3,
          "x1": 4,
          "xref": "x",
          "y0": 24,
          "y1": 25,
          "yref": "y"
         },
         {
          "fillcolor": "rgb(244,202,228)",
          "line": {
           "width": 0
          },
          "type": "rect",
          "x0": 4,
          "x1": 5,
          "xref": "x",
          "y0": 24,
          "y1": 25,
          "yref": "y"
         },
         {
          "fillcolor": "rgb(203,213,232)",
          "line": {
           "width": 0
          },
          "type": "rect",
          "x0": 5,
          "x1": 6,
          "xref": "x",
          "y0": 24,
          "y1": 25,
          "yref": "y"
         },
         {
          "fillcolor": "rgb(253,205,172)",
          "line": {
           "width": 0
          },
          "type": "rect",
          "x0": 6,
          "x1": 7,
          "xref": "x",
          "y0": 24,
          "y1": 25,
          "yref": "y"
         },
         {
          "fillcolor": "rgb(179,226,205)",
          "line": {
           "width": 0
          },
          "type": "rect",
          "x0": 7,
          "x1": 8,
          "xref": "x",
          "y0": 24,
          "y1": 25,
          "yref": "y"
         },
         {
          "fillcolor": "rgb(255,237,111)",
          "line": {
           "width": 0
          },
          "type": "rect",
          "x0": 0,
          "x1": 1,
          "xref": "x",
          "y0": 25,
          "y1": 26,
          "yref": "y"
         },
         {
          "fillcolor": "rgb(204,235,197)",
          "line": {
           "width": 0
          },
          "type": "rect",
          "x0": 1,
          "x1": 2,
          "xref": "x",
          "y0": 25,
          "y1": 26,
          "yref": "y"
         },
         {
          "fillcolor": "rgb(188,128,189)",
          "line": {
           "width": 0
          },
          "type": "rect",
          "x0": 2,
          "x1": 3,
          "xref": "x",
          "y0": 25,
          "y1": 26,
          "yref": "y"
         },
         {
          "fillcolor": "rgb(217,217,217)",
          "line": {
           "width": 0
          },
          "type": "rect",
          "x0": 3,
          "x1": 4,
          "xref": "x",
          "y0": 25,
          "y1": 26,
          "yref": "y"
         },
         {
          "fillcolor": "rgb(252,205,229)",
          "line": {
           "width": 0
          },
          "type": "rect",
          "x0": 4,
          "x1": 5,
          "xref": "x",
          "y0": 25,
          "y1": 26,
          "yref": "y"
         },
         {
          "fillcolor": "rgb(179,222,105)",
          "line": {
           "width": 0
          },
          "type": "rect",
          "x0": 5,
          "x1": 6,
          "xref": "x",
          "y0": 25,
          "y1": 26,
          "yref": "y"
         },
         {
          "fillcolor": "rgb(253,180,98)",
          "line": {
           "width": 0
          },
          "type": "rect",
          "x0": 6,
          "x1": 7,
          "xref": "x",
          "y0": 25,
          "y1": 26,
          "yref": "y"
         },
         {
          "fillcolor": "rgb(128,177,211)",
          "line": {
           "width": 0
          },
          "type": "rect",
          "x0": 7,
          "x1": 8,
          "xref": "x",
          "y0": 25,
          "y1": 26,
          "yref": "y"
         },
         {
          "fillcolor": "rgb(251,128,114)",
          "line": {
           "width": 0
          },
          "type": "rect",
          "x0": 8,
          "x1": 9,
          "xref": "x",
          "y0": 25,
          "y1": 26,
          "yref": "y"
         },
         {
          "fillcolor": "rgb(190,186,218)",
          "line": {
           "width": 0
          },
          "type": "rect",
          "x0": 9,
          "x1": 10,
          "xref": "x",
          "y0": 25,
          "y1": 26,
          "yref": "y"
         },
         {
          "fillcolor": "rgb(255,255,179)",
          "line": {
           "width": 0
          },
          "type": "rect",
          "x0": 10,
          "x1": 11,
          "xref": "x",
          "y0": 25,
          "y1": 26,
          "yref": "y"
         },
         {
          "fillcolor": "rgb(141,211,199)",
          "line": {
           "width": 0
          },
          "type": "rect",
          "x0": 11,
          "x1": 12,
          "xref": "x",
          "y0": 25,
          "y1": 26,
          "yref": "y"
         },
         {
          "fillcolor": "rgb(133, 92, 117)",
          "line": {
           "width": 0
          },
          "type": "rect",
          "x0": 0,
          "x1": 1,
          "xref": "x",
          "y0": 26,
          "y1": 27,
          "yref": "y"
         },
         {
          "fillcolor": "rgb(217, 175, 107)",
          "line": {
           "width": 0
          },
          "type": "rect",
          "x0": 1,
          "x1": 2,
          "xref": "x",
          "y0": 26,
          "y1": 27,
          "yref": "y"
         },
         {
          "fillcolor": "rgb(175, 100, 88)",
          "line": {
           "width": 0
          },
          "type": "rect",
          "x0": 2,
          "x1": 3,
          "xref": "x",
          "y0": 26,
          "y1": 27,
          "yref": "y"
         },
         {
          "fillcolor": "rgb(115, 111, 76)",
          "line": {
           "width": 0
          },
          "type": "rect",
          "x0": 3,
          "x1": 4,
          "xref": "x",
          "y0": 26,
          "y1": 27,
          "yref": "y"
         },
         {
          "fillcolor": "rgb(82, 106, 131)",
          "line": {
           "width": 0
          },
          "type": "rect",
          "x0": 4,
          "x1": 5,
          "xref": "x",
          "y0": 26,
          "y1": 27,
          "yref": "y"
         },
         {
          "fillcolor": "rgb(98, 83, 119)",
          "line": {
           "width": 0
          },
          "type": "rect",
          "x0": 5,
          "x1": 6,
          "xref": "x",
          "y0": 26,
          "y1": 27,
          "yref": "y"
         },
         {
          "fillcolor": "rgb(104, 133, 92)",
          "line": {
           "width": 0
          },
          "type": "rect",
          "x0": 6,
          "x1": 7,
          "xref": "x",
          "y0": 26,
          "y1": 27,
          "yref": "y"
         },
         {
          "fillcolor": "rgb(156, 156, 94)",
          "line": {
           "width": 0
          },
          "type": "rect",
          "x0": 7,
          "x1": 8,
          "xref": "x",
          "y0": 26,
          "y1": 27,
          "yref": "y"
         },
         {
          "fillcolor": "rgb(160, 97, 119)",
          "line": {
           "width": 0
          },
          "type": "rect",
          "x0": 8,
          "x1": 9,
          "xref": "x",
          "y0": 26,
          "y1": 27,
          "yref": "y"
         },
         {
          "fillcolor": "rgb(140, 120, 93)",
          "line": {
           "width": 0
          },
          "type": "rect",
          "x0": 9,
          "x1": 10,
          "xref": "x",
          "y0": 26,
          "y1": 27,
          "yref": "y"
         },
         {
          "fillcolor": "rgb(124, 124, 124)",
          "line": {
           "width": 0
          },
          "type": "rect",
          "x0": 10,
          "x1": 11,
          "xref": "x",
          "y0": 26,
          "y1": 27,
          "yref": "y"
         },
         {
          "fillcolor": "rgb(127, 60, 141)",
          "line": {
           "width": 0
          },
          "type": "rect",
          "x0": 0,
          "x1": 1,
          "xref": "x",
          "y0": 27,
          "y1": 28,
          "yref": "y"
         },
         {
          "fillcolor": "rgb(17, 165, 121)",
          "line": {
           "width": 0
          },
          "type": "rect",
          "x0": 1,
          "x1": 2,
          "xref": "x",
          "y0": 27,
          "y1": 28,
          "yref": "y"
         },
         {
          "fillcolor": "rgb(57, 105, 172)",
          "line": {
           "width": 0
          },
          "type": "rect",
          "x0": 2,
          "x1": 3,
          "xref": "x",
          "y0": 27,
          "y1": 28,
          "yref": "y"
         },
         {
          "fillcolor": "rgb(242, 183, 1)",
          "line": {
           "width": 0
          },
          "type": "rect",
          "x0": 3,
          "x1": 4,
          "xref": "x",
          "y0": 27,
          "y1": 28,
          "yref": "y"
         },
         {
          "fillcolor": "rgb(231, 63, 116)",
          "line": {
           "width": 0
          },
          "type": "rect",
          "x0": 4,
          "x1": 5,
          "xref": "x",
          "y0": 27,
          "y1": 28,
          "yref": "y"
         },
         {
          "fillcolor": "rgb(128, 186, 90)",
          "line": {
           "width": 0
          },
          "type": "rect",
          "x0": 5,
          "x1": 6,
          "xref": "x",
          "y0": 27,
          "y1": 28,
          "yref": "y"
         },
         {
          "fillcolor": "rgb(230, 131, 16)",
          "line": {
           "width": 0
          },
          "type": "rect",
          "x0": 6,
          "x1": 7,
          "xref": "x",
          "y0": 27,
          "y1": 28,
          "yref": "y"
         },
         {
          "fillcolor": "rgb(0, 134, 149)",
          "line": {
           "width": 0
          },
          "type": "rect",
          "x0": 7,
          "x1": 8,
          "xref": "x",
          "y0": 27,
          "y1": 28,
          "yref": "y"
         },
         {
          "fillcolor": "rgb(207, 28, 144)",
          "line": {
           "width": 0
          },
          "type": "rect",
          "x0": 8,
          "x1": 9,
          "xref": "x",
          "y0": 27,
          "y1": 28,
          "yref": "y"
         },
         {
          "fillcolor": "rgb(249, 123, 114)",
          "line": {
           "width": 0
          },
          "type": "rect",
          "x0": 9,
          "x1": 10,
          "xref": "x",
          "y0": 27,
          "y1": 28,
          "yref": "y"
         },
         {
          "fillcolor": "rgb(165, 170, 153)",
          "line": {
           "width": 0
          },
          "type": "rect",
          "x0": 10,
          "x1": 11,
          "xref": "x",
          "y0": 27,
          "y1": 28,
          "yref": "y"
         },
         {
          "fillcolor": "rgb(102, 197, 204)",
          "line": {
           "width": 0
          },
          "type": "rect",
          "x0": 0,
          "x1": 1,
          "xref": "x",
          "y0": 28,
          "y1": 29,
          "yref": "y"
         },
         {
          "fillcolor": "rgb(246, 207, 113)",
          "line": {
           "width": 0
          },
          "type": "rect",
          "x0": 1,
          "x1": 2,
          "xref": "x",
          "y0": 28,
          "y1": 29,
          "yref": "y"
         },
         {
          "fillcolor": "rgb(248, 156, 116)",
          "line": {
           "width": 0
          },
          "type": "rect",
          "x0": 2,
          "x1": 3,
          "xref": "x",
          "y0": 28,
          "y1": 29,
          "yref": "y"
         },
         {
          "fillcolor": "rgb(220, 176, 242)",
          "line": {
           "width": 0
          },
          "type": "rect",
          "x0": 3,
          "x1": 4,
          "xref": "x",
          "y0": 28,
          "y1": 29,
          "yref": "y"
         },
         {
          "fillcolor": "rgb(135, 197, 95)",
          "line": {
           "width": 0
          },
          "type": "rect",
          "x0": 4,
          "x1": 5,
          "xref": "x",
          "y0": 28,
          "y1": 29,
          "yref": "y"
         },
         {
          "fillcolor": "rgb(158, 185, 243)",
          "line": {
           "width": 0
          },
          "type": "rect",
          "x0": 5,
          "x1": 6,
          "xref": "x",
          "y0": 28,
          "y1": 29,
          "yref": "y"
         },
         {
          "fillcolor": "rgb(254, 136, 177)",
          "line": {
           "width": 0
          },
          "type": "rect",
          "x0": 6,
          "x1": 7,
          "xref": "x",
          "y0": 28,
          "y1": 29,
          "yref": "y"
         },
         {
          "fillcolor": "rgb(201, 219, 116)",
          "line": {
           "width": 0
          },
          "type": "rect",
          "x0": 7,
          "x1": 8,
          "xref": "x",
          "y0": 28,
          "y1": 29,
          "yref": "y"
         },
         {
          "fillcolor": "rgb(139, 224, 164)",
          "line": {
           "width": 0
          },
          "type": "rect",
          "x0": 8,
          "x1": 9,
          "xref": "x",
          "y0": 28,
          "y1": 29,
          "yref": "y"
         },
         {
          "fillcolor": "rgb(180, 151, 231)",
          "line": {
           "width": 0
          },
          "type": "rect",
          "x0": 9,
          "x1": 10,
          "xref": "x",
          "y0": 28,
          "y1": 29,
          "yref": "y"
         },
         {
          "fillcolor": "rgb(179, 179, 179)",
          "line": {
           "width": 0
          },
          "type": "rect",
          "x0": 10,
          "x1": 11,
          "xref": "x",
          "y0": 28,
          "y1": 29,
          "yref": "y"
         },
         {
          "fillcolor": "rgb(95, 70, 144)",
          "line": {
           "width": 0
          },
          "type": "rect",
          "x0": 0,
          "x1": 1,
          "xref": "x",
          "y0": 29,
          "y1": 30,
          "yref": "y"
         },
         {
          "fillcolor": "rgb(29, 105, 150)",
          "line": {
           "width": 0
          },
          "type": "rect",
          "x0": 1,
          "x1": 2,
          "xref": "x",
          "y0": 29,
          "y1": 30,
          "yref": "y"
         },
         {
          "fillcolor": "rgb(56, 166, 165)",
          "line": {
           "width": 0
          },
          "type": "rect",
          "x0": 2,
          "x1": 3,
          "xref": "x",
          "y0": 29,
          "y1": 30,
          "yref": "y"
         },
         {
          "fillcolor": "rgb(15, 133, 84)",
          "line": {
           "width": 0
          },
          "type": "rect",
          "x0": 3,
          "x1": 4,
          "xref": "x",
          "y0": 29,
          "y1": 30,
          "yref": "y"
         },
         {
          "fillcolor": "rgb(115, 175, 72)",
          "line": {
           "width": 0
          },
          "type": "rect",
          "x0": 4,
          "x1": 5,
          "xref": "x",
          "y0": 29,
          "y1": 30,
          "yref": "y"
         },
         {
          "fillcolor": "rgb(237, 173, 8)",
          "line": {
           "width": 0
          },
          "type": "rect",
          "x0": 5,
          "x1": 6,
          "xref": "x",
          "y0": 29,
          "y1": 30,
          "yref": "y"
         },
         {
          "fillcolor": "rgb(225, 124, 5)",
          "line": {
           "width": 0
          },
          "type": "rect",
          "x0": 6,
          "x1": 7,
          "xref": "x",
          "y0": 29,
          "y1": 30,
          "yref": "y"
         },
         {
          "fillcolor": "rgb(204, 80, 62)",
          "line": {
           "width": 0
          },
          "type": "rect",
          "x0": 7,
          "x1": 8,
          "xref": "x",
          "y0": 29,
          "y1": 30,
          "yref": "y"
         },
         {
          "fillcolor": "rgb(148, 52, 110)",
          "line": {
           "width": 0
          },
          "type": "rect",
          "x0": 8,
          "x1": 9,
          "xref": "x",
          "y0": 29,
          "y1": 30,
          "yref": "y"
         },
         {
          "fillcolor": "rgb(111, 64, 112)",
          "line": {
           "width": 0
          },
          "type": "rect",
          "x0": 9,
          "x1": 10,
          "xref": "x",
          "y0": 29,
          "y1": 30,
          "yref": "y"
         },
         {
          "fillcolor": "rgb(102, 102, 102)",
          "line": {
           "width": 0
          },
          "type": "rect",
          "x0": 10,
          "x1": 11,
          "xref": "x",
          "y0": 29,
          "y1": 30,
          "yref": "y"
         },
         {
          "fillcolor": "rgb(136, 204, 238)",
          "line": {
           "width": 0
          },
          "type": "rect",
          "x0": 0,
          "x1": 1,
          "xref": "x",
          "y0": 30,
          "y1": 31,
          "yref": "y"
         },
         {
          "fillcolor": "rgb(204, 102, 119)",
          "line": {
           "width": 0
          },
          "type": "rect",
          "x0": 1,
          "x1": 2,
          "xref": "x",
          "y0": 30,
          "y1": 31,
          "yref": "y"
         },
         {
          "fillcolor": "rgb(221, 204, 119)",
          "line": {
           "width": 0
          },
          "type": "rect",
          "x0": 2,
          "x1": 3,
          "xref": "x",
          "y0": 30,
          "y1": 31,
          "yref": "y"
         },
         {
          "fillcolor": "rgb(17, 119, 51)",
          "line": {
           "width": 0
          },
          "type": "rect",
          "x0": 3,
          "x1": 4,
          "xref": "x",
          "y0": 30,
          "y1": 31,
          "yref": "y"
         },
         {
          "fillcolor": "rgb(51, 34, 136)",
          "line": {
           "width": 0
          },
          "type": "rect",
          "x0": 4,
          "x1": 5,
          "xref": "x",
          "y0": 30,
          "y1": 31,
          "yref": "y"
         },
         {
          "fillcolor": "rgb(170, 68, 153)",
          "line": {
           "width": 0
          },
          "type": "rect",
          "x0": 5,
          "x1": 6,
          "xref": "x",
          "y0": 30,
          "y1": 31,
          "yref": "y"
         },
         {
          "fillcolor": "rgb(68, 170, 153)",
          "line": {
           "width": 0
          },
          "type": "rect",
          "x0": 6,
          "x1": 7,
          "xref": "x",
          "y0": 30,
          "y1": 31,
          "yref": "y"
         },
         {
          "fillcolor": "rgb(153, 153, 51)",
          "line": {
           "width": 0
          },
          "type": "rect",
          "x0": 7,
          "x1": 8,
          "xref": "x",
          "y0": 30,
          "y1": 31,
          "yref": "y"
         },
         {
          "fillcolor": "rgb(136, 34, 85)",
          "line": {
           "width": 0
          },
          "type": "rect",
          "x0": 8,
          "x1": 9,
          "xref": "x",
          "y0": 30,
          "y1": 31,
          "yref": "y"
         },
         {
          "fillcolor": "rgb(102, 17, 0)",
          "line": {
           "width": 0
          },
          "type": "rect",
          "x0": 9,
          "x1": 10,
          "xref": "x",
          "y0": 30,
          "y1": 31,
          "yref": "y"
         },
         {
          "fillcolor": "rgb(136, 136, 136)",
          "line": {
           "width": 0
          },
          "type": "rect",
          "x0": 10,
          "x1": 11,
          "xref": "x",
          "y0": 30,
          "y1": 31,
          "yref": "y"
         },
         {
          "fillcolor": "rgb(229, 134, 6)",
          "line": {
           "width": 0
          },
          "type": "rect",
          "x0": 0,
          "x1": 1,
          "xref": "x",
          "y0": 31,
          "y1": 32,
          "yref": "y"
         },
         {
          "fillcolor": "rgb(93, 105, 177)",
          "line": {
           "width": 0
          },
          "type": "rect",
          "x0": 1,
          "x1": 2,
          "xref": "x",
          "y0": 31,
          "y1": 32,
          "yref": "y"
         },
         {
          "fillcolor": "rgb(82, 188, 163)",
          "line": {
           "width": 0
          },
          "type": "rect",
          "x0": 2,
          "x1": 3,
          "xref": "x",
          "y0": 31,
          "y1": 32,
          "yref": "y"
         },
         {
          "fillcolor": "rgb(153, 201, 69)",
          "line": {
           "width": 0
          },
          "type": "rect",
          "x0": 3,
          "x1": 4,
          "xref": "x",
          "y0": 31,
          "y1": 32,
          "yref": "y"
         },
         {
          "fillcolor": "rgb(204, 97, 176)",
          "line": {
           "width": 0
          },
          "type": "rect",
          "x0": 4,
          "x1": 5,
          "xref": "x",
          "y0": 31,
          "y1": 32,
          "yref": "y"
         },
         {
          "fillcolor": "rgb(36, 121, 108)",
          "line": {
           "width": 0
          },
          "type": "rect",
          "x0": 5,
          "x1": 6,
          "xref": "x",
          "y0": 31,
          "y1": 32,
          "yref": "y"
         },
         {
          "fillcolor": "rgb(218, 165, 27)",
          "line": {
           "width": 0
          },
          "type": "rect",
          "x0": 6,
          "x1": 7,
          "xref": "x",
          "y0": 31,
          "y1": 32,
          "yref": "y"
         },
         {
          "fillcolor": "rgb(47, 138, 196)",
          "line": {
           "width": 0
          },
          "type": "rect",
          "x0": 7,
          "x1": 8,
          "xref": "x",
          "y0": 31,
          "y1": 32,
          "yref": "y"
         },
         {
          "fillcolor": "rgb(118, 78, 159)",
          "line": {
           "width": 0
          },
          "type": "rect",
          "x0": 8,
          "x1": 9,
          "xref": "x",
          "y0": 31,
          "y1": 32,
          "yref": "y"
         },
         {
          "fillcolor": "rgb(237, 100, 90)",
          "line": {
           "width": 0
          },
          "type": "rect",
          "x0": 9,
          "x1": 10,
          "xref": "x",
          "y0": 31,
          "y1": 32,
          "yref": "y"
         },
         {
          "fillcolor": "rgb(165, 170, 153)",
          "line": {
           "width": 0
          },
          "type": "rect",
          "x0": 10,
          "x1": 11,
          "xref": "x",
          "y0": 31,
          "y1": 32,
          "yref": "y"
         },
         {
          "fillcolor": "rgb(124, 124, 124)",
          "line": {
           "width": 0
          },
          "type": "rect",
          "x0": 0,
          "x1": 1,
          "xref": "x",
          "y0": 32,
          "y1": 33,
          "yref": "y"
         },
         {
          "fillcolor": "rgb(140, 120, 93)",
          "line": {
           "width": 0
          },
          "type": "rect",
          "x0": 1,
          "x1": 2,
          "xref": "x",
          "y0": 32,
          "y1": 33,
          "yref": "y"
         },
         {
          "fillcolor": "rgb(160, 97, 119)",
          "line": {
           "width": 0
          },
          "type": "rect",
          "x0": 2,
          "x1": 3,
          "xref": "x",
          "y0": 32,
          "y1": 33,
          "yref": "y"
         },
         {
          "fillcolor": "rgb(156, 156, 94)",
          "line": {
           "width": 0
          },
          "type": "rect",
          "x0": 3,
          "x1": 4,
          "xref": "x",
          "y0": 32,
          "y1": 33,
          "yref": "y"
         },
         {
          "fillcolor": "rgb(104, 133, 92)",
          "line": {
           "width": 0
          },
          "type": "rect",
          "x0": 4,
          "x1": 5,
          "xref": "x",
          "y0": 32,
          "y1": 33,
          "yref": "y"
         },
         {
          "fillcolor": "rgb(98, 83, 119)",
          "line": {
           "width": 0
          },
          "type": "rect",
          "x0": 5,
          "x1": 6,
          "xref": "x",
          "y0": 32,
          "y1": 33,
          "yref": "y"
         },
         {
          "fillcolor": "rgb(82, 106, 131)",
          "line": {
           "width": 0
          },
          "type": "rect",
          "x0": 6,
          "x1": 7,
          "xref": "x",
          "y0": 32,
          "y1": 33,
          "yref": "y"
         },
         {
          "fillcolor": "rgb(115, 111, 76)",
          "line": {
           "width": 0
          },
          "type": "rect",
          "x0": 7,
          "x1": 8,
          "xref": "x",
          "y0": 32,
          "y1": 33,
          "yref": "y"
         },
         {
          "fillcolor": "rgb(175, 100, 88)",
          "line": {
           "width": 0
          },
          "type": "rect",
          "x0": 8,
          "x1": 9,
          "xref": "x",
          "y0": 32,
          "y1": 33,
          "yref": "y"
         },
         {
          "fillcolor": "rgb(217, 175, 107)",
          "line": {
           "width": 0
          },
          "type": "rect",
          "x0": 9,
          "x1": 10,
          "xref": "x",
          "y0": 32,
          "y1": 33,
          "yref": "y"
         },
         {
          "fillcolor": "rgb(133, 92, 117)",
          "line": {
           "width": 0
          },
          "type": "rect",
          "x0": 10,
          "x1": 11,
          "xref": "x",
          "y0": 32,
          "y1": 33,
          "yref": "y"
         },
         {
          "fillcolor": "rgb(165, 170, 153)",
          "line": {
           "width": 0
          },
          "type": "rect",
          "x0": 0,
          "x1": 1,
          "xref": "x",
          "y0": 33,
          "y1": 34,
          "yref": "y"
         },
         {
          "fillcolor": "rgb(249, 123, 114)",
          "line": {
           "width": 0
          },
          "type": "rect",
          "x0": 1,
          "x1": 2,
          "xref": "x",
          "y0": 33,
          "y1": 34,
          "yref": "y"
         },
         {
          "fillcolor": "rgb(207, 28, 144)",
          "line": {
           "width": 0
          },
          "type": "rect",
          "x0": 2,
          "x1": 3,
          "xref": "x",
          "y0": 33,
          "y1": 34,
          "yref": "y"
         },
         {
          "fillcolor": "rgb(0, 134, 149)",
          "line": {
           "width": 0
          },
          "type": "rect",
          "x0": 3,
          "x1": 4,
          "xref": "x",
          "y0": 33,
          "y1": 34,
          "yref": "y"
         },
         {
          "fillcolor": "rgb(230, 131, 16)",
          "line": {
           "width": 0
          },
          "type": "rect",
          "x0": 4,
          "x1": 5,
          "xref": "x",
          "y0": 33,
          "y1": 34,
          "yref": "y"
         },
         {
          "fillcolor": "rgb(128, 186, 90)",
          "line": {
           "width": 0
          },
          "type": "rect",
          "x0": 5,
          "x1": 6,
          "xref": "x",
          "y0": 33,
          "y1": 34,
          "yref": "y"
         },
         {
          "fillcolor": "rgb(231, 63, 116)",
          "line": {
           "width": 0
          },
          "type": "rect",
          "x0": 6,
          "x1": 7,
          "xref": "x",
          "y0": 33,
          "y1": 34,
          "yref": "y"
         },
         {
          "fillcolor": "rgb(242, 183, 1)",
          "line": {
           "width": 0
          },
          "type": "rect",
          "x0": 7,
          "x1": 8,
          "xref": "x",
          "y0": 33,
          "y1": 34,
          "yref": "y"
         },
         {
          "fillcolor": "rgb(57, 105, 172)",
          "line": {
           "width": 0
          },
          "type": "rect",
          "x0": 8,
          "x1": 9,
          "xref": "x",
          "y0": 33,
          "y1": 34,
          "yref": "y"
         },
         {
          "fillcolor": "rgb(17, 165, 121)",
          "line": {
           "width": 0
          },
          "type": "rect",
          "x0": 9,
          "x1": 10,
          "xref": "x",
          "y0": 33,
          "y1": 34,
          "yref": "y"
         },
         {
          "fillcolor": "rgb(127, 60, 141)",
          "line": {
           "width": 0
          },
          "type": "rect",
          "x0": 10,
          "x1": 11,
          "xref": "x",
          "y0": 33,
          "y1": 34,
          "yref": "y"
         },
         {
          "fillcolor": "rgb(179, 179, 179)",
          "line": {
           "width": 0
          },
          "type": "rect",
          "x0": 0,
          "x1": 1,
          "xref": "x",
          "y0": 34,
          "y1": 35,
          "yref": "y"
         },
         {
          "fillcolor": "rgb(180, 151, 231)",
          "line": {
           "width": 0
          },
          "type": "rect",
          "x0": 1,
          "x1": 2,
          "xref": "x",
          "y0": 34,
          "y1": 35,
          "yref": "y"
         },
         {
          "fillcolor": "rgb(139, 224, 164)",
          "line": {
           "width": 0
          },
          "type": "rect",
          "x0": 2,
          "x1": 3,
          "xref": "x",
          "y0": 34,
          "y1": 35,
          "yref": "y"
         },
         {
          "fillcolor": "rgb(201, 219, 116)",
          "line": {
           "width": 0
          },
          "type": "rect",
          "x0": 3,
          "x1": 4,
          "xref": "x",
          "y0": 34,
          "y1": 35,
          "yref": "y"
         },
         {
          "fillcolor": "rgb(254, 136, 177)",
          "line": {
           "width": 0
          },
          "type": "rect",
          "x0": 4,
          "x1": 5,
          "xref": "x",
          "y0": 34,
          "y1": 35,
          "yref": "y"
         },
         {
          "fillcolor": "rgb(158, 185, 243)",
          "line": {
           "width": 0
          },
          "type": "rect",
          "x0": 5,
          "x1": 6,
          "xref": "x",
          "y0": 34,
          "y1": 35,
          "yref": "y"
         },
         {
          "fillcolor": "rgb(135, 197, 95)",
          "line": {
           "width": 0
          },
          "type": "rect",
          "x0": 6,
          "x1": 7,
          "xref": "x",
          "y0": 34,
          "y1": 35,
          "yref": "y"
         },
         {
          "fillcolor": "rgb(220, 176, 242)",
          "line": {
           "width": 0
          },
          "type": "rect",
          "x0": 7,
          "x1": 8,
          "xref": "x",
          "y0": 34,
          "y1": 35,
          "yref": "y"
         },
         {
          "fillcolor": "rgb(248, 156, 116)",
          "line": {
           "width": 0
          },
          "type": "rect",
          "x0": 8,
          "x1": 9,
          "xref": "x",
          "y0": 34,
          "y1": 35,
          "yref": "y"
         },
         {
          "fillcolor": "rgb(246, 207, 113)",
          "line": {
           "width": 0
          },
          "type": "rect",
          "x0": 9,
          "x1": 10,
          "xref": "x",
          "y0": 34,
          "y1": 35,
          "yref": "y"
         },
         {
          "fillcolor": "rgb(102, 197, 204)",
          "line": {
           "width": 0
          },
          "type": "rect",
          "x0": 10,
          "x1": 11,
          "xref": "x",
          "y0": 34,
          "y1": 35,
          "yref": "y"
         },
         {
          "fillcolor": "rgb(102, 102, 102)",
          "line": {
           "width": 0
          },
          "type": "rect",
          "x0": 0,
          "x1": 1,
          "xref": "x",
          "y0": 35,
          "y1": 36,
          "yref": "y"
         },
         {
          "fillcolor": "rgb(111, 64, 112)",
          "line": {
           "width": 0
          },
          "type": "rect",
          "x0": 1,
          "x1": 2,
          "xref": "x",
          "y0": 35,
          "y1": 36,
          "yref": "y"
         },
         {
          "fillcolor": "rgb(148, 52, 110)",
          "line": {
           "width": 0
          },
          "type": "rect",
          "x0": 2,
          "x1": 3,
          "xref": "x",
          "y0": 35,
          "y1": 36,
          "yref": "y"
         },
         {
          "fillcolor": "rgb(204, 80, 62)",
          "line": {
           "width": 0
          },
          "type": "rect",
          "x0": 3,
          "x1": 4,
          "xref": "x",
          "y0": 35,
          "y1": 36,
          "yref": "y"
         },
         {
          "fillcolor": "rgb(225, 124, 5)",
          "line": {
           "width": 0
          },
          "type": "rect",
          "x0": 4,
          "x1": 5,
          "xref": "x",
          "y0": 35,
          "y1": 36,
          "yref": "y"
         },
         {
          "fillcolor": "rgb(237, 173, 8)",
          "line": {
           "width": 0
          },
          "type": "rect",
          "x0": 5,
          "x1": 6,
          "xref": "x",
          "y0": 35,
          "y1": 36,
          "yref": "y"
         },
         {
          "fillcolor": "rgb(115, 175, 72)",
          "line": {
           "width": 0
          },
          "type": "rect",
          "x0": 6,
          "x1": 7,
          "xref": "x",
          "y0": 35,
          "y1": 36,
          "yref": "y"
         },
         {
          "fillcolor": "rgb(15, 133, 84)",
          "line": {
           "width": 0
          },
          "type": "rect",
          "x0": 7,
          "x1": 8,
          "xref": "x",
          "y0": 35,
          "y1": 36,
          "yref": "y"
         },
         {
          "fillcolor": "rgb(56, 166, 165)",
          "line": {
           "width": 0
          },
          "type": "rect",
          "x0": 8,
          "x1": 9,
          "xref": "x",
          "y0": 35,
          "y1": 36,
          "yref": "y"
         },
         {
          "fillcolor": "rgb(29, 105, 150)",
          "line": {
           "width": 0
          },
          "type": "rect",
          "x0": 9,
          "x1": 10,
          "xref": "x",
          "y0": 35,
          "y1": 36,
          "yref": "y"
         },
         {
          "fillcolor": "rgb(95, 70, 144)",
          "line": {
           "width": 0
          },
          "type": "rect",
          "x0": 10,
          "x1": 11,
          "xref": "x",
          "y0": 35,
          "y1": 36,
          "yref": "y"
         },
         {
          "fillcolor": "rgb(136, 136, 136)",
          "line": {
           "width": 0
          },
          "type": "rect",
          "x0": 0,
          "x1": 1,
          "xref": "x",
          "y0": 36,
          "y1": 37,
          "yref": "y"
         },
         {
          "fillcolor": "rgb(102, 17, 0)",
          "line": {
           "width": 0
          },
          "type": "rect",
          "x0": 1,
          "x1": 2,
          "xref": "x",
          "y0": 36,
          "y1": 37,
          "yref": "y"
         },
         {
          "fillcolor": "rgb(136, 34, 85)",
          "line": {
           "width": 0
          },
          "type": "rect",
          "x0": 2,
          "x1": 3,
          "xref": "x",
          "y0": 36,
          "y1": 37,
          "yref": "y"
         },
         {
          "fillcolor": "rgb(153, 153, 51)",
          "line": {
           "width": 0
          },
          "type": "rect",
          "x0": 3,
          "x1": 4,
          "xref": "x",
          "y0": 36,
          "y1": 37,
          "yref": "y"
         },
         {
          "fillcolor": "rgb(68, 170, 153)",
          "line": {
           "width": 0
          },
          "type": "rect",
          "x0": 4,
          "x1": 5,
          "xref": "x",
          "y0": 36,
          "y1": 37,
          "yref": "y"
         },
         {
          "fillcolor": "rgb(170, 68, 153)",
          "line": {
           "width": 0
          },
          "type": "rect",
          "x0": 5,
          "x1": 6,
          "xref": "x",
          "y0": 36,
          "y1": 37,
          "yref": "y"
         },
         {
          "fillcolor": "rgb(51, 34, 136)",
          "line": {
           "width": 0
          },
          "type": "rect",
          "x0": 6,
          "x1": 7,
          "xref": "x",
          "y0": 36,
          "y1": 37,
          "yref": "y"
         },
         {
          "fillcolor": "rgb(17, 119, 51)",
          "line": {
           "width": 0
          },
          "type": "rect",
          "x0": 7,
          "x1": 8,
          "xref": "x",
          "y0": 36,
          "y1": 37,
          "yref": "y"
         },
         {
          "fillcolor": "rgb(221, 204, 119)",
          "line": {
           "width": 0
          },
          "type": "rect",
          "x0": 8,
          "x1": 9,
          "xref": "x",
          "y0": 36,
          "y1": 37,
          "yref": "y"
         },
         {
          "fillcolor": "rgb(204, 102, 119)",
          "line": {
           "width": 0
          },
          "type": "rect",
          "x0": 9,
          "x1": 10,
          "xref": "x",
          "y0": 36,
          "y1": 37,
          "yref": "y"
         },
         {
          "fillcolor": "rgb(136, 204, 238)",
          "line": {
           "width": 0
          },
          "type": "rect",
          "x0": 10,
          "x1": 11,
          "xref": "x",
          "y0": 36,
          "y1": 37,
          "yref": "y"
         },
         {
          "fillcolor": "rgb(165, 170, 153)",
          "line": {
           "width": 0
          },
          "type": "rect",
          "x0": 0,
          "x1": 1,
          "xref": "x",
          "y0": 37,
          "y1": 38,
          "yref": "y"
         },
         {
          "fillcolor": "rgb(237, 100, 90)",
          "line": {
           "width": 0
          },
          "type": "rect",
          "x0": 1,
          "x1": 2,
          "xref": "x",
          "y0": 37,
          "y1": 38,
          "yref": "y"
         },
         {
          "fillcolor": "rgb(118, 78, 159)",
          "line": {
           "width": 0
          },
          "type": "rect",
          "x0": 2,
          "x1": 3,
          "xref": "x",
          "y0": 37,
          "y1": 38,
          "yref": "y"
         },
         {
          "fillcolor": "rgb(47, 138, 196)",
          "line": {
           "width": 0
          },
          "type": "rect",
          "x0": 3,
          "x1": 4,
          "xref": "x",
          "y0": 37,
          "y1": 38,
          "yref": "y"
         },
         {
          "fillcolor": "rgb(218, 165, 27)",
          "line": {
           "width": 0
          },
          "type": "rect",
          "x0": 4,
          "x1": 5,
          "xref": "x",
          "y0": 37,
          "y1": 38,
          "yref": "y"
         },
         {
          "fillcolor": "rgb(36, 121, 108)",
          "line": {
           "width": 0
          },
          "type": "rect",
          "x0": 5,
          "x1": 6,
          "xref": "x",
          "y0": 37,
          "y1": 38,
          "yref": "y"
         },
         {
          "fillcolor": "rgb(204, 97, 176)",
          "line": {
           "width": 0
          },
          "type": "rect",
          "x0": 6,
          "x1": 7,
          "xref": "x",
          "y0": 37,
          "y1": 38,
          "yref": "y"
         },
         {
          "fillcolor": "rgb(153, 201, 69)",
          "line": {
           "width": 0
          },
          "type": "rect",
          "x0": 7,
          "x1": 8,
          "xref": "x",
          "y0": 37,
          "y1": 38,
          "yref": "y"
         },
         {
          "fillcolor": "rgb(82, 188, 163)",
          "line": {
           "width": 0
          },
          "type": "rect",
          "x0": 8,
          "x1": 9,
          "xref": "x",
          "y0": 37,
          "y1": 38,
          "yref": "y"
         },
         {
          "fillcolor": "rgb(93, 105, 177)",
          "line": {
           "width": 0
          },
          "type": "rect",
          "x0": 9,
          "x1": 10,
          "xref": "x",
          "y0": 37,
          "y1": 38,
          "yref": "y"
         },
         {
          "fillcolor": "rgb(229, 134, 6)",
          "line": {
           "width": 0
          },
          "type": "rect",
          "x0": 10,
          "x1": 11,
          "xref": "x",
          "y0": 37,
          "y1": 38,
          "yref": "y"
         }
        ],
        "template": {
         "data": {
          "bar": [
           {
            "error_x": {
             "color": "#2a3f5f"
            },
            "error_y": {
             "color": "#2a3f5f"
            },
            "marker": {
             "line": {
              "color": "#E5ECF6",
              "width": 0.5
             },
             "pattern": {
              "fillmode": "overlay",
              "size": 10,
              "solidity": 0.2
             }
            },
            "type": "bar"
           }
          ],
          "barpolar": [
           {
            "marker": {
             "line": {
              "color": "#E5ECF6",
              "width": 0.5
             },
             "pattern": {
              "fillmode": "overlay",
              "size": 10,
              "solidity": 0.2
             }
            },
            "type": "barpolar"
           }
          ],
          "carpet": [
           {
            "aaxis": {
             "endlinecolor": "#2a3f5f",
             "gridcolor": "white",
             "linecolor": "white",
             "minorgridcolor": "white",
             "startlinecolor": "#2a3f5f"
            },
            "baxis": {
             "endlinecolor": "#2a3f5f",
             "gridcolor": "white",
             "linecolor": "white",
             "minorgridcolor": "white",
             "startlinecolor": "#2a3f5f"
            },
            "type": "carpet"
           }
          ],
          "choropleth": [
           {
            "colorbar": {
             "outlinewidth": 0,
             "ticks": ""
            },
            "type": "choropleth"
           }
          ],
          "contour": [
           {
            "colorbar": {
             "outlinewidth": 0,
             "ticks": ""
            },
            "colorscale": [
             [
              0,
              "#0d0887"
             ],
             [
              0.1111111111111111,
              "#46039f"
             ],
             [
              0.2222222222222222,
              "#7201a8"
             ],
             [
              0.3333333333333333,
              "#9c179e"
             ],
             [
              0.4444444444444444,
              "#bd3786"
             ],
             [
              0.5555555555555556,
              "#d8576b"
             ],
             [
              0.6666666666666666,
              "#ed7953"
             ],
             [
              0.7777777777777778,
              "#fb9f3a"
             ],
             [
              0.8888888888888888,
              "#fdca26"
             ],
             [
              1,
              "#f0f921"
             ]
            ],
            "type": "contour"
           }
          ],
          "contourcarpet": [
           {
            "colorbar": {
             "outlinewidth": 0,
             "ticks": ""
            },
            "type": "contourcarpet"
           }
          ],
          "heatmap": [
           {
            "colorbar": {
             "outlinewidth": 0,
             "ticks": ""
            },
            "colorscale": [
             [
              0,
              "#0d0887"
             ],
             [
              0.1111111111111111,
              "#46039f"
             ],
             [
              0.2222222222222222,
              "#7201a8"
             ],
             [
              0.3333333333333333,
              "#9c179e"
             ],
             [
              0.4444444444444444,
              "#bd3786"
             ],
             [
              0.5555555555555556,
              "#d8576b"
             ],
             [
              0.6666666666666666,
              "#ed7953"
             ],
             [
              0.7777777777777778,
              "#fb9f3a"
             ],
             [
              0.8888888888888888,
              "#fdca26"
             ],
             [
              1,
              "#f0f921"
             ]
            ],
            "type": "heatmap"
           }
          ],
          "histogram": [
           {
            "marker": {
             "pattern": {
              "fillmode": "overlay",
              "size": 10,
              "solidity": 0.2
             }
            },
            "type": "histogram"
           }
          ],
          "histogram2d": [
           {
            "colorbar": {
             "outlinewidth": 0,
             "ticks": ""
            },
            "colorscale": [
             [
              0,
              "#0d0887"
             ],
             [
              0.1111111111111111,
              "#46039f"
             ],
             [
              0.2222222222222222,
              "#7201a8"
             ],
             [
              0.3333333333333333,
              "#9c179e"
             ],
             [
              0.4444444444444444,
              "#bd3786"
             ],
             [
              0.5555555555555556,
              "#d8576b"
             ],
             [
              0.6666666666666666,
              "#ed7953"
             ],
             [
              0.7777777777777778,
              "#fb9f3a"
             ],
             [
              0.8888888888888888,
              "#fdca26"
             ],
             [
              1,
              "#f0f921"
             ]
            ],
            "type": "histogram2d"
           }
          ],
          "histogram2dcontour": [
           {
            "colorbar": {
             "outlinewidth": 0,
             "ticks": ""
            },
            "colorscale": [
             [
              0,
              "#0d0887"
             ],
             [
              0.1111111111111111,
              "#46039f"
             ],
             [
              0.2222222222222222,
              "#7201a8"
             ],
             [
              0.3333333333333333,
              "#9c179e"
             ],
             [
              0.4444444444444444,
              "#bd3786"
             ],
             [
              0.5555555555555556,
              "#d8576b"
             ],
             [
              0.6666666666666666,
              "#ed7953"
             ],
             [
              0.7777777777777778,
              "#fb9f3a"
             ],
             [
              0.8888888888888888,
              "#fdca26"
             ],
             [
              1,
              "#f0f921"
             ]
            ],
            "type": "histogram2dcontour"
           }
          ],
          "mesh3d": [
           {
            "colorbar": {
             "outlinewidth": 0,
             "ticks": ""
            },
            "type": "mesh3d"
           }
          ],
          "parcoords": [
           {
            "line": {
             "colorbar": {
              "outlinewidth": 0,
              "ticks": ""
             }
            },
            "type": "parcoords"
           }
          ],
          "pie": [
           {
            "automargin": true,
            "type": "pie"
           }
          ],
          "scatter": [
           {
            "fillpattern": {
             "fillmode": "overlay",
             "size": 10,
             "solidity": 0.2
            },
            "type": "scatter"
           }
          ],
          "scatter3d": [
           {
            "line": {
             "colorbar": {
              "outlinewidth": 0,
              "ticks": ""
             }
            },
            "marker": {
             "colorbar": {
              "outlinewidth": 0,
              "ticks": ""
             }
            },
            "type": "scatter3d"
           }
          ],
          "scattercarpet": [
           {
            "marker": {
             "colorbar": {
              "outlinewidth": 0,
              "ticks": ""
             }
            },
            "type": "scattercarpet"
           }
          ],
          "scattergeo": [
           {
            "marker": {
             "colorbar": {
              "outlinewidth": 0,
              "ticks": ""
             }
            },
            "type": "scattergeo"
           }
          ],
          "scattergl": [
           {
            "marker": {
             "colorbar": {
              "outlinewidth": 0,
              "ticks": ""
             }
            },
            "type": "scattergl"
           }
          ],
          "scattermap": [
           {
            "marker": {
             "colorbar": {
              "outlinewidth": 0,
              "ticks": ""
             }
            },
            "type": "scattermap"
           }
          ],
          "scattermapbox": [
           {
            "marker": {
             "colorbar": {
              "outlinewidth": 0,
              "ticks": ""
             }
            },
            "type": "scattermapbox"
           }
          ],
          "scatterpolar": [
           {
            "marker": {
             "colorbar": {
              "outlinewidth": 0,
              "ticks": ""
             }
            },
            "type": "scatterpolar"
           }
          ],
          "scatterpolargl": [
           {
            "marker": {
             "colorbar": {
              "outlinewidth": 0,
              "ticks": ""
             }
            },
            "type": "scatterpolargl"
           }
          ],
          "scatterternary": [
           {
            "marker": {
             "colorbar": {
              "outlinewidth": 0,
              "ticks": ""
             }
            },
            "type": "scatterternary"
           }
          ],
          "surface": [
           {
            "colorbar": {
             "outlinewidth": 0,
             "ticks": ""
            },
            "colorscale": [
             [
              0,
              "#0d0887"
             ],
             [
              0.1111111111111111,
              "#46039f"
             ],
             [
              0.2222222222222222,
              "#7201a8"
             ],
             [
              0.3333333333333333,
              "#9c179e"
             ],
             [
              0.4444444444444444,
              "#bd3786"
             ],
             [
              0.5555555555555556,
              "#d8576b"
             ],
             [
              0.6666666666666666,
              "#ed7953"
             ],
             [
              0.7777777777777778,
              "#fb9f3a"
             ],
             [
              0.8888888888888888,
              "#fdca26"
             ],
             [
              1,
              "#f0f921"
             ]
            ],
            "type": "surface"
           }
          ],
          "table": [
           {
            "cells": {
             "fill": {
              "color": "#EBF0F8"
             },
             "line": {
              "color": "white"
             }
            },
            "header": {
             "fill": {
              "color": "#C8D4E3"
             },
             "line": {
              "color": "white"
             }
            },
            "type": "table"
           }
          ]
         },
         "layout": {
          "annotationdefaults": {
           "arrowcolor": "#2a3f5f",
           "arrowhead": 0,
           "arrowwidth": 1
          },
          "autotypenumbers": "strict",
          "coloraxis": {
           "colorbar": {
            "outlinewidth": 0,
            "ticks": ""
           }
          },
          "colorscale": {
           "diverging": [
            [
             0,
             "#8e0152"
            ],
            [
             0.1,
             "#c51b7d"
            ],
            [
             0.2,
             "#de77ae"
            ],
            [
             0.3,
             "#f1b6da"
            ],
            [
             0.4,
             "#fde0ef"
            ],
            [
             0.5,
             "#f7f7f7"
            ],
            [
             0.6,
             "#e6f5d0"
            ],
            [
             0.7,
             "#b8e186"
            ],
            [
             0.8,
             "#7fbc41"
            ],
            [
             0.9,
             "#4d9221"
            ],
            [
             1,
             "#276419"
            ]
           ],
           "sequential": [
            [
             0,
             "#0d0887"
            ],
            [
             0.1111111111111111,
             "#46039f"
            ],
            [
             0.2222222222222222,
             "#7201a8"
            ],
            [
             0.3333333333333333,
             "#9c179e"
            ],
            [
             0.4444444444444444,
             "#bd3786"
            ],
            [
             0.5555555555555556,
             "#d8576b"
            ],
            [
             0.6666666666666666,
             "#ed7953"
            ],
            [
             0.7777777777777778,
             "#fb9f3a"
            ],
            [
             0.8888888888888888,
             "#fdca26"
            ],
            [
             1,
             "#f0f921"
            ]
           ],
           "sequentialminus": [
            [
             0,
             "#0d0887"
            ],
            [
             0.1111111111111111,
             "#46039f"
            ],
            [
             0.2222222222222222,
             "#7201a8"
            ],
            [
             0.3333333333333333,
             "#9c179e"
            ],
            [
             0.4444444444444444,
             "#bd3786"
            ],
            [
             0.5555555555555556,
             "#d8576b"
            ],
            [
             0.6666666666666666,
             "#ed7953"
            ],
            [
             0.7777777777777778,
             "#fb9f3a"
            ],
            [
             0.8888888888888888,
             "#fdca26"
            ],
            [
             1,
             "#f0f921"
            ]
           ]
          },
          "colorway": [
           "#636efa",
           "#EF553B",
           "#00cc96",
           "#ab63fa",
           "#FFA15A",
           "#19d3f3",
           "#FF6692",
           "#B6E880",
           "#FF97FF",
           "#FECB52"
          ],
          "font": {
           "color": "#2a3f5f"
          },
          "geo": {
           "bgcolor": "white",
           "lakecolor": "white",
           "landcolor": "#E5ECF6",
           "showlakes": true,
           "showland": true,
           "subunitcolor": "white"
          },
          "hoverlabel": {
           "align": "left"
          },
          "hovermode": "closest",
          "mapbox": {
           "style": "light"
          },
          "paper_bgcolor": "white",
          "plot_bgcolor": "#E5ECF6",
          "polar": {
           "angularaxis": {
            "gridcolor": "white",
            "linecolor": "white",
            "ticks": ""
           },
           "bgcolor": "#E5ECF6",
           "radialaxis": {
            "gridcolor": "white",
            "linecolor": "white",
            "ticks": ""
           }
          },
          "scene": {
           "xaxis": {
            "backgroundcolor": "#E5ECF6",
            "gridcolor": "white",
            "gridwidth": 2,
            "linecolor": "white",
            "showbackground": true,
            "ticks": "",
            "zerolinecolor": "white"
           },
           "yaxis": {
            "backgroundcolor": "#E5ECF6",
            "gridcolor": "white",
            "gridwidth": 2,
            "linecolor": "white",
            "showbackground": true,
            "ticks": "",
            "zerolinecolor": "white"
           },
           "zaxis": {
            "backgroundcolor": "#E5ECF6",
            "gridcolor": "white",
            "gridwidth": 2,
            "linecolor": "white",
            "showbackground": true,
            "ticks": "",
            "zerolinecolor": "white"
           }
          },
          "shapedefaults": {
           "line": {
            "color": "#2a3f5f"
           }
          },
          "ternary": {
           "aaxis": {
            "gridcolor": "white",
            "linecolor": "white",
            "ticks": ""
           },
           "baxis": {
            "gridcolor": "white",
            "linecolor": "white",
            "ticks": ""
           },
           "bgcolor": "#E5ECF6",
           "caxis": {
            "gridcolor": "white",
            "linecolor": "white",
            "ticks": ""
           }
          },
          "title": {
           "x": 0.05
          },
          "xaxis": {
           "automargin": true,
           "gridcolor": "white",
           "linecolor": "white",
           "ticks": "",
           "title": {
            "standoff": 15
           },
           "zerolinecolor": "white",
           "zerolinewidth": 2
          },
          "yaxis": {
           "automargin": true,
           "gridcolor": "white",
           "linecolor": "white",
           "ticks": "",
           "title": {
            "standoff": 15
           },
           "zerolinecolor": "white",
           "zerolinewidth": 2
          }
         }
        },
        "title": {
         "text": "Plotly Express – qualitative Farbpaletten"
        },
        "xaxis": {
         "visible": false
        },
        "yaxis": {
         "range": [
          -0.5,
          38
         ],
         "visible": false
        }
       }
      }
     },
     "metadata": {},
     "output_type": "display_data"
    }
   ],
   "source": [
    "# Sichere Auswahl der Farbpaletten (nur Listen aus Farben)\n",
    "paletten = {\n",
    "    name: farben for name, farben in px.colors.qualitative.__dict__.items()\n",
    "    if isinstance(farben, list) and all(\n",
    "        isinstance(f, str) and f.startswith(\"#\") or f.startswith(\"rgb\") for f in farben\n",
    "    )\n",
    "}\n",
    "\n",
    "fig = go.Figure()\n",
    "\n",
    "for i, (name, farben) in enumerate(paletten.items()):\n",
    "    for j, farbe in enumerate(farben):\n",
    "        fig.add_shape(\n",
    "            type=\"rect\",\n",
    "            x0=j, x1=j+1,\n",
    "            y0=i, y1=i+1,\n",
    "            fillcolor=farbe,\n",
    "            line=dict(width=0),\n",
    "            xref=\"x\", yref=\"y\"\n",
    "        )\n",
    "    fig.add_annotation(\n",
    "        x=-0.5, y=i + 0.5,\n",
    "        text=name,\n",
    "        showarrow=False,\n",
    "        font=dict(color=\"white\"),\n",
    "        xanchor=\"right\",\n",
    "        yanchor=\"middle\"\n",
    "    )\n",
    "\n",
    "fig.update_xaxes(visible=False)\n",
    "fig.update_yaxes(visible=False, range=[-0.5, len(paletten)])\n",
    "fig.update_layout(\n",
    "    title=\"Plotly Express – qualitative Farbpaletten\",\n",
    "    plot_bgcolor=\"black\",\n",
    "    paper_bgcolor=\"black\",\n",
    "    height=40 * len(paletten),\n",
    "    margin=dict(t=40, l=100)\n",
    ")\n",
    "\n",
    "fig.show()\n"
   ]
  },
  {
   "cell_type": "code",
   "execution_count": 4,
   "id": "49aeacf0",
   "metadata": {},
   "outputs": [
    {
     "data": {
      "text/html": [
       "<div>\n",
       "<style scoped>\n",
       "    .dataframe tbody tr th:only-of-type {\n",
       "        vertical-align: middle;\n",
       "    }\n",
       "\n",
       "    .dataframe tbody tr th {\n",
       "        vertical-align: top;\n",
       "    }\n",
       "\n",
       "    .dataframe thead th {\n",
       "        text-align: right;\n",
       "    }\n",
       "</style>\n",
       "<table border=\"1\" class=\"dataframe\">\n",
       "  <thead>\n",
       "    <tr style=\"text-align: right;\">\n",
       "      <th></th>\n",
       "      <th>Breed</th>\n",
       "      <th>type</th>\n",
       "      <th>score</th>\n",
       "      <th>popularity ranking</th>\n",
       "      <th>size</th>\n",
       "      <th>intelligence</th>\n",
       "      <th>congential ailments</th>\n",
       "      <th>score for kids</th>\n",
       "      <th>size.1</th>\n",
       "      <th>$LIFETIME COST</th>\n",
       "      <th>...</th>\n",
       "      <th>LONGEVITY(YEARS)</th>\n",
       "      <th>NUMBER OF GENETIC AILMENTS</th>\n",
       "      <th>GENETIC AILMENTS</th>\n",
       "      <th>PURCHASE PRICE</th>\n",
       "      <th>FOOD COSTS PER YEAR</th>\n",
       "      <th>GROOMING FREQUNCY</th>\n",
       "      <th>SUITABILITY FOR CHILDREN</th>\n",
       "      <th>origin_de</th>\n",
       "      <th>Breed_de</th>\n",
       "      <th>type_de</th>\n",
       "    </tr>\n",
       "  </thead>\n",
       "  <tbody>\n",
       "    <tr>\n",
       "      <th>0</th>\n",
       "      <td>Border Terrier</td>\n",
       "      <td>terrier</td>\n",
       "      <td>3.61</td>\n",
       "      <td>61</td>\n",
       "      <td>1</td>\n",
       "      <td>Above average</td>\n",
       "      <td>none</td>\n",
       "      <td>4.99</td>\n",
       "      <td>small</td>\n",
       "      <td>22638.0</td>\n",
       "      <td>...</td>\n",
       "      <td>14.0</td>\n",
       "      <td>0</td>\n",
       "      <td>none</td>\n",
       "      <td>833.0</td>\n",
       "      <td>324.0</td>\n",
       "      <td>Once a week</td>\n",
       "      <td>1</td>\n",
       "      <td>Vereinigtes Königreich</td>\n",
       "      <td>Border Terrier</td>\n",
       "      <td>Terrier</td>\n",
       "    </tr>\n",
       "  </tbody>\n",
       "</table>\n",
       "<p>1 rows × 22 columns</p>\n",
       "</div>"
      ],
      "text/plain": [
       "            Breed     type  score  popularity ranking  size   intelligence  \\\n",
       "0  Border Terrier  terrier   3.61                  61     1  Above average   \n",
       "\n",
       "  congential ailments  score for kids size.1  $LIFETIME COST  ...  \\\n",
       "0                none            4.99  small         22638.0  ...   \n",
       "\n",
       "   LONGEVITY(YEARS) NUMBER OF GENETIC AILMENTS  GENETIC AILMENTS  \\\n",
       "0              14.0                          0              none   \n",
       "\n",
       "   PURCHASE PRICE FOOD COSTS PER YEAR  GROOMING FREQUNCY  \\\n",
       "0           833.0               324.0        Once a week   \n",
       "\n",
       "   SUITABILITY FOR CHILDREN               origin_de        Breed_de  type_de  \n",
       "0                         1  Vereinigtes Königreich  Border Terrier  Terrier  \n",
       "\n",
       "[1 rows x 22 columns]"
      ]
     },
     "execution_count": 4,
     "metadata": {},
     "output_type": "execute_result"
    }
   ],
   "source": [
    "# Dataset laden\n",
    "\n",
    "config_path = os.path.join(\"..\", \"data\", \"final_dataset.csv\")\n",
    "data = pd.read_csv(config_path)\n",
    "data.head(1)"
   ]
  },
  {
   "cell_type": "markdown",
   "id": "4d31180a",
   "metadata": {},
   "source": [
    "### Top 10 kinderfreundliche Rassen"
   ]
  },
  {
   "cell_type": "code",
   "execution_count": 5,
   "id": "9a71cb65",
   "metadata": {},
   "outputs": [
    {
     "data": {
      "text/html": [
       "<div>\n",
       "<style scoped>\n",
       "    .dataframe tbody tr th:only-of-type {\n",
       "        vertical-align: middle;\n",
       "    }\n",
       "\n",
       "    .dataframe tbody tr th {\n",
       "        vertical-align: top;\n",
       "    }\n",
       "\n",
       "    .dataframe thead th {\n",
       "        text-align: right;\n",
       "    }\n",
       "</style>\n",
       "<table border=\"1\" class=\"dataframe\">\n",
       "  <thead>\n",
       "    <tr style=\"text-align: right;\">\n",
       "      <th></th>\n",
       "      <th>Breed</th>\n",
       "      <th>type</th>\n",
       "      <th>score</th>\n",
       "      <th>popularity ranking</th>\n",
       "      <th>size</th>\n",
       "      <th>intelligence</th>\n",
       "      <th>congential ailments</th>\n",
       "      <th>score for kids</th>\n",
       "      <th>size.1</th>\n",
       "      <th>$LIFETIME COST</th>\n",
       "      <th>...</th>\n",
       "      <th>LONGEVITY(YEARS)</th>\n",
       "      <th>NUMBER OF GENETIC AILMENTS</th>\n",
       "      <th>GENETIC AILMENTS</th>\n",
       "      <th>PURCHASE PRICE</th>\n",
       "      <th>FOOD COSTS PER YEAR</th>\n",
       "      <th>GROOMING FREQUNCY</th>\n",
       "      <th>SUITABILITY FOR CHILDREN</th>\n",
       "      <th>origin_de</th>\n",
       "      <th>Breed_de</th>\n",
       "      <th>type_de</th>\n",
       "    </tr>\n",
       "  </thead>\n",
       "  <tbody>\n",
       "    <tr>\n",
       "      <th>0</th>\n",
       "      <td>Border Terrier</td>\n",
       "      <td>terrier</td>\n",
       "      <td>3.61</td>\n",
       "      <td>61</td>\n",
       "      <td>1</td>\n",
       "      <td>Above average</td>\n",
       "      <td>none</td>\n",
       "      <td>4.99</td>\n",
       "      <td>small</td>\n",
       "      <td>22638.0</td>\n",
       "      <td>...</td>\n",
       "      <td>14.00</td>\n",
       "      <td>0</td>\n",
       "      <td>none</td>\n",
       "      <td>833.0</td>\n",
       "      <td>324.0</td>\n",
       "      <td>Once a week</td>\n",
       "      <td>1</td>\n",
       "      <td>Vereinigtes Königreich</td>\n",
       "      <td>Border Terrier</td>\n",
       "      <td>Terrier</td>\n",
       "    </tr>\n",
       "    <tr>\n",
       "      <th>1</th>\n",
       "      <td>Cairn Terrier</td>\n",
       "      <td>terrier</td>\n",
       "      <td>3.53</td>\n",
       "      <td>48</td>\n",
       "      <td>1</td>\n",
       "      <td>Above average</td>\n",
       "      <td>'lion jaw', heart problems</td>\n",
       "      <td>4.91</td>\n",
       "      <td>small</td>\n",
       "      <td>21992.0</td>\n",
       "      <td>...</td>\n",
       "      <td>13.84</td>\n",
       "      <td>2</td>\n",
       "      <td>'lion jaw', heart problems</td>\n",
       "      <td>435.0</td>\n",
       "      <td>324.0</td>\n",
       "      <td>Once a week</td>\n",
       "      <td>1</td>\n",
       "      <td>Schottland</td>\n",
       "      <td>Cairn Terrier</td>\n",
       "      <td>Terrier</td>\n",
       "    </tr>\n",
       "    <tr>\n",
       "      <th>2</th>\n",
       "      <td>Siberian Husky</td>\n",
       "      <td>working</td>\n",
       "      <td>3.22</td>\n",
       "      <td>16</td>\n",
       "      <td>2</td>\n",
       "      <td>Average</td>\n",
       "      <td>none</td>\n",
       "      <td>4.72</td>\n",
       "      <td>medium</td>\n",
       "      <td>22049.0</td>\n",
       "      <td>...</td>\n",
       "      <td>12.58</td>\n",
       "      <td>0</td>\n",
       "      <td>none</td>\n",
       "      <td>650.0</td>\n",
       "      <td>466.0</td>\n",
       "      <td>Once in a few weeks</td>\n",
       "      <td>1</td>\n",
       "      <td>Sibirien</td>\n",
       "      <td>Sibirischer Husky</td>\n",
       "      <td>Gebrauchshund</td>\n",
       "    </tr>\n",
       "    <tr>\n",
       "      <th>3</th>\n",
       "      <td>Welsh Springer Spaniel</td>\n",
       "      <td>sporting</td>\n",
       "      <td>3.34</td>\n",
       "      <td>81</td>\n",
       "      <td>2</td>\n",
       "      <td>Above average</td>\n",
       "      <td>hip problems</td>\n",
       "      <td>4.71</td>\n",
       "      <td>medium</td>\n",
       "      <td>20224.0</td>\n",
       "      <td>...</td>\n",
       "      <td>12.49</td>\n",
       "      <td>1</td>\n",
       "      <td>hip problems</td>\n",
       "      <td>750.0</td>\n",
       "      <td>324.0</td>\n",
       "      <td>Once a week</td>\n",
       "      <td>1</td>\n",
       "      <td>Wales</td>\n",
       "      <td>Walisischer Springer Spaniel</td>\n",
       "      <td>Jagdhund</td>\n",
       "    </tr>\n",
       "    <tr>\n",
       "      <th>4</th>\n",
       "      <td>English Cocker Spaniel</td>\n",
       "      <td>sporting</td>\n",
       "      <td>3.33</td>\n",
       "      <td>51</td>\n",
       "      <td>2</td>\n",
       "      <td>Excellent</td>\n",
       "      <td>none</td>\n",
       "      <td>4.70</td>\n",
       "      <td>medium</td>\n",
       "      <td>18993.0</td>\n",
       "      <td>...</td>\n",
       "      <td>11.66</td>\n",
       "      <td>0</td>\n",
       "      <td>none</td>\n",
       "      <td>800.0</td>\n",
       "      <td>324.0</td>\n",
       "      <td>Once a week</td>\n",
       "      <td>1</td>\n",
       "      <td>England</td>\n",
       "      <td>Englischer Cocker Spaniel</td>\n",
       "      <td>Jagdhund</td>\n",
       "    </tr>\n",
       "    <tr>\n",
       "      <th>5</th>\n",
       "      <td>Cocker Spaniel</td>\n",
       "      <td>sporting</td>\n",
       "      <td>3.30</td>\n",
       "      <td>27</td>\n",
       "      <td>1</td>\n",
       "      <td>Excellent</td>\n",
       "      <td>eye, skin problems</td>\n",
       "      <td>4.67</td>\n",
       "      <td>small</td>\n",
       "      <td>24330.0</td>\n",
       "      <td>...</td>\n",
       "      <td>12.50</td>\n",
       "      <td>2</td>\n",
       "      <td>eye, skin problems</td>\n",
       "      <td>465.0</td>\n",
       "      <td>674.0</td>\n",
       "      <td>Once a week</td>\n",
       "      <td>1</td>\n",
       "      <td>Vereinigtes Königreich</td>\n",
       "      <td>Cocker Spaniel</td>\n",
       "      <td>Jagdhund</td>\n",
       "    </tr>\n",
       "    <tr>\n",
       "      <th>6</th>\n",
       "      <td>Lhasa Apso</td>\n",
       "      <td>non-sporting</td>\n",
       "      <td>3.21</td>\n",
       "      <td>50</td>\n",
       "      <td>1</td>\n",
       "      <td>Fair</td>\n",
       "      <td>'dry eye'</td>\n",
       "      <td>4.58</td>\n",
       "      <td>small</td>\n",
       "      <td>22031.0</td>\n",
       "      <td>...</td>\n",
       "      <td>13.92</td>\n",
       "      <td>1</td>\n",
       "      <td>dry eye</td>\n",
       "      <td>350.0</td>\n",
       "      <td>324.0</td>\n",
       "      <td>Once a week</td>\n",
       "      <td>1</td>\n",
       "      <td>Tibet</td>\n",
       "      <td>Lhasa Apso</td>\n",
       "      <td>Begleithund</td>\n",
       "    </tr>\n",
       "    <tr>\n",
       "      <th>7</th>\n",
       "      <td>English Springer Spaniel</td>\n",
       "      <td>sporting</td>\n",
       "      <td>3.09</td>\n",
       "      <td>29</td>\n",
       "      <td>2</td>\n",
       "      <td>Excellent</td>\n",
       "      <td>hip, eye, skin problems; enzyme deficiency</td>\n",
       "      <td>4.47</td>\n",
       "      <td>medium</td>\n",
       "      <td>21946.0</td>\n",
       "      <td>...</td>\n",
       "      <td>12.54</td>\n",
       "      <td>4</td>\n",
       "      <td>hip, eye, skin problems; enzyme deficiency</td>\n",
       "      <td>615.0</td>\n",
       "      <td>466.0</td>\n",
       "      <td>Once a week</td>\n",
       "      <td>1</td>\n",
       "      <td>England</td>\n",
       "      <td>Englischer Springer Spaniel</td>\n",
       "      <td>Jagdhund</td>\n",
       "    </tr>\n",
       "    <tr>\n",
       "      <th>8</th>\n",
       "      <td>Shetland Sheepdog</td>\n",
       "      <td>herding</td>\n",
       "      <td>3.22</td>\n",
       "      <td>20</td>\n",
       "      <td>1</td>\n",
       "      <td>Brightest</td>\n",
       "      <td>eye problems, deafness, skin + heart problems,...</td>\n",
       "      <td>4.47</td>\n",
       "      <td>small</td>\n",
       "      <td>21006.0</td>\n",
       "      <td>...</td>\n",
       "      <td>12.53</td>\n",
       "      <td>5</td>\n",
       "      <td>eye problems, deafness, skin + heart problems,...</td>\n",
       "      <td>465.0</td>\n",
       "      <td>405.0</td>\n",
       "      <td>Daily</td>\n",
       "      <td>1</td>\n",
       "      <td>Vereinigtes Königreich</td>\n",
       "      <td>Shetland Sheepdog</td>\n",
       "      <td>Hütehund</td>\n",
       "    </tr>\n",
       "    <tr>\n",
       "      <th>9</th>\n",
       "      <td>West Highland White Terrier</td>\n",
       "      <td>terrier</td>\n",
       "      <td>3.08</td>\n",
       "      <td>32</td>\n",
       "      <td>1</td>\n",
       "      <td>Average</td>\n",
       "      <td>'lion jaw', 'dry eye', skin problems</td>\n",
       "      <td>4.45</td>\n",
       "      <td>small</td>\n",
       "      <td>20490.0</td>\n",
       "      <td>...</td>\n",
       "      <td>12.80</td>\n",
       "      <td>3</td>\n",
       "      <td>'lion jaw', 'dry eye', skin problems</td>\n",
       "      <td>538.0</td>\n",
       "      <td>324.0</td>\n",
       "      <td>Once a week</td>\n",
       "      <td>1</td>\n",
       "      <td>Schottland</td>\n",
       "      <td>West Highland White Terrier</td>\n",
       "      <td>Terrier</td>\n",
       "    </tr>\n",
       "  </tbody>\n",
       "</table>\n",
       "<p>10 rows × 22 columns</p>\n",
       "</div>"
      ],
      "text/plain": [
       "                         Breed          type  score  popularity ranking  size  \\\n",
       "0               Border Terrier       terrier   3.61                  61     1   \n",
       "1                Cairn Terrier       terrier   3.53                  48     1   \n",
       "2               Siberian Husky       working   3.22                  16     2   \n",
       "3       Welsh Springer Spaniel      sporting   3.34                  81     2   \n",
       "4       English Cocker Spaniel      sporting   3.33                  51     2   \n",
       "5               Cocker Spaniel      sporting   3.30                  27     1   \n",
       "6                   Lhasa Apso  non-sporting   3.21                  50     1   \n",
       "7     English Springer Spaniel      sporting   3.09                  29     2   \n",
       "8            Shetland Sheepdog       herding   3.22                  20     1   \n",
       "9  West Highland White Terrier       terrier   3.08                  32     1   \n",
       "\n",
       "    intelligence                                congential ailments  \\\n",
       "0  Above average                                               none   \n",
       "1  Above average                       'lion jaw', heart problems     \n",
       "2        Average                                               none   \n",
       "3  Above average                                       hip problems   \n",
       "4      Excellent                                               none   \n",
       "5      Excellent                                 eye, skin problems   \n",
       "6           Fair                                          'dry eye'   \n",
       "7      Excellent         hip, eye, skin problems; enzyme deficiency   \n",
       "8      Brightest  eye problems, deafness, skin + heart problems,...   \n",
       "9        Average               'lion jaw', 'dry eye', skin problems   \n",
       "\n",
       "   score for kids  size.1  $LIFETIME COST  ...  LONGEVITY(YEARS)  \\\n",
       "0            4.99   small         22638.0  ...             14.00   \n",
       "1            4.91   small         21992.0  ...             13.84   \n",
       "2            4.72  medium         22049.0  ...             12.58   \n",
       "3            4.71  medium         20224.0  ...             12.49   \n",
       "4            4.70  medium         18993.0  ...             11.66   \n",
       "5            4.67   small         24330.0  ...             12.50   \n",
       "6            4.58   small         22031.0  ...             13.92   \n",
       "7            4.47  medium         21946.0  ...             12.54   \n",
       "8            4.47   small         21006.0  ...             12.53   \n",
       "9            4.45   small         20490.0  ...             12.80   \n",
       "\n",
       "  NUMBER OF GENETIC AILMENTS  \\\n",
       "0                          0   \n",
       "1                          2   \n",
       "2                          0   \n",
       "3                          1   \n",
       "4                          0   \n",
       "5                          2   \n",
       "6                          1   \n",
       "7                          4   \n",
       "8                          5   \n",
       "9                          3   \n",
       "\n",
       "                                    GENETIC AILMENTS  PURCHASE PRICE  \\\n",
       "0                                               none           833.0   \n",
       "1                       'lion jaw', heart problems             435.0   \n",
       "2                                               none           650.0   \n",
       "3                                       hip problems           750.0   \n",
       "4                                               none           800.0   \n",
       "5                                 eye, skin problems           465.0   \n",
       "6                                            dry eye           350.0   \n",
       "7         hip, eye, skin problems; enzyme deficiency           615.0   \n",
       "8  eye problems, deafness, skin + heart problems,...           465.0   \n",
       "9               'lion jaw', 'dry eye', skin problems           538.0   \n",
       "\n",
       "  FOOD COSTS PER YEAR    GROOMING FREQUNCY  SUITABILITY FOR CHILDREN  \\\n",
       "0               324.0          Once a week                         1   \n",
       "1               324.0          Once a week                         1   \n",
       "2               466.0  Once in a few weeks                         1   \n",
       "3               324.0          Once a week                         1   \n",
       "4               324.0          Once a week                         1   \n",
       "5               674.0          Once a week                         1   \n",
       "6               324.0          Once a week                         1   \n",
       "7               466.0          Once a week                         1   \n",
       "8               405.0                Daily                         1   \n",
       "9               324.0          Once a week                         1   \n",
       "\n",
       "                origin_de                      Breed_de        type_de  \n",
       "0  Vereinigtes Königreich                Border Terrier        Terrier  \n",
       "1              Schottland                 Cairn Terrier        Terrier  \n",
       "2                Sibirien             Sibirischer Husky  Gebrauchshund  \n",
       "3                   Wales  Walisischer Springer Spaniel       Jagdhund  \n",
       "4                 England     Englischer Cocker Spaniel       Jagdhund  \n",
       "5  Vereinigtes Königreich                Cocker Spaniel       Jagdhund  \n",
       "6                   Tibet                    Lhasa Apso    Begleithund  \n",
       "7                 England   Englischer Springer Spaniel       Jagdhund  \n",
       "8  Vereinigtes Königreich             Shetland Sheepdog       Hütehund  \n",
       "9              Schottland   West Highland White Terrier        Terrier  \n",
       "\n",
       "[10 rows x 22 columns]"
      ]
     },
     "execution_count": 5,
     "metadata": {},
     "output_type": "execute_result"
    }
   ],
   "source": [
    "top_10_kids = data.sort_values(by=\"score for kids\", ascending=False).head(10)\n",
    "top_10_kids"
   ]
  },
  {
   "cell_type": "code",
   "execution_count": 6,
   "id": "5b38c635",
   "metadata": {},
   "outputs": [
    {
     "data": {
      "application/vnd.plotly.v1+json": {
       "config": {
        "plotlyServerURL": "https://plot.ly"
       },
       "data": [
        {
         "hovertemplate": "Hundetyp=Terrier<br>Punktzahl Kinderverträglichkeit=%{x}<br>Rasse=%{y}<extra></extra>",
         "legendgroup": "Terrier",
         "marker": {
          "color": "#636efa",
          "pattern": {
           "shape": ""
          }
         },
         "name": "Terrier",
         "orientation": "h",
         "showlegend": true,
         "textposition": "auto",
         "type": "bar",
         "x": {
          "bdata": "9ihcj8L1E0CkcD0K16MTQM3MzMzMzBFA",
          "dtype": "f8"
         },
         "xaxis": "x",
         "y": [
          "Border Terrier",
          "Cairn Terrier",
          "West Highland White Terrier"
         ],
         "yaxis": "y"
        },
        {
         "hovertemplate": "Hundetyp=Gebrauchshund<br>Punktzahl Kinderverträglichkeit=%{x}<br>Rasse=%{y}<extra></extra>",
         "legendgroup": "Gebrauchshund",
         "marker": {
          "color": "#EF553B",
          "pattern": {
           "shape": ""
          }
         },
         "name": "Gebrauchshund",
         "orientation": "h",
         "showlegend": true,
         "textposition": "auto",
         "type": "bar",
         "x": {
          "bdata": "4XoUrkfhEkA=",
          "dtype": "f8"
         },
         "xaxis": "x",
         "y": [
          "Sibirischer Husky"
         ],
         "yaxis": "y"
        },
        {
         "hovertemplate": "Hundetyp=Jagdhund<br>Punktzahl Kinderverträglichkeit=%{x}<br>Rasse=%{y}<extra></extra>",
         "legendgroup": "Jagdhund",
         "marker": {
          "color": "#00cc96",
          "pattern": {
           "shape": ""
          }
         },
         "name": "Jagdhund",
         "orientation": "h",
         "showlegend": true,
         "textposition": "auto",
         "type": "bar",
         "x": {
          "bdata": "16NwPQrXEkDNzMzMzMwSQK5H4XoUrhJA4XoUrkfhEUA=",
          "dtype": "f8"
         },
         "xaxis": "x",
         "y": [
          "Walisischer Springer Spaniel",
          "Englischer Cocker Spaniel",
          "Cocker Spaniel",
          "Englischer Springer Spaniel"
         ],
         "yaxis": "y"
        },
        {
         "hovertemplate": "Hundetyp=Begleithund<br>Punktzahl Kinderverträglichkeit=%{x}<br>Rasse=%{y}<extra></extra>",
         "legendgroup": "Begleithund",
         "marker": {
          "color": "#ab63fa",
          "pattern": {
           "shape": ""
          }
         },
         "name": "Begleithund",
         "orientation": "h",
         "showlegend": true,
         "textposition": "auto",
         "type": "bar",
         "x": {
          "bdata": "UrgehetREkA=",
          "dtype": "f8"
         },
         "xaxis": "x",
         "y": [
          "Lhasa Apso"
         ],
         "yaxis": "y"
        },
        {
         "hovertemplate": "Hundetyp=Hütehund<br>Punktzahl Kinderverträglichkeit=%{x}<br>Rasse=%{y}<extra></extra>",
         "legendgroup": "Hütehund",
         "marker": {
          "color": "#FFA15A",
          "pattern": {
           "shape": ""
          }
         },
         "name": "Hütehund",
         "orientation": "h",
         "showlegend": true,
         "textposition": "auto",
         "type": "bar",
         "x": {
          "bdata": "4XoUrkfhEUA=",
          "dtype": "f8"
         },
         "xaxis": "x",
         "y": [
          "Shetland Sheepdog"
         ],
         "yaxis": "y"
        }
       ],
       "layout": {
        "barmode": "relative",
        "legend": {
         "title": {
          "text": "Hundetyp"
         },
         "tracegroupgap": 0
        },
        "margin": {
         "t": 60
        },
        "template": {
         "data": {
          "bar": [
           {
            "error_x": {
             "color": "#f2f5fa"
            },
            "error_y": {
             "color": "#f2f5fa"
            },
            "marker": {
             "line": {
              "color": "rgb(17,17,17)",
              "width": 0.5
             },
             "pattern": {
              "fillmode": "overlay",
              "size": 10,
              "solidity": 0.2
             }
            },
            "type": "bar"
           }
          ],
          "barpolar": [
           {
            "marker": {
             "line": {
              "color": "rgb(17,17,17)",
              "width": 0.5
             },
             "pattern": {
              "fillmode": "overlay",
              "size": 10,
              "solidity": 0.2
             }
            },
            "type": "barpolar"
           }
          ],
          "carpet": [
           {
            "aaxis": {
             "endlinecolor": "#A2B1C6",
             "gridcolor": "#506784",
             "linecolor": "#506784",
             "minorgridcolor": "#506784",
             "startlinecolor": "#A2B1C6"
            },
            "baxis": {
             "endlinecolor": "#A2B1C6",
             "gridcolor": "#506784",
             "linecolor": "#506784",
             "minorgridcolor": "#506784",
             "startlinecolor": "#A2B1C6"
            },
            "type": "carpet"
           }
          ],
          "choropleth": [
           {
            "colorbar": {
             "outlinewidth": 0,
             "ticks": ""
            },
            "type": "choropleth"
           }
          ],
          "contour": [
           {
            "colorbar": {
             "outlinewidth": 0,
             "ticks": ""
            },
            "colorscale": [
             [
              0,
              "#0d0887"
             ],
             [
              0.1111111111111111,
              "#46039f"
             ],
             [
              0.2222222222222222,
              "#7201a8"
             ],
             [
              0.3333333333333333,
              "#9c179e"
             ],
             [
              0.4444444444444444,
              "#bd3786"
             ],
             [
              0.5555555555555556,
              "#d8576b"
             ],
             [
              0.6666666666666666,
              "#ed7953"
             ],
             [
              0.7777777777777778,
              "#fb9f3a"
             ],
             [
              0.8888888888888888,
              "#fdca26"
             ],
             [
              1,
              "#f0f921"
             ]
            ],
            "type": "contour"
           }
          ],
          "contourcarpet": [
           {
            "colorbar": {
             "outlinewidth": 0,
             "ticks": ""
            },
            "type": "contourcarpet"
           }
          ],
          "heatmap": [
           {
            "colorbar": {
             "outlinewidth": 0,
             "ticks": ""
            },
            "colorscale": [
             [
              0,
              "#0d0887"
             ],
             [
              0.1111111111111111,
              "#46039f"
             ],
             [
              0.2222222222222222,
              "#7201a8"
             ],
             [
              0.3333333333333333,
              "#9c179e"
             ],
             [
              0.4444444444444444,
              "#bd3786"
             ],
             [
              0.5555555555555556,
              "#d8576b"
             ],
             [
              0.6666666666666666,
              "#ed7953"
             ],
             [
              0.7777777777777778,
              "#fb9f3a"
             ],
             [
              0.8888888888888888,
              "#fdca26"
             ],
             [
              1,
              "#f0f921"
             ]
            ],
            "type": "heatmap"
           }
          ],
          "histogram": [
           {
            "marker": {
             "pattern": {
              "fillmode": "overlay",
              "size": 10,
              "solidity": 0.2
             }
            },
            "type": "histogram"
           }
          ],
          "histogram2d": [
           {
            "colorbar": {
             "outlinewidth": 0,
             "ticks": ""
            },
            "colorscale": [
             [
              0,
              "#0d0887"
             ],
             [
              0.1111111111111111,
              "#46039f"
             ],
             [
              0.2222222222222222,
              "#7201a8"
             ],
             [
              0.3333333333333333,
              "#9c179e"
             ],
             [
              0.4444444444444444,
              "#bd3786"
             ],
             [
              0.5555555555555556,
              "#d8576b"
             ],
             [
              0.6666666666666666,
              "#ed7953"
             ],
             [
              0.7777777777777778,
              "#fb9f3a"
             ],
             [
              0.8888888888888888,
              "#fdca26"
             ],
             [
              1,
              "#f0f921"
             ]
            ],
            "type": "histogram2d"
           }
          ],
          "histogram2dcontour": [
           {
            "colorbar": {
             "outlinewidth": 0,
             "ticks": ""
            },
            "colorscale": [
             [
              0,
              "#0d0887"
             ],
             [
              0.1111111111111111,
              "#46039f"
             ],
             [
              0.2222222222222222,
              "#7201a8"
             ],
             [
              0.3333333333333333,
              "#9c179e"
             ],
             [
              0.4444444444444444,
              "#bd3786"
             ],
             [
              0.5555555555555556,
              "#d8576b"
             ],
             [
              0.6666666666666666,
              "#ed7953"
             ],
             [
              0.7777777777777778,
              "#fb9f3a"
             ],
             [
              0.8888888888888888,
              "#fdca26"
             ],
             [
              1,
              "#f0f921"
             ]
            ],
            "type": "histogram2dcontour"
           }
          ],
          "mesh3d": [
           {
            "colorbar": {
             "outlinewidth": 0,
             "ticks": ""
            },
            "type": "mesh3d"
           }
          ],
          "parcoords": [
           {
            "line": {
             "colorbar": {
              "outlinewidth": 0,
              "ticks": ""
             }
            },
            "type": "parcoords"
           }
          ],
          "pie": [
           {
            "automargin": true,
            "type": "pie"
           }
          ],
          "scatter": [
           {
            "marker": {
             "line": {
              "color": "#283442"
             }
            },
            "type": "scatter"
           }
          ],
          "scatter3d": [
           {
            "line": {
             "colorbar": {
              "outlinewidth": 0,
              "ticks": ""
             }
            },
            "marker": {
             "colorbar": {
              "outlinewidth": 0,
              "ticks": ""
             }
            },
            "type": "scatter3d"
           }
          ],
          "scattercarpet": [
           {
            "marker": {
             "colorbar": {
              "outlinewidth": 0,
              "ticks": ""
             }
            },
            "type": "scattercarpet"
           }
          ],
          "scattergeo": [
           {
            "marker": {
             "colorbar": {
              "outlinewidth": 0,
              "ticks": ""
             }
            },
            "type": "scattergeo"
           }
          ],
          "scattergl": [
           {
            "marker": {
             "line": {
              "color": "#283442"
             }
            },
            "type": "scattergl"
           }
          ],
          "scattermap": [
           {
            "marker": {
             "colorbar": {
              "outlinewidth": 0,
              "ticks": ""
             }
            },
            "type": "scattermap"
           }
          ],
          "scattermapbox": [
           {
            "marker": {
             "colorbar": {
              "outlinewidth": 0,
              "ticks": ""
             }
            },
            "type": "scattermapbox"
           }
          ],
          "scatterpolar": [
           {
            "marker": {
             "colorbar": {
              "outlinewidth": 0,
              "ticks": ""
             }
            },
            "type": "scatterpolar"
           }
          ],
          "scatterpolargl": [
           {
            "marker": {
             "colorbar": {
              "outlinewidth": 0,
              "ticks": ""
             }
            },
            "type": "scatterpolargl"
           }
          ],
          "scatterternary": [
           {
            "marker": {
             "colorbar": {
              "outlinewidth": 0,
              "ticks": ""
             }
            },
            "type": "scatterternary"
           }
          ],
          "surface": [
           {
            "colorbar": {
             "outlinewidth": 0,
             "ticks": ""
            },
            "colorscale": [
             [
              0,
              "#0d0887"
             ],
             [
              0.1111111111111111,
              "#46039f"
             ],
             [
              0.2222222222222222,
              "#7201a8"
             ],
             [
              0.3333333333333333,
              "#9c179e"
             ],
             [
              0.4444444444444444,
              "#bd3786"
             ],
             [
              0.5555555555555556,
              "#d8576b"
             ],
             [
              0.6666666666666666,
              "#ed7953"
             ],
             [
              0.7777777777777778,
              "#fb9f3a"
             ],
             [
              0.8888888888888888,
              "#fdca26"
             ],
             [
              1,
              "#f0f921"
             ]
            ],
            "type": "surface"
           }
          ],
          "table": [
           {
            "cells": {
             "fill": {
              "color": "#506784"
             },
             "line": {
              "color": "rgb(17,17,17)"
             }
            },
            "header": {
             "fill": {
              "color": "#2a3f5f"
             },
             "line": {
              "color": "rgb(17,17,17)"
             }
            },
            "type": "table"
           }
          ]
         },
         "layout": {
          "annotationdefaults": {
           "arrowcolor": "#f2f5fa",
           "arrowhead": 0,
           "arrowwidth": 1
          },
          "autotypenumbers": "strict",
          "coloraxis": {
           "colorbar": {
            "outlinewidth": 0,
            "ticks": ""
           }
          },
          "colorscale": {
           "diverging": [
            [
             0,
             "#8e0152"
            ],
            [
             0.1,
             "#c51b7d"
            ],
            [
             0.2,
             "#de77ae"
            ],
            [
             0.3,
             "#f1b6da"
            ],
            [
             0.4,
             "#fde0ef"
            ],
            [
             0.5,
             "#f7f7f7"
            ],
            [
             0.6,
             "#e6f5d0"
            ],
            [
             0.7,
             "#b8e186"
            ],
            [
             0.8,
             "#7fbc41"
            ],
            [
             0.9,
             "#4d9221"
            ],
            [
             1,
             "#276419"
            ]
           ],
           "sequential": [
            [
             0,
             "#0d0887"
            ],
            [
             0.1111111111111111,
             "#46039f"
            ],
            [
             0.2222222222222222,
             "#7201a8"
            ],
            [
             0.3333333333333333,
             "#9c179e"
            ],
            [
             0.4444444444444444,
             "#bd3786"
            ],
            [
             0.5555555555555556,
             "#d8576b"
            ],
            [
             0.6666666666666666,
             "#ed7953"
            ],
            [
             0.7777777777777778,
             "#fb9f3a"
            ],
            [
             0.8888888888888888,
             "#fdca26"
            ],
            [
             1,
             "#f0f921"
            ]
           ],
           "sequentialminus": [
            [
             0,
             "#0d0887"
            ],
            [
             0.1111111111111111,
             "#46039f"
            ],
            [
             0.2222222222222222,
             "#7201a8"
            ],
            [
             0.3333333333333333,
             "#9c179e"
            ],
            [
             0.4444444444444444,
             "#bd3786"
            ],
            [
             0.5555555555555556,
             "#d8576b"
            ],
            [
             0.6666666666666666,
             "#ed7953"
            ],
            [
             0.7777777777777778,
             "#fb9f3a"
            ],
            [
             0.8888888888888888,
             "#fdca26"
            ],
            [
             1,
             "#f0f921"
            ]
           ]
          },
          "colorway": [
           "#636efa",
           "#EF553B",
           "#00cc96",
           "#ab63fa",
           "#FFA15A",
           "#19d3f3",
           "#FF6692",
           "#B6E880",
           "#FF97FF",
           "#FECB52"
          ],
          "font": {
           "color": "#f2f5fa"
          },
          "geo": {
           "bgcolor": "rgb(17,17,17)",
           "lakecolor": "rgb(17,17,17)",
           "landcolor": "rgb(17,17,17)",
           "showlakes": true,
           "showland": true,
           "subunitcolor": "#506784"
          },
          "hoverlabel": {
           "align": "left"
          },
          "hovermode": "closest",
          "mapbox": {
           "style": "dark"
          },
          "paper_bgcolor": "rgb(17,17,17)",
          "plot_bgcolor": "rgb(17,17,17)",
          "polar": {
           "angularaxis": {
            "gridcolor": "#506784",
            "linecolor": "#506784",
            "ticks": ""
           },
           "bgcolor": "rgb(17,17,17)",
           "radialaxis": {
            "gridcolor": "#506784",
            "linecolor": "#506784",
            "ticks": ""
           }
          },
          "scene": {
           "xaxis": {
            "backgroundcolor": "rgb(17,17,17)",
            "gridcolor": "#506784",
            "gridwidth": 2,
            "linecolor": "#506784",
            "showbackground": true,
            "ticks": "",
            "zerolinecolor": "#C8D4E3"
           },
           "yaxis": {
            "backgroundcolor": "rgb(17,17,17)",
            "gridcolor": "#506784",
            "gridwidth": 2,
            "linecolor": "#506784",
            "showbackground": true,
            "ticks": "",
            "zerolinecolor": "#C8D4E3"
           },
           "zaxis": {
            "backgroundcolor": "rgb(17,17,17)",
            "gridcolor": "#506784",
            "gridwidth": 2,
            "linecolor": "#506784",
            "showbackground": true,
            "ticks": "",
            "zerolinecolor": "#C8D4E3"
           }
          },
          "shapedefaults": {
           "line": {
            "color": "#f2f5fa"
           }
          },
          "sliderdefaults": {
           "bgcolor": "#C8D4E3",
           "bordercolor": "rgb(17,17,17)",
           "borderwidth": 1,
           "tickwidth": 0
          },
          "ternary": {
           "aaxis": {
            "gridcolor": "#506784",
            "linecolor": "#506784",
            "ticks": ""
           },
           "baxis": {
            "gridcolor": "#506784",
            "linecolor": "#506784",
            "ticks": ""
           },
           "bgcolor": "rgb(17,17,17)",
           "caxis": {
            "gridcolor": "#506784",
            "linecolor": "#506784",
            "ticks": ""
           }
          },
          "title": {
           "x": 0.05
          },
          "updatemenudefaults": {
           "bgcolor": "#506784",
           "borderwidth": 0
          },
          "xaxis": {
           "automargin": true,
           "gridcolor": "#283442",
           "linecolor": "#506784",
           "ticks": "",
           "title": {
            "standoff": 15
           },
           "zerolinecolor": "#283442",
           "zerolinewidth": 2
          },
          "yaxis": {
           "automargin": true,
           "gridcolor": "#283442",
           "linecolor": "#506784",
           "ticks": "",
           "title": {
            "standoff": 15
           },
           "zerolinecolor": "#283442",
           "zerolinewidth": 2
          }
         }
        },
        "title": {
         "font": {
          "size": 24
         },
         "text": "Top 10 kinderfreundliche Rassen nach Hundetyp",
         "x": 0.5,
         "xanchor": "center"
        },
        "xaxis": {
         "anchor": "y",
         "domain": [
          0,
          1
         ],
         "title": {
          "text": "Punktzahl Kinderverträglichkeit"
         }
        },
        "yaxis": {
         "anchor": "x",
         "autorange": "reversed",
         "categoryarray": [
          "Border Terrier",
          "Cairn Terrier",
          "Sibirischer Husky",
          "Walisischer Springer Spaniel",
          "Englischer Cocker Spaniel",
          "Cocker Spaniel",
          "Lhasa Apso",
          "Englischer Springer Spaniel",
          "Shetland Sheepdog",
          "West Highland White Terrier"
         ],
         "categoryorder": "array",
         "domain": [
          0,
          1
         ],
         "title": {
          "text": "Rasse"
         }
        }
       }
      }
     },
     "metadata": {},
     "output_type": "display_data"
    }
   ],
   "source": [
    "fig = px.bar(\n",
    "    top_10_kids,\n",
    "    orientation=\"h\",\n",
    "    y=\"Breed_de\",\n",
    "    x=\"score for kids\",\n",
    "    template='plotly_dark',\n",
    "    color=\"type_de\",\n",
    "    labels={\"score for kids\": \"Punktzahl Kinderverträglichkeit\", \"Breed_de\": \"Rasse\", \"type_de\": \"Hundetyp\"}\n",
    ")\n",
    "\n",
    "# Balken so drehen, dass der höchste Score oben steht und der niedrigste unten\n",
    "fig.update_yaxes(categoryorder=\"array\", categoryarray=top_10_kids[\"Breed_de\"].tolist())\n",
    "fig.update_layout(yaxis=dict(autorange=\"reversed\"))\n",
    "\n",
    "# Überschrift größer und mittig\n",
    "fig.update_layout(\n",
    "    title=dict(\n",
    "        text='Top 10 kinderfreundliche Rassen nach Hundetyp', \n",
    "        font=dict(size=24), \n",
    "        x=0.5, \n",
    "        xanchor=\"center\"\n",
    "    )\n",
    ")\n",
    "\n",
    "fig.show()\n",
    "fig.write_html('top_10_kids.html')"
   ]
  },
  {
   "cell_type": "markdown",
   "id": "4cf00404",
   "metadata": {},
   "source": [
    "### eher ungeeignete Rassen für Kinder"
   ]
  },
  {
   "cell_type": "code",
   "execution_count": 7,
   "id": "a8d8e3f5",
   "metadata": {},
   "outputs": [
    {
     "data": {
      "text/html": [
       "<div>\n",
       "<style scoped>\n",
       "    .dataframe tbody tr th:only-of-type {\n",
       "        vertical-align: middle;\n",
       "    }\n",
       "\n",
       "    .dataframe tbody tr th {\n",
       "        vertical-align: top;\n",
       "    }\n",
       "\n",
       "    .dataframe thead th {\n",
       "        text-align: right;\n",
       "    }\n",
       "</style>\n",
       "<table border=\"1\" class=\"dataframe\">\n",
       "  <thead>\n",
       "    <tr style=\"text-align: right;\">\n",
       "      <th></th>\n",
       "      <th>Breed</th>\n",
       "      <th>type</th>\n",
       "      <th>score</th>\n",
       "      <th>popularity ranking</th>\n",
       "      <th>size</th>\n",
       "      <th>intelligence</th>\n",
       "      <th>congential ailments</th>\n",
       "      <th>score for kids</th>\n",
       "      <th>size.1</th>\n",
       "      <th>$LIFETIME COST</th>\n",
       "      <th>...</th>\n",
       "      <th>LONGEVITY(YEARS)</th>\n",
       "      <th>NUMBER OF GENETIC AILMENTS</th>\n",
       "      <th>GENETIC AILMENTS</th>\n",
       "      <th>PURCHASE PRICE</th>\n",
       "      <th>FOOD COSTS PER YEAR</th>\n",
       "      <th>GROOMING FREQUNCY</th>\n",
       "      <th>SUITABILITY FOR CHILDREN</th>\n",
       "      <th>origin_de</th>\n",
       "      <th>Breed_de</th>\n",
       "      <th>type_de</th>\n",
       "    </tr>\n",
       "  </thead>\n",
       "  <tbody>\n",
       "    <tr>\n",
       "      <th>86</th>\n",
       "      <td>Bulldog</td>\n",
       "      <td>non-sporting</td>\n",
       "      <td>0.99</td>\n",
       "      <td>6</td>\n",
       "      <td>2</td>\n",
       "      <td>Lowest</td>\n",
       "      <td>breathing, hip, heart problems, 'dry eye'</td>\n",
       "      <td>1.86</td>\n",
       "      <td>medium</td>\n",
       "      <td>13479.0</td>\n",
       "      <td>...</td>\n",
       "      <td>6.29</td>\n",
       "      <td>5</td>\n",
       "      <td>breathing, hip, heart problems, 'dry eye'</td>\n",
       "      <td>2680.0</td>\n",
       "      <td>466.0</td>\n",
       "      <td>Once a week</td>\n",
       "      <td>2</td>\n",
       "      <td>Vereinigtes Königreich</td>\n",
       "      <td>Englische Bulldogge</td>\n",
       "      <td>Begleithund</td>\n",
       "    </tr>\n",
       "    <tr>\n",
       "      <th>85</th>\n",
       "      <td>Akita</td>\n",
       "      <td>working</td>\n",
       "      <td>1.95</td>\n",
       "      <td>41</td>\n",
       "      <td>3</td>\n",
       "      <td>Average</td>\n",
       "      <td>hip problems</td>\n",
       "      <td>2.33</td>\n",
       "      <td>large</td>\n",
       "      <td>20994.0</td>\n",
       "      <td>...</td>\n",
       "      <td>10.16</td>\n",
       "      <td>1</td>\n",
       "      <td>hip problems</td>\n",
       "      <td>1202.0</td>\n",
       "      <td>710.0</td>\n",
       "      <td>Once a week</td>\n",
       "      <td>3</td>\n",
       "      <td>Japan</td>\n",
       "      <td>Akita</td>\n",
       "      <td>Gebrauchshund</td>\n",
       "    </tr>\n",
       "    <tr>\n",
       "      <th>84</th>\n",
       "      <td>Chow Chow</td>\n",
       "      <td>non-sporting</td>\n",
       "      <td>1.76</td>\n",
       "      <td>54</td>\n",
       "      <td>2</td>\n",
       "      <td>Lowest</td>\n",
       "      <td>eye, hip problems</td>\n",
       "      <td>2.51</td>\n",
       "      <td>medium</td>\n",
       "      <td>15898.0</td>\n",
       "      <td>...</td>\n",
       "      <td>9.01</td>\n",
       "      <td>2</td>\n",
       "      <td>eye, hip problems</td>\n",
       "      <td>515.0</td>\n",
       "      <td>466.0</td>\n",
       "      <td>Daily</td>\n",
       "      <td>2</td>\n",
       "      <td>Volksrepublik China</td>\n",
       "      <td>Chow-Chow</td>\n",
       "      <td>Begleithund</td>\n",
       "    </tr>\n",
       "    <tr>\n",
       "      <th>83</th>\n",
       "      <td>Bloodhound</td>\n",
       "      <td>hound</td>\n",
       "      <td>1.66</td>\n",
       "      <td>42</td>\n",
       "      <td>3</td>\n",
       "      <td>Lowest</td>\n",
       "      <td>fatal stomach bloat, skin problems</td>\n",
       "      <td>2.54</td>\n",
       "      <td>large</td>\n",
       "      <td>13824.0</td>\n",
       "      <td>...</td>\n",
       "      <td>6.75</td>\n",
       "      <td>2</td>\n",
       "      <td>fatal stomach bloat, skin problems</td>\n",
       "      <td>608.0</td>\n",
       "      <td>710.0</td>\n",
       "      <td>Once a week</td>\n",
       "      <td>2</td>\n",
       "      <td>Belgien</td>\n",
       "      <td>Bluthund</td>\n",
       "      <td>Laufhund</td>\n",
       "    </tr>\n",
       "    <tr>\n",
       "      <th>82</th>\n",
       "      <td>Alaskan Malamute</td>\n",
       "      <td>working</td>\n",
       "      <td>1.82</td>\n",
       "      <td>47</td>\n",
       "      <td>3</td>\n",
       "      <td>Average</td>\n",
       "      <td>hip problems, dwarfism</td>\n",
       "      <td>2.57</td>\n",
       "      <td>large</td>\n",
       "      <td>21986.0</td>\n",
       "      <td>...</td>\n",
       "      <td>10.67</td>\n",
       "      <td>2</td>\n",
       "      <td>hip problems, dwarfism</td>\n",
       "      <td>1210.0</td>\n",
       "      <td>710.0</td>\n",
       "      <td>Daily</td>\n",
       "      <td>2</td>\n",
       "      <td>Alaska</td>\n",
       "      <td>Alaskan Malamute</td>\n",
       "      <td>Gebrauchshund</td>\n",
       "    </tr>\n",
       "    <tr>\n",
       "      <th>81</th>\n",
       "      <td>Borzoi</td>\n",
       "      <td>hound</td>\n",
       "      <td>1.89</td>\n",
       "      <td>71</td>\n",
       "      <td>3</td>\n",
       "      <td>Lowest</td>\n",
       "      <td>none</td>\n",
       "      <td>2.64</td>\n",
       "      <td>large</td>\n",
       "      <td>16176.0</td>\n",
       "      <td>...</td>\n",
       "      <td>9.08</td>\n",
       "      <td>0</td>\n",
       "      <td>none</td>\n",
       "      <td>675.0</td>\n",
       "      <td>466.0</td>\n",
       "      <td>Daily</td>\n",
       "      <td>2</td>\n",
       "      <td>Russland</td>\n",
       "      <td>Russischer Windhund (Borzoi)</td>\n",
       "      <td>Laufhund</td>\n",
       "    </tr>\n",
       "    <tr>\n",
       "      <th>80</th>\n",
       "      <td>Saint Bernard</td>\n",
       "      <td>working</td>\n",
       "      <td>1.42</td>\n",
       "      <td>43</td>\n",
       "      <td>3</td>\n",
       "      <td>Fair</td>\n",
       "      <td>heart, hip disorders, fatal stomach bloat</td>\n",
       "      <td>2.67</td>\n",
       "      <td>large</td>\n",
       "      <td>20022.0</td>\n",
       "      <td>...</td>\n",
       "      <td>7.78</td>\n",
       "      <td>3</td>\n",
       "      <td>heart, hip disorders, fatal stomach bloat</td>\n",
       "      <td>875.0</td>\n",
       "      <td>1217.0</td>\n",
       "      <td>Daily</td>\n",
       "      <td>1</td>\n",
       "      <td>Schweiz</td>\n",
       "      <td>Bernhardiner</td>\n",
       "      <td>Gebrauchshund</td>\n",
       "    </tr>\n",
       "    <tr>\n",
       "      <th>79</th>\n",
       "      <td>Bull Terrier</td>\n",
       "      <td>terrier</td>\n",
       "      <td>1.85</td>\n",
       "      <td>44</td>\n",
       "      <td>2</td>\n",
       "      <td>Fair</td>\n",
       "      <td>heart problems, zinc metabolism disorder</td>\n",
       "      <td>2.72</td>\n",
       "      <td>medium</td>\n",
       "      <td>18490.0</td>\n",
       "      <td>...</td>\n",
       "      <td>10.21</td>\n",
       "      <td>2</td>\n",
       "      <td>heart problems, zinc metabolism disorder</td>\n",
       "      <td>1085.0</td>\n",
       "      <td>466.0</td>\n",
       "      <td>Once a week</td>\n",
       "      <td>2</td>\n",
       "      <td>England</td>\n",
       "      <td>Bullterrier</td>\n",
       "      <td>Terrier</td>\n",
       "    </tr>\n",
       "    <tr>\n",
       "      <th>78</th>\n",
       "      <td>Rhodesian Ridgeback</td>\n",
       "      <td>hound</td>\n",
       "      <td>1.91</td>\n",
       "      <td>38</td>\n",
       "      <td>3</td>\n",
       "      <td>Average</td>\n",
       "      <td>birth defects, hip problems</td>\n",
       "      <td>2.78</td>\n",
       "      <td>large</td>\n",
       "      <td>16530.0</td>\n",
       "      <td>...</td>\n",
       "      <td>9.10</td>\n",
       "      <td>2</td>\n",
       "      <td>birth defects, hip problems</td>\n",
       "      <td>995.0</td>\n",
       "      <td>466.0</td>\n",
       "      <td>Once a week</td>\n",
       "      <td>2</td>\n",
       "      <td>Rhodesien</td>\n",
       "      <td>Rhodesian Ridgeback</td>\n",
       "      <td>Laufhund</td>\n",
       "    </tr>\n",
       "    <tr>\n",
       "      <th>77</th>\n",
       "      <td>Pekingese</td>\n",
       "      <td>toy</td>\n",
       "      <td>2.05</td>\n",
       "      <td>52</td>\n",
       "      <td>1</td>\n",
       "      <td>Lowest</td>\n",
       "      <td>knee problems</td>\n",
       "      <td>2.80</td>\n",
       "      <td>small</td>\n",
       "      <td>20565.0</td>\n",
       "      <td>...</td>\n",
       "      <td>11.56</td>\n",
       "      <td>1</td>\n",
       "      <td>knee problems</td>\n",
       "      <td>885.0</td>\n",
       "      <td>466.0</td>\n",
       "      <td>Daily</td>\n",
       "      <td>2</td>\n",
       "      <td>Volksrepublik China</td>\n",
       "      <td>Pekinese</td>\n",
       "      <td>Zwerghund</td>\n",
       "    </tr>\n",
       "  </tbody>\n",
       "</table>\n",
       "<p>10 rows × 22 columns</p>\n",
       "</div>"
      ],
      "text/plain": [
       "                  Breed          type  score  popularity ranking  size  \\\n",
       "86              Bulldog  non-sporting   0.99                   6     2   \n",
       "85                Akita       working   1.95                  41     3   \n",
       "84            Chow Chow  non-sporting   1.76                  54     2   \n",
       "83           Bloodhound         hound   1.66                  42     3   \n",
       "82     Alaskan Malamute       working   1.82                  47     3   \n",
       "81               Borzoi         hound   1.89                  71     3   \n",
       "80        Saint Bernard       working   1.42                  43     3   \n",
       "79         Bull Terrier       terrier   1.85                  44     2   \n",
       "78  Rhodesian Ridgeback         hound   1.91                  38     3   \n",
       "77            Pekingese           toy   2.05                  52     1   \n",
       "\n",
       "   intelligence                        congential ailments  score for kids  \\\n",
       "86       Lowest  breathing, hip, heart problems, 'dry eye'            1.86   \n",
       "85      Average                               hip problems            2.33   \n",
       "84       Lowest                          eye, hip problems            2.51   \n",
       "83       Lowest         fatal stomach bloat, skin problems            2.54   \n",
       "82      Average                     hip problems, dwarfism            2.57   \n",
       "81       Lowest                                       none            2.64   \n",
       "80         Fair  heart, hip disorders, fatal stomach bloat            2.67   \n",
       "79         Fair   heart problems, zinc metabolism disorder            2.72   \n",
       "78      Average                birth defects, hip problems            2.78   \n",
       "77       Lowest                              knee problems            2.80   \n",
       "\n",
       "    size.1  $LIFETIME COST  ...  LONGEVITY(YEARS) NUMBER OF GENETIC AILMENTS  \\\n",
       "86  medium         13479.0  ...              6.29                          5   \n",
       "85   large         20994.0  ...             10.16                          1   \n",
       "84  medium         15898.0  ...              9.01                          2   \n",
       "83   large         13824.0  ...              6.75                          2   \n",
       "82   large         21986.0  ...             10.67                          2   \n",
       "81   large         16176.0  ...              9.08                          0   \n",
       "80   large         20022.0  ...              7.78                          3   \n",
       "79  medium         18490.0  ...             10.21                          2   \n",
       "78   large         16530.0  ...              9.10                          2   \n",
       "77   small         20565.0  ...             11.56                          1   \n",
       "\n",
       "                             GENETIC AILMENTS  PURCHASE PRICE  \\\n",
       "86  breathing, hip, heart problems, 'dry eye'          2680.0   \n",
       "85                               hip problems          1202.0   \n",
       "84                          eye, hip problems           515.0   \n",
       "83         fatal stomach bloat, skin problems           608.0   \n",
       "82                     hip problems, dwarfism          1210.0   \n",
       "81                                       none           675.0   \n",
       "80  heart, hip disorders, fatal stomach bloat           875.0   \n",
       "79   heart problems, zinc metabolism disorder          1085.0   \n",
       "78                birth defects, hip problems           995.0   \n",
       "77                              knee problems           885.0   \n",
       "\n",
       "   FOOD COSTS PER YEAR  GROOMING FREQUNCY  SUITABILITY FOR CHILDREN  \\\n",
       "86               466.0        Once a week                         2   \n",
       "85               710.0        Once a week                         3   \n",
       "84               466.0              Daily                         2   \n",
       "83               710.0        Once a week                         2   \n",
       "82               710.0              Daily                         2   \n",
       "81               466.0              Daily                         2   \n",
       "80              1217.0              Daily                         1   \n",
       "79               466.0        Once a week                         2   \n",
       "78               466.0        Once a week                         2   \n",
       "77               466.0              Daily                         2   \n",
       "\n",
       "                 origin_de                      Breed_de        type_de  \n",
       "86  Vereinigtes Königreich           Englische Bulldogge    Begleithund  \n",
       "85                   Japan                         Akita  Gebrauchshund  \n",
       "84     Volksrepublik China                     Chow-Chow    Begleithund  \n",
       "83                 Belgien                      Bluthund       Laufhund  \n",
       "82                  Alaska              Alaskan Malamute  Gebrauchshund  \n",
       "81                Russland  Russischer Windhund (Borzoi)       Laufhund  \n",
       "80                 Schweiz                  Bernhardiner  Gebrauchshund  \n",
       "79                 England                   Bullterrier        Terrier  \n",
       "78               Rhodesien           Rhodesian Ridgeback       Laufhund  \n",
       "77     Volksrepublik China                      Pekinese      Zwerghund  \n",
       "\n",
       "[10 rows x 22 columns]"
      ]
     },
     "execution_count": 7,
     "metadata": {},
     "output_type": "execute_result"
    }
   ],
   "source": [
    "worst_10_kids = data.sort_values(by=\"score for kids\", ascending=True).head(10)\n",
    "worst_10_kids"
   ]
  },
  {
   "cell_type": "code",
   "execution_count": 8,
   "id": "404c8dd6",
   "metadata": {},
   "outputs": [
    {
     "data": {
      "application/vnd.plotly.v1+json": {
       "config": {
        "plotlyServerURL": "https://plot.ly"
       },
       "data": [
        {
         "hovertemplate": "Hundetyp=Begleithund<br>Punktzahl Kinderverträglichkeit=%{x}<br>Rasse=%{y}<extra></extra>",
         "legendgroup": "Begleithund",
         "marker": {
          "color": "#636efa",
          "pattern": {
           "shape": ""
          }
         },
         "name": "Begleithund",
         "orientation": "h",
         "showlegend": true,
         "textposition": "auto",
         "type": "bar",
         "x": {
          "bdata": "w/UoXI/C/T8UrkfhehQEQA==",
          "dtype": "f8"
         },
         "xaxis": "x",
         "y": [
          "Englische Bulldogge",
          "Chow-Chow"
         ],
         "yaxis": "y"
        },
        {
         "hovertemplate": "Hundetyp=Gebrauchshund<br>Punktzahl Kinderverträglichkeit=%{x}<br>Rasse=%{y}<extra></extra>",
         "legendgroup": "Gebrauchshund",
         "marker": {
          "color": "#EF553B",
          "pattern": {
           "shape": ""
          }
         },
         "name": "Gebrauchshund",
         "orientation": "h",
         "showlegend": true,
         "textposition": "auto",
         "type": "bar",
         "x": {
          "bdata": "pHA9CtejAkCPwvUoXI8EQFyPwvUoXAVA",
          "dtype": "f8"
         },
         "xaxis": "x",
         "y": [
          "Akita",
          "Alaskan Malamute",
          "Bernhardiner"
         ],
         "yaxis": "y"
        },
        {
         "hovertemplate": "Hundetyp=Laufhund<br>Punktzahl Kinderverträglichkeit=%{x}<br>Rasse=%{y}<extra></extra>",
         "legendgroup": "Laufhund",
         "marker": {
          "color": "#00cc96",
          "pattern": {
           "shape": ""
          }
         },
         "name": "Laufhund",
         "orientation": "h",
         "showlegend": true,
         "textposition": "auto",
         "type": "bar",
         "x": {
          "bdata": "UrgehetRBEAfhetRuB4FQD0K16NwPQZA",
          "dtype": "f8"
         },
         "xaxis": "x",
         "y": [
          "Bluthund",
          "Russischer Windhund (Borzoi)",
          "Rhodesian Ridgeback"
         ],
         "yaxis": "y"
        },
        {
         "hovertemplate": "Hundetyp=Terrier<br>Punktzahl Kinderverträglichkeit=%{x}<br>Rasse=%{y}<extra></extra>",
         "legendgroup": "Terrier",
         "marker": {
          "color": "#ab63fa",
          "pattern": {
           "shape": ""
          }
         },
         "name": "Terrier",
         "orientation": "h",
         "showlegend": true,
         "textposition": "auto",
         "type": "bar",
         "x": {
          "bdata": "w/UoXI/CBUA=",
          "dtype": "f8"
         },
         "xaxis": "x",
         "y": [
          "Bullterrier"
         ],
         "yaxis": "y"
        },
        {
         "hovertemplate": "Hundetyp=Zwerghund<br>Punktzahl Kinderverträglichkeit=%{x}<br>Rasse=%{y}<extra></extra>",
         "legendgroup": "Zwerghund",
         "marker": {
          "color": "#FFA15A",
          "pattern": {
           "shape": ""
          }
         },
         "name": "Zwerghund",
         "orientation": "h",
         "showlegend": true,
         "textposition": "auto",
         "type": "bar",
         "x": {
          "bdata": "ZmZmZmZmBkA=",
          "dtype": "f8"
         },
         "xaxis": "x",
         "y": [
          "Pekinese"
         ],
         "yaxis": "y"
        }
       ],
       "layout": {
        "barmode": "relative",
        "legend": {
         "title": {
          "text": "Hundetyp"
         },
         "tracegroupgap": 0
        },
        "margin": {
         "t": 60
        },
        "template": {
         "data": {
          "bar": [
           {
            "error_x": {
             "color": "#f2f5fa"
            },
            "error_y": {
             "color": "#f2f5fa"
            },
            "marker": {
             "line": {
              "color": "rgb(17,17,17)",
              "width": 0.5
             },
             "pattern": {
              "fillmode": "overlay",
              "size": 10,
              "solidity": 0.2
             }
            },
            "type": "bar"
           }
          ],
          "barpolar": [
           {
            "marker": {
             "line": {
              "color": "rgb(17,17,17)",
              "width": 0.5
             },
             "pattern": {
              "fillmode": "overlay",
              "size": 10,
              "solidity": 0.2
             }
            },
            "type": "barpolar"
           }
          ],
          "carpet": [
           {
            "aaxis": {
             "endlinecolor": "#A2B1C6",
             "gridcolor": "#506784",
             "linecolor": "#506784",
             "minorgridcolor": "#506784",
             "startlinecolor": "#A2B1C6"
            },
            "baxis": {
             "endlinecolor": "#A2B1C6",
             "gridcolor": "#506784",
             "linecolor": "#506784",
             "minorgridcolor": "#506784",
             "startlinecolor": "#A2B1C6"
            },
            "type": "carpet"
           }
          ],
          "choropleth": [
           {
            "colorbar": {
             "outlinewidth": 0,
             "ticks": ""
            },
            "type": "choropleth"
           }
          ],
          "contour": [
           {
            "colorbar": {
             "outlinewidth": 0,
             "ticks": ""
            },
            "colorscale": [
             [
              0,
              "#0d0887"
             ],
             [
              0.1111111111111111,
              "#46039f"
             ],
             [
              0.2222222222222222,
              "#7201a8"
             ],
             [
              0.3333333333333333,
              "#9c179e"
             ],
             [
              0.4444444444444444,
              "#bd3786"
             ],
             [
              0.5555555555555556,
              "#d8576b"
             ],
             [
              0.6666666666666666,
              "#ed7953"
             ],
             [
              0.7777777777777778,
              "#fb9f3a"
             ],
             [
              0.8888888888888888,
              "#fdca26"
             ],
             [
              1,
              "#f0f921"
             ]
            ],
            "type": "contour"
           }
          ],
          "contourcarpet": [
           {
            "colorbar": {
             "outlinewidth": 0,
             "ticks": ""
            },
            "type": "contourcarpet"
           }
          ],
          "heatmap": [
           {
            "colorbar": {
             "outlinewidth": 0,
             "ticks": ""
            },
            "colorscale": [
             [
              0,
              "#0d0887"
             ],
             [
              0.1111111111111111,
              "#46039f"
             ],
             [
              0.2222222222222222,
              "#7201a8"
             ],
             [
              0.3333333333333333,
              "#9c179e"
             ],
             [
              0.4444444444444444,
              "#bd3786"
             ],
             [
              0.5555555555555556,
              "#d8576b"
             ],
             [
              0.6666666666666666,
              "#ed7953"
             ],
             [
              0.7777777777777778,
              "#fb9f3a"
             ],
             [
              0.8888888888888888,
              "#fdca26"
             ],
             [
              1,
              "#f0f921"
             ]
            ],
            "type": "heatmap"
           }
          ],
          "histogram": [
           {
            "marker": {
             "pattern": {
              "fillmode": "overlay",
              "size": 10,
              "solidity": 0.2
             }
            },
            "type": "histogram"
           }
          ],
          "histogram2d": [
           {
            "colorbar": {
             "outlinewidth": 0,
             "ticks": ""
            },
            "colorscale": [
             [
              0,
              "#0d0887"
             ],
             [
              0.1111111111111111,
              "#46039f"
             ],
             [
              0.2222222222222222,
              "#7201a8"
             ],
             [
              0.3333333333333333,
              "#9c179e"
             ],
             [
              0.4444444444444444,
              "#bd3786"
             ],
             [
              0.5555555555555556,
              "#d8576b"
             ],
             [
              0.6666666666666666,
              "#ed7953"
             ],
             [
              0.7777777777777778,
              "#fb9f3a"
             ],
             [
              0.8888888888888888,
              "#fdca26"
             ],
             [
              1,
              "#f0f921"
             ]
            ],
            "type": "histogram2d"
           }
          ],
          "histogram2dcontour": [
           {
            "colorbar": {
             "outlinewidth": 0,
             "ticks": ""
            },
            "colorscale": [
             [
              0,
              "#0d0887"
             ],
             [
              0.1111111111111111,
              "#46039f"
             ],
             [
              0.2222222222222222,
              "#7201a8"
             ],
             [
              0.3333333333333333,
              "#9c179e"
             ],
             [
              0.4444444444444444,
              "#bd3786"
             ],
             [
              0.5555555555555556,
              "#d8576b"
             ],
             [
              0.6666666666666666,
              "#ed7953"
             ],
             [
              0.7777777777777778,
              "#fb9f3a"
             ],
             [
              0.8888888888888888,
              "#fdca26"
             ],
             [
              1,
              "#f0f921"
             ]
            ],
            "type": "histogram2dcontour"
           }
          ],
          "mesh3d": [
           {
            "colorbar": {
             "outlinewidth": 0,
             "ticks": ""
            },
            "type": "mesh3d"
           }
          ],
          "parcoords": [
           {
            "line": {
             "colorbar": {
              "outlinewidth": 0,
              "ticks": ""
             }
            },
            "type": "parcoords"
           }
          ],
          "pie": [
           {
            "automargin": true,
            "type": "pie"
           }
          ],
          "scatter": [
           {
            "marker": {
             "line": {
              "color": "#283442"
             }
            },
            "type": "scatter"
           }
          ],
          "scatter3d": [
           {
            "line": {
             "colorbar": {
              "outlinewidth": 0,
              "ticks": ""
             }
            },
            "marker": {
             "colorbar": {
              "outlinewidth": 0,
              "ticks": ""
             }
            },
            "type": "scatter3d"
           }
          ],
          "scattercarpet": [
           {
            "marker": {
             "colorbar": {
              "outlinewidth": 0,
              "ticks": ""
             }
            },
            "type": "scattercarpet"
           }
          ],
          "scattergeo": [
           {
            "marker": {
             "colorbar": {
              "outlinewidth": 0,
              "ticks": ""
             }
            },
            "type": "scattergeo"
           }
          ],
          "scattergl": [
           {
            "marker": {
             "line": {
              "color": "#283442"
             }
            },
            "type": "scattergl"
           }
          ],
          "scattermap": [
           {
            "marker": {
             "colorbar": {
              "outlinewidth": 0,
              "ticks": ""
             }
            },
            "type": "scattermap"
           }
          ],
          "scattermapbox": [
           {
            "marker": {
             "colorbar": {
              "outlinewidth": 0,
              "ticks": ""
             }
            },
            "type": "scattermapbox"
           }
          ],
          "scatterpolar": [
           {
            "marker": {
             "colorbar": {
              "outlinewidth": 0,
              "ticks": ""
             }
            },
            "type": "scatterpolar"
           }
          ],
          "scatterpolargl": [
           {
            "marker": {
             "colorbar": {
              "outlinewidth": 0,
              "ticks": ""
             }
            },
            "type": "scatterpolargl"
           }
          ],
          "scatterternary": [
           {
            "marker": {
             "colorbar": {
              "outlinewidth": 0,
              "ticks": ""
             }
            },
            "type": "scatterternary"
           }
          ],
          "surface": [
           {
            "colorbar": {
             "outlinewidth": 0,
             "ticks": ""
            },
            "colorscale": [
             [
              0,
              "#0d0887"
             ],
             [
              0.1111111111111111,
              "#46039f"
             ],
             [
              0.2222222222222222,
              "#7201a8"
             ],
             [
              0.3333333333333333,
              "#9c179e"
             ],
             [
              0.4444444444444444,
              "#bd3786"
             ],
             [
              0.5555555555555556,
              "#d8576b"
             ],
             [
              0.6666666666666666,
              "#ed7953"
             ],
             [
              0.7777777777777778,
              "#fb9f3a"
             ],
             [
              0.8888888888888888,
              "#fdca26"
             ],
             [
              1,
              "#f0f921"
             ]
            ],
            "type": "surface"
           }
          ],
          "table": [
           {
            "cells": {
             "fill": {
              "color": "#506784"
             },
             "line": {
              "color": "rgb(17,17,17)"
             }
            },
            "header": {
             "fill": {
              "color": "#2a3f5f"
             },
             "line": {
              "color": "rgb(17,17,17)"
             }
            },
            "type": "table"
           }
          ]
         },
         "layout": {
          "annotationdefaults": {
           "arrowcolor": "#f2f5fa",
           "arrowhead": 0,
           "arrowwidth": 1
          },
          "autotypenumbers": "strict",
          "coloraxis": {
           "colorbar": {
            "outlinewidth": 0,
            "ticks": ""
           }
          },
          "colorscale": {
           "diverging": [
            [
             0,
             "#8e0152"
            ],
            [
             0.1,
             "#c51b7d"
            ],
            [
             0.2,
             "#de77ae"
            ],
            [
             0.3,
             "#f1b6da"
            ],
            [
             0.4,
             "#fde0ef"
            ],
            [
             0.5,
             "#f7f7f7"
            ],
            [
             0.6,
             "#e6f5d0"
            ],
            [
             0.7,
             "#b8e186"
            ],
            [
             0.8,
             "#7fbc41"
            ],
            [
             0.9,
             "#4d9221"
            ],
            [
             1,
             "#276419"
            ]
           ],
           "sequential": [
            [
             0,
             "#0d0887"
            ],
            [
             0.1111111111111111,
             "#46039f"
            ],
            [
             0.2222222222222222,
             "#7201a8"
            ],
            [
             0.3333333333333333,
             "#9c179e"
            ],
            [
             0.4444444444444444,
             "#bd3786"
            ],
            [
             0.5555555555555556,
             "#d8576b"
            ],
            [
             0.6666666666666666,
             "#ed7953"
            ],
            [
             0.7777777777777778,
             "#fb9f3a"
            ],
            [
             0.8888888888888888,
             "#fdca26"
            ],
            [
             1,
             "#f0f921"
            ]
           ],
           "sequentialminus": [
            [
             0,
             "#0d0887"
            ],
            [
             0.1111111111111111,
             "#46039f"
            ],
            [
             0.2222222222222222,
             "#7201a8"
            ],
            [
             0.3333333333333333,
             "#9c179e"
            ],
            [
             0.4444444444444444,
             "#bd3786"
            ],
            [
             0.5555555555555556,
             "#d8576b"
            ],
            [
             0.6666666666666666,
             "#ed7953"
            ],
            [
             0.7777777777777778,
             "#fb9f3a"
            ],
            [
             0.8888888888888888,
             "#fdca26"
            ],
            [
             1,
             "#f0f921"
            ]
           ]
          },
          "colorway": [
           "#636efa",
           "#EF553B",
           "#00cc96",
           "#ab63fa",
           "#FFA15A",
           "#19d3f3",
           "#FF6692",
           "#B6E880",
           "#FF97FF",
           "#FECB52"
          ],
          "font": {
           "color": "#f2f5fa"
          },
          "geo": {
           "bgcolor": "rgb(17,17,17)",
           "lakecolor": "rgb(17,17,17)",
           "landcolor": "rgb(17,17,17)",
           "showlakes": true,
           "showland": true,
           "subunitcolor": "#506784"
          },
          "hoverlabel": {
           "align": "left"
          },
          "hovermode": "closest",
          "mapbox": {
           "style": "dark"
          },
          "paper_bgcolor": "rgb(17,17,17)",
          "plot_bgcolor": "rgb(17,17,17)",
          "polar": {
           "angularaxis": {
            "gridcolor": "#506784",
            "linecolor": "#506784",
            "ticks": ""
           },
           "bgcolor": "rgb(17,17,17)",
           "radialaxis": {
            "gridcolor": "#506784",
            "linecolor": "#506784",
            "ticks": ""
           }
          },
          "scene": {
           "xaxis": {
            "backgroundcolor": "rgb(17,17,17)",
            "gridcolor": "#506784",
            "gridwidth": 2,
            "linecolor": "#506784",
            "showbackground": true,
            "ticks": "",
            "zerolinecolor": "#C8D4E3"
           },
           "yaxis": {
            "backgroundcolor": "rgb(17,17,17)",
            "gridcolor": "#506784",
            "gridwidth": 2,
            "linecolor": "#506784",
            "showbackground": true,
            "ticks": "",
            "zerolinecolor": "#C8D4E3"
           },
           "zaxis": {
            "backgroundcolor": "rgb(17,17,17)",
            "gridcolor": "#506784",
            "gridwidth": 2,
            "linecolor": "#506784",
            "showbackground": true,
            "ticks": "",
            "zerolinecolor": "#C8D4E3"
           }
          },
          "shapedefaults": {
           "line": {
            "color": "#f2f5fa"
           }
          },
          "sliderdefaults": {
           "bgcolor": "#C8D4E3",
           "bordercolor": "rgb(17,17,17)",
           "borderwidth": 1,
           "tickwidth": 0
          },
          "ternary": {
           "aaxis": {
            "gridcolor": "#506784",
            "linecolor": "#506784",
            "ticks": ""
           },
           "baxis": {
            "gridcolor": "#506784",
            "linecolor": "#506784",
            "ticks": ""
           },
           "bgcolor": "rgb(17,17,17)",
           "caxis": {
            "gridcolor": "#506784",
            "linecolor": "#506784",
            "ticks": ""
           }
          },
          "title": {
           "x": 0.05
          },
          "updatemenudefaults": {
           "bgcolor": "#506784",
           "borderwidth": 0
          },
          "xaxis": {
           "automargin": true,
           "gridcolor": "#283442",
           "linecolor": "#506784",
           "ticks": "",
           "title": {
            "standoff": 15
           },
           "zerolinecolor": "#283442",
           "zerolinewidth": 2
          },
          "yaxis": {
           "automargin": true,
           "gridcolor": "#283442",
           "linecolor": "#506784",
           "ticks": "",
           "title": {
            "standoff": 15
           },
           "zerolinecolor": "#283442",
           "zerolinewidth": 2
          }
         }
        },
        "title": {
         "font": {
          "size": 24
         },
         "text": "weniger kinderfreundliche Rassen nach Hundetyp",
         "x": 0.5,
         "xanchor": "center"
        },
        "xaxis": {
         "anchor": "y",
         "domain": [
          0,
          1
         ],
         "title": {
          "text": "Punktzahl Kinderverträglichkeit"
         }
        },
        "yaxis": {
         "anchor": "x",
         "autorange": "reversed",
         "categoryarray": [
          "Border Terrier",
          "Cairn Terrier",
          "Sibirischer Husky",
          "Walisischer Springer Spaniel",
          "Englischer Cocker Spaniel",
          "Cocker Spaniel",
          "Lhasa Apso",
          "Englischer Springer Spaniel",
          "Shetland Sheepdog",
          "West Highland White Terrier"
         ],
         "categoryorder": "array",
         "domain": [
          0,
          1
         ],
         "title": {
          "text": "Rasse"
         }
        }
       }
      }
     },
     "metadata": {},
     "output_type": "display_data"
    }
   ],
   "source": [
    "fig = px.bar(\n",
    "    worst_10_kids,\n",
    "    orientation=\"h\",\n",
    "    y=\"Breed_de\",\n",
    "    x=\"score for kids\",\n",
    "    template='plotly_dark',\n",
    "    color=\"type_de\",\n",
    "    labels={\"score for kids\": \"Punktzahl Kinderverträglichkeit\", \"Breed_de\": \"Rasse\", \"type_de\": \"Hundetyp\"}\n",
    ")\n",
    "\n",
    "# Balken so drehen, dass der höchste Score oben steht und der niedrigste unten\n",
    "fig.update_yaxes(categoryorder=\"array\", categoryarray=top_10_kids[\"Breed_de\"].tolist())\n",
    "fig.update_layout(yaxis=dict(autorange=\"reversed\"))\n",
    "\n",
    "# Überschrift größer und mittig\n",
    "fig.update_layout(\n",
    "    title=dict(\n",
    "        text='weniger kinderfreundliche Rassen nach Hundetyp', \n",
    "        font=dict(size=24), \n",
    "        x=0.5, \n",
    "        xanchor=\"center\"\n",
    "    )\n",
    ")\n",
    "\n",
    "fig.show()\n",
    "fig.write_html('worst_10_kids.html')"
   ]
  },
  {
   "cell_type": "markdown",
   "id": "ddebd1a5",
   "metadata": {},
   "source": [
    "### Intelligenz nach Hundetyp"
   ]
  },
  {
   "cell_type": "code",
   "execution_count": 9,
   "id": "892ff223",
   "metadata": {},
   "outputs": [],
   "source": [
    "# Reihenfolge Intelligenz\n",
    "intelligence_order = [\n",
    "    'Brightest',\n",
    "    'Excellent',\n",
    "    'Above average',\n",
    "    'Average',\n",
    "    'Fair',\n",
    "    'Lowest'\n",
    "]\n",
    "\n",
    "# Englisch → Deutsch\n",
    "intelligence_de = {\n",
    "    \"Brightest\":       \"Höchste Intelligenz\",\n",
    "    \"Excellent\":       \"Ausgezeichnet\",\n",
    "    \"Above average\":   \"Überdurchschnittlich\",\n",
    "    \"Average\":         \"Durchschnittlich\",\n",
    "    \"Fair\":            \"Unterdurchschnittlich\",\n",
    "    \"Lowest\":          \"Niedrigste Intelligenz\"\n",
    "}"
   ]
  },
  {
   "cell_type": "code",
   "execution_count": 10,
   "id": "1ef12b59",
   "metadata": {},
   "outputs": [
    {
     "data": {
      "text/html": [
       "<div>\n",
       "<style scoped>\n",
       "    .dataframe tbody tr th:only-of-type {\n",
       "        vertical-align: middle;\n",
       "    }\n",
       "\n",
       "    .dataframe tbody tr th {\n",
       "        vertical-align: top;\n",
       "    }\n",
       "\n",
       "    .dataframe thead th {\n",
       "        text-align: right;\n",
       "    }\n",
       "</style>\n",
       "<table border=\"1\" class=\"dataframe\">\n",
       "  <thead>\n",
       "    <tr style=\"text-align: right;\">\n",
       "      <th>intelligence</th>\n",
       "      <th>Höchste Intelligenz</th>\n",
       "      <th>Ausgezeichnet</th>\n",
       "      <th>Überdurchschnittlich</th>\n",
       "      <th>Durchschnittlich</th>\n",
       "      <th>Unterdurchschnittlich</th>\n",
       "      <th>Niedrigste Intelligenz</th>\n",
       "    </tr>\n",
       "    <tr>\n",
       "      <th>type_de</th>\n",
       "      <th></th>\n",
       "      <th></th>\n",
       "      <th></th>\n",
       "      <th></th>\n",
       "      <th></th>\n",
       "      <th></th>\n",
       "    </tr>\n",
       "  </thead>\n",
       "  <tbody>\n",
       "    <tr>\n",
       "      <th>Begleithund</th>\n",
       "      <td>1</td>\n",
       "      <td>0</td>\n",
       "      <td>1</td>\n",
       "      <td>3</td>\n",
       "      <td>3</td>\n",
       "      <td>2</td>\n",
       "    </tr>\n",
       "    <tr>\n",
       "      <th>Gebrauchshund</th>\n",
       "      <td>2</td>\n",
       "      <td>1</td>\n",
       "      <td>3</td>\n",
       "      <td>5</td>\n",
       "      <td>2</td>\n",
       "      <td>1</td>\n",
       "    </tr>\n",
       "    <tr>\n",
       "      <th>Hütehund</th>\n",
       "      <td>4</td>\n",
       "      <td>2</td>\n",
       "      <td>2</td>\n",
       "      <td>1</td>\n",
       "      <td>1</td>\n",
       "      <td>0</td>\n",
       "    </tr>\n",
       "    <tr>\n",
       "      <th>Jagdhund</th>\n",
       "      <td>2</td>\n",
       "      <td>6</td>\n",
       "      <td>6</td>\n",
       "      <td>1</td>\n",
       "      <td>0</td>\n",
       "      <td>0</td>\n",
       "    </tr>\n",
       "    <tr>\n",
       "      <th>Laufhund</th>\n",
       "      <td>0</td>\n",
       "      <td>0</td>\n",
       "      <td>1</td>\n",
       "      <td>6</td>\n",
       "      <td>0</td>\n",
       "      <td>6</td>\n",
       "    </tr>\n",
       "    <tr>\n",
       "      <th>Terrier</th>\n",
       "      <td>0</td>\n",
       "      <td>1</td>\n",
       "      <td>4</td>\n",
       "      <td>3</td>\n",
       "      <td>4</td>\n",
       "      <td>0</td>\n",
       "    </tr>\n",
       "    <tr>\n",
       "      <th>Zwerghund</th>\n",
       "      <td>1</td>\n",
       "      <td>1</td>\n",
       "      <td>2</td>\n",
       "      <td>2</td>\n",
       "      <td>5</td>\n",
       "      <td>2</td>\n",
       "    </tr>\n",
       "  </tbody>\n",
       "</table>\n",
       "</div>"
      ],
      "text/plain": [
       "intelligence   Höchste Intelligenz  Ausgezeichnet  Überdurchschnittlich  \\\n",
       "type_de                                                                   \n",
       "Begleithund                      1              0                     1   \n",
       "Gebrauchshund                    2              1                     3   \n",
       "Hütehund                         4              2                     2   \n",
       "Jagdhund                         2              6                     6   \n",
       "Laufhund                         0              0                     1   \n",
       "Terrier                          0              1                     4   \n",
       "Zwerghund                        1              1                     2   \n",
       "\n",
       "intelligence   Durchschnittlich  Unterdurchschnittlich  Niedrigste Intelligenz  \n",
       "type_de                                                                         \n",
       "Begleithund                   3                      3                       2  \n",
       "Gebrauchshund                 5                      2                       1  \n",
       "Hütehund                      1                      1                       0  \n",
       "Jagdhund                      1                      0                       0  \n",
       "Laufhund                      6                      0                       6  \n",
       "Terrier                       3                      4                       0  \n",
       "Zwerghund                     2                      5                       2  "
      ]
     },
     "execution_count": 10,
     "metadata": {},
     "output_type": "execute_result"
    }
   ],
   "source": [
    "# Intelligenzangaben der Hundegruppen addieren\n",
    "counts = pd.crosstab(data[\"type_de\"], data[\"intelligence\"])\n",
    "\n",
    "# richtige Reihenfolge\n",
    "counts = counts[intelligence_order]\n",
    "\n",
    "# Spalten umbennenen\n",
    "counts = counts.rename(columns=intelligence_de)\n",
    "\n",
    "counts"
   ]
  },
  {
   "cell_type": "code",
   "execution_count": 11,
   "id": "35c4ac80",
   "metadata": {},
   "outputs": [
    {
     "data": {
      "text/html": [
       "<div>\n",
       "<style scoped>\n",
       "    .dataframe tbody tr th:only-of-type {\n",
       "        vertical-align: middle;\n",
       "    }\n",
       "\n",
       "    .dataframe tbody tr th {\n",
       "        vertical-align: top;\n",
       "    }\n",
       "\n",
       "    .dataframe thead th {\n",
       "        text-align: right;\n",
       "    }\n",
       "</style>\n",
       "<table border=\"1\" class=\"dataframe\">\n",
       "  <thead>\n",
       "    <tr style=\"text-align: right;\">\n",
       "      <th>intelligence</th>\n",
       "      <th>Höchste Intelligenz</th>\n",
       "      <th>Ausgezeichnet</th>\n",
       "      <th>Überdurchschnittlich</th>\n",
       "      <th>Durchschnittlich</th>\n",
       "      <th>Unterdurchschnittlich</th>\n",
       "      <th>Niedrigste Intelligenz</th>\n",
       "    </tr>\n",
       "    <tr>\n",
       "      <th>type_de</th>\n",
       "      <th></th>\n",
       "      <th></th>\n",
       "      <th></th>\n",
       "      <th></th>\n",
       "      <th></th>\n",
       "      <th></th>\n",
       "    </tr>\n",
       "  </thead>\n",
       "  <tbody>\n",
       "    <tr>\n",
       "      <th>Begleithund</th>\n",
       "      <td>0.100000</td>\n",
       "      <td>0.000000</td>\n",
       "      <td>0.100000</td>\n",
       "      <td>0.300000</td>\n",
       "      <td>0.300000</td>\n",
       "      <td>0.200000</td>\n",
       "    </tr>\n",
       "    <tr>\n",
       "      <th>Gebrauchshund</th>\n",
       "      <td>0.142857</td>\n",
       "      <td>0.071429</td>\n",
       "      <td>0.214286</td>\n",
       "      <td>0.357143</td>\n",
       "      <td>0.142857</td>\n",
       "      <td>0.071429</td>\n",
       "    </tr>\n",
       "    <tr>\n",
       "      <th>Hütehund</th>\n",
       "      <td>0.400000</td>\n",
       "      <td>0.200000</td>\n",
       "      <td>0.200000</td>\n",
       "      <td>0.100000</td>\n",
       "      <td>0.100000</td>\n",
       "      <td>0.000000</td>\n",
       "    </tr>\n",
       "    <tr>\n",
       "      <th>Jagdhund</th>\n",
       "      <td>0.133333</td>\n",
       "      <td>0.400000</td>\n",
       "      <td>0.400000</td>\n",
       "      <td>0.066667</td>\n",
       "      <td>0.000000</td>\n",
       "      <td>0.000000</td>\n",
       "    </tr>\n",
       "    <tr>\n",
       "      <th>Laufhund</th>\n",
       "      <td>0.000000</td>\n",
       "      <td>0.000000</td>\n",
       "      <td>0.076923</td>\n",
       "      <td>0.461538</td>\n",
       "      <td>0.000000</td>\n",
       "      <td>0.461538</td>\n",
       "    </tr>\n",
       "    <tr>\n",
       "      <th>Terrier</th>\n",
       "      <td>0.000000</td>\n",
       "      <td>0.083333</td>\n",
       "      <td>0.333333</td>\n",
       "      <td>0.250000</td>\n",
       "      <td>0.333333</td>\n",
       "      <td>0.000000</td>\n",
       "    </tr>\n",
       "    <tr>\n",
       "      <th>Zwerghund</th>\n",
       "      <td>0.076923</td>\n",
       "      <td>0.076923</td>\n",
       "      <td>0.153846</td>\n",
       "      <td>0.153846</td>\n",
       "      <td>0.384615</td>\n",
       "      <td>0.153846</td>\n",
       "    </tr>\n",
       "  </tbody>\n",
       "</table>\n",
       "</div>"
      ],
      "text/plain": [
       "intelligence   Höchste Intelligenz  Ausgezeichnet  Überdurchschnittlich  \\\n",
       "type_de                                                                   \n",
       "Begleithund               0.100000       0.000000              0.100000   \n",
       "Gebrauchshund             0.142857       0.071429              0.214286   \n",
       "Hütehund                  0.400000       0.200000              0.200000   \n",
       "Jagdhund                  0.133333       0.400000              0.400000   \n",
       "Laufhund                  0.000000       0.000000              0.076923   \n",
       "Terrier                   0.000000       0.083333              0.333333   \n",
       "Zwerghund                 0.076923       0.076923              0.153846   \n",
       "\n",
       "intelligence   Durchschnittlich  Unterdurchschnittlich  Niedrigste Intelligenz  \n",
       "type_de                                                                         \n",
       "Begleithund            0.300000               0.300000                0.200000  \n",
       "Gebrauchshund          0.357143               0.142857                0.071429  \n",
       "Hütehund               0.100000               0.100000                0.000000  \n",
       "Jagdhund               0.066667               0.000000                0.000000  \n",
       "Laufhund               0.461538               0.000000                0.461538  \n",
       "Terrier                0.250000               0.333333                0.000000  \n",
       "Zwerghund              0.153846               0.384615                0.153846  "
      ]
     },
     "execution_count": 11,
     "metadata": {},
     "output_type": "execute_result"
    }
   ],
   "source": [
    "# Prozentuale Anteile berechnen\n",
    "counts_percent = counts.div(counts.sum(axis=1), axis=0)\n",
    "\n",
    "# Spalten umbennenen\n",
    "counts_percent  = counts_percent.rename(columns=intelligence_de)\n",
    "\n",
    "counts_percent"
   ]
  },
  {
   "cell_type": "code",
   "execution_count": 12,
   "id": "d7af4528",
   "metadata": {},
   "outputs": [
    {
     "data": {
      "application/vnd.plotly.v1+json": {
       "config": {
        "plotlyServerURL": "https://plot.ly"
       },
       "data": [
        {
         "hovertemplate": "Intelligenz=Höchste Intelligenz<br>Hundetyp=%{x}<br>value=%{y}<extra></extra>",
         "legendgroup": "Höchste Intelligenz",
         "marker": {
          "color": "#636efa",
          "pattern": {
           "shape": ""
          }
         },
         "name": "Höchste Intelligenz",
         "orientation": "v",
         "showlegend": true,
         "textposition": "auto",
         "type": "bar",
         "x": [
          "Begleithund",
          "Gebrauchshund",
          "Hütehund",
          "Jagdhund",
          "Laufhund",
          "Terrier",
          "Zwerghund"
         ],
         "xaxis": "x",
         "y": {
          "bdata": "mpmZmZmZuT+SJEmSJEnCP5qZmZmZmdk/ERERERERwT8AAAAAAAAAAAAAAAAAAAAAFDuxEzuxsz8=",
          "dtype": "f8"
         },
         "yaxis": "y"
        },
        {
         "hovertemplate": "Intelligenz=Ausgezeichnet<br>Hundetyp=%{x}<br>value=%{y}<extra></extra>",
         "legendgroup": "Ausgezeichnet",
         "marker": {
          "color": "#EF553B",
          "pattern": {
           "shape": ""
          }
         },
         "name": "Ausgezeichnet",
         "orientation": "v",
         "showlegend": true,
         "textposition": "auto",
         "type": "bar",
         "x": [
          "Begleithund",
          "Gebrauchshund",
          "Hütehund",
          "Jagdhund",
          "Laufhund",
          "Terrier",
          "Zwerghund"
         ],
         "xaxis": "x",
         "y": {
          "bdata": "AAAAAAAAAACSJEmSJEmyP5qZmZmZmck/mpmZmZmZ2T8AAAAAAAAAAFVVVVVVVbU/FDuxEzuxsz8=",
          "dtype": "f8"
         },
         "yaxis": "y"
        },
        {
         "hovertemplate": "Intelligenz=Überdurchschnittlich<br>Hundetyp=%{x}<br>value=%{y}<extra></extra>",
         "legendgroup": "Überdurchschnittlich",
         "marker": {
          "color": "#00cc96",
          "pattern": {
           "shape": ""
          }
         },
         "name": "Überdurchschnittlich",
         "orientation": "v",
         "showlegend": true,
         "textposition": "auto",
         "type": "bar",
         "x": [
          "Begleithund",
          "Gebrauchshund",
          "Hütehund",
          "Jagdhund",
          "Laufhund",
          "Terrier",
          "Zwerghund"
         ],
         "xaxis": "x",
         "y": {
          "bdata": "mpmZmZmZuT/btm3btm3LP5qZmZmZmck/mpmZmZmZ2T8UO7ETO7GzP1VVVVVVVdU/FDuxEzuxwz8=",
          "dtype": "f8"
         },
         "yaxis": "y"
        },
        {
         "hovertemplate": "Intelligenz=Durchschnittlich<br>Hundetyp=%{x}<br>value=%{y}<extra></extra>",
         "legendgroup": "Durchschnittlich",
         "marker": {
          "color": "#ab63fa",
          "pattern": {
           "shape": ""
          }
         },
         "name": "Durchschnittlich",
         "orientation": "v",
         "showlegend": true,
         "textposition": "auto",
         "type": "bar",
         "x": [
          "Begleithund",
          "Gebrauchshund",
          "Hütehund",
          "Jagdhund",
          "Laufhund",
          "Terrier",
          "Zwerghund"
         ],
         "xaxis": "x",
         "y": {
          "bdata": "MzMzMzMz0z+3bdu2bdvWP5qZmZmZmbk/ERERERERsT+e2Imd2IndPwAAAAAAANA/FDuxEzuxwz8=",
          "dtype": "f8"
         },
         "yaxis": "y"
        },
        {
         "hovertemplate": "Intelligenz=Unterdurchschnittlich<br>Hundetyp=%{x}<br>value=%{y}<extra></extra>",
         "legendgroup": "Unterdurchschnittlich",
         "marker": {
          "color": "#FFA15A",
          "pattern": {
           "shape": ""
          }
         },
         "name": "Unterdurchschnittlich",
         "orientation": "v",
         "showlegend": true,
         "textposition": "auto",
         "type": "bar",
         "x": [
          "Begleithund",
          "Gebrauchshund",
          "Hütehund",
          "Jagdhund",
          "Laufhund",
          "Terrier",
          "Zwerghund"
         ],
         "xaxis": "x",
         "y": {
          "bdata": "MzMzMzMz0z+SJEmSJEnCP5qZmZmZmbk/AAAAAAAAAAAAAAAAAAAAAFVVVVVVVdU/2Ymd2Imd2D8=",
          "dtype": "f8"
         },
         "yaxis": "y"
        },
        {
         "hovertemplate": "Intelligenz=Niedrigste Intelligenz<br>Hundetyp=%{x}<br>value=%{y}<extra></extra>",
         "legendgroup": "Niedrigste Intelligenz",
         "marker": {
          "color": "#19d3f3",
          "pattern": {
           "shape": ""
          }
         },
         "name": "Niedrigste Intelligenz",
         "orientation": "v",
         "showlegend": true,
         "textposition": "auto",
         "type": "bar",
         "x": [
          "Begleithund",
          "Gebrauchshund",
          "Hütehund",
          "Jagdhund",
          "Laufhund",
          "Terrier",
          "Zwerghund"
         ],
         "xaxis": "x",
         "y": {
          "bdata": "mpmZmZmZyT+SJEmSJEmyPwAAAAAAAAAAAAAAAAAAAACe2Imd2IndPwAAAAAAAAAAFDuxEzuxwz8=",
          "dtype": "f8"
         },
         "yaxis": "y"
        }
       ],
       "layout": {
        "barmode": "stack",
        "legend": {
         "title": {
          "text": "Intelligenz"
         },
         "tracegroupgap": 0
        },
        "template": {
         "data": {
          "bar": [
           {
            "error_x": {
             "color": "#f2f5fa"
            },
            "error_y": {
             "color": "#f2f5fa"
            },
            "marker": {
             "line": {
              "color": "rgb(17,17,17)",
              "width": 0.5
             },
             "pattern": {
              "fillmode": "overlay",
              "size": 10,
              "solidity": 0.2
             }
            },
            "type": "bar"
           }
          ],
          "barpolar": [
           {
            "marker": {
             "line": {
              "color": "rgb(17,17,17)",
              "width": 0.5
             },
             "pattern": {
              "fillmode": "overlay",
              "size": 10,
              "solidity": 0.2
             }
            },
            "type": "barpolar"
           }
          ],
          "carpet": [
           {
            "aaxis": {
             "endlinecolor": "#A2B1C6",
             "gridcolor": "#506784",
             "linecolor": "#506784",
             "minorgridcolor": "#506784",
             "startlinecolor": "#A2B1C6"
            },
            "baxis": {
             "endlinecolor": "#A2B1C6",
             "gridcolor": "#506784",
             "linecolor": "#506784",
             "minorgridcolor": "#506784",
             "startlinecolor": "#A2B1C6"
            },
            "type": "carpet"
           }
          ],
          "choropleth": [
           {
            "colorbar": {
             "outlinewidth": 0,
             "ticks": ""
            },
            "type": "choropleth"
           }
          ],
          "contour": [
           {
            "colorbar": {
             "outlinewidth": 0,
             "ticks": ""
            },
            "colorscale": [
             [
              0,
              "#0d0887"
             ],
             [
              0.1111111111111111,
              "#46039f"
             ],
             [
              0.2222222222222222,
              "#7201a8"
             ],
             [
              0.3333333333333333,
              "#9c179e"
             ],
             [
              0.4444444444444444,
              "#bd3786"
             ],
             [
              0.5555555555555556,
              "#d8576b"
             ],
             [
              0.6666666666666666,
              "#ed7953"
             ],
             [
              0.7777777777777778,
              "#fb9f3a"
             ],
             [
              0.8888888888888888,
              "#fdca26"
             ],
             [
              1,
              "#f0f921"
             ]
            ],
            "type": "contour"
           }
          ],
          "contourcarpet": [
           {
            "colorbar": {
             "outlinewidth": 0,
             "ticks": ""
            },
            "type": "contourcarpet"
           }
          ],
          "heatmap": [
           {
            "colorbar": {
             "outlinewidth": 0,
             "ticks": ""
            },
            "colorscale": [
             [
              0,
              "#0d0887"
             ],
             [
              0.1111111111111111,
              "#46039f"
             ],
             [
              0.2222222222222222,
              "#7201a8"
             ],
             [
              0.3333333333333333,
              "#9c179e"
             ],
             [
              0.4444444444444444,
              "#bd3786"
             ],
             [
              0.5555555555555556,
              "#d8576b"
             ],
             [
              0.6666666666666666,
              "#ed7953"
             ],
             [
              0.7777777777777778,
              "#fb9f3a"
             ],
             [
              0.8888888888888888,
              "#fdca26"
             ],
             [
              1,
              "#f0f921"
             ]
            ],
            "type": "heatmap"
           }
          ],
          "histogram": [
           {
            "marker": {
             "pattern": {
              "fillmode": "overlay",
              "size": 10,
              "solidity": 0.2
             }
            },
            "type": "histogram"
           }
          ],
          "histogram2d": [
           {
            "colorbar": {
             "outlinewidth": 0,
             "ticks": ""
            },
            "colorscale": [
             [
              0,
              "#0d0887"
             ],
             [
              0.1111111111111111,
              "#46039f"
             ],
             [
              0.2222222222222222,
              "#7201a8"
             ],
             [
              0.3333333333333333,
              "#9c179e"
             ],
             [
              0.4444444444444444,
              "#bd3786"
             ],
             [
              0.5555555555555556,
              "#d8576b"
             ],
             [
              0.6666666666666666,
              "#ed7953"
             ],
             [
              0.7777777777777778,
              "#fb9f3a"
             ],
             [
              0.8888888888888888,
              "#fdca26"
             ],
             [
              1,
              "#f0f921"
             ]
            ],
            "type": "histogram2d"
           }
          ],
          "histogram2dcontour": [
           {
            "colorbar": {
             "outlinewidth": 0,
             "ticks": ""
            },
            "colorscale": [
             [
              0,
              "#0d0887"
             ],
             [
              0.1111111111111111,
              "#46039f"
             ],
             [
              0.2222222222222222,
              "#7201a8"
             ],
             [
              0.3333333333333333,
              "#9c179e"
             ],
             [
              0.4444444444444444,
              "#bd3786"
             ],
             [
              0.5555555555555556,
              "#d8576b"
             ],
             [
              0.6666666666666666,
              "#ed7953"
             ],
             [
              0.7777777777777778,
              "#fb9f3a"
             ],
             [
              0.8888888888888888,
              "#fdca26"
             ],
             [
              1,
              "#f0f921"
             ]
            ],
            "type": "histogram2dcontour"
           }
          ],
          "mesh3d": [
           {
            "colorbar": {
             "outlinewidth": 0,
             "ticks": ""
            },
            "type": "mesh3d"
           }
          ],
          "parcoords": [
           {
            "line": {
             "colorbar": {
              "outlinewidth": 0,
              "ticks": ""
             }
            },
            "type": "parcoords"
           }
          ],
          "pie": [
           {
            "automargin": true,
            "type": "pie"
           }
          ],
          "scatter": [
           {
            "marker": {
             "line": {
              "color": "#283442"
             }
            },
            "type": "scatter"
           }
          ],
          "scatter3d": [
           {
            "line": {
             "colorbar": {
              "outlinewidth": 0,
              "ticks": ""
             }
            },
            "marker": {
             "colorbar": {
              "outlinewidth": 0,
              "ticks": ""
             }
            },
            "type": "scatter3d"
           }
          ],
          "scattercarpet": [
           {
            "marker": {
             "colorbar": {
              "outlinewidth": 0,
              "ticks": ""
             }
            },
            "type": "scattercarpet"
           }
          ],
          "scattergeo": [
           {
            "marker": {
             "colorbar": {
              "outlinewidth": 0,
              "ticks": ""
             }
            },
            "type": "scattergeo"
           }
          ],
          "scattergl": [
           {
            "marker": {
             "line": {
              "color": "#283442"
             }
            },
            "type": "scattergl"
           }
          ],
          "scattermap": [
           {
            "marker": {
             "colorbar": {
              "outlinewidth": 0,
              "ticks": ""
             }
            },
            "type": "scattermap"
           }
          ],
          "scattermapbox": [
           {
            "marker": {
             "colorbar": {
              "outlinewidth": 0,
              "ticks": ""
             }
            },
            "type": "scattermapbox"
           }
          ],
          "scatterpolar": [
           {
            "marker": {
             "colorbar": {
              "outlinewidth": 0,
              "ticks": ""
             }
            },
            "type": "scatterpolar"
           }
          ],
          "scatterpolargl": [
           {
            "marker": {
             "colorbar": {
              "outlinewidth": 0,
              "ticks": ""
             }
            },
            "type": "scatterpolargl"
           }
          ],
          "scatterternary": [
           {
            "marker": {
             "colorbar": {
              "outlinewidth": 0,
              "ticks": ""
             }
            },
            "type": "scatterternary"
           }
          ],
          "surface": [
           {
            "colorbar": {
             "outlinewidth": 0,
             "ticks": ""
            },
            "colorscale": [
             [
              0,
              "#0d0887"
             ],
             [
              0.1111111111111111,
              "#46039f"
             ],
             [
              0.2222222222222222,
              "#7201a8"
             ],
             [
              0.3333333333333333,
              "#9c179e"
             ],
             [
              0.4444444444444444,
              "#bd3786"
             ],
             [
              0.5555555555555556,
              "#d8576b"
             ],
             [
              0.6666666666666666,
              "#ed7953"
             ],
             [
              0.7777777777777778,
              "#fb9f3a"
             ],
             [
              0.8888888888888888,
              "#fdca26"
             ],
             [
              1,
              "#f0f921"
             ]
            ],
            "type": "surface"
           }
          ],
          "table": [
           {
            "cells": {
             "fill": {
              "color": "#506784"
             },
             "line": {
              "color": "rgb(17,17,17)"
             }
            },
            "header": {
             "fill": {
              "color": "#2a3f5f"
             },
             "line": {
              "color": "rgb(17,17,17)"
             }
            },
            "type": "table"
           }
          ]
         },
         "layout": {
          "annotationdefaults": {
           "arrowcolor": "#f2f5fa",
           "arrowhead": 0,
           "arrowwidth": 1
          },
          "autotypenumbers": "strict",
          "coloraxis": {
           "colorbar": {
            "outlinewidth": 0,
            "ticks": ""
           }
          },
          "colorscale": {
           "diverging": [
            [
             0,
             "#8e0152"
            ],
            [
             0.1,
             "#c51b7d"
            ],
            [
             0.2,
             "#de77ae"
            ],
            [
             0.3,
             "#f1b6da"
            ],
            [
             0.4,
             "#fde0ef"
            ],
            [
             0.5,
             "#f7f7f7"
            ],
            [
             0.6,
             "#e6f5d0"
            ],
            [
             0.7,
             "#b8e186"
            ],
            [
             0.8,
             "#7fbc41"
            ],
            [
             0.9,
             "#4d9221"
            ],
            [
             1,
             "#276419"
            ]
           ],
           "sequential": [
            [
             0,
             "#0d0887"
            ],
            [
             0.1111111111111111,
             "#46039f"
            ],
            [
             0.2222222222222222,
             "#7201a8"
            ],
            [
             0.3333333333333333,
             "#9c179e"
            ],
            [
             0.4444444444444444,
             "#bd3786"
            ],
            [
             0.5555555555555556,
             "#d8576b"
            ],
            [
             0.6666666666666666,
             "#ed7953"
            ],
            [
             0.7777777777777778,
             "#fb9f3a"
            ],
            [
             0.8888888888888888,
             "#fdca26"
            ],
            [
             1,
             "#f0f921"
            ]
           ],
           "sequentialminus": [
            [
             0,
             "#0d0887"
            ],
            [
             0.1111111111111111,
             "#46039f"
            ],
            [
             0.2222222222222222,
             "#7201a8"
            ],
            [
             0.3333333333333333,
             "#9c179e"
            ],
            [
             0.4444444444444444,
             "#bd3786"
            ],
            [
             0.5555555555555556,
             "#d8576b"
            ],
            [
             0.6666666666666666,
             "#ed7953"
            ],
            [
             0.7777777777777778,
             "#fb9f3a"
            ],
            [
             0.8888888888888888,
             "#fdca26"
            ],
            [
             1,
             "#f0f921"
            ]
           ]
          },
          "colorway": [
           "#636efa",
           "#EF553B",
           "#00cc96",
           "#ab63fa",
           "#FFA15A",
           "#19d3f3",
           "#FF6692",
           "#B6E880",
           "#FF97FF",
           "#FECB52"
          ],
          "font": {
           "color": "#f2f5fa"
          },
          "geo": {
           "bgcolor": "rgb(17,17,17)",
           "lakecolor": "rgb(17,17,17)",
           "landcolor": "rgb(17,17,17)",
           "showlakes": true,
           "showland": true,
           "subunitcolor": "#506784"
          },
          "hoverlabel": {
           "align": "left"
          },
          "hovermode": "closest",
          "mapbox": {
           "style": "dark"
          },
          "paper_bgcolor": "rgb(17,17,17)",
          "plot_bgcolor": "rgb(17,17,17)",
          "polar": {
           "angularaxis": {
            "gridcolor": "#506784",
            "linecolor": "#506784",
            "ticks": ""
           },
           "bgcolor": "rgb(17,17,17)",
           "radialaxis": {
            "gridcolor": "#506784",
            "linecolor": "#506784",
            "ticks": ""
           }
          },
          "scene": {
           "xaxis": {
            "backgroundcolor": "rgb(17,17,17)",
            "gridcolor": "#506784",
            "gridwidth": 2,
            "linecolor": "#506784",
            "showbackground": true,
            "ticks": "",
            "zerolinecolor": "#C8D4E3"
           },
           "yaxis": {
            "backgroundcolor": "rgb(17,17,17)",
            "gridcolor": "#506784",
            "gridwidth": 2,
            "linecolor": "#506784",
            "showbackground": true,
            "ticks": "",
            "zerolinecolor": "#C8D4E3"
           },
           "zaxis": {
            "backgroundcolor": "rgb(17,17,17)",
            "gridcolor": "#506784",
            "gridwidth": 2,
            "linecolor": "#506784",
            "showbackground": true,
            "ticks": "",
            "zerolinecolor": "#C8D4E3"
           }
          },
          "shapedefaults": {
           "line": {
            "color": "#f2f5fa"
           }
          },
          "sliderdefaults": {
           "bgcolor": "#C8D4E3",
           "bordercolor": "rgb(17,17,17)",
           "borderwidth": 1,
           "tickwidth": 0
          },
          "ternary": {
           "aaxis": {
            "gridcolor": "#506784",
            "linecolor": "#506784",
            "ticks": ""
           },
           "baxis": {
            "gridcolor": "#506784",
            "linecolor": "#506784",
            "ticks": ""
           },
           "bgcolor": "rgb(17,17,17)",
           "caxis": {
            "gridcolor": "#506784",
            "linecolor": "#506784",
            "ticks": ""
           }
          },
          "title": {
           "x": 0.05
          },
          "updatemenudefaults": {
           "bgcolor": "#506784",
           "borderwidth": 0
          },
          "xaxis": {
           "automargin": true,
           "gridcolor": "#283442",
           "linecolor": "#506784",
           "ticks": "",
           "title": {
            "standoff": 15
           },
           "zerolinecolor": "#283442",
           "zerolinewidth": 2
          },
          "yaxis": {
           "automargin": true,
           "gridcolor": "#283442",
           "linecolor": "#506784",
           "ticks": "",
           "title": {
            "standoff": 15
           },
           "zerolinecolor": "#283442",
           "zerolinewidth": 2
          }
         }
        },
        "title": {
         "font": {
          "size": 24
         },
         "text": "Prozentuale Verteilung der Intelligenz nach Hundetyp",
         "x": 0.5,
         "xanchor": "center"
        },
        "xaxis": {
         "anchor": "y",
         "domain": [
          0,
          1
         ],
         "title": {
          "text": "Hundetyp"
         }
        },
        "yaxis": {
         "anchor": "x",
         "domain": [
          0,
          1
         ],
         "ticksuffix": "%",
         "title": {
          "text": "Prozentualer Anteil"
         }
        }
       }
      }
     },
     "metadata": {},
     "output_type": "display_data"
    }
   ],
   "source": [
    "fig = px.bar(\n",
    "    counts_percent,\n",
    "    title='Prozentuale Verteilung der Intelligenz nach Hundetyp',\n",
    "    labels={'type_de': 'Hundetyp', 'intelligence': 'Intelligenz'},\n",
    "    template='plotly_dark',\n",
    "    color_continuous_scale='Viridis'\n",
    ")\n",
    "\n",
    "fig.update_layout(barmode='stack', yaxis=dict(ticksuffix='%'), xaxis_title='Hundetyp', yaxis_title='Prozentualer Anteil')\n",
    "\n",
    "# Überschrift größer und mittig\n",
    "fig.update_layout(\n",
    "    title=dict(\n",
    "        text='Prozentuale Verteilung der Intelligenz nach Hundetyp', \n",
    "        font=dict(size=24), \n",
    "        x=0.5, \n",
    "        xanchor=\"center\"\n",
    "    )\n",
    ")\n",
    "fig.show()\n",
    "fig.write_html('IQ_type.html')"
   ]
  },
  {
   "cell_type": "code",
   "execution_count": 13,
   "id": "267afd43",
   "metadata": {},
   "outputs": [
    {
     "data": {
      "text/html": [
       "<div>\n",
       "<style scoped>\n",
       "    .dataframe tbody tr th:only-of-type {\n",
       "        vertical-align: middle;\n",
       "    }\n",
       "\n",
       "    .dataframe tbody tr th {\n",
       "        vertical-align: top;\n",
       "    }\n",
       "\n",
       "    .dataframe thead th {\n",
       "        text-align: right;\n",
       "    }\n",
       "</style>\n",
       "<table border=\"1\" class=\"dataframe\">\n",
       "  <thead>\n",
       "    <tr style=\"text-align: right;\">\n",
       "      <th></th>\n",
       "      <th>Breed</th>\n",
       "      <th>type</th>\n",
       "      <th>score</th>\n",
       "      <th>popularity ranking</th>\n",
       "      <th>size</th>\n",
       "      <th>intelligence</th>\n",
       "      <th>congential ailments</th>\n",
       "      <th>score for kids</th>\n",
       "      <th>size.1</th>\n",
       "      <th>$LIFETIME COST</th>\n",
       "      <th>...</th>\n",
       "      <th>LONGEVITY(YEARS)</th>\n",
       "      <th>NUMBER OF GENETIC AILMENTS</th>\n",
       "      <th>GENETIC AILMENTS</th>\n",
       "      <th>PURCHASE PRICE</th>\n",
       "      <th>FOOD COSTS PER YEAR</th>\n",
       "      <th>GROOMING FREQUNCY</th>\n",
       "      <th>SUITABILITY FOR CHILDREN</th>\n",
       "      <th>origin_de</th>\n",
       "      <th>Breed_de</th>\n",
       "      <th>type_de</th>\n",
       "    </tr>\n",
       "  </thead>\n",
       "  <tbody>\n",
       "    <tr>\n",
       "      <th>6</th>\n",
       "      <td>Lhasa Apso</td>\n",
       "      <td>non-sporting</td>\n",
       "      <td>3.21</td>\n",
       "      <td>50</td>\n",
       "      <td>1</td>\n",
       "      <td>Fair</td>\n",
       "      <td>'dry eye'</td>\n",
       "      <td>4.58</td>\n",
       "      <td>small</td>\n",
       "      <td>22031.0</td>\n",
       "      <td>...</td>\n",
       "      <td>13.92</td>\n",
       "      <td>1</td>\n",
       "      <td>dry eye</td>\n",
       "      <td>350.0</td>\n",
       "      <td>324.0</td>\n",
       "      <td>Once a week</td>\n",
       "      <td>1</td>\n",
       "      <td>Tibet</td>\n",
       "      <td>Lhasa Apso</td>\n",
       "      <td>Begleithund</td>\n",
       "    </tr>\n",
       "    <tr>\n",
       "      <th>13</th>\n",
       "      <td>Tibetan Spaniel</td>\n",
       "      <td>non-sporting</td>\n",
       "      <td>3.02</td>\n",
       "      <td>73</td>\n",
       "      <td>1</td>\n",
       "      <td>Average</td>\n",
       "      <td>none</td>\n",
       "      <td>4.40</td>\n",
       "      <td>small</td>\n",
       "      <td>25549.0</td>\n",
       "      <td>...</td>\n",
       "      <td>14.42</td>\n",
       "      <td>0</td>\n",
       "      <td>none</td>\n",
       "      <td>1050.0</td>\n",
       "      <td>466.0</td>\n",
       "      <td>Once a week</td>\n",
       "      <td>1</td>\n",
       "      <td>Tibet</td>\n",
       "      <td>Tibetspaniel</td>\n",
       "      <td>Begleithund</td>\n",
       "    </tr>\n",
       "    <tr>\n",
       "      <th>15</th>\n",
       "      <td>Bichon Frise</td>\n",
       "      <td>non-sporting</td>\n",
       "      <td>3.03</td>\n",
       "      <td>34</td>\n",
       "      <td>1</td>\n",
       "      <td>Average</td>\n",
       "      <td>none</td>\n",
       "      <td>4.28</td>\n",
       "      <td>small</td>\n",
       "      <td>19735.0</td>\n",
       "      <td>...</td>\n",
       "      <td>12.21</td>\n",
       "      <td>0</td>\n",
       "      <td>none</td>\n",
       "      <td>693.0</td>\n",
       "      <td>324.0</td>\n",
       "      <td>Daily</td>\n",
       "      <td>1</td>\n",
       "      <td>Belgien/Frankreich</td>\n",
       "      <td>Bichon Frisé</td>\n",
       "      <td>Begleithund</td>\n",
       "    </tr>\n",
       "    <tr>\n",
       "      <th>31</th>\n",
       "      <td>Boston Terrier</td>\n",
       "      <td>non-sporting</td>\n",
       "      <td>2.61</td>\n",
       "      <td>22</td>\n",
       "      <td>2</td>\n",
       "      <td>Average</td>\n",
       "      <td>breathing problems</td>\n",
       "      <td>3.98</td>\n",
       "      <td>medium</td>\n",
       "      <td>17741.0</td>\n",
       "      <td>...</td>\n",
       "      <td>10.92</td>\n",
       "      <td>1</td>\n",
       "      <td>breathing problems</td>\n",
       "      <td>690.0</td>\n",
       "      <td>324.0</td>\n",
       "      <td>Once a week</td>\n",
       "      <td>1</td>\n",
       "      <td>Vereinigte Staaten</td>\n",
       "      <td>Boston Terrier</td>\n",
       "      <td>Begleithund</td>\n",
       "    </tr>\n",
       "    <tr>\n",
       "      <th>35</th>\n",
       "      <td>Dalmatian</td>\n",
       "      <td>non-sporting</td>\n",
       "      <td>2.57</td>\n",
       "      <td>57</td>\n",
       "      <td>2</td>\n",
       "      <td>Above average</td>\n",
       "      <td>deafness, urinary stones</td>\n",
       "      <td>3.95</td>\n",
       "      <td>medium</td>\n",
       "      <td>19886.0</td>\n",
       "      <td>...</td>\n",
       "      <td>11.27</td>\n",
       "      <td>2</td>\n",
       "      <td>deafness, urinary stones</td>\n",
       "      <td>695.0</td>\n",
       "      <td>466.0</td>\n",
       "      <td>Once a week</td>\n",
       "      <td>1</td>\n",
       "      <td>Kroatien</td>\n",
       "      <td>Dalmatiner</td>\n",
       "      <td>Begleithund</td>\n",
       "    </tr>\n",
       "    <tr>\n",
       "      <th>39</th>\n",
       "      <td>Poodle</td>\n",
       "      <td>non-sporting</td>\n",
       "      <td>3.04</td>\n",
       "      <td>8</td>\n",
       "      <td>2</td>\n",
       "      <td>Brightest</td>\n",
       "      <td>fatal stomach bloat, skin disorder</td>\n",
       "      <td>3.92</td>\n",
       "      <td>medium</td>\n",
       "      <td>21237.0</td>\n",
       "      <td>...</td>\n",
       "      <td>11.95</td>\n",
       "      <td>2</td>\n",
       "      <td>fatal stomach bloat, skin disorder</td>\n",
       "      <td>900.0</td>\n",
       "      <td>466.0</td>\n",
       "      <td>Once a week</td>\n",
       "      <td>2</td>\n",
       "      <td>Deutschland/Frankreich</td>\n",
       "      <td>Pudel</td>\n",
       "      <td>Begleithund</td>\n",
       "    </tr>\n",
       "    <tr>\n",
       "      <th>51</th>\n",
       "      <td>Tibetan Terrier</td>\n",
       "      <td>non-sporting</td>\n",
       "      <td>2.75</td>\n",
       "      <td>64</td>\n",
       "      <td>1</td>\n",
       "      <td>Fair</td>\n",
       "      <td>none</td>\n",
       "      <td>3.63</td>\n",
       "      <td>small</td>\n",
       "      <td>20336.0</td>\n",
       "      <td>...</td>\n",
       "      <td>12.31</td>\n",
       "      <td>0</td>\n",
       "      <td>none</td>\n",
       "      <td>1140.0</td>\n",
       "      <td>324.0</td>\n",
       "      <td>Once a week</td>\n",
       "      <td>2</td>\n",
       "      <td>Tibet</td>\n",
       "      <td>Tibet Terrier</td>\n",
       "      <td>Begleithund</td>\n",
       "    </tr>\n",
       "    <tr>\n",
       "      <th>61</th>\n",
       "      <td>French Bulldog</td>\n",
       "      <td>non-sporting</td>\n",
       "      <td>1.90</td>\n",
       "      <td>18</td>\n",
       "      <td>2</td>\n",
       "      <td>Fair</td>\n",
       "      <td>none</td>\n",
       "      <td>3.27</td>\n",
       "      <td>medium</td>\n",
       "      <td>17266.0</td>\n",
       "      <td>...</td>\n",
       "      <td>9.00</td>\n",
       "      <td>0</td>\n",
       "      <td>none</td>\n",
       "      <td>1900.0</td>\n",
       "      <td>466.0</td>\n",
       "      <td>Once a week</td>\n",
       "      <td>1</td>\n",
       "      <td>Frankreich</td>\n",
       "      <td>Französische Bulldogge</td>\n",
       "      <td>Begleithund</td>\n",
       "    </tr>\n",
       "    <tr>\n",
       "      <th>84</th>\n",
       "      <td>Chow Chow</td>\n",
       "      <td>non-sporting</td>\n",
       "      <td>1.76</td>\n",
       "      <td>54</td>\n",
       "      <td>2</td>\n",
       "      <td>Lowest</td>\n",
       "      <td>eye, hip problems</td>\n",
       "      <td>2.51</td>\n",
       "      <td>medium</td>\n",
       "      <td>15898.0</td>\n",
       "      <td>...</td>\n",
       "      <td>9.01</td>\n",
       "      <td>2</td>\n",
       "      <td>eye, hip problems</td>\n",
       "      <td>515.0</td>\n",
       "      <td>466.0</td>\n",
       "      <td>Daily</td>\n",
       "      <td>2</td>\n",
       "      <td>Volksrepublik China</td>\n",
       "      <td>Chow-Chow</td>\n",
       "      <td>Begleithund</td>\n",
       "    </tr>\n",
       "    <tr>\n",
       "      <th>86</th>\n",
       "      <td>Bulldog</td>\n",
       "      <td>non-sporting</td>\n",
       "      <td>0.99</td>\n",
       "      <td>6</td>\n",
       "      <td>2</td>\n",
       "      <td>Lowest</td>\n",
       "      <td>breathing, hip, heart problems, 'dry eye'</td>\n",
       "      <td>1.86</td>\n",
       "      <td>medium</td>\n",
       "      <td>13479.0</td>\n",
       "      <td>...</td>\n",
       "      <td>6.29</td>\n",
       "      <td>5</td>\n",
       "      <td>breathing, hip, heart problems, 'dry eye'</td>\n",
       "      <td>2680.0</td>\n",
       "      <td>466.0</td>\n",
       "      <td>Once a week</td>\n",
       "      <td>2</td>\n",
       "      <td>Vereinigtes Königreich</td>\n",
       "      <td>Englische Bulldogge</td>\n",
       "      <td>Begleithund</td>\n",
       "    </tr>\n",
       "  </tbody>\n",
       "</table>\n",
       "<p>10 rows × 22 columns</p>\n",
       "</div>"
      ],
      "text/plain": [
       "              Breed          type  score  popularity ranking  size  \\\n",
       "6        Lhasa Apso  non-sporting   3.21                  50     1   \n",
       "13  Tibetan Spaniel  non-sporting   3.02                  73     1   \n",
       "15     Bichon Frise  non-sporting   3.03                  34     1   \n",
       "31   Boston Terrier  non-sporting   2.61                  22     2   \n",
       "35        Dalmatian  non-sporting   2.57                  57     2   \n",
       "39           Poodle  non-sporting   3.04                   8     2   \n",
       "51  Tibetan Terrier  non-sporting   2.75                  64     1   \n",
       "61   French Bulldog  non-sporting   1.90                  18     2   \n",
       "84        Chow Chow  non-sporting   1.76                  54     2   \n",
       "86          Bulldog  non-sporting   0.99                   6     2   \n",
       "\n",
       "     intelligence                        congential ailments  score for kids  \\\n",
       "6            Fair                                  'dry eye'            4.58   \n",
       "13        Average                                       none            4.40   \n",
       "15        Average                                       none            4.28   \n",
       "31        Average                         breathing problems            3.98   \n",
       "35  Above average                   deafness, urinary stones            3.95   \n",
       "39      Brightest         fatal stomach bloat, skin disorder            3.92   \n",
       "51           Fair                                       none            3.63   \n",
       "61           Fair                                       none            3.27   \n",
       "84         Lowest                          eye, hip problems            2.51   \n",
       "86         Lowest  breathing, hip, heart problems, 'dry eye'            1.86   \n",
       "\n",
       "    size.1  $LIFETIME COST  ...  LONGEVITY(YEARS) NUMBER OF GENETIC AILMENTS  \\\n",
       "6    small         22031.0  ...             13.92                          1   \n",
       "13   small         25549.0  ...             14.42                          0   \n",
       "15   small         19735.0  ...             12.21                          0   \n",
       "31  medium         17741.0  ...             10.92                          1   \n",
       "35  medium         19886.0  ...             11.27                          2   \n",
       "39  medium         21237.0  ...             11.95                          2   \n",
       "51   small         20336.0  ...             12.31                          0   \n",
       "61  medium         17266.0  ...              9.00                          0   \n",
       "84  medium         15898.0  ...              9.01                          2   \n",
       "86  medium         13479.0  ...              6.29                          5   \n",
       "\n",
       "                             GENETIC AILMENTS  PURCHASE PRICE  \\\n",
       "6                                     dry eye           350.0   \n",
       "13                                       none          1050.0   \n",
       "15                                       none           693.0   \n",
       "31                         breathing problems           690.0   \n",
       "35                   deafness, urinary stones           695.0   \n",
       "39         fatal stomach bloat, skin disorder           900.0   \n",
       "51                                       none          1140.0   \n",
       "61                                       none          1900.0   \n",
       "84                          eye, hip problems           515.0   \n",
       "86  breathing, hip, heart problems, 'dry eye'          2680.0   \n",
       "\n",
       "   FOOD COSTS PER YEAR  GROOMING FREQUNCY  SUITABILITY FOR CHILDREN  \\\n",
       "6                324.0        Once a week                         1   \n",
       "13               466.0        Once a week                         1   \n",
       "15               324.0              Daily                         1   \n",
       "31               324.0        Once a week                         1   \n",
       "35               466.0        Once a week                         1   \n",
       "39               466.0        Once a week                         2   \n",
       "51               324.0        Once a week                         2   \n",
       "61               466.0        Once a week                         1   \n",
       "84               466.0              Daily                         2   \n",
       "86               466.0        Once a week                         2   \n",
       "\n",
       "                 origin_de                Breed_de      type_de  \n",
       "6                    Tibet              Lhasa Apso  Begleithund  \n",
       "13                   Tibet            Tibetspaniel  Begleithund  \n",
       "15      Belgien/Frankreich            Bichon Frisé  Begleithund  \n",
       "31      Vereinigte Staaten          Boston Terrier  Begleithund  \n",
       "35                Kroatien              Dalmatiner  Begleithund  \n",
       "39  Deutschland/Frankreich                   Pudel  Begleithund  \n",
       "51                   Tibet           Tibet Terrier  Begleithund  \n",
       "61              Frankreich  Französische Bulldogge  Begleithund  \n",
       "84     Volksrepublik China               Chow-Chow  Begleithund  \n",
       "86  Vereinigtes Königreich     Englische Bulldogge  Begleithund  \n",
       "\n",
       "[10 rows x 22 columns]"
      ]
     },
     "execution_count": 13,
     "metadata": {},
     "output_type": "execute_result"
    }
   ],
   "source": [
    "begleithunde = data[data['type_de'] == 'Begleithund']\n",
    "begleithunde"
   ]
  },
  {
   "cell_type": "markdown",
   "id": "367c732f",
   "metadata": {},
   "source": [
    "### Woher kommen die meisten Hunderassen?"
   ]
  },
  {
   "cell_type": "code",
   "execution_count": 14,
   "id": "1bdde328",
   "metadata": {},
   "outputs": [],
   "source": [
    "# Einträge mit mehreren Ländern splitten\n",
    "new_data = data.assign(\n",
    "    origin_de=data[\"origin_de\"].str.split(\"/\")\n",
    ").explode(\"origin_de\")"
   ]
  },
  {
   "cell_type": "code",
   "execution_count": 15,
   "id": "fd787907",
   "metadata": {},
   "outputs": [
    {
     "data": {
      "text/html": [
       "<div>\n",
       "<style scoped>\n",
       "    .dataframe tbody tr th:only-of-type {\n",
       "        vertical-align: middle;\n",
       "    }\n",
       "\n",
       "    .dataframe tbody tr th {\n",
       "        vertical-align: top;\n",
       "    }\n",
       "\n",
       "    .dataframe thead th {\n",
       "        text-align: right;\n",
       "    }\n",
       "</style>\n",
       "<table border=\"1\" class=\"dataframe\">\n",
       "  <thead>\n",
       "    <tr style=\"text-align: right;\">\n",
       "      <th></th>\n",
       "      <th>Herkunftsland</th>\n",
       "      <th>Anzahl</th>\n",
       "    </tr>\n",
       "  </thead>\n",
       "  <tbody>\n",
       "    <tr>\n",
       "      <th>0</th>\n",
       "      <td>Vereinigtes Königreich</td>\n",
       "      <td>14</td>\n",
       "    </tr>\n",
       "    <tr>\n",
       "      <th>1</th>\n",
       "      <td>England</td>\n",
       "      <td>14</td>\n",
       "    </tr>\n",
       "    <tr>\n",
       "      <th>2</th>\n",
       "      <td>Deutschland</td>\n",
       "      <td>12</td>\n",
       "    </tr>\n",
       "    <tr>\n",
       "      <th>3</th>\n",
       "      <td>Frankreich</td>\n",
       "      <td>7</td>\n",
       "    </tr>\n",
       "    <tr>\n",
       "      <th>4</th>\n",
       "      <td>Schottland</td>\n",
       "      <td>7</td>\n",
       "    </tr>\n",
       "    <tr>\n",
       "      <th>5</th>\n",
       "      <td>Belgien</td>\n",
       "      <td>6</td>\n",
       "    </tr>\n",
       "    <tr>\n",
       "      <th>6</th>\n",
       "      <td>Irland</td>\n",
       "      <td>3</td>\n",
       "    </tr>\n",
       "    <tr>\n",
       "      <th>7</th>\n",
       "      <td>Volksrepublik China</td>\n",
       "      <td>3</td>\n",
       "    </tr>\n",
       "    <tr>\n",
       "      <th>8</th>\n",
       "      <td>Tibet</td>\n",
       "      <td>3</td>\n",
       "    </tr>\n",
       "    <tr>\n",
       "      <th>9</th>\n",
       "      <td>Australien</td>\n",
       "      <td>3</td>\n",
       "    </tr>\n",
       "    <tr>\n",
       "      <th>10</th>\n",
       "      <td>Vereinigte Staaten</td>\n",
       "      <td>3</td>\n",
       "    </tr>\n",
       "    <tr>\n",
       "      <th>11</th>\n",
       "      <td>Kanada</td>\n",
       "      <td>2</td>\n",
       "    </tr>\n",
       "    <tr>\n",
       "      <th>12</th>\n",
       "      <td>Wales</td>\n",
       "      <td>2</td>\n",
       "    </tr>\n",
       "    <tr>\n",
       "      <th>13</th>\n",
       "      <td>Schweiz</td>\n",
       "      <td>2</td>\n",
       "    </tr>\n",
       "    <tr>\n",
       "      <th>14</th>\n",
       "      <td>Russland</td>\n",
       "      <td>2</td>\n",
       "    </tr>\n",
       "    <tr>\n",
       "      <th>15</th>\n",
       "      <td>Sibirien</td>\n",
       "      <td>1</td>\n",
       "    </tr>\n",
       "    <tr>\n",
       "      <th>16</th>\n",
       "      <td>China</td>\n",
       "      <td>1</td>\n",
       "    </tr>\n",
       "    <tr>\n",
       "      <th>17</th>\n",
       "      <td>Polen</td>\n",
       "      <td>1</td>\n",
       "    </tr>\n",
       "    <tr>\n",
       "      <th>18</th>\n",
       "      <td>Ägypten</td>\n",
       "      <td>1</td>\n",
       "    </tr>\n",
       "    <tr>\n",
       "      <th>19</th>\n",
       "      <td>Arabische Halbinsel</td>\n",
       "      <td>1</td>\n",
       "    </tr>\n",
       "    <tr>\n",
       "      <th>20</th>\n",
       "      <td>Kroatien</td>\n",
       "      <td>1</td>\n",
       "    </tr>\n",
       "    <tr>\n",
       "      <th>21</th>\n",
       "      <td>Mexiko</td>\n",
       "      <td>1</td>\n",
       "    </tr>\n",
       "    <tr>\n",
       "      <th>22</th>\n",
       "      <td>Demokratische Republik Kongo</td>\n",
       "      <td>1</td>\n",
       "    </tr>\n",
       "    <tr>\n",
       "      <th>23</th>\n",
       "      <td>Afghanistan</td>\n",
       "      <td>1</td>\n",
       "    </tr>\n",
       "    <tr>\n",
       "      <th>24</th>\n",
       "      <td>Malta</td>\n",
       "      <td>1</td>\n",
       "    </tr>\n",
       "    <tr>\n",
       "      <th>25</th>\n",
       "      <td>Italien</td>\n",
       "      <td>1</td>\n",
       "    </tr>\n",
       "    <tr>\n",
       "      <th>26</th>\n",
       "      <td>Rhodesien</td>\n",
       "      <td>1</td>\n",
       "    </tr>\n",
       "    <tr>\n",
       "      <th>27</th>\n",
       "      <td>Alaska</td>\n",
       "      <td>1</td>\n",
       "    </tr>\n",
       "    <tr>\n",
       "      <th>28</th>\n",
       "      <td>Japan</td>\n",
       "      <td>1</td>\n",
       "    </tr>\n",
       "  </tbody>\n",
       "</table>\n",
       "</div>"
      ],
      "text/plain": [
       "                   Herkunftsland  Anzahl\n",
       "0         Vereinigtes Königreich      14\n",
       "1                        England      14\n",
       "2                    Deutschland      12\n",
       "3                     Frankreich       7\n",
       "4                     Schottland       7\n",
       "5                        Belgien       6\n",
       "6                         Irland       3\n",
       "7            Volksrepublik China       3\n",
       "8                          Tibet       3\n",
       "9                     Australien       3\n",
       "10            Vereinigte Staaten       3\n",
       "11                        Kanada       2\n",
       "12                         Wales       2\n",
       "13                       Schweiz       2\n",
       "14                      Russland       2\n",
       "15                      Sibirien       1\n",
       "16                         China       1\n",
       "17                         Polen       1\n",
       "18                       Ägypten       1\n",
       "19           Arabische Halbinsel       1\n",
       "20                      Kroatien       1\n",
       "21                        Mexiko       1\n",
       "22  Demokratische Republik Kongo       1\n",
       "23                   Afghanistan       1\n",
       "24                         Malta       1\n",
       "25                       Italien       1\n",
       "26                     Rhodesien       1\n",
       "27                        Alaska       1\n",
       "28                         Japan       1"
      ]
     },
     "execution_count": 15,
     "metadata": {},
     "output_type": "execute_result"
    }
   ],
   "source": [
    "# Herkunftsländer zählen\n",
    "counts = new_data[\"origin_de\"].value_counts().reset_index()\n",
    "\n",
    "# Spalten umbennenen\n",
    "counts.columns = [\"Herkunftsland\", \"Anzahl\"]\n",
    "\n",
    "counts"
   ]
  },
  {
   "cell_type": "code",
   "execution_count": 16,
   "id": "5ec8e146",
   "metadata": {},
   "outputs": [
    {
     "data": {
      "text/html": [
       "<div>\n",
       "<style scoped>\n",
       "    .dataframe tbody tr th:only-of-type {\n",
       "        vertical-align: middle;\n",
       "    }\n",
       "\n",
       "    .dataframe tbody tr th {\n",
       "        vertical-align: top;\n",
       "    }\n",
       "\n",
       "    .dataframe thead th {\n",
       "        text-align: right;\n",
       "    }\n",
       "</style>\n",
       "<table border=\"1\" class=\"dataframe\">\n",
       "  <thead>\n",
       "    <tr style=\"text-align: right;\">\n",
       "      <th></th>\n",
       "      <th>Herkunftsland</th>\n",
       "      <th>Anzahl</th>\n",
       "    </tr>\n",
       "  </thead>\n",
       "  <tbody>\n",
       "    <tr>\n",
       "      <th>0</th>\n",
       "      <td>Vereinigtes Königreich</td>\n",
       "      <td>14</td>\n",
       "    </tr>\n",
       "    <tr>\n",
       "      <th>1</th>\n",
       "      <td>England</td>\n",
       "      <td>14</td>\n",
       "    </tr>\n",
       "    <tr>\n",
       "      <th>2</th>\n",
       "      <td>Deutschland</td>\n",
       "      <td>12</td>\n",
       "    </tr>\n",
       "    <tr>\n",
       "      <th>3</th>\n",
       "      <td>Frankreich</td>\n",
       "      <td>7</td>\n",
       "    </tr>\n",
       "    <tr>\n",
       "      <th>4</th>\n",
       "      <td>Schottland</td>\n",
       "      <td>7</td>\n",
       "    </tr>\n",
       "    <tr>\n",
       "      <th>5</th>\n",
       "      <td>Belgien</td>\n",
       "      <td>6</td>\n",
       "    </tr>\n",
       "    <tr>\n",
       "      <th>6</th>\n",
       "      <td>Irland</td>\n",
       "      <td>3</td>\n",
       "    </tr>\n",
       "    <tr>\n",
       "      <th>7</th>\n",
       "      <td>Volksrepublik China</td>\n",
       "      <td>3</td>\n",
       "    </tr>\n",
       "    <tr>\n",
       "      <th>8</th>\n",
       "      <td>Tibet</td>\n",
       "      <td>3</td>\n",
       "    </tr>\n",
       "    <tr>\n",
       "      <th>9</th>\n",
       "      <td>Australien</td>\n",
       "      <td>3</td>\n",
       "    </tr>\n",
       "    <tr>\n",
       "      <th>10</th>\n",
       "      <td>Vereinigte Staaten</td>\n",
       "      <td>3</td>\n",
       "    </tr>\n",
       "  </tbody>\n",
       "</table>\n",
       "</div>"
      ],
      "text/plain": [
       "             Herkunftsland  Anzahl\n",
       "0   Vereinigtes Königreich      14\n",
       "1                  England      14\n",
       "2              Deutschland      12\n",
       "3               Frankreich       7\n",
       "4               Schottland       7\n",
       "5                  Belgien       6\n",
       "6                   Irland       3\n",
       "7      Volksrepublik China       3\n",
       "8                    Tibet       3\n",
       "9               Australien       3\n",
       "10      Vereinigte Staaten       3"
      ]
     },
     "execution_count": 16,
     "metadata": {},
     "output_type": "execute_result"
    }
   ],
   "source": [
    "# Daten reduzieren\n",
    "counts_reduced = counts[:11]\n",
    "counts_reduced"
   ]
  },
  {
   "cell_type": "code",
   "execution_count": 17,
   "id": "015c2075",
   "metadata": {},
   "outputs": [
    {
     "data": {
      "text/plain": [
       "np.int64(22)"
      ]
     },
     "execution_count": 17,
     "metadata": {},
     "output_type": "execute_result"
    }
   ],
   "source": [
    "# neue Kategorie \"Andere\"\n",
    "other_sum = counts[11:][\"Anzahl\"].sum()\n",
    "other_sum"
   ]
  },
  {
   "cell_type": "code",
   "execution_count": 18,
   "id": "88ebd1b1",
   "metadata": {},
   "outputs": [
    {
     "data": {
      "text/html": [
       "<div>\n",
       "<style scoped>\n",
       "    .dataframe tbody tr th:only-of-type {\n",
       "        vertical-align: middle;\n",
       "    }\n",
       "\n",
       "    .dataframe tbody tr th {\n",
       "        vertical-align: top;\n",
       "    }\n",
       "\n",
       "    .dataframe thead th {\n",
       "        text-align: right;\n",
       "    }\n",
       "</style>\n",
       "<table border=\"1\" class=\"dataframe\">\n",
       "  <thead>\n",
       "    <tr style=\"text-align: right;\">\n",
       "      <th></th>\n",
       "      <th>Herkunftsland</th>\n",
       "      <th>Anzahl</th>\n",
       "    </tr>\n",
       "  </thead>\n",
       "  <tbody>\n",
       "    <tr>\n",
       "      <th>0</th>\n",
       "      <td>Andere</td>\n",
       "      <td>22</td>\n",
       "    </tr>\n",
       "  </tbody>\n",
       "</table>\n",
       "</div>"
      ],
      "text/plain": [
       "  Herkunftsland  Anzahl\n",
       "0        Andere      22"
      ]
     },
     "execution_count": 18,
     "metadata": {},
     "output_type": "execute_result"
    }
   ],
   "source": [
    "# neue Zuweisung\n",
    "other_df = pd.DataFrame({\"Herkunftsland\": [\"Andere\"], \"Anzahl\": [other_sum]})\n",
    "other_df"
   ]
  },
  {
   "cell_type": "code",
   "execution_count": 19,
   "id": "435ac2a2",
   "metadata": {},
   "outputs": [
    {
     "data": {
      "text/html": [
       "<div>\n",
       "<style scoped>\n",
       "    .dataframe tbody tr th:only-of-type {\n",
       "        vertical-align: middle;\n",
       "    }\n",
       "\n",
       "    .dataframe tbody tr th {\n",
       "        vertical-align: top;\n",
       "    }\n",
       "\n",
       "    .dataframe thead th {\n",
       "        text-align: right;\n",
       "    }\n",
       "</style>\n",
       "<table border=\"1\" class=\"dataframe\">\n",
       "  <thead>\n",
       "    <tr style=\"text-align: right;\">\n",
       "      <th></th>\n",
       "      <th>Herkunftsland</th>\n",
       "      <th>Anzahl</th>\n",
       "    </tr>\n",
       "  </thead>\n",
       "  <tbody>\n",
       "    <tr>\n",
       "      <th>0</th>\n",
       "      <td>Vereinigtes Königreich</td>\n",
       "      <td>14</td>\n",
       "    </tr>\n",
       "    <tr>\n",
       "      <th>1</th>\n",
       "      <td>England</td>\n",
       "      <td>14</td>\n",
       "    </tr>\n",
       "    <tr>\n",
       "      <th>2</th>\n",
       "      <td>Deutschland</td>\n",
       "      <td>12</td>\n",
       "    </tr>\n",
       "    <tr>\n",
       "      <th>3</th>\n",
       "      <td>Frankreich</td>\n",
       "      <td>7</td>\n",
       "    </tr>\n",
       "    <tr>\n",
       "      <th>4</th>\n",
       "      <td>Schottland</td>\n",
       "      <td>7</td>\n",
       "    </tr>\n",
       "    <tr>\n",
       "      <th>5</th>\n",
       "      <td>Belgien</td>\n",
       "      <td>6</td>\n",
       "    </tr>\n",
       "    <tr>\n",
       "      <th>6</th>\n",
       "      <td>Irland</td>\n",
       "      <td>3</td>\n",
       "    </tr>\n",
       "    <tr>\n",
       "      <th>7</th>\n",
       "      <td>Volksrepublik China</td>\n",
       "      <td>3</td>\n",
       "    </tr>\n",
       "    <tr>\n",
       "      <th>8</th>\n",
       "      <td>Tibet</td>\n",
       "      <td>3</td>\n",
       "    </tr>\n",
       "    <tr>\n",
       "      <th>9</th>\n",
       "      <td>Australien</td>\n",
       "      <td>3</td>\n",
       "    </tr>\n",
       "    <tr>\n",
       "      <th>10</th>\n",
       "      <td>Vereinigte Staaten</td>\n",
       "      <td>3</td>\n",
       "    </tr>\n",
       "    <tr>\n",
       "      <th>11</th>\n",
       "      <td>Andere</td>\n",
       "      <td>22</td>\n",
       "    </tr>\n",
       "  </tbody>\n",
       "</table>\n",
       "</div>"
      ],
      "text/plain": [
       "             Herkunftsland  Anzahl\n",
       "0   Vereinigtes Königreich      14\n",
       "1                  England      14\n",
       "2              Deutschland      12\n",
       "3               Frankreich       7\n",
       "4               Schottland       7\n",
       "5                  Belgien       6\n",
       "6                   Irland       3\n",
       "7      Volksrepublik China       3\n",
       "8                    Tibet       3\n",
       "9               Australien       3\n",
       "10      Vereinigte Staaten       3\n",
       "11                  Andere      22"
      ]
     },
     "execution_count": 19,
     "metadata": {},
     "output_type": "execute_result"
    }
   ],
   "source": [
    "# Zusammenfügen\n",
    "data_final = pd.concat([counts_reduced, other_df], ignore_index=True)\n",
    "data_final"
   ]
  },
  {
   "cell_type": "code",
   "execution_count": null,
   "id": "1479d492",
   "metadata": {},
   "outputs": [
    {
     "data": {
      "application/vnd.plotly.v1+json": {
       "config": {
        "plotlyServerURL": "https://plot.ly"
       },
       "data": [
        {
         "domain": {
          "x": [
           0,
           1
          ],
          "y": [
           0,
           1
          ]
         },
         "hovertemplate": "Herkunftsland=%{label}<br>Anzahl=%{value}<extra></extra>",
         "labels": [
          "Vereinigtes Königreich",
          "England",
          "Deutschland",
          "Frankreich",
          "Schottland",
          "Belgien",
          "Irland",
          "Volksrepublik China",
          "Tibet",
          "Australien",
          "Vereinigte Staaten",
          "Andere"
         ],
         "legendgroup": "",
         "name": "",
         "showlegend": true,
         "type": "pie",
         "values": {
          "bdata": "Dg4MBwcGAwMDAwMW",
          "dtype": "i1"
         }
        }
       ],
       "layout": {
        "height": 600,
        "legend": {
         "orientation": "h",
         "tracegroupgap": 0,
         "x": 0.5,
         "xanchor": "center",
         "y": -0.25,
         "yanchor": "bottom"
        },
        "margin": {
         "b": 120,
         "l": 40,
         "r": 40,
         "t": 80
        },
        "template": {
         "data": {
          "bar": [
           {
            "error_x": {
             "color": "#f2f5fa"
            },
            "error_y": {
             "color": "#f2f5fa"
            },
            "marker": {
             "line": {
              "color": "rgb(17,17,17)",
              "width": 0.5
             },
             "pattern": {
              "fillmode": "overlay",
              "size": 10,
              "solidity": 0.2
             }
            },
            "type": "bar"
           }
          ],
          "barpolar": [
           {
            "marker": {
             "line": {
              "color": "rgb(17,17,17)",
              "width": 0.5
             },
             "pattern": {
              "fillmode": "overlay",
              "size": 10,
              "solidity": 0.2
             }
            },
            "type": "barpolar"
           }
          ],
          "carpet": [
           {
            "aaxis": {
             "endlinecolor": "#A2B1C6",
             "gridcolor": "#506784",
             "linecolor": "#506784",
             "minorgridcolor": "#506784",
             "startlinecolor": "#A2B1C6"
            },
            "baxis": {
             "endlinecolor": "#A2B1C6",
             "gridcolor": "#506784",
             "linecolor": "#506784",
             "minorgridcolor": "#506784",
             "startlinecolor": "#A2B1C6"
            },
            "type": "carpet"
           }
          ],
          "choropleth": [
           {
            "colorbar": {
             "outlinewidth": 0,
             "ticks": ""
            },
            "type": "choropleth"
           }
          ],
          "contour": [
           {
            "colorbar": {
             "outlinewidth": 0,
             "ticks": ""
            },
            "colorscale": [
             [
              0,
              "#0d0887"
             ],
             [
              0.1111111111111111,
              "#46039f"
             ],
             [
              0.2222222222222222,
              "#7201a8"
             ],
             [
              0.3333333333333333,
              "#9c179e"
             ],
             [
              0.4444444444444444,
              "#bd3786"
             ],
             [
              0.5555555555555556,
              "#d8576b"
             ],
             [
              0.6666666666666666,
              "#ed7953"
             ],
             [
              0.7777777777777778,
              "#fb9f3a"
             ],
             [
              0.8888888888888888,
              "#fdca26"
             ],
             [
              1,
              "#f0f921"
             ]
            ],
            "type": "contour"
           }
          ],
          "contourcarpet": [
           {
            "colorbar": {
             "outlinewidth": 0,
             "ticks": ""
            },
            "type": "contourcarpet"
           }
          ],
          "heatmap": [
           {
            "colorbar": {
             "outlinewidth": 0,
             "ticks": ""
            },
            "colorscale": [
             [
              0,
              "#0d0887"
             ],
             [
              0.1111111111111111,
              "#46039f"
             ],
             [
              0.2222222222222222,
              "#7201a8"
             ],
             [
              0.3333333333333333,
              "#9c179e"
             ],
             [
              0.4444444444444444,
              "#bd3786"
             ],
             [
              0.5555555555555556,
              "#d8576b"
             ],
             [
              0.6666666666666666,
              "#ed7953"
             ],
             [
              0.7777777777777778,
              "#fb9f3a"
             ],
             [
              0.8888888888888888,
              "#fdca26"
             ],
             [
              1,
              "#f0f921"
             ]
            ],
            "type": "heatmap"
           }
          ],
          "histogram": [
           {
            "marker": {
             "pattern": {
              "fillmode": "overlay",
              "size": 10,
              "solidity": 0.2
             }
            },
            "type": "histogram"
           }
          ],
          "histogram2d": [
           {
            "colorbar": {
             "outlinewidth": 0,
             "ticks": ""
            },
            "colorscale": [
             [
              0,
              "#0d0887"
             ],
             [
              0.1111111111111111,
              "#46039f"
             ],
             [
              0.2222222222222222,
              "#7201a8"
             ],
             [
              0.3333333333333333,
              "#9c179e"
             ],
             [
              0.4444444444444444,
              "#bd3786"
             ],
             [
              0.5555555555555556,
              "#d8576b"
             ],
             [
              0.6666666666666666,
              "#ed7953"
             ],
             [
              0.7777777777777778,
              "#fb9f3a"
             ],
             [
              0.8888888888888888,
              "#fdca26"
             ],
             [
              1,
              "#f0f921"
             ]
            ],
            "type": "histogram2d"
           }
          ],
          "histogram2dcontour": [
           {
            "colorbar": {
             "outlinewidth": 0,
             "ticks": ""
            },
            "colorscale": [
             [
              0,
              "#0d0887"
             ],
             [
              0.1111111111111111,
              "#46039f"
             ],
             [
              0.2222222222222222,
              "#7201a8"
             ],
             [
              0.3333333333333333,
              "#9c179e"
             ],
             [
              0.4444444444444444,
              "#bd3786"
             ],
             [
              0.5555555555555556,
              "#d8576b"
             ],
             [
              0.6666666666666666,
              "#ed7953"
             ],
             [
              0.7777777777777778,
              "#fb9f3a"
             ],
             [
              0.8888888888888888,
              "#fdca26"
             ],
             [
              1,
              "#f0f921"
             ]
            ],
            "type": "histogram2dcontour"
           }
          ],
          "mesh3d": [
           {
            "colorbar": {
             "outlinewidth": 0,
             "ticks": ""
            },
            "type": "mesh3d"
           }
          ],
          "parcoords": [
           {
            "line": {
             "colorbar": {
              "outlinewidth": 0,
              "ticks": ""
             }
            },
            "type": "parcoords"
           }
          ],
          "pie": [
           {
            "automargin": true,
            "type": "pie"
           }
          ],
          "scatter": [
           {
            "marker": {
             "line": {
              "color": "#283442"
             }
            },
            "type": "scatter"
           }
          ],
          "scatter3d": [
           {
            "line": {
             "colorbar": {
              "outlinewidth": 0,
              "ticks": ""
             }
            },
            "marker": {
             "colorbar": {
              "outlinewidth": 0,
              "ticks": ""
             }
            },
            "type": "scatter3d"
           }
          ],
          "scattercarpet": [
           {
            "marker": {
             "colorbar": {
              "outlinewidth": 0,
              "ticks": ""
             }
            },
            "type": "scattercarpet"
           }
          ],
          "scattergeo": [
           {
            "marker": {
             "colorbar": {
              "outlinewidth": 0,
              "ticks": ""
             }
            },
            "type": "scattergeo"
           }
          ],
          "scattergl": [
           {
            "marker": {
             "line": {
              "color": "#283442"
             }
            },
            "type": "scattergl"
           }
          ],
          "scattermap": [
           {
            "marker": {
             "colorbar": {
              "outlinewidth": 0,
              "ticks": ""
             }
            },
            "type": "scattermap"
           }
          ],
          "scattermapbox": [
           {
            "marker": {
             "colorbar": {
              "outlinewidth": 0,
              "ticks": ""
             }
            },
            "type": "scattermapbox"
           }
          ],
          "scatterpolar": [
           {
            "marker": {
             "colorbar": {
              "outlinewidth": 0,
              "ticks": ""
             }
            },
            "type": "scatterpolar"
           }
          ],
          "scatterpolargl": [
           {
            "marker": {
             "colorbar": {
              "outlinewidth": 0,
              "ticks": ""
             }
            },
            "type": "scatterpolargl"
           }
          ],
          "scatterternary": [
           {
            "marker": {
             "colorbar": {
              "outlinewidth": 0,
              "ticks": ""
             }
            },
            "type": "scatterternary"
           }
          ],
          "surface": [
           {
            "colorbar": {
             "outlinewidth": 0,
             "ticks": ""
            },
            "colorscale": [
             [
              0,
              "#0d0887"
             ],
             [
              0.1111111111111111,
              "#46039f"
             ],
             [
              0.2222222222222222,
              "#7201a8"
             ],
             [
              0.3333333333333333,
              "#9c179e"
             ],
             [
              0.4444444444444444,
              "#bd3786"
             ],
             [
              0.5555555555555556,
              "#d8576b"
             ],
             [
              0.6666666666666666,
              "#ed7953"
             ],
             [
              0.7777777777777778,
              "#fb9f3a"
             ],
             [
              0.8888888888888888,
              "#fdca26"
             ],
             [
              1,
              "#f0f921"
             ]
            ],
            "type": "surface"
           }
          ],
          "table": [
           {
            "cells": {
             "fill": {
              "color": "#506784"
             },
             "line": {
              "color": "rgb(17,17,17)"
             }
            },
            "header": {
             "fill": {
              "color": "#2a3f5f"
             },
             "line": {
              "color": "rgb(17,17,17)"
             }
            },
            "type": "table"
           }
          ]
         },
         "layout": {
          "annotationdefaults": {
           "arrowcolor": "#f2f5fa",
           "arrowhead": 0,
           "arrowwidth": 1
          },
          "autotypenumbers": "strict",
          "coloraxis": {
           "colorbar": {
            "outlinewidth": 0,
            "ticks": ""
           }
          },
          "colorscale": {
           "diverging": [
            [
             0,
             "#8e0152"
            ],
            [
             0.1,
             "#c51b7d"
            ],
            [
             0.2,
             "#de77ae"
            ],
            [
             0.3,
             "#f1b6da"
            ],
            [
             0.4,
             "#fde0ef"
            ],
            [
             0.5,
             "#f7f7f7"
            ],
            [
             0.6,
             "#e6f5d0"
            ],
            [
             0.7,
             "#b8e186"
            ],
            [
             0.8,
             "#7fbc41"
            ],
            [
             0.9,
             "#4d9221"
            ],
            [
             1,
             "#276419"
            ]
           ],
           "sequential": [
            [
             0,
             "#0d0887"
            ],
            [
             0.1111111111111111,
             "#46039f"
            ],
            [
             0.2222222222222222,
             "#7201a8"
            ],
            [
             0.3333333333333333,
             "#9c179e"
            ],
            [
             0.4444444444444444,
             "#bd3786"
            ],
            [
             0.5555555555555556,
             "#d8576b"
            ],
            [
             0.6666666666666666,
             "#ed7953"
            ],
            [
             0.7777777777777778,
             "#fb9f3a"
            ],
            [
             0.8888888888888888,
             "#fdca26"
            ],
            [
             1,
             "#f0f921"
            ]
           ],
           "sequentialminus": [
            [
             0,
             "#0d0887"
            ],
            [
             0.1111111111111111,
             "#46039f"
            ],
            [
             0.2222222222222222,
             "#7201a8"
            ],
            [
             0.3333333333333333,
             "#9c179e"
            ],
            [
             0.4444444444444444,
             "#bd3786"
            ],
            [
             0.5555555555555556,
             "#d8576b"
            ],
            [
             0.6666666666666666,
             "#ed7953"
            ],
            [
             0.7777777777777778,
             "#fb9f3a"
            ],
            [
             0.8888888888888888,
             "#fdca26"
            ],
            [
             1,
             "#f0f921"
            ]
           ]
          },
          "colorway": [
           "#636efa",
           "#EF553B",
           "#00cc96",
           "#ab63fa",
           "#FFA15A",
           "#19d3f3",
           "#FF6692",
           "#B6E880",
           "#FF97FF",
           "#FECB52"
          ],
          "font": {
           "color": "#f2f5fa"
          },
          "geo": {
           "bgcolor": "rgb(17,17,17)",
           "lakecolor": "rgb(17,17,17)",
           "landcolor": "rgb(17,17,17)",
           "showlakes": true,
           "showland": true,
           "subunitcolor": "#506784"
          },
          "hoverlabel": {
           "align": "left"
          },
          "hovermode": "closest",
          "mapbox": {
           "style": "dark"
          },
          "paper_bgcolor": "rgb(17,17,17)",
          "plot_bgcolor": "rgb(17,17,17)",
          "polar": {
           "angularaxis": {
            "gridcolor": "#506784",
            "linecolor": "#506784",
            "ticks": ""
           },
           "bgcolor": "rgb(17,17,17)",
           "radialaxis": {
            "gridcolor": "#506784",
            "linecolor": "#506784",
            "ticks": ""
           }
          },
          "scene": {
           "xaxis": {
            "backgroundcolor": "rgb(17,17,17)",
            "gridcolor": "#506784",
            "gridwidth": 2,
            "linecolor": "#506784",
            "showbackground": true,
            "ticks": "",
            "zerolinecolor": "#C8D4E3"
           },
           "yaxis": {
            "backgroundcolor": "rgb(17,17,17)",
            "gridcolor": "#506784",
            "gridwidth": 2,
            "linecolor": "#506784",
            "showbackground": true,
            "ticks": "",
            "zerolinecolor": "#C8D4E3"
           },
           "zaxis": {
            "backgroundcolor": "rgb(17,17,17)",
            "gridcolor": "#506784",
            "gridwidth": 2,
            "linecolor": "#506784",
            "showbackground": true,
            "ticks": "",
            "zerolinecolor": "#C8D4E3"
           }
          },
          "shapedefaults": {
           "line": {
            "color": "#f2f5fa"
           }
          },
          "sliderdefaults": {
           "bgcolor": "#C8D4E3",
           "bordercolor": "rgb(17,17,17)",
           "borderwidth": 1,
           "tickwidth": 0
          },
          "ternary": {
           "aaxis": {
            "gridcolor": "#506784",
            "linecolor": "#506784",
            "ticks": ""
           },
           "baxis": {
            "gridcolor": "#506784",
            "linecolor": "#506784",
            "ticks": ""
           },
           "bgcolor": "rgb(17,17,17)",
           "caxis": {
            "gridcolor": "#506784",
            "linecolor": "#506784",
            "ticks": ""
           }
          },
          "title": {
           "x": 0.05
          },
          "updatemenudefaults": {
           "bgcolor": "#506784",
           "borderwidth": 0
          },
          "xaxis": {
           "automargin": true,
           "gridcolor": "#283442",
           "linecolor": "#506784",
           "ticks": "",
           "title": {
            "standoff": 15
           },
           "zerolinecolor": "#283442",
           "zerolinewidth": 2
          },
          "yaxis": {
           "automargin": true,
           "gridcolor": "#283442",
           "linecolor": "#506784",
           "ticks": "",
           "title": {
            "standoff": 15
           },
           "zerolinecolor": "#283442",
           "zerolinewidth": 2
          }
         }
        },
        "title": {
         "font": {
          "size": 24
         },
         "text": "Herkunftsländer Hunderassen",
         "x": 0.5,
         "xanchor": "center"
        },
        "width": 800
       }
      }
     },
     "metadata": {},
     "output_type": "display_data"
    }
   ],
   "source": [
    "fig = px.pie(\n",
    "    data_final,\n",
    "    names=\"Herkunftsland\",\n",
    "    values=\"Anzahl\",\n",
    "    template='plotly_dark'\n",
    ")\n",
    "\n",
    "# Überschrift größer und mittig\n",
    "fig.update_layout(\n",
    "    title=dict(\n",
    "        text='Herkunftsländer Hunderassen', \n",
    "        font=dict(size=24), \n",
    "        x=0.5, \n",
    "        xanchor=\"center\"\n",
    "    ),\n",
    "    legend=dict(\n",
    "        orientation=\"h\",\n",
    "        yanchor=\"bottom\",\n",
    "        y=-0.25,\n",
    "        xanchor=\"center\",\n",
    "        x=0.5\n",
    "    ),\n",
    "    margin=dict(l=40, r=40, t=80, b=120),  # b = bottom: Platz für Legende\n",
    "    width=800, height=600 \n",
    "\n",
    ")\n",
    "\n",
    "fig.show()\n",
    "fig.write_html('count_origin.html')"
   ]
  },
  {
   "cell_type": "markdown",
   "id": "3c7adfec",
   "metadata": {},
   "source": [
    "### Die 10 beliebtesten Hunderassen und deren Kaufpreis"
   ]
  },
  {
   "cell_type": "code",
   "execution_count": 21,
   "id": "ab4f021c",
   "metadata": {},
   "outputs": [
    {
     "data": {
      "text/html": [
       "<div>\n",
       "<style scoped>\n",
       "    .dataframe tbody tr th:only-of-type {\n",
       "        vertical-align: middle;\n",
       "    }\n",
       "\n",
       "    .dataframe tbody tr th {\n",
       "        vertical-align: top;\n",
       "    }\n",
       "\n",
       "    .dataframe thead th {\n",
       "        text-align: right;\n",
       "    }\n",
       "</style>\n",
       "<table border=\"1\" class=\"dataframe\">\n",
       "  <thead>\n",
       "    <tr style=\"text-align: right;\">\n",
       "      <th></th>\n",
       "      <th>Breed</th>\n",
       "      <th>type</th>\n",
       "      <th>score</th>\n",
       "      <th>popularity ranking</th>\n",
       "      <th>size</th>\n",
       "      <th>intelligence</th>\n",
       "      <th>congential ailments</th>\n",
       "      <th>score for kids</th>\n",
       "      <th>size.1</th>\n",
       "      <th>$LIFETIME COST</th>\n",
       "      <th>...</th>\n",
       "      <th>LONGEVITY(YEARS)</th>\n",
       "      <th>NUMBER OF GENETIC AILMENTS</th>\n",
       "      <th>GENETIC AILMENTS</th>\n",
       "      <th>PURCHASE PRICE</th>\n",
       "      <th>FOOD COSTS PER YEAR</th>\n",
       "      <th>GROOMING FREQUNCY</th>\n",
       "      <th>SUITABILITY FOR CHILDREN</th>\n",
       "      <th>origin_de</th>\n",
       "      <th>Breed_de</th>\n",
       "      <th>type_de</th>\n",
       "    </tr>\n",
       "  </thead>\n",
       "  <tbody>\n",
       "    <tr>\n",
       "      <th>14</th>\n",
       "      <td>Labrador Retriever</td>\n",
       "      <td>sporting</td>\n",
       "      <td>2.97</td>\n",
       "      <td>1</td>\n",
       "      <td>2</td>\n",
       "      <td>Brightest</td>\n",
       "      <td>elbows, hips, eyes</td>\n",
       "      <td>4.35</td>\n",
       "      <td>medium</td>\n",
       "      <td>21299.0</td>\n",
       "      <td>...</td>\n",
       "      <td>12.04</td>\n",
       "      <td>3</td>\n",
       "      <td>elbows, hips, eyes</td>\n",
       "      <td>810.0</td>\n",
       "      <td>466.0</td>\n",
       "      <td>Once a week</td>\n",
       "      <td>1</td>\n",
       "      <td>England/Kanada/Vereinigtes Königreich</td>\n",
       "      <td>Labrador Retriever</td>\n",
       "      <td>Jagdhund</td>\n",
       "    </tr>\n",
       "    <tr>\n",
       "      <th>72</th>\n",
       "      <td>German Shepherd</td>\n",
       "      <td>herding</td>\n",
       "      <td>2.06</td>\n",
       "      <td>2</td>\n",
       "      <td>3</td>\n",
       "      <td>Brightest</td>\n",
       "      <td>nerves, pancreas, blood (hemophilia), hip joints</td>\n",
       "      <td>2.94</td>\n",
       "      <td>large</td>\n",
       "      <td>17416.0</td>\n",
       "      <td>...</td>\n",
       "      <td>9.73</td>\n",
       "      <td>8</td>\n",
       "      <td>nerves, pancreas, blood (hemophilia), hip joints</td>\n",
       "      <td>820.0</td>\n",
       "      <td>466.0</td>\n",
       "      <td>Once a week</td>\n",
       "      <td>2</td>\n",
       "      <td>Deutschland</td>\n",
       "      <td>Deutscher Schäferhund</td>\n",
       "      <td>Hütehund</td>\n",
       "    </tr>\n",
       "    <tr>\n",
       "      <th>27</th>\n",
       "      <td>Beagle</td>\n",
       "      <td>hound</td>\n",
       "      <td>2.79</td>\n",
       "      <td>3</td>\n",
       "      <td>1</td>\n",
       "      <td>Lowest</td>\n",
       "      <td>heart problems</td>\n",
       "      <td>4.04</td>\n",
       "      <td>small</td>\n",
       "      <td>19468.0</td>\n",
       "      <td>...</td>\n",
       "      <td>12.30</td>\n",
       "      <td>1</td>\n",
       "      <td>heart problems</td>\n",
       "      <td>288.0</td>\n",
       "      <td>324.0</td>\n",
       "      <td>Daily</td>\n",
       "      <td>1</td>\n",
       "      <td>Vereinigtes Königreich</td>\n",
       "      <td>Beagle</td>\n",
       "      <td>Laufhund</td>\n",
       "    </tr>\n",
       "    <tr>\n",
       "      <th>19</th>\n",
       "      <td>Golden Retriever</td>\n",
       "      <td>sporting</td>\n",
       "      <td>2.80</td>\n",
       "      <td>4</td>\n",
       "      <td>2</td>\n",
       "      <td>Brightest</td>\n",
       "      <td>elbows, hips, eyes, heart</td>\n",
       "      <td>4.17</td>\n",
       "      <td>medium</td>\n",
       "      <td>21447.0</td>\n",
       "      <td>...</td>\n",
       "      <td>12.04</td>\n",
       "      <td>4</td>\n",
       "      <td>elbows, hips, eyes, heart</td>\n",
       "      <td>958.0</td>\n",
       "      <td>466.0</td>\n",
       "      <td>Once a week</td>\n",
       "      <td>1</td>\n",
       "      <td>Schottland/Vereinigtes Königreich</td>\n",
       "      <td>Golden Retriever</td>\n",
       "      <td>Jagdhund</td>\n",
       "    </tr>\n",
       "    <tr>\n",
       "      <th>68</th>\n",
       "      <td>Yorkshire Terrier</td>\n",
       "      <td>toy</td>\n",
       "      <td>2.85</td>\n",
       "      <td>5</td>\n",
       "      <td>1</td>\n",
       "      <td>Above average</td>\n",
       "      <td>knee, liver, trachea, eye disorders</td>\n",
       "      <td>3.10</td>\n",
       "      <td>small</td>\n",
       "      <td>20701.0</td>\n",
       "      <td>...</td>\n",
       "      <td>12.60</td>\n",
       "      <td>4</td>\n",
       "      <td>knee, liver, trachea, eye disorders</td>\n",
       "      <td>1057.0</td>\n",
       "      <td>324.0</td>\n",
       "      <td>Daily</td>\n",
       "      <td>3</td>\n",
       "      <td>England</td>\n",
       "      <td>Yorkshire Terrier</td>\n",
       "      <td>Zwerghund</td>\n",
       "    </tr>\n",
       "    <tr>\n",
       "      <th>86</th>\n",
       "      <td>Bulldog</td>\n",
       "      <td>non-sporting</td>\n",
       "      <td>0.99</td>\n",
       "      <td>6</td>\n",
       "      <td>2</td>\n",
       "      <td>Lowest</td>\n",
       "      <td>breathing, hip, heart problems, 'dry eye'</td>\n",
       "      <td>1.86</td>\n",
       "      <td>medium</td>\n",
       "      <td>13479.0</td>\n",
       "      <td>...</td>\n",
       "      <td>6.29</td>\n",
       "      <td>5</td>\n",
       "      <td>breathing, hip, heart problems, 'dry eye'</td>\n",
       "      <td>2680.0</td>\n",
       "      <td>466.0</td>\n",
       "      <td>Once a week</td>\n",
       "      <td>2</td>\n",
       "      <td>Vereinigtes Königreich</td>\n",
       "      <td>Englische Bulldogge</td>\n",
       "      <td>Begleithund</td>\n",
       "    </tr>\n",
       "    <tr>\n",
       "      <th>63</th>\n",
       "      <td>Boxer</td>\n",
       "      <td>working</td>\n",
       "      <td>1.83</td>\n",
       "      <td>7</td>\n",
       "      <td>2</td>\n",
       "      <td>Average</td>\n",
       "      <td>eye, nerve, heart problems</td>\n",
       "      <td>3.21</td>\n",
       "      <td>medium</td>\n",
       "      <td>15746.0</td>\n",
       "      <td>...</td>\n",
       "      <td>8.81</td>\n",
       "      <td>4</td>\n",
       "      <td>eye, nerve, heart problems</td>\n",
       "      <td>700.0</td>\n",
       "      <td>466.0</td>\n",
       "      <td>Once a week</td>\n",
       "      <td>1</td>\n",
       "      <td>Deutschland</td>\n",
       "      <td>Boxer</td>\n",
       "      <td>Gebrauchshund</td>\n",
       "    </tr>\n",
       "    <tr>\n",
       "      <th>39</th>\n",
       "      <td>Poodle</td>\n",
       "      <td>non-sporting</td>\n",
       "      <td>3.04</td>\n",
       "      <td>8</td>\n",
       "      <td>2</td>\n",
       "      <td>Brightest</td>\n",
       "      <td>fatal stomach bloat, skin disorder</td>\n",
       "      <td>3.92</td>\n",
       "      <td>medium</td>\n",
       "      <td>21237.0</td>\n",
       "      <td>...</td>\n",
       "      <td>11.95</td>\n",
       "      <td>2</td>\n",
       "      <td>fatal stomach bloat, skin disorder</td>\n",
       "      <td>900.0</td>\n",
       "      <td>466.0</td>\n",
       "      <td>Once a week</td>\n",
       "      <td>2</td>\n",
       "      <td>Deutschland/Frankreich</td>\n",
       "      <td>Pudel</td>\n",
       "      <td>Begleithund</td>\n",
       "    </tr>\n",
       "    <tr>\n",
       "      <th>53</th>\n",
       "      <td>Dachshund</td>\n",
       "      <td>hound</td>\n",
       "      <td>3.19</td>\n",
       "      <td>9</td>\n",
       "      <td>1</td>\n",
       "      <td>Average</td>\n",
       "      <td>skin, spinal problems</td>\n",
       "      <td>3.57</td>\n",
       "      <td>small</td>\n",
       "      <td>20113.0</td>\n",
       "      <td>...</td>\n",
       "      <td>12.63</td>\n",
       "      <td>2</td>\n",
       "      <td>skin, spinal problems</td>\n",
       "      <td>423.0</td>\n",
       "      <td>324.0</td>\n",
       "      <td>Once a week</td>\n",
       "      <td>3</td>\n",
       "      <td>Deutschland</td>\n",
       "      <td>Dackel (Teckel)</td>\n",
       "      <td>Laufhund</td>\n",
       "    </tr>\n",
       "    <tr>\n",
       "      <th>67</th>\n",
       "      <td>Rottweiler</td>\n",
       "      <td>working</td>\n",
       "      <td>2.24</td>\n",
       "      <td>10</td>\n",
       "      <td>3</td>\n",
       "      <td>Brightest</td>\n",
       "      <td>heart, elbow, hip problems</td>\n",
       "      <td>3.12</td>\n",
       "      <td>large</td>\n",
       "      <td>18886.0</td>\n",
       "      <td>...</td>\n",
       "      <td>9.11</td>\n",
       "      <td>3</td>\n",
       "      <td>heart, elbow, hip problems</td>\n",
       "      <td>1118.0</td>\n",
       "      <td>710.0</td>\n",
       "      <td>Once a week</td>\n",
       "      <td>2</td>\n",
       "      <td>Deutschland</td>\n",
       "      <td>Rottweiler</td>\n",
       "      <td>Gebrauchshund</td>\n",
       "    </tr>\n",
       "  </tbody>\n",
       "</table>\n",
       "<p>10 rows × 22 columns</p>\n",
       "</div>"
      ],
      "text/plain": [
       "                 Breed          type  score  popularity ranking  size  \\\n",
       "14  Labrador Retriever      sporting   2.97                   1     2   \n",
       "72     German Shepherd       herding   2.06                   2     3   \n",
       "27              Beagle         hound   2.79                   3     1   \n",
       "19    Golden Retriever      sporting   2.80                   4     2   \n",
       "68   Yorkshire Terrier           toy   2.85                   5     1   \n",
       "86             Bulldog  non-sporting   0.99                   6     2   \n",
       "63               Boxer       working   1.83                   7     2   \n",
       "39              Poodle  non-sporting   3.04                   8     2   \n",
       "53           Dachshund         hound   3.19                   9     1   \n",
       "67          Rottweiler       working   2.24                  10     3   \n",
       "\n",
       "     intelligence                               congential ailments  \\\n",
       "14      Brightest                                elbows, hips, eyes   \n",
       "72      Brightest  nerves, pancreas, blood (hemophilia), hip joints   \n",
       "27         Lowest                                    heart problems   \n",
       "19      Brightest                        elbows, hips, eyes, heart    \n",
       "68  Above average               knee, liver, trachea, eye disorders   \n",
       "86         Lowest         breathing, hip, heart problems, 'dry eye'   \n",
       "63        Average                        eye, nerve, heart problems   \n",
       "39      Brightest                fatal stomach bloat, skin disorder   \n",
       "53        Average                             skin, spinal problems   \n",
       "67      Brightest                        heart, elbow, hip problems   \n",
       "\n",
       "    score for kids  size.1  $LIFETIME COST  ...  LONGEVITY(YEARS)  \\\n",
       "14            4.35  medium         21299.0  ...             12.04   \n",
       "72            2.94   large         17416.0  ...              9.73   \n",
       "27            4.04   small         19468.0  ...             12.30   \n",
       "19            4.17  medium         21447.0  ...             12.04   \n",
       "68            3.10   small         20701.0  ...             12.60   \n",
       "86            1.86  medium         13479.0  ...              6.29   \n",
       "63            3.21  medium         15746.0  ...              8.81   \n",
       "39            3.92  medium         21237.0  ...             11.95   \n",
       "53            3.57   small         20113.0  ...             12.63   \n",
       "67            3.12   large         18886.0  ...              9.11   \n",
       "\n",
       "   NUMBER OF GENETIC AILMENTS  \\\n",
       "14                          3   \n",
       "72                          8   \n",
       "27                          1   \n",
       "19                          4   \n",
       "68                          4   \n",
       "86                          5   \n",
       "63                          4   \n",
       "39                          2   \n",
       "53                          2   \n",
       "67                          3   \n",
       "\n",
       "                                    GENETIC AILMENTS  PURCHASE PRICE  \\\n",
       "14                                elbows, hips, eyes           810.0   \n",
       "72  nerves, pancreas, blood (hemophilia), hip joints           820.0   \n",
       "27                                    heart problems           288.0   \n",
       "19                        elbows, hips, eyes, heart            958.0   \n",
       "68               knee, liver, trachea, eye disorders          1057.0   \n",
       "86         breathing, hip, heart problems, 'dry eye'          2680.0   \n",
       "63                        eye, nerve, heart problems           700.0   \n",
       "39                fatal stomach bloat, skin disorder           900.0   \n",
       "53                             skin, spinal problems           423.0   \n",
       "67                        heart, elbow, hip problems          1118.0   \n",
       "\n",
       "   FOOD COSTS PER YEAR  GROOMING FREQUNCY  SUITABILITY FOR CHILDREN  \\\n",
       "14               466.0        Once a week                         1   \n",
       "72               466.0        Once a week                         2   \n",
       "27               324.0              Daily                         1   \n",
       "19               466.0        Once a week                         1   \n",
       "68               324.0              Daily                         3   \n",
       "86               466.0        Once a week                         2   \n",
       "63               466.0        Once a week                         1   \n",
       "39               466.0        Once a week                         2   \n",
       "53               324.0        Once a week                         3   \n",
       "67               710.0        Once a week                         2   \n",
       "\n",
       "                                origin_de               Breed_de  \\\n",
       "14  England/Kanada/Vereinigtes Königreich     Labrador Retriever   \n",
       "72                            Deutschland  Deutscher Schäferhund   \n",
       "27                 Vereinigtes Königreich                 Beagle   \n",
       "19      Schottland/Vereinigtes Königreich       Golden Retriever   \n",
       "68                                England      Yorkshire Terrier   \n",
       "86                 Vereinigtes Königreich    Englische Bulldogge   \n",
       "63                            Deutschland                  Boxer   \n",
       "39                 Deutschland/Frankreich                  Pudel   \n",
       "53                            Deutschland        Dackel (Teckel)   \n",
       "67                            Deutschland             Rottweiler   \n",
       "\n",
       "          type_de  \n",
       "14       Jagdhund  \n",
       "72       Hütehund  \n",
       "27       Laufhund  \n",
       "19       Jagdhund  \n",
       "68      Zwerghund  \n",
       "86    Begleithund  \n",
       "63  Gebrauchshund  \n",
       "39    Begleithund  \n",
       "53       Laufhund  \n",
       "67  Gebrauchshund  \n",
       "\n",
       "[10 rows x 22 columns]"
      ]
     },
     "execution_count": 21,
     "metadata": {},
     "output_type": "execute_result"
    }
   ],
   "source": [
    "top_10 = data.sort_values(by=\"popularity ranking\", ascending=True).head(10)\n",
    "top_10"
   ]
  },
  {
   "cell_type": "code",
   "execution_count": null,
   "id": "233945e6",
   "metadata": {},
   "outputs": [
    {
     "data": {
      "application/vnd.plotly.v1+json": {
       "config": {
        "plotlyServerURL": "https://plot.ly"
       },
       "data": [
        {
         "hovertemplate": "Kaufpreis in $=%{x}<br>Rasse=%{y}<br>popularity ranking=%{text}<extra></extra>",
         "legendgroup": "",
         "marker": {
          "color": "gold",
          "pattern": {
           "shape": ""
          }
         },
         "name": "",
         "orientation": "h",
         "showlegend": false,
         "text": {
          "bdata": "AAAAAAAA8D8=",
          "dtype": "f8"
         },
         "textposition": "auto",
         "type": "bar",
         "x": {
          "bdata": "AAAAAABQiUA=",
          "dtype": "f8"
         },
         "xaxis": "x",
         "y": [
          "Labrador Retriever"
         ],
         "yaxis": "y"
        },
        {
         "hovertemplate": "Kaufpreis in $=%{x}<br>Rasse=%{y}<br>popularity ranking=%{text}<extra></extra>",
         "legendgroup": "",
         "marker": {
          "color": "silver",
          "pattern": {
           "shape": ""
          }
         },
         "name": "",
         "orientation": "h",
         "showlegend": false,
         "text": {
          "bdata": "AAAAAAAAAEA=",
          "dtype": "f8"
         },
         "textposition": "auto",
         "type": "bar",
         "x": {
          "bdata": "AAAAAACgiUA=",
          "dtype": "f8"
         },
         "xaxis": "x",
         "y": [
          "German Shepherd"
         ],
         "yaxis": "y"
        },
        {
         "hovertemplate": "Kaufpreis in $=%{x}<br>Rasse=%{y}<br>popularity ranking=%{text}<extra></extra>",
         "legendgroup": "",
         "marker": {
          "color": "#CD7F32",
          "pattern": {
           "shape": ""
          }
         },
         "name": "",
         "orientation": "h",
         "showlegend": false,
         "text": {
          "bdata": "AAAAAAAACEA=",
          "dtype": "f8"
         },
         "textposition": "auto",
         "type": "bar",
         "x": {
          "bdata": "AAAAAAAAckA=",
          "dtype": "f8"
         },
         "xaxis": "x",
         "y": [
          "Beagle"
         ],
         "yaxis": "y"
        },
        {
         "hovertemplate": "Kaufpreis in $=%{x}<br>Rasse=%{y}<br>popularity ranking=%{text}<extra></extra>",
         "legendgroup": "",
         "marker": {
          "color": "#666666",
          "pattern": {
           "shape": ""
          }
         },
         "name": "",
         "orientation": "h",
         "showlegend": false,
         "text": {
          "bdata": "AAAAAAAAEEAAAAAAAAAUQAAAAAAAABhAAAAAAAAAHEAAAAAAAAAgQAAAAAAAACJAAAAAAAAAJEA=",
          "dtype": "f8"
         },
         "textposition": "auto",
         "type": "bar",
         "x": {
          "bdata": "AAAAAADwjUAAAAAAAISQQAAAAAAA8KRAAAAAAADghUAAAAAAACCMQAAAAAAAcHpAAAAAAAB4kUA=",
          "dtype": "f8"
         },
         "xaxis": "x",
         "y": [
          "Golden Retriever",
          "Yorkshire Terrier",
          "Bulldog",
          "Boxer",
          "Poodle",
          "Dachshund",
          "Rottweiler"
         ],
         "yaxis": "y"
        }
       ],
       "layout": {
        "barmode": "relative",
        "height": 600,
        "legend": {
         "tracegroupgap": 0
        },
        "showlegend": false,
        "template": {
         "data": {
          "bar": [
           {
            "error_x": {
             "color": "#f2f5fa"
            },
            "error_y": {
             "color": "#f2f5fa"
            },
            "marker": {
             "line": {
              "color": "rgb(17,17,17)",
              "width": 0.5
             },
             "pattern": {
              "fillmode": "overlay",
              "size": 10,
              "solidity": 0.2
             }
            },
            "type": "bar"
           }
          ],
          "barpolar": [
           {
            "marker": {
             "line": {
              "color": "rgb(17,17,17)",
              "width": 0.5
             },
             "pattern": {
              "fillmode": "overlay",
              "size": 10,
              "solidity": 0.2
             }
            },
            "type": "barpolar"
           }
          ],
          "carpet": [
           {
            "aaxis": {
             "endlinecolor": "#A2B1C6",
             "gridcolor": "#506784",
             "linecolor": "#506784",
             "minorgridcolor": "#506784",
             "startlinecolor": "#A2B1C6"
            },
            "baxis": {
             "endlinecolor": "#A2B1C6",
             "gridcolor": "#506784",
             "linecolor": "#506784",
             "minorgridcolor": "#506784",
             "startlinecolor": "#A2B1C6"
            },
            "type": "carpet"
           }
          ],
          "choropleth": [
           {
            "colorbar": {
             "outlinewidth": 0,
             "ticks": ""
            },
            "type": "choropleth"
           }
          ],
          "contour": [
           {
            "colorbar": {
             "outlinewidth": 0,
             "ticks": ""
            },
            "colorscale": [
             [
              0,
              "#0d0887"
             ],
             [
              0.1111111111111111,
              "#46039f"
             ],
             [
              0.2222222222222222,
              "#7201a8"
             ],
             [
              0.3333333333333333,
              "#9c179e"
             ],
             [
              0.4444444444444444,
              "#bd3786"
             ],
             [
              0.5555555555555556,
              "#d8576b"
             ],
             [
              0.6666666666666666,
              "#ed7953"
             ],
             [
              0.7777777777777778,
              "#fb9f3a"
             ],
             [
              0.8888888888888888,
              "#fdca26"
             ],
             [
              1,
              "#f0f921"
             ]
            ],
            "type": "contour"
           }
          ],
          "contourcarpet": [
           {
            "colorbar": {
             "outlinewidth": 0,
             "ticks": ""
            },
            "type": "contourcarpet"
           }
          ],
          "heatmap": [
           {
            "colorbar": {
             "outlinewidth": 0,
             "ticks": ""
            },
            "colorscale": [
             [
              0,
              "#0d0887"
             ],
             [
              0.1111111111111111,
              "#46039f"
             ],
             [
              0.2222222222222222,
              "#7201a8"
             ],
             [
              0.3333333333333333,
              "#9c179e"
             ],
             [
              0.4444444444444444,
              "#bd3786"
             ],
             [
              0.5555555555555556,
              "#d8576b"
             ],
             [
              0.6666666666666666,
              "#ed7953"
             ],
             [
              0.7777777777777778,
              "#fb9f3a"
             ],
             [
              0.8888888888888888,
              "#fdca26"
             ],
             [
              1,
              "#f0f921"
             ]
            ],
            "type": "heatmap"
           }
          ],
          "histogram": [
           {
            "marker": {
             "pattern": {
              "fillmode": "overlay",
              "size": 10,
              "solidity": 0.2
             }
            },
            "type": "histogram"
           }
          ],
          "histogram2d": [
           {
            "colorbar": {
             "outlinewidth": 0,
             "ticks": ""
            },
            "colorscale": [
             [
              0,
              "#0d0887"
             ],
             [
              0.1111111111111111,
              "#46039f"
             ],
             [
              0.2222222222222222,
              "#7201a8"
             ],
             [
              0.3333333333333333,
              "#9c179e"
             ],
             [
              0.4444444444444444,
              "#bd3786"
             ],
             [
              0.5555555555555556,
              "#d8576b"
             ],
             [
              0.6666666666666666,
              "#ed7953"
             ],
             [
              0.7777777777777778,
              "#fb9f3a"
             ],
             [
              0.8888888888888888,
              "#fdca26"
             ],
             [
              1,
              "#f0f921"
             ]
            ],
            "type": "histogram2d"
           }
          ],
          "histogram2dcontour": [
           {
            "colorbar": {
             "outlinewidth": 0,
             "ticks": ""
            },
            "colorscale": [
             [
              0,
              "#0d0887"
             ],
             [
              0.1111111111111111,
              "#46039f"
             ],
             [
              0.2222222222222222,
              "#7201a8"
             ],
             [
              0.3333333333333333,
              "#9c179e"
             ],
             [
              0.4444444444444444,
              "#bd3786"
             ],
             [
              0.5555555555555556,
              "#d8576b"
             ],
             [
              0.6666666666666666,
              "#ed7953"
             ],
             [
              0.7777777777777778,
              "#fb9f3a"
             ],
             [
              0.8888888888888888,
              "#fdca26"
             ],
             [
              1,
              "#f0f921"
             ]
            ],
            "type": "histogram2dcontour"
           }
          ],
          "mesh3d": [
           {
            "colorbar": {
             "outlinewidth": 0,
             "ticks": ""
            },
            "type": "mesh3d"
           }
          ],
          "parcoords": [
           {
            "line": {
             "colorbar": {
              "outlinewidth": 0,
              "ticks": ""
             }
            },
            "type": "parcoords"
           }
          ],
          "pie": [
           {
            "automargin": true,
            "type": "pie"
           }
          ],
          "scatter": [
           {
            "marker": {
             "line": {
              "color": "#283442"
             }
            },
            "type": "scatter"
           }
          ],
          "scatter3d": [
           {
            "line": {
             "colorbar": {
              "outlinewidth": 0,
              "ticks": ""
             }
            },
            "marker": {
             "colorbar": {
              "outlinewidth": 0,
              "ticks": ""
             }
            },
            "type": "scatter3d"
           }
          ],
          "scattercarpet": [
           {
            "marker": {
             "colorbar": {
              "outlinewidth": 0,
              "ticks": ""
             }
            },
            "type": "scattercarpet"
           }
          ],
          "scattergeo": [
           {
            "marker": {
             "colorbar": {
              "outlinewidth": 0,
              "ticks": ""
             }
            },
            "type": "scattergeo"
           }
          ],
          "scattergl": [
           {
            "marker": {
             "line": {
              "color": "#283442"
             }
            },
            "type": "scattergl"
           }
          ],
          "scattermap": [
           {
            "marker": {
             "colorbar": {
              "outlinewidth": 0,
              "ticks": ""
             }
            },
            "type": "scattermap"
           }
          ],
          "scattermapbox": [
           {
            "marker": {
             "colorbar": {
              "outlinewidth": 0,
              "ticks": ""
             }
            },
            "type": "scattermapbox"
           }
          ],
          "scatterpolar": [
           {
            "marker": {
             "colorbar": {
              "outlinewidth": 0,
              "ticks": ""
             }
            },
            "type": "scatterpolar"
           }
          ],
          "scatterpolargl": [
           {
            "marker": {
             "colorbar": {
              "outlinewidth": 0,
              "ticks": ""
             }
            },
            "type": "scatterpolargl"
           }
          ],
          "scatterternary": [
           {
            "marker": {
             "colorbar": {
              "outlinewidth": 0,
              "ticks": ""
             }
            },
            "type": "scatterternary"
           }
          ],
          "surface": [
           {
            "colorbar": {
             "outlinewidth": 0,
             "ticks": ""
            },
            "colorscale": [
             [
              0,
              "#0d0887"
             ],
             [
              0.1111111111111111,
              "#46039f"
             ],
             [
              0.2222222222222222,
              "#7201a8"
             ],
             [
              0.3333333333333333,
              "#9c179e"
             ],
             [
              0.4444444444444444,
              "#bd3786"
             ],
             [
              0.5555555555555556,
              "#d8576b"
             ],
             [
              0.6666666666666666,
              "#ed7953"
             ],
             [
              0.7777777777777778,
              "#fb9f3a"
             ],
             [
              0.8888888888888888,
              "#fdca26"
             ],
             [
              1,
              "#f0f921"
             ]
            ],
            "type": "surface"
           }
          ],
          "table": [
           {
            "cells": {
             "fill": {
              "color": "#506784"
             },
             "line": {
              "color": "rgb(17,17,17)"
             }
            },
            "header": {
             "fill": {
              "color": "#2a3f5f"
             },
             "line": {
              "color": "rgb(17,17,17)"
             }
            },
            "type": "table"
           }
          ]
         },
         "layout": {
          "annotationdefaults": {
           "arrowcolor": "#f2f5fa",
           "arrowhead": 0,
           "arrowwidth": 1
          },
          "autotypenumbers": "strict",
          "coloraxis": {
           "colorbar": {
            "outlinewidth": 0,
            "ticks": ""
           }
          },
          "colorscale": {
           "diverging": [
            [
             0,
             "#8e0152"
            ],
            [
             0.1,
             "#c51b7d"
            ],
            [
             0.2,
             "#de77ae"
            ],
            [
             0.3,
             "#f1b6da"
            ],
            [
             0.4,
             "#fde0ef"
            ],
            [
             0.5,
             "#f7f7f7"
            ],
            [
             0.6,
             "#e6f5d0"
            ],
            [
             0.7,
             "#b8e186"
            ],
            [
             0.8,
             "#7fbc41"
            ],
            [
             0.9,
             "#4d9221"
            ],
            [
             1,
             "#276419"
            ]
           ],
           "sequential": [
            [
             0,
             "#0d0887"
            ],
            [
             0.1111111111111111,
             "#46039f"
            ],
            [
             0.2222222222222222,
             "#7201a8"
            ],
            [
             0.3333333333333333,
             "#9c179e"
            ],
            [
             0.4444444444444444,
             "#bd3786"
            ],
            [
             0.5555555555555556,
             "#d8576b"
            ],
            [
             0.6666666666666666,
             "#ed7953"
            ],
            [
             0.7777777777777778,
             "#fb9f3a"
            ],
            [
             0.8888888888888888,
             "#fdca26"
            ],
            [
             1,
             "#f0f921"
            ]
           ],
           "sequentialminus": [
            [
             0,
             "#0d0887"
            ],
            [
             0.1111111111111111,
             "#46039f"
            ],
            [
             0.2222222222222222,
             "#7201a8"
            ],
            [
             0.3333333333333333,
             "#9c179e"
            ],
            [
             0.4444444444444444,
             "#bd3786"
            ],
            [
             0.5555555555555556,
             "#d8576b"
            ],
            [
             0.6666666666666666,
             "#ed7953"
            ],
            [
             0.7777777777777778,
             "#fb9f3a"
            ],
            [
             0.8888888888888888,
             "#fdca26"
            ],
            [
             1,
             "#f0f921"
            ]
           ]
          },
          "colorway": [
           "#636efa",
           "#EF553B",
           "#00cc96",
           "#ab63fa",
           "#FFA15A",
           "#19d3f3",
           "#FF6692",
           "#B6E880",
           "#FF97FF",
           "#FECB52"
          ],
          "font": {
           "color": "#f2f5fa"
          },
          "geo": {
           "bgcolor": "rgb(17,17,17)",
           "lakecolor": "rgb(17,17,17)",
           "landcolor": "rgb(17,17,17)",
           "showlakes": true,
           "showland": true,
           "subunitcolor": "#506784"
          },
          "hoverlabel": {
           "align": "left"
          },
          "hovermode": "closest",
          "mapbox": {
           "style": "dark"
          },
          "paper_bgcolor": "rgb(17,17,17)",
          "plot_bgcolor": "rgb(17,17,17)",
          "polar": {
           "angularaxis": {
            "gridcolor": "#506784",
            "linecolor": "#506784",
            "ticks": ""
           },
           "bgcolor": "rgb(17,17,17)",
           "radialaxis": {
            "gridcolor": "#506784",
            "linecolor": "#506784",
            "ticks": ""
           }
          },
          "scene": {
           "xaxis": {
            "backgroundcolor": "rgb(17,17,17)",
            "gridcolor": "#506784",
            "gridwidth": 2,
            "linecolor": "#506784",
            "showbackground": true,
            "ticks": "",
            "zerolinecolor": "#C8D4E3"
           },
           "yaxis": {
            "backgroundcolor": "rgb(17,17,17)",
            "gridcolor": "#506784",
            "gridwidth": 2,
            "linecolor": "#506784",
            "showbackground": true,
            "ticks": "",
            "zerolinecolor": "#C8D4E3"
           },
           "zaxis": {
            "backgroundcolor": "rgb(17,17,17)",
            "gridcolor": "#506784",
            "gridwidth": 2,
            "linecolor": "#506784",
            "showbackground": true,
            "ticks": "",
            "zerolinecolor": "#C8D4E3"
           }
          },
          "shapedefaults": {
           "line": {
            "color": "#f2f5fa"
           }
          },
          "sliderdefaults": {
           "bgcolor": "#C8D4E3",
           "bordercolor": "rgb(17,17,17)",
           "borderwidth": 1,
           "tickwidth": 0
          },
          "ternary": {
           "aaxis": {
            "gridcolor": "#506784",
            "linecolor": "#506784",
            "ticks": ""
           },
           "baxis": {
            "gridcolor": "#506784",
            "linecolor": "#506784",
            "ticks": ""
           },
           "bgcolor": "rgb(17,17,17)",
           "caxis": {
            "gridcolor": "#506784",
            "linecolor": "#506784",
            "ticks": ""
           }
          },
          "title": {
           "x": 0.05
          },
          "updatemenudefaults": {
           "bgcolor": "#506784",
           "borderwidth": 0
          },
          "xaxis": {
           "automargin": true,
           "gridcolor": "#283442",
           "linecolor": "#506784",
           "ticks": "",
           "title": {
            "standoff": 15
           },
           "zerolinecolor": "#283442",
           "zerolinewidth": 2
          },
          "yaxis": {
           "automargin": true,
           "gridcolor": "#283442",
           "linecolor": "#506784",
           "ticks": "",
           "title": {
            "standoff": 15
           },
           "zerolinecolor": "#283442",
           "zerolinewidth": 2
          }
         }
        },
        "title": {
         "font": {
          "size": 24
         },
         "text": "Top 10 Hunderassen und ihre Kaufpreise",
         "x": 0.5,
         "xanchor": "center"
        },
        "width": 900,
        "xaxis": {
         "anchor": "y",
         "domain": [
          0,
          1
         ],
         "title": {
          "text": "Kaufpreis in $"
         }
        },
        "yaxis": {
         "anchor": "x",
         "autorange": "reversed",
         "domain": [
          0,
          1
         ],
         "title": {
          "text": "Rasse"
         }
        }
       }
      }
     },
     "metadata": {},
     "output_type": "display_data"
    }
   ],
   "source": [
    "farben = [\"gold\", \"silver\", \"#CD7F32\"] + [\"#666666\"]*7\n",
    "top_10[\"color\"] = farben\n",
    "\n",
    "fig = px.bar(\n",
    "    top_10,\n",
    "    x=\"PURCHASE PRICE\",\n",
    "    y=\"Breed\",\n",
    "    orientation=\"h\",\n",
    "    color=\"color\",\n",
    "    color_discrete_map=\"identity\",   # unsere Hex‑Farben direkt nutzen\n",
    "    text=\"popularity ranking\",\n",
    "    template=\"plotly_dark\",\n",
    "    labels={\"Breed\": \"Rasse\", \"PURCHASE PRICE\": \"Kaufpreis in $\"}\n",
    ")\n",
    "\n",
    "fig.update_layout(showlegend=False, width=900, height=600)\n",
    "fig.update_layout(yaxis=dict(autorange=\"reversed\"))\n",
    "\n",
    "# Überschrift größer und mittig\n",
    "fig.update_layout(\n",
    "    title=dict(\n",
    "        text='Top 10 Hunderassen und ihre Kaufpreise', \n",
    "        font=dict(size=24), \n",
    "        x=0.5, \n",
    "        xanchor=\"center\"\n",
    "    )\n",
    ")\n",
    "\n",
    "fig.show()\n",
    "fig.write_html('top_10_price.html')"
   ]
  },
  {
   "cell_type": "markdown",
   "id": "fc6cd1f0",
   "metadata": {},
   "source": [
    "### Kosten große Hunde mehr Geld?"
   ]
  },
  {
   "cell_type": "code",
   "execution_count": 23,
   "id": "f2fc48b9",
   "metadata": {},
   "outputs": [
    {
     "data": {
      "text/html": [
       "<div>\n",
       "<style scoped>\n",
       "    .dataframe tbody tr th:only-of-type {\n",
       "        vertical-align: middle;\n",
       "    }\n",
       "\n",
       "    .dataframe tbody tr th {\n",
       "        vertical-align: top;\n",
       "    }\n",
       "\n",
       "    .dataframe thead th {\n",
       "        text-align: right;\n",
       "    }\n",
       "</style>\n",
       "<table border=\"1\" class=\"dataframe\">\n",
       "  <thead>\n",
       "    <tr style=\"text-align: right;\">\n",
       "      <th></th>\n",
       "      <th>Größe</th>\n",
       "      <th>durchschnittliche Gesamtkosten</th>\n",
       "    </tr>\n",
       "  </thead>\n",
       "  <tbody>\n",
       "    <tr>\n",
       "      <th>0</th>\n",
       "      <td>large</td>\n",
       "      <td>18957.962963</td>\n",
       "    </tr>\n",
       "    <tr>\n",
       "      <th>1</th>\n",
       "      <td>medium</td>\n",
       "      <td>19956.379310</td>\n",
       "    </tr>\n",
       "    <tr>\n",
       "      <th>2</th>\n",
       "      <td>small</td>\n",
       "      <td>20599.935484</td>\n",
       "    </tr>\n",
       "  </tbody>\n",
       "</table>\n",
       "</div>"
      ],
      "text/plain": [
       "    Größe  durchschnittliche Gesamtkosten\n",
       "0   large                    18957.962963\n",
       "1  medium                    19956.379310\n",
       "2   small                    20599.935484"
      ]
     },
     "execution_count": 23,
     "metadata": {},
     "output_type": "execute_result"
    }
   ],
   "source": [
    "# durchschnittliche Kosten pro Größe errechnen\n",
    "cost_per_size = data.groupby(\"size.1\")[\"$LIFETIME COST\"].mean().reset_index()\n",
    "\n",
    "cost_per_size.columns = [\"Größe\", \"durchschnittliche Gesamtkosten\"]\n",
    "\n",
    "cost_per_size"
   ]
  },
  {
   "cell_type": "code",
   "execution_count": 24,
   "id": "912928ac",
   "metadata": {},
   "outputs": [],
   "source": [
    "# Größe auf deutsch übersetzen\n",
    "# Englische Größen in Deutsch übersetzen\n",
    "cost_per_size[\"Größe\"] = cost_per_size[\"Größe\"].replace({\n",
    "    \"small\": \"klein\",\n",
    "    \"medium\": \"mittel\",\n",
    "    \"large\": \"groß\"\n",
    "})"
   ]
  },
  {
   "cell_type": "code",
   "execution_count": 25,
   "id": "d535fadb",
   "metadata": {},
   "outputs": [
    {
     "data": {
      "application/vnd.plotly.v1+json": {
       "config": {
        "plotlyServerURL": "https://plot.ly"
       },
       "data": [
        {
         "hovertemplate": "Größe=%{x}<br>durchschnittliche Gesamtkosten=%{text}<extra></extra>",
         "legendgroup": "groß",
         "marker": {
          "color": "#636efa",
          "pattern": {
           "shape": ""
          }
         },
         "name": "groß",
         "orientation": "v",
         "showlegend": true,
         "text": {
          "bdata": "TGgvoX2D0kA=",
          "dtype": "f8"
         },
         "textposition": "outside",
         "texttemplate": "$%{text:,.0f}",
         "type": "bar",
         "x": [
          "groß"
         ],
         "xaxis": "x",
         "y": {
          "bdata": "TGgvoX2D0kA=",
          "dtype": "f8"
         },
         "yaxis": "y"
        },
        {
         "hovertemplate": "Größe=%{x}<br>durchschnittliche Gesamtkosten=%{text}<extra></extra>",
         "legendgroup": "mittel",
         "marker": {
          "color": "#EF553B",
          "pattern": {
           "shape": ""
          }
         },
         "name": "mittel",
         "orientation": "v",
         "showlegend": true,
         "text": {
          "bdata": "hOWeRhh900A=",
          "dtype": "f8"
         },
         "textposition": "outside",
         "texttemplate": "$%{text:,.0f}",
         "type": "bar",
         "x": [
          "mittel"
         ],
         "xaxis": "x",
         "y": {
          "bdata": "hOWeRhh900A=",
          "dtype": "f8"
         },
         "yaxis": "y"
        },
        {
         "hovertemplate": "Größe=%{x}<br>durchschnittliche Gesamtkosten=%{text}<extra></extra>",
         "legendgroup": "klein",
         "marker": {
          "color": "#00cc96",
          "pattern": {
           "shape": ""
          }
         },
         "name": "klein",
         "orientation": "v",
         "showlegend": true,
         "text": {
          "bdata": "77333vsd1EA=",
          "dtype": "f8"
         },
         "textposition": "outside",
         "texttemplate": "$%{text:,.0f}",
         "type": "bar",
         "x": [
          "klein"
         ],
         "xaxis": "x",
         "y": {
          "bdata": "77333vsd1EA=",
          "dtype": "f8"
         },
         "yaxis": "y"
        }
       ],
       "layout": {
        "barmode": "relative",
        "legend": {
         "title": {
          "text": "Größe"
         },
         "tracegroupgap": 0
        },
        "margin": {
         "t": 60
        },
        "showlegend": false,
        "template": {
         "data": {
          "bar": [
           {
            "error_x": {
             "color": "#f2f5fa"
            },
            "error_y": {
             "color": "#f2f5fa"
            },
            "marker": {
             "line": {
              "color": "rgb(17,17,17)",
              "width": 0.5
             },
             "pattern": {
              "fillmode": "overlay",
              "size": 10,
              "solidity": 0.2
             }
            },
            "type": "bar"
           }
          ],
          "barpolar": [
           {
            "marker": {
             "line": {
              "color": "rgb(17,17,17)",
              "width": 0.5
             },
             "pattern": {
              "fillmode": "overlay",
              "size": 10,
              "solidity": 0.2
             }
            },
            "type": "barpolar"
           }
          ],
          "carpet": [
           {
            "aaxis": {
             "endlinecolor": "#A2B1C6",
             "gridcolor": "#506784",
             "linecolor": "#506784",
             "minorgridcolor": "#506784",
             "startlinecolor": "#A2B1C6"
            },
            "baxis": {
             "endlinecolor": "#A2B1C6",
             "gridcolor": "#506784",
             "linecolor": "#506784",
             "minorgridcolor": "#506784",
             "startlinecolor": "#A2B1C6"
            },
            "type": "carpet"
           }
          ],
          "choropleth": [
           {
            "colorbar": {
             "outlinewidth": 0,
             "ticks": ""
            },
            "type": "choropleth"
           }
          ],
          "contour": [
           {
            "colorbar": {
             "outlinewidth": 0,
             "ticks": ""
            },
            "colorscale": [
             [
              0,
              "#0d0887"
             ],
             [
              0.1111111111111111,
              "#46039f"
             ],
             [
              0.2222222222222222,
              "#7201a8"
             ],
             [
              0.3333333333333333,
              "#9c179e"
             ],
             [
              0.4444444444444444,
              "#bd3786"
             ],
             [
              0.5555555555555556,
              "#d8576b"
             ],
             [
              0.6666666666666666,
              "#ed7953"
             ],
             [
              0.7777777777777778,
              "#fb9f3a"
             ],
             [
              0.8888888888888888,
              "#fdca26"
             ],
             [
              1,
              "#f0f921"
             ]
            ],
            "type": "contour"
           }
          ],
          "contourcarpet": [
           {
            "colorbar": {
             "outlinewidth": 0,
             "ticks": ""
            },
            "type": "contourcarpet"
           }
          ],
          "heatmap": [
           {
            "colorbar": {
             "outlinewidth": 0,
             "ticks": ""
            },
            "colorscale": [
             [
              0,
              "#0d0887"
             ],
             [
              0.1111111111111111,
              "#46039f"
             ],
             [
              0.2222222222222222,
              "#7201a8"
             ],
             [
              0.3333333333333333,
              "#9c179e"
             ],
             [
              0.4444444444444444,
              "#bd3786"
             ],
             [
              0.5555555555555556,
              "#d8576b"
             ],
             [
              0.6666666666666666,
              "#ed7953"
             ],
             [
              0.7777777777777778,
              "#fb9f3a"
             ],
             [
              0.8888888888888888,
              "#fdca26"
             ],
             [
              1,
              "#f0f921"
             ]
            ],
            "type": "heatmap"
           }
          ],
          "histogram": [
           {
            "marker": {
             "pattern": {
              "fillmode": "overlay",
              "size": 10,
              "solidity": 0.2
             }
            },
            "type": "histogram"
           }
          ],
          "histogram2d": [
           {
            "colorbar": {
             "outlinewidth": 0,
             "ticks": ""
            },
            "colorscale": [
             [
              0,
              "#0d0887"
             ],
             [
              0.1111111111111111,
              "#46039f"
             ],
             [
              0.2222222222222222,
              "#7201a8"
             ],
             [
              0.3333333333333333,
              "#9c179e"
             ],
             [
              0.4444444444444444,
              "#bd3786"
             ],
             [
              0.5555555555555556,
              "#d8576b"
             ],
             [
              0.6666666666666666,
              "#ed7953"
             ],
             [
              0.7777777777777778,
              "#fb9f3a"
             ],
             [
              0.8888888888888888,
              "#fdca26"
             ],
             [
              1,
              "#f0f921"
             ]
            ],
            "type": "histogram2d"
           }
          ],
          "histogram2dcontour": [
           {
            "colorbar": {
             "outlinewidth": 0,
             "ticks": ""
            },
            "colorscale": [
             [
              0,
              "#0d0887"
             ],
             [
              0.1111111111111111,
              "#46039f"
             ],
             [
              0.2222222222222222,
              "#7201a8"
             ],
             [
              0.3333333333333333,
              "#9c179e"
             ],
             [
              0.4444444444444444,
              "#bd3786"
             ],
             [
              0.5555555555555556,
              "#d8576b"
             ],
             [
              0.6666666666666666,
              "#ed7953"
             ],
             [
              0.7777777777777778,
              "#fb9f3a"
             ],
             [
              0.8888888888888888,
              "#fdca26"
             ],
             [
              1,
              "#f0f921"
             ]
            ],
            "type": "histogram2dcontour"
           }
          ],
          "mesh3d": [
           {
            "colorbar": {
             "outlinewidth": 0,
             "ticks": ""
            },
            "type": "mesh3d"
           }
          ],
          "parcoords": [
           {
            "line": {
             "colorbar": {
              "outlinewidth": 0,
              "ticks": ""
             }
            },
            "type": "parcoords"
           }
          ],
          "pie": [
           {
            "automargin": true,
            "type": "pie"
           }
          ],
          "scatter": [
           {
            "marker": {
             "line": {
              "color": "#283442"
             }
            },
            "type": "scatter"
           }
          ],
          "scatter3d": [
           {
            "line": {
             "colorbar": {
              "outlinewidth": 0,
              "ticks": ""
             }
            },
            "marker": {
             "colorbar": {
              "outlinewidth": 0,
              "ticks": ""
             }
            },
            "type": "scatter3d"
           }
          ],
          "scattercarpet": [
           {
            "marker": {
             "colorbar": {
              "outlinewidth": 0,
              "ticks": ""
             }
            },
            "type": "scattercarpet"
           }
          ],
          "scattergeo": [
           {
            "marker": {
             "colorbar": {
              "outlinewidth": 0,
              "ticks": ""
             }
            },
            "type": "scattergeo"
           }
          ],
          "scattergl": [
           {
            "marker": {
             "line": {
              "color": "#283442"
             }
            },
            "type": "scattergl"
           }
          ],
          "scattermap": [
           {
            "marker": {
             "colorbar": {
              "outlinewidth": 0,
              "ticks": ""
             }
            },
            "type": "scattermap"
           }
          ],
          "scattermapbox": [
           {
            "marker": {
             "colorbar": {
              "outlinewidth": 0,
              "ticks": ""
             }
            },
            "type": "scattermapbox"
           }
          ],
          "scatterpolar": [
           {
            "marker": {
             "colorbar": {
              "outlinewidth": 0,
              "ticks": ""
             }
            },
            "type": "scatterpolar"
           }
          ],
          "scatterpolargl": [
           {
            "marker": {
             "colorbar": {
              "outlinewidth": 0,
              "ticks": ""
             }
            },
            "type": "scatterpolargl"
           }
          ],
          "scatterternary": [
           {
            "marker": {
             "colorbar": {
              "outlinewidth": 0,
              "ticks": ""
             }
            },
            "type": "scatterternary"
           }
          ],
          "surface": [
           {
            "colorbar": {
             "outlinewidth": 0,
             "ticks": ""
            },
            "colorscale": [
             [
              0,
              "#0d0887"
             ],
             [
              0.1111111111111111,
              "#46039f"
             ],
             [
              0.2222222222222222,
              "#7201a8"
             ],
             [
              0.3333333333333333,
              "#9c179e"
             ],
             [
              0.4444444444444444,
              "#bd3786"
             ],
             [
              0.5555555555555556,
              "#d8576b"
             ],
             [
              0.6666666666666666,
              "#ed7953"
             ],
             [
              0.7777777777777778,
              "#fb9f3a"
             ],
             [
              0.8888888888888888,
              "#fdca26"
             ],
             [
              1,
              "#f0f921"
             ]
            ],
            "type": "surface"
           }
          ],
          "table": [
           {
            "cells": {
             "fill": {
              "color": "#506784"
             },
             "line": {
              "color": "rgb(17,17,17)"
             }
            },
            "header": {
             "fill": {
              "color": "#2a3f5f"
             },
             "line": {
              "color": "rgb(17,17,17)"
             }
            },
            "type": "table"
           }
          ]
         },
         "layout": {
          "annotationdefaults": {
           "arrowcolor": "#f2f5fa",
           "arrowhead": 0,
           "arrowwidth": 1
          },
          "autotypenumbers": "strict",
          "coloraxis": {
           "colorbar": {
            "outlinewidth": 0,
            "ticks": ""
           }
          },
          "colorscale": {
           "diverging": [
            [
             0,
             "#8e0152"
            ],
            [
             0.1,
             "#c51b7d"
            ],
            [
             0.2,
             "#de77ae"
            ],
            [
             0.3,
             "#f1b6da"
            ],
            [
             0.4,
             "#fde0ef"
            ],
            [
             0.5,
             "#f7f7f7"
            ],
            [
             0.6,
             "#e6f5d0"
            ],
            [
             0.7,
             "#b8e186"
            ],
            [
             0.8,
             "#7fbc41"
            ],
            [
             0.9,
             "#4d9221"
            ],
            [
             1,
             "#276419"
            ]
           ],
           "sequential": [
            [
             0,
             "#0d0887"
            ],
            [
             0.1111111111111111,
             "#46039f"
            ],
            [
             0.2222222222222222,
             "#7201a8"
            ],
            [
             0.3333333333333333,
             "#9c179e"
            ],
            [
             0.4444444444444444,
             "#bd3786"
            ],
            [
             0.5555555555555556,
             "#d8576b"
            ],
            [
             0.6666666666666666,
             "#ed7953"
            ],
            [
             0.7777777777777778,
             "#fb9f3a"
            ],
            [
             0.8888888888888888,
             "#fdca26"
            ],
            [
             1,
             "#f0f921"
            ]
           ],
           "sequentialminus": [
            [
             0,
             "#0d0887"
            ],
            [
             0.1111111111111111,
             "#46039f"
            ],
            [
             0.2222222222222222,
             "#7201a8"
            ],
            [
             0.3333333333333333,
             "#9c179e"
            ],
            [
             0.4444444444444444,
             "#bd3786"
            ],
            [
             0.5555555555555556,
             "#d8576b"
            ],
            [
             0.6666666666666666,
             "#ed7953"
            ],
            [
             0.7777777777777778,
             "#fb9f3a"
            ],
            [
             0.8888888888888888,
             "#fdca26"
            ],
            [
             1,
             "#f0f921"
            ]
           ]
          },
          "colorway": [
           "#636efa",
           "#EF553B",
           "#00cc96",
           "#ab63fa",
           "#FFA15A",
           "#19d3f3",
           "#FF6692",
           "#B6E880",
           "#FF97FF",
           "#FECB52"
          ],
          "font": {
           "color": "#f2f5fa"
          },
          "geo": {
           "bgcolor": "rgb(17,17,17)",
           "lakecolor": "rgb(17,17,17)",
           "landcolor": "rgb(17,17,17)",
           "showlakes": true,
           "showland": true,
           "subunitcolor": "#506784"
          },
          "hoverlabel": {
           "align": "left"
          },
          "hovermode": "closest",
          "mapbox": {
           "style": "dark"
          },
          "paper_bgcolor": "rgb(17,17,17)",
          "plot_bgcolor": "rgb(17,17,17)",
          "polar": {
           "angularaxis": {
            "gridcolor": "#506784",
            "linecolor": "#506784",
            "ticks": ""
           },
           "bgcolor": "rgb(17,17,17)",
           "radialaxis": {
            "gridcolor": "#506784",
            "linecolor": "#506784",
            "ticks": ""
           }
          },
          "scene": {
           "xaxis": {
            "backgroundcolor": "rgb(17,17,17)",
            "gridcolor": "#506784",
            "gridwidth": 2,
            "linecolor": "#506784",
            "showbackground": true,
            "ticks": "",
            "zerolinecolor": "#C8D4E3"
           },
           "yaxis": {
            "backgroundcolor": "rgb(17,17,17)",
            "gridcolor": "#506784",
            "gridwidth": 2,
            "linecolor": "#506784",
            "showbackground": true,
            "ticks": "",
            "zerolinecolor": "#C8D4E3"
           },
           "zaxis": {
            "backgroundcolor": "rgb(17,17,17)",
            "gridcolor": "#506784",
            "gridwidth": 2,
            "linecolor": "#506784",
            "showbackground": true,
            "ticks": "",
            "zerolinecolor": "#C8D4E3"
           }
          },
          "shapedefaults": {
           "line": {
            "color": "#f2f5fa"
           }
          },
          "sliderdefaults": {
           "bgcolor": "#C8D4E3",
           "bordercolor": "rgb(17,17,17)",
           "borderwidth": 1,
           "tickwidth": 0
          },
          "ternary": {
           "aaxis": {
            "gridcolor": "#506784",
            "linecolor": "#506784",
            "ticks": ""
           },
           "baxis": {
            "gridcolor": "#506784",
            "linecolor": "#506784",
            "ticks": ""
           },
           "bgcolor": "rgb(17,17,17)",
           "caxis": {
            "gridcolor": "#506784",
            "linecolor": "#506784",
            "ticks": ""
           }
          },
          "title": {
           "x": 0.05
          },
          "updatemenudefaults": {
           "bgcolor": "#506784",
           "borderwidth": 0
          },
          "xaxis": {
           "automargin": true,
           "gridcolor": "#283442",
           "linecolor": "#506784",
           "ticks": "",
           "title": {
            "standoff": 15
           },
           "zerolinecolor": "#283442",
           "zerolinewidth": 2
          },
          "yaxis": {
           "automargin": true,
           "gridcolor": "#283442",
           "linecolor": "#506784",
           "ticks": "",
           "title": {
            "standoff": 15
           },
           "zerolinecolor": "#283442",
           "zerolinewidth": 2
          }
         }
        },
        "title": {
         "font": {
          "size": 24
         },
         "text": "Durchschnittliche Lebenszeitkosten nach Hundegröße",
         "x": 0.5,
         "xanchor": "center"
        },
        "xaxis": {
         "anchor": "y",
         "categoryarray": [
          "groß",
          "mittel",
          "klein"
         ],
         "categoryorder": "array",
         "domain": [
          0,
          1
         ],
         "title": {
          "text": "Größe"
         }
        },
        "yaxis": {
         "anchor": "x",
         "domain": [
          0,
          1
         ],
         "title": {
          "text": "Lebenszeitkosten in $"
         }
        }
       }
      }
     },
     "metadata": {},
     "output_type": "display_data"
    }
   ],
   "source": [
    "fig = px.bar(\n",
    "    cost_per_size,\n",
    "    x=\"Größe\",\n",
    "    y=\"durchschnittliche Gesamtkosten\",\n",
    "    template=\"plotly_dark\",\n",
    "    text=\"durchschnittliche Gesamtkosten\",\n",
    "    color=\"Größe\"\n",
    ")\n",
    "\n",
    "fig.update_traces(texttemplate=\"$%{text:,.0f}\", textposition=\"outside\")\n",
    "fig.update_layout(yaxis_title=\"Lebenszeitkosten in $\")\n",
    "fig.update_layout(showlegend=False)\n",
    "\n",
    "# Überschrift größer und mittig\n",
    "fig.update_layout(\n",
    "    title=dict(\n",
    "        text='Durchschnittliche Lebenszeitkosten nach Hundegröße', \n",
    "        font=dict(size=24), \n",
    "        x=0.5, \n",
    "        xanchor=\"center\"\n",
    "    )\n",
    ")\n",
    "\n",
    "fig.show()\n",
    "fig.write_html('size_life_costs.html')"
   ]
  },
  {
   "cell_type": "markdown",
   "id": "7791b3e6",
   "metadata": {},
   "source": [
    "### Zusammenhang zwischen Lebenserwartung und Kosten über das Leben"
   ]
  },
  {
   "cell_type": "code",
   "execution_count": 58,
   "id": "aced5159",
   "metadata": {},
   "outputs": [
    {
     "data": {
      "application/vnd.plotly.v1+json": {
       "config": {
        "plotlyServerURL": "https://plot.ly"
       },
       "data": [
        {
         "hovertemplate": "Hundetyp=Terrier<br>Lebenserwartung=%{x}<br>Lebenskosten ($)=%{y}<extra></extra>",
         "legendgroup": "Terrier",
         "marker": {
          "color": "#636efa",
          "symbol": "circle"
         },
         "mode": "markers",
         "name": "Terrier",
         "orientation": "v",
         "showlegend": true,
         "type": "scatter",
         "x": {
          "bdata": "AAAAAAAALECuR+F6FK4rQJqZmZmZmSlAH4XrUbieJ0CamZmZmRkmQIXrUbgeBStAmpmZmZkZKEDXo3A9ClcoQKRwPQrXIypA4XoUrkdhJUDNzMzMzMwiQOxRuB6FayRA",
          "dtype": "f8"
         },
         "xaxis": "x",
         "y": {
          "bdata": "AAAAAIAb1kAAAAAAAHrVQAAAAACAAtRAAAAAAMCd00AAAAAAAHnRQAAAAADAltVAAAAAAIAk1UAAAAAAQCDVQAAAAAAAvddAAAAAAEAd0UAAAAAAANbQQAAAAACADtJA",
          "dtype": "f8"
         },
         "yaxis": "y"
        },
        {
         "hovertemplate": "<b>OLS trendline</b><br>$LIFETIME COST = 1341.42 * LONGEVITY(YEARS) + 4340.18<br>R<sup>2</sup>=0.760191<br><br>Hundetyp=Terrier<br>Lebenserwartung=%{x}<br>Lebenskosten ($)=%{y} <b>(trend)</b><extra></extra>",
         "legendgroup": "Terrier",
         "marker": {
          "color": "#636efa",
          "symbol": "circle"
         },
         "mode": "lines",
         "name": "Terrier",
         "showlegend": false,
         "type": "scatter",
         "x": {
          "bdata": "zczMzMzMIkDsUbgehWskQOF6FK5HYSVAmpmZmZkZJkAfhetRuJ4nQJqZmZmZGShA16NwPQpXKECamZmZmZkpQKRwPQrXIypAhetRuB4FK0CuR+F6FK4rQAAAAAAAACxA",
          "dtype": "f8"
         },
         "xaxis": "x",
         "y": {
          "bdata": "UxqU4mON0EBU9EZJB53RQNrK/NH/PdJAviuFOLq20kASavoQmbXTQFRVVVUVBtRA9sqCd1Mu1ECGdPGqmQHVQDC913clXNVAKhcp9bPv1UCmGibTXl7WQNQMuAAHlNZA",
          "dtype": "f8"
         },
         "yaxis": "y"
        },
        {
         "hovertemplate": "Hundetyp=Gebrauchshund<br>Lebenserwartung=%{x}<br>Lebenskosten ($)=%{y}<extra></extra>",
         "legendgroup": "Gebrauchshund",
         "marker": {
          "color": "#EF553B",
          "symbol": "circle"
         },
         "mode": "markers",
         "name": "Gebrauchshund",
         "orientation": "v",
         "showlegend": true,
         "type": "scatter",
         "x": {
          "bdata": "KVyPwvUoKUDhehSuR+EoQClcj8L1qCRApHA9CtejIkA9CtejcD0eQB+F61G4niFAAAAAAAAAJEC4HoXrUTgiQEjhehSuRx5AAAAAAAAAGkDXo3A9CtcbQB+F61G4Hh9A16NwPQpXJUBSuB6F61EkQA==",
          "dtype": "f8"
         },
         "xaxis": "x",
         "y": {
          "bdata": "AAAAAECI1UAAAAAAAMLYQAAAAABA99FAAAAAAMDl0kAAAAAAgHHPQAAAAAAAwc5AAAAAAIAP2kAAAAAAgHHSQAAAAAAAOMtAAAAAAICGykAAAAAAAKPMQAAAAACAjdNAAAAAAIB41UAAAAAAgIDUQA==",
          "dtype": "f8"
         },
         "yaxis": "y"
        },
        {
         "hovertemplate": "<b>OLS trendline</b><br>$LIFETIME COST = 1708.14 * LONGEVITY(YEARS) + 3289.09<br>R<sup>2</sup>=0.631454<br><br>Hundetyp=Gebrauchshund<br>Lebenserwartung=%{x}<br>Lebenskosten ($)=%{y} <b>(trend)</b><extra></extra>",
         "legendgroup": "Gebrauchshund",
         "marker": {
          "color": "#EF553B",
          "symbol": "circle"
         },
         "mode": "lines",
         "name": "Gebrauchshund",
         "showlegend": false,
         "type": "scatter",
         "x": {
          "bdata": "AAAAAAAAGkDXo3A9CtcbQD0K16NwPR5ASOF6FK5HHkAfhetRuB4fQB+F61G4niFAuB6F61E4IkCkcD0K16MiQAAAAAAAACRAUrgehetRJEApXI/C9agkQNejcD0KVyVA4XoUrkfhKEApXI/C9SgpQA==",
          "dtype": "f8"
         },
         "xaxis": "x",
         "y": {
          "bdata": "DgqvyQEczECSXxwn4aTNQIDwUWlSpc9AURkX1dytz0A4uSHWmzDQQDhvS4R06NFAdNPY1JBo0kAEAG9APsLSQL5rnpCg5NNARLLH7vMo1EAzjdOCjHHUQBBD66q9AtVAPN+T7Jf210Dx/PfeYDLYQA==",
          "dtype": "f8"
         },
         "yaxis": "y"
        },
        {
         "hovertemplate": "Hundetyp=Jagdhund<br>Lebenserwartung=%{x}<br>Lebenskosten ($)=%{y}<extra></extra>",
         "legendgroup": "Jagdhund",
         "marker": {
          "color": "#00cc96",
          "symbol": "circle"
         },
         "mode": "markers",
         "name": "Jagdhund",
         "orientation": "v",
         "showlegend": true,
         "type": "scatter",
         "x": {
          "bdata": "exSuR+H6KEBSuB6F61EnQAAAAAAAAClAFK5H4XoUKUDXo3A9CtcpQOxRuB6F6yZA16NwPQrXKEAUrkfhehQoQMP1KFyPQidAFK5H4XoUKED2KFyPwvUiQDMzMzMzMyZApHA9CtcjJ0AK16NwPQoiQAAAAAAAACRA",
          "dtype": "f8"
         },
         "xaxis": "x",
         "y": {
          "bdata": "AAAAAADA00AAAAAAQIzSQAAAAACAwtdAAAAAAIBu1UAAAAAAQA/WQAAAAACAPNlAAAAAAEDf10AAAAAAwMzUQAAAAADA2NNAAAAAAMDx1EAAAAAAQE7QQAAAAABAJdNAAAAAAADW00AAAAAAAEDPQAAAAAAAqdFA",
          "dtype": "f8"
         },
         "yaxis": "y"
        },
        {
         "hovertemplate": "<b>OLS trendline</b><br>$LIFETIME COST = 1814.53 * LONGEVITY(YEARS) + -102.833<br>R<sup>2</sup>=0.579135<br><br>Hundetyp=Jagdhund<br>Lebenserwartung=%{x}<br>Lebenskosten ($)=%{y} <b>(trend)</b><extra></extra>",
         "legendgroup": "Jagdhund",
         "marker": {
          "color": "#00cc96",
          "symbol": "circle"
         },
         "mode": "lines",
         "name": "Jagdhund",
         "showlegend": false,
         "type": "scatter",
         "x": {
          "bdata": "CtejcD0KIkD2KFyPwvUiQAAAAAAAACRAMzMzMzMzJkDsUbgehesmQKRwPQrXIydAw/UoXI9CJ0BSuB6F61EnQBSuR+F6FChAFK5H4XoUKEDXo3A9CtcoQHsUrkfh+ihAAAAAAAAAKUAUrkfhehQpQNejcD0K1ylA",
          "dtype": "f8"
         },
         "xaxis": "x",
         "y": {
          "bdata": "UT6gxyHEz0AM+yXFvLLQQMlX9nWgntFAH5IRp5+R00BBl/CD7jTUQHyDptXUZtRAVwQhpQyC1EDERN6MqI/UQNh0OwQKPNVA2HQ7BAo81UDtpJh7a+jVQEI7UpgsCNZAvFCR5bUM1kCipo0a2x7WQLfW6pE8y9ZA",
          "dtype": "f8"
         },
         "yaxis": "y"
        },
        {
         "hovertemplate": "Hundetyp=Begleithund<br>Lebenserwartung=%{x}<br>Lebenskosten ($)=%{y}<extra></extra>",
         "legendgroup": "Begleithund",
         "marker": {
          "color": "#ab63fa",
          "symbol": "circle"
         },
         "mode": "markers",
         "name": "Begleithund",
         "orientation": "v",
         "showlegend": true,
         "type": "scatter",
         "x": {
          "bdata": "16NwPQrXK0DXo3A9CtcsQOxRuB6FayhA16NwPQrXJUAK16NwPYomQGZmZmZm5idAH4XrUbieKEAAAAAAAAAiQIXrUbgeBSJAKVyPwvUoGUA=",
          "dtype": "f8"
         },
         "xaxis": "x",
         "y": {
          "bdata": "AAAAAMCD1UAAAAAAQPPYQAAAAADARdNAAAAAAEBT0UAAAAAAgGvTQAAAAABAvdRAAAAAAADc00AAAAAAgNzQQAAAAAAADc9AAAAAAIBTykA=",
          "dtype": "f8"
         },
         "yaxis": "y"
        },
        {
         "hovertemplate": "<b>OLS trendline</b><br>$LIFETIME COST = 1316.91 * LONGEVITY(YEARS) + 4658.63<br>R<sup>2</sup>=0.907444<br><br>Hundetyp=Begleithund<br>Lebenserwartung=%{x}<br>Lebenskosten ($)=%{y} <b>(trend)</b><extra></extra>",
         "legendgroup": "Begleithund",
         "marker": {
          "color": "#ab63fa",
          "symbol": "circle"
         },
         "mode": "lines",
         "name": "Begleithund",
         "showlegend": false,
         "type": "scatter",
         "x": {
          "bdata": "KVyPwvUoGUAAAAAAAAAiQIXrUbgeBSJA16NwPQrXJUAK16NwPYomQGZmZmZm5idA7FG4HoVrKEAfhetRuJ4oQNejcD0K1ytA16NwPQrXLEA=",
          "dtype": "f8"
         },
         "xaxis": "x",
         "y": {
          "bdata": "DzdBV/xGyUAuWWN5sh/QQFAfY0v9ItBAcfI3+c+X0kAMCTCvCgvTQP6pIHfq6tNAaskay4NA1EC6hhj/b2HUQOkh9BB+c9ZAfdToFBsY10A=",
          "dtype": "f8"
         },
         "yaxis": "y"
        },
        {
         "hovertemplate": "Hundetyp=Hütehund<br>Lebenserwartung=%{x}<br>Lebenskosten ($)=%{y}<extra></extra>",
         "legendgroup": "Hütehund",
         "marker": {
          "color": "#FFA15A",
          "symbol": "circle"
         },
         "mode": "markers",
         "name": "Hütehund",
         "orientation": "v",
         "showlegend": true,
         "type": "scatter",
         "x": {
          "bdata": "j8L1KFwPKUAK16NwPQopQNejcD0KVyZAMzMzMzMzJUCuR+F6FK4kQAAAAAAAgChAj8L1KFyPKEDXo3A9ClcnQOF6FK5HYSZA9ihcj8J1I0A=",
          "dtype": "f8"
         },
         "xaxis": "x",
         "y": {
          "bdata": "AAAAAICD1EAAAAAAwKvTQAAAAABANtNAAAAAAACv0kAAAAAAwIPSQAAAAACAatdAAAAAAID01EAAAAAAwOrTQAAAAADAFNZAAAAAAAAC0UA=",
          "dtype": "f8"
         },
         "yaxis": "y"
        },
        {
         "hovertemplate": "<b>OLS trendline</b><br>$LIFETIME COST = 1323.88 * LONGEVITY(YEARS) + 5347.78<br>R<sup>2</sup>=0.474386<br><br>Hundetyp=Hütehund<br>Lebenserwartung=%{x}<br>Lebenskosten ($)=%{y} <b>(trend)</b><extra></extra>",
         "legendgroup": "Hütehund",
         "marker": {
          "color": "#FFA15A",
          "symbol": "circle"
         },
         "mode": "lines",
         "name": "Hütehund",
         "showlegend": false,
         "type": "scatter",
         "x": {
          "bdata": "9ihcj8J1I0CuR+F6FK4kQDMzMzMzMyVA16NwPQpXJkDhehSuR2EmQNejcD0KVydAAAAAAACAKECPwvUoXI8oQArXo3A9CilAj8L1KFwPKUA=",
          "dtype": "f8"
         },
         "xaxis": "x",
         "y": {
          "bdata": "WNuvgEnN0UB2fXLaLZfSQEwSqD877dJAcWInduKp00BuC8kHgbDTQCHj8K5eT9RAxAdBLlUP1UA/hbMIQxnVQBhxR9yxaNVAl0UYJQFs1UA=",
          "dtype": "f8"
         },
         "yaxis": "y"
        },
        {
         "hovertemplate": "Hundetyp=Zwerghund<br>Lebenserwartung=%{x}<br>Lebenskosten ($)=%{y}<extra></extra>",
         "legendgroup": "Zwerghund",
         "marker": {
          "color": "#19d3f3",
          "symbol": "circle"
         },
         "mode": "markers",
         "name": "Zwerghund",
         "orientation": "v",
         "showlegend": true,
         "type": "scatter",
         "x": {
          "bdata": "ZmZmZmZmKkAAAAAAAAAqQAAAAAAAACZA16NwPQrXJkAUrkfhepQmQNejcD0KVyNAAAAAAACAMEAzMzMzMzMkQAAAAAAAAChAAAAAAACAKEAzMzMzMzMpQArXo3A9CiRAH4XrUbgeJ0A=",
          "dtype": "f8"
         },
         "xaxis": "x",
         "y": {
          "bdata": "AAAAAACo1EAAAAAAQILUQAAAAADAF9JAAAAAAEDn0UAAAAAAwDPSQAAAAAAA2M5AAAAAAICi2UAAAAAAQBzRQAAAAADAF9NAAAAAAACj0kAAAAAAQDfUQAAAAADAE9BAAAAAAEAV1EA=",
          "dtype": "f8"
         },
         "yaxis": "y"
        },
        {
         "hovertemplate": "<b>OLS trendline</b><br>$LIFETIME COST = 1440.8 * LONGEVITY(YEARS) + 2370.48<br>R<sup>2</sup>=0.946666<br><br>Hundetyp=Zwerghund<br>Lebenserwartung=%{x}<br>Lebenskosten ($)=%{y} <b>(trend)</b><extra></extra>",
         "legendgroup": "Zwerghund",
         "marker": {
          "color": "#19d3f3",
          "symbol": "circle"
         },
         "mode": "lines",
         "name": "Zwerghund",
         "showlegend": false,
         "type": "scatter",
         "x": {
          "bdata": "16NwPQpXI0AK16NwPQokQDMzMzMzMyRAAAAAAAAAJkAUrkfhepQmQNejcD0K1yZAH4XrUbgeJ0AAAAAAAAAoQAAAAAAAgChAMzMzMzMzKUAAAAAAAAAqQGZmZmZmZipAAAAAAACAMEA=",
          "dtype": "f8"
         },
         "xaxis": "x",
         "y": {
          "bdata": "Vd5oX4fXz0C6i0K11WnQQHw6lqCmhtBAgKgD+NTK0UD+ARNNSjPSQPj9essdYtJAzG9NZ4uU0kD2sJl1CDPTQBQz/1QVjdNAok+NWicL1EBsuS/zO5vUQFDugD9G49RACNe8KvCH2UA=",
          "dtype": "f8"
         },
         "yaxis": "y"
        },
        {
         "hovertemplate": "Hundetyp=Laufhund<br>Lebenserwartung=%{x}<br>Lebenskosten ($)=%{y}<extra></extra>",
         "legendgroup": "Laufhund",
         "marker": {
          "color": "#FF6692",
          "symbol": "circle"
         },
         "mode": "markers",
         "name": "Laufhund",
         "orientation": "v",
         "showlegend": true,
         "type": "scatter",
         "x": {
          "bdata": "mpmZmZmZKEA9CtejcL0pQFyPwvUo3CZAKVyPwvWoJ0C4HoXrUbgiQAAAAAAAAChAw/UoXI9CKUApXI/C9SgrQNejcD0K1ydAw/UoXI/CG0AzMzMzMzMiQClcj8L1KCJAAAAAAAAAG0A=",
          "dtype": "f8"
         },
         "xaxis": "x",
         "y": {
          "bdata": "AAAAAAAD00AAAAAAAHzUQAAAAAAA5tFAAAAAAMCN1EAAAAAAgOXOQAAAAACASNhAAAAAAECk00AAAAAAAJTVQAAAAABAg9dAAAAAAMAA0kAAAAAAgCTQQAAAAAAAmM9AAAAAAAAAy0A=",
          "dtype": "f8"
         },
         "yaxis": "y"
        },
        {
         "hovertemplate": "<b>OLS trendline</b><br>$LIFETIME COST = 1096.63 * LONGEVITY(YEARS) + 7573.66<br>R<sup>2</sup>=0.566795<br><br>Hundetyp=Laufhund<br>Lebenserwartung=%{x}<br>Lebenskosten ($)=%{y} <b>(trend)</b><extra></extra>",
         "legendgroup": "Laufhund",
         "marker": {
          "color": "#FF6692",
          "symbol": "circle"
         },
         "mode": "lines",
         "name": "Laufhund",
         "showlegend": false,
         "type": "scatter",
         "x": {
          "bdata": "AAAAAAAAG0DD9Shcj8IbQClcj8L1KCJAMzMzMzMzIkC4HoXrUbgiQFyPwvUo3CZAKVyPwvWoJ0DXo3A9CtcnQAAAAAAAAChAmpmZmZmZKEDD9Shcj0IpQD0K16NwvSlAKVyPwvUoK0A=",
          "dtype": "f8"
         },
         "xaxis": "x",
         "y": {
          "bdata": "SFOpxPE/zUCMXc25H6jNQPIrpNXBHtFAbkc6hD0k0UDFrNlhhWvRQLzJiXcGo9NAfe9DG7AQ1EAua+esXCnUQCLZP2dLP9RAcnULooqR1ED+OrhiA+zUQNeEwZHPLdVAp1SSR3bw1UA=",
          "dtype": "f8"
         },
         "yaxis": "y"
        }
       ],
       "layout": {
        "legend": {
         "title": {
          "text": "Hundetyp"
         },
         "tracegroupgap": 0
        },
        "margin": {
         "t": 60
        },
        "template": {
         "data": {
          "bar": [
           {
            "error_x": {
             "color": "#f2f5fa"
            },
            "error_y": {
             "color": "#f2f5fa"
            },
            "marker": {
             "line": {
              "color": "rgb(17,17,17)",
              "width": 0.5
             },
             "pattern": {
              "fillmode": "overlay",
              "size": 10,
              "solidity": 0.2
             }
            },
            "type": "bar"
           }
          ],
          "barpolar": [
           {
            "marker": {
             "line": {
              "color": "rgb(17,17,17)",
              "width": 0.5
             },
             "pattern": {
              "fillmode": "overlay",
              "size": 10,
              "solidity": 0.2
             }
            },
            "type": "barpolar"
           }
          ],
          "carpet": [
           {
            "aaxis": {
             "endlinecolor": "#A2B1C6",
             "gridcolor": "#506784",
             "linecolor": "#506784",
             "minorgridcolor": "#506784",
             "startlinecolor": "#A2B1C6"
            },
            "baxis": {
             "endlinecolor": "#A2B1C6",
             "gridcolor": "#506784",
             "linecolor": "#506784",
             "minorgridcolor": "#506784",
             "startlinecolor": "#A2B1C6"
            },
            "type": "carpet"
           }
          ],
          "choropleth": [
           {
            "colorbar": {
             "outlinewidth": 0,
             "ticks": ""
            },
            "type": "choropleth"
           }
          ],
          "contour": [
           {
            "colorbar": {
             "outlinewidth": 0,
             "ticks": ""
            },
            "colorscale": [
             [
              0,
              "#0d0887"
             ],
             [
              0.1111111111111111,
              "#46039f"
             ],
             [
              0.2222222222222222,
              "#7201a8"
             ],
             [
              0.3333333333333333,
              "#9c179e"
             ],
             [
              0.4444444444444444,
              "#bd3786"
             ],
             [
              0.5555555555555556,
              "#d8576b"
             ],
             [
              0.6666666666666666,
              "#ed7953"
             ],
             [
              0.7777777777777778,
              "#fb9f3a"
             ],
             [
              0.8888888888888888,
              "#fdca26"
             ],
             [
              1,
              "#f0f921"
             ]
            ],
            "type": "contour"
           }
          ],
          "contourcarpet": [
           {
            "colorbar": {
             "outlinewidth": 0,
             "ticks": ""
            },
            "type": "contourcarpet"
           }
          ],
          "heatmap": [
           {
            "colorbar": {
             "outlinewidth": 0,
             "ticks": ""
            },
            "colorscale": [
             [
              0,
              "#0d0887"
             ],
             [
              0.1111111111111111,
              "#46039f"
             ],
             [
              0.2222222222222222,
              "#7201a8"
             ],
             [
              0.3333333333333333,
              "#9c179e"
             ],
             [
              0.4444444444444444,
              "#bd3786"
             ],
             [
              0.5555555555555556,
              "#d8576b"
             ],
             [
              0.6666666666666666,
              "#ed7953"
             ],
             [
              0.7777777777777778,
              "#fb9f3a"
             ],
             [
              0.8888888888888888,
              "#fdca26"
             ],
             [
              1,
              "#f0f921"
             ]
            ],
            "type": "heatmap"
           }
          ],
          "histogram": [
           {
            "marker": {
             "pattern": {
              "fillmode": "overlay",
              "size": 10,
              "solidity": 0.2
             }
            },
            "type": "histogram"
           }
          ],
          "histogram2d": [
           {
            "colorbar": {
             "outlinewidth": 0,
             "ticks": ""
            },
            "colorscale": [
             [
              0,
              "#0d0887"
             ],
             [
              0.1111111111111111,
              "#46039f"
             ],
             [
              0.2222222222222222,
              "#7201a8"
             ],
             [
              0.3333333333333333,
              "#9c179e"
             ],
             [
              0.4444444444444444,
              "#bd3786"
             ],
             [
              0.5555555555555556,
              "#d8576b"
             ],
             [
              0.6666666666666666,
              "#ed7953"
             ],
             [
              0.7777777777777778,
              "#fb9f3a"
             ],
             [
              0.8888888888888888,
              "#fdca26"
             ],
             [
              1,
              "#f0f921"
             ]
            ],
            "type": "histogram2d"
           }
          ],
          "histogram2dcontour": [
           {
            "colorbar": {
             "outlinewidth": 0,
             "ticks": ""
            },
            "colorscale": [
             [
              0,
              "#0d0887"
             ],
             [
              0.1111111111111111,
              "#46039f"
             ],
             [
              0.2222222222222222,
              "#7201a8"
             ],
             [
              0.3333333333333333,
              "#9c179e"
             ],
             [
              0.4444444444444444,
              "#bd3786"
             ],
             [
              0.5555555555555556,
              "#d8576b"
             ],
             [
              0.6666666666666666,
              "#ed7953"
             ],
             [
              0.7777777777777778,
              "#fb9f3a"
             ],
             [
              0.8888888888888888,
              "#fdca26"
             ],
             [
              1,
              "#f0f921"
             ]
            ],
            "type": "histogram2dcontour"
           }
          ],
          "mesh3d": [
           {
            "colorbar": {
             "outlinewidth": 0,
             "ticks": ""
            },
            "type": "mesh3d"
           }
          ],
          "parcoords": [
           {
            "line": {
             "colorbar": {
              "outlinewidth": 0,
              "ticks": ""
             }
            },
            "type": "parcoords"
           }
          ],
          "pie": [
           {
            "automargin": true,
            "type": "pie"
           }
          ],
          "scatter": [
           {
            "marker": {
             "line": {
              "color": "#283442"
             }
            },
            "type": "scatter"
           }
          ],
          "scatter3d": [
           {
            "line": {
             "colorbar": {
              "outlinewidth": 0,
              "ticks": ""
             }
            },
            "marker": {
             "colorbar": {
              "outlinewidth": 0,
              "ticks": ""
             }
            },
            "type": "scatter3d"
           }
          ],
          "scattercarpet": [
           {
            "marker": {
             "colorbar": {
              "outlinewidth": 0,
              "ticks": ""
             }
            },
            "type": "scattercarpet"
           }
          ],
          "scattergeo": [
           {
            "marker": {
             "colorbar": {
              "outlinewidth": 0,
              "ticks": ""
             }
            },
            "type": "scattergeo"
           }
          ],
          "scattergl": [
           {
            "marker": {
             "line": {
              "color": "#283442"
             }
            },
            "type": "scattergl"
           }
          ],
          "scattermap": [
           {
            "marker": {
             "colorbar": {
              "outlinewidth": 0,
              "ticks": ""
             }
            },
            "type": "scattermap"
           }
          ],
          "scattermapbox": [
           {
            "marker": {
             "colorbar": {
              "outlinewidth": 0,
              "ticks": ""
             }
            },
            "type": "scattermapbox"
           }
          ],
          "scatterpolar": [
           {
            "marker": {
             "colorbar": {
              "outlinewidth": 0,
              "ticks": ""
             }
            },
            "type": "scatterpolar"
           }
          ],
          "scatterpolargl": [
           {
            "marker": {
             "colorbar": {
              "outlinewidth": 0,
              "ticks": ""
             }
            },
            "type": "scatterpolargl"
           }
          ],
          "scatterternary": [
           {
            "marker": {
             "colorbar": {
              "outlinewidth": 0,
              "ticks": ""
             }
            },
            "type": "scatterternary"
           }
          ],
          "surface": [
           {
            "colorbar": {
             "outlinewidth": 0,
             "ticks": ""
            },
            "colorscale": [
             [
              0,
              "#0d0887"
             ],
             [
              0.1111111111111111,
              "#46039f"
             ],
             [
              0.2222222222222222,
              "#7201a8"
             ],
             [
              0.3333333333333333,
              "#9c179e"
             ],
             [
              0.4444444444444444,
              "#bd3786"
             ],
             [
              0.5555555555555556,
              "#d8576b"
             ],
             [
              0.6666666666666666,
              "#ed7953"
             ],
             [
              0.7777777777777778,
              "#fb9f3a"
             ],
             [
              0.8888888888888888,
              "#fdca26"
             ],
             [
              1,
              "#f0f921"
             ]
            ],
            "type": "surface"
           }
          ],
          "table": [
           {
            "cells": {
             "fill": {
              "color": "#506784"
             },
             "line": {
              "color": "rgb(17,17,17)"
             }
            },
            "header": {
             "fill": {
              "color": "#2a3f5f"
             },
             "line": {
              "color": "rgb(17,17,17)"
             }
            },
            "type": "table"
           }
          ]
         },
         "layout": {
          "annotationdefaults": {
           "arrowcolor": "#f2f5fa",
           "arrowhead": 0,
           "arrowwidth": 1
          },
          "autotypenumbers": "strict",
          "coloraxis": {
           "colorbar": {
            "outlinewidth": 0,
            "ticks": ""
           }
          },
          "colorscale": {
           "diverging": [
            [
             0,
             "#8e0152"
            ],
            [
             0.1,
             "#c51b7d"
            ],
            [
             0.2,
             "#de77ae"
            ],
            [
             0.3,
             "#f1b6da"
            ],
            [
             0.4,
             "#fde0ef"
            ],
            [
             0.5,
             "#f7f7f7"
            ],
            [
             0.6,
             "#e6f5d0"
            ],
            [
             0.7,
             "#b8e186"
            ],
            [
             0.8,
             "#7fbc41"
            ],
            [
             0.9,
             "#4d9221"
            ],
            [
             1,
             "#276419"
            ]
           ],
           "sequential": [
            [
             0,
             "#0d0887"
            ],
            [
             0.1111111111111111,
             "#46039f"
            ],
            [
             0.2222222222222222,
             "#7201a8"
            ],
            [
             0.3333333333333333,
             "#9c179e"
            ],
            [
             0.4444444444444444,
             "#bd3786"
            ],
            [
             0.5555555555555556,
             "#d8576b"
            ],
            [
             0.6666666666666666,
             "#ed7953"
            ],
            [
             0.7777777777777778,
             "#fb9f3a"
            ],
            [
             0.8888888888888888,
             "#fdca26"
            ],
            [
             1,
             "#f0f921"
            ]
           ],
           "sequentialminus": [
            [
             0,
             "#0d0887"
            ],
            [
             0.1111111111111111,
             "#46039f"
            ],
            [
             0.2222222222222222,
             "#7201a8"
            ],
            [
             0.3333333333333333,
             "#9c179e"
            ],
            [
             0.4444444444444444,
             "#bd3786"
            ],
            [
             0.5555555555555556,
             "#d8576b"
            ],
            [
             0.6666666666666666,
             "#ed7953"
            ],
            [
             0.7777777777777778,
             "#fb9f3a"
            ],
            [
             0.8888888888888888,
             "#fdca26"
            ],
            [
             1,
             "#f0f921"
            ]
           ]
          },
          "colorway": [
           "#636efa",
           "#EF553B",
           "#00cc96",
           "#ab63fa",
           "#FFA15A",
           "#19d3f3",
           "#FF6692",
           "#B6E880",
           "#FF97FF",
           "#FECB52"
          ],
          "font": {
           "color": "#f2f5fa"
          },
          "geo": {
           "bgcolor": "rgb(17,17,17)",
           "lakecolor": "rgb(17,17,17)",
           "landcolor": "rgb(17,17,17)",
           "showlakes": true,
           "showland": true,
           "subunitcolor": "#506784"
          },
          "hoverlabel": {
           "align": "left"
          },
          "hovermode": "closest",
          "mapbox": {
           "style": "dark"
          },
          "paper_bgcolor": "rgb(17,17,17)",
          "plot_bgcolor": "rgb(17,17,17)",
          "polar": {
           "angularaxis": {
            "gridcolor": "#506784",
            "linecolor": "#506784",
            "ticks": ""
           },
           "bgcolor": "rgb(17,17,17)",
           "radialaxis": {
            "gridcolor": "#506784",
            "linecolor": "#506784",
            "ticks": ""
           }
          },
          "scene": {
           "xaxis": {
            "backgroundcolor": "rgb(17,17,17)",
            "gridcolor": "#506784",
            "gridwidth": 2,
            "linecolor": "#506784",
            "showbackground": true,
            "ticks": "",
            "zerolinecolor": "#C8D4E3"
           },
           "yaxis": {
            "backgroundcolor": "rgb(17,17,17)",
            "gridcolor": "#506784",
            "gridwidth": 2,
            "linecolor": "#506784",
            "showbackground": true,
            "ticks": "",
            "zerolinecolor": "#C8D4E3"
           },
           "zaxis": {
            "backgroundcolor": "rgb(17,17,17)",
            "gridcolor": "#506784",
            "gridwidth": 2,
            "linecolor": "#506784",
            "showbackground": true,
            "ticks": "",
            "zerolinecolor": "#C8D4E3"
           }
          },
          "shapedefaults": {
           "line": {
            "color": "#f2f5fa"
           }
          },
          "sliderdefaults": {
           "bgcolor": "#C8D4E3",
           "bordercolor": "rgb(17,17,17)",
           "borderwidth": 1,
           "tickwidth": 0
          },
          "ternary": {
           "aaxis": {
            "gridcolor": "#506784",
            "linecolor": "#506784",
            "ticks": ""
           },
           "baxis": {
            "gridcolor": "#506784",
            "linecolor": "#506784",
            "ticks": ""
           },
           "bgcolor": "rgb(17,17,17)",
           "caxis": {
            "gridcolor": "#506784",
            "linecolor": "#506784",
            "ticks": ""
           }
          },
          "title": {
           "x": 0.05
          },
          "updatemenudefaults": {
           "bgcolor": "#506784",
           "borderwidth": 0
          },
          "xaxis": {
           "automargin": true,
           "gridcolor": "#283442",
           "linecolor": "#506784",
           "ticks": "",
           "title": {
            "standoff": 15
           },
           "zerolinecolor": "#283442",
           "zerolinewidth": 2
          },
          "yaxis": {
           "automargin": true,
           "gridcolor": "#283442",
           "linecolor": "#506784",
           "ticks": "",
           "title": {
            "standoff": 15
           },
           "zerolinecolor": "#283442",
           "zerolinewidth": 2
          }
         }
        },
        "title": {
         "font": {
          "size": 24
         },
         "text": "Zusammenhang Lebenserwartung und Lebenskosten",
         "x": 0.5,
         "xanchor": "center"
        },
        "xaxis": {
         "anchor": "y",
         "domain": [
          0,
          1
         ],
         "title": {
          "text": "Lebenserwartung"
         }
        },
        "yaxis": {
         "anchor": "x",
         "domain": [
          0,
          1
         ],
         "title": {
          "text": "Lebenskosten ($)"
         }
        }
       }
      }
     },
     "metadata": {},
     "output_type": "display_data"
    }
   ],
   "source": [
    "fig = px.scatter(data,\n",
    "                 x=\"LONGEVITY(YEARS)\",\n",
    "                 y=\"$LIFETIME COST\",\n",
    "                 trendline=\"ols\",       # automatische Regressionslinie\n",
    "                 labels={\"LONGEVITY(YEARS)\": \"Lebenserwartung\",\n",
    "                         \"$LIFETIME COST\": \"Lebenskosten ($)\", \n",
    "                         \"type_de\": \"Hundetyp\"},\n",
    "                 template=\"plotly_dark\",\n",
    "                 color=\"type_de\"\n",
    "                 )\n",
    "\n",
    "# Überschrift größer und mittig\n",
    "fig.update_layout(\n",
    "    title=dict(\n",
    "        text='Zusammenhang Lebenserwartung und Lebenskosten', \n",
    "        font=dict(size=24), \n",
    "        x=0.5, \n",
    "        xanchor=\"center\"\n",
    "    )\n",
    ")\n",
    "\n",
    "fig.show()\n",
    "fig.write_html('longevity_life_costs.html')"
   ]
  },
  {
   "cell_type": "markdown",
   "id": "4cf0c247",
   "metadata": {},
   "source": [
    "### kosten Hunde die mehr Fellpflege benötigen auch mehr Geld?"
   ]
  },
  {
   "cell_type": "code",
   "execution_count": 34,
   "id": "333ba77a",
   "metadata": {},
   "outputs": [
    {
     "data": {
      "text/plain": [
       "array(['Once a week', 'Once in a few weeks', 'Daily'], dtype=object)"
      ]
     },
     "execution_count": 34,
     "metadata": {},
     "output_type": "execute_result"
    }
   ],
   "source": [
    "data[\"GROOMING FREQUNCY\"].unique()"
   ]
  },
  {
   "cell_type": "code",
   "execution_count": 42,
   "id": "5fc24b43",
   "metadata": {},
   "outputs": [
    {
     "data": {
      "application/vnd.plotly.v1+json": {
       "config": {
        "plotlyServerURL": "https://plot.ly"
       },
       "data": [
        {
         "alignmentgroup": "True",
         "hovertemplate": "Fellpflegehäufigkeit=%{x}<br>Lebenskosten in $=%{y}<extra></extra>",
         "legendgroup": "Daily",
         "marker": {
          "color": "#636efa"
         },
         "name": "Daily",
         "notched": false,
         "offsetgroup": "Daily",
         "orientation": "v",
         "showlegend": true,
         "type": "box",
         "x": [
          "Daily",
          "Daily",
          "Daily",
          "Daily",
          "Daily",
          "Daily",
          "Daily",
          "Daily",
          "Daily",
          "Daily",
          "Daily",
          "Daily",
          "Daily",
          "Daily",
          "Daily",
          "Daily",
          "Daily",
          "Daily",
          "Daily",
          "Daily"
         ],
         "x0": " ",
         "xaxis": "x",
         "y": {
          "bdata": "AAAAAICD1EAAAAAAwEXTQAAAAAAAqNRAAAAAAAAD00AAAAAAQDbTQAAAAAAAQM9AAAAAAEAg1UAAAAAAgEjYQAAAAABAg9dAAAAAAMAU1kAAAAAAAKPSQAAAAACAD9pAAAAAAEA31EAAAAAAQB3RQAAAAAAA1tBAAAAAAEAV1EAAAAAAgI3TQAAAAAAAmM9AAAAAAIB41UAAAAAAAA3PQA==",
          "dtype": "f8"
         },
         "y0": " ",
         "yaxis": "y"
        },
        {
         "alignmentgroup": "True",
         "hovertemplate": "Fellpflegehäufigkeit=%{x}<br>Lebenskosten in $=%{y}<extra></extra>",
         "legendgroup": "Once a week",
         "marker": {
          "color": "#EF553B"
         },
         "name": "Once a week",
         "notched": false,
         "offsetgroup": "Once a week",
         "orientation": "v",
         "showlegend": true,
         "type": "box",
         "x": [
          "Once a week",
          "Once a week",
          "Once a week",
          "Once a week",
          "Once a week",
          "Once a week",
          "Once a week",
          "Once a week",
          "Once a week",
          "Once a week",
          "Once a week",
          "Once a week",
          "Once a week",
          "Once a week",
          "Once a week",
          "Once a week",
          "Once a week",
          "Once a week",
          "Once a week",
          "Once a week",
          "Once a week",
          "Once a week",
          "Once a week",
          "Once a week",
          "Once a week",
          "Once a week",
          "Once a week",
          "Once a week",
          "Once a week",
          "Once a week",
          "Once a week",
          "Once a week",
          "Once a week",
          "Once a week",
          "Once a week",
          "Once a week",
          "Once a week",
          "Once a week",
          "Once a week",
          "Once a week",
          "Once a week",
          "Once a week",
          "Once a week",
          "Once a week",
          "Once a week",
          "Once a week",
          "Once a week",
          "Once a week",
          "Once a week",
          "Once a week",
          "Once a week",
          "Once a week",
          "Once a week",
          "Once a week",
          "Once a week",
          "Once a week",
          "Once a week",
          "Once a week",
          "Once a week",
          "Once a week",
          "Once a week",
          "Once a week",
          "Once a week",
          "Once a week",
          "Once a week"
         ],
         "x0": " ",
         "xaxis": "x",
         "y": {
          "bdata": "AAAAAIAb1kAAAAAAAHrVQAAAAAAAwNNAAAAAAECM0kAAAAAAgMLXQAAAAADAg9VAAAAAAIBu1UAAAAAAgALUQAAAAABAD9ZAAAAAAIA82UAAAAAAQN/XQAAAAABA89hAAAAAAMDM1EAAAAAAwNjTQAAAAAAAwthAAAAAAMDx1EAAAAAAQE7QQAAAAABAgtRAAAAAAEAl00AAAAAAANbTQAAAAADAF9JAAAAAAMCd00AAAAAAwKvTQAAAAAAAedFAAAAAAAB81EAAAAAAQFPRQAAAAADAltVAAAAAAMAz0kAAAAAAgGvTQAAAAAAAr9JAAAAAAADm0UAAAAAAQL3UQAAAAACAJNVAAAAAAMCD0kAAAAAAgGrXQAAAAAAAqdFAAAAAAADYzkAAAAAAgPTUQAAAAADAjdRAAAAAAIDlzkAAAAAAwOrTQAAAAAAA3NNAAAAAAAC910AAAAAAQKTTQAAAAACAotlAAAAAAED30UAAAAAAQBzRQAAAAADA5dJAAAAAAACU1UAAAAAAgNzQQAAAAACAcc9AAAAAAADBzkAAAAAAwBfTQAAAAACAcdJAAAAAAMAA0kAAAAAAADjLQAAAAAAAAtFAAAAAAICGykAAAAAAAKPMQAAAAADAE9BAAAAAAIAk0EAAAAAAgA7SQAAAAAAAAMtAAAAAAICA1EAAAAAAgFPKQA==",
          "dtype": "f8"
         },
         "y0": " ",
         "yaxis": "y"
        },
        {
         "alignmentgroup": "True",
         "hovertemplate": "Fellpflegehäufigkeit=%{x}<br>Lebenskosten in $=%{y}<extra></extra>",
         "legendgroup": "Once in a few weeks",
         "marker": {
          "color": "#00cc96"
         },
         "name": "Once in a few weeks",
         "notched": false,
         "offsetgroup": "Once in a few weeks",
         "orientation": "v",
         "showlegend": true,
         "type": "box",
         "x": [
          "Once in a few weeks",
          "Once in a few weeks"
         ],
         "x0": " ",
         "xaxis": "x",
         "y": {
          "bdata": "AAAAAECI1UAAAAAAQOfRQA==",
          "dtype": "f8"
         },
         "y0": " ",
         "yaxis": "y"
        }
       ],
       "layout": {
        "boxmode": "overlay",
        "legend": {
         "title": {
          "text": "Fellpflegehäufigkeit"
         },
         "tracegroupgap": 0
        },
        "margin": {
         "t": 60
        },
        "showlegend": false,
        "template": {
         "data": {
          "bar": [
           {
            "error_x": {
             "color": "#f2f5fa"
            },
            "error_y": {
             "color": "#f2f5fa"
            },
            "marker": {
             "line": {
              "color": "rgb(17,17,17)",
              "width": 0.5
             },
             "pattern": {
              "fillmode": "overlay",
              "size": 10,
              "solidity": 0.2
             }
            },
            "type": "bar"
           }
          ],
          "barpolar": [
           {
            "marker": {
             "line": {
              "color": "rgb(17,17,17)",
              "width": 0.5
             },
             "pattern": {
              "fillmode": "overlay",
              "size": 10,
              "solidity": 0.2
             }
            },
            "type": "barpolar"
           }
          ],
          "carpet": [
           {
            "aaxis": {
             "endlinecolor": "#A2B1C6",
             "gridcolor": "#506784",
             "linecolor": "#506784",
             "minorgridcolor": "#506784",
             "startlinecolor": "#A2B1C6"
            },
            "baxis": {
             "endlinecolor": "#A2B1C6",
             "gridcolor": "#506784",
             "linecolor": "#506784",
             "minorgridcolor": "#506784",
             "startlinecolor": "#A2B1C6"
            },
            "type": "carpet"
           }
          ],
          "choropleth": [
           {
            "colorbar": {
             "outlinewidth": 0,
             "ticks": ""
            },
            "type": "choropleth"
           }
          ],
          "contour": [
           {
            "colorbar": {
             "outlinewidth": 0,
             "ticks": ""
            },
            "colorscale": [
             [
              0,
              "#0d0887"
             ],
             [
              0.1111111111111111,
              "#46039f"
             ],
             [
              0.2222222222222222,
              "#7201a8"
             ],
             [
              0.3333333333333333,
              "#9c179e"
             ],
             [
              0.4444444444444444,
              "#bd3786"
             ],
             [
              0.5555555555555556,
              "#d8576b"
             ],
             [
              0.6666666666666666,
              "#ed7953"
             ],
             [
              0.7777777777777778,
              "#fb9f3a"
             ],
             [
              0.8888888888888888,
              "#fdca26"
             ],
             [
              1,
              "#f0f921"
             ]
            ],
            "type": "contour"
           }
          ],
          "contourcarpet": [
           {
            "colorbar": {
             "outlinewidth": 0,
             "ticks": ""
            },
            "type": "contourcarpet"
           }
          ],
          "heatmap": [
           {
            "colorbar": {
             "outlinewidth": 0,
             "ticks": ""
            },
            "colorscale": [
             [
              0,
              "#0d0887"
             ],
             [
              0.1111111111111111,
              "#46039f"
             ],
             [
              0.2222222222222222,
              "#7201a8"
             ],
             [
              0.3333333333333333,
              "#9c179e"
             ],
             [
              0.4444444444444444,
              "#bd3786"
             ],
             [
              0.5555555555555556,
              "#d8576b"
             ],
             [
              0.6666666666666666,
              "#ed7953"
             ],
             [
              0.7777777777777778,
              "#fb9f3a"
             ],
             [
              0.8888888888888888,
              "#fdca26"
             ],
             [
              1,
              "#f0f921"
             ]
            ],
            "type": "heatmap"
           }
          ],
          "histogram": [
           {
            "marker": {
             "pattern": {
              "fillmode": "overlay",
              "size": 10,
              "solidity": 0.2
             }
            },
            "type": "histogram"
           }
          ],
          "histogram2d": [
           {
            "colorbar": {
             "outlinewidth": 0,
             "ticks": ""
            },
            "colorscale": [
             [
              0,
              "#0d0887"
             ],
             [
              0.1111111111111111,
              "#46039f"
             ],
             [
              0.2222222222222222,
              "#7201a8"
             ],
             [
              0.3333333333333333,
              "#9c179e"
             ],
             [
              0.4444444444444444,
              "#bd3786"
             ],
             [
              0.5555555555555556,
              "#d8576b"
             ],
             [
              0.6666666666666666,
              "#ed7953"
             ],
             [
              0.7777777777777778,
              "#fb9f3a"
             ],
             [
              0.8888888888888888,
              "#fdca26"
             ],
             [
              1,
              "#f0f921"
             ]
            ],
            "type": "histogram2d"
           }
          ],
          "histogram2dcontour": [
           {
            "colorbar": {
             "outlinewidth": 0,
             "ticks": ""
            },
            "colorscale": [
             [
              0,
              "#0d0887"
             ],
             [
              0.1111111111111111,
              "#46039f"
             ],
             [
              0.2222222222222222,
              "#7201a8"
             ],
             [
              0.3333333333333333,
              "#9c179e"
             ],
             [
              0.4444444444444444,
              "#bd3786"
             ],
             [
              0.5555555555555556,
              "#d8576b"
             ],
             [
              0.6666666666666666,
              "#ed7953"
             ],
             [
              0.7777777777777778,
              "#fb9f3a"
             ],
             [
              0.8888888888888888,
              "#fdca26"
             ],
             [
              1,
              "#f0f921"
             ]
            ],
            "type": "histogram2dcontour"
           }
          ],
          "mesh3d": [
           {
            "colorbar": {
             "outlinewidth": 0,
             "ticks": ""
            },
            "type": "mesh3d"
           }
          ],
          "parcoords": [
           {
            "line": {
             "colorbar": {
              "outlinewidth": 0,
              "ticks": ""
             }
            },
            "type": "parcoords"
           }
          ],
          "pie": [
           {
            "automargin": true,
            "type": "pie"
           }
          ],
          "scatter": [
           {
            "marker": {
             "line": {
              "color": "#283442"
             }
            },
            "type": "scatter"
           }
          ],
          "scatter3d": [
           {
            "line": {
             "colorbar": {
              "outlinewidth": 0,
              "ticks": ""
             }
            },
            "marker": {
             "colorbar": {
              "outlinewidth": 0,
              "ticks": ""
             }
            },
            "type": "scatter3d"
           }
          ],
          "scattercarpet": [
           {
            "marker": {
             "colorbar": {
              "outlinewidth": 0,
              "ticks": ""
             }
            },
            "type": "scattercarpet"
           }
          ],
          "scattergeo": [
           {
            "marker": {
             "colorbar": {
              "outlinewidth": 0,
              "ticks": ""
             }
            },
            "type": "scattergeo"
           }
          ],
          "scattergl": [
           {
            "marker": {
             "line": {
              "color": "#283442"
             }
            },
            "type": "scattergl"
           }
          ],
          "scattermap": [
           {
            "marker": {
             "colorbar": {
              "outlinewidth": 0,
              "ticks": ""
             }
            },
            "type": "scattermap"
           }
          ],
          "scattermapbox": [
           {
            "marker": {
             "colorbar": {
              "outlinewidth": 0,
              "ticks": ""
             }
            },
            "type": "scattermapbox"
           }
          ],
          "scatterpolar": [
           {
            "marker": {
             "colorbar": {
              "outlinewidth": 0,
              "ticks": ""
             }
            },
            "type": "scatterpolar"
           }
          ],
          "scatterpolargl": [
           {
            "marker": {
             "colorbar": {
              "outlinewidth": 0,
              "ticks": ""
             }
            },
            "type": "scatterpolargl"
           }
          ],
          "scatterternary": [
           {
            "marker": {
             "colorbar": {
              "outlinewidth": 0,
              "ticks": ""
             }
            },
            "type": "scatterternary"
           }
          ],
          "surface": [
           {
            "colorbar": {
             "outlinewidth": 0,
             "ticks": ""
            },
            "colorscale": [
             [
              0,
              "#0d0887"
             ],
             [
              0.1111111111111111,
              "#46039f"
             ],
             [
              0.2222222222222222,
              "#7201a8"
             ],
             [
              0.3333333333333333,
              "#9c179e"
             ],
             [
              0.4444444444444444,
              "#bd3786"
             ],
             [
              0.5555555555555556,
              "#d8576b"
             ],
             [
              0.6666666666666666,
              "#ed7953"
             ],
             [
              0.7777777777777778,
              "#fb9f3a"
             ],
             [
              0.8888888888888888,
              "#fdca26"
             ],
             [
              1,
              "#f0f921"
             ]
            ],
            "type": "surface"
           }
          ],
          "table": [
           {
            "cells": {
             "fill": {
              "color": "#506784"
             },
             "line": {
              "color": "rgb(17,17,17)"
             }
            },
            "header": {
             "fill": {
              "color": "#2a3f5f"
             },
             "line": {
              "color": "rgb(17,17,17)"
             }
            },
            "type": "table"
           }
          ]
         },
         "layout": {
          "annotationdefaults": {
           "arrowcolor": "#f2f5fa",
           "arrowhead": 0,
           "arrowwidth": 1
          },
          "autotypenumbers": "strict",
          "coloraxis": {
           "colorbar": {
            "outlinewidth": 0,
            "ticks": ""
           }
          },
          "colorscale": {
           "diverging": [
            [
             0,
             "#8e0152"
            ],
            [
             0.1,
             "#c51b7d"
            ],
            [
             0.2,
             "#de77ae"
            ],
            [
             0.3,
             "#f1b6da"
            ],
            [
             0.4,
             "#fde0ef"
            ],
            [
             0.5,
             "#f7f7f7"
            ],
            [
             0.6,
             "#e6f5d0"
            ],
            [
             0.7,
             "#b8e186"
            ],
            [
             0.8,
             "#7fbc41"
            ],
            [
             0.9,
             "#4d9221"
            ],
            [
             1,
             "#276419"
            ]
           ],
           "sequential": [
            [
             0,
             "#0d0887"
            ],
            [
             0.1111111111111111,
             "#46039f"
            ],
            [
             0.2222222222222222,
             "#7201a8"
            ],
            [
             0.3333333333333333,
             "#9c179e"
            ],
            [
             0.4444444444444444,
             "#bd3786"
            ],
            [
             0.5555555555555556,
             "#d8576b"
            ],
            [
             0.6666666666666666,
             "#ed7953"
            ],
            [
             0.7777777777777778,
             "#fb9f3a"
            ],
            [
             0.8888888888888888,
             "#fdca26"
            ],
            [
             1,
             "#f0f921"
            ]
           ],
           "sequentialminus": [
            [
             0,
             "#0d0887"
            ],
            [
             0.1111111111111111,
             "#46039f"
            ],
            [
             0.2222222222222222,
             "#7201a8"
            ],
            [
             0.3333333333333333,
             "#9c179e"
            ],
            [
             0.4444444444444444,
             "#bd3786"
            ],
            [
             0.5555555555555556,
             "#d8576b"
            ],
            [
             0.6666666666666666,
             "#ed7953"
            ],
            [
             0.7777777777777778,
             "#fb9f3a"
            ],
            [
             0.8888888888888888,
             "#fdca26"
            ],
            [
             1,
             "#f0f921"
            ]
           ]
          },
          "colorway": [
           "#636efa",
           "#EF553B",
           "#00cc96",
           "#ab63fa",
           "#FFA15A",
           "#19d3f3",
           "#FF6692",
           "#B6E880",
           "#FF97FF",
           "#FECB52"
          ],
          "font": {
           "color": "#f2f5fa"
          },
          "geo": {
           "bgcolor": "rgb(17,17,17)",
           "lakecolor": "rgb(17,17,17)",
           "landcolor": "rgb(17,17,17)",
           "showlakes": true,
           "showland": true,
           "subunitcolor": "#506784"
          },
          "hoverlabel": {
           "align": "left"
          },
          "hovermode": "closest",
          "mapbox": {
           "style": "dark"
          },
          "paper_bgcolor": "rgb(17,17,17)",
          "plot_bgcolor": "rgb(17,17,17)",
          "polar": {
           "angularaxis": {
            "gridcolor": "#506784",
            "linecolor": "#506784",
            "ticks": ""
           },
           "bgcolor": "rgb(17,17,17)",
           "radialaxis": {
            "gridcolor": "#506784",
            "linecolor": "#506784",
            "ticks": ""
           }
          },
          "scene": {
           "xaxis": {
            "backgroundcolor": "rgb(17,17,17)",
            "gridcolor": "#506784",
            "gridwidth": 2,
            "linecolor": "#506784",
            "showbackground": true,
            "ticks": "",
            "zerolinecolor": "#C8D4E3"
           },
           "yaxis": {
            "backgroundcolor": "rgb(17,17,17)",
            "gridcolor": "#506784",
            "gridwidth": 2,
            "linecolor": "#506784",
            "showbackground": true,
            "ticks": "",
            "zerolinecolor": "#C8D4E3"
           },
           "zaxis": {
            "backgroundcolor": "rgb(17,17,17)",
            "gridcolor": "#506784",
            "gridwidth": 2,
            "linecolor": "#506784",
            "showbackground": true,
            "ticks": "",
            "zerolinecolor": "#C8D4E3"
           }
          },
          "shapedefaults": {
           "line": {
            "color": "#f2f5fa"
           }
          },
          "sliderdefaults": {
           "bgcolor": "#C8D4E3",
           "bordercolor": "rgb(17,17,17)",
           "borderwidth": 1,
           "tickwidth": 0
          },
          "ternary": {
           "aaxis": {
            "gridcolor": "#506784",
            "linecolor": "#506784",
            "ticks": ""
           },
           "baxis": {
            "gridcolor": "#506784",
            "linecolor": "#506784",
            "ticks": ""
           },
           "bgcolor": "rgb(17,17,17)",
           "caxis": {
            "gridcolor": "#506784",
            "linecolor": "#506784",
            "ticks": ""
           }
          },
          "title": {
           "x": 0.05
          },
          "updatemenudefaults": {
           "bgcolor": "#506784",
           "borderwidth": 0
          },
          "xaxis": {
           "automargin": true,
           "gridcolor": "#283442",
           "linecolor": "#506784",
           "ticks": "",
           "title": {
            "standoff": 15
           },
           "zerolinecolor": "#283442",
           "zerolinewidth": 2
          },
          "yaxis": {
           "automargin": true,
           "gridcolor": "#283442",
           "linecolor": "#506784",
           "ticks": "",
           "title": {
            "standoff": 15
           },
           "zerolinecolor": "#283442",
           "zerolinewidth": 2
          }
         }
        },
        "title": {
         "font": {
          "size": 24
         },
         "text": "Zusammenhang Fellpflege und Lebenskosten",
         "x": 0.5,
         "xanchor": "center"
        },
        "xaxis": {
         "anchor": "y",
         "categoryarray": [
          "Daily",
          "Once a week",
          "Once in a few weeks"
         ],
         "categoryorder": "array",
         "domain": [
          0,
          1
         ],
         "tickmode": "array",
         "ticktext": [
          "Täglich",
          "1× pro Woche",
          "Alle paar Wochen"
         ],
         "tickvals": [
          "Daily",
          "Once a week",
          "Once in a few weeks"
         ],
         "title": {
          "text": "Fellpflegehäufigkeit"
         }
        },
        "yaxis": {
         "anchor": "x",
         "domain": [
          0,
          1
         ],
         "title": {
          "text": "Lebenskosten in $"
         }
        }
       }
      }
     },
     "metadata": {},
     "output_type": "display_data"
    }
   ],
   "source": [
    "english_order = [\"Daily\", \"Once a week\", \"Once in a few weeks\"]\n",
    "groom_de = [\"Täglich\", \"1× pro Woche\", \"Alle paar Wochen\"]\n",
    "\n",
    "fig = px.box(data,\n",
    "             x=\"GROOMING FREQUNCY\",\n",
    "             y=\"$LIFETIME COST\",\n",
    "             labels={\"GROOMING FREQUNCY\": \"Fellpflegehäufigkeit\", \"$LIFETIME COST\": \"Lebenskosten in $\"},\n",
    "             category_orders={\"GROOMING FREQUNCY\": english_order},\n",
    "             template=\"plotly_dark\",\n",
    "             color=\"GROOMING FREQUNCY\")\n",
    "\n",
    "# Überschrift größer und mittig\n",
    "fig.update_layout(\n",
    "    title=dict(\n",
    "        text='Zusammenhang Fellpflege und Lebenskosten', \n",
    "        font=dict(size=24), \n",
    "        x=0.5, \n",
    "        xanchor=\"center\"\n",
    "    )\n",
    ")\n",
    "\n",
    "fig.update_layout(showlegend=False)\n",
    "\n",
    "fig.update_xaxes(\n",
    "    tickmode=\"array\",\n",
    "    tickvals=english_order,\n",
    "    ticktext=groom_de\n",
    ")\n",
    "\n",
    "fig.show()\n",
    "fig.write_html('grooming_life_costs.html')"
   ]
  },
  {
   "cell_type": "markdown",
   "id": "2093020d",
   "metadata": {},
   "source": [
    "### Sind intelligente Hunde beliebter?"
   ]
  },
  {
   "cell_type": "code",
   "execution_count": 54,
   "id": "d5af7abe",
   "metadata": {},
   "outputs": [],
   "source": [
    "# Reihenfolge Intelligenz\n",
    "intelligence_order = [\n",
    "    'Brightest',\n",
    "    'Excellent',\n",
    "    'Above average',\n",
    "    'Average',\n",
    "    'Fair',\n",
    "    'Lowest'\n",
    "]\n",
    "\n",
    "# Englisch → Deutsch\n",
    "intelligence_de = {\n",
    "    \"Brightest\":       \"Höchste Intelligenz\",\n",
    "    \"Excellent\":       \"Ausgezeichnet\",\n",
    "    \"Above average\":   \"Überdurchschnittlich\",\n",
    "    \"Average\":         \"Durchschnittlich\",\n",
    "    \"Fair\":            \"Unterdurchschnittlich\",\n",
    "    \"Lowest\":          \"Niedrigste Intelligenz\"\n",
    "}\n",
    "\n",
    "intelligence_de = [intelligence_de[i] for i in intelligence_order]\n"
   ]
  },
  {
   "cell_type": "code",
   "execution_count": 56,
   "id": "eb8d6ab7",
   "metadata": {},
   "outputs": [
    {
     "data": {
      "application/vnd.plotly.v1+json": {
       "config": {
        "plotlyServerURL": "https://plot.ly"
       },
       "data": [
        {
         "alignmentgroup": "True",
         "hovertemplate": "Intelligenz=%{x}<br>Beliebtheitsplatz=%{y}<extra></extra>",
         "legendgroup": "Brightest",
         "marker": {
          "color": "#636efa"
         },
         "name": "Brightest",
         "notched": false,
         "offsetgroup": "Brightest",
         "orientation": "v",
         "showlegend": true,
         "type": "box",
         "x": [
          "Brightest",
          "Brightest",
          "Brightest",
          "Brightest",
          "Brightest",
          "Brightest",
          "Brightest",
          "Brightest",
          "Brightest",
          "Brightest"
         ],
         "x0": " ",
         "xaxis": "x",
         "y": {
          "bdata": "FAEEIScIMQ0KAg==",
          "dtype": "i1"
         },
         "y0": " ",
         "yaxis": "y"
        },
        {
         "alignmentgroup": "True",
         "hovertemplate": "Intelligenz=%{x}<br>Beliebtheitsplatz=%{y}<extra></extra>",
         "legendgroup": "Excellent",
         "marker": {
          "color": "#EF553B"
         },
         "name": "Excellent",
         "notched": false,
         "offsetgroup": "Excellent",
         "orientation": "v",
         "showlegend": true,
         "type": "box",
         "x": [
          "Excellent",
          "Excellent",
          "Excellent",
          "Excellent",
          "Excellent",
          "Excellent",
          "Excellent",
          "Excellent",
          "Excellent",
          "Excellent",
          "Excellent"
         ],
         "x0": " ",
         "xaxis": "x",
         "y": {
          "bdata": "MxsdHg8MQ0gZER8=",
          "dtype": "i1"
         },
         "y0": " ",
         "yaxis": "y"
        },
        {
         "alignmentgroup": "True",
         "hovertemplate": "Intelligenz=%{x}<br>Beliebtheitsplatz=%{y}<extra></extra>",
         "legendgroup": "Above average",
         "marker": {
          "color": "#00cc96"
         },
         "name": "Above average",
         "notched": false,
         "offsetgroup": "Above average",
         "orientation": "v",
         "showlegend": true,
         "type": "box",
         "x": [
          "Above average",
          "Above average",
          "Above average",
          "Above average",
          "Above average",
          "Above average",
          "Above average",
          "Above average",
          "Above average",
          "Above average",
          "Above average",
          "Above average",
          "Above average",
          "Above average",
          "Above average",
          "Above average",
          "Above average",
          "Above average",
          "Above average"
         ],
         "x0": " ",
         "xaxis": "x",
         "y": {
          "bdata": "PTBRODcoRUFUTU85PlJWJUYFTg==",
          "dtype": "i1"
         },
         "y0": " ",
         "yaxis": "y"
        },
        {
         "alignmentgroup": "True",
         "hovertemplate": "Intelligenz=%{x}<br>Beliebtheitsplatz=%{y}<extra></extra>",
         "legendgroup": "Average",
         "marker": {
          "color": "#ab63fa"
         },
         "name": "Average",
         "notched": false,
         "offsetgroup": "Average",
         "orientation": "v",
         "showlegend": true,
         "type": "box",
         "x": [
          "Average",
          "Average",
          "Average",
          "Average",
          "Average",
          "Average",
          "Average",
          "Average",
          "Average",
          "Average",
          "Average",
          "Average",
          "Average",
          "Average",
          "Average",
          "Average",
          "Average",
          "Average",
          "Average",
          "Average",
          "Average"
         ],
         "x0": " ",
         "xaxis": "x",
         "y": {
          "bdata": "ECBKSSIuFlMVOhhVSwlQBzwTJi8p",
          "dtype": "i1"
         },
         "y0": " ",
         "yaxis": "y"
        },
        {
         "alignmentgroup": "True",
         "hovertemplate": "Intelligenz=%{x}<br>Beliebtheitsplatz=%{y}<extra></extra>",
         "legendgroup": "Fair",
         "marker": {
          "color": "#FFA15A"
         },
         "name": "Fair",
         "notched": false,
         "offsetgroup": "Fair",
         "orientation": "v",
         "showlegend": true,
         "type": "box",
         "x": [
          "Fair",
          "Fair",
          "Fair",
          "Fair",
          "Fair",
          "Fair",
          "Fair",
          "Fair",
          "Fair",
          "Fair",
          "Fair",
          "Fair",
          "Fair",
          "Fair",
          "Fair"
         ],
         "x0": " ",
         "xaxis": "x",
         "y": {
          "bdata": "MhpXQEwOPxI7Fy0jNSwr",
          "dtype": "i1"
         },
         "y0": " ",
         "yaxis": "y"
        },
        {
         "alignmentgroup": "True",
         "hovertemplate": "Intelligenz=%{x}<br>Beliebtheitsplatz=%{y}<extra></extra>",
         "legendgroup": "Lowest",
         "marker": {
          "color": "#19d3f3"
         },
         "name": "Lowest",
         "notched": false,
         "offsetgroup": "Lowest",
         "orientation": "v",
         "showlegend": true,
         "type": "box",
         "x": [
          "Lowest",
          "Lowest",
          "Lowest",
          "Lowest",
          "Lowest",
          "Lowest",
          "Lowest",
          "Lowest",
          "Lowest",
          "Lowest",
          "Lowest"
         ],
         "x0": " ",
         "xaxis": "x",
         "y": {
          "bdata": "CwMkREIcNEcqNgY=",
          "dtype": "i1"
         },
         "y0": " ",
         "yaxis": "y"
        }
       ],
       "layout": {
        "boxmode": "overlay",
        "legend": {
         "title": {
          "text": "Intelligenz"
         },
         "tracegroupgap": 0
        },
        "margin": {
         "t": 60
        },
        "showlegend": false,
        "template": {
         "data": {
          "bar": [
           {
            "error_x": {
             "color": "#f2f5fa"
            },
            "error_y": {
             "color": "#f2f5fa"
            },
            "marker": {
             "line": {
              "color": "rgb(17,17,17)",
              "width": 0.5
             },
             "pattern": {
              "fillmode": "overlay",
              "size": 10,
              "solidity": 0.2
             }
            },
            "type": "bar"
           }
          ],
          "barpolar": [
           {
            "marker": {
             "line": {
              "color": "rgb(17,17,17)",
              "width": 0.5
             },
             "pattern": {
              "fillmode": "overlay",
              "size": 10,
              "solidity": 0.2
             }
            },
            "type": "barpolar"
           }
          ],
          "carpet": [
           {
            "aaxis": {
             "endlinecolor": "#A2B1C6",
             "gridcolor": "#506784",
             "linecolor": "#506784",
             "minorgridcolor": "#506784",
             "startlinecolor": "#A2B1C6"
            },
            "baxis": {
             "endlinecolor": "#A2B1C6",
             "gridcolor": "#506784",
             "linecolor": "#506784",
             "minorgridcolor": "#506784",
             "startlinecolor": "#A2B1C6"
            },
            "type": "carpet"
           }
          ],
          "choropleth": [
           {
            "colorbar": {
             "outlinewidth": 0,
             "ticks": ""
            },
            "type": "choropleth"
           }
          ],
          "contour": [
           {
            "colorbar": {
             "outlinewidth": 0,
             "ticks": ""
            },
            "colorscale": [
             [
              0,
              "#0d0887"
             ],
             [
              0.1111111111111111,
              "#46039f"
             ],
             [
              0.2222222222222222,
              "#7201a8"
             ],
             [
              0.3333333333333333,
              "#9c179e"
             ],
             [
              0.4444444444444444,
              "#bd3786"
             ],
             [
              0.5555555555555556,
              "#d8576b"
             ],
             [
              0.6666666666666666,
              "#ed7953"
             ],
             [
              0.7777777777777778,
              "#fb9f3a"
             ],
             [
              0.8888888888888888,
              "#fdca26"
             ],
             [
              1,
              "#f0f921"
             ]
            ],
            "type": "contour"
           }
          ],
          "contourcarpet": [
           {
            "colorbar": {
             "outlinewidth": 0,
             "ticks": ""
            },
            "type": "contourcarpet"
           }
          ],
          "heatmap": [
           {
            "colorbar": {
             "outlinewidth": 0,
             "ticks": ""
            },
            "colorscale": [
             [
              0,
              "#0d0887"
             ],
             [
              0.1111111111111111,
              "#46039f"
             ],
             [
              0.2222222222222222,
              "#7201a8"
             ],
             [
              0.3333333333333333,
              "#9c179e"
             ],
             [
              0.4444444444444444,
              "#bd3786"
             ],
             [
              0.5555555555555556,
              "#d8576b"
             ],
             [
              0.6666666666666666,
              "#ed7953"
             ],
             [
              0.7777777777777778,
              "#fb9f3a"
             ],
             [
              0.8888888888888888,
              "#fdca26"
             ],
             [
              1,
              "#f0f921"
             ]
            ],
            "type": "heatmap"
           }
          ],
          "histogram": [
           {
            "marker": {
             "pattern": {
              "fillmode": "overlay",
              "size": 10,
              "solidity": 0.2
             }
            },
            "type": "histogram"
           }
          ],
          "histogram2d": [
           {
            "colorbar": {
             "outlinewidth": 0,
             "ticks": ""
            },
            "colorscale": [
             [
              0,
              "#0d0887"
             ],
             [
              0.1111111111111111,
              "#46039f"
             ],
             [
              0.2222222222222222,
              "#7201a8"
             ],
             [
              0.3333333333333333,
              "#9c179e"
             ],
             [
              0.4444444444444444,
              "#bd3786"
             ],
             [
              0.5555555555555556,
              "#d8576b"
             ],
             [
              0.6666666666666666,
              "#ed7953"
             ],
             [
              0.7777777777777778,
              "#fb9f3a"
             ],
             [
              0.8888888888888888,
              "#fdca26"
             ],
             [
              1,
              "#f0f921"
             ]
            ],
            "type": "histogram2d"
           }
          ],
          "histogram2dcontour": [
           {
            "colorbar": {
             "outlinewidth": 0,
             "ticks": ""
            },
            "colorscale": [
             [
              0,
              "#0d0887"
             ],
             [
              0.1111111111111111,
              "#46039f"
             ],
             [
              0.2222222222222222,
              "#7201a8"
             ],
             [
              0.3333333333333333,
              "#9c179e"
             ],
             [
              0.4444444444444444,
              "#bd3786"
             ],
             [
              0.5555555555555556,
              "#d8576b"
             ],
             [
              0.6666666666666666,
              "#ed7953"
             ],
             [
              0.7777777777777778,
              "#fb9f3a"
             ],
             [
              0.8888888888888888,
              "#fdca26"
             ],
             [
              1,
              "#f0f921"
             ]
            ],
            "type": "histogram2dcontour"
           }
          ],
          "mesh3d": [
           {
            "colorbar": {
             "outlinewidth": 0,
             "ticks": ""
            },
            "type": "mesh3d"
           }
          ],
          "parcoords": [
           {
            "line": {
             "colorbar": {
              "outlinewidth": 0,
              "ticks": ""
             }
            },
            "type": "parcoords"
           }
          ],
          "pie": [
           {
            "automargin": true,
            "type": "pie"
           }
          ],
          "scatter": [
           {
            "marker": {
             "line": {
              "color": "#283442"
             }
            },
            "type": "scatter"
           }
          ],
          "scatter3d": [
           {
            "line": {
             "colorbar": {
              "outlinewidth": 0,
              "ticks": ""
             }
            },
            "marker": {
             "colorbar": {
              "outlinewidth": 0,
              "ticks": ""
             }
            },
            "type": "scatter3d"
           }
          ],
          "scattercarpet": [
           {
            "marker": {
             "colorbar": {
              "outlinewidth": 0,
              "ticks": ""
             }
            },
            "type": "scattercarpet"
           }
          ],
          "scattergeo": [
           {
            "marker": {
             "colorbar": {
              "outlinewidth": 0,
              "ticks": ""
             }
            },
            "type": "scattergeo"
           }
          ],
          "scattergl": [
           {
            "marker": {
             "line": {
              "color": "#283442"
             }
            },
            "type": "scattergl"
           }
          ],
          "scattermap": [
           {
            "marker": {
             "colorbar": {
              "outlinewidth": 0,
              "ticks": ""
             }
            },
            "type": "scattermap"
           }
          ],
          "scattermapbox": [
           {
            "marker": {
             "colorbar": {
              "outlinewidth": 0,
              "ticks": ""
             }
            },
            "type": "scattermapbox"
           }
          ],
          "scatterpolar": [
           {
            "marker": {
             "colorbar": {
              "outlinewidth": 0,
              "ticks": ""
             }
            },
            "type": "scatterpolar"
           }
          ],
          "scatterpolargl": [
           {
            "marker": {
             "colorbar": {
              "outlinewidth": 0,
              "ticks": ""
             }
            },
            "type": "scatterpolargl"
           }
          ],
          "scatterternary": [
           {
            "marker": {
             "colorbar": {
              "outlinewidth": 0,
              "ticks": ""
             }
            },
            "type": "scatterternary"
           }
          ],
          "surface": [
           {
            "colorbar": {
             "outlinewidth": 0,
             "ticks": ""
            },
            "colorscale": [
             [
              0,
              "#0d0887"
             ],
             [
              0.1111111111111111,
              "#46039f"
             ],
             [
              0.2222222222222222,
              "#7201a8"
             ],
             [
              0.3333333333333333,
              "#9c179e"
             ],
             [
              0.4444444444444444,
              "#bd3786"
             ],
             [
              0.5555555555555556,
              "#d8576b"
             ],
             [
              0.6666666666666666,
              "#ed7953"
             ],
             [
              0.7777777777777778,
              "#fb9f3a"
             ],
             [
              0.8888888888888888,
              "#fdca26"
             ],
             [
              1,
              "#f0f921"
             ]
            ],
            "type": "surface"
           }
          ],
          "table": [
           {
            "cells": {
             "fill": {
              "color": "#506784"
             },
             "line": {
              "color": "rgb(17,17,17)"
             }
            },
            "header": {
             "fill": {
              "color": "#2a3f5f"
             },
             "line": {
              "color": "rgb(17,17,17)"
             }
            },
            "type": "table"
           }
          ]
         },
         "layout": {
          "annotationdefaults": {
           "arrowcolor": "#f2f5fa",
           "arrowhead": 0,
           "arrowwidth": 1
          },
          "autotypenumbers": "strict",
          "coloraxis": {
           "colorbar": {
            "outlinewidth": 0,
            "ticks": ""
           }
          },
          "colorscale": {
           "diverging": [
            [
             0,
             "#8e0152"
            ],
            [
             0.1,
             "#c51b7d"
            ],
            [
             0.2,
             "#de77ae"
            ],
            [
             0.3,
             "#f1b6da"
            ],
            [
             0.4,
             "#fde0ef"
            ],
            [
             0.5,
             "#f7f7f7"
            ],
            [
             0.6,
             "#e6f5d0"
            ],
            [
             0.7,
             "#b8e186"
            ],
            [
             0.8,
             "#7fbc41"
            ],
            [
             0.9,
             "#4d9221"
            ],
            [
             1,
             "#276419"
            ]
           ],
           "sequential": [
            [
             0,
             "#0d0887"
            ],
            [
             0.1111111111111111,
             "#46039f"
            ],
            [
             0.2222222222222222,
             "#7201a8"
            ],
            [
             0.3333333333333333,
             "#9c179e"
            ],
            [
             0.4444444444444444,
             "#bd3786"
            ],
            [
             0.5555555555555556,
             "#d8576b"
            ],
            [
             0.6666666666666666,
             "#ed7953"
            ],
            [
             0.7777777777777778,
             "#fb9f3a"
            ],
            [
             0.8888888888888888,
             "#fdca26"
            ],
            [
             1,
             "#f0f921"
            ]
           ],
           "sequentialminus": [
            [
             0,
             "#0d0887"
            ],
            [
             0.1111111111111111,
             "#46039f"
            ],
            [
             0.2222222222222222,
             "#7201a8"
            ],
            [
             0.3333333333333333,
             "#9c179e"
            ],
            [
             0.4444444444444444,
             "#bd3786"
            ],
            [
             0.5555555555555556,
             "#d8576b"
            ],
            [
             0.6666666666666666,
             "#ed7953"
            ],
            [
             0.7777777777777778,
             "#fb9f3a"
            ],
            [
             0.8888888888888888,
             "#fdca26"
            ],
            [
             1,
             "#f0f921"
            ]
           ]
          },
          "colorway": [
           "#636efa",
           "#EF553B",
           "#00cc96",
           "#ab63fa",
           "#FFA15A",
           "#19d3f3",
           "#FF6692",
           "#B6E880",
           "#FF97FF",
           "#FECB52"
          ],
          "font": {
           "color": "#f2f5fa"
          },
          "geo": {
           "bgcolor": "rgb(17,17,17)",
           "lakecolor": "rgb(17,17,17)",
           "landcolor": "rgb(17,17,17)",
           "showlakes": true,
           "showland": true,
           "subunitcolor": "#506784"
          },
          "hoverlabel": {
           "align": "left"
          },
          "hovermode": "closest",
          "mapbox": {
           "style": "dark"
          },
          "paper_bgcolor": "rgb(17,17,17)",
          "plot_bgcolor": "rgb(17,17,17)",
          "polar": {
           "angularaxis": {
            "gridcolor": "#506784",
            "linecolor": "#506784",
            "ticks": ""
           },
           "bgcolor": "rgb(17,17,17)",
           "radialaxis": {
            "gridcolor": "#506784",
            "linecolor": "#506784",
            "ticks": ""
           }
          },
          "scene": {
           "xaxis": {
            "backgroundcolor": "rgb(17,17,17)",
            "gridcolor": "#506784",
            "gridwidth": 2,
            "linecolor": "#506784",
            "showbackground": true,
            "ticks": "",
            "zerolinecolor": "#C8D4E3"
           },
           "yaxis": {
            "backgroundcolor": "rgb(17,17,17)",
            "gridcolor": "#506784",
            "gridwidth": 2,
            "linecolor": "#506784",
            "showbackground": true,
            "ticks": "",
            "zerolinecolor": "#C8D4E3"
           },
           "zaxis": {
            "backgroundcolor": "rgb(17,17,17)",
            "gridcolor": "#506784",
            "gridwidth": 2,
            "linecolor": "#506784",
            "showbackground": true,
            "ticks": "",
            "zerolinecolor": "#C8D4E3"
           }
          },
          "shapedefaults": {
           "line": {
            "color": "#f2f5fa"
           }
          },
          "sliderdefaults": {
           "bgcolor": "#C8D4E3",
           "bordercolor": "rgb(17,17,17)",
           "borderwidth": 1,
           "tickwidth": 0
          },
          "ternary": {
           "aaxis": {
            "gridcolor": "#506784",
            "linecolor": "#506784",
            "ticks": ""
           },
           "baxis": {
            "gridcolor": "#506784",
            "linecolor": "#506784",
            "ticks": ""
           },
           "bgcolor": "rgb(17,17,17)",
           "caxis": {
            "gridcolor": "#506784",
            "linecolor": "#506784",
            "ticks": ""
           }
          },
          "title": {
           "x": 0.05
          },
          "updatemenudefaults": {
           "bgcolor": "#506784",
           "borderwidth": 0
          },
          "xaxis": {
           "automargin": true,
           "gridcolor": "#283442",
           "linecolor": "#506784",
           "ticks": "",
           "title": {
            "standoff": 15
           },
           "zerolinecolor": "#283442",
           "zerolinewidth": 2
          },
          "yaxis": {
           "automargin": true,
           "gridcolor": "#283442",
           "linecolor": "#506784",
           "ticks": "",
           "title": {
            "standoff": 15
           },
           "zerolinecolor": "#283442",
           "zerolinewidth": 2
          }
         }
        },
        "title": {
         "font": {
          "size": 24
         },
         "text": "Zusammenhang Intelligenz und Beliebtheit",
         "x": 0.5,
         "xanchor": "center"
        },
        "xaxis": {
         "anchor": "y",
         "categoryarray": [
          "Brightest",
          "Excellent",
          "Above average",
          "Average",
          "Fair",
          "Lowest"
         ],
         "categoryorder": "array",
         "domain": [
          0,
          1
         ],
         "tickmode": "array",
         "ticktext": [
          "Höchste Intelligenz",
          "Ausgezeichnet",
          "Überdurchschnittlich",
          "Durchschnittlich",
          "Unterdurchschnittlich",
          "Niedrigste Intelligenz"
         ],
         "tickvals": [
          "Brightest",
          "Excellent",
          "Above average",
          "Average",
          "Fair",
          "Lowest"
         ],
         "title": {
          "text": "Intelligenz"
         }
        },
        "yaxis": {
         "anchor": "x",
         "domain": [
          0,
          1
         ],
         "title": {
          "text": "Beliebtheitsplatz"
         }
        }
       }
      }
     },
     "metadata": {},
     "output_type": "display_data"
    }
   ],
   "source": [
    "fig = px.box(data,\n",
    "             x=\"intelligence\",\n",
    "             y=\"popularity ranking\",\n",
    "             category_orders={\"intelligence\": list(intelligence_order)},\n",
    "             labels={\"intelligence\": \"Intelligenz\", \"popularity ranking\": \"Beliebtheitsplatz\"},\n",
    "             color=\"intelligence\",\n",
    "             template=\"plotly_dark\"\n",
    ")\n",
    "\n",
    "# Überschrift größer und mittig\n",
    "fig.update_layout(\n",
    "    title=dict(\n",
    "        text='Zusammenhang Intelligenz und Beliebtheit', \n",
    "        font=dict(size=24), \n",
    "        x=0.5, \n",
    "        xanchor=\"center\"\n",
    "    )\n",
    ")\n",
    "\n",
    "fig.update_layout(showlegend=False)\n",
    "\n",
    "fig.update_xaxes(\n",
    "    tickmode=\"array\",\n",
    "    tickvals=intelligence_order,\n",
    "    ticktext=intelligence_de\n",
    ")\n",
    "\n",
    "fig.show()\n",
    "fig.write_html('intelligence_popularity.html')"
   ]
  }
 ],
 "metadata": {
  "kernelspec": {
   "display_name": "Python 3",
   "language": "python",
   "name": "python3"
  },
  "language_info": {
   "codemirror_mode": {
    "name": "ipython",
    "version": 3
   },
   "file_extension": ".py",
   "mimetype": "text/x-python",
   "name": "python",
   "nbconvert_exporter": "python",
   "pygments_lexer": "ipython3",
   "version": "3.13.1"
  }
 },
 "nbformat": 4,
 "nbformat_minor": 5
}
