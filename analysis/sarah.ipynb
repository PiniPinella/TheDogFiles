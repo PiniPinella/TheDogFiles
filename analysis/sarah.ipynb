{
 "cells": [
  {
   "cell_type": "code",
   "execution_count": null,
   "id": "94add01f",
   "metadata": {},
   "outputs": [],
   "source": [
    "import os\n",
    "import pandas as pd\n",
    "import numpy as np\n",
    "import matplotlib.pyplot as plt\n",
    "import seaborn as sns\n",
    "import plotly.express as px\n",
    "import plotly.graph_objects as go "
   ]
  },
  {
   "cell_type": "code",
   "execution_count": null,
   "id": "49aeacf0",
   "metadata": {},
   "outputs": [],
   "source": [
    "# Dataset laden\n",
    "\n",
    "config_path = os.path.join(\"..\", \"data\", \"dogs-ranking-dataset.csv\")\n",
    "data = pd.read_csv(config_path)"
   ]
  }
 ],
 "metadata": {
  "language_info": {
   "name": "python"
  }
 },
 "nbformat": 4,
 "nbformat_minor": 5
}
