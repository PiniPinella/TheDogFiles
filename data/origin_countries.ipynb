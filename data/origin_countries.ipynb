{
 "cells": [
  {
   "cell_type": "markdown",
   "id": "a58ae93f",
   "metadata": {},
   "source": [
    "# Herkunftsländer der Rassen in den Datensatz einfügen"
   ]
  },
  {
   "cell_type": "markdown",
   "id": "27047050",
   "metadata": {},
   "source": [
    "#### Imports"
   ]
  },
  {
   "cell_type": "code",
   "execution_count": 70,
   "id": "9941fc15",
   "metadata": {},
   "outputs": [],
   "source": [
    "import pandas as pd\n",
    "import requests\n",
    "import time\n",
    "from tqdm import tqdm"
   ]
  },
  {
   "cell_type": "markdown",
   "id": "0556571b",
   "metadata": {},
   "source": [
    "#### Datensatz laden"
   ]
  },
  {
   "cell_type": "code",
   "execution_count": 71,
   "id": "b8b58bf2",
   "metadata": {},
   "outputs": [
    {
     "data": {
      "text/html": [
       "<div>\n",
       "<style scoped>\n",
       "    .dataframe tbody tr th:only-of-type {\n",
       "        vertical-align: middle;\n",
       "    }\n",
       "\n",
       "    .dataframe tbody tr th {\n",
       "        vertical-align: top;\n",
       "    }\n",
       "\n",
       "    .dataframe thead th {\n",
       "        text-align: right;\n",
       "    }\n",
       "</style>\n",
       "<table border=\"1\" class=\"dataframe\">\n",
       "  <thead>\n",
       "    <tr style=\"text-align: right;\">\n",
       "      <th></th>\n",
       "      <th>Breed</th>\n",
       "      <th>type</th>\n",
       "      <th>score</th>\n",
       "      <th>popularity ranking</th>\n",
       "      <th>size</th>\n",
       "      <th>intelligence</th>\n",
       "      <th>congential ailments</th>\n",
       "      <th>score for kids</th>\n",
       "      <th>size.1</th>\n",
       "      <th>$LIFETIME COST</th>\n",
       "      <th>INTELLIGENCE RANK</th>\n",
       "      <th>INTELLIGENCE %</th>\n",
       "      <th>LONGEVITY(YEARS)</th>\n",
       "      <th>NUMBER OF GENETIC AILMENTS</th>\n",
       "      <th>GENETIC AILMENTS</th>\n",
       "      <th>PURCHASE PRICE</th>\n",
       "      <th>FOOD COSTS PER YEAR</th>\n",
       "      <th>GROOMING FREQUNCY</th>\n",
       "      <th>SUITABILITY FOR CHILDREN</th>\n",
       "    </tr>\n",
       "  </thead>\n",
       "  <tbody>\n",
       "    <tr>\n",
       "      <th>0</th>\n",
       "      <td>Border Terrier</td>\n",
       "      <td>terrier</td>\n",
       "      <td>3.61</td>\n",
       "      <td>61</td>\n",
       "      <td>1</td>\n",
       "      <td>Above average</td>\n",
       "      <td>none</td>\n",
       "      <td>4.99</td>\n",
       "      <td>small</td>\n",
       "      <td>$22,638</td>\n",
       "      <td>30</td>\n",
       "      <td>70%</td>\n",
       "      <td>14.0</td>\n",
       "      <td>0</td>\n",
       "      <td>none</td>\n",
       "      <td>$833</td>\n",
       "      <td>$324</td>\n",
       "      <td>Once a week</td>\n",
       "      <td>1</td>\n",
       "    </tr>\n",
       "  </tbody>\n",
       "</table>\n",
       "</div>"
      ],
      "text/plain": [
       "            Breed     type  score  popularity ranking  size   intelligence  \\\n",
       "0  Border Terrier  terrier   3.61                  61     1  Above average   \n",
       "\n",
       "  congential ailments  score for kids size.1 $LIFETIME COST  \\\n",
       "0                none            4.99  small       $22,638    \n",
       "\n",
       "   INTELLIGENCE RANK INTELLIGENCE %  LONGEVITY(YEARS)  \\\n",
       "0                 30            70%              14.0   \n",
       "\n",
       "   NUMBER OF GENETIC AILMENTS GENETIC AILMENTS PURCHASE PRICE  \\\n",
       "0                           0             none          $833    \n",
       "\n",
       "  FOOD COSTS PER YEAR GROOMING FREQUNCY  SUITABILITY FOR CHILDREN  \n",
       "0               $324        Once a week                         1  "
      ]
     },
     "execution_count": 71,
     "metadata": {},
     "output_type": "execute_result"
    }
   ],
   "source": [
    "df = pd.read_csv(\"dogs-ranking-dataset.csv\")\n",
    "df.head(1)"
   ]
  },
  {
   "cell_type": "markdown",
   "id": "f0e4705f",
   "metadata": {},
   "source": [
    "#### Wikidata-ID (Q-ID) der jeweiligen Rasse suchen"
   ]
  },
  {
   "cell_type": "code",
   "execution_count": 72,
   "id": "60758b67",
   "metadata": {},
   "outputs": [],
   "source": [
    "def get_qid(breed):\n",
    "    \"\"\"Schritt 1: Hole die Wikidata-ID (Q-ID) der jeweiligen Rasse von Wikipedia.\"\"\"\n",
    "    print(\"API‑Titel, der rausgeht  →\", breed)     # <— DEBUG-Zeile\n",
    "    WIKI_API = \"https://en.wikipedia.org/w/api.php\"                 # Basis-URL Wikipedia-API\n",
    "    params = {\n",
    "        \"action\": \"query\",          # Query-Modul für Abfragen\n",
    "        \"format\": \"json\",           # Antwort im JSON-Format\n",
    "        \"prop\": \"pageprops\",        # Seiteneigenschaften\n",
    "        \"ppprop\": \"wikibase_item\",  # von der Eigenschaften nur die Eigenschaft wikibase_item: Q-ID\n",
    "        \"titles\": breed,            # Titel der Wikipediaseite, also jeweilige Rasse\n",
    "        \"redirects\": 1              # Weiterleitung falls die gefundene Seite auf den Originalnamen verweist (z.B. bei veralteten Namen oder Spitznamen der Rasse)\n",
    "    }\n",
    "    response = requests.get(WIKI_API, params=params, timeout=15)    # Ergebnis der Anfrage an WIKI-API mit festgelegten Parametern und timeout=15(falls der Server nach 15sek nicht antwortet) in response speichern\n",
    "    data = response.json()                                          # Umwandlung in ein Dictionary für leichtere Verarbeitung\n",
    "    pages = data[\"query\"][\"pages\"]                                  # Seitendaten aus der Anfrage speichern\n",
    "    page = next(iter(pages.values()))                               # Trefferseite speichern\n",
    "    return page.get(\"pageprops\", {}).get(\"wikibase_item\")           # Q-ID der gesuchten Rasse aus der Seite auslesen und ausgeben, falls fehlt None zurückgeben"
   ]
  },
  {
   "cell_type": "code",
   "execution_count": 73,
   "id": "b9a1fb81",
   "metadata": {},
   "outputs": [
    {
     "name": "stdout",
     "output_type": "stream",
     "text": [
      "API‑Titel, der rausgeht  → Beagle\n",
      "Beagle → Q21102\n",
      "API‑Titel, der rausgeht  → German Shepherd\n",
      "German Shepherd → Q38280\n",
      "API‑Titel, der rausgeht  → Shiba Inu\n",
      "Shiba Inu → Q39315\n"
     ]
    }
   ],
   "source": [
    "# Test get_qid\n",
    "test_breeds = [\"Beagle\", \"German Shepherd\", \"Shiba Inu\"]\n",
    "for b in test_breeds:\n",
    "    print(b, \"→\", get_qid(b))"
   ]
  },
  {
   "cell_type": "markdown",
   "id": "f6f7cec5",
   "metadata": {},
   "source": [
    "#### Länder-Label holen"
   ]
  },
  {
   "cell_type": "code",
   "execution_count": 74,
   "id": "b8e602f9",
   "metadata": {},
   "outputs": [],
   "source": [
    "def get_country_label(qid):\n",
    "    \"\"\"Holt das englische oder deutsche Label für eine gegebene Q-ID.\"\"\"\n",
    "    url = f\"https://www.wikidata.org/wiki/Special:EntityData/{qid}.json\"            # JSON-URL zum Wikidata-Eintrag der Q-ID\n",
    "    try:\n",
    "        response = requests.get(url, timeout=15)                                    # GET-Anfrage senden (max. 15 Sekunden warten)  \n",
    "        response.raise_for_status()                                                 # Status abfragen\n",
    "        data = response.json()                                                      # Umwandlung in ein Dictionary für leichtere Verarbeitung\n",
    "        entity = data[\"entities\"][qid]                                              # alle Infos über die Q-ID rausholen\n",
    "        label = entity[\"labels\"].get(\"de\", {}).get(\"value\") or \\\n",
    "                entity[\"labels\"].get(\"en\", {}).get(\"value\")                         # erst versuchen das deutsche Label zu finden, sonst das englische                        \n",
    "        return label                                                                # Herkunftsland zurückgeben\n",
    "    except Exception as e:                                                          # wenn ein Fehler mit einer Q-ID auftritt:\n",
    "        print(f\"Fehler beim Nachladen von Label für {qid}: {e}\")\n",
    "        return None                                                                 # None zurückgeben"
   ]
  },
  {
   "cell_type": "markdown",
   "id": "99112bc4",
   "metadata": {},
   "source": [
    "#### Herkunftsland per Q-ID aus Wikipedia ziehen"
   ]
  },
  {
   "cell_type": "code",
   "execution_count": 75,
   "id": "11069460",
   "metadata": {},
   "outputs": [],
   "source": [
    "def get_countries_from_qid(qid):\n",
    "    \"\"\"Liefert das Herkunftsland (als String, z. B. \"Germany/France\")\n",
    "    zu einer Wikidata‑Q‑ID. Durchsucht mehrere Properties, weil Wikidata\n",
    "    Herkunft uneinheitlich speichert.\"\"\"\n",
    "    if not qid:                                                                     # falls keine Q-ID vorhanden ist\n",
    "        return None                                                                 # Funktion abbrechen\n",
    "    \n",
    "    url = f\"https://www.wikidata.org/wiki/Special:EntityData/{qid}.json\"            # JSON-URL zum Wikidata-Eintrag der Q-ID\n",
    "    response = requests.get(url, timeout=15)                                        # GET-Anfrage senden (max. 15 Sekunden warten)           \n",
    "    response.raise_for_status()                                                     # Status abfragen\n",
    "    data = response.json()                                                          # Umwandlung in ein Dictionary für leichtere Verarbeitung\n",
    "\n",
    "    claims = data[\"entities\"][qid][\"claims\"]                                        # alle Aussagen (\"claims\") zum Wikidata-Objekt abrufen\n",
    "\n",
    "    # --- Property-Liste: von \"ideal\" nach \"zur Not\" ---------------------\n",
    "    # Erklärung:\n",
    "    # P495  = country of origin         (genau das, was wir wollen)\n",
    "    # P17   = country                   (oft bei Tieren benutzt)\n",
    "    # P1532 = country for sport         (z. B. bei Jagdhunden)\n",
    "    # P1001 = applies to jurisdiction   (manchmal Ersatz für Herkunft)\n",
    "    # P27   = country of citizenship    (selten, aber als Fallback nützlich)\n",
    "\n",
    "    props_to_check = (\"P495\", \"P17\", \"P1532\", \"P1001\",\"P27\")\n",
    "\n",
    "    country_labels = []                                                             # leere Liste für Länderbezeichnungen erstellen\n",
    "\n",
    "    for prop in props_to_check:                                                     # Relevante Properties durchgehen\n",
    "        if prop not in claims:                                                      # wenn die Property nicht vorhanden ist:\n",
    "            print(f\"Property {prop} nicht gefunden\")\n",
    "            continue                                                                # gehe zur nächsten Property\n",
    "\n",
    "        for claim in claims[prop]:                                                  # jeden Aussage zur Property durchgehen\n",
    "            try:\n",
    "                country_id = claim[\"mainsnak\"][\"datavalue\"][\"value\"][\"id\"]          # Q-ID des Landes extrahieren\n",
    "\n",
    "                label = get_country_label(country_id)                               # Englisches Label des Landes lesen\n",
    "                if label:\n",
    "                    print(f\"Gefundenes Land: {label} (QID: {country_id}, Property: {prop})\")\n",
    "                    country_labels.append(label)                                    # Label zur Liste hinzufügen\n",
    "            except Exception:                                                       # falls das Label fehlt:\n",
    "                print(f\"Fehler beim Auslesen des Landes bei Property {prop}: {e}\")\n",
    "                continue                                                            # überspringen\n",
    "\n",
    "        if country_labels:                                                          # wenn mindestens ein Land gefunden wurde:\n",
    "            countries = \"/\".join(sorted(set(country_labels)))                       # Duplikate entfernen, alphabetisch sortieren, mit \"/\" verbinden\n",
    "            return countries                                                        # Länder zurückgeben\n",
    "            \n",
    "    return None                                                                     # Falls keine Länder gefunden wurden, None zurückgeben"
   ]
  },
  {
   "cell_type": "code",
   "execution_count": 76,
   "id": "90ddba7f",
   "metadata": {},
   "outputs": [
    {
     "name": "stdout",
     "output_type": "stream",
     "text": [
      "API‑Titel, der rausgeht  → Beagle\n",
      "QID: Q21102\n",
      "Gefundenes Land: Vereinigtes Königreich (QID: Q145, Property: P495)\n",
      "Herkunftsland: Vereinigtes Königreich\n"
     ]
    }
   ],
   "source": [
    "# Test get_countries_from_qid\n",
    "qid = get_qid(\"Beagle\")\n",
    "print(\"QID:\", qid)\n",
    "\n",
    "country = get_countries_from_qid(qid)\n",
    "print(\"Herkunftsland:\", country)\n"
   ]
  },
  {
   "cell_type": "markdown",
   "id": "37a5166c",
   "metadata": {},
   "source": [
    "#### Herkunftsländer abfragen"
   ]
  },
  {
   "cell_type": "code",
   "execution_count": 77,
   "id": "de96c3bc",
   "metadata": {},
   "outputs": [],
   "source": [
    "origin_cache = {}                           # Cache: speichert bereits ermittelte Länder pro Rasse, um doppelte API‑Aufrufe zu vermeiden\n",
    "\n",
    "def fetch_origin(breed):\n",
    "    \"\"\"Ermittelt das Herkunftsland einer Rasse (String oder None) und nutzt einen Cache, um Mehrfachanfragen zu vermeiden.\"\"\"\n",
    "    if breed in origin_cache:               # falls der Rassenname bereits in origin_cache vorhanden ist:\n",
    "        return origin_cache[breed]          # gebe das dort gespeicherte Land zurück\n",
    "    \n",
    "    qid = get_qid(breed)                    # hole die Q-ID\n",
    "    country = get_countries_from_qid(qid)   # hole das Herkunftsland\n",
    "\n",
    "    origin_cache[breed] = country           # Cache aktualisieren (auch wenn country None ist)\n",
    "    time.sleep(0.3)                         # kleine Pause um nicht zu viele Anfragen zu schicken\n",
    "    return country                          # Herkunftsland (oder None) zurückgeben"
   ]
  },
  {
   "cell_type": "markdown",
   "id": "8c7943f8",
   "metadata": {},
   "source": [
    "#### Abfrage durchführen"
   ]
  },
  {
   "cell_type": "code",
   "execution_count": 78,
   "id": "859c63b3",
   "metadata": {},
   "outputs": [
    {
     "name": "stderr",
     "output_type": "stream",
     "text": [
      "  0%|          | 0/87 [00:00<?, ?it/s]"
     ]
    },
    {
     "name": "stdout",
     "output_type": "stream",
     "text": [
      "API‑Titel, der rausgeht  → Border Terrier\n",
      "Gefundenes Land: Vereinigtes Königreich (QID: Q145, Property: P495)\n"
     ]
    },
    {
     "name": "stderr",
     "output_type": "stream",
     "text": [
      "  2%|▏         | 2/87 [00:02<01:32,  1.09s/it]"
     ]
    },
    {
     "name": "stdout",
     "output_type": "stream",
     "text": [
      "API‑Titel, der rausgeht  → Cairn Terrier\n",
      "Gefundenes Land: Schottland (QID: Q22, Property: P495)\n"
     ]
    },
    {
     "name": "stderr",
     "output_type": "stream",
     "text": [
      "  3%|▎         | 3/87 [00:03<01:43,  1.24s/it]"
     ]
    },
    {
     "name": "stdout",
     "output_type": "stream",
     "text": [
      "API‑Titel, der rausgeht  → Siberian Husky\n",
      "Gefundenes Land: Sibirien (QID: Q5428, Property: P495)\n"
     ]
    },
    {
     "name": "stderr",
     "output_type": "stream",
     "text": [
      "  5%|▍         | 4/87 [00:05<01:52,  1.35s/it]"
     ]
    },
    {
     "name": "stdout",
     "output_type": "stream",
     "text": [
      "API‑Titel, der rausgeht  → Welsh Springer Spaniel\n",
      "Gefundenes Land: Wales (QID: Q25, Property: P495)\n"
     ]
    },
    {
     "name": "stderr",
     "output_type": "stream",
     "text": [
      "  6%|▌         | 5/87 [00:06<01:55,  1.41s/it]"
     ]
    },
    {
     "name": "stdout",
     "output_type": "stream",
     "text": [
      "API‑Titel, der rausgeht  → English Cocker Spaniel\n",
      "Property P495 nicht gefunden\n",
      "Property P17 nicht gefunden\n",
      "Property P1532 nicht gefunden\n",
      "Property P1001 nicht gefunden\n",
      "Property P27 nicht gefunden\n"
     ]
    },
    {
     "name": "stderr",
     "output_type": "stream",
     "text": [
      "  7%|▋         | 6/87 [00:07<01:43,  1.28s/it]"
     ]
    },
    {
     "name": "stdout",
     "output_type": "stream",
     "text": [
      "API‑Titel, der rausgeht  → Cocker Spaniel\n",
      "Property P495 nicht gefunden\n",
      "Property P17 nicht gefunden\n",
      "Property P1532 nicht gefunden\n",
      "Property P1001 nicht gefunden\n",
      "Property P27 nicht gefunden\n"
     ]
    },
    {
     "name": "stderr",
     "output_type": "stream",
     "text": [
      "  8%|▊         | 7/87 [00:08<01:28,  1.11s/it]"
     ]
    },
    {
     "name": "stdout",
     "output_type": "stream",
     "text": [
      "API‑Titel, der rausgeht  → Lhasa Apso\n",
      "Gefundenes Land: Tibet (QID: Q17252, Property: P495)\n"
     ]
    },
    {
     "name": "stderr",
     "output_type": "stream",
     "text": [
      "  9%|▉         | 8/87 [00:09<01:38,  1.25s/it]"
     ]
    },
    {
     "name": "stdout",
     "output_type": "stream",
     "text": [
      "API‑Titel, der rausgeht  → English Springer Spaniel\n",
      "Property P495 nicht gefunden\n",
      "Property P17 nicht gefunden\n",
      "Property P1532 nicht gefunden\n",
      "Property P1001 nicht gefunden\n",
      "Property P27 nicht gefunden\n"
     ]
    },
    {
     "name": "stderr",
     "output_type": "stream",
     "text": [
      " 10%|█         | 9/87 [00:10<01:30,  1.16s/it]"
     ]
    },
    {
     "name": "stdout",
     "output_type": "stream",
     "text": [
      "API‑Titel, der rausgeht  → Shetland Sheepdog\n",
      "Gefundenes Land: Vereinigtes Königreich (QID: Q145, Property: P495)\n"
     ]
    },
    {
     "name": "stderr",
     "output_type": "stream",
     "text": [
      " 11%|█▏        | 10/87 [00:13<01:52,  1.46s/it]"
     ]
    },
    {
     "name": "stdout",
     "output_type": "stream",
     "text": [
      "API‑Titel, der rausgeht  → West Highland White Terrier\n",
      "Gefundenes Land: Schottland (QID: Q22, Property: P495)\n"
     ]
    },
    {
     "name": "stderr",
     "output_type": "stream",
     "text": [
      " 13%|█▎        | 11/87 [00:14<01:57,  1.55s/it]"
     ]
    },
    {
     "name": "stdout",
     "output_type": "stream",
     "text": [
      "API‑Titel, der rausgeht  → Brittany\n",
      "Property P495 nicht gefunden\n",
      "Gefundenes Land: Frankreich (QID: Q142, Property: P17)\n"
     ]
    },
    {
     "name": "stderr",
     "output_type": "stream",
     "text": [
      " 14%|█▍        | 12/87 [00:17<02:12,  1.76s/it]"
     ]
    },
    {
     "name": "stdout",
     "output_type": "stream",
     "text": [
      "API‑Titel, der rausgeht  → German Shorthaired Pointer\n",
      "Gefundenes Land: Deutschland (QID: Q183, Property: P495)\n"
     ]
    },
    {
     "name": "stderr",
     "output_type": "stream",
     "text": [
      " 15%|█▍        | 13/87 [00:19<02:19,  1.89s/it]"
     ]
    },
    {
     "name": "stdout",
     "output_type": "stream",
     "text": [
      "API‑Titel, der rausgeht  → Pointer\n",
      "Property P495 nicht gefunden\n",
      "Property P17 nicht gefunden\n",
      "Property P1532 nicht gefunden\n",
      "Property P1001 nicht gefunden\n",
      "Property P27 nicht gefunden\n"
     ]
    },
    {
     "name": "stderr",
     "output_type": "stream",
     "text": [
      " 16%|█▌        | 14/87 [00:20<01:57,  1.61s/it]"
     ]
    },
    {
     "name": "stdout",
     "output_type": "stream",
     "text": [
      "API‑Titel, der rausgeht  → Tibetan Spaniel\n",
      "Gefundenes Land: Tibet (QID: Q17252, Property: P495)\n"
     ]
    },
    {
     "name": "stderr",
     "output_type": "stream",
     "text": [
      " 17%|█▋        | 15/87 [00:21<01:53,  1.57s/it]"
     ]
    },
    {
     "name": "stdout",
     "output_type": "stream",
     "text": [
      "API‑Titel, der rausgeht  → Labrador Retriever\n",
      "Gefundenes Land: Kanada (QID: Q16, Property: P495)\n",
      "Gefundenes Land: Vereinigtes Königreich (QID: Q145, Property: P495)\n",
      "Gefundenes Land: England (QID: Q21, Property: P495)\n"
     ]
    },
    {
     "name": "stderr",
     "output_type": "stream",
     "text": [
      " 18%|█▊        | 16/87 [00:25<02:40,  2.27s/it]"
     ]
    },
    {
     "name": "stdout",
     "output_type": "stream",
     "text": [
      "API‑Titel, der rausgeht  → Bichon Frise\n",
      "Property P495 nicht gefunden\n",
      "Property P17 nicht gefunden\n",
      "Property P1532 nicht gefunden\n",
      "Property P1001 nicht gefunden\n",
      "Property P27 nicht gefunden\n"
     ]
    },
    {
     "name": "stderr",
     "output_type": "stream",
     "text": [
      " 20%|█▉        | 17/87 [00:26<02:08,  1.83s/it]"
     ]
    },
    {
     "name": "stdout",
     "output_type": "stream",
     "text": [
      "API‑Titel, der rausgeht  → Irish Setter\n",
      "Gefundenes Land: Irland (QID: Q22890, Property: P495)\n"
     ]
    },
    {
     "name": "stderr",
     "output_type": "stream",
     "text": [
      " 21%|██        | 18/87 [00:27<01:59,  1.74s/it]"
     ]
    },
    {
     "name": "stdout",
     "output_type": "stream",
     "text": [
      "API‑Titel, der rausgeht  → Samoyed\n",
      "Property P495 nicht gefunden\n",
      "Property P17 nicht gefunden\n",
      "Property P1532 nicht gefunden\n",
      "Property P1001 nicht gefunden\n",
      "Property P27 nicht gefunden\n"
     ]
    },
    {
     "name": "stderr",
     "output_type": "stream",
     "text": [
      " 22%|██▏       | 19/87 [00:28<01:37,  1.43s/it]"
     ]
    },
    {
     "name": "stdout",
     "output_type": "stream",
     "text": [
      "API‑Titel, der rausgeht  → Shih Tzu\n",
      "Gefundenes Land: Volksrepublik China (QID: Q148, Property: P495)\n"
     ]
    },
    {
     "name": "stderr",
     "output_type": "stream",
     "text": [
      " 23%|██▎       | 20/87 [00:30<01:47,  1.60s/it]"
     ]
    },
    {
     "name": "stdout",
     "output_type": "stream",
     "text": [
      "API‑Titel, der rausgeht  → Golden Retriever\n",
      "Gefundenes Land: Vereinigtes Königreich (QID: Q145, Property: P495)\n",
      "Gefundenes Land: Schottland (QID: Q22, Property: P495)\n"
     ]
    },
    {
     "name": "stderr",
     "output_type": "stream",
     "text": [
      " 24%|██▍       | 21/87 [00:33<02:11,  1.99s/it]"
     ]
    },
    {
     "name": "stdout",
     "output_type": "stream",
     "text": [
      "API‑Titel, der rausgeht  → Chesapeake Bay Retriever\n",
      "Gefundenes Land: Vereinigte Staaten (QID: Q30, Property: P495)\n"
     ]
    },
    {
     "name": "stderr",
     "output_type": "stream",
     "text": [
      " 25%|██▌       | 22/87 [00:35<02:17,  2.11s/it]"
     ]
    },
    {
     "name": "stdout",
     "output_type": "stream",
     "text": [
      "API‑Titel, der rausgeht  → Papillon\n",
      "Property P495 nicht gefunden\n",
      "Property P17 nicht gefunden\n",
      "Property P1532 nicht gefunden\n",
      "Property P1001 nicht gefunden\n",
      "Property P27 nicht gefunden\n"
     ]
    },
    {
     "name": "stderr",
     "output_type": "stream",
     "text": [
      " 26%|██▋       | 23/87 [00:36<01:53,  1.78s/it]"
     ]
    },
    {
     "name": "stdout",
     "output_type": "stream",
     "text": [
      "API‑Titel, der rausgeht  → Gordon Setter\n",
      "Gefundenes Land: Schottland (QID: Q22, Property: P495)\n"
     ]
    },
    {
     "name": "stderr",
     "output_type": "stream",
     "text": [
      " 28%|██▊       | 24/87 [00:38<01:52,  1.78s/it]"
     ]
    },
    {
     "name": "stdout",
     "output_type": "stream",
     "text": [
      "API‑Titel, der rausgeht  → English Setter\n",
      "Gefundenes Land: England (QID: Q21, Property: P495)\n"
     ]
    },
    {
     "name": "stderr",
     "output_type": "stream",
     "text": [
      " 29%|██▊       | 25/87 [00:40<01:46,  1.72s/it]"
     ]
    },
    {
     "name": "stdout",
     "output_type": "stream",
     "text": [
      "API‑Titel, der rausgeht  → Pug\n",
      "Gefundenes Land: China (QID: Q29520, Property: P495)\n"
     ]
    },
    {
     "name": "stderr",
     "output_type": "stream",
     "text": [
      " 30%|██▉       | 26/87 [00:41<01:42,  1.69s/it]"
     ]
    },
    {
     "name": "stdout",
     "output_type": "stream",
     "text": [
      "API‑Titel, der rausgeht  → Affenpinscher\n",
      "Gefundenes Land: Deutschland (QID: Q183, Property: P495)\n"
     ]
    },
    {
     "name": "stderr",
     "output_type": "stream",
     "text": [
      " 31%|███       | 27/87 [00:44<02:05,  2.09s/it]"
     ]
    },
    {
     "name": "stdout",
     "output_type": "stream",
     "text": [
      "API‑Titel, der rausgeht  → Miniature Schnauzer\n",
      "Gefundenes Land: Deutschland (QID: Q183, Property: P495)\n"
     ]
    },
    {
     "name": "stderr",
     "output_type": "stream",
     "text": [
      " 32%|███▏      | 28/87 [00:47<02:08,  2.18s/it]"
     ]
    },
    {
     "name": "stdout",
     "output_type": "stream",
     "text": [
      "API‑Titel, der rausgeht  → Beagle\n",
      "Gefundenes Land: Vereinigtes Königreich (QID: Q145, Property: P495)\n"
     ]
    },
    {
     "name": "stderr",
     "output_type": "stream",
     "text": [
      " 33%|███▎      | 29/87 [00:49<02:01,  2.10s/it]"
     ]
    },
    {
     "name": "stdout",
     "output_type": "stream",
     "text": [
      "API‑Titel, der rausgeht  → Border Collie\n",
      "Gefundenes Land: Vereinigtes Königreich (QID: Q145, Property: P495)\n",
      "Gefundenes Land: England (QID: Q21, Property: P495)\n",
      "Gefundenes Land: Schottland (QID: Q22, Property: P495)\n"
     ]
    },
    {
     "name": "stderr",
     "output_type": "stream",
     "text": [
      " 34%|███▍      | 30/87 [00:52<02:26,  2.57s/it]"
     ]
    },
    {
     "name": "stdout",
     "output_type": "stream",
     "text": [
      "API‑Titel, der rausgeht  → Australian Terrier\n",
      "Gefundenes Land: Australien (QID: Q408, Property: P495)\n"
     ]
    },
    {
     "name": "stderr",
     "output_type": "stream",
     "text": [
      " 36%|███▌      | 31/87 [00:55<02:21,  2.52s/it]"
     ]
    },
    {
     "name": "stdout",
     "output_type": "stream",
     "text": [
      "API‑Titel, der rausgeht  → Whippet\n",
      "Gefundenes Land: England (QID: Q21, Property: P495)\n"
     ]
    },
    {
     "name": "stderr",
     "output_type": "stream",
     "text": [
      " 37%|███▋      | 32/87 [00:57<02:04,  2.27s/it]"
     ]
    },
    {
     "name": "stdout",
     "output_type": "stream",
     "text": [
      "API‑Titel, der rausgeht  → Boston Terrier\n",
      "Gefundenes Land: Vereinigte Staaten (QID: Q30, Property: P495)\n"
     ]
    },
    {
     "name": "stderr",
     "output_type": "stream",
     "text": [
      " 38%|███▊      | 33/87 [00:59<02:00,  2.23s/it]"
     ]
    },
    {
     "name": "stdout",
     "output_type": "stream",
     "text": [
      "API‑Titel, der rausgeht  → Briard\n",
      "Gefundenes Land: Frankreich (QID: Q142, Property: P495)\n"
     ]
    },
    {
     "name": "stderr",
     "output_type": "stream",
     "text": [
      " 39%|███▉      | 34/87 [01:01<01:58,  2.23s/it]"
     ]
    },
    {
     "name": "stdout",
     "output_type": "stream",
     "text": [
      "API‑Titel, der rausgeht  → Bedlington Terrier\n",
      "Gefundenes Land: England (QID: Q21, Property: P495)\n"
     ]
    },
    {
     "name": "stderr",
     "output_type": "stream",
     "text": [
      " 40%|████      | 35/87 [01:02<01:44,  2.02s/it]"
     ]
    },
    {
     "name": "stdout",
     "output_type": "stream",
     "text": [
      "API‑Titel, der rausgeht  → Cavalier King Charles Spaniel\n",
      "Gefundenes Land: Vereinigtes Königreich (QID: Q145, Property: P495)\n"
     ]
    },
    {
     "name": "stderr",
     "output_type": "stream",
     "text": [
      " 41%|████▏     | 36/87 [01:04<01:38,  1.93s/it]"
     ]
    },
    {
     "name": "stdout",
     "output_type": "stream",
     "text": [
      "API‑Titel, der rausgeht  → Dalmatian\n",
      "Property P495 nicht gefunden\n",
      "Property P17 nicht gefunden\n",
      "Property P1532 nicht gefunden\n",
      "Property P1001 nicht gefunden\n",
      "Property P27 nicht gefunden\n"
     ]
    },
    {
     "name": "stderr",
     "output_type": "stream",
     "text": [
      " 43%|████▎     | 37/87 [01:05<01:18,  1.57s/it]"
     ]
    },
    {
     "name": "stdout",
     "output_type": "stream",
     "text": [
      "API‑Titel, der rausgeht  → Flat-Coated Retriever\n",
      "Gefundenes Land: Vereinigtes Königreich (QID: Q145, Property: P495)\n"
     ]
    },
    {
     "name": "stderr",
     "output_type": "stream",
     "text": [
      " 44%|████▎     | 38/87 [01:07<01:26,  1.76s/it]"
     ]
    },
    {
     "name": "stdout",
     "output_type": "stream",
     "text": [
      "API‑Titel, der rausgeht  → Belgian Tervuren\n",
      "Gefundenes Land: Belgien (QID: Q31, Property: P495)\n"
     ]
    },
    {
     "name": "stderr",
     "output_type": "stream",
     "text": [
      " 45%|████▍     | 39/87 [01:09<01:22,  1.71s/it]"
     ]
    },
    {
     "name": "stdout",
     "output_type": "stream",
     "text": [
      "API‑Titel, der rausgeht  → Basset Hound\n",
      "Property P495 nicht gefunden\n",
      "Property P17 nicht gefunden\n",
      "Property P1532 nicht gefunden\n",
      "Property P1001 nicht gefunden\n",
      "Property P27 nicht gefunden\n"
     ]
    },
    {
     "name": "stderr",
     "output_type": "stream",
     "text": [
      " 46%|████▌     | 40/87 [01:09<01:06,  1.42s/it]"
     ]
    },
    {
     "name": "stdout",
     "output_type": "stream",
     "text": [
      "API‑Titel, der rausgeht  → Poodle\n",
      "Property P495 nicht gefunden\n",
      "Property P17 nicht gefunden\n",
      "Property P1532 nicht gefunden\n",
      "Property P1001 nicht gefunden\n",
      "Property P27 nicht gefunden\n"
     ]
    },
    {
     "name": "stderr",
     "output_type": "stream",
     "text": [
      " 47%|████▋     | 41/87 [01:10<00:59,  1.29s/it]"
     ]
    },
    {
     "name": "stdout",
     "output_type": "stream",
     "text": [
      "API‑Titel, der rausgeht  → Staffordshire Bull Terrier\n",
      "Gefundenes Land: England (QID: Q21, Property: P495)\n"
     ]
    },
    {
     "name": "stderr",
     "output_type": "stream",
     "text": [
      " 48%|████▊     | 42/87 [01:12<01:02,  1.38s/it]"
     ]
    },
    {
     "name": "stdout",
     "output_type": "stream",
     "text": [
      "API‑Titel, der rausgeht  → Bouvier des Flandres\n",
      "Gefundenes Land: Belgien (QID: Q31, Property: P495)\n"
     ]
    },
    {
     "name": "stderr",
     "output_type": "stream",
     "text": [
      " 49%|████▉     | 43/87 [01:14<01:10,  1.61s/it]"
     ]
    },
    {
     "name": "stdout",
     "output_type": "stream",
     "text": [
      "API‑Titel, der rausgeht  → Pembroke Welsh Corgi\n",
      "Gefundenes Land: Wales (QID: Q25, Property: P495)\n"
     ]
    },
    {
     "name": "stderr",
     "output_type": "stream",
     "text": [
      " 51%|█████     | 44/87 [01:16<01:11,  1.67s/it]"
     ]
    },
    {
     "name": "stdout",
     "output_type": "stream",
     "text": [
      "API‑Titel, der rausgeht  → Clumber Spaniel\n",
      "Gefundenes Land: England (QID: Q21, Property: P495)\n"
     ]
    },
    {
     "name": "stderr",
     "output_type": "stream",
     "text": [
      " 52%|█████▏    | 45/87 [01:17<01:08,  1.63s/it]"
     ]
    },
    {
     "name": "stdout",
     "output_type": "stream",
     "text": [
      "API‑Titel, der rausgeht  → Pomeranian\n",
      "Property P495 nicht gefunden\n",
      "Property P17 nicht gefunden\n",
      "Property P1532 nicht gefunden\n",
      "Property P1001 nicht gefunden\n",
      "Property P27 nicht gefunden\n"
     ]
    },
    {
     "name": "stderr",
     "output_type": "stream",
     "text": [
      " 53%|█████▎    | 46/87 [01:18<00:57,  1.41s/it]"
     ]
    },
    {
     "name": "stdout",
     "output_type": "stream",
     "text": [
      "API‑Titel, der rausgeht  → Australian Shepherd\n",
      "Gefundenes Land: Australien (QID: Q408, Property: P495)\n",
      "Gefundenes Land: Vereinigte Staaten (QID: Q30, Property: P495)\n"
     ]
    },
    {
     "name": "stderr",
     "output_type": "stream",
     "text": [
      " 54%|█████▍    | 47/87 [01:22<01:18,  1.96s/it]"
     ]
    },
    {
     "name": "stdout",
     "output_type": "stream",
     "text": [
      "API‑Titel, der rausgeht  → Pharaoh Hound\n",
      "Gefundenes Land: Ägypten (QID: Q79, Property: P495)\n"
     ]
    },
    {
     "name": "stderr",
     "output_type": "stream",
     "text": [
      " 55%|█████▌    | 48/87 [01:24<01:16,  1.95s/it]"
     ]
    },
    {
     "name": "stdout",
     "output_type": "stream",
     "text": [
      "API‑Titel, der rausgeht  → Dandie Dinmont Terrier\n",
      "Gefundenes Land: Schottland (QID: Q22, Property: P495)\n"
     ]
    },
    {
     "name": "stderr",
     "output_type": "stream",
     "text": [
      " 56%|█████▋    | 49/87 [01:25<01:11,  1.88s/it]"
     ]
    },
    {
     "name": "stdout",
     "output_type": "stream",
     "text": [
      "API‑Titel, der rausgeht  → Greyhound\n",
      "Gefundenes Land: Vereinigtes Königreich (QID: Q145, Property: P495)\n"
     ]
    },
    {
     "name": "stderr",
     "output_type": "stream",
     "text": [
      " 57%|█████▋    | 50/87 [01:27<01:12,  1.95s/it]"
     ]
    },
    {
     "name": "stdout",
     "output_type": "stream",
     "text": [
      "API‑Titel, der rausgeht  → Saluki\n",
      "Gefundenes Land: Arabische Halbinsel (QID: Q31945, Property: P495)\n"
     ]
    },
    {
     "name": "stderr",
     "output_type": "stream",
     "text": [
      " 59%|█████▊    | 51/87 [01:29<01:05,  1.81s/it]"
     ]
    },
    {
     "name": "stdout",
     "output_type": "stream",
     "text": [
      "API‑Titel, der rausgeht  → Australian Cattle Dog\n",
      "Gefundenes Land: Australien (QID: Q408, Property: P495)\n"
     ]
    },
    {
     "name": "stderr",
     "output_type": "stream",
     "text": [
      " 60%|█████▉    | 52/87 [01:31<01:06,  1.90s/it]"
     ]
    },
    {
     "name": "stdout",
     "output_type": "stream",
     "text": [
      "API‑Titel, der rausgeht  → Tibetan Terrier\n",
      "Gefundenes Land: Tibet (QID: Q17252, Property: P495)\n"
     ]
    },
    {
     "name": "stderr",
     "output_type": "stream",
     "text": [
      " 61%|██████    | 53/87 [01:32<01:00,  1.78s/it]"
     ]
    },
    {
     "name": "stdout",
     "output_type": "stream",
     "text": [
      "API‑Titel, der rausgeht  → Norfolk Terrier\n",
      "Gefundenes Land: Vereinigtes Königreich (QID: Q145, Property: P495)\n"
     ]
    },
    {
     "name": "stderr",
     "output_type": "stream",
     "text": [
      " 62%|██████▏   | 54/87 [01:35<01:02,  1.90s/it]"
     ]
    },
    {
     "name": "stdout",
     "output_type": "stream",
     "text": [
      "API‑Titel, der rausgeht  → Dachshund\n",
      "Gefundenes Land: Deutschland (QID: Q183, Property: P495)\n"
     ]
    },
    {
     "name": "stderr",
     "output_type": "stream",
     "text": [
      " 63%|██████▎   | 55/87 [01:38<01:16,  2.38s/it]"
     ]
    },
    {
     "name": "stdout",
     "output_type": "stream",
     "text": [
      "API‑Titel, der rausgeht  → Chihuahua\n",
      "Property P495 nicht gefunden\n",
      "Property P17 nicht gefunden\n",
      "Property P1532 nicht gefunden\n",
      "Property P1001 nicht gefunden\n",
      "Property P27 nicht gefunden\n"
     ]
    },
    {
     "name": "stderr",
     "output_type": "stream",
     "text": [
      " 64%|██████▍   | 56/87 [01:39<01:01,  1.99s/it]"
     ]
    },
    {
     "name": "stdout",
     "output_type": "stream",
     "text": [
      "API‑Titel, der rausgeht  → Doberman Pinscher\n",
      "Gefundenes Land: Deutschland (QID: Q183, Property: P495)\n"
     ]
    },
    {
     "name": "stderr",
     "output_type": "stream",
     "text": [
      " 66%|██████▌   | 57/87 [01:42<01:08,  2.29s/it]"
     ]
    },
    {
     "name": "stdout",
     "output_type": "stream",
     "text": [
      "API‑Titel, der rausgeht  → English Toy Spaniel\n",
      "Property P495 nicht gefunden\n",
      "Property P17 nicht gefunden\n",
      "Property P1532 nicht gefunden\n",
      "Property P1001 nicht gefunden\n",
      "Property P27 nicht gefunden\n"
     ]
    },
    {
     "name": "stderr",
     "output_type": "stream",
     "text": [
      " 67%|██████▋   | 58/87 [01:43<00:53,  1.85s/it]"
     ]
    },
    {
     "name": "stdout",
     "output_type": "stream",
     "text": [
      "API‑Titel, der rausgeht  → Newfoundland\n",
      "Property P495 nicht gefunden\n",
      "Gefundenes Land: Kanada (QID: Q16, Property: P17)\n"
     ]
    },
    {
     "name": "stderr",
     "output_type": "stream",
     "text": [
      " 68%|██████▊   | 59/87 [01:45<00:52,  1.87s/it]"
     ]
    },
    {
     "name": "stdout",
     "output_type": "stream",
     "text": [
      "API‑Titel, der rausgeht  → Basenji\n",
      "Gefundenes Land: Demokratische Republik Kongo (QID: Q974, Property: P495)\n"
     ]
    },
    {
     "name": "stderr",
     "output_type": "stream",
     "text": [
      " 69%|██████▉   | 60/87 [01:47<00:48,  1.78s/it]"
     ]
    },
    {
     "name": "stdout",
     "output_type": "stream",
     "text": [
      "API‑Titel, der rausgeht  → Afghan Hound\n",
      "Gefundenes Land: Afghanistan (QID: Q889, Property: P495)\n"
     ]
    },
    {
     "name": "stderr",
     "output_type": "stream",
     "text": [
      " 70%|███████   | 61/87 [01:49<00:48,  1.85s/it]"
     ]
    },
    {
     "name": "stdout",
     "output_type": "stream",
     "text": [
      "API‑Titel, der rausgeht  → Old English Sheepdog\n",
      "Gefundenes Land: England (QID: Q21, Property: P495)\n"
     ]
    },
    {
     "name": "stderr",
     "output_type": "stream",
     "text": [
      " 71%|███████▏  | 62/87 [01:50<00:45,  1.82s/it]"
     ]
    },
    {
     "name": "stdout",
     "output_type": "stream",
     "text": [
      "API‑Titel, der rausgeht  → French Bulldog\n",
      "Gefundenes Land: Frankreich (QID: Q142, Property: P495)\n"
     ]
    },
    {
     "name": "stderr",
     "output_type": "stream",
     "text": [
      " 72%|███████▏  | 63/87 [01:53<00:46,  1.95s/it]"
     ]
    },
    {
     "name": "stdout",
     "output_type": "stream",
     "text": [
      "API‑Titel, der rausgeht  → Bernese Mountain Dog\n",
      "Gefundenes Land: Schweiz (QID: Q39, Property: P495)\n"
     ]
    },
    {
     "name": "stderr",
     "output_type": "stream",
     "text": [
      " 74%|███████▎  | 64/87 [01:55<00:45,  1.97s/it]"
     ]
    },
    {
     "name": "stdout",
     "output_type": "stream",
     "text": [
      "API‑Titel, der rausgeht  → Boxer\n",
      "Property P495 nicht gefunden\n",
      "Property P17 nicht gefunden\n",
      "Property P1532 nicht gefunden\n",
      "Property P1001 nicht gefunden\n",
      "Property P27 nicht gefunden\n"
     ]
    },
    {
     "name": "stderr",
     "output_type": "stream",
     "text": [
      " 75%|███████▍  | 65/87 [01:55<00:35,  1.63s/it]"
     ]
    },
    {
     "name": "stdout",
     "output_type": "stream",
     "text": [
      "API‑Titel, der rausgeht  → Brussels Griffon\n",
      "Gefundenes Land: Belgien (QID: Q31, Property: P495)\n"
     ]
    },
    {
     "name": "stderr",
     "output_type": "stream",
     "text": [
      " 76%|███████▌  | 66/87 [01:57<00:33,  1.58s/it]"
     ]
    },
    {
     "name": "stdout",
     "output_type": "stream",
     "text": [
      "API‑Titel, der rausgeht  → Maltese\n",
      "Property P495 nicht gefunden\n",
      "Property P17 nicht gefunden\n",
      "Property P1532 nicht gefunden\n",
      "Property P1001 nicht gefunden\n",
      "Property P27 nicht gefunden\n"
     ]
    },
    {
     "name": "stderr",
     "output_type": "stream",
     "text": [
      " 77%|███████▋  | 67/87 [01:58<00:28,  1.41s/it]"
     ]
    },
    {
     "name": "stdout",
     "output_type": "stream",
     "text": [
      "API‑Titel, der rausgeht  → Giant Schnauzer\n",
      "Gefundenes Land: Deutschland (QID: Q183, Property: P495)\n"
     ]
    },
    {
     "name": "stderr",
     "output_type": "stream",
     "text": [
      " 78%|███████▊  | 68/87 [02:00<00:33,  1.74s/it]"
     ]
    },
    {
     "name": "stdout",
     "output_type": "stream",
     "text": [
      "API‑Titel, der rausgeht  → Rottweiler\n",
      "Gefundenes Land: Deutschland (QID: Q183, Property: P495)\n"
     ]
    },
    {
     "name": "stderr",
     "output_type": "stream",
     "text": [
      " 79%|███████▉  | 69/87 [02:03<00:35,  2.00s/it]"
     ]
    },
    {
     "name": "stdout",
     "output_type": "stream",
     "text": [
      "API‑Titel, der rausgeht  → Yorkshire Terrier\n",
      "Gefundenes Land: England (QID: Q21, Property: P495)\n"
     ]
    },
    {
     "name": "stderr",
     "output_type": "stream",
     "text": [
      " 80%|████████  | 70/87 [02:05<00:32,  1.90s/it]"
     ]
    },
    {
     "name": "stdout",
     "output_type": "stream",
     "text": [
      "API‑Titel, der rausgeht  → Irish Wolfhound\n",
      "Gefundenes Land: Irland (QID: Q22890, Property: P495)\n"
     ]
    },
    {
     "name": "stderr",
     "output_type": "stream",
     "text": [
      " 82%|████████▏ | 71/87 [02:06<00:28,  1.76s/it]"
     ]
    },
    {
     "name": "stdout",
     "output_type": "stream",
     "text": [
      "API‑Titel, der rausgeht  → Scottish Terrier\n",
      "Gefundenes Land: Schottland (QID: Q22, Property: P495)\n"
     ]
    },
    {
     "name": "stderr",
     "output_type": "stream",
     "text": [
      " 83%|████████▎ | 72/87 [02:08<00:25,  1.67s/it]"
     ]
    },
    {
     "name": "stdout",
     "output_type": "stream",
     "text": [
      "API‑Titel, der rausgeht  → Bullmastiff\n",
      "Gefundenes Land: Vereinigtes Königreich (QID: Q145, Property: P495)\n"
     ]
    },
    {
     "name": "stderr",
     "output_type": "stream",
     "text": [
      " 84%|████████▍ | 73/87 [02:10<00:24,  1.75s/it]"
     ]
    },
    {
     "name": "stdout",
     "output_type": "stream",
     "text": [
      "API‑Titel, der rausgeht  → German Shepherd\n",
      "Gefundenes Land: Deutschland (QID: Q183, Property: P495)\n"
     ]
    },
    {
     "name": "stderr",
     "output_type": "stream",
     "text": [
      " 85%|████████▌ | 74/87 [02:12<00:25,  1.99s/it]"
     ]
    },
    {
     "name": "stdout",
     "output_type": "stream",
     "text": [
      "API‑Titel, der rausgeht  → Mastiff\n",
      "Property P495 nicht gefunden\n",
      "Property P17 nicht gefunden\n",
      "Property P1532 nicht gefunden\n",
      "Property P1001 nicht gefunden\n",
      "Property P27 nicht gefunden\n"
     ]
    },
    {
     "name": "stderr",
     "output_type": "stream",
     "text": [
      " 86%|████████▌ | 75/87 [02:13<00:19,  1.66s/it]"
     ]
    },
    {
     "name": "stdout",
     "output_type": "stream",
     "text": [
      "API‑Titel, der rausgeht  → Great Dane\n",
      "Gefundenes Land: Deutschland (QID: Q183, Property: P495)\n"
     ]
    },
    {
     "name": "stderr",
     "output_type": "stream",
     "text": [
      " 87%|████████▋ | 76/87 [02:15<00:21,  1.92s/it]"
     ]
    },
    {
     "name": "stdout",
     "output_type": "stream",
     "text": [
      "API‑Titel, der rausgeht  → Kerry Blue Terrier\n",
      "Property P495 nicht gefunden\n",
      "Property P17 nicht gefunden\n",
      "Property P1532 nicht gefunden\n",
      "Property P1001 nicht gefunden\n",
      "Property P27 nicht gefunden\n"
     ]
    },
    {
     "name": "stderr",
     "output_type": "stream",
     "text": [
      " 89%|████████▊ | 77/87 [02:16<00:16,  1.64s/it]"
     ]
    },
    {
     "name": "stdout",
     "output_type": "stream",
     "text": [
      "API‑Titel, der rausgeht  → Italian Greyhound\n",
      "Gefundenes Land: Italien (QID: Q38, Property: P495)\n"
     ]
    },
    {
     "name": "stderr",
     "output_type": "stream",
     "text": [
      " 90%|████████▉ | 78/87 [02:18<00:15,  1.76s/it]"
     ]
    },
    {
     "name": "stdout",
     "output_type": "stream",
     "text": [
      "API‑Titel, der rausgeht  → Pekingese\n",
      "Gefundenes Land: Volksrepublik China (QID: Q148, Property: P495)\n"
     ]
    },
    {
     "name": "stderr",
     "output_type": "stream",
     "text": [
      " 91%|█████████ | 79/87 [02:21<00:14,  1.85s/it]"
     ]
    },
    {
     "name": "stdout",
     "output_type": "stream",
     "text": [
      "API‑Titel, der rausgeht  → Rhodesian Ridgeback\n",
      "Gefundenes Land: Rhodesien (QID: Q217169, Property: P495)\n"
     ]
    },
    {
     "name": "stderr",
     "output_type": "stream",
     "text": [
      " 92%|█████████▏| 80/87 [02:22<00:11,  1.67s/it]"
     ]
    },
    {
     "name": "stdout",
     "output_type": "stream",
     "text": [
      "API‑Titel, der rausgeht  → Bull Terrier\n",
      "Gefundenes Land: England (QID: Q21, Property: P495)\n"
     ]
    },
    {
     "name": "stderr",
     "output_type": "stream",
     "text": [
      " 93%|█████████▎| 81/87 [02:23<00:10,  1.67s/it]"
     ]
    },
    {
     "name": "stdout",
     "output_type": "stream",
     "text": [
      "API‑Titel, der rausgeht  → Saint Bernard\n",
      "Property P495 nicht gefunden\n",
      "Property P17 nicht gefunden\n",
      "Property P1532 nicht gefunden\n",
      "Property P1001 nicht gefunden\n",
      "Property P27 nicht gefunden\n"
     ]
    },
    {
     "name": "stderr",
     "output_type": "stream",
     "text": [
      " 94%|█████████▍| 82/87 [02:24<00:06,  1.39s/it]"
     ]
    },
    {
     "name": "stdout",
     "output_type": "stream",
     "text": [
      "API‑Titel, der rausgeht  → Borzoi\n",
      "Gefundenes Land: Russland (QID: Q159, Property: P495)\n"
     ]
    },
    {
     "name": "stderr",
     "output_type": "stream",
     "text": [
      " 95%|█████████▌| 83/87 [02:26<00:06,  1.58s/it]"
     ]
    },
    {
     "name": "stdout",
     "output_type": "stream",
     "text": [
      "API‑Titel, der rausgeht  → Alaskan Malamute\n",
      "Gefundenes Land: Alaska (QID: Q797, Property: P495)\n"
     ]
    },
    {
     "name": "stderr",
     "output_type": "stream",
     "text": [
      " 97%|█████████▋| 84/87 [02:28<00:04,  1.64s/it]"
     ]
    },
    {
     "name": "stdout",
     "output_type": "stream",
     "text": [
      "API‑Titel, der rausgeht  → Bloodhound\n",
      "Gefundenes Land: Belgien (QID: Q31, Property: P495)\n"
     ]
    },
    {
     "name": "stderr",
     "output_type": "stream",
     "text": [
      " 98%|█████████▊| 85/87 [02:30<00:03,  1.77s/it]"
     ]
    },
    {
     "name": "stdout",
     "output_type": "stream",
     "text": [
      "API‑Titel, der rausgeht  → Chow Chow\n",
      "Gefundenes Land: Volksrepublik China (QID: Q148, Property: P495)\n"
     ]
    },
    {
     "name": "stderr",
     "output_type": "stream",
     "text": [
      " 99%|█████████▉| 86/87 [02:32<00:01,  1.89s/it]"
     ]
    },
    {
     "name": "stdout",
     "output_type": "stream",
     "text": [
      "API‑Titel, der rausgeht  → Akita\n",
      "Property P495 nicht gefunden\n",
      "Property P17 nicht gefunden\n",
      "Property P1532 nicht gefunden\n",
      "Property P1001 nicht gefunden\n",
      "Property P27 nicht gefunden\n"
     ]
    },
    {
     "name": "stderr",
     "output_type": "stream",
     "text": [
      "100%|██████████| 87/87 [02:33<00:00,  1.61s/it]"
     ]
    },
    {
     "name": "stdout",
     "output_type": "stream",
     "text": [
      "API‑Titel, der rausgeht  → Bulldog\n",
      "Gefundenes Land: Vereinigtes Königreich (QID: Q145, Property: P495)\n"
     ]
    },
    {
     "name": "stderr",
     "output_type": "stream",
     "text": [
      "100%|██████████| 87/87 [02:35<00:00,  1.79s/it]\n"
     ]
    }
   ],
   "source": [
    "tqdm.pandas()   # Ladebalken\n",
    "df[\"origin_de\"] = df[\"Breed\"].progress_apply(fetch_origin)     # Herkunftsland der Rasse in die neue Spalte origin_country einfügen"
   ]
  },
  {
   "cell_type": "markdown",
   "id": "b417f2c3",
   "metadata": {},
   "source": [
    "#### neuen Datensatz speichern"
   ]
  },
  {
   "cell_type": "code",
   "execution_count": 79,
   "id": "74b7db18",
   "metadata": {},
   "outputs": [],
   "source": [
    "df.to_csv(\"dogs-ranking-dataset-with-origin.csv\", index=False)"
   ]
  },
  {
   "cell_type": "markdown",
   "id": "6c063f33",
   "metadata": {},
   "source": [
    "#### Fehlende Werte finden"
   ]
  },
  {
   "cell_type": "code",
   "execution_count": null,
   "id": "c3d5a8e5",
   "metadata": {},
   "outputs": [],
   "source": [
    "# neue CSV laden\n",
    "df = pd.read_csv(\"dogs-ranking-dataset-with-origin.csv\")\n",
    "\n",
    "# fehlende Werte in Spalte Herkunftsland finden\n",
    "fehlende_herkunft = df[df[\"origin_de\"].isna()]\n",
    "\n",
    "# fehlende Werte in einer Datei speichern zum Nachtragen\n",
    "# auskommentiert, damit meine händischen Änderungen nicht verloren gehen, sollte man das ganze Skript ausführen\n",
    "#fehlende_herkunft.to_csv(\"missing_origin.csv\", index=False)"
   ]
  },
  {
   "cell_type": "markdown",
   "id": "5e9f80c6",
   "metadata": {},
   "source": [
    "##### fehlende Werte händisch ergänzt"
   ]
  },
  {
   "cell_type": "markdown",
   "id": "cd3ce64d",
   "metadata": {},
   "source": [
    "#### beide CSVs laden"
   ]
  },
  {
   "cell_type": "code",
   "execution_count": 101,
   "id": "10f70c66",
   "metadata": {},
   "outputs": [],
   "source": [
    "# Original-CSV laden\n",
    "df_original = pd.read_csv(\"dogs-ranking-dataset-with-origin.csv\")\n",
    "\n",
    "# Ergänzungs-CSV laden\n",
    "df_ergänzung = pd.read_csv(\"missing_origin.csv\")"
   ]
  },
  {
   "cell_type": "markdown",
   "id": "06210734",
   "metadata": {},
   "source": [
    "#### Daten zusammenführen"
   ]
  },
  {
   "cell_type": "code",
   "execution_count": 102,
   "id": "514eb898",
   "metadata": {},
   "outputs": [],
   "source": [
    "# beide DataFrames anhand der Rasse verbinden (left merge, damit alle Original-Daten bleiben)\n",
    "df_merged = pd.merge(df_original, df_ergänzung[['Breed', 'origin_de']], on=\"Breed\", how=\"left\")\n",
    "\n",
    "# Kombinieren, falls eine Spalte leer ist\n",
    "df_merged['origin_de'] = df_merged['origin_de_x'].fillna(df_merged['origin_de_y'])\n",
    "\n",
    "# Danach alte Spalten löschen\n",
    "df_merged = df_merged.drop(columns=['origin_de_x', 'origin_de_y'])"
   ]
  },
  {
   "cell_type": "markdown",
   "id": "5962edab",
   "metadata": {},
   "source": [
    "#### Ergebnis speichern"
   ]
  },
  {
   "cell_type": "code",
   "execution_count": 103,
   "id": "024d0df4",
   "metadata": {},
   "outputs": [],
   "source": [
    "df_merged.to_csv(\"final_dataset.csv\", index=False)"
   ]
  },
  {
   "cell_type": "markdown",
   "id": "a19d704a",
   "metadata": {},
   "source": [
    "#### deutsche Rassennamen hinzufügen"
   ]
  },
  {
   "cell_type": "code",
   "execution_count": 104,
   "id": "b5da6595",
   "metadata": {},
   "outputs": [
    {
     "data": {
      "text/plain": [
       "['Border Terrier',\n",
       " 'Cairn Terrier',\n",
       " 'Siberian Husky',\n",
       " 'Welsh Springer Spaniel',\n",
       " 'English Cocker Spaniel',\n",
       " 'Cocker Spaniel',\n",
       " 'Lhasa Apso',\n",
       " 'English Springer Spaniel',\n",
       " 'Shetland Sheepdog',\n",
       " 'West Highland White Terrier',\n",
       " 'Brittany',\n",
       " 'German Shorthaired Pointer',\n",
       " 'Pointer',\n",
       " 'Tibetan Spaniel',\n",
       " 'Labrador Retriever',\n",
       " 'Bichon Frise',\n",
       " 'Irish Setter',\n",
       " 'Samoyed',\n",
       " 'Shih Tzu',\n",
       " 'Golden Retriever',\n",
       " 'Chesapeake Bay Retriever',\n",
       " 'Papillon',\n",
       " 'Gordon Setter',\n",
       " 'English Setter',\n",
       " 'Pug',\n",
       " 'Affenpinscher',\n",
       " 'Miniature Schnauzer',\n",
       " 'Beagle',\n",
       " 'Border Collie',\n",
       " 'Australian Terrier',\n",
       " 'Whippet',\n",
       " 'Boston Terrier',\n",
       " 'Briard',\n",
       " 'Bedlington Terrier',\n",
       " 'Cavalier King Charles Spaniel',\n",
       " 'Dalmatian',\n",
       " 'Flat-Coated Retriever',\n",
       " 'Belgian Tervuren',\n",
       " 'Basset Hound',\n",
       " 'Poodle',\n",
       " 'Staffordshire Bull Terrier',\n",
       " 'Bouvier des Flandres',\n",
       " 'Pembroke Welsh Corgi',\n",
       " 'Clumber Spaniel',\n",
       " 'Pomeranian',\n",
       " 'Australian Shepherd',\n",
       " 'Pharaoh Hound',\n",
       " 'Dandie Dinmont Terrier',\n",
       " 'Greyhound',\n",
       " 'Saluki',\n",
       " 'Australian Cattle Dog',\n",
       " 'Tibetan Terrier',\n",
       " 'Norfolk Terrier',\n",
       " 'Dachshund',\n",
       " 'Chihuahua',\n",
       " 'Doberman Pinscher',\n",
       " 'English Toy Spaniel',\n",
       " 'Newfoundland',\n",
       " 'Basenji',\n",
       " 'Afghan Hound',\n",
       " 'Old English Sheepdog',\n",
       " 'French Bulldog',\n",
       " 'Bernese Mountain Dog',\n",
       " 'Boxer',\n",
       " 'Brussels Griffon',\n",
       " 'Maltese',\n",
       " 'Giant Schnauzer',\n",
       " 'Rottweiler',\n",
       " 'Yorkshire Terrier',\n",
       " 'Irish Wolfhound',\n",
       " 'Scottish Terrier',\n",
       " 'Bullmastiff',\n",
       " 'German Shepherd',\n",
       " 'Mastiff',\n",
       " 'Great Dane',\n",
       " 'Kerry Blue Terrier',\n",
       " 'Italian Greyhound',\n",
       " 'Pekingese',\n",
       " 'Rhodesian Ridgeback',\n",
       " 'Bull Terrier',\n",
       " 'Saint Bernard',\n",
       " 'Borzoi',\n",
       " 'Alaskan Malamute',\n",
       " 'Bloodhound',\n",
       " 'Chow Chow',\n",
       " 'Akita',\n",
       " 'Bulldog']"
      ]
     },
     "execution_count": 104,
     "metadata": {},
     "output_type": "execute_result"
    }
   ],
   "source": [
    "# englische Rassennamen rausfiltern\n",
    "breeds = list(df_merged[\"Breed\"])\n",
    "breeds"
   ]
  },
  {
   "cell_type": "code",
   "execution_count": 105,
   "id": "b45c2445",
   "metadata": {},
   "outputs": [],
   "source": [
    "# Übersetzung von ChatGPT\n",
    "breed_translation = {\n",
    "    'Border Terrier': 'Border Terrier',\n",
    "    'Cairn Terrier': 'Cairn Terrier',\n",
    "    'Siberian Husky': 'Sibirischer Husky',\n",
    "    'Welsh Springer Spaniel': 'Walisischer Springer Spaniel',\n",
    "    'English Cocker Spaniel': 'Englischer Cocker Spaniel',\n",
    "    'Cocker Spaniel': 'Cocker Spaniel',\n",
    "    'Lhasa Apso': 'Lhasa Apso',\n",
    "    'English Springer Spaniel': 'Englischer Springer Spaniel',\n",
    "    'Shetland Sheepdog': 'Shetland Sheepdog',\n",
    "    'West Highland White Terrier': 'West Highland White Terrier',\n",
    "    'Brittany': 'Epagneul Breton',\n",
    "    'German Shorthaired Pointer': 'Deutsch Kurzhaar',\n",
    "    'Pointer': 'Pointer',\n",
    "    'Tibetan Spaniel': 'Tibetspaniel',\n",
    "    'Labrador Retriever': 'Labrador Retriever',\n",
    "    'Bichon Frise': 'Bichon Frisé',\n",
    "    'Irish Setter': 'Irischer Setter',\n",
    "    'Samoyed': 'Samojede',\n",
    "    'Shih Tzu': 'Shih Tzu',\n",
    "    'Golden Retriever': 'Golden Retriever',\n",
    "    'Chesapeake Bay Retriever': 'Chesapeake Bay Retriever',\n",
    "    'Papillon': 'Papillon',\n",
    "    'Gordon Setter': 'Gordon Setter',\n",
    "    'English Setter': 'Englischer Setter',\n",
    "    'Pug': 'Mops',\n",
    "    'Affenpinscher': 'Affenpinscher',\n",
    "    'Miniature Schnauzer': 'Zwergschnauzer',\n",
    "    'Beagle': 'Beagle',\n",
    "    'Border Collie': 'Border Collie',\n",
    "    'Australian Terrier': 'Australischer Terrier',\n",
    "    'Whippet': 'Whippet',\n",
    "    'Boston Terrier': 'Boston Terrier',\n",
    "    'Briard': 'Briard',\n",
    "    'Bedlington Terrier': 'Bedlington Terrier',\n",
    "    'Cavalier King Charles Spaniel': 'Cavalier King Charles Spaniel',\n",
    "    'Dalmatian': 'Dalmatiner',\n",
    "    'Flat-Coated Retriever': 'Flat-Coated Retriever',\n",
    "    'Belgian Tervuren': 'Belgischer Schäferhund (Tervueren)',\n",
    "    'Basset Hound': 'Basset Hound',\n",
    "    'Poodle': 'Pudel',\n",
    "    'Staffordshire Bull Terrier': 'Staffordshire Bullterrier',\n",
    "    'Bouvier des Flandres': 'Flandrischer Treibhund',\n",
    "    'Pembroke Welsh Corgi': 'Pembroke Welsh Corgi',\n",
    "    'Clumber Spaniel': 'Clumber Spaniel',\n",
    "    'Pomeranian': 'Zwergspitz (Pomeranian)',\n",
    "    'Australian Shepherd': 'Australian Shepherd',\n",
    "    'Pharaoh Hound': 'Pharaonenhund',\n",
    "    'Dandie Dinmont Terrier': 'Dandie Dinmont Terrier',\n",
    "    'Greyhound': 'Greyhound',\n",
    "    'Saluki': 'Saluki',\n",
    "    'Australian Cattle Dog': 'Australischer Treibhund',\n",
    "    'Tibetan Terrier': 'Tibet Terrier',\n",
    "    'Norfolk Terrier': 'Norfolk Terrier',\n",
    "    'Dachshund': 'Dackel (Teckel)',\n",
    "    'Chihuahua': 'Chihuahua',\n",
    "    'Doberman Pinscher': 'Dobermann',\n",
    "    'English Toy Spaniel': 'Englischer Toy Spaniel',\n",
    "    'Newfoundland': 'Neufundländer',\n",
    "    'Basenji': 'Basenji',\n",
    "    'Afghan Hound': 'Afghanischer Windhund',\n",
    "    'Old English Sheepdog': 'Bobtail',\n",
    "    'French Bulldog': 'Französische Bulldogge',\n",
    "    'Bernese Mountain Dog': 'Berner Sennenhund',\n",
    "    'Boxer': 'Boxer',\n",
    "    'Brussels Griffon': 'Brüsseler Griffon',\n",
    "    'Maltese': 'Malteser',\n",
    "    'Giant Schnauzer': 'Riesenschnauzer',\n",
    "    'Rottweiler': 'Rottweiler',\n",
    "    'Yorkshire Terrier': 'Yorkshire Terrier',\n",
    "    'Irish Wolfhound': 'Irischer Wolfshund',\n",
    "    'Scottish Terrier': 'Scottish Terrier',\n",
    "    'Bullmastiff': 'Bullmastiff',\n",
    "    'German Shepherd': 'Deutscher Schäferhund',\n",
    "    'Mastiff': 'Mastiff',\n",
    "    'Great Dane': 'Deutsche Dogge',\n",
    "    'Kerry Blue Terrier': 'Kerry Blue Terrier',\n",
    "    'Italian Greyhound': 'Italienisches Windspiel',\n",
    "    'Pekingese': 'Pekinese',\n",
    "    'Rhodesian Ridgeback': 'Rhodesian Ridgeback',\n",
    "    'Bull Terrier': 'Bullterrier',\n",
    "    'Saint Bernard': 'Bernhardiner',\n",
    "    'Borzoi': 'Russischer Windhund (Borzoi)',\n",
    "    'Alaskan Malamute': 'Alaskan Malamute',\n",
    "    'Bloodhound': 'Bluthund',\n",
    "    'Chow Chow': 'Chow-Chow',\n",
    "    'Akita': 'Akita',\n",
    "    'Bulldog': 'Englische Bulldogge'\n",
    "}"
   ]
  },
  {
   "cell_type": "code",
   "execution_count": 106,
   "id": "e5d8d035",
   "metadata": {},
   "outputs": [
    {
     "data": {
      "text/html": [
       "<div>\n",
       "<style scoped>\n",
       "    .dataframe tbody tr th:only-of-type {\n",
       "        vertical-align: middle;\n",
       "    }\n",
       "\n",
       "    .dataframe tbody tr th {\n",
       "        vertical-align: top;\n",
       "    }\n",
       "\n",
       "    .dataframe thead th {\n",
       "        text-align: right;\n",
       "    }\n",
       "</style>\n",
       "<table border=\"1\" class=\"dataframe\">\n",
       "  <thead>\n",
       "    <tr style=\"text-align: right;\">\n",
       "      <th></th>\n",
       "      <th>Breed</th>\n",
       "      <th>type</th>\n",
       "      <th>score</th>\n",
       "      <th>popularity ranking</th>\n",
       "      <th>size</th>\n",
       "      <th>intelligence</th>\n",
       "      <th>congential ailments</th>\n",
       "      <th>score for kids</th>\n",
       "      <th>size.1</th>\n",
       "      <th>$LIFETIME COST</th>\n",
       "      <th>...</th>\n",
       "      <th>INTELLIGENCE %</th>\n",
       "      <th>LONGEVITY(YEARS)</th>\n",
       "      <th>NUMBER OF GENETIC AILMENTS</th>\n",
       "      <th>GENETIC AILMENTS</th>\n",
       "      <th>PURCHASE PRICE</th>\n",
       "      <th>FOOD COSTS PER YEAR</th>\n",
       "      <th>GROOMING FREQUNCY</th>\n",
       "      <th>SUITABILITY FOR CHILDREN</th>\n",
       "      <th>origin_de</th>\n",
       "      <th>Breed_de</th>\n",
       "    </tr>\n",
       "  </thead>\n",
       "  <tbody>\n",
       "    <tr>\n",
       "      <th>0</th>\n",
       "      <td>Border Terrier</td>\n",
       "      <td>terrier</td>\n",
       "      <td>3.61</td>\n",
       "      <td>61</td>\n",
       "      <td>1</td>\n",
       "      <td>Above average</td>\n",
       "      <td>none</td>\n",
       "      <td>4.99</td>\n",
       "      <td>small</td>\n",
       "      <td>$22,638</td>\n",
       "      <td>...</td>\n",
       "      <td>70%</td>\n",
       "      <td>14.00</td>\n",
       "      <td>0</td>\n",
       "      <td>none</td>\n",
       "      <td>$833</td>\n",
       "      <td>$324</td>\n",
       "      <td>Once a week</td>\n",
       "      <td>1</td>\n",
       "      <td>Vereinigtes Königreich</td>\n",
       "      <td>Border Terrier</td>\n",
       "    </tr>\n",
       "    <tr>\n",
       "      <th>1</th>\n",
       "      <td>Cairn Terrier</td>\n",
       "      <td>terrier</td>\n",
       "      <td>3.53</td>\n",
       "      <td>48</td>\n",
       "      <td>1</td>\n",
       "      <td>Above average</td>\n",
       "      <td>'lion jaw', heart problems</td>\n",
       "      <td>4.91</td>\n",
       "      <td>small</td>\n",
       "      <td>$21,992</td>\n",
       "      <td>...</td>\n",
       "      <td>61%</td>\n",
       "      <td>13.84</td>\n",
       "      <td>2</td>\n",
       "      <td>'lion jaw', heart problems</td>\n",
       "      <td>$435</td>\n",
       "      <td>$324</td>\n",
       "      <td>Once a week</td>\n",
       "      <td>1</td>\n",
       "      <td>Schottland</td>\n",
       "      <td>Cairn Terrier</td>\n",
       "    </tr>\n",
       "    <tr>\n",
       "      <th>2</th>\n",
       "      <td>Siberian Husky</td>\n",
       "      <td>working</td>\n",
       "      <td>3.22</td>\n",
       "      <td>16</td>\n",
       "      <td>2</td>\n",
       "      <td>Average</td>\n",
       "      <td>none</td>\n",
       "      <td>4.72</td>\n",
       "      <td>medium</td>\n",
       "      <td>$22,049</td>\n",
       "      <td>...</td>\n",
       "      <td>45%</td>\n",
       "      <td>12.58</td>\n",
       "      <td>0</td>\n",
       "      <td>none</td>\n",
       "      <td>$650</td>\n",
       "      <td>$466</td>\n",
       "      <td>Once in a few weeks</td>\n",
       "      <td>1</td>\n",
       "      <td>Sibirien</td>\n",
       "      <td>Sibirischer Husky</td>\n",
       "    </tr>\n",
       "    <tr>\n",
       "      <th>3</th>\n",
       "      <td>Welsh Springer Spaniel</td>\n",
       "      <td>sporting</td>\n",
       "      <td>3.34</td>\n",
       "      <td>81</td>\n",
       "      <td>2</td>\n",
       "      <td>Above average</td>\n",
       "      <td>hip problems</td>\n",
       "      <td>4.71</td>\n",
       "      <td>medium</td>\n",
       "      <td>$20,224</td>\n",
       "      <td>...</td>\n",
       "      <td>69%</td>\n",
       "      <td>12.49</td>\n",
       "      <td>1</td>\n",
       "      <td>hip problems</td>\n",
       "      <td>$750</td>\n",
       "      <td>$324</td>\n",
       "      <td>Once a week</td>\n",
       "      <td>1</td>\n",
       "      <td>Wales</td>\n",
       "      <td>Walisischer Springer Spaniel</td>\n",
       "    </tr>\n",
       "    <tr>\n",
       "      <th>4</th>\n",
       "      <td>English Cocker Spaniel</td>\n",
       "      <td>sporting</td>\n",
       "      <td>3.33</td>\n",
       "      <td>51</td>\n",
       "      <td>2</td>\n",
       "      <td>Excellent</td>\n",
       "      <td>none</td>\n",
       "      <td>4.70</td>\n",
       "      <td>medium</td>\n",
       "      <td>$18,993</td>\n",
       "      <td>...</td>\n",
       "      <td>82%</td>\n",
       "      <td>11.66</td>\n",
       "      <td>0</td>\n",
       "      <td>none</td>\n",
       "      <td>$800</td>\n",
       "      <td>$324</td>\n",
       "      <td>Once a week</td>\n",
       "      <td>1</td>\n",
       "      <td>England</td>\n",
       "      <td>Englischer Cocker Spaniel</td>\n",
       "    </tr>\n",
       "  </tbody>\n",
       "</table>\n",
       "<p>5 rows × 21 columns</p>\n",
       "</div>"
      ],
      "text/plain": [
       "                    Breed      type  score  popularity ranking  size  \\\n",
       "0          Border Terrier   terrier   3.61                  61     1   \n",
       "1           Cairn Terrier   terrier   3.53                  48     1   \n",
       "2          Siberian Husky   working   3.22                  16     2   \n",
       "3  Welsh Springer Spaniel  sporting   3.34                  81     2   \n",
       "4  English Cocker Spaniel  sporting   3.33                  51     2   \n",
       "\n",
       "    intelligence           congential ailments  score for kids  size.1  \\\n",
       "0  Above average                          none            4.99   small   \n",
       "1  Above average  'lion jaw', heart problems              4.91   small   \n",
       "2        Average                          none            4.72  medium   \n",
       "3  Above average                  hip problems            4.71  medium   \n",
       "4      Excellent                          none            4.70  medium   \n",
       "\n",
       "  $LIFETIME COST  ...  INTELLIGENCE % LONGEVITY(YEARS)  \\\n",
       "0       $22,638   ...             70%            14.00   \n",
       "1       $21,992   ...             61%            13.84   \n",
       "2       $22,049   ...             45%            12.58   \n",
       "3       $20,224   ...             69%            12.49   \n",
       "4       $18,993   ...             82%            11.66   \n",
       "\n",
       "   NUMBER OF GENETIC AILMENTS              GENETIC AILMENTS PURCHASE PRICE  \\\n",
       "0                           0                          none          $833    \n",
       "1                           2  'lion jaw', heart problems            $435    \n",
       "2                           0                          none          $650    \n",
       "3                           1                  hip problems          $750    \n",
       "4                           0                          none          $800    \n",
       "\n",
       "  FOOD COSTS PER YEAR    GROOMING FREQUNCY SUITABILITY FOR CHILDREN  \\\n",
       "0               $324           Once a week                        1   \n",
       "1               $324           Once a week                        1   \n",
       "2               $466   Once in a few weeks                        1   \n",
       "3               $324           Once a week                        1   \n",
       "4               $324           Once a week                        1   \n",
       "\n",
       "                origin_de                      Breed_de  \n",
       "0  Vereinigtes Königreich                Border Terrier  \n",
       "1              Schottland                 Cairn Terrier  \n",
       "2                Sibirien             Sibirischer Husky  \n",
       "3                   Wales  Walisischer Springer Spaniel  \n",
       "4                 England     Englischer Cocker Spaniel  \n",
       "\n",
       "[5 rows x 21 columns]"
      ]
     },
     "execution_count": 106,
     "metadata": {},
     "output_type": "execute_result"
    }
   ],
   "source": [
    "df_merged[\"Breed_de\"] = df_merged[\"Breed\"].map(breed_translation)\n",
    "df_merged.head(5)"
   ]
  },
  {
   "cell_type": "code",
   "execution_count": 107,
   "id": "237abf1c",
   "metadata": {},
   "outputs": [],
   "source": [
    "df_merged.to_csv(\"final_dataset.csv\", index=False)"
   ]
  },
  {
   "cell_type": "code",
   "execution_count": 108,
   "id": "29c16988",
   "metadata": {},
   "outputs": [
    {
     "data": {
      "text/plain": [
       "['terrier', 'working', 'sporting', 'non-sporting', 'herding', 'toy', 'hound']"
      ]
     },
     "execution_count": 108,
     "metadata": {},
     "output_type": "execute_result"
    }
   ],
   "source": [
    "# type filtern zum übersetzen\n",
    "type = list(df_merged[\"type\"].unique())\n",
    "type"
   ]
  },
  {
   "cell_type": "code",
   "execution_count": 109,
   "id": "37033e91",
   "metadata": {},
   "outputs": [],
   "source": [
    "# Übersetzung der Rassetypen\n",
    "type_translation = {\n",
    "    'terrier': 'Terrier',\n",
    "    'working': 'Gebrauchshund',\n",
    "    'sporting': 'Jagdhund',\n",
    "    'non-sporting': 'Begleithund',\n",
    "    'herding': 'Hütehund',\n",
    "    'toy': 'Zwerghund',\n",
    "    'hound': 'Laufhund'\n",
    "}"
   ]
  },
  {
   "cell_type": "code",
   "execution_count": 110,
   "id": "35fe2242",
   "metadata": {},
   "outputs": [
    {
     "data": {
      "text/html": [
       "<div>\n",
       "<style scoped>\n",
       "    .dataframe tbody tr th:only-of-type {\n",
       "        vertical-align: middle;\n",
       "    }\n",
       "\n",
       "    .dataframe tbody tr th {\n",
       "        vertical-align: top;\n",
       "    }\n",
       "\n",
       "    .dataframe thead th {\n",
       "        text-align: right;\n",
       "    }\n",
       "</style>\n",
       "<table border=\"1\" class=\"dataframe\">\n",
       "  <thead>\n",
       "    <tr style=\"text-align: right;\">\n",
       "      <th></th>\n",
       "      <th>Breed</th>\n",
       "      <th>type</th>\n",
       "      <th>score</th>\n",
       "      <th>popularity ranking</th>\n",
       "      <th>size</th>\n",
       "      <th>intelligence</th>\n",
       "      <th>congential ailments</th>\n",
       "      <th>score for kids</th>\n",
       "      <th>size.1</th>\n",
       "      <th>$LIFETIME COST</th>\n",
       "      <th>...</th>\n",
       "      <th>LONGEVITY(YEARS)</th>\n",
       "      <th>NUMBER OF GENETIC AILMENTS</th>\n",
       "      <th>GENETIC AILMENTS</th>\n",
       "      <th>PURCHASE PRICE</th>\n",
       "      <th>FOOD COSTS PER YEAR</th>\n",
       "      <th>GROOMING FREQUNCY</th>\n",
       "      <th>SUITABILITY FOR CHILDREN</th>\n",
       "      <th>origin_de</th>\n",
       "      <th>Breed_de</th>\n",
       "      <th>type_de</th>\n",
       "    </tr>\n",
       "  </thead>\n",
       "  <tbody>\n",
       "    <tr>\n",
       "      <th>0</th>\n",
       "      <td>Border Terrier</td>\n",
       "      <td>terrier</td>\n",
       "      <td>3.61</td>\n",
       "      <td>61</td>\n",
       "      <td>1</td>\n",
       "      <td>Above average</td>\n",
       "      <td>none</td>\n",
       "      <td>4.99</td>\n",
       "      <td>small</td>\n",
       "      <td>$22,638</td>\n",
       "      <td>...</td>\n",
       "      <td>14.0</td>\n",
       "      <td>0</td>\n",
       "      <td>none</td>\n",
       "      <td>$833</td>\n",
       "      <td>$324</td>\n",
       "      <td>Once a week</td>\n",
       "      <td>1</td>\n",
       "      <td>Vereinigtes Königreich</td>\n",
       "      <td>Border Terrier</td>\n",
       "      <td>Terrier</td>\n",
       "    </tr>\n",
       "  </tbody>\n",
       "</table>\n",
       "<p>1 rows × 22 columns</p>\n",
       "</div>"
      ],
      "text/plain": [
       "            Breed     type  score  popularity ranking  size   intelligence  \\\n",
       "0  Border Terrier  terrier   3.61                  61     1  Above average   \n",
       "\n",
       "  congential ailments  score for kids size.1 $LIFETIME COST  ...  \\\n",
       "0                none            4.99  small       $22,638   ...   \n",
       "\n",
       "   LONGEVITY(YEARS) NUMBER OF GENETIC AILMENTS  GENETIC AILMENTS  \\\n",
       "0              14.0                          0              none   \n",
       "\n",
       "   PURCHASE PRICE FOOD COSTS PER YEAR GROOMING FREQUNCY  \\\n",
       "0           $833                $324        Once a week   \n",
       "\n",
       "  SUITABILITY FOR CHILDREN               origin_de        Breed_de  type_de  \n",
       "0                        1  Vereinigtes Königreich  Border Terrier  Terrier  \n",
       "\n",
       "[1 rows x 22 columns]"
      ]
     },
     "execution_count": 110,
     "metadata": {},
     "output_type": "execute_result"
    }
   ],
   "source": [
    "# neue Spalte mit deutschen type erstellen\n",
    "df_merged[\"type_de\"] = df_merged[\"type\"].map(type_translation)\n",
    "df_merged.head(1)"
   ]
  },
  {
   "cell_type": "code",
   "execution_count": 111,
   "id": "d259a4f3",
   "metadata": {},
   "outputs": [],
   "source": [
    "df_merged.to_csv(\"final_dataset.csv\", index=False)"
   ]
  }
 ],
 "metadata": {
  "kernelspec": {
   "display_name": "Python 3",
   "language": "python",
   "name": "python3"
  },
  "language_info": {
   "codemirror_mode": {
    "name": "ipython",
    "version": 3
   },
   "file_extension": ".py",
   "mimetype": "text/x-python",
   "name": "python",
   "nbconvert_exporter": "python",
   "pygments_lexer": "ipython3",
   "version": "3.13.1"
  }
 },
 "nbformat": 4,
 "nbformat_minor": 5
}
